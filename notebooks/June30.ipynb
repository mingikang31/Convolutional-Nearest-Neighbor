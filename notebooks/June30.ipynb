{
 "cells": [
  {
   "cell_type": "code",
   "execution_count": 32,
   "metadata": {},
   "outputs": [
    {
     "name": "stdout",
     "output_type": "stream",
     "text": [
      "Input:  torch.Size([32, 12, 40])\n",
      "Upsampled:  torch.Size([32, 3, 160])\n",
      "Downsampled:  torch.Size([32, 12, 40])\n",
      "Inverse module works.\n"
     ]
    }
   ],
   "source": [
    "import sys \n",
    "sys.path.append(\"../\")\n",
    "\n",
    "import torch \n",
    "import torch.nn\n",
    "\n",
    "from Conv1d_NN import Conv1d_NN\n",
    "\n",
    "from models import * \n",
    "from train import * \n",
    "from dataset import * \n",
    "from pixelshuffle import * "
   ]
  },
  {
   "cell_type": "markdown",
   "metadata": {},
   "source": [
    "# Pixel shuffle for 1D "
   ]
  },
  {
   "cell_type": "code",
   "execution_count": 2,
   "metadata": {},
   "outputs": [
    {
     "name": "stdout",
     "output_type": "stream",
     "text": [
      "torch.Size([1, 32, 40, 40])\n",
      "torch.Size([1, 8, 80, 80])\n"
     ]
    }
   ],
   "source": [
    "import torch \n",
    "from torch import nn \n",
    "\n",
    "x = torch.rand(1, 32, 40, 40)\n",
    "upscale_factor = 2\n",
    "\n",
    "y = nn.functional.pixel_shuffle(x, upscale_factor)\n",
    "\n",
    "print(x.shape)\n",
    "print(y.shape)"
   ]
  },
  {
   "cell_type": "markdown",
   "metadata": {},
   "source": [
    "# Neural Network testing with 5 nearest Neighbors"
   ]
  },
  {
   "cell_type": "markdown",
   "metadata": {},
   "source": [
    "### Noisy Data"
   ]
  },
  {
   "cell_type": "code",
   "execution_count": 3,
   "metadata": {},
   "outputs": [],
   "source": [
    "# Regular Noise Dataset\n",
    "dataset = MNIST1D_Dataset() \n",
    "data = dataset.make_dataset()"
   ]
  },
  {
   "cell_type": "markdown",
   "metadata": {},
   "source": [
    "### Less Noisy Data"
   ]
  },
  {
   "cell_type": "code",
   "execution_count": 4,
   "metadata": {},
   "outputs": [],
   "source": [
    "less_noise_dataset = MNIST1D_Dataset()\n",
    "less_noise_dataset.data_args.corr_noise_scale = 0.1\n",
    "less_noise_dataset.data_args.iid_noise_scale = 0.01\n",
    "\n",
    "less_noise_data = less_noise_dataset.make_dataset()"
   ]
  },
  {
   "cell_type": "markdown",
   "metadata": {},
   "source": [
    "### Conv1d Regular Convolution Kernel = 5"
   ]
  },
  {
   "cell_type": "code",
   "execution_count": 21,
   "metadata": {},
   "outputs": [],
   "source": [
    "reg_model = nn.Sequential(\n",
    "   nn.Conv1d(in_channels=1, out_channels=32, kernel_size=5),\n",
    "   nn.ReLU(), \n",
    "   nn.Conv1d(in_channels=32, out_channels=32, kernel_size=5),\n",
    "   nn.ReLU(),\n",
    "   nn.Conv1d(in_channels=32, out_channels=32, kernel_size=5),\n",
    "   nn.ReLU(), \n",
    "   nn.Flatten(), \n",
    "   nn.Linear(896, 10)\n",
    ")\n",
    "\n",
    "# Get Summary \n",
    "from torchsummary import summary\n",
    "# summary(reg_model, (1, 40), device='cpu')"
   ]
  },
  {
   "cell_type": "code",
   "execution_count": 6,
   "metadata": {},
   "outputs": [
    {
     "name": "stdout",
     "output_type": "stream",
     "text": [
      "step 1000, dt 3.35s, train_loss 4.085e-04, test_loss 1.568e-01, train_acc 100.0, test_acc 96.9\n",
      "step 2000, dt 2.89s, train_loss 5.531e-05, test_loss 1.548e-01, train_acc 100.0, test_acc 97.0\n",
      "step 3000, dt 3.02s, train_loss 2.135e-05, test_loss 1.717e-01, train_acc 100.0, test_acc 96.8\n",
      "step 4000, dt 2.90s, train_loss 1.068e-05, test_loss 1.805e-01, train_acc 100.0, test_acc 96.9\n",
      "step 5000, dt 3.00s, train_loss 5.890e-06, test_loss 1.878e-01, train_acc 100.0, test_acc 96.7\n",
      "step 6000, dt 2.83s, train_loss 3.352e-06, test_loss 1.952e-01, train_acc 100.0, test_acc 96.7\n"
     ]
    }
   ],
   "source": [
    "reg_result = train_model(data, reg_model, dataset.model_args)"
   ]
  },
  {
   "cell_type": "markdown",
   "metadata": {},
   "source": [
    "### Branching Network with 5 nearest neighbors(K)\n"
   ]
  },
  {
   "cell_type": "code",
   "execution_count": 23,
   "metadata": {},
   "outputs": [],
   "source": [
    "from models import BranchingNetwork\n",
    "\n",
    "branching_model = nn.Sequential(\n",
    "   BranchingNetwork(in_ch = 1, out_ch1 = 16, out_ch2=16, kernel_size = 5), \n",
    "   BranchingNetwork(in_ch = 16, out_ch1 = 8, out_ch2=8, kernel_size = 5),\n",
    "   BranchingNetwork(in_ch = 8, out_ch1 = 4, out_ch2=4, kernel_size = 5),\n",
    "   nn.Flatten(), \n",
    "   nn.Linear(160, 10)\n",
    ")\n",
    "\n",
    "\n",
    "# Get summary\n",
    "from torchsummary import summary \n",
    "# summary(branching_model, (1, 40), device='cpu')"
   ]
  },
  {
   "cell_type": "code",
   "execution_count": 24,
   "metadata": {},
   "outputs": [
    {
     "name": "stdout",
     "output_type": "stream",
     "text": [
      "step 1000, dt 25.76s, train_loss 1.018e-01, test_loss 3.166e-01, train_acc 94.8, test_acc 91.9\n",
      "step 2000, dt 24.62s, train_loss 6.220e-02, test_loss 3.138e-01, train_acc 95.5, test_acc 92.4\n",
      "step 3000, dt 24.29s, train_loss 5.159e-02, test_loss 2.283e-01, train_acc 97.7, test_acc 94.4\n",
      "step 4000, dt 23.87s, train_loss 1.929e-02, test_loss 2.250e-01, train_acc 98.0, test_acc 94.9\n",
      "step 5000, dt 23.67s, train_loss 7.971e-02, test_loss 2.652e-01, train_acc 98.5, test_acc 94.6\n",
      "step 6000, dt 21.63s, train_loss 1.011e-02, test_loss 2.590e-01, train_acc 97.0, test_acc 93.6\n"
     ]
    }
   ],
   "source": [
    "branching_results = train_model(data, branching_model, dataset.model_args)"
   ]
  },
  {
   "cell_type": "markdown",
   "metadata": {},
   "source": [
    "## Regular CNN + Branching NN with different K"
   ]
  },
  {
   "cell_type": "code",
   "execution_count": 25,
   "metadata": {},
   "outputs": [],
   "source": [
    "# Regular CNN Models \n",
    "\n",
    "reg_model_1 = nn.Sequential(\n",
    "   nn.Conv1d(in_channels=1, out_channels=32, kernel_size=1),\n",
    "   nn.ReLU(), \n",
    "   nn.Conv1d(in_channels=32, out_channels=32, kernel_size=1),\n",
    "   nn.ReLU(),\n",
    "   nn.Conv1d(in_channels=32, out_channels=32, kernel_size=1),\n",
    "   nn.ReLU(), \n",
    "   nn.Flatten(), \n",
    "   nn.Linear(1280, 10)\n",
    ")\n",
    "\n",
    "reg_model_2 = nn.Sequential(\n",
    "   nn.Conv1d(in_channels=1, out_channels=32, kernel_size=2),\n",
    "   nn.ReLU(), \n",
    "   nn.Conv1d(in_channels=32, out_channels=32, kernel_size=2),\n",
    "   nn.ReLU(),\n",
    "   nn.Conv1d(in_channels=32, out_channels=32, kernel_size=2),\n",
    "   nn.ReLU(), \n",
    "   nn.Flatten(), \n",
    "   nn.Linear(1184, 10)\n",
    ")\n",
    "\n",
    "\n",
    "reg_model_3 = nn.Sequential(\n",
    "   nn.Conv1d(in_channels=1, out_channels=32, kernel_size=3),\n",
    "   nn.ReLU(), \n",
    "   nn.Conv1d(in_channels=32, out_channels=32, kernel_size=3),\n",
    "   nn.ReLU(),\n",
    "   nn.Conv1d(in_channels=32, out_channels=32, kernel_size=3),\n",
    "   nn.ReLU(), \n",
    "   nn.Flatten(), \n",
    "   nn.Linear(1088, 10)\n",
    ")"
   ]
  },
  {
   "cell_type": "code",
   "execution_count": 26,
   "metadata": {},
   "outputs": [],
   "source": [
    "# summary(reg_model_1, (1, 40), device='cpu')"
   ]
  },
  {
   "cell_type": "code",
   "execution_count": 27,
   "metadata": {},
   "outputs": [],
   "source": [
    "# summary(reg_model_2, (1, 40), device='cpu')\n"
   ]
  },
  {
   "cell_type": "code",
   "execution_count": 28,
   "metadata": {},
   "outputs": [],
   "source": [
    "# summary(reg_model_3, (1, 40), device='cpu')"
   ]
  },
  {
   "cell_type": "code",
   "execution_count": 14,
   "metadata": {},
   "outputs": [
    {
     "name": "stdout",
     "output_type": "stream",
     "text": [
      "Regular CNN with kernel size 1\n",
      "step 1000, dt 2.94s, train_loss 9.094e-01, test_loss 1.356e+00, train_acc 68.5, test_acc 48.7\n",
      "step 2000, dt 2.77s, train_loss 7.466e-01, test_loss 1.643e+00, train_acc 71.1, test_acc 46.9\n",
      "step 3000, dt 2.77s, train_loss 6.170e-01, test_loss 2.116e+00, train_acc 71.1, test_acc 47.2\n",
      "step 4000, dt 2.74s, train_loss 7.430e-01, test_loss 2.120e+00, train_acc 73.8, test_acc 44.5\n",
      "step 5000, dt 2.74s, train_loss 5.560e-01, test_loss 2.672e+00, train_acc 77.5, test_acc 44.1\n",
      "step 6000, dt 2.72s, train_loss 5.798e-01, test_loss 2.618e+00, train_acc 74.8, test_acc 44.7\n",
      "\n",
      "Regular CNN with kernel size 2\n",
      "step 1000, dt 2.93s, train_loss 2.814e-02, test_loss 4.549e-01, train_acc 99.2, test_acc 91.2\n",
      "step 2000, dt 2.76s, train_loss 6.512e-02, test_loss 6.773e-01, train_acc 97.8, test_acc 89.5\n",
      "step 3000, dt 2.78s, train_loss 9.763e-05, test_loss 4.715e-01, train_acc 100.0, test_acc 92.9\n",
      "step 4000, dt 2.75s, train_loss 4.325e-05, test_loss 4.959e-01, train_acc 100.0, test_acc 92.3\n",
      "step 5000, dt 2.76s, train_loss 2.259e-05, test_loss 5.161e-01, train_acc 100.0, test_acc 92.4\n",
      "step 6000, dt 2.77s, train_loss 1.285e-05, test_loss 5.337e-01, train_acc 100.0, test_acc 92.7\n",
      "\n",
      "Regular CNN with kernel size 3\n",
      "step 1000, dt 2.93s, train_loss 1.008e-03, test_loss 2.899e-01, train_acc 99.5, test_acc 94.7\n",
      "step 2000, dt 2.79s, train_loss 1.526e-02, test_loss 2.142e-01, train_acc 99.8, test_acc 96.1\n",
      "step 3000, dt 2.82s, train_loss 6.445e-05, test_loss 2.637e-01, train_acc 100.0, test_acc 95.6\n",
      "step 4000, dt 2.79s, train_loss 2.893e-05, test_loss 2.794e-01, train_acc 100.0, test_acc 95.7\n",
      "step 5000, dt 2.78s, train_loss 1.476e-05, test_loss 2.922e-01, train_acc 100.0, test_acc 96.0\n",
      "step 6000, dt 2.79s, train_loss 8.090e-06, test_loss 3.036e-01, train_acc 100.0, test_acc 95.9\n",
      "\n"
     ]
    }
   ],
   "source": [
    "# Results for Regular CNN models\n",
    "\n",
    "print(\"Regular CNN with kernel size 1\")\n",
    "reg_result_1 = train_model(data, reg_model_1, dataset.model_args)\n",
    "print()\n",
    "\n",
    "print(\"Regular CNN with kernel size 2\")\n",
    "reg_result_2 = train_model(data, reg_model_2, dataset.model_args)\n",
    "print()\n",
    "\n",
    "print(\"Regular CNN with kernel size 3\")\n",
    "reg_result_3 = train_model(data, reg_model_3, dataset.model_args)\n",
    "print()"
   ]
  },
  {
   "cell_type": "code",
   "execution_count": 29,
   "metadata": {},
   "outputs": [],
   "source": [
    "# Models for Branching Network \n",
    "branching_model_1 = nn.Sequential(\n",
    "   BranchingNetwork(in_ch = 1, out_ch1 = 16, out_ch2=16, kernel_size = 1), \n",
    "   BranchingNetwork(in_ch = 16, out_ch1 = 8, out_ch2=8, kernel_size = 1),\n",
    "   BranchingNetwork(in_ch = 8, out_ch1 = 4, out_ch2=4, kernel_size = 1),\n",
    "   nn.Flatten(), \n",
    "   nn.Linear(160, 10)\n",
    ")\n",
    "\n",
    "branching_model_2 = nn.Sequential(\n",
    "   BranchingNetwork(in_ch = 1, out_ch1 = 16, out_ch2=16, kernel_size = 2), \n",
    "   BranchingNetwork(in_ch = 16, out_ch1 = 8, out_ch2=8, kernel_size = 2),\n",
    "   BranchingNetwork(in_ch = 8, out_ch1 = 4, out_ch2=4, kernel_size = 2),\n",
    "   nn.Flatten(), \n",
    "   nn.Linear(160, 10)\n",
    ")\n",
    "\n",
    "branching_model_3 = nn.Sequential(\n",
    "   BranchingNetwork(in_ch = 1, out_ch1 = 16, out_ch2=16, kernel_size = 3), \n",
    "   BranchingNetwork(in_ch = 16, out_ch1 = 8, out_ch2=8, kernel_size = 3),\n",
    "   BranchingNetwork(in_ch = 8, out_ch1 = 4, out_ch2=4, kernel_size = 3),\n",
    "   nn.Flatten(), \n",
    "   nn.Linear(160, 10)\n",
    ")\n"
   ]
  },
  {
   "cell_type": "code",
   "execution_count": 30,
   "metadata": {},
   "outputs": [],
   "source": [
    "# summary(branching_model_1, (1, 40), device='cpu')"
   ]
  },
  {
   "cell_type": "code",
   "execution_count": 31,
   "metadata": {},
   "outputs": [],
   "source": [
    "# summary(branching_model_2, (1, 40), device='cpu')"
   ]
  },
  {
   "cell_type": "code",
   "execution_count": 20,
   "metadata": {},
   "outputs": [],
   "source": [
    "# summary(branching_model_3, (1, 40), device='cpu')"
   ]
  },
  {
   "cell_type": "code",
   "execution_count": 19,
   "metadata": {},
   "outputs": [
    {
     "name": "stdout",
     "output_type": "stream",
     "text": [
      "Branching with K = 1\n",
      "step 1000, dt 23.63s, train_loss 1.129e+00, test_loss 1.230e+00, train_acc 60.8, test_acc 49.7\n",
      "step 2000, dt 21.16s, train_loss 1.096e+00, test_loss 1.301e+00, train_acc 61.8, test_acc 48.4\n",
      "step 3000, dt 21.45s, train_loss 1.045e+00, test_loss 1.250e+00, train_acc 64.4, test_acc 51.5\n",
      "step 4000, dt 21.55s, train_loss 9.999e-01, test_loss 1.246e+00, train_acc 64.0, test_acc 49.6\n",
      "step 5000, dt 20.97s, train_loss 9.725e-01, test_loss 1.263e+00, train_acc 64.2, test_acc 49.2\n",
      "step 6000, dt 22.52s, train_loss 9.514e-01, test_loss 1.264e+00, train_acc 64.2, test_acc 49.6\n",
      "\n",
      "Branching with K = 2\n",
      "step 1000, dt 24.55s, train_loss 3.397e-01, test_loss 6.626e-01, train_acc 85.5, test_acc 79.5\n",
      "step 2000, dt 24.04s, train_loss 1.860e-01, test_loss 5.470e-01, train_acc 94.2, test_acc 86.9\n",
      "step 3000, dt 24.11s, train_loss 2.425e-01, test_loss 6.499e-01, train_acc 94.3, test_acc 86.0\n",
      "step 4000, dt 24.16s, train_loss 1.487e-01, test_loss 6.117e-01, train_acc 95.0, test_acc 88.2\n",
      "step 5000, dt 23.94s, train_loss 1.175e-01, test_loss 5.121e-01, train_acc 96.8, test_acc 88.3\n",
      "step 6000, dt 24.52s, train_loss 1.663e-01, test_loss 6.294e-01, train_acc 95.6, test_acc 87.5\n",
      "\n",
      "Branching with K = 3\n",
      "step 1000, dt 23.73s, train_loss 1.516e-01, test_loss 4.061e-01, train_acc 92.5, test_acc 86.8\n",
      "step 2000, dt 23.27s, train_loss 1.368e-01, test_loss 4.083e-01, train_acc 95.8, test_acc 90.1\n",
      "step 3000, dt 22.74s, train_loss 2.676e-02, test_loss 4.344e-01, train_acc 95.6, test_acc 89.7\n",
      "step 4000, dt 23.23s, train_loss 1.014e-01, test_loss 4.568e-01, train_acc 97.1, test_acc 91.7\n",
      "step 5000, dt 23.58s, train_loss 6.152e-02, test_loss 4.056e-01, train_acc 98.0, test_acc 92.3\n",
      "step 6000, dt 22.77s, train_loss 1.670e-02, test_loss 5.160e-01, train_acc 97.4, test_acc 91.9\n",
      "\n"
     ]
    }
   ],
   "source": [
    "# Results for Branching models\n",
    "\n",
    "print(\"Branching with K = 1\")\n",
    "branching_results_1 = train_model(data, branching_model_1, dataset.model_args)\n",
    "print()\n",
    "\n",
    "print(\"Branching with K = 2\")\n",
    "branching_results_2 = train_model(data, branching_model_2, dataset.model_args)\n",
    "print()\n",
    "\n",
    "print(\"Branching with K = 3\")\n",
    "branching_results_3 = train_model(data, branching_model_3, dataset.model_args)\n",
    "print()"
   ]
  },
  {
   "cell_type": "markdown",
   "metadata": {},
   "source": [
    "## Pixel shuffle NN"
   ]
  },
  {
   "cell_type": "code",
   "execution_count": null,
   "metadata": {},
   "outputs": [],
   "source": [
    "pixelshuffle_model = nn.Sequential(\n",
    "   \n",
    "   \n",
    "   \n",
    ")"
   ]
  }
 ],
 "metadata": {
  "kernelspec": {
   "display_name": "MK",
   "language": "python",
   "name": "python3"
  },
  "language_info": {
   "codemirror_mode": {
    "name": "ipython",
    "version": 3
   },
   "file_extension": ".py",
   "mimetype": "text/x-python",
   "name": "python",
   "nbconvert_exporter": "python",
   "pygments_lexer": "ipython3",
   "version": "3.12.0"
  }
 },
 "nbformat": 4,
 "nbformat_minor": 2
}
