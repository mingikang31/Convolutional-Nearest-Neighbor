{
 "cells": [
  {
   "cell_type": "markdown",
   "metadata": {},
   "source": [
    "## Testing random sample Conv1d_NN"
   ]
  },
  {
   "cell_type": "code",
   "execution_count": 1,
   "metadata": {},
   "outputs": [
    {
     "name": "stdout",
     "output_type": "stream",
     "text": [
      "torch.Size([32, 32, 40])\n"
     ]
    }
   ],
   "source": [
    "import sys \n",
    "sys.path.append(\"../\")\n",
    "\n",
    "import torch \n",
    "import torch.nn\n",
    "\n",
    "from Conv1d_NN import Conv1d_NN\n",
    "\n",
    "from models import * \n",
    "from train import * \n",
    "from dataset import * \n"
   ]
  },
  {
   "cell_type": "code",
   "execution_count": 2,
   "metadata": {},
   "outputs": [],
   "source": [
    "# Regular Noise Dataset\n",
    "dataset = MNIST1D_Dataset() \n",
    "data = dataset.make_dataset()"
   ]
  },
  {
   "cell_type": "markdown",
   "metadata": {},
   "source": [
    "### Similarity"
   ]
  },
  {
   "cell_type": "code",
   "execution_count": 3,
   "metadata": {},
   "outputs": [
    {
     "name": "stdout",
     "output_type": "stream",
     "text": [
      "----------------------------------------------------------------\n",
      "        Layer (type)               Output Shape         Param #\n",
      "================================================================\n",
      "            Conv1d-1               [-1, 32, 40]             128\n",
      "              ReLU-2               [-1, 32, 40]               0\n",
      "         Conv1d_NN-3               [-1, 32, 40]               0\n",
      "              ReLU-4               [-1, 32, 40]               0\n",
      "            Conv1d-5               [-1, 32, 40]           3,104\n",
      "              ReLU-6               [-1, 32, 40]               0\n",
      "         Conv1d_NN-7               [-1, 32, 40]               0\n",
      "              ReLU-8               [-1, 32, 40]               0\n",
      "            Conv1d-9               [-1, 32, 40]           3,104\n",
      "             ReLU-10               [-1, 32, 40]               0\n",
      "        Conv1d_NN-11               [-1, 32, 40]               0\n",
      "             ReLU-12               [-1, 32, 40]               0\n",
      "          Flatten-13                 [-1, 1280]               0\n",
      "           Linear-14                   [-1, 10]          12,810\n",
      "================================================================\n",
      "Total params: 19,146\n",
      "Trainable params: 19,146\n",
      "Non-trainable params: 0\n",
      "----------------------------------------------------------------\n",
      "Input size (MB): 0.00\n",
      "Forward/backward pass size (MB): 0.13\n",
      "Params size (MB): 0.07\n",
      "Estimated Total Size (MB): 0.20\n",
      "----------------------------------------------------------------\n"
     ]
    }
   ],
   "source": [
    "# Regular Conv1d_NN\n",
    "model1 = nn.Sequential(\n",
    "    Conv1d_NN(in_channels=1, out_channels =32, K = 3, samples='8', magnitude_type=\"similarity\"), \n",
    "    nn.ReLU(), \n",
    "    Conv1d_NN(in_channels=32, out_channels=32, K = 3, samples='8', magnitude_type=\"similarity\"),  \n",
    "    nn.ReLU(),\n",
    "    Conv1d_NN(in_channels=32, out_channels=32, K = 3, samples='8', magnitude_type=\"similarity\"),\n",
    "    nn.ReLU(),\n",
    "    nn.Flatten(), \n",
    "    nn.Linear(1280, 10)\n",
    ")\n",
    "\n",
    "# Get summary \n",
    "from torchsummary import summary\n",
    "summary(model1, (1, 40), device='cpu')"
   ]
  },
  {
   "cell_type": "code",
   "execution_count": 4,
   "metadata": {},
   "outputs": [
    {
     "name": "stdout",
     "output_type": "stream",
     "text": [
      "----------------------------------------------------------------\n",
      "        Layer (type)               Output Shape         Param #\n",
      "================================================================\n",
      "            Conv1d-1               [-1, 32, 40]             128\n",
      "              ReLU-2               [-1, 32, 40]               0\n",
      "         Conv1d_NN-3               [-1, 32, 40]               0\n",
      "              ReLU-4               [-1, 32, 40]               0\n",
      "            Conv1d-5               [-1, 32, 40]           3,104\n",
      "              ReLU-6               [-1, 32, 40]               0\n",
      "         Conv1d_NN-7               [-1, 32, 40]               0\n",
      "              ReLU-8               [-1, 32, 40]               0\n",
      "            Conv1d-9               [-1, 32, 40]           3,104\n",
      "             ReLU-10               [-1, 32, 40]               0\n",
      "        Conv1d_NN-11               [-1, 32, 40]               0\n",
      "             ReLU-12               [-1, 32, 40]               0\n",
      "          Flatten-13                 [-1, 1280]               0\n",
      "           Linear-14                   [-1, 10]          12,810\n",
      "================================================================\n",
      "Total params: 19,146\n",
      "Trainable params: 19,146\n",
      "Non-trainable params: 0\n",
      "----------------------------------------------------------------\n",
      "Input size (MB): 0.00\n",
      "Forward/backward pass size (MB): 0.13\n",
      "Params size (MB): 0.07\n",
      "Estimated Total Size (MB): 0.20\n",
      "----------------------------------------------------------------\n"
     ]
    }
   ],
   "source": [
    "# Regular Conv1d_NN\n",
    "model2 = nn.Sequential(\n",
    "    Conv1d_NN(in_channels=1, out_channels =32, K = 3, samples=\"all\", magnitude_type=\"similarity\"),  # Change the number of input channels to 1\n",
    "    nn.ReLU(), \n",
    "    Conv1d_NN(in_channels=32, out_channels=32, K = 3, samples=\"all\", magnitude_type=\"similarity\"),  # Change the number of input channels to 1\n",
    "    nn.ReLU(),\n",
    "    Conv1d_NN(in_channels=32, out_channels=32, K = 3, samples=\"all\", magnitude_type=\"similarity\"),  # Change the number of input channels to 1\n",
    "    nn.ReLU(),\n",
    "    nn.Flatten(), \n",
    "    nn.Linear(1280, 10)\n",
    ")\n",
    "\n",
    "# Get summary \n",
    "from torchsummary import summary\n",
    "summary(model1, (1, 40), device='cpu')"
   ]
  },
  {
   "cell_type": "code",
   "execution_count": 5,
   "metadata": {},
   "outputs": [
    {
     "name": "stdout",
     "output_type": "stream",
     "text": [
      "Sampled Conv1d_NN\n",
      "step 1000, dt 27.04s, train_loss 1.079e+00, test_loss 1.306e+00, train_acc 59.6, test_acc 47.6\n",
      "step 2000, dt 22.65s, train_loss 1.015e+00, test_loss 1.297e+00, train_acc 63.3, test_acc 50.8\n",
      "step 3000, dt 21.58s, train_loss 9.526e-01, test_loss 1.334e+00, train_acc 64.0, test_acc 48.9\n",
      "step 4000, dt 22.64s, train_loss 8.912e-01, test_loss 1.424e+00, train_acc 64.7, test_acc 48.6\n",
      "step 5000, dt 25.24s, train_loss 9.519e-01, test_loss 1.455e+00, train_acc 62.4, test_acc 48.5\n",
      "step 6000, dt 24.82s, train_loss 9.372e-01, test_loss 1.506e+00, train_acc 64.5, test_acc 46.7\n"
     ]
    }
   ],
   "source": [
    "print(\"Sampled Conv1d_NN\")\n",
    "results1 = train_model(data, model1, dataset.model_args)"
   ]
  },
  {
   "cell_type": "code",
   "execution_count": 6,
   "metadata": {},
   "outputs": [
    {
     "name": "stdout",
     "output_type": "stream",
     "text": [
      "Regular Conv1d_NN Results\n",
      "step 1000, dt 19.62s, train_loss 1.847e+00, test_loss 2.056e+00, train_acc 25.9, test_acc 19.6\n",
      "step 2000, dt 17.34s, train_loss 1.861e+00, test_loss 2.085e+00, train_acc 27.4, test_acc 20.4\n",
      "step 3000, dt 17.26s, train_loss 1.845e+00, test_loss 2.064e+00, train_acc 27.7, test_acc 21.4\n",
      "step 4000, dt 17.34s, train_loss 1.827e+00, test_loss 2.076e+00, train_acc 27.9, test_acc 20.6\n",
      "step 5000, dt 17.32s, train_loss 1.837e+00, test_loss 2.095e+00, train_acc 28.1, test_acc 21.0\n",
      "step 6000, dt 17.31s, train_loss 1.830e+00, test_loss 2.108e+00, train_acc 28.3, test_acc 21.5\n"
     ]
    }
   ],
   "source": [
    "print(\"Regular Conv1d_NN Results\")\n",
    "results2 = train_model(data, model2, dataset.model_args)"
   ]
  },
  {
   "cell_type": "markdown",
   "metadata": {},
   "source": [
    "### Distance"
   ]
  },
  {
   "cell_type": "code",
   "execution_count": 11,
   "metadata": {},
   "outputs": [
    {
     "name": "stdout",
     "output_type": "stream",
     "text": [
      "----------------------------------------------------------------\n",
      "        Layer (type)               Output Shape         Param #\n",
      "================================================================\n",
      "            Conv1d-1               [-1, 32, 40]             128\n",
      "              ReLU-2               [-1, 32, 40]               0\n",
      "         Conv1d_NN-3               [-1, 32, 40]               0\n",
      "              ReLU-4               [-1, 32, 40]               0\n",
      "            Conv1d-5               [-1, 32, 40]           3,104\n",
      "              ReLU-6               [-1, 32, 40]               0\n",
      "         Conv1d_NN-7               [-1, 32, 40]               0\n",
      "              ReLU-8               [-1, 32, 40]               0\n",
      "            Conv1d-9               [-1, 32, 40]           3,104\n",
      "             ReLU-10               [-1, 32, 40]               0\n",
      "        Conv1d_NN-11               [-1, 32, 40]               0\n",
      "             ReLU-12               [-1, 32, 40]               0\n",
      "          Flatten-13                 [-1, 1280]               0\n",
      "           Linear-14                   [-1, 10]          12,810\n",
      "================================================================\n",
      "Total params: 19,146\n",
      "Trainable params: 19,146\n",
      "Non-trainable params: 0\n",
      "----------------------------------------------------------------\n",
      "Input size (MB): 0.00\n",
      "Forward/backward pass size (MB): 0.13\n",
      "Params size (MB): 0.07\n",
      "Estimated Total Size (MB): 0.20\n",
      "----------------------------------------------------------------\n"
     ]
    }
   ],
   "source": [
    "# Regular Conv1d_NN\n",
    "model3= nn.Sequential(\n",
    "    Conv1d_NN(in_channels=1, out_channels =32, K = 3, samples='8', magnitude_type=\"distance\"), \n",
    "    nn.ReLU(), \n",
    "    Conv1d_NN(in_channels=32, out_channels=32, K = 3, samples='8', magnitude_type=\"distance\"),  \n",
    "    nn.ReLU(),\n",
    "    Conv1d_NN(in_channels=32, out_channels=32, K = 3, samples='8', magnitude_type=\"distance\"),\n",
    "    nn.ReLU(),\n",
    "    nn.Flatten(), \n",
    "    nn.Linear(1280, 10)\n",
    ")\n",
    "\n",
    "# Get summary \n",
    "from torchsummary import summary\n",
    "summary(model3, (1, 40), device='cpu')"
   ]
  },
  {
   "cell_type": "code",
   "execution_count": 8,
   "metadata": {},
   "outputs": [
    {
     "name": "stdout",
     "output_type": "stream",
     "text": [
      "----------------------------------------------------------------\n",
      "        Layer (type)               Output Shape         Param #\n",
      "================================================================\n",
      "            Conv1d-1               [-1, 32, 40]             128\n",
      "              ReLU-2               [-1, 32, 40]               0\n",
      "         Conv1d_NN-3               [-1, 32, 40]               0\n",
      "              ReLU-4               [-1, 32, 40]               0\n",
      "            Conv1d-5               [-1, 32, 40]           3,104\n",
      "              ReLU-6               [-1, 32, 40]               0\n",
      "         Conv1d_NN-7               [-1, 32, 40]               0\n",
      "              ReLU-8               [-1, 32, 40]               0\n",
      "            Conv1d-9               [-1, 32, 40]           3,104\n",
      "             ReLU-10               [-1, 32, 40]               0\n",
      "        Conv1d_NN-11               [-1, 32, 40]               0\n",
      "             ReLU-12               [-1, 32, 40]               0\n",
      "          Flatten-13                 [-1, 1280]               0\n",
      "           Linear-14                   [-1, 10]          12,810\n",
      "================================================================\n",
      "Total params: 19,146\n",
      "Trainable params: 19,146\n",
      "Non-trainable params: 0\n",
      "----------------------------------------------------------------\n",
      "Input size (MB): 0.00\n",
      "Forward/backward pass size (MB): 0.13\n",
      "Params size (MB): 0.07\n",
      "Estimated Total Size (MB): 0.20\n",
      "----------------------------------------------------------------\n"
     ]
    }
   ],
   "source": [
    "model4 = nn.Sequential(\n",
    "    Conv1d_NN(in_channels=1, out_channels =32, K = 3, samples=\"all\", magnitude_type=\"distance\"),  # Change the number of input channels to 1\n",
    "    nn.ReLU(), \n",
    "    Conv1d_NN(in_channels=32, out_channels=32, K = 3, samples=\"all\", magnitude_type=\"distance\"),  # Change the number of input channels to 1\n",
    "    nn.ReLU(),\n",
    "    Conv1d_NN(in_channels=32, out_channels=32, K = 3, samples=\"all\", magnitude_type=\"distance\"),  # Change the number of input channels to 1\n",
    "    nn.ReLU(),\n",
    "    nn.Flatten(), \n",
    "    nn.Linear(1280, 10)\n",
    ")\n",
    "\n",
    "# Get summary \n",
    "from torchsummary import summary\n",
    "summary(model4, (1, 40), device='cpu')"
   ]
  },
  {
   "cell_type": "code",
   "execution_count": 12,
   "metadata": {},
   "outputs": [
    {
     "name": "stdout",
     "output_type": "stream",
     "text": [
      "Regular Conv1d_NN Results\n",
      "step 1000, dt 22.78s, train_loss 1.021e+00, test_loss 1.318e+00, train_acc 65.0, test_acc 47.6\n",
      "step 2000, dt 27.66s, train_loss 9.026e-01, test_loss 1.423e+00, train_acc 67.5, test_acc 49.9\n",
      "step 3000, dt 23.23s, train_loss 8.305e-01, test_loss 1.448e+00, train_acc 69.8, test_acc 49.9\n",
      "step 4000, dt 19.61s, train_loss 8.130e-01, test_loss 1.567e+00, train_acc 70.1, test_acc 49.3\n",
      "step 5000, dt 19.58s, train_loss 6.453e-01, test_loss 1.504e+00, train_acc 72.1, test_acc 49.0\n",
      "step 6000, dt 19.53s, train_loss 7.439e-01, test_loss 1.539e+00, train_acc 72.5, test_acc 49.2\n"
     ]
    }
   ],
   "source": [
    "print(\"Regular Conv1d_NN Results\")\n",
    "results3 = train_model(data, model3, dataset.model_args)"
   ]
  },
  {
   "cell_type": "code",
   "execution_count": null,
   "metadata": {},
   "outputs": [
    {
     "name": "stdout",
     "output_type": "stream",
     "text": [
      "Regular Conv1d_NN Results\n",
      "step 1000, dt 18.10s, train_loss 6.586e-01, test_loss 1.357e+00, train_acc 72.2, test_acc 52.1\n",
      "step 2000, dt 18.41s, train_loss 5.481e-01, test_loss 1.736e+00, train_acc 75.6, test_acc 50.2\n",
      "step 3000, dt 18.05s, train_loss 3.898e-01, test_loss 2.226e+00, train_acc 81.2, test_acc 49.8\n",
      "step 4000, dt 18.23s, train_loss 3.549e-01, test_loss 2.734e+00, train_acc 81.7, test_acc 49.7\n",
      "step 5000, dt 18.30s, train_loss 2.502e-01, test_loss 3.109e+00, train_acc 80.0, test_acc 50.3\n",
      "step 6000, dt 17.85s, train_loss 3.486e-01, test_loss 3.239e+00, train_acc 84.0, test_acc 48.2\n"
     ]
    }
   ],
   "source": [
    "print(\"Regular Conv1d_NN Results\")\n",
    "results4 = train_model(data, model4, dataset.model_args)"
   ]
  },
  {
   "cell_type": "code",
   "execution_count": null,
   "metadata": {},
   "outputs": [],
   "source": []
  }
 ],
 "metadata": {
  "kernelspec": {
   "display_name": "MK",
   "language": "python",
   "name": "python3"
  },
  "language_info": {
   "codemirror_mode": {
    "name": "ipython",
    "version": 3
   },
   "file_extension": ".py",
   "mimetype": "text/x-python",
   "name": "python",
   "nbconvert_exporter": "python",
   "pygments_lexer": "ipython3",
   "version": "3.12.0"
  }
 },
 "nbformat": 4,
 "nbformat_minor": 2
}
