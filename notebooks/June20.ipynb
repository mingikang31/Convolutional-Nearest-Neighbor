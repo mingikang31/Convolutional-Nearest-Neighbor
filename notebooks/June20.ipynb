{
 "cells": [
  {
   "cell_type": "markdown",
   "metadata": {},
   "source": [
    "# June 20"
   ]
  },
  {
   "cell_type": "code",
   "execution_count": 2,
   "metadata": {},
   "outputs": [],
   "source": [
    "# Torch \n",
    "import torch\n",
    "import torch.nn as nn\n",
    "\n",
    "# MNIST1D \n",
    "import matplotlib.pyplot as plt \n",
    "import numpy as np \n",
    "from scipy.ndimage import gaussian_filter\n",
    "from scipy.interpolate import interp1d \n",
    "from mnist1d.data import make_dataset, get_dataset_args\n",
    "\n",
    "# Custom Modules \n",
    "import sys \n",
    "sys.path.append('../')\n",
    "from Conv1d_NN import Conv1d_NN\n",
    "\n",
    "from models import * \n",
    "from train import *\n",
    "\n",
    "device = 'cpu'"
   ]
  },
  {
   "cell_type": "code",
   "execution_count": 4,
   "metadata": {},
   "outputs": [
    {
     "name": "stdout",
     "output_type": "stream",
     "text": [
      "----------------------------------------------------------------\n",
      "        Layer (type)               Output Shape         Param #\n",
      "================================================================\n",
      "            Conv1d-1               [-1, 16, 40]              64\n",
      "         Conv1d_NN-2               [-1, 16, 40]               0\n",
      "              ReLU-3               [-1, 16, 40]               0\n",
      "            Conv1d-4               [-1, 16, 40]             784\n",
      "         Conv1d_NN-5               [-1, 16, 40]               0\n",
      "              ReLU-6               [-1, 16, 40]               0\n",
      "            Conv1d-7               [-1, 16, 40]             784\n",
      "         Conv1d_NN-8               [-1, 16, 40]               0\n",
      "              ReLU-9               [-1, 16, 40]               0\n",
      "          Flatten-10                  [-1, 640]               0\n",
      "           Linear-11                   [-1, 10]           6,410\n",
      "================================================================\n",
      "Total params: 8,042\n",
      "Trainable params: 8,042\n",
      "Non-trainable params: 0\n",
      "----------------------------------------------------------------\n",
      "Input size (MB): 0.00\n",
      "Forward/backward pass size (MB): 0.05\n",
      "Params size (MB): 0.03\n",
      "Estimated Total Size (MB): 0.08\n",
      "----------------------------------------------------------------\n"
     ]
    }
   ],
   "source": [
    "# Conv1d_NN\n",
    "model1 = nn.Sequential(\n",
    "    Conv1d_NN(in_channels=1, out_channels =16, K = 3),  # Change the number of input channels to 1\n",
    "    nn.ReLU(), \n",
    "    Conv1d_NN(in_channels=16, out_channels=16, K = 3),\n",
    "    nn.ReLU(),\n",
    "    Conv1d_NN(in_channels=16, out_channels=16, K = 3),\n",
    "    nn.ReLU(),\n",
    "    nn.Flatten(), \n",
    "    nn.Linear(640, 10)\n",
    ")\n",
    "\n",
    "# Get summary \n",
    "from torchsummary import summary\n",
    "summary(model1, (1, 40), device=device)"
   ]
  },
  {
   "cell_type": "code",
   "execution_count": 6,
   "metadata": {},
   "outputs": [
    {
     "name": "stdout",
     "output_type": "stream",
     "text": [
      "----------------------------------------------------------------\n",
      "        Layer (type)               Output Shape         Param #\n",
      "================================================================\n",
      "            Conv1d-1                [-1, 8, 40]              32\n",
      "         Conv1d_NN-2                [-1, 8, 40]               0\n",
      "              ReLU-3                [-1, 8, 40]               0\n",
      "            Conv1d-4                [-1, 8, 40]             200\n",
      "         Conv1d_NN-5                [-1, 8, 40]               0\n",
      "              ReLU-6                [-1, 8, 40]               0\n",
      "            Conv1d-7                [-1, 8, 40]             200\n",
      "         Conv1d_NN-8                [-1, 8, 40]               0\n",
      "              ReLU-9                [-1, 8, 40]               0\n",
      "          Flatten-10                  [-1, 320]               0\n",
      "           Linear-11                   [-1, 10]           3,210\n",
      "================================================================\n",
      "Total params: 3,642\n",
      "Trainable params: 3,642\n",
      "Non-trainable params: 0\n",
      "----------------------------------------------------------------\n",
      "Input size (MB): 0.00\n",
      "Forward/backward pass size (MB): 0.02\n",
      "Params size (MB): 0.01\n",
      "Estimated Total Size (MB): 0.04\n",
      "----------------------------------------------------------------\n"
     ]
    }
   ],
   "source": [
    "# Conv1d_NN\n",
    "model2 = nn.Sequential(\n",
    "    Conv1d_NN(in_channels=1, out_channels =8, K = 3),  # Change the number of input channels to 1\n",
    "    nn.ReLU(), \n",
    "    Conv1d_NN(in_channels=8, out_channels=8, K = 3),\n",
    "    nn.ReLU(),\n",
    "    Conv1d_NN(in_channels=8, out_channels=8, K = 3),\n",
    "    nn.ReLU(),\n",
    "    nn.Flatten(), \n",
    "    nn.Linear(320, 10)\n",
    ")\n",
    "\n",
    "# Get summary \n",
    "from torchsummary import summary\n",
    "summary(model2, (1, 40), device=device)"
   ]
  },
  {
   "cell_type": "code",
   "execution_count": 9,
   "metadata": {},
   "outputs": [
    {
     "name": "stdout",
     "output_type": "stream",
     "text": [
      "----------------------------------------------------------------\n",
      "        Layer (type)               Output Shape         Param #\n",
      "================================================================\n",
      "            Conv1d-1                [-1, 4, 40]              16\n",
      "         Conv1d_NN-2                [-1, 4, 40]               0\n",
      "              ReLU-3                [-1, 4, 40]               0\n",
      "            Conv1d-4                [-1, 4, 40]              52\n",
      "         Conv1d_NN-5                [-1, 4, 40]               0\n",
      "              ReLU-6                [-1, 4, 40]               0\n",
      "            Conv1d-7                [-1, 4, 40]              52\n",
      "         Conv1d_NN-8                [-1, 4, 40]               0\n",
      "              ReLU-9                [-1, 4, 40]               0\n",
      "          Flatten-10                  [-1, 160]               0\n",
      "           Linear-11                   [-1, 10]           1,610\n",
      "================================================================\n",
      "Total params: 1,730\n",
      "Trainable params: 1,730\n",
      "Non-trainable params: 0\n",
      "----------------------------------------------------------------\n",
      "Input size (MB): 0.00\n",
      "Forward/backward pass size (MB): 0.01\n",
      "Params size (MB): 0.01\n",
      "Estimated Total Size (MB): 0.02\n",
      "----------------------------------------------------------------\n"
     ]
    }
   ],
   "source": [
    "# Conv1d_NN\n",
    "model3 = nn.Sequential(\n",
    "    Conv1d_NN(in_channels=1, out_channels =4, K = 3),  # Change the number of input channels to 1\n",
    "    nn.ReLU(), \n",
    "    Conv1d_NN(in_channels=4, out_channels=4, K = 3),\n",
    "    nn.ReLU(),\n",
    "    Conv1d_NN(in_channels=4, out_channels=4, K = 3),\n",
    "    nn.ReLU(),\n",
    "    nn.Flatten(), \n",
    "    nn.Linear(160, 10)\n",
    ")\n",
    "\n",
    "# Get summary \n",
    "from torchsummary import summary\n",
    "summary(model3, (1, 40), device=device)"
   ]
  },
  {
   "cell_type": "code",
   "execution_count": 10,
   "metadata": {},
   "outputs": [
    {
     "name": "stdout",
     "output_type": "stream",
     "text": [
      "0.0 0.0\n",
      "torch.Size([4000, 1, 40]) (4000,) (40,)\n"
     ]
    }
   ],
   "source": [
    "# Data\n",
    "\n",
    "\n",
    "from mnist1d.data import make_dataset, get_dataset_args\n",
    "\n",
    "less_noise_args = get_dataset_args(as_dict=False)\n",
    "# {'num_samples': 5000, 'train_split': 0.8, 'template_len': 12, \n",
    "# 'padding': [36, 60], 'scale_coeff': 0.4, 'max_translation': 48, \n",
    "# 'corr_noise_scale': 0.25, 'iid_noise_scale': 0.02, 'shear_scale': 0.75, \n",
    "# 'shuffle_seq': False, 'final_seq_length': 40, 'seed': 42, \n",
    "# 'url': 'https://github.com/greydanus/mnist1d/raw/master/mnist1d_data.pkl'}\n",
    "\n",
    "set_seed(less_noise_args.seed)\n",
    "less_noise_args.shuffle_seq = False\n",
    "less_noise_args.corr_noise_scale = 0.00\n",
    "less_noise_args.iid_noise_scale = 0.000\n",
    "\n",
    "\n",
    "\n",
    "less_noise_data = make_dataset(args = less_noise_args) # Make the dataset \n",
    "less_noise_data['x'] = torch.Tensor(less_noise_data['x']).unsqueeze(1)\n",
    "less_noise_data['x_test'] = torch.Tensor(less_noise_data['x_test']).unsqueeze(1)\n",
    "\n",
    "print(less_noise_args.corr_noise_scale, less_noise_args.iid_noise_scale)\n",
    "print(less_noise_data['x'].shape, less_noise_data['y'].shape, less_noise_data['t'].shape)"
   ]
  },
  {
   "cell_type": "code",
   "execution_count": 11,
   "metadata": {},
   "outputs": [
    {
     "name": "stdout",
     "output_type": "stream",
     "text": [
      "16 Channels\n",
      "step 1000, dt 19.47s, train_loss 4.725e-01, test_loss 6.223e-01, train_acc 85.3, test_acc 74.7\n",
      "step 2000, dt 16.64s, train_loss 6.130e-01, test_loss 7.010e-01, train_acc 86.8, test_acc 75.4\n",
      "step 3000, dt 16.92s, train_loss 2.406e-01, test_loss 6.678e-01, train_acc 90.6, test_acc 77.9\n",
      "step 4000, dt 16.68s, train_loss 3.853e-01, test_loss 8.004e-01, train_acc 87.0, test_acc 73.4\n",
      "step 5000, dt 16.56s, train_loss 2.743e-01, test_loss 8.001e-01, train_acc 89.5, test_acc 75.1\n",
      "step 6000, dt 16.60s, train_loss 3.055e-01, test_loss 7.177e-01, train_acc 88.9, test_acc 75.5\n",
      "\n",
      "8 Channels\n",
      "step 1000, dt 16.68s, train_loss 5.475e-01, test_loss 7.123e-01, train_acc 76.4, test_acc 69.8\n",
      "step 2000, dt 15.95s, train_loss 4.535e-01, test_loss 6.019e-01, train_acc 82.7, test_acc 76.5\n",
      "step 3000, dt 16.25s, train_loss 4.108e-01, test_loss 6.158e-01, train_acc 82.9, test_acc 76.4\n",
      "step 4000, dt 15.82s, train_loss 3.938e-01, test_loss 5.318e-01, train_acc 87.2, test_acc 78.4\n",
      "step 5000, dt 17.28s, train_loss 3.284e-01, test_loss 5.350e-01, train_acc 86.8, test_acc 78.7\n",
      "step 6000, dt 15.24s, train_loss 3.071e-01, test_loss 5.283e-01, train_acc 88.0, test_acc 80.8\n",
      "\n",
      "4 Channels\n",
      "step 1000, dt 17.98s, train_loss 1.031e+00, test_loss 1.100e+00, train_acc 60.7, test_acc 51.2\n",
      "step 2000, dt 18.13s, train_loss 1.206e+00, test_loss 1.053e+00, train_acc 61.5, test_acc 54.4\n",
      "step 3000, dt 16.87s, train_loss 1.048e+00, test_loss 1.067e+00, train_acc 61.5, test_acc 54.8\n",
      "step 4000, dt 15.04s, train_loss 1.070e+00, test_loss 1.040e+00, train_acc 62.6, test_acc 54.1\n",
      "step 5000, dt 15.00s, train_loss 1.001e+00, test_loss 1.049e+00, train_acc 63.9, test_acc 54.8\n",
      "step 6000, dt 15.15s, train_loss 1.010e+00, test_loss 1.068e+00, train_acc 62.1, test_acc 53.5\n",
      "\n"
     ]
    }
   ],
   "source": [
    "less_noise_model = get_model_args(as_dict=False)\n",
    "less_noise_model.device = 'mps'\n",
    "less_noise_model.total_steps = 6000\n",
    "\n",
    "print(\"16 Channels\")\n",
    "results =train_model(less_noise_data, model1, less_noise_model)\n",
    "print()\n",
    "\n",
    "print(\"8 Channels\")\n",
    "results =train_model(less_noise_data, model2, less_noise_model)\n",
    "print()\n",
    "\n",
    "print(\"4 Channels\")\n",
    "results =train_model(less_noise_data, model3, less_noise_model)\n",
    "print()"
   ]
  },
  {
   "cell_type": "code",
   "execution_count": null,
   "metadata": {},
   "outputs": [],
   "source": []
  }
 ],
 "metadata": {
  "kernelspec": {
   "display_name": "MK",
   "language": "python",
   "name": "python3"
  },
  "language_info": {
   "codemirror_mode": {
    "name": "ipython",
    "version": 3
   },
   "file_extension": ".py",
   "mimetype": "text/x-python",
   "name": "python",
   "nbconvert_exporter": "python",
   "pygments_lexer": "ipython3",
   "version": "3.1.-1"
  }
 },
 "nbformat": 4,
 "nbformat_minor": 2
}
