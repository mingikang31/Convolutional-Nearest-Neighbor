{
 "cells": [
  {
   "cell_type": "markdown",
   "metadata": {},
   "source": [
    "# June 20"
   ]
  },
  {
   "cell_type": "code",
   "execution_count": 2,
   "metadata": {},
   "outputs": [],
   "source": [
    "# Torch \n",
    "import torch\n",
    "import torch.nn as nn\n",
    "\n",
    "# MNIST1D \n",
    "import matplotlib.pyplot as plt \n",
    "import numpy as np \n",
    "from scipy.ndimage import gaussian_filter\n",
    "from scipy.interpolate import interp1d \n",
    "from mnist1d.data import make_dataset, get_dataset_args\n",
    "\n",
    "# Custom Modules \n",
    "import sys \n",
    "sys.path.append('../')\n",
    "from Conv1d_NN import Conv1d_NN\n",
    "\n",
    "from models import * \n",
    "from train import *\n",
    "\n",
    "device = 'cpu'"
   ]
  },
  {
   "cell_type": "code",
   "execution_count": 6,
   "metadata": {},
   "outputs": [
    {
     "name": "stdout",
     "output_type": "stream",
     "text": [
      "----------------------------------------------------------------\n",
      "        Layer (type)               Output Shape         Param #\n",
      "================================================================\n",
      "            Conv1d-1               [-1, 32, 40]             128\n",
      "         Conv1d_NN-2               [-1, 32, 40]               0\n",
      "              ReLU-3               [-1, 32, 40]               0\n",
      "            Conv1d-4               [-1, 32, 40]           3,104\n",
      "         Conv1d_NN-5               [-1, 32, 40]               0\n",
      "              ReLU-6               [-1, 32, 40]               0\n",
      "            Conv1d-7               [-1, 32, 40]           3,104\n",
      "         Conv1d_NN-8               [-1, 32, 40]               0\n",
      "              ReLU-9               [-1, 32, 40]               0\n",
      "          Flatten-10                 [-1, 1280]               0\n",
      "           Linear-11                   [-1, 10]          12,810\n",
      "================================================================\n",
      "Total params: 19,146\n",
      "Trainable params: 19,146\n",
      "Non-trainable params: 0\n",
      "----------------------------------------------------------------\n",
      "Input size (MB): 0.00\n",
      "Forward/backward pass size (MB): 0.10\n",
      "Params size (MB): 0.07\n",
      "Estimated Total Size (MB): 0.17\n",
      "----------------------------------------------------------------\n"
     ]
    }
   ],
   "source": [
    "# Conv1d_nn \n",
    "\n",
    "model = nn.Sequential(\n",
    "    Conv1d_NN(in_channels=1, out_channels =32, K = 3),  # Change the number of input channels to 1\n",
    "    nn.ReLU(), \n",
    "    Conv1d_NN(in_channels=32, out_channels=32, K = 3),\n",
    "    nn.ReLU(),\n",
    "    Conv1d_NN(in_channels=32, out_channels=32, K = 3),\n",
    "    nn.ReLU(),\n",
    "    nn.Flatten(), \n",
    "    nn.Linear(1280, 10)\n",
    ")\n",
    "\n",
    "# Get summary \n",
    "from torchsummary import summary\n",
    "summary(model, (1, 40), device=device)\n"
   ]
  },
  {
   "cell_type": "code",
   "execution_count": 7,
   "metadata": {},
   "outputs": [
    {
     "name": "stdout",
     "output_type": "stream",
     "text": [
      "----------------------------------------------------------------\n",
      "        Layer (type)               Output Shape         Param #\n",
      "================================================================\n",
      "            Conv1d-1               [-1, 16, 40]              64\n",
      "         Conv1d_NN-2               [-1, 16, 40]               0\n",
      "              ReLU-3               [-1, 16, 40]               0\n",
      "            Conv1d-4               [-1, 16, 40]             784\n",
      "         Conv1d_NN-5               [-1, 16, 40]               0\n",
      "              ReLU-6               [-1, 16, 40]               0\n",
      "            Conv1d-7               [-1, 16, 40]             784\n",
      "         Conv1d_NN-8               [-1, 16, 40]               0\n",
      "              ReLU-9               [-1, 16, 40]               0\n",
      "          Flatten-10                  [-1, 640]               0\n",
      "           Linear-11                   [-1, 10]           6,410\n",
      "================================================================\n",
      "Total params: 8,042\n",
      "Trainable params: 8,042\n",
      "Non-trainable params: 0\n",
      "----------------------------------------------------------------\n",
      "Input size (MB): 0.00\n",
      "Forward/backward pass size (MB): 0.05\n",
      "Params size (MB): 0.03\n",
      "Estimated Total Size (MB): 0.08\n",
      "----------------------------------------------------------------\n"
     ]
    }
   ],
   "source": [
    "# Conv1d_NN\n",
    "model1 = nn.Sequential(\n",
    "    Conv1d_NN(in_channels=1, out_channels =16, K = 3),  # Change the number of input channels to 1\n",
    "    nn.ReLU(), \n",
    "    Conv1d_NN(in_channels=16, out_channels=16, K = 3),\n",
    "    nn.ReLU(),\n",
    "    Conv1d_NN(in_channels=16, out_channels=16, K = 3),\n",
    "    nn.ReLU(),\n",
    "    nn.Flatten(), \n",
    "    nn.Linear(640, 10)\n",
    ")\n",
    "\n",
    "# Get summary \n",
    "from torchsummary import summary\n",
    "summary(model1, (1, 40), device=device)"
   ]
  },
  {
   "cell_type": "code",
   "execution_count": 8,
   "metadata": {},
   "outputs": [
    {
     "name": "stdout",
     "output_type": "stream",
     "text": [
      "----------------------------------------------------------------\n",
      "        Layer (type)               Output Shape         Param #\n",
      "================================================================\n",
      "            Conv1d-1                [-1, 8, 40]              32\n",
      "         Conv1d_NN-2                [-1, 8, 40]               0\n",
      "              ReLU-3                [-1, 8, 40]               0\n",
      "            Conv1d-4                [-1, 8, 40]             200\n",
      "         Conv1d_NN-5                [-1, 8, 40]               0\n",
      "              ReLU-6                [-1, 8, 40]               0\n",
      "            Conv1d-7                [-1, 8, 40]             200\n",
      "         Conv1d_NN-8                [-1, 8, 40]               0\n",
      "              ReLU-9                [-1, 8, 40]               0\n",
      "          Flatten-10                  [-1, 320]               0\n",
      "           Linear-11                   [-1, 10]           3,210\n",
      "================================================================\n",
      "Total params: 3,642\n",
      "Trainable params: 3,642\n",
      "Non-trainable params: 0\n",
      "----------------------------------------------------------------\n",
      "Input size (MB): 0.00\n",
      "Forward/backward pass size (MB): 0.02\n",
      "Params size (MB): 0.01\n",
      "Estimated Total Size (MB): 0.04\n",
      "----------------------------------------------------------------\n"
     ]
    }
   ],
   "source": [
    "# Conv1d_NN\n",
    "model2 = nn.Sequential(\n",
    "    Conv1d_NN(in_channels=1, out_channels =8, K = 3),  # Change the number of input channels to 1\n",
    "    nn.ReLU(), \n",
    "    Conv1d_NN(in_channels=8, out_channels=8, K = 3),\n",
    "    nn.ReLU(),\n",
    "    Conv1d_NN(in_channels=8, out_channels=8, K = 3),\n",
    "    nn.ReLU(),\n",
    "    nn.Flatten(), \n",
    "    nn.Linear(320, 10)\n",
    ")\n",
    "\n",
    "# Get summary \n",
    "from torchsummary import summary\n",
    "summary(model2, (1, 40), device=device)"
   ]
  },
  {
   "cell_type": "code",
   "execution_count": 9,
   "metadata": {},
   "outputs": [
    {
     "name": "stdout",
     "output_type": "stream",
     "text": [
      "----------------------------------------------------------------\n",
      "        Layer (type)               Output Shape         Param #\n",
      "================================================================\n",
      "            Conv1d-1                [-1, 4, 40]              16\n",
      "         Conv1d_NN-2                [-1, 4, 40]               0\n",
      "              ReLU-3                [-1, 4, 40]               0\n",
      "            Conv1d-4                [-1, 4, 40]              52\n",
      "         Conv1d_NN-5                [-1, 4, 40]               0\n",
      "              ReLU-6                [-1, 4, 40]               0\n",
      "            Conv1d-7                [-1, 4, 40]              52\n",
      "         Conv1d_NN-8                [-1, 4, 40]               0\n",
      "              ReLU-9                [-1, 4, 40]               0\n",
      "          Flatten-10                  [-1, 160]               0\n",
      "           Linear-11                   [-1, 10]           1,610\n",
      "================================================================\n",
      "Total params: 1,730\n",
      "Trainable params: 1,730\n",
      "Non-trainable params: 0\n",
      "----------------------------------------------------------------\n",
      "Input size (MB): 0.00\n",
      "Forward/backward pass size (MB): 0.01\n",
      "Params size (MB): 0.01\n",
      "Estimated Total Size (MB): 0.02\n",
      "----------------------------------------------------------------\n"
     ]
    }
   ],
   "source": [
    "# Conv1d_NN\n",
    "model3 = nn.Sequential(\n",
    "    Conv1d_NN(in_channels=1, out_channels =4, K = 3),  # Change the number of input channels to 1\n",
    "    nn.ReLU(), \n",
    "    Conv1d_NN(in_channels=4, out_channels=4, K = 3),\n",
    "    nn.ReLU(),\n",
    "    Conv1d_NN(in_channels=4, out_channels=4, K = 3),\n",
    "    nn.ReLU(),\n",
    "    nn.Flatten(), \n",
    "    nn.Linear(160, 10)\n",
    ")\n",
    "\n",
    "# Get summary \n",
    "from torchsummary import summary\n",
    "summary(model3, (1, 40), device=device)"
   ]
  },
  {
   "cell_type": "code",
   "execution_count": 10,
   "metadata": {},
   "outputs": [
    {
     "name": "stdout",
     "output_type": "stream",
     "text": [
      "0.0 0.0\n",
      "torch.Size([4000, 1, 40]) (4000,) (40,)\n"
     ]
    }
   ],
   "source": [
    "# Data\n",
    "\n",
    "\n",
    "from mnist1d.data import make_dataset, get_dataset_args\n",
    "\n",
    "less_noise_args = get_dataset_args(as_dict=False)\n",
    "# {'num_samples': 5000, 'train_split': 0.8, 'template_len': 12, \n",
    "# 'padding': [36, 60], 'scale_coeff': 0.4, 'max_translation': 48, \n",
    "# 'corr_noise_scale': 0.25, 'iid_noise_scale': 0.02, 'shear_scale': 0.75, \n",
    "# 'shuffle_seq': False, 'final_seq_length': 40, 'seed': 42, \n",
    "# 'url': 'https://github.com/greydanus/mnist1d/raw/master/mnist1d_data.pkl'}\n",
    "\n",
    "set_seed(less_noise_args.seed)\n",
    "less_noise_args.shuffle_seq = False\n",
    "less_noise_args.corr_noise_scale = 0.00\n",
    "less_noise_args.iid_noise_scale = 0.000\n",
    "\n",
    "\n",
    "\n",
    "less_noise_data = make_dataset(args = less_noise_args) # Make the dataset \n",
    "less_noise_data['x'] = torch.Tensor(less_noise_data['x']).unsqueeze(1)\n",
    "less_noise_data['x_test'] = torch.Tensor(less_noise_data['x_test']).unsqueeze(1)\n",
    "\n",
    "print(less_noise_args.corr_noise_scale, less_noise_args.iid_noise_scale)\n",
    "print(less_noise_data['x'].shape, less_noise_data['y'].shape, less_noise_data['t'].shape)"
   ]
  },
  {
   "cell_type": "code",
   "execution_count": 12,
   "metadata": {},
   "outputs": [
    {
     "name": "stdout",
     "output_type": "stream",
     "text": [
      "32 Channels\n",
      "step 1000, dt 17.75s, train_loss 3.859e-01, test_loss 8.645e-01, train_acc 85.3, test_acc 71.4\n",
      "step 2000, dt 16.60s, train_loss 3.325e-01, test_loss 9.804e-01, train_acc 86.3, test_acc 72.5\n",
      "step 3000, dt 15.30s, train_loss 2.831e-01, test_loss 1.191e+00, train_acc 88.1, test_acc 72.3\n",
      "step 4000, dt 16.61s, train_loss 3.540e-01, test_loss 1.318e+00, train_acc 89.4, test_acc 71.5\n",
      "step 5000, dt 18.08s, train_loss 1.422e-01, test_loss 1.351e+00, train_acc 90.8, test_acc 73.3\n",
      "step 6000, dt 17.43s, train_loss 1.797e-01, test_loss 1.194e+00, train_acc 94.2, test_acc 75.2\n",
      "16 Channels\n",
      "step 1000, dt 18.96s, train_loss 5.585e-01, test_loss 6.264e-01, train_acc 83.8, test_acc 74.7\n",
      "step 2000, dt 18.12s, train_loss 3.833e-01, test_loss 5.571e-01, train_acc 87.3, test_acc 79.6\n",
      "step 3000, dt 17.52s, train_loss 4.110e-01, test_loss 6.022e-01, train_acc 88.8, test_acc 80.0\n",
      "step 4000, dt 16.01s, train_loss 3.349e-01, test_loss 7.092e-01, train_acc 88.3, test_acc 78.1\n",
      "step 5000, dt 14.80s, train_loss 2.743e-01, test_loss 6.940e-01, train_acc 90.3, test_acc 80.5\n",
      "step 6000, dt 16.43s, train_loss 3.217e-01, test_loss 8.750e-01, train_acc 87.0, test_acc 75.9\n",
      "\n",
      "8 Channels\n",
      "step 1000, dt 17.78s, train_loss 6.137e-01, test_loss 6.734e-01, train_acc 77.1, test_acc 72.3\n",
      "step 2000, dt 16.53s, train_loss 5.223e-01, test_loss 5.834e-01, train_acc 82.9, test_acc 77.3\n",
      "step 3000, dt 16.42s, train_loss 4.656e-01, test_loss 5.786e-01, train_acc 84.1, test_acc 77.7\n",
      "step 4000, dt 15.80s, train_loss 4.263e-01, test_loss 5.352e-01, train_acc 85.8, test_acc 78.6\n",
      "step 5000, dt 15.60s, train_loss 4.379e-01, test_loss 6.482e-01, train_acc 84.6, test_acc 76.5\n",
      "step 6000, dt 16.23s, train_loss 4.383e-01, test_loss 5.779e-01, train_acc 88.5, test_acc 76.5\n",
      "\n",
      "4 Channels\n",
      "step 1000, dt 16.02s, train_loss 7.229e-01, test_loss 7.121e-01, train_acc 79.6, test_acc 70.5\n",
      "step 2000, dt 15.46s, train_loss 5.418e-01, test_loss 6.014e-01, train_acc 83.1, test_acc 76.9\n",
      "step 3000, dt 16.82s, train_loss 5.029e-01, test_loss 6.515e-01, train_acc 84.7, test_acc 76.7\n",
      "step 4000, dt 15.00s, train_loss 5.067e-01, test_loss 6.430e-01, train_acc 83.7, test_acc 75.8\n",
      "step 5000, dt 15.14s, train_loss 4.399e-01, test_loss 6.416e-01, train_acc 84.2, test_acc 76.7\n",
      "step 6000, dt 15.28s, train_loss 5.474e-01, test_loss 5.949e-01, train_acc 85.7, test_acc 77.4\n",
      "\n"
     ]
    }
   ],
   "source": [
    "less_noise_model = get_model_args(as_dict=False)\n",
    "less_noise_model.device = 'mps'\n",
    "less_noise_model.total_steps = 6000\n",
    "\n",
    "print(\"32 Channels\")\n",
    "results = train_model(less_noise_data, model, less_noise_model)\n",
    "print()\n",
    "\n",
    "print(\"16 Channels\")\n",
    "results =train_model(less_noise_data, model1, less_noise_model)\n",
    "print()\n",
    "\n",
    "print(\"8 Channels\")\n",
    "results =train_model(less_noise_data, model2, less_noise_model)\n",
    "print()\n",
    "\n",
    "print(\"4 Channels\")\n",
    "results =train_model(less_noise_data, model3, less_noise_model)\n",
    "print()"
   ]
  },
  {
   "cell_type": "code",
   "execution_count": null,
   "metadata": {},
   "outputs": [],
   "source": []
  },
  {
   "cell_type": "code",
   "execution_count": null,
   "metadata": {},
   "outputs": [],
   "source": []
  }
 ],
 "metadata": {
  "kernelspec": {
   "display_name": "MK",
   "language": "python",
   "name": "python3"
  },
  "language_info": {
   "codemirror_mode": {
    "name": "ipython",
    "version": 3
   },
   "file_extension": ".py",
   "mimetype": "text/x-python",
   "name": "python",
   "nbconvert_exporter": "python",
   "pygments_lexer": "ipython3",
   "version": "3.12.0"
  }
 },
 "nbformat": 4,
 "nbformat_minor": 2
}
