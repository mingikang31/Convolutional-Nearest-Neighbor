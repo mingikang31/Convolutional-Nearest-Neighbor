{
 "cells": [
  {
   "cell_type": "markdown",
   "metadata": {},
   "source": [
    "# Neural Network Testing with less noise Data"
   ]
  },
  {
   "cell_type": "markdown",
   "metadata": {},
   "source": [
    "### Get Libraries and Functions"
   ]
  },
  {
   "cell_type": "code",
   "execution_count": 1,
   "metadata": {},
   "outputs": [],
   "source": [
    "import sys \n",
    "sys.path.append(\"../\")\n",
    "\n",
    "import torch \n",
    "import torch.nn\n",
    "\n",
    "from Conv1d_NN import Conv1d_NN\n",
    "\n",
    "from models import * \n",
    "from train import * \n",
    "from dataset import * \n",
    "\n"
   ]
  },
  {
   "cell_type": "markdown",
   "metadata": {},
   "source": [
    "### Less Noise Data"
   ]
  },
  {
   "cell_type": "code",
   "execution_count": 2,
   "metadata": {},
   "outputs": [],
   "source": [
    "less_noise_dataset = MNIST1D_Dataset()\n",
    "less_noise_dataset.data_args.corr_noise_scale = 0.1\n",
    "less_noise_dataset.data_args.iid_noise_scale = 0.01\n",
    "\n",
    "less_noise_data = less_noise_dataset.make_dataset()\n"
   ]
  },
  {
   "cell_type": "markdown",
   "metadata": {},
   "source": [
    "### Regular Conv1d_NN"
   ]
  },
  {
   "cell_type": "code",
   "execution_count": 3,
   "metadata": {},
   "outputs": [
    {
     "name": "stdout",
     "output_type": "stream",
     "text": [
      "----------------------------------------------------------------\n",
      "        Layer (type)               Output Shape         Param #\n",
      "================================================================\n",
      "            Conv1d-1               [-1, 32, 40]             128\n",
      "         Conv1d_NN-2               [-1, 32, 40]               0\n",
      "              ReLU-3               [-1, 32, 40]               0\n",
      "            Conv1d-4               [-1, 32, 40]           3,104\n",
      "         Conv1d_NN-5               [-1, 32, 40]               0\n",
      "              ReLU-6               [-1, 32, 40]               0\n",
      "            Conv1d-7               [-1, 32, 40]           3,104\n",
      "         Conv1d_NN-8               [-1, 32, 40]               0\n",
      "              ReLU-9               [-1, 32, 40]               0\n",
      "          Flatten-10                 [-1, 1280]               0\n",
      "           Linear-11                   [-1, 10]          12,810\n",
      "================================================================\n",
      "Total params: 19,146\n",
      "Trainable params: 19,146\n",
      "Non-trainable params: 0\n",
      "----------------------------------------------------------------\n",
      "Input size (MB): 0.00\n",
      "Forward/backward pass size (MB): 0.10\n",
      "Params size (MB): 0.07\n",
      "Estimated Total Size (MB): 0.17\n",
      "----------------------------------------------------------------\n"
     ]
    }
   ],
   "source": [
    "# Regular Conv1d_NN\n",
    "model1 = nn.Sequential(\n",
    "    Conv1d_NN(in_channels=1, out_channels =32, K = 3),  \n",
    "    nn.ReLU(), \n",
    "    Conv1d_NN(in_channels=32, out_channels=32, K = 3),\n",
    "    nn.ReLU(),\n",
    "    Conv1d_NN(in_channels=32, out_channels=32, K = 3),\n",
    "    nn.ReLU(),\n",
    "    nn.Flatten(), \n",
    "    nn.Linear(1280, 10)\n",
    ")\n",
    "\n",
    "# Get summary \n",
    "from torchsummary import summary\n",
    "summary(model1, (1, 40), device='cpu')"
   ]
  },
  {
   "cell_type": "code",
   "execution_count": 4,
   "metadata": {},
   "outputs": [
    {
     "name": "stdout",
     "output_type": "stream",
     "text": [
      "Regular Conv1d_NN Results\n",
      "step 1000, dt 21.36s, train_loss 6.033e-01, test_loss 1.060e+00, train_acc 73.5, test_acc 60.4\n",
      "step 2000, dt 17.17s, train_loss 4.478e-01, test_loss 1.302e+00, train_acc 80.8, test_acc 62.8\n",
      "step 3000, dt 15.10s, train_loss 4.920e-01, test_loss 1.312e+00, train_acc 79.8, test_acc 59.5\n",
      "step 4000, dt 4018.07s, train_loss 3.084e-01, test_loss 1.618e+00, train_acc 83.9, test_acc 58.6\n",
      "step 5000, dt 764.86s, train_loss 3.204e-01, test_loss 1.618e+00, train_acc 85.9, test_acc 61.2\n",
      "step 6000, dt 15.29s, train_loss 2.920e-01, test_loss 1.787e+00, train_acc 85.0, test_acc 61.0\n"
     ]
    }
   ],
   "source": [
    "# Regular Conv1d_NN Results \n",
    "print(\"Regular Conv1d_NN Results\")\n",
    "results1 = train_model(less_noise_data, model1, less_noise_dataset.model_args)"
   ]
  },
  {
   "cell_type": "markdown",
   "metadata": {},
   "source": [
    "### Local -> Global Neural Network"
   ]
  },
  {
   "cell_type": "code",
   "execution_count": 5,
   "metadata": {},
   "outputs": [
    {
     "name": "stdout",
     "output_type": "stream",
     "text": [
      "----------------------------------------------------------------\n",
      "        Layer (type)               Output Shape         Param #\n",
      "================================================================\n",
      "            Conv1d-1               [-1, 32, 38]             128\n",
      "              ReLU-2               [-1, 32, 38]               0\n",
      "            Conv1d-3               [-1, 32, 38]           3,104\n",
      "         Conv1d_NN-4               [-1, 32, 38]               0\n",
      "              ReLU-5               [-1, 32, 38]               0\n",
      "            Conv1d-6               [-1, 32, 36]           3,104\n",
      "              ReLU-7               [-1, 32, 36]               0\n",
      "            Conv1d-8               [-1, 32, 36]           3,104\n",
      "         Conv1d_NN-9               [-1, 32, 36]               0\n",
      "             ReLU-10               [-1, 32, 36]               0\n",
      "           Conv1d-11               [-1, 32, 34]           3,104\n",
      "             ReLU-12               [-1, 32, 34]               0\n",
      "           Conv1d-13               [-1, 32, 34]           3,104\n",
      "        Conv1d_NN-14               [-1, 32, 34]               0\n",
      "             ReLU-15               [-1, 32, 34]               0\n",
      "          Flatten-16                 [-1, 1088]               0\n",
      "           Linear-17                   [-1, 10]          10,890\n",
      "================================================================\n",
      "Total params: 26,538\n",
      "Trainable params: 26,538\n",
      "Non-trainable params: 0\n",
      "----------------------------------------------------------------\n",
      "Input size (MB): 0.00\n",
      "Forward/backward pass size (MB): 0.14\n",
      "Params size (MB): 0.10\n",
      "Estimated Total Size (MB): 0.24\n",
      "----------------------------------------------------------------\n"
     ]
    }
   ],
   "source": [
    "# Local -> Global Conv1d_NN\n",
    "model2 = nn.Sequential(\n",
    "   nn.Conv1d(in_channels=1, out_channels=32, kernel_size=3),\n",
    "   nn.ReLU(),\n",
    "   Conv1d_NN(in_channels=32, out_channels=32, K = 3),\n",
    "   nn.ReLU(),\n",
    "   nn.Conv1d(in_channels=32, out_channels=32, kernel_size=3),\n",
    "   nn.ReLU(),\n",
    "   Conv1d_NN(in_channels=32, out_channels=32, K = 3),\n",
    "   nn.ReLU(),\n",
    "   nn.Conv1d(in_channels=32, out_channels=32, kernel_size=3),\n",
    "   nn.ReLU(), \n",
    "   Conv1d_NN(in_channels=32, out_channels=32, K = 3),\n",
    "   nn.ReLU(),\n",
    "   nn.Flatten(),\n",
    "   nn.Linear(1088, 10)\n",
    ")\n",
    "\n",
    "# Get summary \n",
    "from torchsummary import summary \n",
    "summary(model2, (1, 40), device='cpu')"
   ]
  },
  {
   "cell_type": "code",
   "execution_count": 6,
   "metadata": {},
   "outputs": [
    {
     "name": "stdout",
     "output_type": "stream",
     "text": [
      "Local -> Global Conv1d_NN Results\n",
      "step 1000, dt 127.69s, train_loss 1.631e-01, test_loss 2.645e-01, train_acc 94.9, test_acc 92.5\n",
      "step 2000, dt 67.66s, train_loss 1.690e-01, test_loss 2.593e-01, train_acc 93.5, test_acc 92.9\n",
      "step 3000, dt 87.92s, train_loss 1.440e-01, test_loss 1.567e-01, train_acc 96.0, test_acc 94.9\n",
      "step 4000, dt 62.93s, train_loss 1.582e-01, test_loss 1.299e-01, train_acc 96.0, test_acc 96.3\n",
      "step 5000, dt 309.92s, train_loss 1.870e-01, test_loss 1.240e-01, train_acc 97.2, test_acc 96.7\n",
      "step 6000, dt 17.84s, train_loss 9.656e-02, test_loss 1.519e-01, train_acc 95.7, test_acc 95.2\n"
     ]
    }
   ],
   "source": [
    "# Local -> Global Conv1d_NN Results \n",
    "print(\"Local -> Global Conv1d_NN Results\")\n",
    "results2 = train_model(less_noise_data, model2, less_noise_dataset.model_args)"
   ]
  },
  {
   "cell_type": "markdown",
   "metadata": {},
   "source": [
    "### Global -> Local Neural Network"
   ]
  },
  {
   "cell_type": "code",
   "execution_count": 7,
   "metadata": {},
   "outputs": [
    {
     "name": "stdout",
     "output_type": "stream",
     "text": [
      "----------------------------------------------------------------\n",
      "        Layer (type)               Output Shape         Param #\n",
      "================================================================\n",
      "            Conv1d-1               [-1, 32, 40]             128\n",
      "         Conv1d_NN-2               [-1, 32, 40]               0\n",
      "              ReLU-3               [-1, 32, 40]               0\n",
      "            Conv1d-4               [-1, 32, 38]           3,104\n",
      "              ReLU-5               [-1, 32, 38]               0\n",
      "            Conv1d-6               [-1, 32, 38]           3,104\n",
      "         Conv1d_NN-7               [-1, 32, 38]               0\n",
      "              ReLU-8               [-1, 32, 38]               0\n",
      "            Conv1d-9               [-1, 32, 36]           3,104\n",
      "             ReLU-10               [-1, 32, 36]               0\n",
      "           Conv1d-11               [-1, 32, 36]           3,104\n",
      "        Conv1d_NN-12               [-1, 32, 36]               0\n",
      "             ReLU-13               [-1, 32, 36]               0\n",
      "           Conv1d-14               [-1, 32, 34]           3,104\n",
      "             ReLU-15               [-1, 32, 34]               0\n",
      "          Flatten-16                 [-1, 1088]               0\n",
      "           Linear-17                   [-1, 10]          10,890\n",
      "================================================================\n",
      "Total params: 26,538\n",
      "Trainable params: 26,538\n",
      "Non-trainable params: 0\n",
      "----------------------------------------------------------------\n",
      "Input size (MB): 0.00\n",
      "Forward/backward pass size (MB): 0.14\n",
      "Params size (MB): 0.10\n",
      "Estimated Total Size (MB): 0.25\n",
      "----------------------------------------------------------------\n"
     ]
    }
   ],
   "source": [
    "# Global -> Local Conv1d_NN\n",
    "model3 = nn.Sequential(\n",
    "   Conv1d_NN(in_channels=1, out_channels=32, K = 3),\n",
    "   nn.ReLU(),\n",
    "   nn.Conv1d(in_channels=32, out_channels=32, kernel_size=3),\n",
    "   nn.ReLU(),\n",
    "   Conv1d_NN(in_channels=32, out_channels=32, K = 3),\n",
    "   nn.ReLU(),\n",
    "   nn.Conv1d(in_channels=32, out_channels=32, kernel_size=3),\n",
    "   nn.ReLU(),\n",
    "   Conv1d_NN(in_channels=32, out_channels=32, K = 3),\n",
    "   nn.ReLU(),\n",
    "   nn.Conv1d(in_channels=32, out_channels=32, kernel_size=3),\n",
    "   nn.ReLU(), \n",
    "   nn.Flatten(),\n",
    "   nn.Linear(1088, 10)\n",
    ")\n",
    "\n",
    "# Get summary \n",
    "from torchsummary import summary \n",
    "summary(model3, (1, 40), device='cpu')"
   ]
  },
  {
   "cell_type": "code",
   "execution_count": 8,
   "metadata": {},
   "outputs": [
    {
     "name": "stdout",
     "output_type": "stream",
     "text": [
      "Global -> Local Conv1d_NN Results\n",
      "step 1000, dt 17.15s, train_loss 3.721e-01, test_loss 3.213e-01, train_acc 91.2, test_acc 88.9\n",
      "step 2000, dt 16.75s, train_loss 1.474e-01, test_loss 2.357e-01, train_acc 96.2, test_acc 92.5\n",
      "step 3000, dt 17.16s, train_loss 7.028e-02, test_loss 1.630e-01, train_acc 97.0, test_acc 94.6\n",
      "step 4000, dt 16.90s, train_loss 3.292e-02, test_loss 1.986e-01, train_acc 96.5, test_acc 94.0\n",
      "step 5000, dt 19.61s, train_loss 4.868e-02, test_loss 2.276e-01, train_acc 97.1, test_acc 94.6\n",
      "step 6000, dt 18.29s, train_loss 3.339e-02, test_loss 2.569e-01, train_acc 96.0, test_acc 93.1\n"
     ]
    }
   ],
   "source": [
    "# Global -> Local Conv1d_NN Results \n",
    "print(\"Global -> Local Conv1d_NN Results\")\n",
    "results3 = train_model(less_noise_data, model3, less_noise_dataset.model_args)"
   ]
  },
  {
   "cell_type": "markdown",
   "metadata": {},
   "source": [
    "### Branching Neural Network"
   ]
  },
  {
   "cell_type": "code",
   "execution_count": 9,
   "metadata": {},
   "outputs": [
    {
     "name": "stdout",
     "output_type": "stream",
     "text": [
      "----------------------------------------------------------------\n",
      "        Layer (type)               Output Shape         Param #\n",
      "================================================================\n",
      "            Conv1d-1               [-1, 16, 38]              64\n",
      "              ReLU-2               [-1, 16, 38]               0\n",
      "            Conv1d-3               [-1, 16, 40]              64\n",
      "         Conv1d_NN-4               [-1, 16, 40]               0\n",
      "              ReLU-5               [-1, 16, 40]               0\n",
      "            Conv1d-6               [-1, 16, 40]             528\n",
      "  BranchingNetwork-7               [-1, 16, 40]               0\n",
      "            Conv1d-8                [-1, 8, 38]             392\n",
      "              ReLU-9                [-1, 8, 38]               0\n",
      "           Conv1d-10                [-1, 8, 40]             392\n",
      "        Conv1d_NN-11                [-1, 8, 40]               0\n",
      "             ReLU-12                [-1, 8, 40]               0\n",
      "           Conv1d-13                [-1, 8, 40]             136\n",
      " BranchingNetwork-14                [-1, 8, 40]               0\n",
      "           Conv1d-15                [-1, 4, 38]             100\n",
      "             ReLU-16                [-1, 4, 38]               0\n",
      "           Conv1d-17                [-1, 4, 40]             100\n",
      "        Conv1d_NN-18                [-1, 4, 40]               0\n",
      "             ReLU-19                [-1, 4, 40]               0\n",
      "           Conv1d-20                [-1, 4, 40]              36\n",
      " BranchingNetwork-21                [-1, 4, 40]               0\n",
      "          Flatten-22                  [-1, 160]               0\n",
      "           Linear-23                   [-1, 10]           1,610\n",
      "================================================================\n",
      "Total params: 3,422\n",
      "Trainable params: 3,422\n",
      "Non-trainable params: 0\n",
      "----------------------------------------------------------------\n",
      "Input size (MB): 0.00\n",
      "Forward/backward pass size (MB): 0.06\n",
      "Params size (MB): 0.01\n",
      "Estimated Total Size (MB): 0.07\n",
      "----------------------------------------------------------------\n"
     ]
    }
   ],
   "source": [
    "model4 = nn.Sequential(\n",
    "   BranchingNetwork(in_ch = 1, out_ch1 = 16, out_ch2=16, kernel_size = 3), \n",
    "   BranchingNetwork(in_ch = 16, out_ch1 = 8, out_ch2=8, kernel_size = 3),\n",
    "   BranchingNetwork(in_ch = 8, out_ch1 = 4, out_ch2=4, kernel_size = 3),\n",
    "   nn.Flatten(), \n",
    "   nn.Linear(160, 10)\n",
    ")\n",
    "\n",
    "\n",
    "# Get summary\n",
    "from torchsummary import summary \n",
    "summary(model4, (1, 40), device='cpu')"
   ]
  },
  {
   "cell_type": "code",
   "execution_count": 10,
   "metadata": {},
   "outputs": [
    {
     "name": "stdout",
     "output_type": "stream",
     "text": [
      "Branching Conv1d_NN Conv1d Results\n",
      "step 1000, dt 26.54s, train_loss 4.663e-02, test_loss 1.503e-01, train_acc 97.5, test_acc 95.5\n",
      "step 2000, dt 23.58s, train_loss 1.736e-02, test_loss 1.099e-01, train_acc 98.2, test_acc 97.2\n",
      "step 3000, dt 23.40s, train_loss 5.772e-03, test_loss 1.051e-01, train_acc 98.6, test_acc 97.0\n",
      "step 4000, dt 22.93s, train_loss 2.300e-03, test_loss 1.004e-01, train_acc 99.5, test_acc 98.3\n",
      "step 5000, dt 23.97s, train_loss 9.242e-03, test_loss 7.192e-02, train_acc 99.5, test_acc 98.5\n",
      "step 6000, dt 23.51s, train_loss 1.548e-01, test_loss 1.210e-01, train_acc 98.5, test_acc 96.2\n"
     ]
    }
   ],
   "source": [
    "# Branching Network Results \n",
    "print(\"Branching Conv1d_NN Conv1d Results\")\n",
    "results4 = train_model(less_noise_data, model4, less_noise_dataset.model_args)"
   ]
  }
 ],
 "metadata": {
  "kernelspec": {
   "display_name": "MK",
   "language": "python",
   "name": "python3"
  },
  "language_info": {
   "codemirror_mode": {
    "name": "ipython",
    "version": 3
   },
   "file_extension": ".py",
   "mimetype": "text/x-python",
   "name": "python",
   "nbconvert_exporter": "python",
   "pygments_lexer": "ipython3",
   "version": "3.12.0"
  }
 },
 "nbformat": 4,
 "nbformat_minor": 2
}
