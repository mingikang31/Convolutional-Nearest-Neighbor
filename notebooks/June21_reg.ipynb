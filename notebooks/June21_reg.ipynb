{
 "cells": [
  {
   "cell_type": "markdown",
   "metadata": {},
   "source": [
    "# Neural Network Testing with Regular Data"
   ]
  },
  {
   "cell_type": "markdown",
   "metadata": {},
   "source": [
    "### Get Libraries and Functions"
   ]
  },
  {
   "cell_type": "code",
   "execution_count": 1,
   "metadata": {},
   "outputs": [],
   "source": [
    "import sys \n",
    "sys.path.append(\"../\")\n",
    "\n",
    "import torch \n",
    "import torch.nn\n",
    "\n",
    "from Conv1d_NN import Conv1d_NN\n",
    "\n",
    "from models import * \n",
    "from train import * \n",
    "from dataset import * \n",
    "\n"
   ]
  },
  {
   "cell_type": "markdown",
   "metadata": {},
   "source": [
    "### Regular Data"
   ]
  },
  {
   "cell_type": "code",
   "execution_count": 2,
   "metadata": {},
   "outputs": [],
   "source": [
    "# Regular Noise Dataset\n",
    "dataset = MNIST1D_Dataset() \n",
    "data = dataset.make_dataset()"
   ]
  },
  {
   "cell_type": "markdown",
   "metadata": {},
   "source": [
    "### Regular Conv1d_NN"
   ]
  },
  {
   "cell_type": "code",
   "execution_count": 3,
   "metadata": {},
   "outputs": [
    {
     "name": "stdout",
     "output_type": "stream",
     "text": [
      "----------------------------------------------------------------\n",
      "        Layer (type)               Output Shape         Param #\n",
      "================================================================\n",
      "            Conv1d-1               [-1, 32, 40]             128\n",
      "         Conv1d_NN-2               [-1, 32, 40]               0\n",
      "              ReLU-3               [-1, 32, 40]               0\n",
      "            Conv1d-4               [-1, 32, 40]           3,104\n",
      "         Conv1d_NN-5               [-1, 32, 40]               0\n",
      "              ReLU-6               [-1, 32, 40]               0\n",
      "            Conv1d-7               [-1, 32, 40]           3,104\n",
      "         Conv1d_NN-8               [-1, 32, 40]               0\n",
      "              ReLU-9               [-1, 32, 40]               0\n",
      "          Flatten-10                 [-1, 1280]               0\n",
      "           Linear-11                   [-1, 10]          12,810\n",
      "================================================================\n",
      "Total params: 19,146\n",
      "Trainable params: 19,146\n",
      "Non-trainable params: 0\n",
      "----------------------------------------------------------------\n",
      "Input size (MB): 0.00\n",
      "Forward/backward pass size (MB): 0.10\n",
      "Params size (MB): 0.07\n",
      "Estimated Total Size (MB): 0.17\n",
      "----------------------------------------------------------------\n"
     ]
    }
   ],
   "source": [
    "# Regular Conv1d_NN\n",
    "model1 = nn.Sequential(\n",
    "    Conv1d_NN(in_channels=1, out_channels =32, K = 3),  # Change the number of input channels to 1\n",
    "    nn.ReLU(), \n",
    "    Conv1d_NN(in_channels=32, out_channels=32, K = 3),\n",
    "    nn.ReLU(),\n",
    "    Conv1d_NN(in_channels=32, out_channels=32, K = 3),\n",
    "    nn.ReLU(),\n",
    "    nn.Flatten(), \n",
    "    nn.Linear(1280, 10)\n",
    ")\n",
    "\n",
    "# Get summary \n",
    "from torchsummary import summary\n",
    "summary(model1, (1, 40), device='cpu')"
   ]
  },
  {
   "cell_type": "code",
   "execution_count": 4,
   "metadata": {},
   "outputs": [
    {
     "name": "stdout",
     "output_type": "stream",
     "text": [
      "Regular Conv1d_NN Results\n",
      "step 1000, dt 18.81s, train_loss 9.682e-01, test_loss 1.498e+00, train_acc 65.6, test_acc 45.8\n",
      "step 2000, dt 17.99s, train_loss 9.179e-01, test_loss 1.688e+00, train_acc 65.3, test_acc 45.4\n",
      "step 3000, dt 18.93s, train_loss 7.473e-01, test_loss 1.903e+00, train_acc 66.8, test_acc 42.6\n",
      "step 4000, dt 17.91s, train_loss 7.513e-01, test_loss 1.993e+00, train_acc 67.7, test_acc 45.4\n",
      "step 5000, dt 18.10s, train_loss 6.896e-01, test_loss 1.922e+00, train_acc 72.0, test_acc 43.3\n",
      "step 6000, dt 19.01s, train_loss 5.796e-01, test_loss 2.173e+00, train_acc 71.4, test_acc 43.7\n"
     ]
    }
   ],
   "source": [
    "# Regular Conv1d_NN Results \n",
    "print(\"Regular Conv1d_NN Results\")\n",
    "results1 = train_model(data, model1, dataset.model_args)"
   ]
  },
  {
   "cell_type": "markdown",
   "metadata": {},
   "source": [
    "### Local -> Global Neural Network"
   ]
  },
  {
   "cell_type": "code",
   "execution_count": 5,
   "metadata": {},
   "outputs": [
    {
     "name": "stdout",
     "output_type": "stream",
     "text": [
      "----------------------------------------------------------------\n",
      "        Layer (type)               Output Shape         Param #\n",
      "================================================================\n",
      "            Conv1d-1               [-1, 32, 38]             128\n",
      "              ReLU-2               [-1, 32, 38]               0\n",
      "            Conv1d-3               [-1, 32, 38]           3,104\n",
      "         Conv1d_NN-4               [-1, 32, 38]               0\n",
      "              ReLU-5               [-1, 32, 38]               0\n",
      "            Conv1d-6               [-1, 32, 36]           3,104\n",
      "              ReLU-7               [-1, 32, 36]               0\n",
      "            Conv1d-8               [-1, 32, 36]           3,104\n",
      "         Conv1d_NN-9               [-1, 32, 36]               0\n",
      "             ReLU-10               [-1, 32, 36]               0\n",
      "           Conv1d-11               [-1, 32, 34]           3,104\n",
      "             ReLU-12               [-1, 32, 34]               0\n",
      "           Conv1d-13               [-1, 32, 34]           3,104\n",
      "        Conv1d_NN-14               [-1, 32, 34]               0\n",
      "             ReLU-15               [-1, 32, 34]               0\n",
      "          Flatten-16                 [-1, 1088]               0\n",
      "           Linear-17                   [-1, 10]          10,890\n",
      "================================================================\n",
      "Total params: 26,538\n",
      "Trainable params: 26,538\n",
      "Non-trainable params: 0\n",
      "----------------------------------------------------------------\n",
      "Input size (MB): 0.00\n",
      "Forward/backward pass size (MB): 0.14\n",
      "Params size (MB): 0.10\n",
      "Estimated Total Size (MB): 0.24\n",
      "----------------------------------------------------------------\n"
     ]
    }
   ],
   "source": [
    "# Local -> Global Conv1d_NN\n",
    "model2 = nn.Sequential(\n",
    "   nn.Conv1d(in_channels=1, out_channels=32, kernel_size=3),\n",
    "   nn.ReLU(),\n",
    "   Conv1d_NN(in_channels=32, out_channels=32, K = 3),\n",
    "   nn.ReLU(),\n",
    "   nn.Conv1d(in_channels=32, out_channels=32, kernel_size=3),\n",
    "   nn.ReLU(),\n",
    "   Conv1d_NN(in_channels=32, out_channels=32, K = 3),\n",
    "   nn.ReLU(),\n",
    "   nn.Conv1d(in_channels=32, out_channels=32, kernel_size=3),\n",
    "   nn.ReLU(), \n",
    "   Conv1d_NN(in_channels=32, out_channels=32, K = 3),\n",
    "   nn.ReLU(),\n",
    "   nn.Flatten(),\n",
    "   nn.Linear(1088, 10)\n",
    ")\n",
    "\n",
    "# Get summary \n",
    "from torchsummary import summary \n",
    "summary(model2, (1, 40), device='cpu')"
   ]
  },
  {
   "cell_type": "code",
   "execution_count": 6,
   "metadata": {},
   "outputs": [
    {
     "name": "stdout",
     "output_type": "stream",
     "text": [
      "Local -> Global Conv1d_NN Results\n",
      "step 1000, dt 19.85s, train_loss 1.000e+00, test_loss 9.344e-01, train_acc 66.8, test_acc 63.6\n",
      "step 2000, dt 17.94s, train_loss 5.179e-01, test_loss 6.010e-01, train_acc 83.0, test_acc 80.1\n",
      "step 3000, dt 17.28s, train_loss 5.710e-01, test_loss 6.227e-01, train_acc 82.0, test_acc 78.2\n",
      "step 4000, dt 17.68s, train_loss 3.069e-01, test_loss 6.436e-01, train_acc 84.0, test_acc 78.2\n",
      "step 5000, dt 17.39s, train_loss 2.944e-01, test_loss 5.354e-01, train_acc 89.1, test_acc 84.7\n",
      "step 6000, dt 17.68s, train_loss 1.454e-01, test_loss 6.474e-01, train_acc 88.7, test_acc 84.3\n"
     ]
    }
   ],
   "source": [
    "# Local -> Global Conv1d_NN Results \n",
    "print(\"Local -> Global Conv1d_NN Results\")\n",
    "results2 = train_model(data, model2, dataset.model_args)"
   ]
  },
  {
   "cell_type": "markdown",
   "metadata": {},
   "source": [
    "### Global -> Local Neural Network"
   ]
  },
  {
   "cell_type": "code",
   "execution_count": 7,
   "metadata": {},
   "outputs": [
    {
     "name": "stdout",
     "output_type": "stream",
     "text": [
      "----------------------------------------------------------------\n",
      "        Layer (type)               Output Shape         Param #\n",
      "================================================================\n",
      "            Conv1d-1               [-1, 32, 40]             128\n",
      "         Conv1d_NN-2               [-1, 32, 40]               0\n",
      "              ReLU-3               [-1, 32, 40]               0\n",
      "            Conv1d-4               [-1, 32, 38]           3,104\n",
      "              ReLU-5               [-1, 32, 38]               0\n",
      "            Conv1d-6               [-1, 32, 38]           3,104\n",
      "         Conv1d_NN-7               [-1, 32, 38]               0\n",
      "              ReLU-8               [-1, 32, 38]               0\n",
      "            Conv1d-9               [-1, 32, 36]           3,104\n",
      "             ReLU-10               [-1, 32, 36]               0\n",
      "           Conv1d-11               [-1, 32, 36]           3,104\n",
      "        Conv1d_NN-12               [-1, 32, 36]               0\n",
      "             ReLU-13               [-1, 32, 36]               0\n",
      "           Conv1d-14               [-1, 32, 34]           3,104\n",
      "             ReLU-15               [-1, 32, 34]               0\n",
      "          Flatten-16                 [-1, 1088]               0\n",
      "           Linear-17                   [-1, 10]          10,890\n",
      "================================================================\n",
      "Total params: 26,538\n",
      "Trainable params: 26,538\n",
      "Non-trainable params: 0\n",
      "----------------------------------------------------------------\n",
      "Input size (MB): 0.00\n",
      "Forward/backward pass size (MB): 0.14\n",
      "Params size (MB): 0.10\n",
      "Estimated Total Size (MB): 0.25\n",
      "----------------------------------------------------------------\n"
     ]
    }
   ],
   "source": [
    "# Global -> Local Conv1d_NN\n",
    "model3 = nn.Sequential(\n",
    "   Conv1d_NN(in_channels=1, out_channels=32, K = 3),\n",
    "   nn.ReLU(),\n",
    "   nn.Conv1d(in_channels=32, out_channels=32, kernel_size=3),\n",
    "   nn.ReLU(),\n",
    "   Conv1d_NN(in_channels=32, out_channels=32, K = 3),\n",
    "   nn.ReLU(),\n",
    "   nn.Conv1d(in_channels=32, out_channels=32, kernel_size=3),\n",
    "   nn.ReLU(),\n",
    "   Conv1d_NN(in_channels=32, out_channels=32, K = 3),\n",
    "   nn.ReLU(),\n",
    "   nn.Conv1d(in_channels=32, out_channels=32, kernel_size=3),\n",
    "   nn.ReLU(), \n",
    "   nn.Flatten(),\n",
    "   nn.Linear(1088, 10)\n",
    ")\n",
    "\n",
    "# Get summary \n",
    "from torchsummary import summary \n",
    "summary(model3, (1, 40), device='cpu')"
   ]
  },
  {
   "cell_type": "code",
   "execution_count": 8,
   "metadata": {},
   "outputs": [
    {
     "name": "stdout",
     "output_type": "stream",
     "text": [
      "Global -> Local Conv1d_NN Results\n",
      "step 1000, dt 19.46s, train_loss 4.570e-01, test_loss 5.931e-01, train_acc 85.7, test_acc 81.2\n",
      "step 2000, dt 20.09s, train_loss 3.671e-01, test_loss 4.458e-01, train_acc 89.4, test_acc 86.4\n",
      "step 3000, dt 20.24s, train_loss 2.444e-01, test_loss 4.280e-01, train_acc 92.2, test_acc 85.8\n",
      "step 4000, dt 18.86s, train_loss 3.859e-01, test_loss 5.769e-01, train_acc 91.3, test_acc 83.8\n",
      "step 5000, dt 20.65s, train_loss 2.847e-01, test_loss 5.142e-01, train_acc 92.2, test_acc 86.0\n",
      "step 6000, dt 20.44s, train_loss 1.438e-01, test_loss 5.244e-01, train_acc 91.7, test_acc 86.5\n"
     ]
    }
   ],
   "source": [
    "# Global -> Local Conv1d_NN Results \n",
    "print(\"Global -> Local Conv1d_NN Results\")\n",
    "results3 = train_model(data, model3, dataset.model_args)"
   ]
  },
  {
   "cell_type": "markdown",
   "metadata": {},
   "source": [
    "### Branching Neural Network"
   ]
  },
  {
   "cell_type": "code",
   "execution_count": 9,
   "metadata": {},
   "outputs": [
    {
     "name": "stdout",
     "output_type": "stream",
     "text": [
      "----------------------------------------------------------------\n",
      "        Layer (type)               Output Shape         Param #\n",
      "================================================================\n",
      "            Conv1d-1               [-1, 16, 38]              64\n",
      "              ReLU-2               [-1, 16, 38]               0\n",
      "            Conv1d-3               [-1, 16, 40]              64\n",
      "         Conv1d_NN-4               [-1, 16, 40]               0\n",
      "              ReLU-5               [-1, 16, 40]               0\n",
      "            Conv1d-6               [-1, 16, 40]             528\n",
      "  BranchingNetwork-7               [-1, 16, 40]               0\n",
      "            Conv1d-8                [-1, 8, 38]             392\n",
      "              ReLU-9                [-1, 8, 38]               0\n",
      "           Conv1d-10                [-1, 8, 40]             392\n",
      "        Conv1d_NN-11                [-1, 8, 40]               0\n",
      "             ReLU-12                [-1, 8, 40]               0\n",
      "           Conv1d-13                [-1, 8, 40]             136\n",
      " BranchingNetwork-14                [-1, 8, 40]               0\n",
      "           Conv1d-15                [-1, 4, 38]             100\n",
      "             ReLU-16                [-1, 4, 38]               0\n",
      "           Conv1d-17                [-1, 4, 40]             100\n",
      "        Conv1d_NN-18                [-1, 4, 40]               0\n",
      "             ReLU-19                [-1, 4, 40]               0\n",
      "           Conv1d-20                [-1, 4, 40]              36\n",
      " BranchingNetwork-21                [-1, 4, 40]               0\n",
      "          Flatten-22                  [-1, 160]               0\n",
      "           Linear-23                   [-1, 10]           1,610\n",
      "================================================================\n",
      "Total params: 3,422\n",
      "Trainable params: 3,422\n",
      "Non-trainable params: 0\n",
      "----------------------------------------------------------------\n",
      "Input size (MB): 0.00\n",
      "Forward/backward pass size (MB): 0.06\n",
      "Params size (MB): 0.01\n",
      "Estimated Total Size (MB): 0.07\n",
      "----------------------------------------------------------------\n"
     ]
    }
   ],
   "source": [
    "model4 = nn.Sequential(\n",
    "   BranchingNetwork(in_ch = 1, out_ch1 = 16, out_ch2=16, kernel_size = 3), \n",
    "   BranchingNetwork(in_ch = 16, out_ch1 = 8, out_ch2=8, kernel_size = 3),\n",
    "   BranchingNetwork(in_ch = 8, out_ch1 = 4, out_ch2=4, kernel_size = 3),\n",
    "   nn.Flatten(), \n",
    "   nn.Linear(160, 10)\n",
    ")\n",
    "\n",
    "\n",
    "# Get summary\n",
    "from torchsummary import summary \n",
    "summary(model4, (1, 40), device='cpu')"
   ]
  },
  {
   "cell_type": "code",
   "execution_count": 10,
   "metadata": {},
   "outputs": [
    {
     "name": "stdout",
     "output_type": "stream",
     "text": [
      "Branching Conv1d_NN Conv1d Results\n",
      "step 1000, dt 24.98s, train_loss 2.406e-01, test_loss 5.027e-01, train_acc 91.6, test_acc 86.3\n",
      "step 2000, dt 23.91s, train_loss 3.971e-02, test_loss 4.663e-01, train_acc 96.5, test_acc 89.9\n",
      "step 3000, dt 23.45s, train_loss 1.728e-01, test_loss 4.960e-01, train_acc 95.4, test_acc 90.2\n",
      "step 4000, dt 23.68s, train_loss 1.150e-01, test_loss 5.067e-01, train_acc 94.8, test_acc 90.4\n",
      "step 5000, dt 23.47s, train_loss 2.517e-02, test_loss 4.663e-01, train_acc 97.7, test_acc 91.3\n",
      "step 6000, dt 23.87s, train_loss 3.281e-02, test_loss 5.402e-01, train_acc 96.5, test_acc 91.1\n"
     ]
    }
   ],
   "source": [
    "# Branching Network Results \n",
    "print(\"Branching Conv1d_NN Conv1d Results\")\n",
    "results4 = train_model(data, model4, dataset.model_args)"
   ]
  },
  {
   "cell_type": "markdown",
   "metadata": {},
   "source": [
    "### "
   ]
  }
 ],
 "metadata": {
  "kernelspec": {
   "display_name": "MK",
   "language": "python",
   "name": "python3"
  },
  "language_info": {
   "codemirror_mode": {
    "name": "ipython",
    "version": 3
   },
   "file_extension": ".py",
   "mimetype": "text/x-python",
   "name": "python",
   "nbconvert_exporter": "python",
   "pygments_lexer": "ipython3",
   "version": "3.12.0"
  }
 },
 "nbformat": 4,
 "nbformat_minor": 2
}
