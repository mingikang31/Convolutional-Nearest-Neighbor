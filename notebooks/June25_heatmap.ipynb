{
 "cells": [
  {
   "cell_type": "markdown",
   "metadata": {},
   "source": [
    "# Results Heatmap for training and testing"
   ]
  },
  {
   "cell_type": "code",
   "execution_count": 1,
   "metadata": {},
   "outputs": [
    {
     "name": "stdout",
     "output_type": "stream",
     "text": [
      "The Arguments for Data are: \n",
      "num_samples: 5000 \n",
      " train_split: 0.8 \n",
      " template_len: 12 \n",
      " padding: [36,60] \n",
      " scale_coeff: .4 \n",
      " max_translation: 48 \n",
      " corr_noise_scale: 0.25 \n",
      " iid_noise_scale: 2e-2 \n",
      " shear_scale: 0.75 \n",
      " shuffle_seq: False \n",
      " final_seq_length: 40 \n",
      " seed: 42\n",
      "\n",
      "\n",
      "The Arguments for Model are: \n",
      "input_size: 40 \n",
      " output_size: 10 \n",
      " hidden_size: 256 \n",
      " learning_rate: 1e-2 \n",
      " weight_decay: 0 \n",
      " batch_size: 100 \n",
      " total_steps: 6000 \n",
      " print_every: 1000 \n",
      " eval_every: 250 \n",
      " checkpoint_every: 1000 \n",
      " device: mps \n",
      " seed: 42\n"
     ]
    },
    {
     "name": "stderr",
     "output_type": "stream",
     "text": [
      "/var/folders/s7/md5b66vn4l39df_j063nqlp00000gn/T/ipykernel_78661/3737593358.py:14: DeprecationWarning: \n",
      "Pyarrow will become a required dependency of pandas in the next major release of pandas (pandas 3.0),\n",
      "(to allow more performant data types, such as the Arrow string type, and better interoperability with other libraries)\n",
      "but was not found to be installed on your system.\n",
      "If this would cause problems for you,\n",
      "please provide us feedback at https://github.com/pandas-dev/pandas/issues/54466\n",
      "        \n",
      "  import pandas as pd\n"
     ]
    }
   ],
   "source": [
    "import sys \n",
    "sys.path.append(\"../\")\n",
    "\n",
    "import torch \n",
    "import torch.nn\n",
    "\n",
    "from Conv1d_NN import Conv1d_NN\n",
    "\n",
    "from models import * \n",
    "from train import * \n",
    "from dataset import * \n",
    "\n",
    "\n",
    "import pandas as pd"
   ]
  },
  {
   "cell_type": "code",
   "execution_count": null,
   "metadata": {},
   "outputs": [],
   "source": [
    "results_df = pd.DataFrame(columns=[\"Model\", \"Train Loss\", \"Val Loss\", \"Train Acc\", \"Val Acc\", \"Train F1\", \"Val F1\"])\n"
   ]
  }
 ],
 "metadata": {
  "kernelspec": {
   "display_name": "MK",
   "language": "python",
   "name": "python3"
  },
  "language_info": {
   "codemirror_mode": {
    "name": "ipython",
    "version": 3
   },
   "file_extension": ".py",
   "mimetype": "text/x-python",
   "name": "python",
   "nbconvert_exporter": "python",
   "pygments_lexer": "ipython3",
   "version": "3.12.0"
  }
 },
 "nbformat": 4,
 "nbformat_minor": 2
}
