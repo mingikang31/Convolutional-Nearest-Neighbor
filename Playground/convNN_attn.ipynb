{
 "cells": [
  {
   "cell_type": "markdown",
   "id": "daf62ccd",
   "metadata": {},
   "source": [
    "## ConvNN Attention Edition"
   ]
  },
  {
   "cell_type": "code",
   "execution_count": 1,
   "id": "94727556",
   "metadata": {},
   "outputs": [],
   "source": [
    "\n",
    "import torch \n",
    "import torch.nn as nn\n",
    "from torch.nn import Conv1d\n",
    "import torch.nn.functional as F \n",
    "\n",
    "import numpy as np\n",
    "\n",
    "# Train + Data \n",
    "import sys \n",
    "sys.path.append('../Layers')\n",
    "from pixelshuffle import PixelShuffle1D, PixelUnshuffle1D\n"
   ]
  },
  {
   "cell_type": "markdown",
   "id": "79f99e8d",
   "metadata": {},
   "source": [
    "#### i. KNN ViT"
   ]
  },
  {
   "cell_type": "code",
   "execution_count": 2,
   "id": "cc75fea7",
   "metadata": {},
   "outputs": [],
   "source": [
    "x = torch.randn(32, 3, 64)\n",
    "qkv = nn.Linear(64, 64 * 3, bias=False)\n",
    "num_heads = 1\n",
    "\n",
    "B, C, N = x.shape\n",
    "qkv = qkv(x).reshape(B, N, 3, num_heads, C // num_heads).permute(2, 0, 3, 1, 4)\n",
    "q, k, v = qkv[0], qkv[1], qkv[2]   # make torchscript happy (cannot use tensor as tuple)\n",
    "attn = (q @ k.transpose(-2, -1)) "
   ]
  },
  {
   "cell_type": "code",
   "execution_count": 3,
   "id": "d944a522",
   "metadata": {},
   "outputs": [
    {
     "name": "stdout",
     "output_type": "stream",
     "text": [
      "Attention shape: torch.Size([32, 1, 64, 64])\n",
      "qkv: torch.Size([3, 32, 1, 64, 3])\n",
      "q: torch.Size([32, 1, 64, 3])\n",
      "k: torch.Size([32, 1, 64, 3])\n",
      "v: torch.Size([32, 1, 64, 3])\n"
     ]
    }
   ],
   "source": [
    "print('Attention shape:', attn.shape)\n",
    "print(\"qkv:\", qkv.shape)\n",
    "print(\"q:\", q.shape)\n",
    "print(\"k:\", k.shape)\n",
    "print(\"v:\", v.shape)\n"
   ]
  },
  {
   "cell_type": "markdown",
   "id": "305fdf96",
   "metadata": {},
   "source": [
    "## ii. ConvNN Attn "
   ]
  },
  {
   "cell_type": "code",
   "execution_count": 4,
   "id": "cefe3f56",
   "metadata": {},
   "outputs": [
    {
     "name": "stdout",
     "output_type": "stream",
     "text": [
      "Attention shape: torch.Size([32, 64, 64])\n",
      "q: torch.Size([32, 3, 64])\n",
      "k: torch.Size([32, 3, 64])\n",
      "v: torch.Size([32, 3, 64])\n"
     ]
    }
   ],
   "source": [
    "x = torch.randn(32, 3, 64)\n",
    "w_q = nn.Linear(64, 64, bias=False)\n",
    "w_k = nn.Linear(64, 64, bias=False)\n",
    "w_v = nn.Linear(64, 64, bias=False)\n",
    "\n",
    "q = w_q(x)\n",
    "k = w_k(x)\n",
    "v = w_v(x)\n",
    "\n",
    "attn = (k.transpose(-2, -1) @ q) \n",
    "\n",
    "print('Attention shape:', attn.shape)\n",
    "print(\"q:\", q.shape)\n",
    "print(\"k:\", k.shape)\n",
    "print(\"v:\", v.shape)"
   ]
  },
  {
   "cell_type": "markdown",
   "id": "2d0255a7",
   "metadata": {},
   "source": [
    "### 1. Matrix Calcuations"
   ]
  },
  {
   "cell_type": "markdown",
   "id": "8fd780b0",
   "metadata": {},
   "source": [
    "Distance matrix calculation"
   ]
  },
  {
   "cell_type": "code",
   "execution_count": 5,
   "id": "56f63aaf",
   "metadata": {},
   "outputs": [],
   "source": [
    "\n",
    "def _calculate_distance_matrix_alt(K, Q, sqrt=False):\n",
    "    \"\"\"\n",
    "    Calculate the distance matrix between two sets of vectors.\n",
    "    \n",
    "    Args:\n",
    "        K (torch.Tensor): The first set of vectors (shape: [B, C, N]).\n",
    "        Q (torch.Tensor): The second set of vectors (shape: [B, C, M]).\n",
    "        sqrt (bool): If True, return the square root of the distance matrix.\n",
    "        \n",
    "    Returns:\n",
    "        torch.Tensor: The distance matrix (shape: [B, N, M]).\n",
    "    \"\"\"\n",
    "    # For [B, C, N] and [B, C, M] format\n",
    "    norm_squared_K = torch.sum(K**2, dim=1, keepdim=True)  # [B, 1, N]\n",
    "    norm_squared_Q = torch.sum(Q**2, dim=1, keepdim=True)  # [B, 1, M]\n",
    "    \n",
    "    dot_product = torch.bmm(K.transpose(2, 1), Q)  # [B, N, M]\n",
    "    \n",
    "    # Broadcasting: [B, 1, N] + [B, M, 1] - 2*[B, N, M]\n",
    "    dist_matrix = norm_squared_K + norm_squared_Q.transpose(2, 1) - 2 * dot_product\n",
    "    \n",
    "    dist_matrix = torch.clamp(dist_matrix, min=0)  # remove negative values\n",
    "    \n",
    "    if sqrt:\n",
    "        dist_matrix = torch.sqrt(dist_matrix)\n",
    "    \n",
    "    return dist_matrix\n",
    "\n",
    "\n",
    "def _calculate_distance_matrix_alt_2(K, Q, sqrt=False):\n",
    "    \"\"\"\n",
    "    Calculate the distance matrix between two sets of vectors.\n",
    "    \n",
    "    Args:\n",
    "        K (torch.Tensor): The first set of vectors (shape: [B, C, N]).\n",
    "        Q (torch.Tensor): The second set of vectors (shape: [B, C, M]).\n",
    "        sqrt (bool): If True, return the square root of the distance matrix.\n",
    "        \n",
    "    Returns:\n",
    "        torch.Tensor: The distance matrix (shape: [B, N, M]).\n",
    "    \"\"\"\n",
    "    # For [B, C, N] and [B, C, M] format\n",
    "    norm_squared_K = torch.sum(K**2, dim=1, keepdim=True)  # [B, 1, N]\n",
    "    norm_squared_Q = torch.sum(Q**2, dim=1, keepdim=True)  # [B, 1, M]\n",
    "    \n",
    "    dot_product = torch.bmm(K.transpose(1, 2), Q)  # [B, N, M]\n",
    "    \n",
    "    # Broadcasting: [B, 1, N] + [B, M, 1] - 2*[B, N, M]\n",
    "    dist_matrix = norm_squared_K + norm_squared_Q.transpose(1, 2) - 2 * dot_product\n",
    "    \n",
    "    dist_matrix = torch.clamp(dist_matrix, min=0)  # remove negative values\n",
    "    \n",
    "    if sqrt:\n",
    "        dist_matrix = torch.sqrt(dist_matrix)\n",
    "    \n",
    "    return dist_matrix"
   ]
  },
  {
   "cell_type": "code",
   "execution_count": 6,
   "id": "741dda0e",
   "metadata": {},
   "outputs": [
    {
     "name": "stdout",
     "output_type": "stream",
     "text": [
      "Distance matrix shape: torch.Size([32, 64, 64])\n",
      "Distance matrix 2 shape: torch.Size([32, 64, 64])\n",
      "Are they similar? True\n"
     ]
    }
   ],
   "source": [
    "d = _calculate_distance_matrix_alt(k, q)\n",
    "print('Distance matrix shape:', d.shape)\n",
    "d1 = _calculate_distance_matrix_alt_2(k, q)\n",
    "print('Distance matrix 2 shape:', d1.shape)\n",
    "\n",
    "# Note: Distance and similarity matrices are inherently different\n",
    "# To compare them, you need a transformation:\n",
    "print('Are they similar?', torch.allclose(d, d1, rtol=1e-2, atol=1e-2))"
   ]
  },
  {
   "cell_type": "markdown",
   "id": "4dc298e1",
   "metadata": {},
   "source": [
    "similarity matrix calculation"
   ]
  },
  {
   "cell_type": "code",
   "execution_count": 7,
   "id": "5becf323",
   "metadata": {},
   "outputs": [
    {
     "name": "stdout",
     "output_type": "stream",
     "text": [
      "Similarity matrix shape: torch.Size([32, 64, 64])\n",
      "Similarity matrix 2 shape: torch.Size([32, 64, 64])\n",
      "Are they similar? True\n"
     ]
    }
   ],
   "source": [
    "def _calculate_similarity_matrix_alt(k, q):\n",
    "    k_norm = F.normalize(k, p=2, dim=1)\n",
    "    q_norm = F.normalize(q, p=2, dim=1)\n",
    "    similarity_matrix = torch.bmm(k_norm.transpose(2, 1), q_norm)  # [B, N, M]\n",
    "    similarity_matrix = torch.clamp(similarity_matrix, min=0)  # remove negative values\n",
    "    return similarity_matrix\n",
    "\n",
    "\n",
    "\n",
    "def _calculate_similarity_matrix_alt_1(k, q):\n",
    "    k_norm = F.normalize(k, p=2, dim=1)\n",
    "    q_norm = F.normalize(q, p=2, dim=1)\n",
    "    similarity_matrix = torch.bmm(k_norm.transpose(1, 2), q_norm)  # [B, N, M]\n",
    "    similarity_matrix = torch.clamp(similarity_matrix, min=0)  # remove negative values\n",
    "    return similarity_matrix\n",
    "\n",
    "s = _calculate_similarity_matrix_alt(k, q)\n",
    "print('Similarity matrix shape:', s.shape)\n",
    "s1 = _calculate_similarity_matrix_alt_1(k, q)\n",
    "print('Similarity matrix 2 shape:', s1.shape)\n",
    "# Note: Distance and similarity matrices are inherently different\n",
    "# To compare them, you need a transformation:\n",
    "print('Are they similar?', torch.allclose(s, s1, rtol=1e-2, atol=1e-2))"
   ]
  },
  {
   "cell_type": "code",
   "execution_count": 8,
   "id": "d45c11c8",
   "metadata": {},
   "outputs": [],
   "source": [
    "#### FINAL FUNCTIONS\n",
    "def _calculate_similarity_matrix(k, q):\n",
    "    k_norm = F.normalize(k, p=2, dim=1)\n",
    "    q_norm = F.normalize(q, p=2, dim=1)\n",
    "    similarity_matrix = torch.bmm(k_norm.transpose(2, 1), q_norm)  # [B, N, M]\n",
    "    similarity_matrix = torch.clamp(similarity_matrix, min=0)  # remove negative values\n",
    "    return similarity_matrix\n",
    "\n",
    "def _calculate_distance_matrix(K, Q, sqrt=False):\n",
    "    norm_squared_K = torch.sum(K**2, dim=1, keepdim=True) \n",
    "    norm_squared_Q = torch.sum(Q**2, dim=1, keepdim=True) \n",
    "    \n",
    "    dot_product = torch.bmm(K.transpose(2, 1), Q)  \n",
    "    \n",
    "    # Broadcasting: [B, 1, N] + [B, M, 1] - 2*[B, N, M]\n",
    "    dist_matrix = norm_squared_K + norm_squared_Q.transpose(2, 1) - 2 * dot_product\n",
    "    \n",
    "    dist_matrix = torch.clamp(dist_matrix, min=0)  # remove negative values\n",
    "    \n",
    "    if sqrt:\n",
    "        dist_matrix = torch.sqrt(dist_matrix)\n",
    "    \n",
    "    return dist_matrix"
   ]
  },
  {
   "cell_type": "markdown",
   "id": "8b6a165e",
   "metadata": {},
   "source": [
    "### 2. Matrix Multiplication N samples"
   ]
  },
  {
   "cell_type": "code",
   "execution_count": 9,
   "id": "bb22c4cd",
   "metadata": {},
   "outputs": [],
   "source": [
    "def _calculate_similarity_matrix_N(k, q):\n",
    "    k_norm = F.normalize(k, p=2, dim=1)\n",
    "    q_norm = F.Normalize(q, p=2, dim=1)\n",
    "    similarity_matrix = torch.bmm(k_norm.transpose(1, 2), q_norm)  # [B, N, M]\n",
    "    similarity_matrix = torch.clamp(similarity_matrix, min=0)  # remove negative values\n",
    "    return similarity_matrix\n",
    "\n",
    "def _calculate_distance_matrix_N(K, Q, sqrt=False):\n",
    "    norm_squared_K = torch.sum(K**2, dim=1, keepdim=True).permute(0, 2, 1)\n",
    "    norm_squared_Q = torch.sum(Q**2, dim=1, keepdim=True).transpose(2, 1).permute(0, 2, 1)\n",
    "    \n",
    "    dot_product = torch.bmm(K.transpose(2, 1), Q)  \n",
    "    \n",
    "    # Broadcasting: [B, 1, N] + [B, M, 1] - 2*[B, N, M]\n",
    "    dist_matrix = norm_squared_K + norm_squared_Q - 2 * dot_product\n",
    "    \n",
    "    dist_matrix = torch.clamp(dist_matrix, min=0)  # remove negative values\n",
    "    \n",
    "    if sqrt:\n",
    "        dist_matrix = torch.sqrt(dist_matrix)\n",
    "    \n",
    "    return dist_matrix\n"
   ]
  },
  {
   "cell_type": "markdown",
   "id": "4ea4a905",
   "metadata": {},
   "source": [
    "### 3. Prime + Prime N "
   ]
  },
  {
   "cell_type": "code",
   "execution_count": 10,
   "id": "2e07d408",
   "metadata": {},
   "outputs": [],
   "source": [
    "def _prime(v, qk, K, maximum):\n",
    "    b, c, t = v.shape \n",
    "    \n",
    "    _, topk_indices = torch.topk(qk, k=K, dim=-1, largest = maximum)\n",
    "    \n",
    "    topk_indices_exp = topk_indices.unsqueeze(1).expand(b, c, t, K)\n",
    "    \n",
    "    v_expanded = v.unsqueeze(-1).expand(b, c, t, K)\n",
    "    \n",
    "    prime = torch.gather(v_expanded, dim=2, index=topk_indices_exp)\n",
    "    \n",
    "    prime = prime.reshape(b, c, -1)\n",
    "\n",
    "    return prime"
   ]
  },
  {
   "cell_type": "code",
   "execution_count": 11,
   "id": "cf355204",
   "metadata": {},
   "outputs": [],
   "source": [
    "    \n",
    "def _prime_N(v, qk, K, rand_idx, maximum):\n",
    "    b, c, t = v.shape\n",
    "\n",
    "    # Get top-(K-1) indices from the magnitude matrix; shape: [b, t, K-1]\n",
    "    _, topk_indices = torch.topk(qk, k=K - 1, dim=2, largest=maximum)\n",
    "    tk = topk_indices.shape[-1]\n",
    "    assert K == tk + 1, \"Error: K must be same as tk + 1. K == tk + 1.\"\n",
    "\n",
    "    # Map indices from the sampled space to the full token indices using rand_idx.\n",
    "    # mapped_tensor will have shape: [b, t, K-1]\n",
    "    mapped_tensor = rand_idx[topk_indices]\n",
    "\n",
    "    # Create self indices for each token; shape: [1, t, 1] then expand to [b, t, 1]\n",
    "    token_indices = torch.arange(t, device=v.device).view(1, t, 1).expand(b, t, 1)\n",
    "\n",
    "    # Concatenate self index with neighbor indices to form final indices; shape: [b, t, K]\n",
    "    final_indices = torch.cat([token_indices, mapped_tensor], dim=2)\n",
    "\n",
    "    # Expand final_indices to include the channel dimension; result shape: [b, c, t, K]\n",
    "    indices_expanded = final_indices.unsqueeze(1).expand(b, c, t, K)\n",
    "\n",
    "    # Expand matrix to shape [b, c, t, 1] and then to [b, c, t, K] (ensuring contiguous memory)\n",
    "    v_expanded = v.unsqueeze(-1).expand(b, c, t, K).contiguous()\n",
    "\n",
    "    # Gather neighbor features along the token dimension (dim=2)\n",
    "    prime = torch.gather(v_expanded, dim=2, index=indices_expanded)  # shape: [b, c, t, K]\n",
    "\n",
    "    # Flatten the token and neighbor dimensions into one: [b, c, t*K]\n",
    "    prime = prime.reshape(b, c, -1)\n",
    "    return prime"
   ]
  },
  {
   "cell_type": "code",
   "execution_count": 12,
   "id": "07404404",
   "metadata": {},
   "outputs": [
    {
     "name": "stdout",
     "output_type": "stream",
     "text": [
      "Prime shape: torch.Size([32, 3, 96])\n",
      "Prime 1 shape: torch.Size([32, 3, 96])\n",
      "Are they similar? False\n"
     ]
    }
   ],
   "source": [
    "ex = torch.randn(32, 3, 32)\n",
    "ex1 = torch.randn(32, 32, 32)\n",
    "prime = _prime(ex, ex1, 3, True)\n",
    "print('Prime shape:', prime.shape)\n",
    "prime1 = _prime_N(ex, ex1, 3, torch.arange(32), True)\n",
    "print('Prime 1 shape:', prime1.shape)\n",
    "print('Are they similar?', torch.allclose(prime, prime1, rtol=1e-2, atol=1e-2))"
   ]
  },
  {
   "cell_type": "markdown",
   "id": "7b996b75",
   "metadata": {},
   "source": [
    "### Full Code"
   ]
  },
  {
   "cell_type": "code",
   "execution_count": 13,
   "id": "829bbe16",
   "metadata": {},
   "outputs": [],
   "source": [
    "'''Convolution 1D Nearest Neighbors Attention Layer'''\n",
    "\n",
    "'''\n",
    "Conv1d_NN_Attn is a variation of Conv1d_NN that incorporates the attention mechanism. \n",
    "'''\n",
    "\n",
    "import torch \n",
    "import torch.nn as nn\n",
    "from torch.nn import Conv1d\n",
    "import torch.nn.functional as F \n",
    "import numpy as np \n",
    "\n",
    "\n",
    "class Conv1d_NN_Attn(nn.Module):\n",
    "    \"\"\"\n",
    "    Convolutional 1D Nearest Neighbors Attention Layer \n",
    "    \"\"\"\n",
    "    \n",
    "    def __init__(self, \n",
    "                in_channels, \n",
    "                out_channels, \n",
    "                K=3, \n",
    "                stride=3, \n",
    "                padding=0, \n",
    "                shuffle_pattern='N/A', \n",
    "                shuffle_scale=2, \n",
    "                samples='all', \n",
    "                magnitude_type='similarity', \n",
    "                num_tokens=224, \n",
    "                ): \n",
    "        \n",
    "        \"\"\"\n",
    "        Initializes the Conv1d_NN module.\n",
    "        \n",
    "        Parameters:\n",
    "            in_channels (int): Number of input channels.\n",
    "            out_channels (int): Number of output channels.\n",
    "            K (int): Number of Nearest Neighbors for consideration.\n",
    "            stride (int): Stride size.\n",
    "            padding (int): Padding size.\n",
    "            shuffle_pattern (str): Shuffle pattern: \"B\", \"A\", \"BA\".\n",
    "            shuffle_scale (int): Shuffle scale factor.\n",
    "            samples (int/str): Number of samples to consider.\n",
    "            magnitude_type (str): Distance or Similarity.\n",
    "        \"\"\"\n",
    "        \n",
    "        super(Conv1d_NN_Attn, self).__init__()\n",
    "    \n",
    "        self.in_channels = in_channels\n",
    "        self.out_channels = out_channels\n",
    "        self.K = K\n",
    "        self.stride = stride \n",
    "        self.padding = padding\n",
    "        self.shuffle_pattern = shuffle_pattern \n",
    "        self.shuffle_scale = shuffle_scale\n",
    "        self.samples = int(samples) if samples != 'all' else samples \n",
    "        self.magnitude_type = magnitude_type \n",
    "        self.maximum = True if self.magnitude_type == 'similarity' else False\n",
    "        self.num_tokens = int(num_tokens / 2) if self.shuffle_pattern in [\"B\", \"BA\"] else num_tokens\n",
    "        \n",
    "        # Unshuffle layer \n",
    "        self.unshuffle_layer = PixelUnshuffle1D(downscale_factor=self.shuffle_scale)\n",
    "        \n",
    "        # Shuffle Layer \n",
    "        self.shuffle_layer = PixelShuffle1D(upscale_factor=self.shuffle_scale)\n",
    "        \n",
    "        # Channels for Conv1d Layer\n",
    "        self.in_channels = in_channels * shuffle_scale if self.shuffle_pattern in [\"BA\", \"B\"] else in_channels\n",
    "        self.out_channels = out_channels * shuffle_scale if self.shuffle_pattern in [\"BA\", \"A\"] else out_channels\n",
    "\n",
    "        # Conv1d Layer \n",
    "        self.conv1d_layer = Conv1d(in_channels=self.in_channels, \n",
    "                                    out_channels=self.out_channels, \n",
    "                                    kernel_size=self.K, \n",
    "                                    stride=self.stride, \n",
    "                                    padding=self.padding)\n",
    "        \n",
    "        # Linear Layer for Query, Key, Value\n",
    "        self.q = nn.Linear(self.num_tokens, self.num_tokens, bias=False)\n",
    "        self.k = nn.Linear(self.num_tokens, self.num_tokens, bias=False)\n",
    "        self.v = nn.Linear(self.num_tokens, self.num_tokens, bias=False)\n",
    "                \n",
    "        \n",
    "    def forward(self, x): \n",
    "        # Consider all samples \n",
    "        if self.samples == 'all': \n",
    "            # Unshuffle Layer \n",
    "            if self.shuffle_pattern in [\"B\", \"BA\"]:\n",
    "                x1 = self.unshuffle_layer(x)\n",
    "            else:\n",
    "                x1 = x\n",
    "                \n",
    "            # Q, K, V \n",
    "            q = self.q(x1)\n",
    "            k = self.k(x1)\n",
    "            v = self.v(x1)\n",
    "            \n",
    "            \n",
    "            # Calculate Distance/Similarity Matrix + Prime Vmap 2D\n",
    "            if self.magnitude_type == 'distance': \n",
    "                matrix_magnitude = self._calculate_distance_matrix(k, q, sqrt=True)\n",
    "            elif self.magnitude_type == 'similarity':\n",
    "                matrix_magnitude = self._calculate_similarity_matrix(k, q)\n",
    "                \n",
    "            prime_2d = self._prime(v, matrix_magnitude, self.K, self.maximum) \n",
    "            \n",
    "            # Conv1d Layer\n",
    "            x2 = self.conv1d_layer(prime_2d)\n",
    "            \n",
    "            \n",
    "            # Shuffle Layer \n",
    "            if self.shuffle_pattern in [\"A\", \"BA\"]:\n",
    "                x3 = self.shuffle_layer(x2)\n",
    "            else:\n",
    "                x3 = x2\n",
    "            \n",
    "            return x3\n",
    "        \n",
    "        # Consider N samples\n",
    "        else: \n",
    "            # Unshuffle Layer \n",
    "            if self.shuffle_pattern in [\"B\", \"BA\"]:\n",
    "                x1 = self.unshuffle_layer(x)\n",
    "            else:\n",
    "                x1 = x\n",
    "                \n",
    "            # Q, K, V\n",
    "            q = self.q(x1)\n",
    "            k = self.k(x1)\n",
    "            v = self.v(x1)\n",
    "                \n",
    "            # Calculate Distance/Similarity Matrix + Prime       \n",
    "            rand_idx = torch.randperm(x1.shape[2], device=x1.device)[:self.samples]\n",
    "            \n",
    "            q_sample = q[:, :, rand_idx]\n",
    "            \n",
    "            if self.magnitude_type == 'distance':\n",
    "                matrix_magnitude = self._calculate_distance_matrix_N(k, q_sample, sqrt=True)\n",
    "            elif self.magnitude_type == 'similarity':\n",
    "                matrix_magnitude = self._calculate_similarity_matrix_N(k, q_sample)\n",
    "                \n",
    "            range_idx = torch.arange(len(rand_idx), device=x1.device)\n",
    "                \n",
    "        \n",
    "            if self.magnitude_type == 'distance':\n",
    "                matrix_magnitude[:, rand_idx, range_idx] = float('inf') \n",
    "            elif self.magnitude_type == 'similarity':\n",
    "                matrix_magnitude[:, rand_idx, range_idx] = float('-inf')\n",
    "                \n",
    "            \n",
    "            prime = self._prime_N(v, matrix_magnitude, self.K, rand_idx, self.maximum)\n",
    "            \n",
    "            # Conv1d Layer\n",
    "            x2 = self.conv1d_layer(prime)\n",
    "            \n",
    "            # Shuffle Layer\n",
    "            if self.shuffle_pattern in [\"A\", \"BA\"]:\n",
    "                x3 = self.shuffle_layer(x2)\n",
    "            else:\n",
    "                x3 = x2\n",
    "            \n",
    "            return x3\n",
    "        \n",
    "\n",
    "    def _calculate_similarity_matrix(self, K, Q):\n",
    "        k_norm = F.normalize(K, p=2, dim=1)\n",
    "        q_norm = F.normalize(Q, p=2, dim=1)\n",
    "        similarity_matrix = torch.bmm(k_norm.transpose(2, 1), q_norm)  # [B, N, M]\n",
    "        similarity_matrix = torch.clamp(similarity_matrix, min=0)  # remove negative values\n",
    "        return similarity_matrix\n",
    "    \n",
    "    def _calculate_similarity_matrix_N(self, K, Q):\n",
    "        k_norm = F.normalize(K, p=2, dim=1)\n",
    "        q_norm = F.normalize(Q, p=2, dim=1)\n",
    "        similarity_matrix = torch.bmm(k_norm.transpose(2, 1), q_norm)  # [B, N, M]\n",
    "        similarity_matrix = torch.clamp(similarity_matrix, min=0)  # remove negative values\n",
    "        return similarity_matrix\n",
    "        \n",
    "\n",
    "    def _calculate_distance_matrix(self, K, Q, sqrt=False):\n",
    "        norm_squared_K = torch.sum(K**2, dim=1, keepdim=True) \n",
    "        norm_squared_Q = torch.sum(Q**2, dim=1, keepdim=True) \n",
    "        \n",
    "        dot_product = torch.bmm(K.transpose(2, 1), Q)  \n",
    "        \n",
    "        # Broadcasting: [B, 1, N] + [B, M, 1] - 2*[B, N, M]\n",
    "        dist_matrix = norm_squared_K + norm_squared_Q.transpose(2, 1) - 2 * dot_product\n",
    "        \n",
    "        dist_matrix = torch.clamp(dist_matrix, min=0)  # remove negative values\n",
    "        \n",
    "        if sqrt:\n",
    "            dist_matrix = torch.sqrt(dist_matrix)\n",
    "        \n",
    "        return dist_matrix\n",
    "\n",
    "    def _calculate_distance_matrix_N(self, K, Q, sqrt=False):\n",
    "        norm_squared_K = torch.sum(K**2, dim=1, keepdim=True).permute(0, 2, 1)\n",
    "        norm_squared_Q = torch.sum(Q**2, dim=1, keepdim=True).transpose(2, 1).permute(0, 2, 1)\n",
    "        \n",
    "        dot_product = torch.bmm(K.transpose(2, 1), Q)  \n",
    "        \n",
    "        # Broadcasting: [B, 1, N] + [B, M, 1] - 2*[B, N, M]\n",
    "        dist_matrix = norm_squared_K + norm_squared_Q - 2 * dot_product\n",
    "        \n",
    "        dist_matrix = torch.clamp(dist_matrix, min=0)  # remove negative values\n",
    "        \n",
    "        if sqrt:\n",
    "            dist_matrix = torch.sqrt(dist_matrix)\n",
    "        \n",
    "        return dist_matrix\n",
    "\n",
    "    def _prime(self, v, qk, K, maximum):\n",
    "        b, c, t = v.shape \n",
    "        \n",
    "        _, topk_indices = torch.topk(qk, k=K, dim=-1, largest = maximum)\n",
    "        \n",
    "        topk_indices_exp = topk_indices.unsqueeze(1).expand(b, c, t, K)\n",
    "        \n",
    "        v_expanded = v.unsqueeze(-1).expand(b, c, t, K)\n",
    "        \n",
    "        prime = torch.gather(v_expanded, dim=2, index=topk_indices_exp)\n",
    "        \n",
    "        prime = prime.reshape(b, c, -1)\n",
    "\n",
    "        return prime\n",
    "        \n",
    "            \n",
    "            \n",
    "    def _prime_N(self, v, qk, K, rand_idx, maximum):\n",
    "        b, c, t = v.shape\n",
    "\n",
    "        # Get top-(K-1) indices from the magnitude matrix; shape: [b, t, K-1]\n",
    "        _, topk_indices = torch.topk(qk, k=K - 1, dim=2, largest=maximum)\n",
    "        tk = topk_indices.shape[-1]\n",
    "        assert K == tk + 1, \"Error: K must be same as tk + 1. K == tk + 1.\"\n",
    "\n",
    "        # Map indices from the sampled space to the full token indices using rand_idx.\n",
    "        # mapped_tensor will have shape: [b, t, K-1]\n",
    "        mapped_tensor = rand_idx[topk_indices]\n",
    "\n",
    "        # Create self indices for each token; shape: [1, t, 1] then expand to [b, t, 1]\n",
    "        token_indices = torch.arange(t, device=v.device).view(1, t, 1).expand(b, t, 1)\n",
    "\n",
    "        # Concatenate self index with neighbor indices to form final indices; shape: [b, t, K]\n",
    "        final_indices = torch.cat([token_indices, mapped_tensor], dim=2)\n",
    "\n",
    "        # Expand final_indices to include the channel dimension; result shape: [b, c, t, K]\n",
    "        indices_expanded = final_indices.unsqueeze(1).expand(b, c, t, K)\n",
    "\n",
    "        # Expand matrix to shape [b, c, t, 1] and then to [b, c, t, K] (ensuring contiguous memory)\n",
    "        v_expanded = v.unsqueeze(-1).expand(b, c, t, K).contiguous()\n",
    "\n",
    "        # Gather neighbor features along the token dimension (dim=2)\n",
    "        prime = torch.gather(v_expanded, dim=2, index=indices_expanded)  # shape: [b, c, t, K]\n",
    "\n",
    "        # Flatten the token and neighbor dimensions into one: [b, c, t*K]\n",
    "        prime = prime.reshape(b, c, -1)\n",
    "        return prime"
   ]
  },
  {
   "cell_type": "markdown",
   "id": "7d737388",
   "metadata": {},
   "source": [
    "### Testing"
   ]
  },
  {
   "cell_type": "code",
   "execution_count": 14,
   "id": "96bf8282",
   "metadata": {},
   "outputs": [
    {
     "name": "stdout",
     "output_type": "stream",
     "text": [
      "Conv1d_NN_Attn output shape: torch.Size([32, 3, 32])\n"
     ]
    }
   ],
   "source": [
    "ex = torch.randn(32, 3, 32)\n",
    "\n",
    "conv1d_NN_attn = Conv1d_NN_Attn(in_channels=3,\n",
    "                                out_channels=3,\n",
    "                                K=3,\n",
    "                                stride=3,\n",
    "                                padding=0,\n",
    "                                shuffle_pattern='BA',\n",
    "                                shuffle_scale=2,\n",
    "                                samples='all',\n",
    "                                magnitude_type='similarity',\n",
    "                                num_tokens=32)\n",
    "out = conv1d_NN_attn(ex)\n",
    "print('Conv1d_NN_Attn output shape:', out.shape)"
   ]
  },
  {
   "cell_type": "markdown",
   "id": "b05c0fef",
   "metadata": {},
   "source": [
    "### MNIST 1D"
   ]
  },
  {
   "cell_type": "code",
   "execution_count": 22,
   "id": "92fb23ea",
   "metadata": {},
   "outputs": [
    {
     "name": "stdout",
     "output_type": "stream",
     "text": [
      "0.02 0.25\n",
      "0.0 0.0\n"
     ]
    }
   ],
   "source": [
    "\n",
    "sys.path.append('../Data')\n",
    "\n",
    "from MNIST1D import * \n",
    "\n",
    "sys.path.append('../Train')\n",
    "from train1d import * \n",
    "\n",
    "\n",
    "# Noisy Data\n",
    "noisy_dataset = MNIST1D_Dataset()\n",
    "print(noisy_dataset.data_args.iid_noise_scale, noisy_dataset.data_args.corr_noise_scale)\n",
    "noisy_data = noisy_dataset.make_dataset()\n",
    "\n",
    "\n",
    "# Clean Data \n",
    "clean_dataset = MNIST1D_Dataset()\n",
    "clean_dataset.data_args.iid_noise_scale = 0.0\n",
    "clean_dataset.data_args.corr_noise_scale = 0.0\n",
    "print(clean_dataset.data_args.iid_noise_scale, clean_dataset.data_args.corr_noise_scale)\n",
    "\n",
    "clean_data = clean_dataset.make_dataset()"
   ]
  },
  {
   "cell_type": "code",
   "execution_count": 23,
   "id": "ade0fa63",
   "metadata": {},
   "outputs": [
    {
     "data": {
      "image/png": "[encoded data removed]",
      "text/plain": [
       "<Figure size 900x234 with 10 Axes>"
      ]
     },
     "metadata": {},
     "output_type": "display_data"
    }
   ],
   "source": [
    "Plot = MNIST1D_Plot()\n",
    "\n",
    "# Noisy Data\n",
    "Plot.plot_signals(noisy_data['x'][:10], noisy_data['t'], labels=noisy_data['y'][:10], zoom = 5, title='Regular Noise')"
   ]
  },
  {
   "cell_type": "code",
   "execution_count": 24,
   "id": "3926b29d",
   "metadata": {},
   "outputs": [
    {
     "data": {
      "image/png": "[encoded data removed]",
      "text/plain": [
       "<Figure size 900x234 with 10 Axes>"
      ]
     },
     "metadata": {},
     "output_type": "display_data"
    }
   ],
   "source": [
    "# Clean Data\n",
    "Plot.plot_signals(clean_data['x'][:10], clean_data['t'], labels=clean_data['y'][:10], zoom = 5, title='Noise free')\n"
   ]
  },
  {
   "cell_type": "code",
   "execution_count": 25,
   "id": "6707c436",
   "metadata": {},
   "outputs": [],
   "source": [
    "class CNN(nn.Module):\n",
    "    def __init__(self, channels=32):\n",
    "        super(CNN, self).__init__()\n",
    "        self.conv1 = nn.Conv1d(in_channels=1, out_channels=channels, kernel_size=5, stride=1, padding=2)\n",
    "        self.conv2 = nn.Conv1d(in_channels=channels, out_channels=channels, kernel_size=5 , stride=1, padding=2)\n",
    "        self.conv3 = nn.Conv1d(in_channels=channels, out_channels=1, kernel_size=5, stride=1, padding=2)\n",
    "\n",
    "    def count_params(self):\n",
    "        return sum([p.view(-1).shape[0] for p in self.parameters()])\n",
    "\n",
    "    def forward(self, x, verbose=False): # the print statements are for debugging\n",
    "        h1 = self.conv1(x).relu()\n",
    "        h2 = self.conv2(h1).relu()\n",
    "        h3 = self.conv3(h2).relu()\n",
    "        return h3\n",
    "    "
   ]
  },
  {
   "cell_type": "code",
   "execution_count": null,
   "id": "0f9ac176",
   "metadata": {},
   "outputs": [],
   "source": [
    "class ConvNN(nn.Module):\n",
    "    def __init__(self, channels=32):\n",
    "        super(CNN, self).__init__()\n",
    "        self.conv1 = Conv1d_NN(in_channels=1, out_channels=channels, kernel_size=5, stride=1, padding=2)\n",
    "        self.conv2 = Conv1d_NN(in_channels=channels, out_channels=channels, kernel_size=5 , stride=1, padding=0)\n",
    "        self.conv3 = Conv1d_NN(in_channels=channels, out_channels=1, kernel_size=5, stride=5, padding=0)\n",
    "\n",
    "    def count_params(self):\n",
    "        return sum([p.view(-1).shape[0] for p in self.parameters()])\n",
    "\n",
    "    def forward(self, x, verbose=False): # the print statements are for debugging\n",
    "        h1 = self.conv1(x).relu()\n",
    "        h2 = self.conv2(h1).relu()\n",
    "        h3 = self.conv3(h2).relu()\n",
    "        return h3\n",
    "    "
   ]
  }
 ],
 "metadata": {
  "kernelspec": {
   "display_name": "DL",
   "language": "python",
   "name": "python3"
  },
  "language_info": {
   "codemirror_mode": {
    "name": "ipython",
    "version": 3
   },
   "file_extension": ".py",
   "mimetype": "text/x-python",
   "name": "python",
   "nbconvert_exporter": "python",
   "pygments_lexer": "ipython3",
   "version": "3.10.16"
  }
 },
 "nbformat": 4,
 "nbformat_minor": 5
}
