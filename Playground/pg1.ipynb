{
 "cells": [
  {
   "cell_type": "markdown",
   "metadata": {},
   "source": [
    "## Double Checking matrix prime calculations for random sampling\n"
   ]
  },
  {
   "cell_type": "code",
   "execution_count": 3,
   "metadata": {},
   "outputs": [
    {
     "name": "stderr",
     "output_type": "stream",
     "text": [
      "/Users/mingikang/miniforge3/envs/ML/lib/python3.12/site-packages/tqdm/auto.py:21: TqdmWarning: IProgress not found. Please update jupyter and ipywidgets. See https://ipywidgets.readthedocs.io/en/stable/user_install.html\n",
      "  from .autonotebook import tqdm as notebook_tqdm\n"
     ]
    }
   ],
   "source": [
    "# Torch\n",
    "import torch \n",
    "import torch.nn as nn\n",
    "import torch.nn.functional as F\n",
    "from torch import optim \n",
    "\n",
    "\n",
    "# Train + Data \n",
    "import sys \n",
    "sys.path.append('../Layers')\n",
    "from Conv1d_NN import * \n",
    "from Conv2d_NN import * \n",
    "from Conv1d_NN_spatial import *\n",
    "from Conv2d_NN_spatial import * \n",
    "\n",
    "sys.path.append('../Data')\n",
    "from CIFAR10 import * \n",
    "\n",
    "\n",
    "sys.path.append('../Train')\n",
    "from train2d import * \n"
   ]
  },
  {
   "cell_type": "code",
   "execution_count": 4,
   "metadata": {},
   "outputs": [
    {
     "name": "stdout",
     "output_type": "stream",
     "text": [
      "torch.Size([1, 5, 5])\n"
     ]
    }
   ],
   "source": [
    "ex1 = torch.rand(1, 5, 5)\n",
    "print(ex1.shape)"
   ]
  },
  {
   "cell_type": "code",
   "execution_count": 5,
   "metadata": {},
   "outputs": [
    {
     "name": "stdout",
     "output_type": "stream",
     "text": [
      "torch.Size([1, 5, 5])\n"
     ]
    }
   ],
   "source": [
    "ds_Reg = Conv1d_NN.calculate_distance_matrix(ex1)\n",
    "print(ds_Reg.shape)"
   ]
  },
  {
   "cell_type": "code",
   "execution_count": 6,
   "metadata": {},
   "outputs": [
    {
     "name": "stdout",
     "output_type": "stream",
     "text": [
      "torch.Size([1, 5, 5])\n"
     ]
    }
   ],
   "source": [
    "ds_Spatial = Conv1d_NN_spatial.calculate_distance_matrix_N(ex1, ex1)\n",
    "print(ds_Spatial.shape)"
   ]
  },
  {
   "cell_type": "code",
   "execution_count": 7,
   "metadata": {},
   "outputs": [],
   "source": [
    "result = torch.equal(ds_Reg, ds_Spatial)\n"
   ]
  },
  {
   "cell_type": "code",
   "execution_count": 8,
   "metadata": {},
   "outputs": [
    {
     "name": "stdout",
     "output_type": "stream",
     "text": [
      "False\n"
     ]
    }
   ],
   "source": [
    "print(result)"
   ]
  },
  {
   "cell_type": "code",
   "execution_count": 9,
   "metadata": {},
   "outputs": [
    {
     "name": "stdout",
     "output_type": "stream",
     "text": [
      "tensor([[[nan, 0., 0., 0., 0.],\n",
      "         [0., 0., 0., 0., 0.],\n",
      "         [0., 0., 0., 0., 0.],\n",
      "         [0., 0., 0., 0., 0.],\n",
      "         [0., 0., 0., 0., nan]]])\n"
     ]
    }
   ],
   "source": [
    "sub = ds_Reg - ds_Spatial\n",
    "print(sub)"
   ]
  },
  {
   "cell_type": "code",
   "execution_count": 10,
   "metadata": {},
   "outputs": [
    {
     "name": "stdout",
     "output_type": "stream",
     "text": [
      "True\n",
      "tensor([[[0., 0., 0., 0., 0.],\n",
      "         [0., 0., 0., 0., 0.],\n",
      "         [0., 0., 0., 0., 0.],\n",
      "         [0., 0., 0., 0., 0.],\n",
      "         [0., 0., 0., 0., 0.]]])\n"
     ]
    }
   ],
   "source": [
    "sm_reg = Conv1d_NN.calculate_similarity_matrix(ex1)\n",
    "\n",
    "sm_spatial = Conv1d_NN_spatial.calculate_similarity_matrix_N(ex1, ex1)\n",
    "\n",
    "result = torch.equal(sm_reg, sm_spatial)\n",
    "print(result)\n",
    "\n",
    "sub = sm_reg - sm_spatial\n",
    "print(sub)"
   ]
  },
  {
   "cell_type": "markdown",
   "metadata": {},
   "source": [
    "## I. Spatial sampling indices for batch processing\n"
   ]
  },
  {
   "cell_type": "code",
   "execution_count": 25,
   "metadata": {},
   "outputs": [
    {
     "name": "stdout",
     "output_type": "stream",
     "text": [
      "x_sample shape:  torch.Size([32, 12, 14, 14])\n",
      "x_sample_flatten shape:  torch.Size([32, 12, 196])\n",
      "x2 shape:  torch.Size([32, 12, 196])\n",
      "True\n"
     ]
    }
   ],
   "source": [
    "x1 = torch.randn(32, 12, 14, 14)\n",
    "sample_padding = 0\n",
    "samples = 14\n",
    "\n",
    "# Generate equally spaced indices for rows (x) and columns (y)\n",
    "x_ind = torch.round(torch.linspace(sample_padding,\n",
    "                                   x1.shape[2] - sample_padding - 1,\n",
    "                                   samples)).to(torch.int)\n",
    "y_ind = torch.round(torch.linspace(sample_padding,\n",
    "                                   x1.shape[3] - sample_padding - 1,\n",
    "                                   samples)).to(torch.int)\n",
    "\n",
    "# Create a meshgrid of indices\n",
    "x_grid, y_grid = torch.meshgrid(x_ind, y_ind, indexing='ij')\n",
    "\n",
    "x_sample = x1[:, :, x_grid, y_grid]\n",
    "print(\"x_sample shape: \", x_sample.shape)\n",
    "\n",
    "x_sample_flatten = x_sample.flatten(start_dim=2)\n",
    "print(\"x_sample_flatten shape: \", x_sample_flatten.shape)\n",
    "\n",
    "\n",
    "flatten = nn.Flatten(start_dim=2)\n",
    "x2 = flatten(x1)\n",
    "print(\"x2 shape: \", x2.shape)\n",
    "\n",
    "result = torch.equal(x_sample_flatten, x2)\n",
    "print(result)"
   ]
  },
  {
   "cell_type": "code",
   "execution_count": null,
   "metadata": {},
   "outputs": [
    {
     "name": "stdout",
     "output_type": "stream",
     "text": [
      "3x3 Sample pixel positions (flattened indices): tensor([  0,   1,   2,   3,   4,   5,   6,   7,   8,   9,  10,  11,  12,  13,\n",
      "         14,  15,  16,  17,  18,  19,  20,  21,  22,  23,  24,  25,  26,  27,\n",
      "         28,  29,  30,  31,  32,  33,  34,  35,  36,  37,  38,  39,  40,  41,\n",
      "         42,  43,  44,  45,  46,  47,  48,  49,  50,  51,  52,  53,  54,  55,\n",
      "         56,  57,  58,  59,  60,  61,  62,  63,  64,  65,  66,  67,  68,  69,\n",
      "         70,  71,  72,  73,  74,  75,  76,  77,  78,  79,  80,  81,  82,  83,\n",
      "         84,  85,  86,  87,  88,  89,  90,  91,  92,  93,  94,  95,  96,  97,\n",
      "         98,  99, 100, 101, 102, 103, 104, 105, 106, 107, 108, 109, 110, 111,\n",
      "        112, 113, 114, 115, 116, 117, 118, 119, 120, 121, 122, 123, 124, 125,\n",
      "        126, 127, 128, 129, 130, 131, 132, 133, 134, 135, 136, 137, 138, 139,\n",
      "        140, 141, 142, 143, 144, 145, 146, 147, 148, 149, 150, 151, 152, 153,\n",
      "        154, 155, 156, 157, 158, 159, 160, 161, 162, 163, 164, 165, 166, 167,\n",
      "        168, 169, 170, 171, 172, 173, 174, 175, 176, 177, 178, 179, 180, 181,\n",
      "        182, 183, 184, 185, 186, 187, 188, 189, 190, 191, 192, 193, 194, 195],\n",
      "       dtype=torch.int32)\n",
      "torch.Size([32, 12, 196])\n"
     ]
    }
   ],
   "source": [
    "import torch\n",
    "\n",
    "# Sample input tensor dimensions [32, 12, 14, 14]\n",
    "x1 = torch.randn(32, 12, 14, 14)\n",
    "sample_padding = 0\n",
    "samples = 14  # We want a 3x3 sample\n",
    "\n",
    "# Generate equally spaced indices for rows (x) and columns (y)\n",
    "x_ind = torch.round(torch.linspace(sample_padding,\n",
    "                                   x1.shape[2] - sample_padding - 1,\n",
    "                                   samples)).to(torch.int)\n",
    "y_ind = torch.round(torch.linspace(sample_padding,\n",
    "                                   x1.shape[3] - sample_padding - 1,\n",
    "                                   samples)).to(torch.int)\n",
    "\n",
    "# Create a meshgrid of indices\n",
    "x_grid, y_grid = torch.meshgrid(x_ind, y_ind, indexing='ij')\n",
    "\n",
    "# Flatten the grid indices (each will have 'samples*samples' = 9 values)\n",
    "x_idx_flat = x_grid.flatten()  # Row indices\n",
    "y_idx_flat = y_grid.flatten()  # Column indices\n",
    "\n",
    "# To get the corresponding flattened indices for a 14x14 matrix:\n",
    "width = x1.shape[3]  # This is 14\n",
    "flat_indices = x_idx_flat * width + y_idx_flat\n",
    "\n",
    "print(\"3x3 Sample pixel positions (flattened indices):\", flat_indices)\n",
    "\n",
    "flatten = nn.Flatten(start_dim=2)\n",
    "x1 = torch.randn(32, 12, 14, 14)\n",
    "x2 = flatten(x1)\n",
    "print(x2.shape)\n",
    "\n"
   ]
  },
  {
   "cell_type": "code",
   "execution_count": null,
   "metadata": {},
   "outputs": [],
   "source": []
  }
 ],
 "metadata": {
  "kernelspec": {
   "display_name": "ML",
   "language": "python",
   "name": "python3"
  },
  "language_info": {
   "codemirror_mode": {
    "name": "ipython",
    "version": 3
   },
   "file_extension": ".py",
   "mimetype": "text/x-python",
   "name": "python",
   "nbconvert_exporter": "python",
   "pygments_lexer": "ipython3",
   "version": "3.12.0"
  }
 },
 "nbformat": 4,
 "nbformat_minor": 2
}
