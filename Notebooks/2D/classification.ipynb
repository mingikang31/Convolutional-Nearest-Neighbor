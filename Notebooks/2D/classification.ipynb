{
 "cells": [
  {
   "cell_type": "markdown",
   "metadata": {},
   "source": [
    "# Classification Test for CNN + Conv2d_NN"
   ]
  },
  {
   "cell_type": "code",
   "execution_count": 1,
   "metadata": {},
   "outputs": [],
   "source": [
    "import sys \n",
    "sys.path.append('../')\n",
    "import time\n",
    "import os \n",
    "\n",
    "\n",
    "import torch \n",
    "import torch.nn as nn\n",
    "import torch.optim as optim\n",
    "import torch.nn.functional as F\n",
    "from torch.utils.data import DataLoader\n",
    "from torchsummary import summary \n",
    "\n",
    "from Conv2d_NN_spatial import Conv2d_NN_spatial\n",
    "from Conv2d_NN import Conv2d_NN\n",
    "from pixelshuffle import PixelShuffle1D, PixelUnshuffle1D\n",
    "\n",
    "\n",
    "from data import MNIST, FashionMNIST, CIFAR10\n",
    "from train import train_model, evaluate_accuracy \n"
   ]
  },
  {
   "cell_type": "markdown",
   "metadata": {},
   "source": [
    "### MNIST + FashionMNIST + CIFAR10 Data"
   ]
  },
  {
   "cell_type": "code",
   "execution_count": 2,
   "metadata": {},
   "outputs": [
    {
     "name": "stdout",
     "output_type": "stream",
     "text": [
      "Files already downloaded and verified\n",
      "Files already downloaded and verified\n"
     ]
    },
    {
     "data": {
      "image/png": "[encoded data removed]",
      "text/plain": [
       "<Figure size 600x300 with 1 Axes>"
      ]
     },
     "metadata": {},
     "output_type": "display_data"
    },
    {
     "data": {
      "image/png": "[encoded data removed]",
      "text/plain": [
       "<Figure size 600x300 with 1 Axes>"
      ]
     },
     "metadata": {},
     "output_type": "display_data"
    },
    {
     "data": {
      "image/png": "[encoded data removed]",
      "text/plain": [
       "<Figure size 600x300 with 1 Axes>"
      ]
     },
     "metadata": {},
     "output_type": "display_data"
    }
   ],
   "source": [
    "mnist = MNIST()\n",
    "fashionmnist = FashionMNIST()\n",
    "cifar10 = CIFAR10()\n",
    "\n",
    "\n",
    "\n",
    "mnist.visual()\n",
    "fashionmnist.visual()\n",
    "cifar10.visual()\n"
   ]
  },
  {
   "cell_type": "markdown",
   "metadata": {},
   "source": [
    "## I. MNIST + Fashion MNIST TEST"
   ]
  },
  {
   "cell_type": "markdown",
   "metadata": {},
   "source": [
    "### i. Conv2d_NN all sample Model"
   ]
  },
  {
   "cell_type": "code",
   "execution_count": 3,
   "metadata": {},
   "outputs": [
    {
     "name": "stdout",
     "output_type": "stream",
     "text": [
      "----------------------------------------------------------------\n",
      "        Layer (type)               Output Shape         Param #\n",
      "================================================================\n",
      "           Flatten-1               [-1, 4, 196]               0\n",
      "            Conv1d-2              [-1, 20, 196]             660\n",
      "              ReLU-3              [-1, 20, 196]               0\n",
      "         Conv1d_NN-4              [-1, 20, 196]               0\n",
      "         Conv2d_NN-5            [-1, 5, 28, 28]               0\n",
      "           Flatten-6              [-1, 20, 196]               0\n",
      "            Conv1d-7              [-1, 40, 196]           6,440\n",
      "              ReLU-8              [-1, 40, 196]               0\n",
      "         Conv1d_NN-9              [-1, 40, 196]               0\n",
      "        Conv2d_NN-10           [-1, 10, 28, 28]               0\n",
      "          Flatten-11              [-1, 40, 196]               0\n",
      "           Conv1d-12              [-1, 80, 196]          25,680\n",
      "             ReLU-13              [-1, 80, 196]               0\n",
      "        Conv1d_NN-14              [-1, 80, 196]               0\n",
      "        Conv2d_NN-15           [-1, 20, 28, 28]               0\n",
      "          Flatten-16                [-1, 15680]               0\n",
      "           Linear-17                   [-1, 10]         156,810\n",
      "================================================================\n",
      "Total params: 189,590\n",
      "Trainable params: 189,590\n",
      "Non-trainable params: 0\n",
      "----------------------------------------------------------------\n",
      "Input size (MB): 0.00\n",
      "Forward/backward pass size (MB): 1.05\n",
      "Params size (MB): 0.72\n",
      "Estimated Total Size (MB): 1.78\n",
      "----------------------------------------------------------------\n"
     ]
    }
   ],
   "source": [
    "# Model \n",
    "conv2d_nn_all = nn.Sequential(\n",
    "   Conv2d_NN(\n",
    "      in_channels=1,\n",
    "      out_channels=5,\n",
    "      K=8,\n",
    "      stride=8,\n",
    "      padding=0,\n",
    "      shuffle_scale=2\n",
    "   ), \n",
    "   Conv2d_NN(\n",
    "      in_channels=5,\n",
    "      out_channels=10,\n",
    "      K=8,\n",
    "      stride=8,\n",
    "      padding=0,\n",
    "      shuffle_scale=2\n",
    "   ),\n",
    "   Conv2d_NN(\n",
    "      in_channels=10,\n",
    "      out_channels=20,\n",
    "      K=8,\n",
    "      stride=8,\n",
    "      padding=0,\n",
    "      shuffle_scale=2\n",
    "   ),\n",
    "   nn.Flatten(), \n",
    "   nn.Linear(15680, 10)\n",
    "   \n",
    ").to('cpu')\n",
    "   \n",
    "\n",
    "from torchsummary import summary\n",
    "summary(conv2d_nn_all, (1, 28, 28))\n",
    "\n"
   ]
  },
  {
   "cell_type": "code",
   "execution_count": 4,
   "metadata": {},
   "outputs": [
    {
     "name": "stdout",
     "output_type": "stream",
     "text": [
      "Epoch 1, Time: 50.76565194129944, Loss: 0.395222249355461\n",
      "Epoch 2, Time: 48.43545699119568, Loss: 0.28505940358045256\n",
      "Epoch 3, Time: 48.43069505691528, Loss: 0.23820897341886563\n",
      "Epoch 4, Time: 48.554861068725586, Loss: 0.20976646410138494\n",
      "Epoch 5, Time: 48.7927827835083, Loss: 0.1852923391490126\n",
      "Epoch 6, Time: 48.684605836868286, Loss: 0.16969119698833873\n",
      "Epoch 7, Time: 48.62673902511597, Loss: 0.15526772164074437\n",
      "Epoch 8, Time: 48.80111002922058, Loss: 0.14701102189084234\n",
      "Epoch 9, Time: 48.815690994262695, Loss: 0.13361351180082953\n",
      "Epoch 10, Time: 48.944226026535034, Loss: 0.12517256671830868\n",
      "\n",
      " Average epoch time: 48.88518197536469\n",
      "Accuracy on test set: 94.74%\n"
     ]
    },
    {
     "data": {
      "text/plain": [
       "94.74"
      ]
     },
     "execution_count": 4,
     "metadata": {},
     "output_type": "execute_result"
    }
   ],
   "source": [
    "# MNIST results \n",
    "conv2d_nn_all.to('mps')\n",
    "\n",
    "criterion = nn.CrossEntropyLoss()\n",
    "optimizer = optim.Adam(conv2d_nn_all.parameters(), lr=0.001)\n",
    "num_epochs = 10 \n",
    "train_model(conv2d_nn_all, mnist.train_loader, criterion, optimizer, num_epochs)\n",
    "evaluate_accuracy(conv2d_nn_all, mnist.test_loader)\n"
   ]
  },
  {
   "cell_type": "code",
   "execution_count": 5,
   "metadata": {},
   "outputs": [
    {
     "name": "stdout",
     "output_type": "stream",
     "text": [
      "Epoch 1, Time: 45.70274996757507, Loss: 0.4886427748559126\n",
      "Epoch 2, Time: 45.533416986465454, Loss: 0.37205283355706537\n",
      "Epoch 3, Time: 45.46400713920593, Loss: 0.34134637871022416\n",
      "Epoch 4, Time: 45.73551917076111, Loss: 0.32046100512337583\n",
      "Epoch 5, Time: 45.42999196052551, Loss: 0.2995621865428587\n",
      "Epoch 6, Time: 45.48528718948364, Loss: 0.2838749874359382\n",
      "Epoch 7, Time: 45.46282196044922, Loss: 0.2682511402027948\n",
      "Epoch 8, Time: 45.51191997528076, Loss: 0.25358781184373635\n",
      "Epoch 9, Time: 45.48625993728638, Loss: 0.24333831468529538\n",
      "Epoch 10, Time: 45.57072114944458, Loss: 0.23079304418949556\n",
      "\n",
      " Average epoch time: 45.538269543647765\n",
      "Accuracy on test set: 86.95%\n"
     ]
    },
    {
     "data": {
      "text/plain": [
       "86.95"
      ]
     },
     "execution_count": 5,
     "metadata": {},
     "output_type": "execute_result"
    }
   ],
   "source": [
    "# Fashion MNIST results\n",
    "conv2d_nn_all.apply(lambda m: m.reset_parameters() if hasattr(m, 'reset_parameters') else None)\n",
    "\n",
    "criterion = nn.CrossEntropyLoss()\n",
    "optimizer = optim.Adam(conv2d_nn_all.parameters(), lr=0.001)\n",
    "num_epochs = 10 \n",
    "train_model(conv2d_nn_all, fashionmnist.train_loader, criterion, optimizer, num_epochs)\n",
    "evaluate_accuracy(conv2d_nn_all, fashionmnist.test_loader)"
   ]
  },
  {
   "cell_type": "markdown",
   "metadata": {},
   "source": [
    "### ii. Conv2d NN N (10) Sample Model "
   ]
  },
  {
   "cell_type": "code",
   "execution_count": 6,
   "metadata": {},
   "outputs": [
    {
     "name": "stdout",
     "output_type": "stream",
     "text": [
      "----------------------------------------------------------------\n",
      "        Layer (type)               Output Shape         Param #\n",
      "================================================================\n",
      "           Flatten-1               [-1, 4, 196]               0\n",
      "            Conv1d-2              [-1, 20, 196]             660\n",
      "              ReLU-3              [-1, 20, 196]               0\n",
      "         Conv1d_NN-4              [-1, 20, 196]               0\n",
      "         Conv2d_NN-5            [-1, 5, 28, 28]               0\n",
      "           Flatten-6              [-1, 20, 196]               0\n",
      "            Conv1d-7              [-1, 40, 196]           6,440\n",
      "              ReLU-8              [-1, 40, 196]               0\n",
      "         Conv1d_NN-9              [-1, 40, 196]               0\n",
      "        Conv2d_NN-10           [-1, 10, 28, 28]               0\n",
      "          Flatten-11              [-1, 40, 196]               0\n",
      "           Conv1d-12              [-1, 80, 196]          25,680\n",
      "             ReLU-13              [-1, 80, 196]               0\n",
      "        Conv1d_NN-14              [-1, 80, 196]               0\n",
      "        Conv2d_NN-15           [-1, 20, 28, 28]               0\n",
      "          Flatten-16                [-1, 15680]               0\n",
      "           Linear-17                   [-1, 10]         156,810\n",
      "================================================================\n",
      "Total params: 189,590\n",
      "Trainable params: 189,590\n",
      "Non-trainable params: 0\n",
      "----------------------------------------------------------------\n",
      "Input size (MB): 0.00\n",
      "Forward/backward pass size (MB): 1.05\n",
      "Params size (MB): 0.72\n",
      "Estimated Total Size (MB): 1.78\n",
      "----------------------------------------------------------------\n"
     ]
    }
   ],
   "source": [
    "# Model \n",
    "conv2d_nn_n = nn.Sequential(\n",
    "   Conv2d_NN(\n",
    "      in_channels=1,\n",
    "      out_channels=5,\n",
    "      K=8,\n",
    "      stride=8,\n",
    "      padding=0,\n",
    "      shuffle_scale=2, \n",
    "      samples = 10\n",
    "      \n",
    "   ), \n",
    "   Conv2d_NN(\n",
    "      in_channels=5,\n",
    "      out_channels=10,\n",
    "      K=8,\n",
    "      stride=8,\n",
    "      padding=0,\n",
    "      shuffle_scale=2, \n",
    "      samples = 10\n",
    "   ),\n",
    "   Conv2d_NN(\n",
    "      in_channels=10,\n",
    "      out_channels=20,\n",
    "      K=8,\n",
    "      stride=8,\n",
    "      padding=0,\n",
    "      shuffle_scale=2, \n",
    "      samples = 10\n",
    "   ),\n",
    "   nn.Flatten(), \n",
    "   nn.Linear(15680, 10)\n",
    "   \n",
    ").to('cpu')\n",
    "   \n",
    "\n",
    "from torchsummary import summary\n",
    "summary(conv2d_nn_n, (1, 28, 28))\n"
   ]
  },
  {
   "cell_type": "code",
   "execution_count": 7,
   "metadata": {},
   "outputs": [
    {
     "name": "stdout",
     "output_type": "stream",
     "text": [
      "Epoch 1, Time: 50.36802625656128, Loss: 0.4923113819314981\n",
      "Epoch 2, Time: 50.28737282752991, Loss: 0.2828874581300818\n",
      "Epoch 3, Time: 50.259093046188354, Loss: 0.2586979058656548\n",
      "Epoch 4, Time: 50.32127809524536, Loss: 0.24474306331911702\n",
      "Epoch 5, Time: 50.324918031692505, Loss: 0.23229428561432147\n",
      "Epoch 6, Time: 50.36748790740967, Loss: 0.2220112123667622\n",
      "Epoch 7, Time: 50.309467792510986, Loss: 0.21408166480002436\n",
      "Epoch 8, Time: 50.313941955566406, Loss: 0.19994358667162562\n",
      "Epoch 9, Time: 50.278324127197266, Loss: 0.17139332480569766\n",
      "Epoch 10, Time: 50.23194408416748, Loss: 0.14564617772076302\n",
      "\n",
      " Average epoch time: 50.30618541240692\n",
      "Accuracy on test set: 95.73%\n"
     ]
    },
    {
     "data": {
      "text/plain": [
       "95.73"
      ]
     },
     "execution_count": 7,
     "metadata": {},
     "output_type": "execute_result"
    }
   ],
   "source": [
    "# MNIST results \n",
    "conv2d_nn_n.to('mps')\n",
    "\n",
    "criterion = nn.CrossEntropyLoss()\n",
    "optimizer = optim.Adam(conv2d_nn_n.parameters(), lr=0.001)\n",
    "num_epochs = 10 \n",
    "train_model(conv2d_nn_n, mnist.train_loader, criterion, optimizer, num_epochs)\n",
    "evaluate_accuracy(conv2d_nn_n, mnist.test_loader)"
   ]
  },
  {
   "cell_type": "code",
   "execution_count": 8,
   "metadata": {},
   "outputs": [
    {
     "name": "stdout",
     "output_type": "stream",
     "text": [
      "Epoch 1, Time: 49.28506898880005, Loss: 0.5804819499632952\n",
      "Epoch 2, Time: 49.34972286224365, Loss: 0.40762329482828885\n",
      "Epoch 3, Time: 49.24613308906555, Loss: 0.37934364586560204\n",
      "Epoch 4, Time: 49.31911826133728, Loss: 0.3606364101425671\n",
      "Epoch 5, Time: 49.323676109313965, Loss: 0.3466842062215307\n",
      "Epoch 6, Time: 49.30271816253662, Loss: 0.3358400629273356\n",
      "Epoch 7, Time: 49.36181902885437, Loss: 0.3272329672599144\n",
      "Epoch 8, Time: 49.33924198150635, Loss: 0.3183384804027294\n",
      "Epoch 9, Time: 49.33195495605469, Loss: 0.3109081112134304\n",
      "Epoch 10, Time: 49.31736779212952, Loss: 0.3037602575396551\n",
      "\n",
      " Average epoch time: 49.317682123184206\n",
      "Accuracy on test set: 86.53%\n"
     ]
    },
    {
     "data": {
      "text/plain": [
       "86.53"
      ]
     },
     "execution_count": 8,
     "metadata": {},
     "output_type": "execute_result"
    }
   ],
   "source": [
    "# Fashion MNIST results\n",
    "conv2d_nn_n.apply(lambda m: m.reset_parameters() if hasattr(m, 'reset_parameters') else None)\n",
    "\n",
    "criterion = nn.CrossEntropyLoss()\n",
    "optimizer = optim.Adam(conv2d_nn_n.parameters(), lr=0.001)\n",
    "num_epochs = 10 \n",
    "train_model(conv2d_nn_n, fashionmnist.train_loader, criterion, optimizer, num_epochs)\n",
    "evaluate_accuracy(conv2d_nn_n, fashionmnist.test_loader)"
   ]
  },
  {
   "cell_type": "markdown",
   "metadata": {},
   "source": [
    "### iii. Conv2d NN Spatial samples Model"
   ]
  },
  {
   "cell_type": "code",
   "execution_count": 9,
   "metadata": {},
   "outputs": [
    {
     "name": "stdout",
     "output_type": "stream",
     "text": [
      "----------------------------------------------------------------\n",
      "        Layer (type)               Output Shape         Param #\n",
      "================================================================\n",
      "           Flatten-1               [-1, 1, 784]               0\n",
      "            Conv1d-2               [-1, 5, 784]              45\n",
      "              ReLU-3               [-1, 5, 784]               0\n",
      " Conv1d_NN_spatial-4               [-1, 5, 784]               0\n",
      " Conv2d_NN_spatial-5            [-1, 5, 28, 28]               0\n",
      "           Flatten-6               [-1, 5, 784]               0\n",
      "            Conv1d-7              [-1, 10, 784]             410\n",
      "              ReLU-8              [-1, 10, 784]               0\n",
      " Conv1d_NN_spatial-9              [-1, 10, 784]               0\n",
      "Conv2d_NN_spatial-10           [-1, 10, 28, 28]               0\n",
      "          Flatten-11              [-1, 10, 784]               0\n",
      "           Conv1d-12              [-1, 20, 784]           1,620\n",
      "             ReLU-13              [-1, 20, 784]               0\n",
      "Conv1d_NN_spatial-14              [-1, 20, 784]               0\n",
      "Conv2d_NN_spatial-15           [-1, 20, 28, 28]               0\n",
      "          Flatten-16                [-1, 15680]               0\n",
      "           Linear-17                   [-1, 10]         156,810\n",
      "================================================================\n",
      "Total params: 158,885\n",
      "Trainable params: 158,885\n",
      "Non-trainable params: 0\n",
      "----------------------------------------------------------------\n",
      "Input size (MB): 0.00\n",
      "Forward/backward pass size (MB): 1.05\n",
      "Params size (MB): 0.61\n",
      "Estimated Total Size (MB): 1.66\n",
      "----------------------------------------------------------------\n"
     ]
    }
   ],
   "source": [
    "# Model \n",
    "conv2d_nn_spatial = nn.Sequential(\n",
    "   Conv2d_NN_spatial(\n",
    "      in_channels=1,\n",
    "      out_channels=5,\n",
    "      K=8,\n",
    "      stride=8,\n",
    "      padding=0,\n",
    "      shuffle_scale=2, \n",
    "      samples=3\n",
    "      \n",
    "   ), \n",
    "   Conv2d_NN_spatial(\n",
    "      in_channels=5,\n",
    "      out_channels=10,\n",
    "      K=8,\n",
    "      stride=8,\n",
    "      padding=0,\n",
    "      shuffle_scale=2, \n",
    "      samples=3\n",
    "   ),\n",
    "   Conv2d_NN_spatial(\n",
    "      in_channels=10,\n",
    "      out_channels=20,\n",
    "      K=8,\n",
    "      stride=8,\n",
    "      padding=0,\n",
    "      shuffle_scale=2, \n",
    "      samples=3\n",
    "   ),\n",
    "   nn.Flatten(), \n",
    "   nn.Linear(15680, 10)\n",
    "   \n",
    ").to('cpu')\n",
    "   \n",
    "\n",
    "from torchsummary import summary\n",
    "summary(conv2d_nn_spatial, (1, 28, 28))\n"
   ]
  },
  {
   "cell_type": "code",
   "execution_count": 10,
   "metadata": {},
   "outputs": [
    {
     "name": "stdout",
     "output_type": "stream",
     "text": [
      "Epoch 1, Time: 89.54429221153259, Loss: 2.302743795329828\n",
      "Epoch 2, Time: 87.63583207130432, Loss: 2.3012995963920155\n",
      "Epoch 3, Time: 87.68997597694397, Loss: 2.301297891877099\n",
      "Epoch 4, Time: 87.6235249042511, Loss: 2.3013042259826335\n",
      "Epoch 5, Time: 87.61026883125305, Loss: 2.301300457799867\n",
      "Epoch 6, Time: 87.6958839893341, Loss: 2.3013017670686313\n",
      "Epoch 7, Time: 87.60521388053894, Loss: 2.3012853698181446\n",
      "Epoch 8, Time: 87.60860800743103, Loss: 2.301316419389965\n",
      "Epoch 9, Time: 87.64317202568054, Loss: 2.301300043744573\n",
      "Epoch 10, Time: 87.62095904350281, Loss: 2.301303668571179\n",
      "\n",
      " Average epoch time: 87.82777309417725\n",
      "Accuracy on test set: 11.35%\n"
     ]
    },
    {
     "data": {
      "text/plain": [
       "11.35"
      ]
     },
     "execution_count": 10,
     "metadata": {},
     "output_type": "execute_result"
    }
   ],
   "source": [
    "# MNIST results \n",
    "conv2d_nn_spatial.to('mps')\n",
    "\n",
    "criterion = nn.CrossEntropyLoss()\n",
    "optimizer = optim.Adam(conv2d_nn_spatial.parameters(), lr=0.001)\n",
    "num_epochs = 10 \n",
    "train_model(conv2d_nn_spatial, mnist.train_loader, criterion, optimizer, num_epochs)\n",
    "evaluate_accuracy(conv2d_nn_spatial, mnist.test_loader)"
   ]
  },
  {
   "cell_type": "code",
   "execution_count": 11,
   "metadata": {},
   "outputs": [
    {
     "name": "stdout",
     "output_type": "stream",
     "text": [
      "Epoch 1, Time: 91.90598917007446, Loss: 2.2617369547073265\n",
      "Epoch 2, Time: 90.5119559764862, Loss: 2.2338889804221926\n",
      "Epoch 3, Time: 90.55145120620728, Loss: 2.1631129911459333\n",
      "Epoch 4, Time: 91.1064920425415, Loss: 2.126566750281401\n",
      "Epoch 5, Time: 90.08047318458557, Loss: 2.1209207712205997\n",
      "Epoch 6, Time: 89.7628881931305, Loss: 2.1412102792308785\n",
      "Epoch 7, Time: 89.89161610603333, Loss: 2.113275536341962\n",
      "Epoch 8, Time: 89.65816402435303, Loss: 2.144702168034592\n",
      "Epoch 9, Time: 89.4534592628479, Loss: 2.171282206898305\n",
      "Epoch 10, Time: 89.80284023284912, Loss: 2.116005119230193\n",
      "\n",
      " Average epoch time: 90.27253293991089\n",
      "Accuracy on test set: 16.17%\n"
     ]
    },
    {
     "data": {
      "text/plain": [
       "16.17"
      ]
     },
     "execution_count": 11,
     "metadata": {},
     "output_type": "execute_result"
    }
   ],
   "source": [
    "# Fashion MNIST results\n",
    "conv2d_nn_spatial.apply(lambda m: m.reset_parameters() if hasattr(m, 'reset_parameters') else None)\n",
    "\n",
    "criterion = nn.CrossEntropyLoss()\n",
    "optimizer = optim.Adam(conv2d_nn_spatial.parameters(), lr=0.001)\n",
    "num_epochs = 10 \n",
    "train_model(conv2d_nn_spatial, fashionmnist.train_loader, criterion, optimizer, num_epochs)\n",
    "evaluate_accuracy(conv2d_nn_spatial, fashionmnist.test_loader)"
   ]
  },
  {
   "cell_type": "markdown",
   "metadata": {},
   "source": [
    "### iv. CNN Model 1 "
   ]
  },
  {
   "cell_type": "code",
   "execution_count": 12,
   "metadata": {},
   "outputs": [
    {
     "name": "stdout",
     "output_type": "stream",
     "text": [
      "----------------------------------------------------------------\n",
      "        Layer (type)               Output Shape         Param #\n",
      "================================================================\n",
      "            Conv2d-1            [-1, 5, 26, 26]              50\n",
      "              ReLU-2            [-1, 5, 26, 26]               0\n",
      "            Conv2d-3           [-1, 10, 24, 24]             460\n",
      "              ReLU-4           [-1, 10, 24, 24]               0\n",
      "            Conv2d-5           [-1, 20, 22, 22]           1,820\n",
      "              ReLU-6           [-1, 20, 22, 22]               0\n",
      "           Flatten-7                 [-1, 9680]               0\n",
      "            Linear-8                   [-1, 10]          96,810\n",
      "================================================================\n",
      "Total params: 99,140\n",
      "Trainable params: 99,140\n",
      "Non-trainable params: 0\n",
      "----------------------------------------------------------------\n",
      "Input size (MB): 0.00\n",
      "Forward/backward pass size (MB): 0.36\n",
      "Params size (MB): 0.38\n",
      "Estimated Total Size (MB): 0.74\n",
      "----------------------------------------------------------------\n"
     ]
    }
   ],
   "source": [
    "cnn = nn.Sequential(\n",
    "   nn.Conv2d(\n",
    "      in_channels=1,\n",
    "      out_channels=5,\n",
    "      kernel_size=3\n",
    "   ), \n",
    "   nn.ReLU(),\n",
    "   nn.Conv2d(\n",
    "      in_channels=5,\n",
    "      out_channels=10,\n",
    "      kernel_size=3\n",
    "   ), \n",
    "   nn.ReLU(),\n",
    "   nn.Conv2d(\n",
    "      in_channels=10,\n",
    "      out_channels=20,\n",
    "      kernel_size=3\n",
    "   ), \n",
    "   nn.ReLU(),\n",
    "   nn.Flatten(), \n",
    "   nn.Linear(9680, 10)\n",
    "   \n",
    ").to('cpu')\n",
    "   \n",
    "\n",
    "from torchsummary import summary\n",
    "summary(cnn, (1, 28, 28))"
   ]
  },
  {
   "cell_type": "code",
   "execution_count": 13,
   "metadata": {},
   "outputs": [
    {
     "name": "stdout",
     "output_type": "stream",
     "text": [
      "Epoch 1, Time: 6.554674863815308, Loss: 0.2298657124969306\n",
      "Epoch 2, Time: 6.43576192855835, Loss: 0.06720239816502586\n",
      "Epoch 3, Time: 6.427160024642944, Loss: 0.04810162721465387\n",
      "Epoch 4, Time: 6.405361890792847, Loss: 0.03746452377309828\n",
      "Epoch 5, Time: 6.481661796569824, Loss: 0.02769153001317347\n",
      "Epoch 6, Time: 6.493584156036377, Loss: 0.023612363033957515\n",
      "Epoch 7, Time: 6.5032360553741455, Loss: 0.017023767540507183\n",
      "Epoch 8, Time: 6.4567999839782715, Loss: 0.013632887368130507\n",
      "Epoch 9, Time: 6.564166069030762, Loss: 0.012427107928241832\n",
      "Epoch 10, Time: 6.488992214202881, Loss: 0.0098262744819655\n",
      "\n",
      " Average epoch time: 6.481139898300171\n",
      "Accuracy on test set: 98.45%\n"
     ]
    },
    {
     "data": {
      "text/plain": [
       "98.45"
      ]
     },
     "execution_count": 13,
     "metadata": {},
     "output_type": "execute_result"
    }
   ],
   "source": [
    "# MNIST results \n",
    "cnn.to('mps')\n",
    "\n",
    "criterion = nn.CrossEntropyLoss()\n",
    "optimizer = optim.Adam(cnn.parameters(), lr=0.001)\n",
    "num_epochs = 10 \n",
    "train_model(cnn, mnist.train_loader, criterion, optimizer, num_epochs)\n",
    "evaluate_accuracy(cnn, mnist.test_loader)"
   ]
  },
  {
   "cell_type": "code",
   "execution_count": 14,
   "metadata": {},
   "outputs": [
    {
     "name": "stdout",
     "output_type": "stream",
     "text": [
      "Epoch 1, Time: 6.49987268447876, Loss: 0.48946688143111494\n",
      "Epoch 2, Time: 6.542877197265625, Loss: 0.3259995362159413\n",
      "Epoch 3, Time: 6.488325119018555, Loss: 0.280969231597968\n",
      "Epoch 4, Time: 6.490761995315552, Loss: 0.24997997153669532\n",
      "Epoch 5, Time: 6.495134353637695, Loss: 0.2263177202136786\n",
      "Epoch 6, Time: 6.528858184814453, Loss: 0.20458607463789646\n",
      "Epoch 7, Time: 6.498862981796265, Loss: 0.18830535723678848\n",
      "Epoch 8, Time: 6.506685972213745, Loss: 0.17291635055261761\n",
      "Epoch 9, Time: 6.50192403793335, Loss: 0.1584574477052066\n",
      "Epoch 10, Time: 6.535745859146118, Loss: 0.14568228088716453\n",
      "\n",
      " Average epoch time: 6.508904838562012\n",
      "Accuracy on test set: 90.58%\n"
     ]
    },
    {
     "data": {
      "text/plain": [
       "90.58"
      ]
     },
     "execution_count": 14,
     "metadata": {},
     "output_type": "execute_result"
    }
   ],
   "source": [
    "# Fashion MNIST results\n",
    "cnn.apply(lambda m: m.reset_parameters() if hasattr(m, 'reset_parameters') else None)\n",
    "\n",
    "criterion = nn.CrossEntropyLoss()\n",
    "optimizer = optim.Adam(cnn.parameters(), lr=0.001)\n",
    "num_epochs = 10 \n",
    "train_model(cnn, fashionmnist.train_loader, criterion, optimizer, num_epochs)\n",
    "evaluate_accuracy(cnn, fashionmnist.test_loader)"
   ]
  },
  {
   "cell_type": "markdown",
   "metadata": {},
   "source": [
    "### v. CNN Model 2 (More Channels - from slides)"
   ]
  },
  {
   "cell_type": "code",
   "execution_count": 15,
   "metadata": {},
   "outputs": [
    {
     "name": "stdout",
     "output_type": "stream",
     "text": [
      "----------------------------------------------------------------\n",
      "        Layer (type)               Output Shape         Param #\n",
      "================================================================\n",
      "            Conv2d-1           [-1, 64, 26, 26]             640\n",
      "         MaxPool2d-2           [-1, 64, 13, 13]               0\n",
      "              ReLU-3           [-1, 64, 13, 13]               0\n",
      "            Conv2d-4          [-1, 128, 11, 11]          73,856\n",
      "         MaxPool2d-5            [-1, 128, 5, 5]               0\n",
      "              ReLU-6            [-1, 128, 5, 5]               0\n",
      "           Flatten-7                 [-1, 3200]               0\n",
      "            Linear-8                  [-1, 200]         640,200\n",
      "              ReLU-9                  [-1, 200]               0\n",
      "           Linear-10                   [-1, 10]           2,010\n",
      "================================================================\n",
      "Total params: 716,706\n",
      "Trainable params: 716,706\n",
      "Non-trainable params: 0\n",
      "----------------------------------------------------------------\n",
      "Input size (MB): 0.00\n",
      "Forward/backward pass size (MB): 0.69\n",
      "Params size (MB): 2.73\n",
      "Estimated Total Size (MB): 3.43\n",
      "----------------------------------------------------------------\n"
     ]
    }
   ],
   "source": [
    "cnn2 = nn.Sequential(\n",
    "   nn.Conv2d(1, 64, 3), \n",
    "   nn.MaxPool2d(2),\n",
    "   nn.ReLU(),\n",
    "   nn.Conv2d(64, 128, 3),\n",
    "   nn.MaxPool2d(2),\n",
    "   nn.ReLU(),\n",
    "   nn.Flatten(), \n",
    "   nn.Linear(3200, 200), \n",
    "   nn.ReLU(), \n",
    "   nn.Linear(200, 10)\n",
    ").to('cpu')\n",
    "\n",
    "summary(cnn2, (1, 28, 28))"
   ]
  },
  {
   "cell_type": "code",
   "execution_count": 16,
   "metadata": {},
   "outputs": [
    {
     "name": "stdout",
     "output_type": "stream",
     "text": [
      "Epoch 1, Time: 8.406018018722534, Loss: 0.13125496588859345\n",
      "Epoch 2, Time: 8.329875946044922, Loss: 0.040012451520473606\n",
      "Epoch 3, Time: 8.514298915863037, Loss: 0.02700278012224459\n",
      "Epoch 4, Time: 7.982968807220459, Loss: 0.019342483498305252\n",
      "Epoch 5, Time: 8.369792222976685, Loss: 0.014202846011867921\n",
      "Epoch 6, Time: 8.39670991897583, Loss: 0.011261602917329583\n",
      "Epoch 7, Time: 8.391427755355835, Loss: 0.009226213445687184\n",
      "Epoch 8, Time: 8.302953958511353, Loss: 0.006774881786262847\n",
      "Epoch 9, Time: 8.440776109695435, Loss: 0.007205607422457891\n",
      "Epoch 10, Time: 8.341483116149902, Loss: 0.00581101518712793\n",
      "\n",
      " Average epoch time: 8.347630476951599\n",
      "Accuracy on test set: 99.26%\n"
     ]
    },
    {
     "data": {
      "text/plain": [
       "99.26"
      ]
     },
     "execution_count": 16,
     "metadata": {},
     "output_type": "execute_result"
    }
   ],
   "source": [
    "# MNIST results \n",
    "cnn2.to('mps')\n",
    "\n",
    "criterion = nn.CrossEntropyLoss()\n",
    "optimizer = optim.Adam(cnn2.parameters(), lr=0.001)\n",
    "num_epochs = 10 \n",
    "train_model(cnn2, mnist.train_loader, criterion, optimizer, num_epochs)\n",
    "evaluate_accuracy(cnn2, mnist.test_loader)"
   ]
  },
  {
   "cell_type": "code",
   "execution_count": 17,
   "metadata": {},
   "outputs": [
    {
     "name": "stdout",
     "output_type": "stream",
     "text": [
      "Epoch 1, Time: 7.986433029174805, Loss: 0.45910827219803957\n",
      "Epoch 2, Time: 8.406078100204468, Loss: 0.2920994571388276\n",
      "Epoch 3, Time: 8.306495904922485, Loss: 0.24279824097845346\n",
      "Epoch 4, Time: 8.563752889633179, Loss: 0.21081925633111234\n",
      "Epoch 5, Time: 8.48746395111084, Loss: 0.1816873661498589\n",
      "Epoch 6, Time: 8.281869888305664, Loss: 0.15876234060665692\n",
      "Epoch 7, Time: 8.368393898010254, Loss: 0.13540973622542518\n",
      "Epoch 8, Time: 8.28542685508728, Loss: 0.1180425205591645\n",
      "Epoch 9, Time: 8.551209926605225, Loss: 0.09962201004486475\n",
      "Epoch 10, Time: 8.544275045394897, Loss: 0.08391685549195593\n",
      "\n",
      " Average epoch time: 8.37813994884491\n",
      "Accuracy on test set: 91.88%\n"
     ]
    },
    {
     "data": {
      "text/plain": [
       "91.88"
      ]
     },
     "execution_count": 17,
     "metadata": {},
     "output_type": "execute_result"
    }
   ],
   "source": [
    "# Fashion MNIST results\n",
    "cnn2.apply(lambda m: m.reset_parameters() if hasattr(m, 'reset_parameters') else None)\n",
    "\n",
    "criterion = nn.CrossEntropyLoss()\n",
    "optimizer = optim.Adam(cnn2.parameters(), lr=0.001)\n",
    "num_epochs = 10 \n",
    "train_model(cnn2, fashionmnist.train_loader, criterion, optimizer, num_epochs)\n",
    "evaluate_accuracy(cnn2, fashionmnist.test_loader)"
   ]
  },
  {
   "cell_type": "markdown",
   "metadata": {},
   "source": [
    "## II. CIFAR TEST"
   ]
  },
  {
   "cell_type": "markdown",
   "metadata": {},
   "source": [
    "### i. Conv2d_NN all sample Model"
   ]
  },
  {
   "cell_type": "code",
   "execution_count": 18,
   "metadata": {},
   "outputs": [
    {
     "name": "stdout",
     "output_type": "stream",
     "text": [
      "----------------------------------------------------------------\n",
      "        Layer (type)               Output Shape         Param #\n",
      "================================================================\n",
      "           Flatten-1              [-1, 12, 256]               0\n",
      "            Conv1d-2              [-1, 20, 256]           1,940\n",
      "              ReLU-3              [-1, 20, 256]               0\n",
      "         Conv1d_NN-4              [-1, 20, 256]               0\n",
      "         Conv2d_NN-5            [-1, 5, 32, 32]               0\n",
      "           Flatten-6              [-1, 20, 256]               0\n",
      "            Conv1d-7              [-1, 40, 256]           6,440\n",
      "              ReLU-8              [-1, 40, 256]               0\n",
      "         Conv1d_NN-9              [-1, 40, 256]               0\n",
      "        Conv2d_NN-10           [-1, 10, 32, 32]               0\n",
      "          Flatten-11              [-1, 40, 256]               0\n",
      "           Conv1d-12              [-1, 80, 256]          25,680\n",
      "             ReLU-13              [-1, 80, 256]               0\n",
      "        Conv1d_NN-14              [-1, 80, 256]               0\n",
      "        Conv2d_NN-15           [-1, 20, 32, 32]               0\n",
      "          Flatten-16                [-1, 20480]               0\n",
      "           Linear-17                   [-1, 10]         204,810\n",
      "================================================================\n",
      "Total params: 238,870\n",
      "Trainable params: 238,870\n",
      "Non-trainable params: 0\n",
      "----------------------------------------------------------------\n",
      "Input size (MB): 0.01\n",
      "Forward/backward pass size (MB): 1.39\n",
      "Params size (MB): 0.91\n",
      "Estimated Total Size (MB): 2.31\n",
      "----------------------------------------------------------------\n"
     ]
    }
   ],
   "source": [
    "# Model \n",
    "conv2d_nn_all = nn.Sequential(\n",
    "   Conv2d_NN(\n",
    "      in_channels=3,\n",
    "      out_channels=5,\n",
    "      K=8,\n",
    "      stride=8,\n",
    "      padding=0,\n",
    "      shuffle_scale=2\n",
    "   ), \n",
    "   Conv2d_NN(\n",
    "      in_channels=5,\n",
    "      out_channels=10,\n",
    "      K=8,\n",
    "      stride=8,\n",
    "      padding=0,\n",
    "      shuffle_scale=2\n",
    "   ),\n",
    "   Conv2d_NN(\n",
    "      in_channels=10,\n",
    "      out_channels=20,\n",
    "      K=8,\n",
    "      stride=8,\n",
    "      padding=0,\n",
    "      shuffle_scale=2\n",
    "   ),\n",
    "   nn.Flatten(), \n",
    "   nn.Linear(20480, 10)\n",
    "   \n",
    ").to('cpu')\n",
    "   \n",
    "\n",
    "from torchsummary import summary\n",
    "summary(conv2d_nn_all, (3, 32, 32))"
   ]
  },
  {
   "cell_type": "code",
   "execution_count": 19,
   "metadata": {},
   "outputs": [
    {
     "name": "stdout",
     "output_type": "stream",
     "text": [
      "Epoch 1, Time: 44.94942808151245, Loss: 1.5116322546663796\n",
      "Epoch 2, Time: 43.84271478652954, Loss: 1.2481971537822958\n",
      "Epoch 3, Time: 44.71447801589966, Loss: 1.126823582231541\n",
      "Epoch 4, Time: 44.18211483955383, Loss: 1.024094424208107\n",
      "Epoch 5, Time: 45.80501103401184, Loss: 0.9289168209371055\n",
      "Epoch 6, Time: 44.525792837142944, Loss: 0.847721411825141\n",
      "Epoch 7, Time: 43.80231714248657, Loss: 0.7739647525884307\n",
      "Epoch 8, Time: 43.79373121261597, Loss: 0.7099080827382519\n",
      "Epoch 9, Time: 43.885058641433716, Loss: 0.6469783549151762\n",
      "Epoch 10, Time: 43.86063814163208, Loss: 0.588055506939321\n",
      "\n",
      " Average epoch time: 44.33612847328186\n",
      "Accuracy on test set: 54.06%\n"
     ]
    },
    {
     "data": {
      "text/plain": [
       "54.06"
      ]
     },
     "execution_count": 19,
     "metadata": {},
     "output_type": "execute_result"
    }
   ],
   "source": [
    "# CIFAR10 results \n",
    "conv2d_nn_all.to('mps')\n",
    "\n",
    "criterion = nn.CrossEntropyLoss()\n",
    "optimizer = optim.Adam(conv2d_nn_all.parameters(), lr=0.001)\n",
    "num_epochs = 10 \n",
    "train_model(conv2d_nn_all, cifar10.train_loader, criterion, optimizer, num_epochs)\n",
    "evaluate_accuracy(conv2d_nn_all, cifar10.test_loader)\n"
   ]
  },
  {
   "cell_type": "markdown",
   "metadata": {},
   "source": [
    "### ii. Conv2d NN N (10) Sample Model"
   ]
  },
  {
   "cell_type": "code",
   "execution_count": 20,
   "metadata": {},
   "outputs": [
    {
     "name": "stdout",
     "output_type": "stream",
     "text": [
      "----------------------------------------------------------------\n",
      "        Layer (type)               Output Shape         Param #\n",
      "================================================================\n",
      "           Flatten-1              [-1, 12, 256]               0\n",
      "            Conv1d-2              [-1, 20, 256]           1,940\n",
      "              ReLU-3              [-1, 20, 256]               0\n",
      "         Conv1d_NN-4              [-1, 20, 256]               0\n",
      "         Conv2d_NN-5            [-1, 5, 32, 32]               0\n",
      "           Flatten-6              [-1, 20, 256]               0\n",
      "            Conv1d-7              [-1, 40, 256]           6,440\n",
      "              ReLU-8              [-1, 40, 256]               0\n",
      "         Conv1d_NN-9              [-1, 40, 256]               0\n",
      "        Conv2d_NN-10           [-1, 10, 32, 32]               0\n",
      "          Flatten-11              [-1, 40, 256]               0\n",
      "           Conv1d-12              [-1, 80, 256]          25,680\n",
      "             ReLU-13              [-1, 80, 256]               0\n",
      "        Conv1d_NN-14              [-1, 80, 256]               0\n",
      "        Conv2d_NN-15           [-1, 20, 32, 32]               0\n",
      "          Flatten-16                [-1, 20480]               0\n",
      "           Linear-17                   [-1, 10]         204,810\n",
      "================================================================\n",
      "Total params: 238,870\n",
      "Trainable params: 238,870\n",
      "Non-trainable params: 0\n",
      "----------------------------------------------------------------\n",
      "Input size (MB): 0.01\n",
      "Forward/backward pass size (MB): 1.39\n",
      "Params size (MB): 0.91\n",
      "Estimated Total Size (MB): 2.31\n",
      "----------------------------------------------------------------\n"
     ]
    }
   ],
   "source": [
    "# Model \n",
    "conv2d_nn_n = nn.Sequential(\n",
    "   Conv2d_NN(\n",
    "      in_channels=3,\n",
    "      out_channels=5,\n",
    "      K=8,\n",
    "      stride=8,\n",
    "      padding=0,\n",
    "      shuffle_scale=2, \n",
    "      samples = 10\n",
    "      \n",
    "   ), \n",
    "   Conv2d_NN(\n",
    "      in_channels=5,\n",
    "      out_channels=10,\n",
    "      K=8,\n",
    "      stride=8,\n",
    "      padding=0,\n",
    "      shuffle_scale=2, \n",
    "      samples = 10\n",
    "   ),\n",
    "   Conv2d_NN(\n",
    "      in_channels=10,\n",
    "      out_channels=20,\n",
    "      K=8,\n",
    "      stride=8,\n",
    "      padding=0,\n",
    "      shuffle_scale=2, \n",
    "      samples = 10\n",
    "   ),\n",
    "   nn.Flatten(), \n",
    "   nn.Linear(20480, 10)\n",
    "   \n",
    ").to('cpu')\n",
    "   \n",
    "\n",
    "from torchsummary import summary\n",
    "summary(conv2d_nn_n, (3, 32, 32))\n"
   ]
  },
  {
   "cell_type": "code",
   "execution_count": 21,
   "metadata": {},
   "outputs": [
    {
     "name": "stdout",
     "output_type": "stream",
     "text": [
      "Epoch 1, Time: 55.51019787788391, Loss: 1.8156808456191627\n",
      "Epoch 2, Time: 55.413949966430664, Loss: 1.568489188123542\n",
      "Epoch 3, Time: 55.28556299209595, Loss: 1.4359307264732888\n",
      "Epoch 4, Time: 55.38216590881348, Loss: 1.346325790333321\n",
      "Epoch 5, Time: 55.43906617164612, Loss: 1.257848706849091\n",
      "Epoch 6, Time: 55.52065992355347, Loss: 1.1793412768170046\n",
      "Epoch 7, Time: 55.60967206954956, Loss: 1.1047723770446485\n",
      "Epoch 8, Time: 55.62544894218445, Loss: 1.0443759583451253\n",
      "Epoch 9, Time: 55.6436550617218, Loss: 1.0010980764770752\n",
      "Epoch 10, Time: 55.66088604927063, Loss: 0.9578575901210765\n",
      "\n",
      " Average epoch time: 55.509126496315005\n",
      "Accuracy on test set: 57.15%\n"
     ]
    },
    {
     "data": {
      "text/plain": [
       "57.15"
      ]
     },
     "execution_count": 21,
     "metadata": {},
     "output_type": "execute_result"
    }
   ],
   "source": [
    "# CIFAR10 results \n",
    "conv2d_nn_n.to('mps')\n",
    "\n",
    "criterion = nn.CrossEntropyLoss()\n",
    "optimizer = optim.Adam(conv2d_nn_n.parameters(), lr=0.001)\n",
    "num_epochs = 10 \n",
    "train_model(conv2d_nn_n, cifar10.train_loader, criterion, optimizer, num_epochs)\n",
    "evaluate_accuracy(conv2d_nn_n, cifar10.test_loader)"
   ]
  },
  {
   "cell_type": "markdown",
   "metadata": {},
   "source": [
    "### iii. Conv2d NN Spatial samples Model"
   ]
  },
  {
   "cell_type": "code",
   "execution_count": 22,
   "metadata": {},
   "outputs": [
    {
     "name": "stdout",
     "output_type": "stream",
     "text": [
      "----------------------------------------------------------------\n",
      "        Layer (type)               Output Shape         Param #\n",
      "================================================================\n",
      "           Flatten-1              [-1, 3, 1024]               0\n",
      "            Conv1d-2              [-1, 5, 1024]             125\n",
      "              ReLU-3              [-1, 5, 1024]               0\n",
      " Conv1d_NN_spatial-4              [-1, 5, 1024]               0\n",
      " Conv2d_NN_spatial-5            [-1, 5, 32, 32]               0\n",
      "           Flatten-6              [-1, 5, 1024]               0\n",
      "            Conv1d-7             [-1, 10, 1024]             410\n",
      "              ReLU-8             [-1, 10, 1024]               0\n",
      " Conv1d_NN_spatial-9             [-1, 10, 1024]               0\n",
      "Conv2d_NN_spatial-10           [-1, 10, 32, 32]               0\n",
      "          Flatten-11             [-1, 10, 1024]               0\n",
      "           Conv1d-12             [-1, 20, 1024]           1,620\n",
      "             ReLU-13             [-1, 20, 1024]               0\n",
      "Conv1d_NN_spatial-14             [-1, 20, 1024]               0\n",
      "Conv2d_NN_spatial-15           [-1, 20, 32, 32]               0\n",
      "          Flatten-16                [-1, 20480]               0\n",
      "           Linear-17                   [-1, 10]         204,810\n",
      "================================================================\n",
      "Total params: 206,965\n",
      "Trainable params: 206,965\n",
      "Non-trainable params: 0\n",
      "----------------------------------------------------------------\n",
      "Input size (MB): 0.01\n",
      "Forward/backward pass size (MB): 1.39\n",
      "Params size (MB): 0.79\n",
      "Estimated Total Size (MB): 2.19\n",
      "----------------------------------------------------------------\n"
     ]
    }
   ],
   "source": [
    "# Model \n",
    "conv2d_nn_spatial = nn.Sequential(\n",
    "   Conv2d_NN_spatial(\n",
    "      in_channels=3,\n",
    "      out_channels=5,\n",
    "      K=8,\n",
    "      stride=8,\n",
    "      padding=0,\n",
    "      shuffle_scale=2, \n",
    "      samples=3\n",
    "      \n",
    "   ), \n",
    "   Conv2d_NN_spatial(\n",
    "      in_channels=5,\n",
    "      out_channels=10,\n",
    "      K=8,\n",
    "      stride=8,\n",
    "      padding=0,\n",
    "      shuffle_scale=2, \n",
    "      samples=3\n",
    "   ),\n",
    "   Conv2d_NN_spatial(\n",
    "      in_channels=10,\n",
    "      out_channels=20,\n",
    "      K=8,\n",
    "      stride=8,\n",
    "      padding=0,\n",
    "      shuffle_scale=2, \n",
    "      samples=3\n",
    "   ),\n",
    "   nn.Flatten(), \n",
    "   nn.Linear(20480, 10)\n",
    "   \n",
    ").to('cpu')\n",
    "   \n",
    "\n",
    "from torchsummary import summary\n",
    "summary(conv2d_nn_spatial, (3, 32, 32))"
   ]
  },
  {
   "cell_type": "code",
   "execution_count": 23,
   "metadata": {},
   "outputs": [
    {
     "name": "stdout",
     "output_type": "stream",
     "text": [
      "Epoch 1, Time: 108.96385383605957, Loss: 2.1575859288120514\n",
      "Epoch 2, Time: 107.93930196762085, Loss: 2.122828946698962\n",
      "Epoch 3, Time: 107.96826004981995, Loss: 2.1113657471164107\n",
      "Epoch 4, Time: 107.9063630104065, Loss: 2.1127377908553004\n",
      "Epoch 5, Time: 107.7992000579834, Loss: 2.110430291699022\n",
      "Epoch 6, Time: 107.88676905632019, Loss: 2.112298115135154\n",
      "Epoch 7, Time: 107.80075192451477, Loss: 2.113089960859255\n",
      "Epoch 8, Time: 107.82844018936157, Loss: 2.111495120293649\n",
      "Epoch 9, Time: 107.8477737903595, Loss: 2.110899940780971\n",
      "Epoch 10, Time: 107.81518197059631, Loss: 2.1091887732905805\n",
      "\n",
      " Average epoch time: 107.97558958530426\n",
      "Accuracy on test set: 20.93%\n"
     ]
    },
    {
     "data": {
      "text/plain": [
       "20.93"
      ]
     },
     "execution_count": 23,
     "metadata": {},
     "output_type": "execute_result"
    }
   ],
   "source": [
    "# CIFAR10 results \n",
    "conv2d_nn_spatial.to('mps')\n",
    "\n",
    "criterion = nn.CrossEntropyLoss()\n",
    "optimizer = optim.Adam(conv2d_nn_spatial.parameters(), lr=0.001)\n",
    "num_epochs = 10 \n",
    "train_model(conv2d_nn_spatial, cifar10.train_loader, criterion, optimizer, num_epochs)\n",
    "evaluate_accuracy(conv2d_nn_spatial, cifar10.test_loader)"
   ]
  },
  {
   "cell_type": "markdown",
   "metadata": {},
   "source": [
    "### iv. CNN Model 1 "
   ]
  },
  {
   "cell_type": "code",
   "execution_count": 24,
   "metadata": {},
   "outputs": [
    {
     "name": "stdout",
     "output_type": "stream",
     "text": [
      "----------------------------------------------------------------\n",
      "        Layer (type)               Output Shape         Param #\n",
      "================================================================\n",
      "            Conv2d-1            [-1, 5, 30, 30]             140\n",
      "              ReLU-2            [-1, 5, 30, 30]               0\n",
      "            Conv2d-3           [-1, 10, 28, 28]             460\n",
      "              ReLU-4           [-1, 10, 28, 28]               0\n",
      "            Conv2d-5           [-1, 20, 26, 26]           1,820\n",
      "              ReLU-6           [-1, 20, 26, 26]               0\n",
      "           Flatten-7                [-1, 13520]               0\n",
      "            Linear-8                   [-1, 10]         135,210\n",
      "================================================================\n",
      "Total params: 137,630\n",
      "Trainable params: 137,630\n",
      "Non-trainable params: 0\n",
      "----------------------------------------------------------------\n",
      "Input size (MB): 0.01\n",
      "Forward/backward pass size (MB): 0.50\n",
      "Params size (MB): 0.53\n",
      "Estimated Total Size (MB): 1.03\n",
      "----------------------------------------------------------------\n"
     ]
    }
   ],
   "source": [
    "cnn = nn.Sequential(\n",
    "   nn.Conv2d(\n",
    "      in_channels=3,\n",
    "      out_channels=5,\n",
    "      kernel_size=3\n",
    "   ), \n",
    "   nn.ReLU(),\n",
    "   nn.Conv2d(\n",
    "      in_channels=5,\n",
    "      out_channels=10,\n",
    "      kernel_size=3\n",
    "   ), \n",
    "   nn.ReLU(),\n",
    "   nn.Conv2d(\n",
    "      in_channels=10,\n",
    "      out_channels=20,\n",
    "      kernel_size=3\n",
    "   ), \n",
    "   nn.ReLU(),\n",
    "   nn.Flatten(), \n",
    "   nn.Linear(13520, 10)\n",
    "   \n",
    ").to('cpu')\n",
    "   \n",
    "\n",
    "from torchsummary import summary\n",
    "summary(cnn, (3, 32, 32))"
   ]
  },
  {
   "cell_type": "code",
   "execution_count": 25,
   "metadata": {},
   "outputs": [
    {
     "name": "stdout",
     "output_type": "stream",
     "text": [
      "Epoch 1, Time: 7.893411159515381, Loss: 1.488595805814504\n",
      "Epoch 2, Time: 7.603149175643921, Loss: 1.1620328722097684\n",
      "Epoch 3, Time: 7.510899066925049, Loss: 1.0224151668493704\n",
      "Epoch 4, Time: 7.623315095901489, Loss: 0.9204385534424306\n",
      "Epoch 5, Time: 7.522058010101318, Loss: 0.8376246039824717\n",
      "Epoch 6, Time: 7.600987911224365, Loss: 0.7652542689038665\n",
      "Epoch 7, Time: 7.4972100257873535, Loss: 0.6914785497481256\n",
      "Epoch 8, Time: 7.633450984954834, Loss: 0.6211631467275303\n",
      "Epoch 9, Time: 7.808513879776001, Loss: 0.5632011526838288\n",
      "Epoch 10, Time: 7.382105827331543, Loss: 0.49721130631540134\n",
      "\n",
      " Average epoch time: 7.607510113716126\n",
      "Accuracy on test set: 59.35%\n"
     ]
    },
    {
     "data": {
      "text/plain": [
       "59.35"
      ]
     },
     "execution_count": 25,
     "metadata": {},
     "output_type": "execute_result"
    }
   ],
   "source": [
    "# CIFAR10 results \n",
    "cnn.to('mps')\n",
    "\n",
    "criterion = nn.CrossEntropyLoss()\n",
    "optimizer = optim.Adam(cnn.parameters(), lr=0.001)\n",
    "num_epochs = 10 \n",
    "train_model(cnn, cifar10.train_loader, criterion, optimizer, num_epochs)\n",
    "evaluate_accuracy(cnn, cifar10.test_loader)"
   ]
  },
  {
   "cell_type": "markdown",
   "metadata": {},
   "source": [
    "### v. CNN Model 2"
   ]
  },
  {
   "cell_type": "code",
   "execution_count": 26,
   "metadata": {},
   "outputs": [
    {
     "name": "stdout",
     "output_type": "stream",
     "text": [
      "----------------------------------------------------------------\n",
      "        Layer (type)               Output Shape         Param #\n",
      "================================================================\n",
      "            Conv2d-1           [-1, 64, 30, 30]           1,792\n",
      "         MaxPool2d-2           [-1, 64, 15, 15]               0\n",
      "              ReLU-3           [-1, 64, 15, 15]               0\n",
      "            Conv2d-4          [-1, 128, 13, 13]          73,856\n",
      "         MaxPool2d-5            [-1, 128, 6, 6]               0\n",
      "              ReLU-6            [-1, 128, 6, 6]               0\n",
      "           Flatten-7                 [-1, 4608]               0\n",
      "            Linear-8                  [-1, 200]         921,800\n",
      "              ReLU-9                  [-1, 200]               0\n",
      "           Linear-10                   [-1, 10]           2,010\n",
      "================================================================\n",
      "Total params: 999,458\n",
      "Trainable params: 999,458\n",
      "Non-trainable params: 0\n",
      "----------------------------------------------------------------\n",
      "Input size (MB): 0.01\n",
      "Forward/backward pass size (MB): 0.93\n",
      "Params size (MB): 3.81\n",
      "Estimated Total Size (MB): 4.76\n",
      "----------------------------------------------------------------\n"
     ]
    }
   ],
   "source": [
    "cnn2 = nn.Sequential(\n",
    "   nn.Conv2d(3, 64, 3), \n",
    "   nn.MaxPool2d(2),\n",
    "   nn.ReLU(),\n",
    "   nn.Conv2d(64, 128, 3),\n",
    "   nn.MaxPool2d(2),\n",
    "   nn.ReLU(),\n",
    "   nn.Flatten(), \n",
    "   nn.Linear(4608, 200), \n",
    "   nn.ReLU(), \n",
    "   nn.Linear(200, 10)\n",
    ").to('cpu')\n",
    "\n",
    "summary(cnn2, (3, 32, 32))"
   ]
  },
  {
   "cell_type": "code",
   "execution_count": 27,
   "metadata": {},
   "outputs": [
    {
     "name": "stdout",
     "output_type": "stream",
     "text": [
      "Epoch 1, Time: 9.252714157104492, Loss: 1.2492953814813852\n",
      "Epoch 2, Time: 9.178469896316528, Loss: 0.871120593774959\n",
      "Epoch 3, Time: 9.245590686798096, Loss: 0.6975760346712054\n",
      "Epoch 4, Time: 11.987773895263672, Loss: 0.567608935296383\n",
      "Epoch 5, Time: 12.873844861984253, Loss: 0.43401709511456893\n",
      "Epoch 6, Time: 12.868252038955688, Loss: 0.3262893112990862\n",
      "Epoch 7, Time: 13.034137725830078, Loss: 0.23908620621637464\n",
      "Epoch 8, Time: 12.75081491470337, Loss: 0.17379018553363546\n",
      "Epoch 9, Time: 12.755888938903809, Loss: 0.1341477809902614\n",
      "Epoch 10, Time: 13.506570816040039, Loss: 0.1152960468414704\n",
      "\n",
      " Average epoch time: 11.745405793190002\n",
      "Accuracy on test set: 71.4%\n"
     ]
    },
    {
     "data": {
      "text/plain": [
       "71.4"
      ]
     },
     "execution_count": 27,
     "metadata": {},
     "output_type": "execute_result"
    }
   ],
   "source": [
    "# CIFAR10 results \n",
    "cnn2.to('mps')\n",
    "\n",
    "criterion = nn.CrossEntropyLoss()\n",
    "optimizer = optim.Adam(cnn2.parameters(), lr=0.001)\n",
    "num_epochs = 10 \n",
    "train_model(cnn2, cifar10.train_loader, criterion, optimizer, num_epochs)\n",
    "evaluate_accuracy(cnn2, cifar10.test_loader)"
   ]
  },
  {
   "cell_type": "code",
   "execution_count": null,
   "metadata": {},
   "outputs": [],
   "source": []
  }
 ],
 "metadata": {
  "kernelspec": {
   "display_name": "MK",
   "language": "python",
   "name": "python3"
  },
  "language_info": {
   "codemirror_mode": {
    "name": "ipython",
    "version": 3
   },
   "file_extension": ".py",
   "mimetype": "text/x-python",
   "name": "python",
   "nbconvert_exporter": "python",
   "pygments_lexer": "ipython3",
   "version": "3.12.0"
  }
 },
 "nbformat": 4,
 "nbformat_minor": 2
}
