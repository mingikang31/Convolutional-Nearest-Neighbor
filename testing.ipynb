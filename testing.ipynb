{
 "cells": [
  {
   "cell_type": "code",
   "execution_count": 1,
   "metadata": {},
   "outputs": [
    {
     "name": "stdout",
     "output_type": "stream",
     "text": [
      "tensor([[[[2., 1., 3.],\n",
      "          [1., 0., 2.],\n",
      "          [5., 2., 1.],\n",
      "          [2., 1., 3.],\n",
      "          [1., 0., 2.],\n",
      "          [2., 1., 3.],\n",
      "          [4., 6., 5.],\n",
      "          [5., 2., 1.]]]])\n",
      "torch.Size([1, 1, 8, 3])\n"
     ]
    }
   ],
   "source": [
    "import torch \n",
    "from NNT import *\n",
    "import torch.nn as nn\n",
    "\n"
   ]
  },
  {
   "cell_type": "code",
   "execution_count": 2,
   "metadata": {},
   "outputs": [
    {
     "name": "stdout",
     "output_type": "stream",
     "text": [
      "tensor([[[[1., 2., 9.],\n",
      "          [7., 0., 9.],\n",
      "          [1., 6., 3.],\n",
      "          [2., 4., 3.],\n",
      "          [7., 0., 9.],\n",
      "          [1., 2., 9.],\n",
      "          [1., 5., 0.],\n",
      "          [1., 6., 3.],\n",
      "          [2., 4., 3.],\n",
      "          [1., 6., 3.],\n",
      "          [1., 1., 1.],\n",
      "          [2., 4., 3.]]]])\n",
      "torch.Size([1, 1, 12, 3])\n"
     ]
    }
   ],
   "source": [
    "ex_matrix = torch.tensor([[1, 2, 9], [1, 6, 3], [7, 0, 9], \n",
    "                          [1, 5, 0], [2, 4, 3], [1, 1, 1], \n",
    "                          ], dtype=torch.float32)\n",
    "\n",
    "a = NNT(ex_matrix, (2, 3))\n",
    "print(a.convolution_matrix.shape)\n",
    "print(a.convolution_matrix)\n"
   ]
  },
  {
   "cell_type": "code",
   "execution_count": 9,
   "metadata": {},
   "outputs": [],
   "source": [
    "conv2d_layer = nn.Conv2d(in_channels = 1, out_channels = 1, kernel_size = a.kernel_shape, stride = a.num_closest)"
   ]
  },
  {
   "cell_type": "code",
   "execution_count": 10,
   "metadata": {},
   "outputs": [
    {
     "name": "stdout",
     "output_type": "stream",
     "text": [
      "torch.Size([1, 1, 6, 1])\n",
      "tensor([[[[-3.7231],\n",
      "          [-2.9690],\n",
      "          [-4.0512],\n",
      "          [-1.6924],\n",
      "          [-2.3229],\n",
      "          [-0.7290]]]], grad_fn=<ConvolutionBackward0>)\n"
     ]
    }
   ],
   "source": [
    "output = conv2d_layer(a.convolution_matrix)\n",
    "print(output.shape)\n",
    "print(output)"
   ]
  },
  {
   "cell_type": "code",
   "execution_count": null,
   "metadata": {},
   "outputs": [],
   "source": []
  }
 ],
 "metadata": {
  "kernelspec": {
   "display_name": "MK",
   "language": "python",
   "name": "python3"
  },
  "language_info": {
   "codemirror_mode": {
    "name": "ipython",
    "version": 3
   },
   "file_extension": ".py",
   "mimetype": "text/x-python",
   "name": "python",
   "nbconvert_exporter": "python",
   "pygments_lexer": "ipython3",
   "version": "3.12.0"
  }
 },
 "nbformat": 4,
 "nbformat_minor": 2
}
