{
 "cells": [
  {
   "cell_type": "markdown",
   "metadata": {},
   "source": [
    "# Testing MNIST1D Convolution Neural Network\n"
   ]
  },
  {
   "cell_type": "code",
   "execution_count": 4,
   "metadata": {},
   "outputs": [],
   "source": [
    "from models import * \n",
    "from train import *\n",
    "\n"
   ]
  },
  {
   "cell_type": "code",
   "execution_count": 5,
   "metadata": {},
   "outputs": [],
   "source": [
    "from mnist1d.data import make_dataset, get_dataset_args\n",
    "\n",
    "args = get_dataset_args()\n",
    "set_seed(args.seed)\n",
    "args.shuffle_seq = False\n",
    "data = make_dataset(args = args) # Make the dataset \n",
    "\n",
    "set_seed(args.seed)\n",
    "args.shuffle_seq = True\n",
    "data_shuffle = make_dataset(args = args) # Make the dataset, shuffling the spatial dimension\n",
    "\n"
   ]
  },
  {
   "cell_type": "code",
   "execution_count": 6,
   "metadata": {},
   "outputs": [
    {
     "name": "stdout",
     "output_type": "stream",
     "text": [
      "float64\n",
      "int64\n"
     ]
    }
   ],
   "source": [
    "print(data['x'].dtype) # numpy array [4000, 40]\n",
    "print(data['y'].dtype) # numpy array [4000, 10]"
   ]
  },
  {
   "cell_type": "code",
   "execution_count": 7,
   "metadata": {},
   "outputs": [
    {
     "name": "stdout",
     "output_type": "stream",
     "text": [
      "Initialized ConvBase model with 5210 parameters\n",
      "----------------------------------------------------------------\n",
      "        Layer (type)               Output Shape         Param #\n",
      "================================================================\n",
      "            Conv1d-1               [-1, 25, 19]             150\n",
      "            Conv1d-2               [-1, 25, 10]           1,900\n",
      "            Conv1d-3                [-1, 25, 5]           1,900\n",
      "            Linear-4                   [-1, 10]           1,260\n",
      "================================================================\n",
      "Total params: 5,210\n",
      "Trainable params: 5,210\n",
      "Non-trainable params: 0\n",
      "----------------------------------------------------------------\n",
      "Input size (MB): 0.61\n",
      "Forward/backward pass size (MB): 0.01\n",
      "Params size (MB): 0.02\n",
      "Estimated Total Size (MB): 0.64\n",
      "----------------------------------------------------------------\n"
     ]
    }
   ],
   "source": [
    "# Model summary \n",
    "from torchsummary import summary\n",
    "model = ConvBase(10)\n",
    "model = model.to('cpu')\n",
    "summary(model, (4000, 40), device='cpu')"
   ]
  },
  {
   "cell_type": "markdown",
   "metadata": {},
   "source": [
    "# Train model "
   ]
  },
  {
   "cell_type": "code",
   "execution_count": 8,
   "metadata": {},
   "outputs": [],
   "source": [
    "DEVICE = 'cuda' if torch.cuda.is_available() else 'mps' if torch.backends.mps.is_available() else 'cpu'"
   ]
  },
  {
   "cell_type": "code",
   "execution_count": 9,
   "metadata": {},
   "outputs": [
    {
     "name": "stdout",
     "output_type": "stream",
     "text": [
      "Initialized ConvBase model with 5210 parameters\n",
      "step 1000, dt 6.37s, train_loss 7.132e-02, test_loss 4.419e-01, train_acc 95.7, test_acc 86.9\n",
      "step 2000, dt 3.08s, train_loss 1.366e-02, test_loss 4.098e-01, train_acc 99.2, test_acc 90.8\n",
      "step 3000, dt 2.99s, train_loss 1.589e-01, test_loss 3.706e-01, train_acc 99.0, test_acc 92.1\n",
      "step 4000, dt 3.12s, train_loss 1.827e-04, test_loss 3.975e-01, train_acc 100.0, test_acc 94.3\n",
      "step 5000, dt 2.97s, train_loss 4.910e-05, test_loss 3.884e-01, train_acc 100.0, test_acc 94.5\n",
      "step 6000, dt 3.00s, train_loss 3.112e-05, test_loss 3.922e-01, train_acc 100.0, test_acc 94.2\n"
     ]
    }
   ],
   "source": [
    "\n",
    "# original data results\n",
    "args = get_model_args()\n",
    "args.device = DEVICE\n",
    "args.total_steps = 6000\n",
    "\n",
    "set_seed(args.seed)\n",
    "model = ConvBase(output_size=args.output_size)\n",
    "results_cnn = train_model(data, model, args)"
   ]
  },
  {
   "cell_type": "code",
   "execution_count": null,
   "metadata": {},
   "outputs": [
    {
     "name": "stdout",
     "output_type": "stream",
     "text": [
      "Initialized ConvBase model with 5210 parameters\n",
      "step 1000, dt 3.04s, train_loss 4.183e-01, test_loss 1.657e+00, train_acc 76.3, test_acc 54.6\n",
      "step 2000, dt 2.83s, train_loss 2.823e-01, test_loss 2.332e+00, train_acc 82.3, test_acc 56.6\n",
      "step 3000, dt 2.83s, train_loss 3.146e-01, test_loss 3.057e+00, train_acc 88.0, test_acc 53.6\n",
      "step 4000, dt 2.81s, train_loss 2.738e-01, test_loss 3.980e+00, train_acc 91.5, test_acc 57.7\n",
      "step 5000, dt 2.81s, train_loss 4.133e-01, test_loss 5.217e+00, train_acc 91.4, test_acc 54.2\n",
      "step 6000, dt 2.76s, train_loss 2.271e-01, test_loss 5.693e+00, train_acc 94.5, test_acc 55.8\n"
     ]
    }
   ],
   "source": [
    "# Shuffle the spatial dimension results\n",
    "args = get_model_args()\n",
    "args.device = DEVICE\n",
    "args.total_steps = 6000\n",
    "\n",
    "set_seed(args.seed)\n",
    "model = ConvBase(output_size=args.output_size)\n",
    "results_cnn = train_model(data_shuffle, model, args)"
   ]
  },
  {
   "cell_type": "code",
   "execution_count": null,
   "metadata": {},
   "outputs": [],
   "source": []
  }
 ],
 "metadata": {
  "kernelspec": {
   "display_name": "MK",
   "language": "python",
   "name": "python3"
  },
  "language_info": {
   "codemirror_mode": {
    "name": "ipython",
    "version": 3
   },
   "file_extension": ".py",
   "mimetype": "text/x-python",
   "name": "python",
   "nbconvert_exporter": "python",
   "pygments_lexer": "ipython3",
   "version": "3.1.-1"
  }
 },
 "nbformat": 4,
 "nbformat_minor": 2
}
