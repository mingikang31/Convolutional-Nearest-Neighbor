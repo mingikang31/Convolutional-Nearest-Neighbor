{
 "cells": [
  {
   "cell_type": "markdown",
   "metadata": {},
   "source": [
    "# Conv2d_NN Test varying K"
   ]
  },
  {
   "cell_type": "code",
   "execution_count": 1,
   "metadata": {},
   "outputs": [],
   "source": [
    "import sys \n",
    "sys.path.append('../')\n",
    "import time\n",
    "import os \n",
    "\n",
    "\n",
    "import torch \n",
    "import torch.nn as nn\n",
    "import torch.optim as optim\n",
    "import torch.nn.functional as F\n",
    "from torch.utils.data import DataLoader\n",
    "from torchsummary import summary \n",
    "\n",
    "from Conv2d_NN_spatial import Conv2d_NN_spatial\n",
    "from Conv2d_NN import Conv2d_NN\n",
    "from pixelshuffle import PixelShuffle1D, PixelUnshuffle1D\n",
    "\n",
    "\n",
    "from data import MNIST, FashionMNIST, CIFAR10\n",
    "from train import train_model, evaluate_accuracy \n"
   ]
  },
  {
   "cell_type": "markdown",
   "metadata": {},
   "source": [
    "### MNIST + FashionMNIST + CIFAR10 Data"
   ]
  },
  {
   "cell_type": "code",
   "execution_count": null,
   "metadata": {},
   "outputs": [],
   "source": []
  },
  {
   "cell_type": "code",
   "execution_count": 2,
   "metadata": {},
   "outputs": [
    {
     "name": "stdout",
     "output_type": "stream",
     "text": [
      "Files already downloaded and verified\n",
      "Files already downloaded and verified\n"
     ]
    },
    {
     "data": {
      "image/png": "[encoded data removed]",
      "text/plain": [
       "<Figure size 600x300 with 1 Axes>"
      ]
     },
     "metadata": {},
     "output_type": "display_data"
    },
    {
     "data": {
      "image/png": "[encoded data removed]",
      "text/plain": [
       "<Figure size 600x300 with 1 Axes>"
      ]
     },
     "metadata": {},
     "output_type": "display_data"
    },
    {
     "data": {
      "image/png": "[encoded data removed]",
      "text/plain": [
       "<Figure size 600x300 with 1 Axes>"
      ]
     },
     "metadata": {},
     "output_type": "display_data"
    }
   ],
   "source": [
    "mnist = MNIST()\n",
    "fashionmnist = FashionMNIST()\n",
    "cifar10 = CIFAR10()\n",
    "\n",
    "\n",
    "\n",
    "mnist.visual()\n",
    "fashionmnist.visual()\n",
    "cifar10.visual()\n"
   ]
  },
  {
   "cell_type": "markdown",
   "metadata": {},
   "source": [
    "## I. MNIST + FashionMNIST Test"
   ]
  },
  {
   "cell_type": "markdown",
   "metadata": {},
   "source": [
    "### K = 3"
   ]
  },
  {
   "cell_type": "code",
   "execution_count": 3,
   "metadata": {},
   "outputs": [
    {
     "name": "stdout",
     "output_type": "stream",
     "text": [
      "----------------------------------------------------------------\n",
      "        Layer (type)               Output Shape         Param #\n",
      "================================================================\n",
      "           Flatten-1               [-1, 4, 196]               0\n",
      "            Conv1d-2              [-1, 20, 196]             260\n",
      "              ReLU-3              [-1, 20, 196]               0\n",
      "         Conv1d_NN-4              [-1, 20, 196]               0\n",
      "         Conv2d_NN-5            [-1, 5, 28, 28]               0\n",
      "           Flatten-6              [-1, 20, 196]               0\n",
      "            Conv1d-7              [-1, 40, 196]           2,440\n",
      "              ReLU-8              [-1, 40, 196]               0\n",
      "         Conv1d_NN-9              [-1, 40, 196]               0\n",
      "        Conv2d_NN-10           [-1, 10, 28, 28]               0\n",
      "          Flatten-11              [-1, 40, 196]               0\n",
      "           Conv1d-12              [-1, 80, 196]           9,680\n",
      "             ReLU-13              [-1, 80, 196]               0\n",
      "        Conv1d_NN-14              [-1, 80, 196]               0\n",
      "        Conv2d_NN-15           [-1, 20, 28, 28]               0\n",
      "          Flatten-16                [-1, 15680]               0\n",
      "           Linear-17                   [-1, 10]         156,810\n",
      "================================================================\n",
      "Total params: 169,190\n",
      "Trainable params: 169,190\n",
      "Non-trainable params: 0\n",
      "----------------------------------------------------------------\n",
      "Input size (MB): 0.00\n",
      "Forward/backward pass size (MB): 1.05\n",
      "Params size (MB): 0.65\n",
      "Estimated Total Size (MB): 1.70\n",
      "----------------------------------------------------------------\n"
     ]
    }
   ],
   "source": [
    "# Model K = 3\n",
    "conv2d_nn_3 = nn.Sequential(\n",
    "   Conv2d_NN(\n",
    "      in_channels=1,\n",
    "      out_channels=5,\n",
    "      K=3,\n",
    "      stride=3,\n",
    "      padding=0,\n",
    "      shuffle_scale=2\n",
    "   ), \n",
    "   Conv2d_NN(\n",
    "      in_channels=5,\n",
    "      out_channels=10,\n",
    "      K=3,\n",
    "      stride=3,\n",
    "      padding=0,\n",
    "      shuffle_scale=2\n",
    "   ),\n",
    "   Conv2d_NN(\n",
    "      in_channels=10,\n",
    "      out_channels=20,\n",
    "      K=3,\n",
    "      stride=3,\n",
    "      padding=0,\n",
    "      shuffle_scale=2\n",
    "   ),\n",
    "   nn.Flatten(), \n",
    "   nn.Linear(15680, 10)\n",
    "   \n",
    ").to('cpu')\n",
    "   \n",
    "\n",
    "from torchsummary import summary\n",
    "summary(conv2d_nn_3, (1, 28, 28))\n",
    "\n"
   ]
  },
  {
   "cell_type": "code",
   "execution_count": 4,
   "metadata": {},
   "outputs": [
    {
     "name": "stdout",
     "output_type": "stream",
     "text": [
      "Epoch 1, Time: 44.378697872161865, Loss: 0.3661316014540348\n",
      "Epoch 2, Time: 39.29632616043091, Loss: 0.24884289939965265\n",
      "Epoch 3, Time: 38.77810001373291, Loss: 0.20466553338015003\n",
      "Epoch 4, Time: 38.869231939315796, Loss: 0.17917939835686736\n",
      "Epoch 5, Time: 39.0068199634552, Loss: 0.16098164942171148\n",
      "Epoch 6, Time: 39.041168212890625, Loss: 0.1429407639262169\n",
      "Epoch 7, Time: 38.898828983306885, Loss: 0.13220914608951825\n",
      "Epoch 8, Time: 38.97258996963501, Loss: 0.12120653171517225\n",
      "Epoch 9, Time: 38.799793004989624, Loss: 0.10836193469891162\n",
      "Epoch 10, Time: 38.85076308250427, Loss: 0.10570902268944392\n",
      "\n",
      " Average epoch time: 39.48923192024231\n",
      "Accuracy on test set: 94.96%\n"
     ]
    },
    {
     "data": {
      "text/plain": [
       "94.96"
      ]
     },
     "execution_count": 4,
     "metadata": {},
     "output_type": "execute_result"
    }
   ],
   "source": [
    "# MNIST results \n",
    "conv2d_nn_3.to('mps')\n",
    "\n",
    "criterion = nn.CrossEntropyLoss()\n",
    "optimizer = optim.Adam(conv2d_nn_3.parameters(), lr=0.001)\n",
    "num_epochs = 10 \n",
    "train_model(conv2d_nn_3, mnist.train_loader, criterion, optimizer, num_epochs)\n",
    "evaluate_accuracy(conv2d_nn_3, mnist.test_loader)"
   ]
  },
  {
   "cell_type": "code",
   "execution_count": 5,
   "metadata": {},
   "outputs": [
    {
     "name": "stdout",
     "output_type": "stream",
     "text": [
      "Epoch 1, Time: 37.28849005699158, Loss: 0.4817773740111129\n",
      "Epoch 2, Time: 37.83932375907898, Loss: 0.3626624120991113\n",
      "Epoch 3, Time: 38.33485198020935, Loss: 0.3263348764511568\n",
      "Epoch 4, Time: 37.28860592842102, Loss: 0.3020021556489376\n",
      "Epoch 5, Time: 37.19302296638489, Loss: 0.2838479124629167\n",
      "Epoch 6, Time: 37.83716678619385, Loss: 0.2668358688749103\n",
      "Epoch 7, Time: 37.219655990600586, Loss: 0.25304154447639293\n",
      "Epoch 8, Time: 37.0371949672699, Loss: 0.24426539490885063\n",
      "Epoch 9, Time: 37.02301621437073, Loss: 0.23141266190722934\n",
      "Epoch 10, Time: 37.10240411758423, Loss: 0.2213709855051056\n",
      "\n",
      " Average epoch time: 37.41637327671051\n",
      "Accuracy on test set: 87.15%\n"
     ]
    },
    {
     "data": {
      "text/plain": [
       "87.15"
      ]
     },
     "execution_count": 5,
     "metadata": {},
     "output_type": "execute_result"
    }
   ],
   "source": [
    "# Fashion MNIST results\n",
    "conv2d_nn_3.apply(lambda m: m.reset_parameters() if hasattr(m, 'reset_parameters') else None)\n",
    "\n",
    "criterion = nn.CrossEntropyLoss()\n",
    "optimizer = optim.Adam(conv2d_nn_3.parameters(), lr=0.001)\n",
    "num_epochs = 10 \n",
    "train_model(conv2d_nn_3, fashionmnist.train_loader, criterion, optimizer, num_epochs)\n",
    "evaluate_accuracy(conv2d_nn_3, fashionmnist.test_loader)"
   ]
  },
  {
   "cell_type": "markdown",
   "metadata": {},
   "source": [
    "### K = 5"
   ]
  },
  {
   "cell_type": "code",
   "execution_count": 6,
   "metadata": {},
   "outputs": [
    {
     "name": "stdout",
     "output_type": "stream",
     "text": [
      "----------------------------------------------------------------\n",
      "        Layer (type)               Output Shape         Param #\n",
      "================================================================\n",
      "           Flatten-1               [-1, 4, 196]               0\n",
      "            Conv1d-2              [-1, 20, 196]             420\n",
      "              ReLU-3              [-1, 20, 196]               0\n",
      "         Conv1d_NN-4              [-1, 20, 196]               0\n",
      "         Conv2d_NN-5            [-1, 5, 28, 28]               0\n",
      "           Flatten-6              [-1, 20, 196]               0\n",
      "            Conv1d-7              [-1, 40, 196]           4,040\n",
      "              ReLU-8              [-1, 40, 196]               0\n",
      "         Conv1d_NN-9              [-1, 40, 196]               0\n",
      "        Conv2d_NN-10           [-1, 10, 28, 28]               0\n",
      "          Flatten-11              [-1, 40, 196]               0\n",
      "           Conv1d-12              [-1, 80, 196]          16,080\n",
      "             ReLU-13              [-1, 80, 196]               0\n",
      "        Conv1d_NN-14              [-1, 80, 196]               0\n",
      "        Conv2d_NN-15           [-1, 20, 28, 28]               0\n",
      "          Flatten-16                [-1, 15680]               0\n",
      "           Linear-17                   [-1, 10]         156,810\n",
      "================================================================\n",
      "Total params: 177,350\n",
      "Trainable params: 177,350\n",
      "Non-trainable params: 0\n",
      "----------------------------------------------------------------\n",
      "Input size (MB): 0.00\n",
      "Forward/backward pass size (MB): 1.05\n",
      "Params size (MB): 0.68\n",
      "Estimated Total Size (MB): 1.73\n",
      "----------------------------------------------------------------\n"
     ]
    }
   ],
   "source": [
    "# Model K = 5\n",
    "conv2d_nn_5 = nn.Sequential(\n",
    "   Conv2d_NN(\n",
    "      in_channels=1,\n",
    "      out_channels=5,\n",
    "      K=5,\n",
    "      stride=5,\n",
    "      padding=0,\n",
    "      shuffle_scale=2\n",
    "   ), \n",
    "   Conv2d_NN(\n",
    "      in_channels=5,\n",
    "      out_channels=10,\n",
    "      K=5,\n",
    "      stride=5,\n",
    "      padding=0,\n",
    "      shuffle_scale=2\n",
    "   ),\n",
    "   Conv2d_NN(\n",
    "      in_channels=10,\n",
    "      out_channels=20,\n",
    "      K=5,\n",
    "      stride=5,\n",
    "      padding=0,\n",
    "      shuffle_scale=2\n",
    "   ),\n",
    "   nn.Flatten(), \n",
    "   nn.Linear(15680, 10)\n",
    "   \n",
    ").to('cpu')\n",
    "   \n",
    "\n",
    "from torchsummary import summary\n",
    "summary(conv2d_nn_5, (1, 28, 28))\n",
    "\n"
   ]
  },
  {
   "cell_type": "code",
   "execution_count": 7,
   "metadata": {},
   "outputs": [
    {
     "name": "stdout",
     "output_type": "stream",
     "text": [
      "Epoch 1, Time: 42.33623504638672, Loss: 0.36603617004112904\n",
      "Epoch 2, Time: 41.90544891357422, Loss: 0.23594923833730633\n",
      "Epoch 3, Time: 41.87471103668213, Loss: 0.1983940510400958\n",
      "Epoch 4, Time: 42.10044193267822, Loss: 0.17787586731800456\n",
      "Epoch 5, Time: 41.92670917510986, Loss: 0.1606172765694511\n",
      "Epoch 6, Time: 41.98365378379822, Loss: 0.1474118186344605\n",
      "Epoch 7, Time: 41.97923707962036, Loss: 0.1344138727878838\n",
      "Epoch 8, Time: 42.080418825149536, Loss: 0.12365068418424585\n",
      "Epoch 9, Time: 41.94388484954834, Loss: 0.11364020420504468\n",
      "Epoch 10, Time: 41.9613082408905, Loss: 0.10595279018968534\n",
      "\n",
      " Average epoch time: 42.00920488834381\n",
      "Accuracy on test set: 94.89%\n"
     ]
    },
    {
     "data": {
      "text/plain": [
       "94.89"
      ]
     },
     "execution_count": 7,
     "metadata": {},
     "output_type": "execute_result"
    }
   ],
   "source": [
    "# MNIST results \n",
    "conv2d_nn_5.to('mps')\n",
    "\n",
    "criterion = nn.CrossEntropyLoss()\n",
    "optimizer = optim.Adam(conv2d_nn_5.parameters(), lr=0.001)\n",
    "num_epochs = 10 \n",
    "train_model(conv2d_nn_5, mnist.train_loader, criterion, optimizer, num_epochs)\n",
    "evaluate_accuracy(conv2d_nn_5, mnist.test_loader)"
   ]
  },
  {
   "cell_type": "code",
   "execution_count": 8,
   "metadata": {},
   "outputs": [
    {
     "name": "stdout",
     "output_type": "stream",
     "text": [
      "Epoch 1, Time: 39.81666588783264, Loss: 0.4772590083290519\n",
      "Epoch 2, Time: 39.79671907424927, Loss: 0.36158701728211284\n",
      "Epoch 3, Time: 39.69170689582825, Loss: 0.3287717687295698\n",
      "Epoch 4, Time: 39.784239292144775, Loss: 0.30801766897950855\n",
      "Epoch 5, Time: 39.7092559337616, Loss: 0.2899602104558238\n",
      "Epoch 6, Time: 39.834818601608276, Loss: 0.2749415871732906\n",
      "Epoch 7, Time: 39.70395588874817, Loss: 0.26328232126640105\n",
      "Epoch 8, Time: 42.3412139415741, Loss: 0.25152577966975886\n",
      "Epoch 9, Time: 41.773492097854614, Loss: 0.23908032051154546\n",
      "Epoch 10, Time: 39.79569411277771, Loss: 0.23123858227674512\n",
      "\n",
      " Average epoch time: 40.22477617263794\n",
      "Accuracy on test set: 87.87%\n"
     ]
    },
    {
     "data": {
      "text/plain": [
       "87.87"
      ]
     },
     "execution_count": 8,
     "metadata": {},
     "output_type": "execute_result"
    }
   ],
   "source": [
    "# Fashion MNIST results\n",
    "conv2d_nn_5.apply(lambda m: m.reset_parameters() if hasattr(m, 'reset_parameters') else None)\n",
    "\n",
    "criterion = nn.CrossEntropyLoss()\n",
    "optimizer = optim.Adam(conv2d_nn_5.parameters(), lr=0.001)\n",
    "num_epochs = 10 \n",
    "train_model(conv2d_nn_5, fashionmnist.train_loader, criterion, optimizer, num_epochs)\n",
    "evaluate_accuracy(conv2d_nn_5, fashionmnist.test_loader)"
   ]
  },
  {
   "cell_type": "markdown",
   "metadata": {},
   "source": [
    "### K = 7"
   ]
  },
  {
   "cell_type": "code",
   "execution_count": 9,
   "metadata": {},
   "outputs": [
    {
     "name": "stdout",
     "output_type": "stream",
     "text": [
      "----------------------------------------------------------------\n",
      "        Layer (type)               Output Shape         Param #\n",
      "================================================================\n",
      "           Flatten-1               [-1, 4, 196]               0\n",
      "            Conv1d-2              [-1, 20, 196]             580\n",
      "              ReLU-3              [-1, 20, 196]               0\n",
      "         Conv1d_NN-4              [-1, 20, 196]               0\n",
      "         Conv2d_NN-5            [-1, 5, 28, 28]               0\n",
      "           Flatten-6              [-1, 20, 196]               0\n",
      "            Conv1d-7              [-1, 40, 196]           5,640\n",
      "              ReLU-8              [-1, 40, 196]               0\n",
      "         Conv1d_NN-9              [-1, 40, 196]               0\n",
      "        Conv2d_NN-10           [-1, 10, 28, 28]               0\n",
      "          Flatten-11              [-1, 40, 196]               0\n",
      "           Conv1d-12              [-1, 80, 196]          22,480\n",
      "             ReLU-13              [-1, 80, 196]               0\n",
      "        Conv1d_NN-14              [-1, 80, 196]               0\n",
      "        Conv2d_NN-15           [-1, 20, 28, 28]               0\n",
      "          Flatten-16                [-1, 15680]               0\n",
      "           Linear-17                   [-1, 10]         156,810\n",
      "================================================================\n",
      "Total params: 185,510\n",
      "Trainable params: 185,510\n",
      "Non-trainable params: 0\n",
      "----------------------------------------------------------------\n",
      "Input size (MB): 0.00\n",
      "Forward/backward pass size (MB): 1.05\n",
      "Params size (MB): 0.71\n",
      "Estimated Total Size (MB): 1.76\n",
      "----------------------------------------------------------------\n"
     ]
    }
   ],
   "source": [
    "# Model K = 7\n",
    "conv2d_nn_7 = nn.Sequential(\n",
    "   Conv2d_NN(\n",
    "      in_channels=1,\n",
    "      out_channels=5,\n",
    "      K=7,\n",
    "      stride=7,\n",
    "      padding=0,\n",
    "      shuffle_scale=2\n",
    "   ), \n",
    "   Conv2d_NN(\n",
    "      in_channels=5,\n",
    "      out_channels=10,\n",
    "      K=7,\n",
    "      stride=7,\n",
    "      padding=0,\n",
    "      shuffle_scale=2\n",
    "   ),\n",
    "   Conv2d_NN(\n",
    "      in_channels=10,\n",
    "      out_channels=20,\n",
    "      K=7,\n",
    "      stride=7,\n",
    "      padding=0,\n",
    "      shuffle_scale=2\n",
    "   ),\n",
    "   nn.Flatten(), \n",
    "   nn.Linear(15680, 10)\n",
    "   \n",
    ").to('cpu')\n",
    "   \n",
    "\n",
    "from torchsummary import summary\n",
    "summary(conv2d_nn_7, (1, 28, 28))\n",
    "\n"
   ]
  },
  {
   "cell_type": "code",
   "execution_count": 10,
   "metadata": {},
   "outputs": [
    {
     "name": "stdout",
     "output_type": "stream",
     "text": [
      "Epoch 1, Time: 48.068274974823, Loss: 0.3976671534941903\n",
      "Epoch 2, Time: 46.4491229057312, Loss: 0.2622718020940005\n",
      "Epoch 3, Time: 46.19762396812439, Loss: 0.21967519683116027\n",
      "Epoch 4, Time: 46.35721397399902, Loss: 0.1936460409098978\n",
      "Epoch 5, Time: 49.755199909210205, Loss: 0.17233015912404256\n",
      "Epoch 6, Time: 47.26055407524109, Loss: 0.15857228823403305\n",
      "Epoch 7, Time: 48.366148948669434, Loss: 0.1461435098673648\n",
      "Epoch 8, Time: 47.38886117935181, Loss: 0.13255941291460827\n",
      "Epoch 9, Time: 49.12002086639404, Loss: 0.12071113102038754\n",
      "Epoch 10, Time: 48.915581941604614, Loss: 0.11257690519862958\n",
      "\n",
      " Average epoch time: 47.78786027431488\n",
      "Accuracy on test set: 94.81%\n"
     ]
    },
    {
     "data": {
      "text/plain": [
       "94.81"
      ]
     },
     "execution_count": 10,
     "metadata": {},
     "output_type": "execute_result"
    }
   ],
   "source": [
    "# MNIST results \n",
    "conv2d_nn_7.to('mps')\n",
    "\n",
    "criterion = nn.CrossEntropyLoss()\n",
    "optimizer = optim.Adam(conv2d_nn_7.parameters(), lr=0.001)\n",
    "num_epochs = 10 \n",
    "train_model(conv2d_nn_7, mnist.train_loader, criterion, optimizer, num_epochs)\n",
    "evaluate_accuracy(conv2d_nn_7, mnist.test_loader)"
   ]
  },
  {
   "cell_type": "code",
   "execution_count": 11,
   "metadata": {},
   "outputs": [
    {
     "name": "stdout",
     "output_type": "stream",
     "text": [
      "Epoch 1, Time: 44.86883211135864, Loss: 0.48277019261360676\n",
      "Epoch 2, Time: 43.334060192108154, Loss: 0.36887295274878107\n",
      "Epoch 3, Time: 46.42076897621155, Loss: 0.33330081491423313\n",
      "Epoch 4, Time: 43.296793699264526, Loss: 0.31673972416264035\n",
      "Epoch 5, Time: 43.328014850616455, Loss: 0.29919237486207917\n",
      "Epoch 6, Time: 43.168302059173584, Loss: 0.27976212564752556\n",
      "Epoch 7, Time: 43.413023948669434, Loss: 0.2689268535245329\n",
      "Epoch 8, Time: 43.27133512496948, Loss: 0.25611193712427416\n",
      "Epoch 9, Time: 43.22197723388672, Loss: 0.24329650769832292\n",
      "Epoch 10, Time: 43.213078022003174, Loss: 0.23275448873972715\n",
      "\n",
      " Average epoch time: 43.75361862182617\n",
      "Accuracy on test set: 87.98%\n"
     ]
    },
    {
     "data": {
      "text/plain": [
       "87.98"
      ]
     },
     "execution_count": 11,
     "metadata": {},
     "output_type": "execute_result"
    }
   ],
   "source": [
    "# Fashion MNIST results\n",
    "conv2d_nn_7.apply(lambda m: m.reset_parameters() if hasattr(m, 'reset_parameters') else None)\n",
    "\n",
    "criterion = nn.CrossEntropyLoss()\n",
    "optimizer = optim.Adam(conv2d_nn_7.parameters(), lr=0.001)\n",
    "num_epochs = 10 \n",
    "train_model(conv2d_nn_7, fashionmnist.train_loader, criterion, optimizer, num_epochs)\n",
    "evaluate_accuracy(conv2d_nn_7, fashionmnist.test_loader)"
   ]
  },
  {
   "cell_type": "markdown",
   "metadata": {},
   "source": [
    "### K = 9"
   ]
  },
  {
   "cell_type": "code",
   "execution_count": 25,
   "metadata": {},
   "outputs": [
    {
     "name": "stdout",
     "output_type": "stream",
     "text": [
      "----------------------------------------------------------------\n",
      "        Layer (type)               Output Shape         Param #\n",
      "================================================================\n",
      "           Flatten-1               [-1, 4, 196]               0\n",
      "            Conv1d-2              [-1, 20, 196]             740\n",
      "              ReLU-3              [-1, 20, 196]               0\n",
      "         Conv1d_NN-4              [-1, 20, 196]               0\n",
      "         Conv2d_NN-5            [-1, 5, 28, 28]               0\n",
      "           Flatten-6              [-1, 20, 196]               0\n",
      "            Conv1d-7              [-1, 40, 196]           7,240\n",
      "              ReLU-8              [-1, 40, 196]               0\n",
      "         Conv1d_NN-9              [-1, 40, 196]               0\n",
      "        Conv2d_NN-10           [-1, 10, 28, 28]               0\n",
      "          Flatten-11              [-1, 40, 196]               0\n",
      "           Conv1d-12              [-1, 80, 196]          28,880\n",
      "             ReLU-13              [-1, 80, 196]               0\n",
      "        Conv1d_NN-14              [-1, 80, 196]               0\n",
      "        Conv2d_NN-15           [-1, 20, 28, 28]               0\n",
      "          Flatten-16                [-1, 15680]               0\n",
      "           Linear-17                   [-1, 10]         156,810\n",
      "================================================================\n",
      "Total params: 193,670\n",
      "Trainable params: 193,670\n",
      "Non-trainable params: 0\n",
      "----------------------------------------------------------------\n",
      "Input size (MB): 0.00\n",
      "Forward/backward pass size (MB): 1.05\n",
      "Params size (MB): 0.74\n",
      "Estimated Total Size (MB): 1.79\n",
      "----------------------------------------------------------------\n"
     ]
    }
   ],
   "source": [
    "# Model K = 9\n",
    "conv2d_nn_9 = nn.Sequential(\n",
    "   Conv2d_NN(\n",
    "      in_channels=1,\n",
    "      out_channels=5,\n",
    "      K=9,\n",
    "      stride=9,\n",
    "      padding=0,\n",
    "      shuffle_scale=2\n",
    "   ), \n",
    "   Conv2d_NN(\n",
    "      in_channels=5,\n",
    "      out_channels=10,\n",
    "      K=9,\n",
    "      stride=9,\n",
    "      padding=0,\n",
    "      shuffle_scale=2\n",
    "   ),\n",
    "   Conv2d_NN(\n",
    "      in_channels=10,\n",
    "      out_channels=20,\n",
    "      K=9,\n",
    "      stride=9,\n",
    "      padding=0,\n",
    "      shuffle_scale=2\n",
    "   ),\n",
    "   nn.Flatten(), \n",
    "   nn.Linear(15680, 10)\n",
    "   \n",
    ").to('cpu')\n",
    "   \n",
    "\n",
    "from torchsummary import summary\n",
    "summary(conv2d_nn_9, (1, 28, 28))\n",
    "\n"
   ]
  },
  {
   "cell_type": "code",
   "execution_count": 26,
   "metadata": {},
   "outputs": [
    {
     "name": "stdout",
     "output_type": "stream",
     "text": [
      "Epoch 1, Time: 56.175524950027466, Loss: 0.3862602050338727\n",
      "Epoch 2, Time: 54.397582054138184, Loss: 0.2743589062728226\n",
      "Epoch 3, Time: 54.12646698951721, Loss: 0.23963421701129947\n",
      "Epoch 4, Time: 54.17603087425232, Loss: 0.21310391610285748\n",
      "Epoch 5, Time: 54.254396200180054, Loss: 0.1905963975213357\n",
      "Epoch 6, Time: 54.08118200302124, Loss: 0.17043190766403923\n",
      "Epoch 7, Time: 54.115675926208496, Loss: 0.15556294434686016\n",
      "Epoch 8, Time: 54.12574505805969, Loss: 0.1431041172644032\n",
      "Epoch 9, Time: 54.02013278007507, Loss: 0.1336878972834965\n",
      "Epoch 10, Time: 55.64913821220398, Loss: 0.12291624552326035\n",
      "\n",
      " Average epoch time: 54.51218750476837\n",
      "Accuracy on test set: 94.61%\n"
     ]
    },
    {
     "data": {
      "text/plain": [
       "94.61"
      ]
     },
     "execution_count": 26,
     "metadata": {},
     "output_type": "execute_result"
    }
   ],
   "source": [
    "# MNIST results \n",
    "conv2d_nn_9.to('mps')\n",
    "\n",
    "criterion = nn.CrossEntropyLoss()\n",
    "optimizer = optim.Adam(conv2d_nn_9.parameters(), lr=0.001)\n",
    "num_epochs = 10 \n",
    "train_model(conv2d_nn_9, mnist.train_loader, criterion, optimizer, num_epochs)\n",
    "evaluate_accuracy(conv2d_nn_9, mnist.test_loader)"
   ]
  },
  {
   "cell_type": "code",
   "execution_count": null,
   "metadata": {},
   "outputs": [],
   "source": []
  },
  {
   "cell_type": "code",
   "execution_count": 14,
   "metadata": {},
   "outputs": [
    {
     "name": "stdout",
     "output_type": "stream",
     "text": [
      "Epoch 1, Time: 47.366111040115356, Loss: 0.48844724127859956\n",
      "Epoch 2, Time: 47.13085627555847, Loss: 0.3784566232835306\n",
      "Epoch 3, Time: 47.235535860061646, Loss: 0.34095393264217416\n",
      "Epoch 4, Time: 47.17231512069702, Loss: 0.31857303404477616\n",
      "Epoch 5, Time: 47.10814905166626, Loss: 0.30186824553779196\n",
      "Epoch 6, Time: 47.193594217300415, Loss: 0.28676850617186095\n",
      "Epoch 7, Time: 47.11716985702515, Loss: 0.2701285984168556\n",
      "Epoch 8, Time: 47.147757053375244, Loss: 0.257220869498657\n",
      "Epoch 9, Time: 47.27685308456421, Loss: 0.24703305021230218\n",
      "Epoch 10, Time: 47.242358922958374, Loss: 0.23240337233299385\n",
      "\n",
      " Average epoch time: 47.19907004833222\n",
      "Accuracy on test set: 87.12%\n"
     ]
    },
    {
     "data": {
      "text/plain": [
       "87.12"
      ]
     },
     "execution_count": 14,
     "metadata": {},
     "output_type": "execute_result"
    }
   ],
   "source": [
    "# Fashion MNIST results\n",
    "conv2d_nn_9.apply(lambda m: m.reset_parameters() if hasattr(m, 'reset_parameters') else None)\n",
    "\n",
    "criterion = nn.CrossEntropyLoss()\n",
    "optimizer = optim.Adam(conv2d_nn_9.parameters(), lr=0.001)\n",
    "num_epochs = 10 \n",
    "train_model(conv2d_nn_9, fashionmnist.train_loader, criterion, optimizer, num_epochs)\n",
    "evaluate_accuracy(conv2d_nn_9, fashionmnist.test_loader)"
   ]
  },
  {
   "cell_type": "markdown",
   "metadata": {},
   "source": [
    "## II. CIFAR Test"
   ]
  },
  {
   "cell_type": "code",
   "execution_count": 15,
   "metadata": {},
   "outputs": [
    {
     "name": "stdout",
     "output_type": "stream",
     "text": [
      "----------------------------------------------------------------\n",
      "        Layer (type)               Output Shape         Param #\n",
      "================================================================\n",
      "           Flatten-1              [-1, 12, 256]               0\n",
      "            Conv1d-2              [-1, 20, 256]             740\n",
      "              ReLU-3              [-1, 20, 256]               0\n",
      "         Conv1d_NN-4              [-1, 20, 256]               0\n",
      "         Conv2d_NN-5            [-1, 5, 32, 32]               0\n",
      "           Flatten-6              [-1, 20, 256]               0\n",
      "            Conv1d-7              [-1, 40, 256]           2,440\n",
      "              ReLU-8              [-1, 40, 256]               0\n",
      "         Conv1d_NN-9              [-1, 40, 256]               0\n",
      "        Conv2d_NN-10           [-1, 10, 32, 32]               0\n",
      "          Flatten-11              [-1, 40, 256]               0\n",
      "           Conv1d-12              [-1, 80, 256]           9,680\n",
      "             ReLU-13              [-1, 80, 256]               0\n",
      "        Conv1d_NN-14              [-1, 80, 256]               0\n",
      "        Conv2d_NN-15           [-1, 20, 32, 32]               0\n",
      "          Flatten-16                [-1, 20480]               0\n",
      "           Linear-17                   [-1, 10]         204,810\n",
      "================================================================\n",
      "Total params: 217,670\n",
      "Trainable params: 217,670\n",
      "Non-trainable params: 0\n",
      "----------------------------------------------------------------\n",
      "Input size (MB): 0.01\n",
      "Forward/backward pass size (MB): 1.39\n",
      "Params size (MB): 0.83\n",
      "Estimated Total Size (MB): 2.23\n",
      "----------------------------------------------------------------\n"
     ]
    }
   ],
   "source": [
    "# Model K = 3\n",
    "conv2d_nn_3 = nn.Sequential(\n",
    "   Conv2d_NN(\n",
    "      in_channels=3,\n",
    "      out_channels=5,\n",
    "      K=3,\n",
    "      stride=3,\n",
    "      padding=0,\n",
    "      shuffle_scale=2\n",
    "   ), \n",
    "   Conv2d_NN(\n",
    "      in_channels=5,\n",
    "      out_channels=10,\n",
    "      K=3,\n",
    "      stride=3,\n",
    "      padding=0,\n",
    "      shuffle_scale=2\n",
    "   ),\n",
    "   Conv2d_NN(\n",
    "      in_channels=10,\n",
    "      out_channels=20,\n",
    "      K=3,\n",
    "      stride=3,\n",
    "      padding=0,\n",
    "      shuffle_scale=2\n",
    "   ),\n",
    "   nn.Flatten(), \n",
    "   nn.Linear(20480, 10)\n",
    "   \n",
    ").to('cpu')\n",
    "   \n",
    "\n",
    "from torchsummary import summary\n",
    "summary(conv2d_nn_3, (3, 32, 32))"
   ]
  },
  {
   "cell_type": "code",
   "execution_count": 16,
   "metadata": {},
   "outputs": [
    {
     "name": "stdout",
     "output_type": "stream",
     "text": [
      "Epoch 1, Time: 37.115403175354004, Loss: 1.4528819757044469\n",
      "Epoch 2, Time: 36.56245493888855, Loss: 1.153989863212761\n",
      "Epoch 3, Time: 39.479387044906616, Loss: 1.013659304974939\n",
      "Epoch 4, Time: 39.248059034347534, Loss: 0.9008192344928336\n",
      "Epoch 5, Time: 39.257755279541016, Loss: 0.8007352685608218\n",
      "Epoch 6, Time: 39.2049081325531, Loss: 0.7054281582689041\n",
      "Epoch 7, Time: 39.86143732070923, Loss: 0.6210319713672714\n",
      "Epoch 8, Time: 39.19889497756958, Loss: 0.5419789944463373\n",
      "Epoch 9, Time: 39.51474094390869, Loss: 0.4702032761043295\n",
      "Epoch 10, Time: 39.40202713012695, Loss: 0.408198574734161\n",
      "\n",
      " Average epoch time: 38.88450679779053\n",
      "Accuracy on test set: 54.98%\n"
     ]
    },
    {
     "data": {
      "text/plain": [
       "54.98"
      ]
     },
     "execution_count": 16,
     "metadata": {},
     "output_type": "execute_result"
    }
   ],
   "source": [
    "# CIFAR10 results \n",
    "conv2d_nn_3.to('mps')\n",
    "\n",
    "criterion = nn.CrossEntropyLoss()\n",
    "optimizer = optim.Adam(conv2d_nn_3.parameters(), lr=0.001)\n",
    "num_epochs = 10 \n",
    "train_model(conv2d_nn_3, cifar10.train_loader, criterion, optimizer, num_epochs)\n",
    "evaluate_accuracy(conv2d_nn_3, cifar10.test_loader)\n"
   ]
  },
  {
   "cell_type": "code",
   "execution_count": 17,
   "metadata": {},
   "outputs": [
    {
     "name": "stdout",
     "output_type": "stream",
     "text": [
      "----------------------------------------------------------------\n",
      "        Layer (type)               Output Shape         Param #\n",
      "================================================================\n",
      "           Flatten-1              [-1, 12, 256]               0\n",
      "            Conv1d-2              [-1, 20, 256]           1,220\n",
      "              ReLU-3              [-1, 20, 256]               0\n",
      "         Conv1d_NN-4              [-1, 20, 256]               0\n",
      "         Conv2d_NN-5            [-1, 5, 32, 32]               0\n",
      "           Flatten-6              [-1, 20, 256]               0\n",
      "            Conv1d-7              [-1, 40, 256]           4,040\n",
      "              ReLU-8              [-1, 40, 256]               0\n",
      "         Conv1d_NN-9              [-1, 40, 256]               0\n",
      "        Conv2d_NN-10           [-1, 10, 32, 32]               0\n",
      "          Flatten-11              [-1, 40, 256]               0\n",
      "           Conv1d-12              [-1, 80, 256]          16,080\n",
      "             ReLU-13              [-1, 80, 256]               0\n",
      "        Conv1d_NN-14              [-1, 80, 256]               0\n",
      "        Conv2d_NN-15           [-1, 20, 32, 32]               0\n",
      "          Flatten-16                [-1, 20480]               0\n",
      "           Linear-17                   [-1, 10]         204,810\n",
      "================================================================\n",
      "Total params: 226,150\n",
      "Trainable params: 226,150\n",
      "Non-trainable params: 0\n",
      "----------------------------------------------------------------\n",
      "Input size (MB): 0.01\n",
      "Forward/backward pass size (MB): 1.39\n",
      "Params size (MB): 0.86\n",
      "Estimated Total Size (MB): 2.27\n",
      "----------------------------------------------------------------\n"
     ]
    }
   ],
   "source": [
    "# Model K = 5\n",
    "conv2d_nn_5 = nn.Sequential(\n",
    "   Conv2d_NN(\n",
    "      in_channels=3,\n",
    "      out_channels=5,\n",
    "      K=5,\n",
    "      stride=5,\n",
    "      padding=0,\n",
    "      shuffle_scale=2\n",
    "   ), \n",
    "   Conv2d_NN(\n",
    "      in_channels=5,\n",
    "      out_channels=10,\n",
    "      K=5,\n",
    "      stride=5,\n",
    "      padding=0,\n",
    "      shuffle_scale=2\n",
    "   ),\n",
    "   Conv2d_NN(\n",
    "      in_channels=10,\n",
    "      out_channels=20,\n",
    "      K=5,\n",
    "      stride=5,\n",
    "      padding=0,\n",
    "      shuffle_scale=2\n",
    "   ),\n",
    "   nn.Flatten(), \n",
    "   nn.Linear(20480, 10)\n",
    "   \n",
    ").to('cpu')\n",
    "   \n",
    "\n",
    "from torchsummary import summary\n",
    "summary(conv2d_nn_5, (3, 32, 32))"
   ]
  },
  {
   "cell_type": "code",
   "execution_count": 18,
   "metadata": {},
   "outputs": [
    {
     "name": "stdout",
     "output_type": "stream",
     "text": [
      "Epoch 1, Time: 40.22157001495361, Loss: 1.4766625893847716\n",
      "Epoch 2, Time: 39.108527183532715, Loss: 1.1910287543483402\n",
      "Epoch 3, Time: 39.09391403198242, Loss: 1.0622939713623212\n",
      "Epoch 4, Time: 39.1548490524292, Loss: 0.9481413417002734\n",
      "Epoch 5, Time: 39.223586082458496, Loss: 0.8532169157129419\n",
      "Epoch 6, Time: 39.15462565422058, Loss: 0.7613887971319506\n",
      "Epoch 7, Time: 39.14877390861511, Loss: 0.6809743040281794\n",
      "Epoch 8, Time: 39.32047724723816, Loss: 0.6042535290160143\n",
      "Epoch 9, Time: 39.1641001701355, Loss: 0.5349099812528971\n",
      "Epoch 10, Time: 39.11915588378906, Loss: 0.48652432304437815\n",
      "\n",
      " Average epoch time: 39.27095792293549\n",
      "Accuracy on test set: 53.83%\n"
     ]
    },
    {
     "data": {
      "text/plain": [
       "53.83"
      ]
     },
     "execution_count": 18,
     "metadata": {},
     "output_type": "execute_result"
    }
   ],
   "source": [
    "# CIFAR10 results \n",
    "conv2d_nn_5.to('mps')\n",
    "\n",
    "criterion = nn.CrossEntropyLoss()\n",
    "optimizer = optim.Adam(conv2d_nn_5.parameters(), lr=0.001)\n",
    "num_epochs = 10 \n",
    "train_model(conv2d_nn_5, cifar10.train_loader, criterion, optimizer, num_epochs)\n",
    "evaluate_accuracy(conv2d_nn_5, cifar10.test_loader)\n"
   ]
  },
  {
   "cell_type": "code",
   "execution_count": 19,
   "metadata": {},
   "outputs": [
    {
     "name": "stdout",
     "output_type": "stream",
     "text": [
      "----------------------------------------------------------------\n",
      "        Layer (type)               Output Shape         Param #\n",
      "================================================================\n",
      "           Flatten-1              [-1, 12, 256]               0\n",
      "            Conv1d-2              [-1, 20, 256]           1,700\n",
      "              ReLU-3              [-1, 20, 256]               0\n",
      "         Conv1d_NN-4              [-1, 20, 256]               0\n",
      "         Conv2d_NN-5            [-1, 5, 32, 32]               0\n",
      "           Flatten-6              [-1, 20, 256]               0\n",
      "            Conv1d-7              [-1, 40, 256]           5,640\n",
      "              ReLU-8              [-1, 40, 256]               0\n",
      "         Conv1d_NN-9              [-1, 40, 256]               0\n",
      "        Conv2d_NN-10           [-1, 10, 32, 32]               0\n",
      "          Flatten-11              [-1, 40, 256]               0\n",
      "           Conv1d-12              [-1, 80, 256]          22,480\n",
      "             ReLU-13              [-1, 80, 256]               0\n",
      "        Conv1d_NN-14              [-1, 80, 256]               0\n",
      "        Conv2d_NN-15           [-1, 20, 32, 32]               0\n",
      "          Flatten-16                [-1, 20480]               0\n",
      "           Linear-17                   [-1, 10]         204,810\n",
      "================================================================\n",
      "Total params: 234,630\n",
      "Trainable params: 234,630\n",
      "Non-trainable params: 0\n",
      "----------------------------------------------------------------\n",
      "Input size (MB): 0.01\n",
      "Forward/backward pass size (MB): 1.39\n",
      "Params size (MB): 0.90\n",
      "Estimated Total Size (MB): 2.30\n",
      "----------------------------------------------------------------\n"
     ]
    }
   ],
   "source": [
    "# Model K = 7\n",
    "conv2d_nn_7 = nn.Sequential(\n",
    "   Conv2d_NN(\n",
    "      in_channels=3,\n",
    "      out_channels=5,\n",
    "      K=7,\n",
    "      stride=7,\n",
    "      padding=0,\n",
    "      shuffle_scale=2\n",
    "   ), \n",
    "   Conv2d_NN(\n",
    "      in_channels=5,\n",
    "      out_channels=10,\n",
    "      K=7,\n",
    "      stride=7,\n",
    "      padding=0,\n",
    "      shuffle_scale=2\n",
    "   ),\n",
    "   Conv2d_NN(\n",
    "      in_channels=10,\n",
    "      out_channels=20,\n",
    "      K=7,\n",
    "      stride=7,\n",
    "      padding=0,\n",
    "      shuffle_scale=2\n",
    "   ),\n",
    "   nn.Flatten(), \n",
    "   nn.Linear(20480, 10)\n",
    "   \n",
    ").to('cpu')\n",
    "   \n",
    "\n",
    "from torchsummary import summary\n",
    "summary(conv2d_nn_7, (3, 32, 32))"
   ]
  },
  {
   "cell_type": "code",
   "execution_count": 20,
   "metadata": {},
   "outputs": [
    {
     "name": "stdout",
     "output_type": "stream",
     "text": [
      "Epoch 1, Time: 42.17409110069275, Loss: 1.5237627376985672\n",
      "Epoch 2, Time: 41.5071496963501, Loss: 1.2523631431410074\n",
      "Epoch 3, Time: 41.4782989025116, Loss: 1.1334932309282406\n",
      "Epoch 4, Time: 41.50648808479309, Loss: 1.0313362185759922\n",
      "Epoch 5, Time: 41.66964817047119, Loss: 0.9499446487487735\n",
      "Epoch 6, Time: 41.445188999176025, Loss: 0.8664026476842973\n",
      "Epoch 7, Time: 41.37710094451904, Loss: 0.798645005430407\n",
      "Epoch 8, Time: 41.14787793159485, Loss: 0.7284174597705416\n",
      "Epoch 9, Time: 41.18376898765564, Loss: 0.6677013165353204\n",
      "Epoch 10, Time: 41.205881118774414, Loss: 0.6138661499980771\n",
      "\n",
      " Average epoch time: 41.46954939365387\n",
      "Accuracy on test set: 54.05%\n"
     ]
    },
    {
     "data": {
      "text/plain": [
       "54.05"
      ]
     },
     "execution_count": 20,
     "metadata": {},
     "output_type": "execute_result"
    }
   ],
   "source": [
    "# CIFAR10 results \n",
    "conv2d_nn_7.to('mps')\n",
    "\n",
    "criterion = nn.CrossEntropyLoss()\n",
    "optimizer = optim.Adam(conv2d_nn_7.parameters(), lr=0.001)\n",
    "num_epochs = 10 \n",
    "train_model(conv2d_nn_7, cifar10.train_loader, criterion, optimizer, num_epochs)\n",
    "evaluate_accuracy(conv2d_nn_7, cifar10.test_loader)\n"
   ]
  },
  {
   "cell_type": "code",
   "execution_count": 21,
   "metadata": {},
   "outputs": [
    {
     "name": "stdout",
     "output_type": "stream",
     "text": [
      "----------------------------------------------------------------\n",
      "        Layer (type)               Output Shape         Param #\n",
      "================================================================\n",
      "           Flatten-1              [-1, 12, 256]               0\n",
      "            Conv1d-2              [-1, 20, 256]           2,180\n",
      "              ReLU-3              [-1, 20, 256]               0\n",
      "         Conv1d_NN-4              [-1, 20, 256]               0\n",
      "         Conv2d_NN-5            [-1, 5, 32, 32]               0\n",
      "           Flatten-6              [-1, 20, 256]               0\n",
      "            Conv1d-7              [-1, 40, 256]           7,240\n",
      "              ReLU-8              [-1, 40, 256]               0\n",
      "         Conv1d_NN-9              [-1, 40, 256]               0\n",
      "        Conv2d_NN-10           [-1, 10, 32, 32]               0\n",
      "          Flatten-11              [-1, 40, 256]               0\n",
      "           Conv1d-12              [-1, 80, 256]          28,880\n",
      "             ReLU-13              [-1, 80, 256]               0\n",
      "        Conv1d_NN-14              [-1, 80, 256]               0\n",
      "        Conv2d_NN-15           [-1, 20, 32, 32]               0\n",
      "          Flatten-16                [-1, 20480]               0\n",
      "           Linear-17                   [-1, 10]         204,810\n",
      "================================================================\n",
      "Total params: 243,110\n",
      "Trainable params: 243,110\n",
      "Non-trainable params: 0\n",
      "----------------------------------------------------------------\n",
      "Input size (MB): 0.01\n",
      "Forward/backward pass size (MB): 1.39\n",
      "Params size (MB): 0.93\n",
      "Estimated Total Size (MB): 2.33\n",
      "----------------------------------------------------------------\n"
     ]
    }
   ],
   "source": [
    "# Model K = 9\n",
    "conv2d_nn_9 = nn.Sequential(\n",
    "   Conv2d_NN(\n",
    "      in_channels=3,\n",
    "      out_channels=5,\n",
    "      K=9,\n",
    "      stride=9,\n",
    "      padding=0,\n",
    "      shuffle_scale=2\n",
    "   ), \n",
    "   Conv2d_NN(\n",
    "      in_channels=5,\n",
    "      out_channels=10,\n",
    "      K=9,\n",
    "      stride=9,\n",
    "      padding=0,\n",
    "      shuffle_scale=2\n",
    "   ),\n",
    "   Conv2d_NN(\n",
    "      in_channels=10,\n",
    "      out_channels=20,\n",
    "      K=9,\n",
    "      stride=9,\n",
    "      padding=0,\n",
    "      shuffle_scale=2\n",
    "   ),\n",
    "   nn.Flatten(), \n",
    "   nn.Linear(20480, 10)\n",
    "   \n",
    ").to('cpu')\n",
    "   \n",
    "\n",
    "from torchsummary import summary\n",
    "summary(conv2d_nn_9, (3, 32, 32))"
   ]
  },
  {
   "cell_type": "code",
   "execution_count": 22,
   "metadata": {},
   "outputs": [
    {
     "name": "stdout",
     "output_type": "stream",
     "text": [
      "Epoch 1, Time: 45.72601795196533, Loss: 1.5697970762277198\n",
      "Epoch 2, Time: 45.66117191314697, Loss: 1.2930565661634021\n",
      "Epoch 3, Time: 45.557143688201904, Loss: 1.170089383564337\n",
      "Epoch 4, Time: 79.83968114852905, Loss: 1.076210382268252\n",
      "Epoch 5, Time: 115.28078603744507, Loss: 0.9920711728465527\n",
      "Epoch 6, Time: 168.64127492904663, Loss: 0.9166686998303893\n",
      "Epoch 7, Time: 302.93534779548645, Loss: 0.8432638091428201\n",
      "Epoch 8, Time: 73.14140677452087, Loss: 0.7819110014859367\n",
      "Epoch 9, Time: 48.44600200653076, Loss: 0.7169774077127656\n",
      "Epoch 10, Time: 46.01000189781189, Loss: 0.6723613999688717\n",
      "\n",
      " Average epoch time: 97.12388341426849\n",
      "Accuracy on test set: 54.16%\n"
     ]
    },
    {
     "data": {
      "text/plain": [
       "54.16"
      ]
     },
     "execution_count": 22,
     "metadata": {},
     "output_type": "execute_result"
    }
   ],
   "source": [
    "# CIFAR10 results \n",
    "conv2d_nn_9.to('mps')\n",
    "\n",
    "criterion = nn.CrossEntropyLoss()\n",
    "optimizer = optim.Adam(conv2d_nn_9.parameters(), lr=0.001)\n",
    "num_epochs = 10 \n",
    "train_model(conv2d_nn_9, cifar10.train_loader, criterion, optimizer, num_epochs)\n",
    "evaluate_accuracy(conv2d_nn_9, cifar10.test_loader)\n"
   ]
  }
 ],
 "metadata": {
  "kernelspec": {
   "display_name": "MK",
   "language": "python",
   "name": "python3"
  },
  "language_info": {
   "codemirror_mode": {
    "name": "ipython",
    "version": 3
   },
   "file_extension": ".py",
   "mimetype": "text/x-python",
   "name": "python",
   "nbconvert_exporter": "python",
   "pygments_lexer": "ipython3",
   "version": "3.12.0"
  }
 },
 "nbformat": 4,
 "nbformat_minor": 2
}
