{
 "cells": [
  {
   "cell_type": "markdown",
   "metadata": {},
   "source": [
    "# ConvNN Attention Test \n",
    "## I. 2D Training for testing with CIFAR10 Dataset"
   ]
  },
  {
   "cell_type": "code",
   "execution_count": 1,
   "metadata": {},
   "outputs": [],
   "source": [
    "# Torch\n",
    "import torch \n",
    "import torch.nn as nn\n",
    "import torch.nn.functional as F\n",
    "from torch import optim \n",
    "\n",
    "\n",
    "# Train + Data \n",
    "import sys \n",
    "sys.path.append('../Layers')\n",
    "from Conv1d_NN_spatial import * \n",
    "from Conv2d_NN_spatial import * \n",
    "\n",
    "sys.path.append('../Data')\n",
    "from CIFAR10 import * \n",
    "\n",
    "\n",
    "sys.path.append('../Models')\n",
    "from classification_models import *\n",
    "\n",
    "sys.path.append('../Train')\n",
    "from train2d import * \n"
   ]
  },
  {
   "cell_type": "code",
   "execution_count": 2,
   "metadata": {},
   "outputs": [
    {
     "name": "stdout",
     "output_type": "stream",
     "text": [
      "Files already downloaded and verified\n",
      "Files already downloaded and verified\n"
     ]
    }
   ],
   "source": [
    "cifar10 = CIFAR10()"
   ]
  },
  {
   "cell_type": "markdown",
   "metadata": {},
   "source": [
    "### Single Layer Models"
   ]
  },
  {
   "cell_type": "code",
   "execution_count": 3,
   "metadata": {},
   "outputs": [
    {
     "name": "stdout",
     "output_type": "stream",
     "text": [
      "Model: CNN\n",
      "Epoch 1, Time: 12.370973825454712, Loss: 1.3518008787918578\n",
      "Epoch 1, Accuracy: 62.9%\n",
      "Epoch 2, Time: 12.179134607315063, Loss: 0.8084584876247074\n",
      "Epoch 2, Accuracy: 67.09%\n",
      "Epoch 3, Time: 12.175642728805542, Loss: 0.41847830738329217\n",
      "Epoch 3, Accuracy: 66.41%\n",
      "Epoch 4, Time: 12.165908575057983, Loss: 0.12148881072650099\n",
      "Epoch 4, Accuracy: 66.25%\n",
      "Epoch 5, Time: 12.120140552520752, Loss: 0.05799662564878764\n",
      "Epoch 5, Accuracy: 65.29%\n",
      "Epoch 6, Time: 12.105722665786743, Loss: 0.04750061593949795\n",
      "Epoch 6, Accuracy: 64.87%\n",
      "Epoch 7, Time: 12.070972442626953, Loss: 0.045583036550305205\n",
      "Epoch 7, Accuracy: 63.84%\n",
      "Epoch 8, Time: 12.10863447189331, Loss: 0.0309548518556269\n",
      "Epoch 8, Accuracy: 65.2%\n",
      "Epoch 9, Time: 12.118213176727295, Loss: 0.04521479025852921\n",
      "Epoch 9, Accuracy: 63.54%\n",
      "Epoch 10, Time: 12.05998969078064, Loss: 0.03496858625247886\n",
      "Epoch 10, Accuracy: 63.27%\n",
      "\n",
      " Average epoch time: 12.147533273696899\n",
      "Accuracy on test set: 63.27%\n"
     ]
    },
    {
     "data": {
      "text/plain": [
       "63.27"
      ]
     },
     "execution_count": 3,
     "metadata": {},
     "output_type": "execute_result"
    }
   ],
   "source": [
    "# CNN\n",
    "CNN_1 = CNN(device='cuda')\n",
    "\n",
    "print(\"Model: \" + CNN_1.name)\n",
    "\n",
    "# Test + Eval\n",
    "criterion = nn.CrossEntropyLoss()\n",
    "optimizer = optim.Adam(CNN_1.parameters(), lr=0.001)\n",
    "num_epochs = 10 \n",
    "train_eval(CNN_1, cifar10.train_loader, cifar10.test_loader, criterion, optimizer, num_epochs, device='cuda')\n",
    "evaluate_accuracy(CNN_1, cifar10.test_loader, device='cuda')\n"
   ]
  },
  {
   "cell_type": "code",
   "execution_count": 4,
   "metadata": {},
   "outputs": [
    {
     "name": "stdout",
     "output_type": "stream",
     "text": [
      "Model: ConvNN_2D_K_All\n",
      "Epoch 1, Time: 16.284356355667114, Loss: 1.4828627534077297\n",
      "Epoch 1, Accuracy: 54.23%\n",
      "Epoch 2, Time: 14.980011940002441, Loss: 1.1199038881627494\n",
      "Epoch 2, Accuracy: 55.2%\n",
      "Epoch 3, Time: 14.97556757926941, Loss: 0.8705089694017645\n",
      "Epoch 3, Accuracy: 58.54%\n",
      "Epoch 4, Time: 15.05845594406128, Loss: 0.6170239996955827\n",
      "Epoch 4, Accuracy: 57.95%\n",
      "Epoch 5, Time: 15.059557914733887, Loss: 0.3817662401577396\n",
      "Epoch 5, Accuracy: 57.7%\n",
      "Epoch 6, Time: 15.01530933380127, Loss: 0.26127445979563096\n",
      "Epoch 6, Accuracy: 57.52%\n",
      "Epoch 7, Time: 14.965698719024658, Loss: 0.1836643879280409\n",
      "Epoch 7, Accuracy: 57.0%\n",
      "Epoch 8, Time: 14.95958137512207, Loss: 0.15992858261703644\n",
      "Epoch 8, Accuracy: 55.25%\n",
      "Epoch 9, Time: 14.971027374267578, Loss: 0.143518294650785\n",
      "Epoch 9, Accuracy: 56.67%\n",
      "Epoch 10, Time: 14.96366286277771, Loss: 0.11865097648688042\n",
      "Epoch 10, Accuracy: 55.68%\n",
      "\n",
      " Average epoch time: 15.123322939872741\n",
      "Accuracy on test set: 55.68%\n"
     ]
    },
    {
     "data": {
      "text/plain": [
       "55.68"
      ]
     },
     "execution_count": 4,
     "metadata": {},
     "output_type": "execute_result"
    }
   ],
   "source": [
    "convNN_2d_k_all = ConvNN_2D_K_All(device='cuda')\n",
    "\n",
    "print(\"Model: \" + convNN_2d_k_all.name)\n",
    "# Test + Eval\n",
    "criterion = nn.CrossEntropyLoss()\n",
    "optimizer = optim.Adam(convNN_2d_k_all.parameters(), lr=0.001)\n",
    "num_epochs = 10 \n",
    "train_eval(convNN_2d_k_all, cifar10.train_loader, cifar10.test_loader, criterion, optimizer, device='cuda')\n",
    "evaluate_accuracy(convNN_2d_k_all, cifar10.test_loader, device='cuda')\n",
    "\n"
   ]
  },
  {
   "cell_type": "code",
   "execution_count": 5,
   "metadata": {},
   "outputs": [
    {
     "name": "stdout",
     "output_type": "stream",
     "text": [
      "Model: ConvNN_2D_K_N\n",
      "Epoch 1, Time: 15.51770281791687, Loss: 1.667339364281091\n",
      "Epoch 1, Accuracy: 44.32%\n",
      "Epoch 2, Time: 15.442823648452759, Loss: 1.3539128561154046\n",
      "Epoch 2, Accuracy: 54.4%\n",
      "Epoch 3, Time: 15.459985971450806, Loss: 1.1657193788634541\n",
      "Epoch 3, Accuracy: 55.73%\n",
      "Epoch 4, Time: 15.395034790039062, Loss: 1.0108573473323033\n",
      "Epoch 4, Accuracy: 57.66%\n",
      "Epoch 5, Time: 15.371751308441162, Loss: 0.8542659399302109\n",
      "Epoch 5, Accuracy: 57.76%\n",
      "Epoch 6, Time: 15.3002188205719, Loss: 0.6867679756544435\n",
      "Epoch 6, Accuracy: 58.13%\n",
      "Epoch 7, Time: 15.347091913223267, Loss: 0.5243610102121178\n",
      "Epoch 7, Accuracy: 58.1%\n",
      "Epoch 8, Time: 15.396922826766968, Loss: 0.39021873519853556\n",
      "Epoch 8, Accuracy: 56.39%\n",
      "Epoch 9, Time: 15.34520435333252, Loss: 0.28116611179793277\n",
      "Epoch 9, Accuracy: 58.02%\n",
      "Epoch 10, Time: 15.350975751876831, Loss: 0.227079116093838\n",
      "Epoch 10, Accuracy: 56.57%\n",
      "\n",
      " Average epoch time: 15.392771220207214\n",
      "Accuracy on test set: 56.62%\n"
     ]
    },
    {
     "data": {
      "text/plain": [
       "56.62"
      ]
     },
     "execution_count": 5,
     "metadata": {},
     "output_type": "execute_result"
    }
   ],
   "source": [
    "convNN_2d_k_n = ConvNN_2D_K_N(device='cuda')\n",
    "\n",
    "print(\"Model: \" + convNN_2d_k_n.name)\n",
    "# Test + Eval\n",
    "criterion = nn.CrossEntropyLoss()\n",
    "optimizer = optim.Adam(convNN_2d_k_n.parameters(), lr=0.001)\n",
    "num_epochs = 10 \n",
    "train_eval(convNN_2d_k_n, cifar10.train_loader, cifar10.test_loader, criterion, optimizer, num_epochs, device='cuda')\n",
    "evaluate_accuracy(convNN_2d_k_n, cifar10.test_loader, device='cuda')\n",
    "\n"
   ]
  },
  {
   "cell_type": "code",
   "execution_count": 6,
   "metadata": {},
   "outputs": [
    {
     "name": "stdout",
     "output_type": "stream",
     "text": [
      "Model: ConvNN_2D_Spatial_K_N\n",
      "Epoch 1, Time: 15.578231573104858, Loss: 1.6768899797783483\n",
      "Epoch 1, Accuracy: 46.43%\n",
      "Epoch 2, Time: 15.607151508331299, Loss: 1.357248650334985\n",
      "Epoch 2, Accuracy: 53.93%\n",
      "Epoch 3, Time: 15.616405248641968, Loss: 1.1926447216354672\n",
      "Epoch 3, Accuracy: 54.24%\n",
      "Epoch 4, Time: 15.56921124458313, Loss: 1.0322512850889465\n",
      "Epoch 4, Accuracy: 54.95%\n",
      "Epoch 5, Time: 15.647003650665283, Loss: 0.8643537656120632\n",
      "Epoch 5, Accuracy: 54.4%\n",
      "Epoch 6, Time: 15.594107627868652, Loss: 0.6933575232544213\n",
      "Epoch 6, Accuracy: 56.27%\n",
      "Epoch 7, Time: 15.593449831008911, Loss: 0.519225827225334\n",
      "Epoch 7, Accuracy: 55.23%\n",
      "Epoch 8, Time: 15.626158952713013, Loss: 0.36790147588571626\n",
      "Epoch 8, Accuracy: 54.57%\n",
      "Epoch 9, Time: 15.593202829360962, Loss: 0.27774961341334425\n",
      "Epoch 9, Accuracy: 54.12%\n",
      "Epoch 10, Time: 15.577966928482056, Loss: 0.22266650366146698\n",
      "Epoch 10, Accuracy: 53.48%\n",
      "\n",
      " Average epoch time: 15.600288939476012\n",
      "Accuracy on test set: 53.48%\n"
     ]
    },
    {
     "data": {
      "text/plain": [
       "53.48"
      ]
     },
     "execution_count": 6,
     "metadata": {},
     "output_type": "execute_result"
    }
   ],
   "source": [
    "convNN_2d_spatial_k_n = ConvNN_2D_Spatial_K_N(device='cuda')\n",
    "\n",
    "print(\"Model: \" + convNN_2d_spatial_k_n.name)\n",
    "# Test + Eval\n",
    "criterion = nn.CrossEntropyLoss()\n",
    "optimizer = optim.Adam(convNN_2d_spatial_k_n.parameters(), lr=0.001)\n",
    "num_epochs = 10 \n",
    "train_eval(convNN_2d_spatial_k_n, cifar10.train_loader, cifar10.test_loader, criterion, optimizer, num_epochs, device='cuda')\n",
    "evaluate_accuracy(convNN_2d_spatial_k_n, cifar10.test_loader, device='cuda')\n",
    "\n"
   ]
  },
  {
   "cell_type": "code",
   "execution_count": 3,
   "metadata": {},
   "outputs": [
    {
     "name": "stdout",
     "output_type": "stream",
     "text": [
      "Model: ConvNN_2D_Attn_K_All\n",
      "Epoch 1, Time: 14.865011215209961, Loss: 2.079485767027911\n",
      "Epoch 1, Accuracy: 27.04%\n",
      "Epoch 2, Time: 14.508564710617065, Loss: 1.827513359239339\n",
      "Epoch 2, Accuracy: 32.18%\n",
      "Epoch 3, Time: 14.574471950531006, Loss: 1.7123282548716612\n",
      "Epoch 3, Accuracy: 34.94%\n",
      "Epoch 4, Time: 14.536806583404541, Loss: 1.607627724899965\n",
      "Epoch 4, Accuracy: 36.63%\n",
      "Epoch 5, Time: 14.450387954711914, Loss: 1.5249173421689006\n",
      "Epoch 5, Accuracy: 39.26%\n",
      "Epoch 6, Time: 14.466609954833984, Loss: 1.4570689271478092\n",
      "Epoch 6, Accuracy: 37.92%\n",
      "Epoch 7, Time: 14.458853960037231, Loss: 1.4632137454379246\n",
      "Epoch 7, Accuracy: 39.81%\n",
      "Epoch 8, Time: 14.493079900741577, Loss: 1.3365045764562113\n",
      "Epoch 8, Accuracy: 38.42%\n",
      "Epoch 9, Time: 14.42318058013916, Loss: 1.2767694898121191\n",
      "Epoch 9, Accuracy: 39.1%\n",
      "Epoch 10, Time: 14.438941240310669, Loss: 1.2262159383205502\n",
      "Epoch 10, Accuracy: 37.93%\n",
      "\n",
      " Average epoch time: 14.52159080505371\n",
      "Accuracy on test set: 37.93%\n"
     ]
    },
    {
     "data": {
      "text/plain": [
       "37.93"
      ]
     },
     "execution_count": 3,
     "metadata": {},
     "output_type": "execute_result"
    }
   ],
   "source": [
    "convNN_2d_attn_k_all = ConvNN_2D_Attn_K_All(device='cuda')\n",
    "\n",
    "print(\"Model: \" + convNN_2d_attn_k_all.name)\n",
    "# Test + Eval\n",
    "criterion = nn.CrossEntropyLoss()\n",
    "optimizer = optim.Adam(convNN_2d_attn_k_all.parameters(), lr=0.001)\n",
    "num_epochs = 10 \n",
    "train_eval(convNN_2d_attn_k_all, cifar10.train_loader, cifar10.test_loader, criterion, optimizer, num_epochs, device='cuda')\n",
    "evaluate_accuracy(convNN_2d_attn_k_all, cifar10.test_loader, device='cuda')\n",
    "\n"
   ]
  },
  {
   "cell_type": "code",
   "execution_count": 4,
   "metadata": {},
   "outputs": [
    {
     "name": "stdout",
     "output_type": "stream",
     "text": [
      "Model: ConvNN_2D_Attn_K_N\n",
      "Epoch 1, Time: 14.365931987762451, Loss: 1.731770055525748\n",
      "Epoch 1, Accuracy: 48.1%\n",
      "Epoch 2, Time: 14.382108926773071, Loss: 1.3725960451318784\n",
      "Epoch 2, Accuracy: 52.64%\n",
      "Epoch 3, Time: 14.336199760437012, Loss: 1.248533553022253\n",
      "Epoch 3, Accuracy: 54.79%\n",
      "Epoch 4, Time: 14.242325782775879, Loss: 1.1499248483906621\n",
      "Epoch 4, Accuracy: 57.92%\n",
      "Epoch 5, Time: 14.253206014633179, Loss: 1.0704692227151387\n",
      "Epoch 5, Accuracy: 58.6%\n",
      "Epoch 6, Time: 14.276200294494629, Loss: 0.9938393043892463\n",
      "Epoch 6, Accuracy: 59.12%\n",
      "Epoch 7, Time: 14.278595447540283, Loss: 0.9198183153596375\n",
      "Epoch 7, Accuracy: 59.12%\n",
      "Epoch 8, Time: 14.240406513214111, Loss: 0.8373900102379986\n",
      "Epoch 8, Accuracy: 58.28%\n",
      "Epoch 9, Time: 14.28814148902893, Loss: 0.74847847631063\n",
      "Epoch 9, Accuracy: 59.31%\n",
      "Epoch 10, Time: 14.347898721694946, Loss: 0.6496810954245155\n",
      "Epoch 10, Accuracy: 59.42%\n",
      "\n",
      " Average epoch time: 14.30110149383545\n",
      "Accuracy on test set: 59.69%\n"
     ]
    },
    {
     "data": {
      "text/plain": [
       "59.69"
      ]
     },
     "execution_count": 4,
     "metadata": {},
     "output_type": "execute_result"
    }
   ],
   "source": [
    "convNN_2d_attn_k_n = ConvNN_2D_Attn_K_N(device='cuda')\n",
    "\n",
    "print(\"Model: \" + convNN_2d_attn_k_n.name)\n",
    "# Test + Eval\n",
    "criterion = nn.CrossEntropyLoss()\n",
    "optimizer = optim.Adam(convNN_2d_attn_k_n.parameters(), lr=0.001)\n",
    "num_epochs = 10 \n",
    "train_eval(convNN_2d_attn_k_n, cifar10.train_loader, cifar10.test_loader, criterion, optimizer, num_epochs, device='cuda')\n",
    "evaluate_accuracy(convNN_2d_attn_k_n, cifar10.test_loader, device='cuda')\n",
    "\n"
   ]
  },
  {
   "cell_type": "code",
   "execution_count": 5,
   "metadata": {},
   "outputs": [
    {
     "name": "stdout",
     "output_type": "stream",
     "text": [
      "Model: ConvNN_2D_Attn_V_K_All\n",
      "Epoch 1, Time: 14.395574808120728, Loss: 1.7569589294740915\n",
      "Epoch 1, Accuracy: 46.31%\n",
      "Epoch 2, Time: 14.448925018310547, Loss: 1.3599968885674196\n",
      "Epoch 2, Accuracy: 52.35%\n",
      "Epoch 3, Time: 14.419246196746826, Loss: 1.194268436230662\n",
      "Epoch 3, Accuracy: 55.03%\n",
      "Epoch 4, Time: 14.42824387550354, Loss: 1.0759184618892572\n",
      "Epoch 4, Accuracy: 55.01%\n",
      "Epoch 5, Time: 14.434327125549316, Loss: 0.9629835498607372\n",
      "Epoch 5, Accuracy: 56.81%\n",
      "Epoch 6, Time: 14.420671224594116, Loss: 0.8540882110367041\n",
      "Epoch 6, Accuracy: 57.11%\n",
      "Epoch 7, Time: 14.397034406661987, Loss: 0.7525491139772907\n",
      "Epoch 7, Accuracy: 57.77%\n",
      "Epoch 8, Time: 14.378350734710693, Loss: 0.6422699785141079\n",
      "Epoch 8, Accuracy: 56.59%\n",
      "Epoch 9, Time: 14.31895112991333, Loss: 0.5469856519833245\n",
      "Epoch 9, Accuracy: 56.57%\n",
      "Epoch 10, Time: 14.358188152313232, Loss: 0.4623073517437786\n",
      "Epoch 10, Accuracy: 55.85%\n",
      "\n",
      " Average epoch time: 14.399951267242432\n",
      "Accuracy on test set: 55.85%\n"
     ]
    },
    {
     "data": {
      "text/plain": [
       "55.85"
      ]
     },
     "execution_count": 5,
     "metadata": {},
     "output_type": "execute_result"
    }
   ],
   "source": [
    "convNN_2d_attn_v_k_all = ConvNN_2D_Attn_V_K_All(device='cuda')\n",
    "\n",
    "print(\"Model: \" + convNN_2d_attn_v_k_all.name)\n",
    "# Test + Eval\n",
    "criterion = nn.CrossEntropyLoss()\n",
    "optimizer = optim.Adam(convNN_2d_attn_v_k_all.parameters(), lr=0.001)\n",
    "num_epochs = 10 \n",
    "train_eval(convNN_2d_attn_v_k_all, cifar10.train_loader, cifar10.test_loader, criterion, optimizer, num_epochs, device='cuda')\n",
    "evaluate_accuracy(convNN_2d_attn_v_k_all, cifar10.test_loader, device='cuda')\n",
    "\n"
   ]
  },
  {
   "cell_type": "code",
   "execution_count": 6,
   "metadata": {},
   "outputs": [
    {
     "name": "stdout",
     "output_type": "stream",
     "text": [
      "Model: ConvNN_2D_Attn_V_K_N\n",
      "Epoch 1, Time: 14.092839479446411, Loss: 1.7606589373420267\n",
      "Epoch 1, Accuracy: 46.06%\n",
      "Epoch 2, Time: 14.094309329986572, Loss: 1.3663085773777779\n",
      "Epoch 2, Accuracy: 52.55%\n",
      "Epoch 3, Time: 14.101258277893066, Loss: 1.2306434623420697\n",
      "Epoch 3, Accuracy: 55.72%\n",
      "Epoch 4, Time: 14.095828533172607, Loss: 1.1415971389511967\n",
      "Epoch 4, Accuracy: 57.89%\n",
      "Epoch 5, Time: 14.080894231796265, Loss: 1.0660169042284837\n",
      "Epoch 5, Accuracy: 58.58%\n",
      "Epoch 6, Time: 14.16810941696167, Loss: 0.9933906507004252\n",
      "Epoch 6, Accuracy: 59.54%\n",
      "Epoch 7, Time: 14.138089418411255, Loss: 0.9205688775500374\n",
      "Epoch 7, Accuracy: 58.87%\n",
      "Epoch 8, Time: 14.133091449737549, Loss: 0.8494453473621623\n",
      "Epoch 8, Accuracy: 58.92%\n",
      "Epoch 9, Time: 14.058128356933594, Loss: 0.778025237495637\n",
      "Epoch 9, Accuracy: 59.46%\n",
      "Epoch 10, Time: 14.143112897872925, Loss: 0.7045717153631513\n",
      "Epoch 10, Accuracy: 59.74%\n",
      "\n",
      " Average epoch time: 14.110566139221191\n",
      "Accuracy on test set: 59.49%\n"
     ]
    },
    {
     "data": {
      "text/plain": [
       "59.49"
      ]
     },
     "execution_count": 6,
     "metadata": {},
     "output_type": "execute_result"
    }
   ],
   "source": [
    "convNN_2d_attn_v_k_n = ConvNN_2D_Attn_V_K_N(device='cuda')\n",
    "\n",
    "print(\"Model: \" + convNN_2d_attn_v_k_n.name)\n",
    "# Test + Eval\n",
    "criterion = nn.CrossEntropyLoss()\n",
    "optimizer = optim.Adam(convNN_2d_attn_v_k_n.parameters(), lr=0.001)\n",
    "num_epochs = 10 \n",
    "train_eval(convNN_2d_attn_v_k_n, cifar10.train_loader, cifar10.test_loader, criterion, optimizer, num_epochs, device='cuda')\n",
    "evaluate_accuracy(convNN_2d_attn_v_k_n, cifar10.test_loader, device='cuda')\n",
    "\n"
   ]
  },
  {
   "cell_type": "markdown",
   "metadata": {},
   "source": [
    "### Branching Network "
   ]
  },
  {
   "cell_type": "code",
   "execution_count": 7,
   "metadata": {},
   "outputs": [
    {
     "name": "stdout",
     "output_type": "stream",
     "text": [
      "Model: Branching_ConvNN_2D_K_All\n",
      "Epoch 1, Time: 15.72993540763855, Loss: 1.4198662342165438\n",
      "Epoch 1, Accuracy: 57.72%\n",
      "Epoch 2, Time: 15.582492589950562, Loss: 0.9610942019068677\n",
      "Epoch 2, Accuracy: 64.75%\n",
      "Epoch 3, Time: 15.669006824493408, Loss: 0.6146794232489813\n",
      "Epoch 3, Accuracy: 66.07%\n",
      "Epoch 4, Time: 15.609049320220947, Loss: 0.2789500293791142\n",
      "Epoch 4, Accuracy: 64.59%\n",
      "Epoch 5, Time: 15.582028865814209, Loss: 0.13848415133007386\n",
      "Epoch 5, Accuracy: 66.56%\n",
      "Epoch 6, Time: 15.648507595062256, Loss: 0.10601234220592376\n",
      "Epoch 6, Accuracy: 65.92%\n",
      "Epoch 7, Time: 15.641339302062988, Loss: 0.10220140963554611\n",
      "Epoch 7, Accuracy: 65.66%\n",
      "Epoch 8, Time: 15.645502090454102, Loss: 0.08154713919998416\n",
      "Epoch 8, Accuracy: 64.95%\n",
      "Epoch 9, Time: 15.574753761291504, Loss: 0.08542800728586572\n",
      "Epoch 9, Accuracy: 65.96%\n",
      "Epoch 10, Time: 15.64889407157898, Loss: 0.07931938444641169\n",
      "Epoch 10, Accuracy: 65.7%\n",
      "\n",
      " Average epoch time: 15.633150982856751\n",
      "Accuracy on test set: 65.7%\n"
     ]
    },
    {
     "data": {
      "text/plain": [
       "65.7"
      ]
     },
     "execution_count": 7,
     "metadata": {},
     "output_type": "execute_result"
    }
   ],
   "source": [
    "branchingconvNN_2d_k_all = Branching_ConvNN_2D_K_All(device='cuda')\n",
    "\n",
    "print(\"Model: \" + branchingconvNN_2d_k_all.name)\n",
    "# Test + Eval\n",
    "criterion = nn.CrossEntropyLoss()\n",
    "optimizer = optim.Adam(branchingconvNN_2d_k_all.parameters(), lr=0.001)\n",
    "num_epochs = 10 \n",
    "train_eval(branchingconvNN_2d_k_all, cifar10.train_loader, cifar10.test_loader, criterion, optimizer, num_epochs, device='cuda')\n",
    "evaluate_accuracy(branchingconvNN_2d_k_all, cifar10.test_loader, device='cuda')\n",
    "\n"
   ]
  },
  {
   "cell_type": "code",
   "execution_count": 8,
   "metadata": {},
   "outputs": [
    {
     "name": "stdout",
     "output_type": "stream",
     "text": [
      "Model: Branching_ConvNN_2D_K_N\n",
      "Epoch 1, Time: 15.851719617843628, Loss: 1.3713211959890088\n",
      "Epoch 1, Accuracy: 60.37%\n",
      "Epoch 2, Time: 15.869675636291504, Loss: 0.9024093760858716\n",
      "Epoch 2, Accuracy: 66.54%\n",
      "Epoch 3, Time: 15.859013319015503, Loss: 0.5291687856473581\n",
      "Epoch 3, Accuracy: 67.81%\n",
      "Epoch 4, Time: 15.902804374694824, Loss: 0.2093495821480251\n",
      "Epoch 4, Accuracy: 67.26%\n",
      "Epoch 5, Time: 15.873635292053223, Loss: 0.1195486253663383\n",
      "Epoch 5, Accuracy: 66.38%\n",
      "Epoch 6, Time: 15.927086591720581, Loss: 0.09662093903334654\n",
      "Epoch 6, Accuracy: 66.56%\n",
      "Epoch 7, Time: 15.962553262710571, Loss: 0.09001409689820779\n",
      "Epoch 7, Accuracy: 65.86%\n",
      "Epoch 8, Time: 15.962352991104126, Loss: 0.068438229694292\n",
      "Epoch 8, Accuracy: 65.44%\n",
      "Epoch 9, Time: 15.934142112731934, Loss: 0.06969091293166506\n",
      "Epoch 9, Accuracy: 66.03%\n",
      "Epoch 10, Time: 15.88707423210144, Loss: 0.07296521584526428\n",
      "Epoch 10, Accuracy: 65.02%\n",
      "\n",
      " Average epoch time: 15.903005743026734\n",
      "Accuracy on test set: 64.89%\n"
     ]
    },
    {
     "data": {
      "text/plain": [
       "64.89"
      ]
     },
     "execution_count": 8,
     "metadata": {},
     "output_type": "execute_result"
    }
   ],
   "source": [
    "branchingconvNN_2d_k_n = Branching_ConvNN_2D_K_N(device='cuda')\n",
    "\n",
    "print(\"Model: \" + branchingconvNN_2d_k_n.name)\n",
    "# Test + Eval\n",
    "criterion = nn.CrossEntropyLoss()\n",
    "optimizer = optim.Adam(branchingconvNN_2d_k_n.parameters(), lr=0.001)\n",
    "num_epochs = 10 \n",
    "train_eval(branchingconvNN_2d_k_n, cifar10.train_loader, cifar10.test_loader, criterion, optimizer, num_epochs, device='cuda')\n",
    "evaluate_accuracy(branchingconvNN_2d_k_n, cifar10.test_loader, device='cuda')\n",
    "\n"
   ]
  },
  {
   "cell_type": "code",
   "execution_count": 9,
   "metadata": {},
   "outputs": [
    {
     "name": "stdout",
     "output_type": "stream",
     "text": [
      "Model: Branching_ConvNN_2D_Spatial_K_N\n",
      "Epoch 1, Time: 16.13661813735962, Loss: 1.4353219247077738\n",
      "Epoch 1, Accuracy: 55.91%\n",
      "Epoch 2, Time: 16.058470726013184, Loss: 0.9834306538867219\n",
      "Epoch 2, Accuracy: 64.94%\n",
      "Epoch 3, Time: 16.134031057357788, Loss: 0.6282376031893904\n",
      "Epoch 3, Accuracy: 66.57%\n",
      "Epoch 4, Time: 16.17190718650818, Loss: 0.27327487069894285\n",
      "Epoch 4, Accuracy: 65.61%\n",
      "Epoch 5, Time: 16.189889430999756, Loss: 0.1282232280730096\n",
      "Epoch 5, Accuracy: 65.7%\n",
      "Epoch 6, Time: 16.163573741912842, Loss: 0.10002607800771514\n",
      "Epoch 6, Accuracy: 65.36%\n",
      "Epoch 7, Time: 16.178693056106567, Loss: 0.10036048123105655\n",
      "Epoch 7, Accuracy: 65.39%\n",
      "Epoch 8, Time: 16.188125133514404, Loss: 0.08776229671681957\n",
      "Epoch 8, Accuracy: 65.03%\n",
      "Epoch 9, Time: 16.204469919204712, Loss: 0.07565400298625884\n",
      "Epoch 9, Accuracy: 66.23%\n",
      "Epoch 10, Time: 16.11646556854248, Loss: 0.06916267035426\n",
      "Epoch 10, Accuracy: 64.53%\n",
      "\n",
      " Average epoch time: 16.154224395751953\n",
      "Accuracy on test set: 64.53%\n"
     ]
    },
    {
     "data": {
      "text/plain": [
       "64.53"
      ]
     },
     "execution_count": 9,
     "metadata": {},
     "output_type": "execute_result"
    }
   ],
   "source": [
    "branchingconvNN_2d_spatial_k_n = Branching_ConvNN_2D_Spatial_K_N(device='cuda')\n",
    "\n",
    "print(\"Model: \" + branchingconvNN_2d_spatial_k_n.name)\n",
    "# Test + Eval\n",
    "criterion = nn.CrossEntropyLoss()\n",
    "optimizer = optim.Adam(branchingconvNN_2d_spatial_k_n.parameters(), lr=0.001)\n",
    "num_epochs = 10 \n",
    "train_eval(branchingconvNN_2d_spatial_k_n, cifar10.train_loader, cifar10.test_loader, criterion, optimizer, num_epochs, device='cuda')\n",
    "evaluate_accuracy(branchingconvNN_2d_spatial_k_n, cifar10.test_loader, device='cuda')\n",
    "\n"
   ]
  },
  {
   "cell_type": "code",
   "execution_count": 10,
   "metadata": {},
   "outputs": [
    {
     "name": "stdout",
     "output_type": "stream",
     "text": [
      "Model: Branching_ConvNN_2D_Attn_K_N\n",
      "Epoch 1, Time: 14.933757781982422, Loss: 1.4342594519448097\n",
      "Epoch 1, Accuracy: 58.59%\n",
      "Epoch 2, Time: 14.904473304748535, Loss: 0.9680238688159781\n",
      "Epoch 2, Accuracy: 65.35%\n",
      "Epoch 3, Time: 15.011497020721436, Loss: 0.6476087133064294\n",
      "Epoch 3, Accuracy: 67.11%\n",
      "Epoch 4, Time: 14.996652364730835, Loss: 0.3192338813143923\n",
      "Epoch 4, Accuracy: 67.25%\n",
      "Epoch 5, Time: 14.920584201812744, Loss: 0.13959179347490563\n",
      "Epoch 5, Accuracy: 66.6%\n",
      "Epoch 6, Time: 14.924997806549072, Loss: 0.10357821315808026\n",
      "Epoch 6, Accuracy: 67.06%\n",
      "Epoch 7, Time: 14.999741077423096, Loss: 0.09075042461056995\n",
      "Epoch 7, Accuracy: 66.2%\n",
      "Epoch 8, Time: 14.99717092514038, Loss: 0.07147681427201913\n",
      "Epoch 8, Accuracy: 66.61%\n",
      "Epoch 9, Time: 15.019328117370605, Loss: 0.0754072868663882\n",
      "Epoch 9, Accuracy: 65.03%\n",
      "Epoch 10, Time: 14.972452163696289, Loss: 0.0692313344492053\n",
      "Epoch 10, Accuracy: 66.26%\n",
      "\n",
      " Average epoch time: 14.968065476417541\n",
      "Accuracy on test set: 66.14%\n"
     ]
    },
    {
     "data": {
      "text/plain": [
       "66.14"
      ]
     },
     "execution_count": 10,
     "metadata": {},
     "output_type": "execute_result"
    }
   ],
   "source": [
    "branchingconvNN_2d_attn_k_n = Branching_ConvNN_2D_Attn_K_N(device='cuda')\n",
    "\n",
    "print(\"Model: \" + branchingconvNN_2d_attn_k_n.name)\n",
    "# Test + Eval\n",
    "criterion = nn.CrossEntropyLoss()\n",
    "optimizer = optim.Adam(branchingconvNN_2d_attn_k_n.parameters(), lr=0.001)\n",
    "num_epochs = 10 \n",
    "train_eval(branchingconvNN_2d_attn_k_n, cifar10.train_loader, cifar10.test_loader, criterion, optimizer, num_epochs, device='cuda')\n",
    "evaluate_accuracy(branchingconvNN_2d_attn_k_n, cifar10.test_loader, device='cuda')\n",
    "\n"
   ]
  },
  {
   "cell_type": "code",
   "execution_count": 11,
   "metadata": {},
   "outputs": [
    {
     "name": "stdout",
     "output_type": "stream",
     "text": [
      "Model: Branching_ConvNN_2D_Attn_V_K_N\n",
      "Epoch 1, Time: 14.785490989685059, Loss: 1.3477711010619502\n",
      "Epoch 1, Accuracy: 61.98%\n",
      "Epoch 2, Time: 14.751356840133667, Loss: 0.8870531081238671\n",
      "Epoch 2, Accuracy: 66.54%\n",
      "Epoch 3, Time: 14.822541952133179, Loss: 0.531674816175495\n",
      "Epoch 3, Accuracy: 68.71%\n",
      "Epoch 4, Time: 14.819509029388428, Loss: 0.21927069497230411\n",
      "Epoch 4, Accuracy: 67.07%\n",
      "Epoch 5, Time: 14.781618118286133, Loss: 0.11690538262953158\n",
      "Epoch 5, Accuracy: 66.08%\n",
      "Epoch 6, Time: 14.842771291732788, Loss: 0.09713784605056247\n",
      "Epoch 6, Accuracy: 68.14%\n",
      "Epoch 7, Time: 14.82930326461792, Loss: 0.08148570346278007\n",
      "Epoch 7, Accuracy: 67.68%\n",
      "Epoch 8, Time: 14.89377498626709, Loss: 0.08147559085946597\n",
      "Epoch 8, Accuracy: 66.81%\n",
      "Epoch 9, Time: 14.773341655731201, Loss: 0.07720386913411936\n",
      "Epoch 9, Accuracy: 66.17%\n",
      "Epoch 10, Time: 14.799376010894775, Loss: 0.07072111375457511\n",
      "Epoch 10, Accuracy: 67.27%\n",
      "\n",
      " Average epoch time: 14.809908413887024\n",
      "Accuracy on test set: 67.18%\n"
     ]
    },
    {
     "data": {
      "text/plain": [
       "67.18"
      ]
     },
     "execution_count": 11,
     "metadata": {},
     "output_type": "execute_result"
    }
   ],
   "source": [
    "branchingconvNN_2d_attn_v_k_n = Branching_ConvNN_2D_Attn_V_K_N(device='cuda')\n",
    "\n",
    "print(\"Model: \" + branchingconvNN_2d_attn_v_k_n.name)\n",
    "# Test + Eval\n",
    "criterion = nn.CrossEntropyLoss()\n",
    "optimizer = optim.Adam(branchingconvNN_2d_attn_v_k_n.parameters(), lr=0.001)\n",
    "num_epochs = 10 \n",
    "train_eval(branchingconvNN_2d_attn_v_k_n, cifar10.train_loader, cifar10.test_loader, criterion, optimizer, num_epochs, device='cuda')\n",
    "evaluate_accuracy(branchingconvNN_2d_attn_v_k_n, cifar10.test_loader, device='cuda')"
   ]
  },
  {
   "cell_type": "code",
   "execution_count": null,
   "metadata": {},
   "outputs": [],
   "source": []
  }
 ],
 "metadata": {
  "kernelspec": {
   "display_name": "Python 3.12",
   "language": "python",
   "name": "python3.12"
  },
  "language_info": {
   "codemirror_mode": {
    "name": "ipython",
    "version": 3
   },
   "file_extension": ".py",
   "mimetype": "text/x-python",
   "name": "python",
   "nbconvert_exporter": "python",
   "pygments_lexer": "ipython3",
   "version": "3.12.3"
  }
 },
 "nbformat": 4,
 "nbformat_minor": 4
}
