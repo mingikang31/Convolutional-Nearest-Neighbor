{
 "cells": [
  {
   "cell_type": "markdown",
   "metadata": {},
   "source": [
    "# Branching network CNN & ConvNN channels ratio \n",
    "- Branching network CNN & ConvNN channels ratio tests"
   ]
  },
  {
   "cell_type": "code",
   "execution_count": 1,
   "metadata": {},
   "outputs": [
    {
     "name": "stderr",
     "output_type": "stream",
     "text": [
      "/Users/mingikang/miniforge3/envs/ML/lib/python3.12/site-packages/tqdm/auto.py:21: TqdmWarning: IProgress not found. Please update jupyter and ipywidgets. See https://ipywidgets.readthedocs.io/en/stable/user_install.html\n",
      "  from .autonotebook import tqdm as notebook_tqdm\n"
     ]
    }
   ],
   "source": [
    "# Torch\n",
    "import torch \n",
    "import torch.nn as nn\n",
    "import torch.nn.functional as F\n",
    "from torch import optim \n",
    "\n",
    "\n",
    "# Train + Data \n",
    "import sys \n",
    "sys.path.append('../Layers')\n",
    "from Conv1d_NN_spatial import * \n",
    "from Conv2d_NN_spatial import * \n",
    "\n",
    "sys.path.append('../Data')\n",
    "from CIFAR10 import * \n",
    "\n",
    "\n",
    "sys.path.append('../Models')\n",
    "from models_2d import *\n",
    "\n",
    "sys.path.append('../Train')\n",
    "from train2d import * \n"
   ]
  },
  {
   "cell_type": "code",
   "execution_count": 2,
   "metadata": {},
   "outputs": [
    {
     "name": "stdout",
     "output_type": "stream",
     "text": [
      "Files already downloaded and verified\n",
      "Files already downloaded and verified\n"
     ]
    }
   ],
   "source": [
    "cifar10 = CIFAR10()"
   ]
  },
  {
   "cell_type": "markdown",
   "metadata": {},
   "source": [
    "### i.a. Control Model (CNN)"
   ]
  },
  {
   "cell_type": "code",
   "execution_count": 3,
   "metadata": {},
   "outputs": [
    {
     "name": "stdout",
     "output_type": "stream",
     "text": [
      "Epoch 1, Time: 20.386385202407837, Loss: 1.3867303351764484\n",
      "Epoch 2, Time: 19.809027910232544, Loss: 0.8324027435706399\n",
      "Epoch 3, Time: 20.917338132858276, Loss: 0.41221488842650145\n",
      "Epoch 4, Time: 22.700978994369507, Loss: 0.11169533632562288\n",
      "Epoch 5, Time: 22.000359773635864, Loss: 0.04843749803380178\n",
      "Epoch 6, Time: 21.676279067993164, Loss: 0.05190996082661593\n",
      "Epoch 7, Time: 25.63969612121582, Loss: 0.043952928459131256\n",
      "Epoch 8, Time: 23.604048252105713, Loss: 0.0385089573845484\n",
      "Epoch 9, Time: 21.84818696975708, Loss: 0.04112788204885567\n",
      "Epoch 10, Time: 21.940598011016846, Loss: 0.029408731801367466\n",
      "\n",
      " Average epoch time: 22.052289843559265\n",
      "Accuracy on test set: 64.46%\n"
     ]
    },
    {
     "data": {
      "text/plain": [
       "64.46"
      ]
     },
     "execution_count": 3,
     "metadata": {},
     "output_type": "execute_result"
    }
   ],
   "source": [
    "# CNN\n",
    "CNN_1 = CNN()\n",
    "\n",
    "# Test + Eval\n",
    "criterion = nn.CrossEntropyLoss()\n",
    "optimizer = optim.Adam(CNN_1.parameters(), lr=0.001)\n",
    "num_epochs = 10 \n",
    "train_model(CNN_1, cifar10.train_loader, criterion, optimizer, num_epochs)\n",
    "evaluate_accuracy(CNN_1, cifar10.test_loader)\n"
   ]
  },
  {
   "cell_type": "markdown",
   "metadata": {},
   "source": [
    "### i.b. Control Model (ConvNN K, All Sample)"
   ]
  },
  {
   "cell_type": "code",
   "execution_count": 17,
   "metadata": {},
   "outputs": [
    {
     "name": "stdout",
     "output_type": "stream",
     "text": [
      "Epoch 1, Time: 55.324108839035034, Loss: 1.492999423190456\n",
      "Epoch 2, Time: 55.117668867111206, Loss: 1.1709280427916886\n",
      "Epoch 3, Time: 339.9752480983734, Loss: 0.9580171751549177\n",
      "Epoch 4, Time: 101.52640581130981, Loss: 0.7408937683038395\n",
      "Epoch 5, Time: 1457.1778450012207, Loss: 0.5333706660724967\n",
      "Epoch 6, Time: 160.39961695671082, Loss: 0.36083765234560006\n",
      "Epoch 7, Time: 1295.6668319702148, Loss: 0.2652174834295383\n",
      "Epoch 8, Time: 297.79807591438293, Loss: 0.20433503577528556\n",
      "Epoch 9, Time: 52.71545720100403, Loss: 0.1754020130871545\n",
      "Epoch 10, Time: 52.1993887424469, Loss: 0.1519088471913353\n",
      "\n",
      " Average epoch time: 386.790064740181\n",
      "Accuracy on test set: 56.03%\n"
     ]
    },
    {
     "data": {
      "text/plain": [
       "56.03"
      ]
     },
     "execution_count": 17,
     "metadata": {},
     "output_type": "execute_result"
    }
   ],
   "source": [
    "convNN_2d_k_all = ConvNN_2D_K_All()\n",
    "\n",
    "# Test + Eval\n",
    "criterion = nn.CrossEntropyLoss()\n",
    "optimizer = optim.Adam(convNN_2d_k_all.parameters(), lr=0.001)\n",
    "num_epochs = 10 \n",
    "train_model(convNN_2d_k_all, cifar10.train_loader, criterion, optimizer, num_epochs)\n",
    "evaluate_accuracy(convNN_2d_k_all, cifar10.test_loader)\n"
   ]
  },
  {
   "cell_type": "markdown",
   "metadata": {},
   "source": [
    "### ii. Changing the channel ratios\n",
    "- 2, 4, 8, 12, 16, 20, 24, 28, 30"
   ]
  },
  {
   "cell_type": "code",
   "execution_count": 16,
   "metadata": {},
   "outputs": [
    {
     "name": "stdout",
     "output_type": "stream",
     "text": [
      "Epoch 1, Time: 72.53897619247437, Loss: 1.4406866960208435\n",
      "Epoch 2, Time: 70.48876810073853, Loss: 1.0365455345729429\n",
      "Epoch 3, Time: 70.50338101387024, Loss: 0.7385426276861249\n",
      "Epoch 4, Time: 71.14863395690918, Loss: 0.4133552663085406\n",
      "Epoch 5, Time: 70.63208222389221, Loss: 0.22815417953769265\n",
      "Epoch 6, Time: 68.57968282699585, Loss: 0.1706815431373256\n",
      "Epoch 7, Time: 67.38537383079529, Loss: 0.12748588669492536\n",
      "Epoch 8, Time: 67.28929686546326, Loss: 0.12344862611087806\n",
      "Epoch 9, Time: 67.919105052948, Loss: 0.11350905951981902\n",
      "Epoch 10, Time: 68.82306408882141, Loss: 0.09471017789557729\n",
      "\n",
      " Average epoch time: 69.53083641529084\n",
      "Accuracy on test set: 61.15%\n"
     ]
    },
    {
     "data": {
      "text/plain": [
       "61.15"
      ]
     },
     "execution_count": 16,
     "metadata": {},
     "output_type": "execute_result"
    }
   ],
   "source": [
    "# Branching All Samples, ratio = 2:30\n",
    "branching_convNN_2D_k_all_2_30 = Branching_ConvNN_2D_K_All(channel_ratio = (2, 30))\n",
    "\n",
    "\n",
    "# Test + Eval\n",
    "criterion = nn.CrossEntropyLoss()\n",
    "optimizer = optim.Adam(branching_convNN_2D_k_all_2_30.parameters(), lr=0.001)\n",
    "num_epochs = 10 \n",
    "train_model(branching_convNN_2D_k_all_2_30, cifar10.train_loader, criterion, optimizer, num_epochs)\n",
    "evaluate_accuracy(branching_convNN_2D_k_all_2_30, cifar10.test_loader)"
   ]
  },
  {
   "cell_type": "code",
   "execution_count": 13,
   "metadata": {},
   "outputs": [
    {
     "name": "stdout",
     "output_type": "stream",
     "text": [
      "Epoch 1, Time: 64.85607385635376, Loss: 1.432655492249657\n",
      "Epoch 2, Time: 65.08111882209778, Loss: 1.048978096612579\n",
      "Epoch 3, Time: 62.71344518661499, Loss: 0.7671657848312422\n",
      "Epoch 4, Time: 62.44022822380066, Loss: 0.45550018526099223\n",
      "Epoch 5, Time: 63.128973960876465, Loss: 0.24903302299349434\n",
      "Epoch 6, Time: 63.536157846450806, Loss: 0.17851164824355517\n",
      "Epoch 7, Time: 62.636353969573975, Loss: 0.15080192120140776\n",
      "Epoch 8, Time: 62.496565103530884, Loss: 0.1273560276948144\n",
      "Epoch 9, Time: 62.80874991416931, Loss: 0.12740497918063512\n",
      "Epoch 10, Time: 62.94877099990845, Loss: 0.10331697503993255\n",
      "\n",
      " Average epoch time: 63.26464378833771\n",
      "Accuracy on test set: 61.23%\n"
     ]
    },
    {
     "data": {
      "text/plain": [
       "61.23"
      ]
     },
     "execution_count": 13,
     "metadata": {},
     "output_type": "execute_result"
    }
   ],
   "source": [
    "# Branching All Samples, ratio = 4:28\n",
    "branching_convNN_2D_k_all_4_28 = Branching_ConvNN_2D_K_All(channel_ratio = (4, 28))\n",
    "\n",
    "\n",
    "# Test + Eval\n",
    "criterion = nn.CrossEntropyLoss()\n",
    "optimizer = optim.Adam(branching_convNN_2D_k_all_4_28.parameters(), lr=0.001)\n",
    "num_epochs = 10 \n",
    "train_model(branching_convNN_2D_k_all_4_28, cifar10.train_loader, criterion, optimizer, num_epochs)\n",
    "evaluate_accuracy(branching_convNN_2D_k_all_4_28, cifar10.test_loader)\n"
   ]
  },
  {
   "cell_type": "code",
   "execution_count": 14,
   "metadata": {},
   "outputs": [
    {
     "name": "stdout",
     "output_type": "stream",
     "text": [
      "Epoch 1, Time: 61.19792985916138, Loss: 1.418059145474373\n",
      "Epoch 2, Time: 59.7414391040802, Loss: 1.0054685753934525\n",
      "Epoch 3, Time: 60.022013902664185, Loss: 0.6899744186864789\n",
      "Epoch 4, Time: 59.697246074676514, Loss: 0.3587932030258276\n",
      "Epoch 5, Time: 59.77068114280701, Loss: 0.18874874642914366\n",
      "Epoch 6, Time: 59.758814096450806, Loss: 0.14147234147014406\n",
      "Epoch 7, Time: 59.64130711555481, Loss: 0.11533466850459824\n",
      "Epoch 8, Time: 59.987606048583984, Loss: 0.10089333434505841\n",
      "Epoch 9, Time: 60.33809304237366, Loss: 0.10947510088636728\n",
      "Epoch 10, Time: 59.83788800239563, Loss: 0.08595279824805072\n",
      "\n",
      " Average epoch time: 59.999301838874814\n",
      "Accuracy on test set: 63.09%\n"
     ]
    },
    {
     "data": {
      "text/plain": [
       "63.09"
      ]
     },
     "execution_count": 14,
     "metadata": {},
     "output_type": "execute_result"
    }
   ],
   "source": [
    "# Branching All Samples, ratio = 8:24\n",
    "branching_convNN_2D_k_all_8_24 = Branching_ConvNN_2D_K_All(channel_ratio = (8, 24))\n",
    "\n",
    "\n",
    "# Test + Eval\n",
    "criterion = nn.CrossEntropyLoss()\n",
    "optimizer = optim.Adam(branching_convNN_2D_k_all_8_24.parameters(), lr=0.001)\n",
    "num_epochs = 10 \n",
    "train_model(branching_convNN_2D_k_all_8_24, cifar10.train_loader, criterion, optimizer, num_epochs)\n",
    "evaluate_accuracy(branching_convNN_2D_k_all_8_24, cifar10.test_loader)\n"
   ]
  },
  {
   "cell_type": "code",
   "execution_count": 15,
   "metadata": {},
   "outputs": [
    {
     "name": "stdout",
     "output_type": "stream",
     "text": [
      "Epoch 1, Time: 58.1963791847229, Loss: 1.4235734200233694\n",
      "Epoch 2, Time: 57.50885009765625, Loss: 1.003991657434522\n",
      "Epoch 3, Time: 57.61061406135559, Loss: 0.6985888789834269\n",
      "Epoch 4, Time: 59.0339789390564, Loss: 0.3709175358038119\n",
      "Epoch 5, Time: 60.591845989227295, Loss: 0.19088876023269294\n",
      "Epoch 6, Time: 58.259419679641724, Loss: 0.13190793140869958\n",
      "Epoch 7, Time: 59.8674840927124, Loss: 0.11591172651828402\n",
      "Epoch 8, Time: 59.84418034553528, Loss: 0.11133395252145513\n",
      "Epoch 9, Time: 58.17036700248718, Loss: 0.08429410699967836\n",
      "Epoch 10, Time: 58.20538592338562, Loss: 0.0811461406419604\n",
      "\n",
      " Average epoch time: 58.72885053157806\n",
      "Accuracy on test set: 63.35%\n"
     ]
    },
    {
     "data": {
      "text/plain": [
       "63.35"
      ]
     },
     "execution_count": 15,
     "metadata": {},
     "output_type": "execute_result"
    }
   ],
   "source": [
    "# Branching All Samples, ratio = 12:20\n",
    "branching_convNN_2D_k_all_12_20 = Branching_ConvNN_2D_K_All(channel_ratio = (12, 20))\n",
    "\n",
    "\n",
    "# Test + Eval\n",
    "criterion = nn.CrossEntropyLoss()\n",
    "optimizer = optim.Adam(branching_convNN_2D_k_all_12_20.parameters(), lr=0.001)\n",
    "num_epochs = 10 \n",
    "train_model(branching_convNN_2D_k_all_12_20, cifar10.train_loader, criterion, optimizer, num_epochs)\n",
    "evaluate_accuracy(branching_convNN_2D_k_all_12_20, cifar10.test_loader)\n"
   ]
  },
  {
   "cell_type": "code",
   "execution_count": null,
   "metadata": {},
   "outputs": [
    {
     "name": "stdout",
     "output_type": "stream",
     "text": [
      "Epoch 1, Time: 58.088088274002075, Loss: 1.422457308644224\n",
      "Epoch 2, Time: 57.19394397735596, Loss: 0.9656509002456275\n",
      "Epoch 3, Time: 55.39641189575195, Loss: 0.6189117185447527\n",
      "Epoch 4, Time: 55.291669845581055, Loss: 0.28291548966713576\n",
      "Epoch 5, Time: 55.707717180252075, Loss: 0.15552941159061764\n",
      "Epoch 6, Time: 55.75892972946167, Loss: 0.11077866517841016\n",
      "Epoch 7, Time: 55.296019077301025, Loss: 0.10439961338195416\n",
      "Epoch 8, Time: 55.67546081542969, Loss: 0.08929849700699144\n",
      "Epoch 9, Time: 55.47766613960266, Loss: 0.07187177269572756\n",
      "Epoch 10, Time: 57.65789818763733, Loss: 0.07907561073347669\n",
      "\n",
      " Average epoch time: 56.15438051223755\n",
      "Accuracy on test set: 65.05%\n"
     ]
    },
    {
     "data": {
      "text/plain": [
       "65.05"
      ]
     },
     "execution_count": 6,
     "metadata": {},
     "output_type": "execute_result"
    }
   ],
   "source": [
    "# Branching All Samples, ratio = 16:16\n",
    "branching_convNN_2D_k_all_16_16 = Branching_ConvNN_2D_K_All()\n",
    "\n",
    "# Test + Eval\n",
    "criterion = nn.CrossEntropyLoss()\n",
    "optimizer = optim.Adam(branching_convNN_2D_k_all_16_16.parameters(), lr=0.001)\n",
    "num_epochs = 10 \n",
    "train_model(branching_convNN_2D_k_all_16_16, cifar10.train_loader, criterion, optimizer, num_epochs)\n",
    "evaluate_accuracy(branching_convNN_2D_k_all_16_16, cifar10.test_loader)\n"
   ]
  },
  {
   "cell_type": "code",
   "execution_count": null,
   "metadata": {},
   "outputs": [
    {
     "name": "stdout",
     "output_type": "stream",
     "text": [
      "Epoch 1, Time: 54.2251672744751, Loss: 1.3710289246895735\n",
      "Epoch 2, Time: 54.18537998199463, Loss: 0.8936816911258356\n",
      "Epoch 3, Time: 53.69429588317871, Loss: 0.530456053821937\n",
      "Epoch 4, Time: 55.66856288909912, Loss: 0.2177892939218551\n",
      "Epoch 5, Time: 55.70700812339783, Loss: 0.1294048293993887\n",
      "Epoch 6, Time: 55.98659014701843, Loss: 0.09678358958957864\n",
      "Epoch 7, Time: 55.466811180114746, Loss: 0.0912884478552548\n",
      "Epoch 8, Time: 56.641682863235474, Loss: 0.0850097917851306\n",
      "Epoch 9, Time: 55.330487966537476, Loss: 0.07171068787265121\n",
      "Epoch 10, Time: 54.21119809150696, Loss: 0.06063723397749962\n",
      "\n",
      " Average epoch time: 55.111718440055846\n",
      "Accuracy on test set: 64.56%\n"
     ]
    },
    {
     "data": {
      "text/plain": [
       "64.56"
      ]
     },
     "execution_count": 7,
     "metadata": {},
     "output_type": "execute_result"
    }
   ],
   "source": [
    "# Branching All Samples, ratio = 20:12\n",
    "branching_convNN_2D_k_all_20_12 = Branching_ConvNN_2D_K_All(channel_ratio = (20, 12))\n",
    "\n",
    "\n",
    "# Test + Eval\n",
    "criterion = nn.CrossEntropyLoss()\n",
    "optimizer = optim.Adam(branching_convNN_2D_k_all_20_12.parameters(), lr=0.001)\n",
    "num_epochs = 10 \n",
    "train_model(branching_convNN_2D_k_all_20_12, cifar10.train_loader, criterion, optimizer, num_epochs)\n",
    "evaluate_accuracy(branching_convNN_2D_k_all_20_12, cifar10.test_loader)\n"
   ]
  },
  {
   "cell_type": "code",
   "execution_count": 8,
   "metadata": {},
   "outputs": [
    {
     "name": "stdout",
     "output_type": "stream",
     "text": [
      "Epoch 1, Time: 52.314812898635864, Loss: 1.3320258033397558\n",
      "Epoch 2, Time: 50.35570001602173, Loss: 0.8472492911702837\n",
      "Epoch 3, Time: 49.838757038116455, Loss: 0.44969532314849936\n",
      "Epoch 4, Time: 49.745102882385254, Loss: 0.16390874358060795\n",
      "Epoch 5, Time: 50.32077693939209, Loss: 0.10934829720578221\n",
      "Epoch 6, Time: 51.967597007751465, Loss: 0.09783752263247338\n",
      "Epoch 7, Time: 50.88846397399902, Loss: 0.07483530736765336\n",
      "Epoch 8, Time: 50.793882846832275, Loss: 0.07526410856421756\n",
      "Epoch 9, Time: 50.86819887161255, Loss: 0.06793669871214772\n",
      "Epoch 10, Time: 51.506097078323364, Loss: 0.05534693939716119\n",
      "\n",
      " Average epoch time: 50.85993895530701\n",
      "Accuracy on test set: 66.82%\n"
     ]
    },
    {
     "data": {
      "text/plain": [
       "66.82"
      ]
     },
     "execution_count": 8,
     "metadata": {},
     "output_type": "execute_result"
    }
   ],
   "source": [
    "# Branching All Samples, ratio = 24:8\n",
    "branching_convNN_2D_k_all_24_8 = Branching_ConvNN_2D_K_All(channel_ratio = (24, 8))\n",
    "\n",
    "# Test + Eval\n",
    "criterion = nn.CrossEntropyLoss()\n",
    "optimizer = optim.Adam(branching_convNN_2D_k_all_24_8.parameters(), lr=0.001)\n",
    "num_epochs = 10 \n",
    "train_model(branching_convNN_2D_k_all_24_8, cifar10.train_loader, criterion, optimizer, num_epochs)\n",
    "evaluate_accuracy(branching_convNN_2D_k_all_24_8, cifar10.test_loader)\n"
   ]
  },
  {
   "cell_type": "code",
   "execution_count": 9,
   "metadata": {},
   "outputs": [
    {
     "name": "stdout",
     "output_type": "stream",
     "text": [
      "Epoch 1, Time: 48.92677664756775, Loss: 1.3319215680784582\n",
      "Epoch 2, Time: 50.10359191894531, Loss: 0.8562879173651986\n",
      "Epoch 3, Time: 49.258078813552856, Loss: 0.4780505197622892\n",
      "Epoch 4, Time: 49.22862386703491, Loss: 0.1769759501842663\n",
      "Epoch 5, Time: 48.21283292770386, Loss: 0.10790114818543406\n",
      "Epoch 6, Time: 48.27678108215332, Loss: 0.08574587608570866\n",
      "Epoch 7, Time: 48.37729287147522, Loss: 0.08291489084023754\n",
      "Epoch 8, Time: 48.14892792701721, Loss: 0.06749717681631481\n",
      "Epoch 9, Time: 48.50195622444153, Loss: 0.06245660811864838\n",
      "Epoch 10, Time: 48.79196214675903, Loss: 0.07325124225753081\n",
      "\n",
      " Average epoch time: 48.7826824426651\n",
      "Accuracy on test set: 66.63%\n"
     ]
    },
    {
     "data": {
      "text/plain": [
       "66.63"
      ]
     },
     "execution_count": 9,
     "metadata": {},
     "output_type": "execute_result"
    }
   ],
   "source": [
    "# Branching All Samples, ratio = 28:4\n",
    "branching_convNN_2D_k_all_28_4 = Branching_ConvNN_2D_K_All(channel_ratio = (28, 4))\n",
    "\n",
    "# Test + Eval\n",
    "criterion = nn.CrossEntropyLoss()\n",
    "optimizer = optim.Adam(branching_convNN_2D_k_all_28_4.parameters(), lr=0.001)\n",
    "num_epochs = 10 \n",
    "train_model(branching_convNN_2D_k_all_28_4, cifar10.train_loader, criterion, optimizer, num_epochs)\n",
    "evaluate_accuracy(branching_convNN_2D_k_all_28_4, cifar10.test_loader)\n",
    "\n"
   ]
  },
  {
   "cell_type": "code",
   "execution_count": 11,
   "metadata": {},
   "outputs": [
    {
     "name": "stdout",
     "output_type": "stream",
     "text": [
      "Epoch 1, Time: 50.478890895843506, Loss: 1.3633839774619587\n",
      "Epoch 2, Time: 49.16928195953369, Loss: 0.8690495645756002\n",
      "Epoch 3, Time: 49.07562589645386, Loss: 0.5142860942713136\n",
      "Epoch 4, Time: 48.86387300491333, Loss: 0.20746198249385334\n",
      "Epoch 5, Time: 48.07813596725464, Loss: 0.11419978540133485\n",
      "Epoch 6, Time: 48.79758810997009, Loss: 0.08891780118790248\n",
      "Epoch 7, Time: 49.11830496788025, Loss: 0.08596553609979189\n",
      "Epoch 8, Time: 49.30661392211914, Loss: 0.07237654757987269\n",
      "Epoch 9, Time: 49.446269035339355, Loss: 0.06886272277945624\n",
      "Epoch 10, Time: 48.41829299926758, Loss: 0.06764114779517558\n",
      "\n",
      " Average epoch time: 49.075287675857545\n",
      "Accuracy on test set: 65.9%\n"
     ]
    },
    {
     "data": {
      "text/plain": [
       "65.9"
      ]
     },
     "execution_count": 11,
     "metadata": {},
     "output_type": "execute_result"
    }
   ],
   "source": [
    "# Branching All Samples, ratio = 3\n",
    "branching_convNN_2D_k_all_30_2 = Branching_ConvNN_2D_K_All(channel_ratio = (30, 2))\n",
    "\n",
    "# Test + Eval\n",
    "criterion = nn.CrossEntropyLoss()\n",
    "optimizer = optim.Adam(branching_convNN_2D_k_all_30_2.parameters(), lr=0.001)\n",
    "num_epochs = 10 \n",
    "train_model(branching_convNN_2D_k_all_30_2, cifar10.train_loader, criterion, optimizer, num_epochs)\n",
    "evaluate_accuracy(branching_convNN_2D_k_all_30_2, cifar10.test_loader)\n"
   ]
  },
  {
   "cell_type": "code",
   "execution_count": null,
   "metadata": {},
   "outputs": [],
   "source": []
  }
 ],
 "metadata": {
  "kernelspec": {
   "display_name": "ML",
   "language": "python",
   "name": "python3"
  },
  "language_info": {
   "codemirror_mode": {
    "name": "ipython",
    "version": 3
   },
   "file_extension": ".py",
   "mimetype": "text/x-python",
   "name": "python",
   "nbconvert_exporter": "python",
   "pygments_lexer": "ipython3",
   "version": "3.12.0"
  }
 },
 "nbformat": 4,
 "nbformat_minor": 2
}
