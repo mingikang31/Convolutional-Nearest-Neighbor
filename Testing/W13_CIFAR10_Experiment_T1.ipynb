{
 "cells": [
  {
   "cell_type": "markdown",
   "metadata": {},
   "source": [
    "# ConvNN Attention Test *** THIS IS TABLE 1 IN LATEX PAPER\n",
    "## I. 2D Training for testing with CIFAR10 Dataset"
   ]
  },
  {
   "cell_type": "code",
   "execution_count": 1,
   "metadata": {},
   "outputs": [],
   "source": [
    "# Torch\n",
    "import torch \n",
    "import torch.nn as nn\n",
    "import torch.nn.functional as F\n",
    "from torch import optim \n",
    "\n",
    "\n",
    "# Train + Data \n",
    "import sys \n",
    "sys.path.append('../Layers')\n",
    "from Conv1d_NN_spatial import * \n",
    "from Conv2d_NN_spatial import * \n",
    "\n",
    "sys.path.append('../Data')\n",
    "from CIFAR10 import * \n",
    "\n",
    "\n",
    "sys.path.append('../Models')\n",
    "from classification_models import *\n",
    "\n",
    "sys.path.append('../Train')\n",
    "from train2d import * \n"
   ]
  },
  {
   "cell_type": "code",
   "execution_count": 2,
   "metadata": {},
   "outputs": [
    {
     "name": "stdout",
     "output_type": "stream",
     "text": [
      "Files already downloaded and verified\n",
      "Files already downloaded and verified\n"
     ]
    }
   ],
   "source": [
    "cifar10 = CIFAR10()"
   ]
  },
  {
   "cell_type": "markdown",
   "metadata": {},
   "source": [
    "### Single Layer Models"
   ]
  },
  {
   "cell_type": "code",
   "execution_count": 3,
   "metadata": {},
   "outputs": [
    {
     "name": "stdout",
     "output_type": "stream",
     "text": [
      "Model: CNN\n",
      "Epoch 1, Time: 12.97661018371582, Loss: 1.3306067252098142\n",
      "Epoch 1, Accuracy: 62.21%\n",
      "Epoch 2, Time: 12.752978801727295, Loss: 0.8146569278005444\n",
      "Epoch 2, Accuracy: 65.2%\n",
      "Epoch 3, Time: 12.667967557907104, Loss: 0.4103366458012015\n",
      "Epoch 3, Accuracy: 65.03%\n",
      "Epoch 4, Time: 12.728804349899292, Loss: 0.11278341862889926\n",
      "Epoch 4, Accuracy: 65.9%\n",
      "Epoch 5, Time: 12.651444911956787, Loss: 0.05136355462953296\n",
      "Epoch 5, Accuracy: 64.06%\n",
      "Epoch 6, Time: 12.574718236923218, Loss: 0.05232371875267152\n",
      "Epoch 6, Accuracy: 65.4%\n",
      "Epoch 7, Time: 12.718282699584961, Loss: 0.04914931537192839\n",
      "Epoch 7, Accuracy: 64.64%\n",
      "Epoch 8, Time: 12.690934181213379, Loss: 0.04361958219565551\n",
      "Epoch 8, Accuracy: 63.65%\n",
      "Epoch 9, Time: 12.644108057022095, Loss: 0.038541093450355224\n",
      "Epoch 9, Accuracy: 64.34%\n",
      "Epoch 10, Time: 12.728439092636108, Loss: 0.030202734489913893\n",
      "Epoch 10, Accuracy: 64.13%\n",
      "\n",
      " Average epoch time: 12.713428807258605\n",
      "Accuracy on test set: 64.13%\n"
     ]
    },
    {
     "data": {
      "text/plain": [
       "64.13"
      ]
     },
     "execution_count": 3,
     "metadata": {},
     "output_type": "execute_result"
    }
   ],
   "source": [
    "# CNN\n",
    "CNN_1 = CNN(device='cuda')\n",
    "\n",
    "print(\"Model: \" + CNN_1.name)\n",
    "\n",
    "# Test + Eval\n",
    "criterion = nn.CrossEntropyLoss()\n",
    "optimizer = optim.Adam(CNN_1.parameters(), lr=0.001)\n",
    "num_epochs = 10 \n",
    "train_eval(CNN_1, cifar10.train_loader, cifar10.test_loader, criterion, optimizer, num_epochs, device='cuda')\n",
    "evaluate_accuracy(CNN_1, cifar10.test_loader, device='cuda')\n"
   ]
  },
  {
   "cell_type": "code",
   "execution_count": 4,
   "metadata": {},
   "outputs": [
    {
     "name": "stdout",
     "output_type": "stream",
     "text": [
      "Model: ConvNN_2D_K_All\n",
      "Epoch 1, Time: 14.820674180984497, Loss: 1.6145509222279424\n",
      "Epoch 1, Accuracy: 50.19%\n",
      "Epoch 2, Time: 14.728432893753052, Loss: 1.2804428938862003\n",
      "Epoch 2, Accuracy: 54.91%\n",
      "Epoch 3, Time: 14.735041856765747, Loss: 1.0994732722144602\n",
      "Epoch 3, Accuracy: 56.6%\n",
      "Epoch 4, Time: 14.707611560821533, Loss: 0.9282712371605436\n",
      "Epoch 4, Accuracy: 56.37%\n",
      "Epoch 5, Time: 14.745587348937988, Loss: 0.7482013383789745\n",
      "Epoch 5, Accuracy: 56.92%\n",
      "Epoch 6, Time: 14.741201162338257, Loss: 0.5719484157307678\n",
      "Epoch 6, Accuracy: 55.31%\n",
      "Epoch 7, Time: 14.747593641281128, Loss: 0.426021571354488\n",
      "Epoch 7, Accuracy: 53.9%\n",
      "Epoch 8, Time: 14.70987606048584, Loss: 0.31161376670993807\n",
      "Epoch 8, Accuracy: 55.4%\n",
      "Epoch 9, Time: 14.849580764770508, Loss: 0.2467542316793176\n",
      "Epoch 9, Accuracy: 54.39%\n",
      "Epoch 10, Time: 14.725101232528687, Loss: 0.20634892464751173\n",
      "Epoch 10, Accuracy: 54.92%\n",
      "\n",
      " Average epoch time: 14.751070070266724\n",
      "Accuracy on test set: 54.92%\n"
     ]
    },
    {
     "data": {
      "text/plain": [
       "54.92"
      ]
     },
     "execution_count": 4,
     "metadata": {},
     "output_type": "execute_result"
    }
   ],
   "source": [
    "convNN_2d_k_all = ConvNN_2D_K_All(device='cuda')\n",
    "\n",
    "print(\"Model: \" + convNN_2d_k_all.name)\n",
    "# Test + Eval\n",
    "criterion = nn.CrossEntropyLoss()\n",
    "optimizer = optim.Adam(convNN_2d_k_all.parameters(), lr=0.001)\n",
    "num_epochs = 10 \n",
    "train_eval(convNN_2d_k_all, cifar10.train_loader, cifar10.test_loader, criterion, optimizer, device='cuda')\n",
    "evaluate_accuracy(convNN_2d_k_all, cifar10.test_loader, device='cuda')\n",
    "\n"
   ]
  },
  {
   "cell_type": "code",
   "execution_count": 30,
   "metadata": {},
   "outputs": [
    {
     "name": "stdout",
     "output_type": "stream",
     "text": [
      "Model: ConvNN_2D_K_N\n",
      "Epoch 1, Time: 14.365861415863037, Loss: 0.368908526914199\n",
      "Epoch 1, Accuracy: 54.23%\n",
      "Epoch 2, Time: 14.400015830993652, Loss: 0.3042575577011956\n",
      "Epoch 2, Accuracy: 54.27%\n",
      "Epoch 3, Time: 14.461792945861816, Loss: 0.25911966837047007\n",
      "Epoch 3, Accuracy: 54.18%\n",
      "Epoch 4, Time: 14.490893363952637, Loss: 0.23349767202116034\n",
      "Epoch 4, Accuracy: 54.77%\n",
      "Epoch 5, Time: 14.466633081436157, Loss: 0.21098708243245054\n",
      "Epoch 5, Accuracy: 54.43%\n",
      "Epoch 6, Time: 14.384028196334839, Loss: 0.1852694026735204\n",
      "Epoch 6, Accuracy: 53.44%\n",
      "Epoch 7, Time: 14.555909633636475, Loss: 0.17711891250832534\n",
      "Epoch 7, Accuracy: 54.0%\n",
      "Epoch 8, Time: 14.434103012084961, Loss: 0.15867298512536165\n",
      "Epoch 8, Accuracy: 53.82%\n",
      "Epoch 9, Time: 14.474245548248291, Loss: 0.14725775081102196\n",
      "Epoch 9, Accuracy: 52.69%\n",
      "Epoch 10, Time: 14.406615495681763, Loss: 0.13635281247236883\n",
      "Epoch 10, Accuracy: 53.12%\n",
      "\n",
      " Average epoch time: 14.444009852409362\n",
      "Accuracy on test set: 53.03%\n"
     ]
    },
    {
     "data": {
      "text/plain": [
       "53.03"
      ]
     },
     "execution_count": 30,
     "metadata": {},
     "output_type": "execute_result"
    }
   ],
   "source": [
    "##### convNN_2d_k_n = ConvNN_2D_K_N(device='cuda')\n",
    "\n",
    "print(\"Model: \" + convNN_2d_k_n.name)\n",
    "# Test + Eval\n",
    "criterion = nn.CrossEntropyLoss()\n",
    "optimizer = optim.Adam(convNN_2d_k_n.parameters(), lr=0.001)\n",
    "num_epochs = 10 \n",
    "train_eval(convNN_2d_k_n, cifar10.train_loader, cifar10.test_loader, criterion, optimizer, num_epochs, device='cuda')\n",
    "evaluate_accuracy(convNN_2d_k_n, cifar10.test_loader, device='cuda')\n",
    "\n"
   ]
  },
  {
   "cell_type": "code",
   "execution_count": 6,
   "metadata": {},
   "outputs": [
    {
     "name": "stdout",
     "output_type": "stream",
     "text": [
      "Model: ConvNN_2D_Spatial_K_N\n",
      "Epoch 1, Time: 16.57978844642639, Loss: 1.6743177538332732\n",
      "Epoch 1, Accuracy: 46.21%\n",
      "Epoch 2, Time: 16.435681343078613, Loss: 1.3633129543355664\n",
      "Epoch 2, Accuracy: 52.45%\n",
      "Epoch 3, Time: 16.48380184173584, Loss: 1.2114315766202823\n",
      "Epoch 3, Accuracy: 54.57%\n",
      "Epoch 4, Time: 16.61896324157715, Loss: 1.0579471037820782\n",
      "Epoch 4, Accuracy: 56.16%\n",
      "Epoch 5, Time: 16.525754928588867, Loss: 0.882532408475266\n",
      "Epoch 5, Accuracy: 56.29%\n",
      "Epoch 6, Time: 16.448492527008057, Loss: 0.7032806082149906\n",
      "Epoch 6, Accuracy: 56.02%\n",
      "Epoch 7, Time: 16.432624101638794, Loss: 0.530134746981094\n",
      "Epoch 7, Accuracy: 55.01%\n",
      "Epoch 8, Time: 16.3676335811615, Loss: 0.3908805008167806\n",
      "Epoch 8, Accuracy: 54.86%\n",
      "Epoch 9, Time: 16.443289518356323, Loss: 0.29225038815661314\n",
      "Epoch 9, Accuracy: 54.32%\n",
      "Epoch 10, Time: 16.444823503494263, Loss: 0.23776676965986981\n",
      "Epoch 10, Accuracy: 53.49%\n",
      "\n",
      " Average epoch time: 16.478085303306578\n",
      "Accuracy on test set: 53.49%\n"
     ]
    },
    {
     "data": {
      "text/plain": [
       "53.49"
      ]
     },
     "execution_count": 6,
     "metadata": {},
     "output_type": "execute_result"
    }
   ],
   "source": [
    "convNN_2d_spatial_k_n = ConvNN_2D_Spatial_K_N(device='cuda')\n",
    "\n",
    "print(\"Model: \" + convNN_2d_spatial_k_n.name)\n",
    "# Test + Eval\n",
    "criterion = nn.CrossEntropyLoss()\n",
    "optimizer = optim.Adam(convNN_2d_spatial_k_n.parameters(), lr=0.001)\n",
    "num_epochs = 10 \n",
    "train_eval(convNN_2d_spatial_k_n, cifar10.train_loader, cifar10.test_loader, criterion, optimizer, num_epochs, device='cuda')\n",
    "evaluate_accuracy(convNN_2d_spatial_k_n, cifar10.test_loader, device='cuda')\n",
    "\n"
   ]
  },
  {
   "cell_type": "code",
   "execution_count": 28,
   "metadata": {},
   "outputs": [
    {
     "name": "stdout",
     "output_type": "stream",
     "text": [
      "Model: ConvNN_2D_Attn_K_All\n",
      "Epoch 1, Time: 14.888076782226562, Loss: 2.0321310180837235\n",
      "Epoch 1, Accuracy: 31.4%\n",
      "Epoch 2, Time: 14.902497053146362, Loss: 1.7335578441010107\n",
      "Epoch 2, Accuracy: 35.5%\n",
      "Epoch 3, Time: 14.95090389251709, Loss: 1.5870400269318115\n",
      "Epoch 3, Accuracy: 37.82%\n",
      "Epoch 4, Time: 14.971234798431396, Loss: 1.4813148786344796\n",
      "Epoch 4, Accuracy: 40.16%\n",
      "Epoch 5, Time: 14.962335586547852, Loss: 1.396911102487608\n",
      "Epoch 5, Accuracy: 42.1%\n",
      "Epoch 6, Time: 14.928930044174194, Loss: 1.3244442917654276\n",
      "Epoch 6, Accuracy: 42.01%\n",
      "Epoch 7, Time: 14.960373163223267, Loss: 1.2640728916963349\n",
      "Epoch 7, Accuracy: 42.02%\n",
      "Epoch 8, Time: 14.958537578582764, Loss: 1.1995922849916132\n",
      "Epoch 8, Accuracy: 41.81%\n",
      "Epoch 9, Time: 14.988614559173584, Loss: 1.1457750192078788\n",
      "Epoch 9, Accuracy: 41.25%\n",
      "Epoch 10, Time: 14.95819902420044, Loss: 1.0993209940850581\n",
      "Epoch 10, Accuracy: 41.21%\n",
      "\n",
      " Average epoch time: 14.946970248222351\n",
      "Accuracy on test set: 41.21%\n"
     ]
    },
    {
     "data": {
      "text/plain": [
       "41.21"
      ]
     },
     "execution_count": 28,
     "metadata": {},
     "output_type": "execute_result"
    }
   ],
   "source": [
    "convNN_2d_attn_k_all = ConvNN_2D_Attn_K_All(device='cuda')\n",
    "\n",
    "print(\"Model: \" + convNN_2d_attn_k_all.name)\n",
    "# Test + Eval\n",
    "criterion = nn.CrossEntropyLoss()\n",
    "optimizer = optim.Adam(convNN_2d_attn_k_all.parameters(), lr=0.001)\n",
    "num_epochs = 10 \n",
    "train_eval(convNN_2d_attn_k_all, cifar10.train_loader, cifar10.test_loader, criterion, optimizer, num_epochs, device='cuda')\n",
    "evaluate_accuracy(convNN_2d_attn_k_all, cifar10.test_loader, device='cuda')\n",
    "\n"
   ]
  },
  {
   "cell_type": "code",
   "execution_count": 8,
   "metadata": {},
   "outputs": [
    {
     "name": "stdout",
     "output_type": "stream",
     "text": [
      "Model: ConvNN_2D_Attn_K_N\n",
      "Epoch 1, Time: 15.085160732269287, Loss: 1.8660166380960312\n",
      "Epoch 1, Accuracy: 43.69%\n",
      "Epoch 2, Time: 15.101516723632812, Loss: 1.440837867424616\n",
      "Epoch 2, Accuracy: 51.88%\n",
      "Epoch 3, Time: 15.095935106277466, Loss: 1.2747510552711194\n",
      "Epoch 3, Accuracy: 54.94%\n",
      "Epoch 4, Time: 14.931022882461548, Loss: 1.165566858961759\n",
      "Epoch 4, Accuracy: 57.38%\n",
      "Epoch 5, Time: 15.055379152297974, Loss: 1.085424052022607\n",
      "Epoch 5, Accuracy: 58.46%\n",
      "Epoch 6, Time: 15.24699878692627, Loss: 1.0052905038494588\n",
      "Epoch 6, Accuracy: 58.49%\n",
      "Epoch 7, Time: 15.050446033477783, Loss: 0.9381179503925011\n",
      "Epoch 7, Accuracy: 58.51%\n",
      "Epoch 8, Time: 15.07783555984497, Loss: 0.8608282011793092\n",
      "Epoch 8, Accuracy: 59.37%\n",
      "Epoch 9, Time: 15.383035659790039, Loss: 0.7880333792370604\n",
      "Epoch 9, Accuracy: 58.96%\n",
      "Epoch 10, Time: 15.029524326324463, Loss: 0.7146053483419101\n",
      "Epoch 10, Accuracy: 59.13%\n",
      "\n",
      " Average epoch time: 15.105685496330262\n",
      "Accuracy on test set: 59.18%\n"
     ]
    },
    {
     "data": {
      "text/plain": [
       "59.18"
      ]
     },
     "execution_count": 8,
     "metadata": {},
     "output_type": "execute_result"
    }
   ],
   "source": [
    "convNN_2d_attn_k_n = ConvNN_2D_Attn_K_N(device='cuda')\n",
    "\n",
    "print(\"Model: \" + convNN_2d_attn_k_n.name)\n",
    "# Test + Eval\n",
    "criterion = nn.CrossEntropyLoss()\n",
    "optimizer = optim.Adam(convNN_2d_attn_k_n.parameters(), lr=0.001)\n",
    "num_epochs = 10 \n",
    "train_eval(convNN_2d_attn_k_n, cifar10.train_loader, cifar10.test_loader, criterion, optimizer, num_epochs, device='cuda')\n",
    "evaluate_accuracy(convNN_2d_attn_k_n, cifar10.test_loader, device='cuda')\n",
    "\n"
   ]
  },
  {
   "cell_type": "code",
   "execution_count": 3,
   "metadata": {},
   "outputs": [
    {
     "name": "stdout",
     "output_type": "stream",
     "text": [
      "Model: ConvNN_2D_Attn_Spatial_K_N\n",
      "Epoch 1, Time: 18.539430856704712, Loss: 1.6731180400799608\n",
      "Epoch 1, Accuracy: 50.71%\n",
      "Epoch 2, Time: 18.255227088928223, Loss: 1.2977877474959245\n",
      "Epoch 2, Accuracy: 54.54%\n",
      "Epoch 3, Time: 17.386725664138794, Loss: 1.1540583161746754\n",
      "Epoch 3, Accuracy: 56.83%\n",
      "Epoch 4, Time: 16.44999861717224, Loss: 1.0404438033433216\n",
      "Epoch 4, Accuracy: 57.57%\n",
      "Epoch 5, Time: 18.123422861099243, Loss: 0.9392706033442636\n",
      "Epoch 5, Accuracy: 57.3%\n",
      "Epoch 6, Time: 17.912283658981323, Loss: 0.8384495393546951\n",
      "Epoch 6, Accuracy: 57.89%\n",
      "Epoch 7, Time: 17.22597908973694, Loss: 0.7373755981245309\n",
      "Epoch 7, Accuracy: 59.26%\n",
      "Epoch 8, Time: 17.67211079597473, Loss: 0.631964992722282\n",
      "Epoch 8, Accuracy: 58.51%\n",
      "Epoch 9, Time: 15.868119955062866, Loss: 0.5315981706046997\n",
      "Epoch 9, Accuracy: 58.59%\n",
      "Epoch 10, Time: 15.878523588180542, Loss: 0.4477605713183618\n",
      "Epoch 10, Accuracy: 57.14%\n",
      "\n",
      " Average epoch time: 17.331182217597963\n",
      "Accuracy on test set: 57.14%\n"
     ]
    },
    {
     "data": {
      "text/plain": [
       "57.14"
      ]
     },
     "execution_count": 3,
     "metadata": {},
     "output_type": "execute_result"
    }
   ],
   "source": [
    "convNN_2d_attn_spatial_k_n = ConvNN_2D_Attn_Spatial_K_N(device='cuda')\n",
    "\n",
    "print(\"Model: \" + convNN_2d_attn_spatial_k_n.name)\n",
    "# Test + Eval\n",
    "criterion = nn.CrossEntropyLoss()\n",
    "optimizer = optim.Adam(convNN_2d_attn_spatial_k_n.parameters(), lr=0.001)\n",
    "num_epochs = 10 \n",
    "train_eval(convNN_2d_attn_spatial_k_n, cifar10.train_loader, cifar10.test_loader, criterion, optimizer, num_epochs, device='cuda')\n",
    "evaluate_accuracy(convNN_2d_attn_spatial_k_n, cifar10.test_loader, device='cuda')\n",
    "\n"
   ]
  },
  {
   "cell_type": "code",
   "execution_count": 9,
   "metadata": {},
   "outputs": [
    {
     "name": "stdout",
     "output_type": "stream",
     "text": [
      "Model: ConvNN_2D_Attn_V_K_All\n",
      "Epoch 1, Time: 15.044618844985962, Loss: 2.3045921444588\n",
      "Epoch 1, Accuracy: 10.0%\n",
      "Epoch 2, Time: 15.042774200439453, Loss: 2.110429497935888\n",
      "Epoch 2, Accuracy: 38.46%\n",
      "Epoch 3, Time: 15.061270236968994, Loss: 1.6242710310784751\n",
      "Epoch 3, Accuracy: 43.82%\n",
      "Epoch 4, Time: 15.009025812149048, Loss: 1.4386750810286577\n",
      "Epoch 4, Accuracy: 49.48%\n",
      "Epoch 5, Time: 15.07931637763977, Loss: 1.3372943601797305\n",
      "Epoch 5, Accuracy: 49.66%\n",
      "Epoch 6, Time: 15.087085723876953, Loss: 1.2645311886087403\n",
      "Epoch 6, Accuracy: 50.83%\n",
      "Epoch 7, Time: 15.080173015594482, Loss: 1.1938772505658972\n",
      "Epoch 7, Accuracy: 51.8%\n",
      "Epoch 8, Time: 14.973695516586304, Loss: 1.1369556680207362\n",
      "Epoch 8, Accuracy: 52.51%\n",
      "Epoch 9, Time: 15.056409358978271, Loss: 1.072515625020732\n",
      "Epoch 9, Accuracy: 53.22%\n",
      "Epoch 10, Time: 15.053013324737549, Loss: 1.0176663177702434\n",
      "Epoch 10, Accuracy: 53.17%\n",
      "\n",
      " Average epoch time: 15.048738241195679\n",
      "Accuracy on test set: 53.17%\n"
     ]
    },
    {
     "data": {
      "text/plain": [
       "53.17"
      ]
     },
     "execution_count": 9,
     "metadata": {},
     "output_type": "execute_result"
    }
   ],
   "source": [
    "convNN_2d_attn_v_k_all = ConvNN_2D_Attn_V_K_All(device='cuda')\n",
    "\n",
    "print(\"Model: \" + convNN_2d_attn_v_k_all.name)\n",
    "# Test + Eval\n",
    "criterion = nn.CrossEntropyLoss()\n",
    "optimizer = optim.Adam(convNN_2d_attn_v_k_all.parameters(), lr=0.001)\n",
    "num_epochs = 10 \n",
    "train_eval(convNN_2d_attn_v_k_all, cifar10.train_loader, cifar10.test_loader, criterion, optimizer, num_epochs, device='cuda')\n",
    "evaluate_accuracy(convNN_2d_attn_v_k_all, cifar10.test_loader, device='cuda')\n",
    "\n"
   ]
  },
  {
   "cell_type": "code",
   "execution_count": 10,
   "metadata": {},
   "outputs": [
    {
     "name": "stdout",
     "output_type": "stream",
     "text": [
      "Model: ConvNN_2D_Attn_V_K_N\n",
      "Epoch 1, Time: 15.026940107345581, Loss: 1.85287959252477\n",
      "Epoch 1, Accuracy: 44.76%\n",
      "Epoch 2, Time: 15.012590408325195, Loss: 1.4258889903497818\n",
      "Epoch 2, Accuracy: 52.94%\n",
      "Epoch 3, Time: 14.908725261688232, Loss: 1.2595357192904137\n",
      "Epoch 3, Accuracy: 54.78%\n",
      "Epoch 4, Time: 15.023553609848022, Loss: 1.1603189472042386\n",
      "Epoch 4, Accuracy: 56.25%\n",
      "Epoch 5, Time: 15.058547019958496, Loss: 1.0783604449018493\n",
      "Epoch 5, Accuracy: 58.68%\n",
      "Epoch 6, Time: 14.995126962661743, Loss: 1.001171942104769\n",
      "Epoch 6, Accuracy: 58.88%\n",
      "Epoch 7, Time: 14.927863359451294, Loss: 0.9287115610240365\n",
      "Epoch 7, Accuracy: 58.49%\n",
      "Epoch 8, Time: 14.828267335891724, Loss: 0.8581681941323878\n",
      "Epoch 8, Accuracy: 57.89%\n",
      "Epoch 9, Time: 14.977336645126343, Loss: 0.7812272598752585\n",
      "Epoch 9, Accuracy: 58.94%\n",
      "Epoch 10, Time: 15.02796983718872, Loss: 0.7102841951353166\n",
      "Epoch 10, Accuracy: 60.05%\n",
      "\n",
      " Average epoch time: 14.978692054748535\n",
      "Accuracy on test set: 60.1%\n"
     ]
    },
    {
     "data": {
      "text/plain": [
       "60.1"
      ]
     },
     "execution_count": 10,
     "metadata": {},
     "output_type": "execute_result"
    }
   ],
   "source": [
    "convNN_2d_attn_v_k_n = ConvNN_2D_Attn_V_K_N(device='cuda')\n",
    "\n",
    "print(\"Model: \" + convNN_2d_attn_v_k_n.name)\n",
    "# Test + Eval\n",
    "criterion = nn.CrossEntropyLoss()\n",
    "optimizer = optim.Adam(convNN_2d_attn_v_k_n.parameters(), lr=0.001)\n",
    "num_epochs = 10 \n",
    "train_eval(convNN_2d_attn_v_k_n, cifar10.train_loader, cifar10.test_loader, criterion, optimizer, num_epochs, device='cuda')\n",
    "evaluate_accuracy(convNN_2d_attn_v_k_n, cifar10.test_loader, device='cuda')\n",
    "\n"
   ]
  },
  {
   "cell_type": "code",
   "execution_count": 11,
   "metadata": {},
   "outputs": [
    {
     "name": "stdout",
     "output_type": "stream",
     "text": [
      "4\n",
      "Model: Attention_2D , Head = 1\n",
      "Epoch 1, Time: 17.90118408203125, Loss: 1.7660272991870676\n",
      "Epoch 1, Accuracy: 45.19%\n",
      "Epoch 2, Time: 17.786011934280396, Loss: 1.4418324665035434\n",
      "Epoch 2, Accuracy: 49.65%\n",
      "Epoch 3, Time: 17.845365285873413, Loss: 1.2935939368689457\n",
      "Epoch 3, Accuracy: 52.26%\n",
      "Epoch 4, Time: 17.871406078338623, Loss: 1.1691761160140757\n",
      "Epoch 4, Accuracy: 55.19%\n",
      "Epoch 5, Time: 17.850074291229248, Loss: 1.0271259614116395\n",
      "Epoch 5, Accuracy: 54.9%\n",
      "Epoch 6, Time: 17.855683088302612, Loss: 0.8647445077862581\n",
      "Epoch 6, Accuracy: 53.11%\n",
      "Epoch 7, Time: 17.799459218978882, Loss: 0.6936883794529664\n",
      "Epoch 7, Accuracy: 53.69%\n",
      "Epoch 8, Time: 17.83483600616455, Loss: 0.5268684677074632\n",
      "Epoch 8, Accuracy: 53.56%\n",
      "Epoch 9, Time: 17.813193321228027, Loss: 0.3890991448174657\n",
      "Epoch 9, Accuracy: 54.86%\n",
      "Epoch 10, Time: 17.843381881713867, Loss: 0.31386028661790405\n",
      "Epoch 10, Accuracy: 52.78%\n",
      "\n",
      " Average epoch time: 17.840059518814087\n",
      "Accuracy on test set: 52.78%\n"
     ]
    },
    {
     "data": {
      "text/plain": [
       "52.78"
      ]
     },
     "execution_count": 11,
     "metadata": {},
     "output_type": "execute_result"
    }
   ],
   "source": [
    "attention_1_heads = Attention_2D(device='cuda')\n",
    "print(attention_1_heads.num_heads)\n",
    "\n",
    "print(\"Model: \" + attention_1_heads.name, \", Head = 1\")\n",
    "# Test + Eval\n",
    "criterion = nn.CrossEntropyLoss()\n",
    "optimizer = optim.Adam(attention_1_heads.parameters(), lr=0.001)\n",
    "num_epochs = 10\n",
    "train_eval(attention_1_heads, cifar10.train_loader, cifar10.test_loader, criterion, optimizer, num_epochs, device='cuda')\n",
    "evaluate_accuracy(attention_1_heads, cifar10.test_loader, device='cuda')"
   ]
  },
  {
   "cell_type": "code",
   "execution_count": 12,
   "metadata": {},
   "outputs": [
    {
     "name": "stdout",
     "output_type": "stream",
     "text": [
      "2\n",
      "Model: Attention_2D , Head = 2\n",
      "Epoch 1, Time: 16.333839893341064, Loss: 1.8113927335080588\n",
      "Epoch 1, Accuracy: 43.2%\n",
      "Epoch 2, Time: 16.294353723526, Loss: 1.4901482580262986\n",
      "Epoch 2, Accuracy: 47.02%\n",
      "Epoch 3, Time: 16.191232919692993, Loss: 1.3438001539548645\n",
      "Epoch 3, Accuracy: 51.65%\n",
      "Epoch 4, Time: 16.1906156539917, Loss: 1.23962049906516\n",
      "Epoch 4, Accuracy: 52.9%\n",
      "Epoch 5, Time: 16.179216861724854, Loss: 1.1246016057555939\n",
      "Epoch 5, Accuracy: 53.71%\n",
      "Epoch 6, Time: 16.273338079452515, Loss: 0.9985289296225819\n",
      "Epoch 6, Accuracy: 52.43%\n",
      "Epoch 7, Time: 16.22544503211975, Loss: 0.8637348570863305\n",
      "Epoch 7, Accuracy: 52.41%\n",
      "Epoch 8, Time: 16.239612102508545, Loss: 0.707221192929446\n",
      "Epoch 8, Accuracy: 51.38%\n",
      "Epoch 9, Time: 16.224329948425293, Loss: 0.5688938993169829\n",
      "Epoch 9, Accuracy: 51.35%\n",
      "Epoch 10, Time: 16.17567729949951, Loss: 0.45874648788929595\n",
      "Epoch 10, Accuracy: 50.54%\n",
      "\n",
      " Average epoch time: 16.232766151428223\n",
      "Accuracy on test set: 50.54%\n"
     ]
    },
    {
     "data": {
      "text/plain": [
       "50.54"
      ]
     },
     "execution_count": 12,
     "metadata": {},
     "output_type": "execute_result"
    }
   ],
   "source": [
    "attention_2_heads = Attention_2D(device='cuda', num_heads=2)\n",
    "print(attention_2_heads.num_heads)\n",
    "\n",
    "print(\"Model: \" + attention_2_heads.name, \", Head = 2\")\n",
    "# Test + Eval\n",
    "criterion = nn.CrossEntropyLoss()\n",
    "optimizer = optim.Adam(attention_2_heads.parameters(), lr=0.001)\n",
    "num_epochs = 10\n",
    "train_eval(attention_2_heads, cifar10.train_loader, cifar10.test_loader, criterion, optimizer, num_epochs, device='cuda')\n",
    "evaluate_accuracy(attention_2_heads, cifar10.test_loader, device='cuda')"
   ]
  },
  {
   "cell_type": "code",
   "execution_count": 13,
   "metadata": {},
   "outputs": [
    {
     "name": "stdout",
     "output_type": "stream",
     "text": [
      "4\n",
      "Model: Attention_2D , Head = 4\n",
      "Epoch 1, Time: 17.671181201934814, Loss: 1.7859170142646945\n",
      "Epoch 1, Accuracy: 40.71%\n",
      "Epoch 2, Time: 17.717200994491577, Loss: 1.4764905303640439\n",
      "Epoch 2, Accuracy: 47.21%\n",
      "Epoch 3, Time: 17.729209423065186, Loss: 1.3244047722090846\n",
      "Epoch 3, Accuracy: 51.34%\n",
      "Epoch 4, Time: 17.678329467773438, Loss: 1.1845063934545688\n",
      "Epoch 4, Accuracy: 53.74%\n",
      "Epoch 5, Time: 17.730648040771484, Loss: 1.0066655274394833\n",
      "Epoch 5, Accuracy: 52.88%\n",
      "Epoch 6, Time: 17.647478103637695, Loss: 0.7999234215149185\n",
      "Epoch 6, Accuracy: 54.79%\n",
      "Epoch 7, Time: 17.72284746170044, Loss: 0.5598919992632878\n",
      "Epoch 7, Accuracy: 53.83%\n",
      "Epoch 8, Time: 17.651407718658447, Loss: 0.3794927515680223\n",
      "Epoch 8, Accuracy: 52.95%\n",
      "Epoch 9, Time: 17.66194248199463, Loss: 0.2699652855544139\n",
      "Epoch 9, Accuracy: 52.61%\n",
      "Epoch 10, Time: 17.6919424533844, Loss: 0.20413927668634127\n",
      "Epoch 10, Accuracy: 52.36%\n",
      "\n",
      " Average epoch time: 17.69021873474121\n",
      "Accuracy on test set: 52.36%\n"
     ]
    },
    {
     "data": {
      "text/plain": [
       "52.36"
      ]
     },
     "execution_count": 13,
     "metadata": {},
     "output_type": "execute_result"
    }
   ],
   "source": [
    "attention_4_heads = Attention_2D(device='cuda', num_heads=4)\n",
    "print(attention_4_heads.num_heads)\n",
    "\n",
    "print(\"Model: \" + attention_4_heads.name, \", Head = 4\")\n",
    "# Test + Eval\n",
    "criterion = nn.CrossEntropyLoss()\n",
    "optimizer = optim.Adam(attention_4_heads.parameters(), lr=0.001)\n",
    "num_epochs = 10\n",
    "train_eval(attention_4_heads, cifar10.train_loader, cifar10.test_loader, criterion, optimizer, num_epochs, device='cuda')\n",
    "evaluate_accuracy(attention_4_heads, cifar10.test_loader, device='cuda')"
   ]
  },
  {
   "cell_type": "code",
   "execution_count": 14,
   "metadata": {},
   "outputs": [
    {
     "name": "stdout",
     "output_type": "stream",
     "text": [
      "8\n",
      "Model: Attention_2D , Head = 8\n",
      "Epoch 1, Time: 20.632131576538086, Loss: 1.7828131048270808\n",
      "Epoch 1, Accuracy: 42.83%\n",
      "Epoch 2, Time: 20.685830116271973, Loss: 1.4446783093235376\n",
      "Epoch 2, Accuracy: 49.82%\n",
      "Epoch 3, Time: 20.604631662368774, Loss: 1.272543771340109\n",
      "Epoch 3, Accuracy: 53.93%\n",
      "Epoch 4, Time: 20.6738383769989, Loss: 1.1445443582961627\n",
      "Epoch 4, Accuracy: 55.83%\n",
      "Epoch 5, Time: 20.575424909591675, Loss: 0.9920281158841174\n",
      "Epoch 5, Accuracy: 55.31%\n",
      "Epoch 6, Time: 20.562517881393433, Loss: 0.8173187574385987\n",
      "Epoch 6, Accuracy: 56.45%\n",
      "Epoch 7, Time: 20.519652843475342, Loss: 0.6278725388409842\n",
      "Epoch 7, Accuracy: 55.21%\n",
      "Epoch 8, Time: 20.53669500350952, Loss: 0.4618284313575081\n",
      "Epoch 8, Accuracy: 55.31%\n",
      "Epoch 9, Time: 20.48596453666687, Loss: 0.3466169003806913\n",
      "Epoch 9, Accuracy: 54.46%\n",
      "Epoch 10, Time: 20.50154447555542, Loss: 0.26065587102795196\n",
      "Epoch 10, Accuracy: 55.03%\n",
      "\n",
      " Average epoch time: 20.577823138237\n",
      "Accuracy on test set: 55.03%\n"
     ]
    },
    {
     "data": {
      "text/plain": [
       "55.03"
      ]
     },
     "execution_count": 14,
     "metadata": {},
     "output_type": "execute_result"
    }
   ],
   "source": [
    "attention_8_heads = Attention_2D(device='cuda', num_heads=8)\n",
    "print(attention_8_heads.num_heads)\n",
    "\n",
    "print(\"Model: \" + attention_8_heads.name, \", Head = 8\")\n",
    "# Test + Eval\n",
    "criterion = nn.CrossEntropyLoss()\n",
    "optimizer = optim.Adam(attention_8_heads.parameters(), lr=0.001)\n",
    "num_epochs = 10\n",
    "train_eval(attention_8_heads, cifar10.train_loader, cifar10.test_loader, criterion, optimizer, num_epochs, device='cuda')\n",
    "evaluate_accuracy(attention_8_heads, cifar10.test_loader, device='cuda')"
   ]
  },
  {
   "cell_type": "code",
   "execution_count": 15,
   "metadata": {},
   "outputs": [
    {
     "name": "stdout",
     "output_type": "stream",
     "text": [
      "16\n",
      "Model: Attention_2D , Head = 16\n",
      "Epoch 1, Time: 26.520724296569824, Loss: 1.8349769847167423\n",
      "Epoch 1, Accuracy: 39.15%\n",
      "Epoch 2, Time: 26.568249225616455, Loss: 1.5378212665810305\n",
      "Epoch 2, Accuracy: 47.85%\n",
      "Epoch 3, Time: 26.58021831512451, Loss: 1.3442169587935329\n",
      "Epoch 3, Accuracy: 50.36%\n",
      "Epoch 4, Time: 26.55336046218872, Loss: 1.2100024327750096\n",
      "Epoch 4, Accuracy: 55.82%\n",
      "Epoch 5, Time: 26.562522888183594, Loss: 1.0874639426350898\n",
      "Epoch 5, Accuracy: 56.08%\n",
      "Epoch 6, Time: 26.52017831802368, Loss: 0.9649951256754453\n",
      "Epoch 6, Accuracy: 56.98%\n",
      "Epoch 7, Time: 26.52687382698059, Loss: 0.8233356113019197\n",
      "Epoch 7, Accuracy: 56.97%\n",
      "Epoch 8, Time: 26.536901712417603, Loss: 0.6690055099137299\n",
      "Epoch 8, Accuracy: 57.37%\n",
      "Epoch 9, Time: 26.481362104415894, Loss: 0.5206213476865188\n",
      "Epoch 9, Accuracy: 57.03%\n",
      "Epoch 10, Time: 26.443547248840332, Loss: 0.3911360199646572\n",
      "Epoch 10, Accuracy: 56.63%\n",
      "\n",
      " Average epoch time: 26.52939383983612\n",
      "Accuracy on test set: 56.63%\n"
     ]
    },
    {
     "data": {
      "text/plain": [
       "56.63"
      ]
     },
     "execution_count": 15,
     "metadata": {},
     "output_type": "execute_result"
    }
   ],
   "source": [
    "attention_16_heads = Attention_2D(device='cuda', num_heads=16)\n",
    "print(attention_16_heads.num_heads)\n",
    "\n",
    "print(\"Model: \" + attention_16_heads.name, \", Head = 16\")\n",
    "# Test + Eval\n",
    "criterion = nn.CrossEntropyLoss()\n",
    "optimizer = optim.Adam(attention_16_heads.parameters(), lr=0.001)\n",
    "num_epochs = 10\n",
    "train_eval(attention_16_heads, cifar10.train_loader, cifar10.test_loader, criterion, optimizer, num_epochs, device='cuda')\n",
    "evaluate_accuracy(attention_16_heads, cifar10.test_loader, device='cuda')"
   ]
  },
  {
   "cell_type": "code",
   "execution_count": 16,
   "metadata": {},
   "outputs": [
    {
     "name": "stdout",
     "output_type": "stream",
     "text": [
      "32\n",
      "Model: Attention_2D , Head = 32\n",
      "Epoch 1, Time: 38.38381338119507, Loss: 1.8520103289038323\n",
      "Epoch 1, Accuracy: 37.7%\n",
      "Epoch 2, Time: 38.47139310836792, Loss: 1.6027081390780866\n",
      "Epoch 2, Accuracy: 45.77%\n",
      "Epoch 3, Time: 38.411816120147705, Loss: 1.3692535168069708\n",
      "Epoch 3, Accuracy: 51.69%\n",
      "Epoch 4, Time: 38.49671959877014, Loss: 1.2146005314176955\n",
      "Epoch 4, Accuracy: 53.69%\n",
      "Epoch 5, Time: 38.455705642700195, Loss: 1.0784654687432682\n",
      "Epoch 5, Accuracy: 57.26%\n",
      "Epoch 6, Time: 38.47388410568237, Loss: 0.948102064373548\n",
      "Epoch 6, Accuracy: 59.19%\n",
      "Epoch 7, Time: 38.43295693397522, Loss: 0.794292766915258\n",
      "Epoch 7, Accuracy: 58.36%\n",
      "Epoch 8, Time: 38.415457010269165, Loss: 0.6294900802776332\n",
      "Epoch 8, Accuracy: 56.85%\n",
      "Epoch 9, Time: 38.450018882751465, Loss: 0.45574451847683134\n",
      "Epoch 9, Accuracy: 57.07%\n",
      "Epoch 10, Time: 38.469589948654175, Loss: 0.334962966782815\n",
      "Epoch 10, Accuracy: 56.88%\n",
      "\n",
      " Average epoch time: 38.446135473251346\n",
      "Accuracy on test set: 56.88%\n"
     ]
    },
    {
     "data": {
      "text/plain": [
       "56.88"
      ]
     },
     "execution_count": 16,
     "metadata": {},
     "output_type": "execute_result"
    }
   ],
   "source": [
    "attention_32_heads = Attention_2D(device='cuda', num_heads=32)\n",
    "print(attention_32_heads.num_heads)\n",
    "\n",
    "print(\"Model: \" + attention_32_heads.name, \", Head = 32\")\n",
    "# Test + Eval\n",
    "criterion = nn.CrossEntropyLoss()\n",
    "optimizer = optim.Adam(attention_32_heads.parameters(), lr=0.001)\n",
    "num_epochs = 10\n",
    "train_eval(attention_32_heads, cifar10.train_loader, cifar10.test_loader, criterion, optimizer, num_epochs, device='cuda')\n",
    "evaluate_accuracy(attention_32_heads, cifar10.test_loader, device='cuda')"
   ]
  },
  {
   "cell_type": "markdown",
   "metadata": {},
   "source": [
    "### Branching Network \n",
    "- Attention with 4 heads "
   ]
  },
  {
   "cell_type": "markdown",
   "metadata": {},
   "source": [
    "### i. Conv2d + ConvNN"
   ]
  },
  {
   "cell_type": "code",
   "execution_count": 17,
   "metadata": {},
   "outputs": [
    {
     "name": "stdout",
     "output_type": "stream",
     "text": [
      "Model: B_Conv2d_ConvNN_K_All\n",
      "Epoch 1, Time: 15.146136999130249, Loss: 1.3907556139752077\n",
      "Epoch 1, Accuracy: 56.51%\n",
      "Epoch 2, Time: 15.088061809539795, Loss: 0.9584259125582703\n",
      "Epoch 2, Accuracy: 66.04%\n",
      "Epoch 3, Time: 15.161945819854736, Loss: 0.6083839788385059\n",
      "Epoch 3, Accuracy: 65.54%\n",
      "Epoch 4, Time: 15.196146965026855, Loss: 0.2735183844080819\n",
      "Epoch 4, Accuracy: 64.59%\n",
      "Epoch 5, Time: 15.18152117729187, Loss: 0.14952447223941537\n",
      "Epoch 5, Accuracy: 65.77%\n",
      "Epoch 6, Time: 15.12636113166809, Loss: 0.10711398406509225\n",
      "Epoch 6, Accuracy: 64.68%\n",
      "Epoch 7, Time: 15.174554586410522, Loss: 0.10043903349486687\n",
      "Epoch 7, Accuracy: 64.49%\n",
      "Epoch 8, Time: 15.20834755897522, Loss: 0.09021941107049312\n",
      "Epoch 8, Accuracy: 64.74%\n",
      "Epoch 9, Time: 15.215792894363403, Loss: 0.07712518526559763\n",
      "Epoch 9, Accuracy: 65.78%\n",
      "Epoch 10, Time: 15.186728715896606, Loss: 0.07785405917428112\n",
      "Epoch 10, Accuracy: 65.46%\n",
      "\n",
      " Average epoch time: 15.168559765815735\n",
      "Accuracy on test set: 65.46%\n"
     ]
    },
    {
     "data": {
      "text/plain": [
       "65.46"
      ]
     },
     "execution_count": 17,
     "metadata": {},
     "output_type": "execute_result"
    }
   ],
   "source": [
    "b_conv2d_convnn_k_all = B_Conv2d_ConvNN_K_All(device='cuda')\n",
    "\n",
    "print(\"Model: \" + b_conv2d_convnn_k_all.name)\n",
    "# Test + Eval\n",
    "criterion = nn.CrossEntropyLoss()\n",
    "optimizer = optim.Adam(b_conv2d_convnn_k_all.parameters(), lr=0.001)\n",
    "num_epochs = 10 \n",
    "train_eval(b_conv2d_convnn_k_all, cifar10.train_loader, cifar10.test_loader, criterion, optimizer, num_epochs, device='cuda')\n",
    "evaluate_accuracy(b_conv2d_convnn_k_all, cifar10.test_loader, device='cuda')\n"
   ]
  },
  {
   "cell_type": "code",
   "execution_count": 18,
   "metadata": {},
   "outputs": [
    {
     "name": "stdout",
     "output_type": "stream",
     "text": [
      "Model: B_Conv2d_ConvNN_K_N\n",
      "Epoch 1, Time: 15.003881931304932, Loss: 1.4212796678171133\n",
      "Epoch 1, Accuracy: 57.73%\n",
      "Epoch 2, Time: 15.004122018814087, Loss: 0.9479400814341767\n",
      "Epoch 2, Accuracy: 65.04%\n",
      "Epoch 3, Time: 14.971641063690186, Loss: 0.6085635206431074\n",
      "Epoch 3, Accuracy: 67.16%\n",
      "Epoch 4, Time: 14.952918767929077, Loss: 0.28316745096269774\n",
      "Epoch 4, Accuracy: 66.15%\n",
      "Epoch 5, Time: 15.044468641281128, Loss: 0.13578333114357213\n",
      "Epoch 5, Accuracy: 66.96%\n",
      "Epoch 6, Time: 14.99183964729309, Loss: 0.11139490856947448\n",
      "Epoch 6, Accuracy: 65.78%\n",
      "Epoch 7, Time: 15.019554615020752, Loss: 0.09723496857775694\n",
      "Epoch 7, Accuracy: 64.97%\n",
      "Epoch 8, Time: 15.088429927825928, Loss: 0.07767152317556673\n",
      "Epoch 8, Accuracy: 65.7%\n",
      "Epoch 9, Time: 15.064279794692993, Loss: 0.07612294727183706\n",
      "Epoch 9, Accuracy: 65.48%\n",
      "Epoch 10, Time: 14.958719253540039, Loss: 0.06669937483335148\n",
      "Epoch 10, Accuracy: 65.92%\n",
      "\n",
      " Average epoch time: 15.009985566139221\n",
      "Accuracy on test set: 66.01%\n"
     ]
    },
    {
     "data": {
      "text/plain": [
       "66.01"
      ]
     },
     "execution_count": 18,
     "metadata": {},
     "output_type": "execute_result"
    }
   ],
   "source": [
    "b_conv2d_convnn_k_n = B_Conv2d_ConvNN_K_N(device='cuda')\n",
    "\n",
    "print(\"Model: \" + b_conv2d_convnn_k_n.name)\n",
    "# Test + Eval\n",
    "criterion = nn.CrossEntropyLoss()\n",
    "optimizer = optim.Adam(b_conv2d_convnn_k_n.parameters(), lr=0.001)\n",
    "num_epochs = 10 \n",
    "train_eval(b_conv2d_convnn_k_n, cifar10.train_loader, cifar10.test_loader, criterion, optimizer, num_epochs, device='cuda')\n",
    "evaluate_accuracy(b_conv2d_convnn_k_n, cifar10.test_loader, device='cuda')\n"
   ]
  },
  {
   "cell_type": "code",
   "execution_count": 19,
   "metadata": {},
   "outputs": [
    {
     "name": "stdout",
     "output_type": "stream",
     "text": [
      "Model: B_Conv2d_ConvNN_Spatial_K_N\n",
      "Epoch 1, Time: 16.725900411605835, Loss: 1.3971421575302359\n",
      "Epoch 1, Accuracy: 57.74%\n",
      "Epoch 2, Time: 16.978302478790283, Loss: 0.9344653962060924\n",
      "Epoch 2, Accuracy: 65.81%\n",
      "Epoch 3, Time: 16.877861738204956, Loss: 0.554680070399171\n",
      "Epoch 3, Accuracy: 67.61%\n",
      "Epoch 4, Time: 16.84161615371704, Loss: 0.2192307335498464\n",
      "Epoch 4, Accuracy: 65.7%\n",
      "Epoch 5, Time: 16.800964832305908, Loss: 0.12589818665929273\n",
      "Epoch 5, Accuracy: 66.41%\n",
      "Epoch 6, Time: 16.753512620925903, Loss: 0.09763808919133528\n",
      "Epoch 6, Accuracy: 65.7%\n",
      "Epoch 7, Time: 16.753594160079956, Loss: 0.0958055627643657\n",
      "Epoch 7, Accuracy: 66.61%\n",
      "Epoch 8, Time: 16.747591495513916, Loss: 0.07634881059171708\n",
      "Epoch 8, Accuracy: 65.79%\n",
      "Epoch 9, Time: 16.658479928970337, Loss: 0.0869992403082771\n",
      "Epoch 9, Accuracy: 66.89%\n",
      "Epoch 10, Time: 16.70561909675598, Loss: 0.07284263432387064\n",
      "Epoch 10, Accuracy: 67.13%\n",
      "\n",
      " Average epoch time: 16.784344291687013\n",
      "Accuracy on test set: 67.13%\n"
     ]
    },
    {
     "data": {
      "text/plain": [
       "67.13"
      ]
     },
     "execution_count": 19,
     "metadata": {},
     "output_type": "execute_result"
    }
   ],
   "source": [
    "b_conv2d_convnn_spatial_k_all = B_Conv2d_ConvNN_Spatial_K_N(device='cuda')\n",
    "\n",
    "print(\"Model: \" + b_conv2d_convnn_spatial_k_all.name)\n",
    "# Test + Eval\n",
    "criterion = nn.CrossEntropyLoss() \n",
    "optimizer = optim.Adam(b_conv2d_convnn_spatial_k_all.parameters(), lr=0.001)\n",
    "num_epochs = 10 \n",
    "train_eval(b_conv2d_convnn_spatial_k_all, cifar10.train_loader, cifar10.test_loader, criterion, optimizer, num_epochs, device='cuda')\n",
    "evaluate_accuracy(b_conv2d_convnn_spatial_k_all, cifar10.test_loader, device='cuda')\n"
   ]
  },
  {
   "cell_type": "code",
   "execution_count": 29,
   "metadata": {},
   "outputs": [
    {
     "name": "stdout",
     "output_type": "stream",
     "text": [
      "Model: B_Conv2d_ConvNN_Attn_K_N\n",
      "Epoch 1, Time: 15.578325033187866, Loss: 1.4754209791302986\n",
      "Epoch 1, Accuracy: 58.57%\n",
      "Epoch 2, Time: 15.58228874206543, Loss: 0.9534697419084857\n",
      "Epoch 2, Accuracy: 65.56%\n",
      "Epoch 3, Time: 15.580772876739502, Loss: 0.6144819618643397\n",
      "Epoch 3, Accuracy: 67.33%\n",
      "Epoch 4, Time: 15.565728187561035, Loss: 0.2933372278099932\n",
      "Epoch 4, Accuracy: 65.95%\n",
      "Epoch 5, Time: 15.579774856567383, Loss: 0.1502845990400085\n",
      "Epoch 5, Accuracy: 65.38%\n",
      "Epoch 6, Time: 15.501893758773804, Loss: 0.11717427110828249\n",
      "Epoch 6, Accuracy: 66.04%\n",
      "Epoch 7, Time: 15.497933387756348, Loss: 0.0993825985158048\n",
      "Epoch 7, Accuracy: 63.47%\n",
      "Epoch 8, Time: 15.559988021850586, Loss: 0.09054476349040523\n",
      "Epoch 8, Accuracy: 64.85%\n",
      "Epoch 9, Time: 15.533543109893799, Loss: 0.07594890540490723\n",
      "Epoch 9, Accuracy: 64.41%\n",
      "Epoch 10, Time: 15.468886852264404, Loss: 0.0709784594032487\n",
      "Epoch 10, Accuracy: 64.75%\n",
      "\n",
      " Average epoch time: 15.544913482666015\n",
      "Accuracy on test set: 64.64%\n"
     ]
    },
    {
     "data": {
      "text/plain": [
       "64.64"
      ]
     },
     "execution_count": 29,
     "metadata": {},
     "output_type": "execute_result"
    }
   ],
   "source": [
    "b_conv2d_convnn_attn_k_n = B_Conv2d_ConvNN_Attn_K_N(device='cuda')\n",
    "\n",
    "print(\"Model: \" + b_conv2d_convnn_attn_k_n.name)\n",
    "# Test + Eval\n",
    "criterion = nn.CrossEntropyLoss()\n",
    "optimizer = optim.Adam(b_conv2d_convnn_attn_k_n.parameters(), lr=0.001)\n",
    "num_epochs = 10 \n",
    "train_eval(b_conv2d_convnn_attn_k_n, cifar10.train_loader, cifar10.test_loader, criterion, optimizer, num_epochs, device='cuda')\n",
    "evaluate_accuracy(b_conv2d_convnn_attn_k_n, cifar10.test_loader, device='cuda')\n"
   ]
  },
  {
   "cell_type": "code",
   "execution_count": 4,
   "metadata": {},
   "outputs": [
    {
     "name": "stdout",
     "output_type": "stream",
     "text": [
      "Model: B_Conv2d_ConvNN_Attn_Spatial_K_N\n",
      "Epoch 1, Time: 18.16570210456848, Loss: 1.4537337863689188\n",
      "Epoch 1, Accuracy: 58.3%\n",
      "Epoch 2, Time: 18.07171869277954, Loss: 0.9720475571539701\n",
      "Epoch 2, Accuracy: 63.47%\n",
      "Epoch 3, Time: 16.60141158103943, Loss: 0.6590499892792738\n",
      "Epoch 3, Accuracy: 67.4%\n",
      "Epoch 4, Time: 18.07907509803772, Loss: 0.32218129430776055\n",
      "Epoch 4, Accuracy: 66.4%\n",
      "Epoch 5, Time: 18.998228311538696, Loss: 0.15268587196231498\n",
      "Epoch 5, Accuracy: 65.89%\n",
      "Epoch 6, Time: 19.158210039138794, Loss: 0.12432230881336705\n",
      "Epoch 6, Accuracy: 65.97%\n",
      "Epoch 7, Time: 17.278252124786377, Loss: 0.09981331515871465\n",
      "Epoch 7, Accuracy: 66.28%\n",
      "Epoch 8, Time: 18.55976939201355, Loss: 0.09576834789405832\n",
      "Epoch 8, Accuracy: 65.06%\n",
      "Epoch 9, Time: 16.75607132911682, Loss: 0.08912008088317287\n",
      "Epoch 9, Accuracy: 65.05%\n",
      "Epoch 10, Time: 18.46741223335266, Loss: 0.07319082261737236\n",
      "Epoch 10, Accuracy: 66.38%\n",
      "\n",
      " Average epoch time: 18.013585090637207\n",
      "Accuracy on test set: 66.38%\n"
     ]
    },
    {
     "data": {
      "text/plain": [
       "66.38"
      ]
     },
     "execution_count": 4,
     "metadata": {},
     "output_type": "execute_result"
    }
   ],
   "source": [
    "b_conv2d_convnn_attn_spatial_k_n = B_Conv2d_ConvNN_Attn_Spatial_K_N(device='cuda')\n",
    "\n",
    "print(\"Model: \" + b_conv2d_convnn_attn_spatial_k_n.name)\n",
    "# Test + Eval\n",
    "criterion = nn.CrossEntropyLoss()\n",
    "optimizer = optim.Adam(b_conv2d_convnn_attn_spatial_k_n.parameters(), lr=0.001)\n",
    "num_epochs = 10 \n",
    "train_eval(b_conv2d_convnn_attn_spatial_k_n, cifar10.train_loader, cifar10.test_loader, criterion, optimizer, num_epochs, device='cuda')\n",
    "evaluate_accuracy(b_conv2d_convnn_attn_spatial_k_n, cifar10.test_loader, device='cuda')\n"
   ]
  },
  {
   "cell_type": "code",
   "execution_count": 21,
   "metadata": {},
   "outputs": [
    {
     "name": "stdout",
     "output_type": "stream",
     "text": [
      "Model: B_Conv2d_ConvNN_Attn_V_K_N\n",
      "Epoch 1, Time: 15.375009536743164, Loss: 1.4847585925513216\n",
      "Epoch 1, Accuracy: 56.17%\n",
      "Epoch 2, Time: 15.373601198196411, Loss: 1.0361405770339625\n",
      "Epoch 2, Accuracy: 64.25%\n",
      "Epoch 3, Time: 15.412750005722046, Loss: 0.7243669753336845\n",
      "Epoch 3, Accuracy: 67.84%\n",
      "Epoch 4, Time: 15.353185892105103, Loss: 0.4101043588784345\n",
      "Epoch 4, Accuracy: 67.68%\n",
      "Epoch 5, Time: 15.310269117355347, Loss: 0.18717698185511714\n",
      "Epoch 5, Accuracy: 66.38%\n",
      "Epoch 6, Time: 15.34815001487732, Loss: 0.127238595770086\n",
      "Epoch 6, Accuracy: 66.31%\n",
      "Epoch 7, Time: 15.412030458450317, Loss: 0.11457294347705534\n",
      "Epoch 7, Accuracy: 66.57%\n",
      "Epoch 8, Time: 15.418286323547363, Loss: 0.07809516786040305\n",
      "Epoch 8, Accuracy: 65.85%\n",
      "Epoch 9, Time: 15.402324676513672, Loss: 0.08353790754149847\n",
      "Epoch 9, Accuracy: 65.15%\n",
      "Epoch 10, Time: 15.351805210113525, Loss: 0.07700875498589052\n",
      "Epoch 10, Accuracy: 66.49%\n",
      "\n",
      " Average epoch time: 15.375741243362427\n",
      "Accuracy on test set: 66.64%\n"
     ]
    },
    {
     "data": {
      "text/plain": [
       "66.64"
      ]
     },
     "execution_count": 21,
     "metadata": {},
     "output_type": "execute_result"
    }
   ],
   "source": [
    "b_conv2d_convnn_attn_v_k_n = B_Conv2d_ConvNN_Attn_V_K_N(device='cuda')\n",
    "\n",
    "print(\"Model: \" + b_conv2d_convnn_attn_v_k_n.name)\n",
    "# Test + Eval\n",
    "criterion = nn.CrossEntropyLoss()\n",
    "optimizer = optim.Adam(b_conv2d_convnn_attn_v_k_n.parameters(), lr=0.001)\n",
    "num_epochs = 10 \n",
    "train_eval(b_conv2d_convnn_attn_v_k_n, cifar10.train_loader, cifar10.test_loader, criterion, optimizer, num_epochs, device='cuda')\n",
    "evaluate_accuracy(b_conv2d_convnn_attn_v_k_n, cifar10.test_loader, device='cuda')\n"
   ]
  },
  {
   "cell_type": "markdown",
   "metadata": {},
   "source": [
    "### ii. Attention + ConvNN"
   ]
  },
  {
   "cell_type": "code",
   "execution_count": 22,
   "metadata": {},
   "outputs": [
    {
     "name": "stdout",
     "output_type": "stream",
     "text": [
      "Model: B_Attention_ConvNN_K_All\n",
      "Epoch 1, Time: 20.429126024246216, Loss: 1.4563107200900611\n",
      "Epoch 1, Accuracy: 56.01%\n",
      "Epoch 2, Time: 20.42900824546814, Loss: 1.0497263802591796\n",
      "Epoch 2, Accuracy: 60.8%\n",
      "Epoch 3, Time: 20.368985176086426, Loss: 0.7803205303904955\n",
      "Epoch 3, Accuracy: 61.23%\n",
      "Epoch 4, Time: 20.408446311950684, Loss: 0.48871660842310133\n",
      "Epoch 4, Accuracy: 62.68%\n",
      "Epoch 5, Time: 20.51436424255371, Loss: 0.2806666126460447\n",
      "Epoch 5, Accuracy: 59.88%\n",
      "Epoch 6, Time: 20.381635427474976, Loss: 0.1880444633688711\n",
      "Epoch 6, Accuracy: 59.5%\n",
      "Epoch 7, Time: 20.377703428268433, Loss: 0.1567470482514833\n",
      "Epoch 7, Accuracy: 59.85%\n",
      "Epoch 8, Time: 20.390657663345337, Loss: 0.13090702027137227\n",
      "Epoch 8, Accuracy: 59.88%\n",
      "Epoch 9, Time: 20.403344869613647, Loss: 0.11916609362418028\n",
      "Epoch 9, Accuracy: 60.02%\n",
      "Epoch 10, Time: 20.385627269744873, Loss: 0.11232367609157119\n",
      "Epoch 10, Accuracy: 59.84%\n",
      "\n",
      " Average epoch time: 20.408889865875246\n",
      "Accuracy on test set: 59.84%\n"
     ]
    },
    {
     "data": {
      "text/plain": [
       "59.84"
      ]
     },
     "execution_count": 22,
     "metadata": {},
     "output_type": "execute_result"
    }
   ],
   "source": [
    "b_attention_convnn_k_all = B_Attention_ConvNN_K_All(device='cuda')\n",
    "\n",
    "print(\"Model: \" + b_attention_convnn_k_all.name)\n",
    "# Test + Eval\n",
    "criterion = nn.CrossEntropyLoss()\n",
    "optimizer = optim.Adam(b_attention_convnn_k_all.parameters(), lr=0.001)\n",
    "num_epochs = 10 \n",
    "train_eval(b_attention_convnn_k_all, cifar10.train_loader, cifar10.test_loader, criterion, optimizer, num_epochs, device='cuda')\n",
    "evaluate_accuracy(b_attention_convnn_k_all, cifar10.test_loader, device='cuda')\n"
   ]
  },
  {
   "cell_type": "code",
   "execution_count": 23,
   "metadata": {},
   "outputs": [
    {
     "name": "stdout",
     "output_type": "stream",
     "text": [
      "Model: B_Attention_ConvNN_K_N\n",
      "Epoch 1, Time: 19.949002504348755, Loss: 1.56410816090796\n",
      "Epoch 1, Accuracy: 52.25%\n",
      "Epoch 2, Time: 19.999250173568726, Loss: 1.207641085319202\n",
      "Epoch 2, Accuracy: 55.45%\n",
      "Epoch 3, Time: 19.978825569152832, Loss: 0.9965652362312503\n",
      "Epoch 3, Accuracy: 61.02%\n",
      "Epoch 4, Time: 19.932435512542725, Loss: 0.7730354446050761\n",
      "Epoch 4, Accuracy: 61.76%\n",
      "Epoch 5, Time: 20.174410581588745, Loss: 0.5491792583061607\n",
      "Epoch 5, Accuracy: 61.64%\n",
      "Epoch 6, Time: 19.924208879470825, Loss: 0.3482283000617533\n",
      "Epoch 6, Accuracy: 61.29%\n",
      "Epoch 7, Time: 20.048675060272217, Loss: 0.23845644707760544\n",
      "Epoch 7, Accuracy: 60.11%\n",
      "Epoch 8, Time: 20.0208683013916, Loss: 0.1902965240923645\n",
      "Epoch 8, Accuracy: 61.08%\n",
      "Epoch 9, Time: 19.994428873062134, Loss: 0.14861404065928802\n",
      "Epoch 9, Accuracy: 60.77%\n",
      "Epoch 10, Time: 19.98295783996582, Loss: 0.13820715023257085\n",
      "Epoch 10, Accuracy: 60.25%\n",
      "\n",
      " Average epoch time: 20.00050632953644\n",
      "Accuracy on test set: 60.35%\n"
     ]
    },
    {
     "data": {
      "text/plain": [
       "60.35"
      ]
     },
     "execution_count": 23,
     "metadata": {},
     "output_type": "execute_result"
    }
   ],
   "source": [
    "b_attention_convnn_k_n = B_Attention_ConvNN_K_N(device='cuda')\n",
    "\n",
    "print(\"Model: \" + b_attention_convnn_k_n.name)\n",
    "# Test + Eval\n",
    "criterion = nn.CrossEntropyLoss()\n",
    "optimizer = optim.Adam(b_attention_convnn_k_n.parameters(), lr=0.001)\n",
    "num_epochs = 10 \n",
    "train_eval(b_attention_convnn_k_n, cifar10.train_loader, cifar10.test_loader, criterion, optimizer, num_epochs, device='cuda')\n",
    "evaluate_accuracy(b_attention_convnn_k_n, cifar10.test_loader, device='cuda')\n"
   ]
  },
  {
   "cell_type": "code",
   "execution_count": 24,
   "metadata": {},
   "outputs": [
    {
     "name": "stdout",
     "output_type": "stream",
     "text": [
      "Model: B_Attention_ConvNN_Spatial_K_N\n",
      "Epoch 1, Time: 21.766157388687134, Loss: 1.5536953128512254\n",
      "Epoch 1, Accuracy: 51.66%\n",
      "Epoch 2, Time: 21.747228384017944, Loss: 1.1864646370606045\n",
      "Epoch 2, Accuracy: 57.32%\n",
      "Epoch 3, Time: 21.71675992012024, Loss: 0.9318415130038395\n",
      "Epoch 3, Accuracy: 59.52%\n",
      "Epoch 4, Time: 21.801893711090088, Loss: 0.636040496437446\n",
      "Epoch 4, Accuracy: 59.08%\n",
      "Epoch 5, Time: 21.85200071334839, Loss: 0.37468800375528655\n",
      "Epoch 5, Accuracy: 58.54%\n",
      "Epoch 6, Time: 21.72628879547119, Loss: 0.23140183582073054\n",
      "Epoch 6, Accuracy: 56.63%\n",
      "Epoch 7, Time: 21.882806062698364, Loss: 0.16783189820482983\n",
      "Epoch 7, Accuracy: 58.96%\n",
      "Epoch 8, Time: 21.828715324401855, Loss: 0.13685086360225057\n",
      "Epoch 8, Accuracy: 57.78%\n",
      "Epoch 9, Time: 21.823588371276855, Loss: 0.14096984272534527\n",
      "Epoch 9, Accuracy: 58.33%\n",
      "Epoch 10, Time: 21.867844104766846, Loss: 0.1183821364672726\n",
      "Epoch 10, Accuracy: 58.09%\n",
      "\n",
      " Average epoch time: 21.801328277587892\n",
      "Accuracy on test set: 58.09%\n"
     ]
    },
    {
     "data": {
      "text/plain": [
       "58.09"
      ]
     },
     "execution_count": 24,
     "metadata": {},
     "output_type": "execute_result"
    }
   ],
   "source": [
    "b_attention_convnn_spatial_k_n = B_Attention_ConvNN_Spatial_K_N(device='cuda')\n",
    "\n",
    "print(\"Model: \" + b_attention_convnn_spatial_k_n.name)\n",
    "# Test + Eval\n",
    "criterion = nn.CrossEntropyLoss()\n",
    "optimizer = optim.Adam(b_attention_convnn_spatial_k_n.parameters(), lr=0.001)\n",
    "num_epochs = 10 \n",
    "train_eval(b_attention_convnn_spatial_k_n, cifar10.train_loader, cifar10.test_loader, criterion, optimizer, num_epochs, device='cuda')\n",
    "evaluate_accuracy(b_attention_convnn_spatial_k_n, cifar10.test_loader, device='cuda')\n"
   ]
  },
  {
   "cell_type": "code",
   "execution_count": 25,
   "metadata": {},
   "outputs": [
    {
     "name": "stdout",
     "output_type": "stream",
     "text": [
      "Model: B_Attention_ConvNN_Attn_K_N\n",
      "Epoch 1, Time: 20.364240884780884, Loss: 1.7304040634113809\n",
      "Epoch 1, Accuracy: 47.21%\n",
      "Epoch 2, Time: 20.40495991706848, Loss: 1.3613341020043854\n",
      "Epoch 2, Accuracy: 53.21%\n",
      "Epoch 3, Time: 20.412559509277344, Loss: 1.2123570654093456\n",
      "Epoch 3, Accuracy: 57.92%\n",
      "Epoch 4, Time: 20.412326097488403, Loss: 1.1081384132280374\n",
      "Epoch 4, Accuracy: 57.21%\n",
      "Epoch 5, Time: 20.412096977233887, Loss: 1.0132867471336404\n",
      "Epoch 5, Accuracy: 60.69%\n",
      "Epoch 6, Time: 20.39957022666931, Loss: 0.9220677557046456\n",
      "Epoch 6, Accuracy: 62.03%\n",
      "Epoch 7, Time: 20.389404773712158, Loss: 0.8149162280132703\n",
      "Epoch 7, Accuracy: 62.57%\n",
      "Epoch 8, Time: 20.348761558532715, Loss: 0.7020142549062933\n",
      "Epoch 8, Accuracy: 62.14%\n",
      "Epoch 9, Time: 20.390201330184937, Loss: 0.5644356421840465\n",
      "Epoch 9, Accuracy: 62.33%\n",
      "Epoch 10, Time: 20.427037477493286, Loss: 0.4305214168279982\n",
      "Epoch 10, Accuracy: 61.2%\n",
      "\n",
      " Average epoch time: 20.396115875244142\n",
      "Accuracy on test set: 61.4%\n"
     ]
    },
    {
     "data": {
      "text/plain": [
       "61.4"
      ]
     },
     "execution_count": 25,
     "metadata": {},
     "output_type": "execute_result"
    }
   ],
   "source": [
    "b_attention_convnn_attn_k_n = B_Attention_ConvNN_Attn_K_N(device='cuda')\n",
    "\n",
    "print(\"Model: \" + b_attention_convnn_attn_k_n.name)\n",
    "# Test + Eval\n",
    "criterion = nn.CrossEntropyLoss()\n",
    "optimizer = optim.Adam(b_attention_convnn_attn_k_n.parameters(), lr=0.001)\n",
    "num_epochs = 10 \n",
    "train_eval(b_attention_convnn_attn_k_n, cifar10.train_loader, cifar10.test_loader, criterion, optimizer, num_epochs, device='cuda')\n",
    "evaluate_accuracy(b_attention_convnn_attn_k_n, cifar10.test_loader, device='cuda')\n"
   ]
  },
  {
   "cell_type": "code",
   "execution_count": 5,
   "metadata": {},
   "outputs": [
    {
     "name": "stdout",
     "output_type": "stream",
     "text": [
      "Model: B_Attention_ConvNN_Attn_Spatial_K_N\n",
      "Epoch 1, Time: 22.770681858062744, Loss: 1.681852679423359\n",
      "Epoch 1, Accuracy: 50.58%\n",
      "Epoch 2, Time: 24.140385389328003, Loss: 1.2701197037154146\n",
      "Epoch 2, Accuracy: 54.43%\n",
      "Epoch 3, Time: 24.17788791656494, Loss: 1.1225423697772843\n",
      "Epoch 3, Accuracy: 58.56%\n",
      "Epoch 4, Time: 24.161375284194946, Loss: 0.9975569401403217\n",
      "Epoch 4, Accuracy: 60.15%\n",
      "Epoch 5, Time: 22.43019127845764, Loss: 0.883390375262941\n",
      "Epoch 5, Accuracy: 60.14%\n",
      "Epoch 6, Time: 22.85646677017212, Loss: 0.7542936750842483\n",
      "Epoch 6, Accuracy: 61.24%\n",
      "Epoch 7, Time: 22.297192811965942, Loss: 0.6180773051574712\n",
      "Epoch 7, Accuracy: 61.37%\n",
      "Epoch 8, Time: 22.970640659332275, Loss: 0.4783130576333884\n",
      "Epoch 8, Accuracy: 60.51%\n",
      "Epoch 9, Time: 22.604373693466187, Loss: 0.3475293229760416\n",
      "Epoch 9, Accuracy: 60.81%\n",
      "Epoch 10, Time: 24.20487356185913, Loss: 0.2731298694287039\n",
      "Epoch 10, Accuracy: 61.42%\n",
      "\n",
      " Average epoch time: 23.26140692234039\n",
      "Accuracy on test set: 61.42%\n"
     ]
    },
    {
     "data": {
      "text/plain": [
       "61.42"
      ]
     },
     "execution_count": 5,
     "metadata": {},
     "output_type": "execute_result"
    }
   ],
   "source": [
    "b_attention_convnn_attn_spatial_k_n = B_Attention_ConvNN_Attn_Spatial_K_N(device='cuda')\n",
    "\n",
    "print(\"Model: \" + b_attention_convnn_attn_spatial_k_n.name)\n",
    "# Test + Eval\n",
    "criterion = nn.CrossEntropyLoss()\n",
    "optimizer = optim.Adam(b_attention_convnn_attn_spatial_k_n.parameters(), lr=0.001)\n",
    "num_epochs = 10 \n",
    "train_eval(b_attention_convnn_attn_spatial_k_n, cifar10.train_loader, cifar10.test_loader, criterion, optimizer, num_epochs, device='cuda')\n",
    "evaluate_accuracy(b_attention_convnn_attn_spatial_k_n, cifar10.test_loader, device='cuda')\n"
   ]
  },
  {
   "cell_type": "code",
   "execution_count": 26,
   "metadata": {},
   "outputs": [
    {
     "name": "stdout",
     "output_type": "stream",
     "text": [
      "Model: B_Attention_ConvNN_Attn_V_K_N\n",
      "Epoch 1, Time: 20.301891565322876, Loss: 1.7215645805649136\n",
      "Epoch 1, Accuracy: 45.64%\n",
      "Epoch 2, Time: 20.304866552352905, Loss: 1.3691441388538732\n",
      "Epoch 2, Accuracy: 53.31%\n",
      "Epoch 3, Time: 20.29021716117859, Loss: 1.2176122270581666\n",
      "Epoch 3, Accuracy: 57.14%\n",
      "Epoch 4, Time: 20.303068161010742, Loss: 1.1106251462188828\n",
      "Epoch 4, Accuracy: 59.5%\n",
      "Epoch 5, Time: 20.296408891677856, Loss: 1.0110510987089114\n",
      "Epoch 5, Accuracy: 60.38%\n",
      "Epoch 6, Time: 20.223407745361328, Loss: 0.9239205157055574\n",
      "Epoch 6, Accuracy: 62.07%\n",
      "Epoch 7, Time: 20.32905101776123, Loss: 0.8300114112436924\n",
      "Epoch 7, Accuracy: 61.24%\n",
      "Epoch 8, Time: 20.28559637069702, Loss: 0.726474768898981\n",
      "Epoch 8, Accuracy: 62.2%\n",
      "Epoch 9, Time: 20.29212975502014, Loss: 0.6065037781777589\n",
      "Epoch 9, Accuracy: 62.7%\n",
      "Epoch 10, Time: 20.26315975189209, Loss: 0.48373465514396463\n",
      "Epoch 10, Accuracy: 62.32%\n",
      "\n",
      " Average epoch time: 20.28897969722748\n",
      "Accuracy on test set: 62.69%\n"
     ]
    },
    {
     "data": {
      "text/plain": [
       "62.69"
      ]
     },
     "execution_count": 26,
     "metadata": {},
     "output_type": "execute_result"
    }
   ],
   "source": [
    "b_attention_convnn_attn_v_k_n = B_Attention_ConvNN_Attn_V_K_N(device='cuda')\n",
    "\n",
    "print(\"Model: \" + b_attention_convnn_attn_v_k_n.name)\n",
    "# Test + Eval\n",
    "criterion = nn.CrossEntropyLoss()\n",
    "optimizer = optim.Adam(b_attention_convnn_attn_v_k_n.parameters(), lr=0.001)\n",
    "num_epochs = 10 \n",
    "train_eval(b_attention_convnn_attn_v_k_n, cifar10.train_loader, cifar10.test_loader, criterion, optimizer, num_epochs, device='cuda')\n",
    "evaluate_accuracy(b_attention_convnn_attn_v_k_n, cifar10.test_loader, device='cuda')\n"
   ]
  },
  {
   "cell_type": "code",
   "execution_count": 27,
   "metadata": {},
   "outputs": [
    {
     "name": "stdout",
     "output_type": "stream",
     "text": [
      "Model: B_Attention_Conv2d\n",
      "Epoch 1, Time: 18.341840982437134, Loss: 1.3705337925640213\n",
      "Epoch 1, Accuracy: 59.85%\n",
      "Epoch 2, Time: 18.24285364151001, Loss: 0.9199747723691604\n",
      "Epoch 2, Accuracy: 66.04%\n",
      "Epoch 3, Time: 18.358469486236572, Loss: 0.5508187162830397\n",
      "Epoch 3, Accuracy: 67.37%\n",
      "Epoch 4, Time: 18.36042070388794, Loss: 0.20745459535752264\n",
      "Epoch 4, Accuracy: 67.14%\n",
      "Epoch 5, Time: 18.309180736541748, Loss: 0.11003080117837775\n",
      "Epoch 5, Accuracy: 66.14%\n",
      "Epoch 6, Time: 18.38195514678955, Loss: 0.09649875379867776\n",
      "Epoch 6, Accuracy: 65.98%\n",
      "Epoch 7, Time: 18.38993787765503, Loss: 0.07706966902122801\n",
      "Epoch 7, Accuracy: 65.8%\n",
      "Epoch 8, Time: 18.31324315071106, Loss: 0.07312067773188953\n",
      "Epoch 8, Accuracy: 65.15%\n",
      "Epoch 9, Time: 18.343955278396606, Loss: 0.07468589302390585\n",
      "Epoch 9, Accuracy: 65.95%\n",
      "Epoch 10, Time: 18.381084203720093, Loss: 0.0670134259240173\n",
      "Epoch 10, Accuracy: 65.55%\n",
      "\n",
      " Average epoch time: 18.342294120788573\n",
      "Accuracy on test set: 65.55%\n"
     ]
    },
    {
     "data": {
      "text/plain": [
       "65.55"
      ]
     },
     "execution_count": 27,
     "metadata": {},
     "output_type": "execute_result"
    }
   ],
   "source": [
    "b_attention_conv2d = B_Attention_Conv2d(device='cuda')\n",
    "\n",
    "print(\"Model: \" + b_attention_conv2d.name)\n",
    "# Test + Eval\n",
    "criterion = nn.CrossEntropyLoss()\n",
    "optimizer = optim.Adam(b_attention_conv2d.parameters(), lr=0.001)\n",
    "num_epochs = 10 \n",
    "train_eval(b_attention_conv2d, cifar10.train_loader, cifar10.test_loader, criterion, optimizer, num_epochs, device='cuda')\n",
    "evaluate_accuracy(b_attention_conv2d, cifar10.test_loader, device='cuda')\n"
   ]
  },
  {
   "cell_type": "code",
   "execution_count": null,
   "metadata": {},
   "outputs": [],
   "source": []
  }
 ],
 "metadata": {
  "kernelspec": {
   "display_name": "Python 3.12",
   "language": "python",
   "name": "python3.12"
  },
  "language_info": {
   "codemirror_mode": {
    "name": "ipython",
    "version": 3
   },
   "file_extension": ".py",
   "mimetype": "text/x-python",
   "name": "python",
   "nbconvert_exporter": "python",
   "pygments_lexer": "ipython3",
   "version": "3.12.3"
  }
 },
 "nbformat": 4,
 "nbformat_minor": 4
}
