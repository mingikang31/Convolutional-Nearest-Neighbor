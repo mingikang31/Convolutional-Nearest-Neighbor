{
 "cells": [
  {
   "cell_type": "markdown",
   "metadata": {},
   "source": [
    "# Image Count Test CBSD68 Denoising \n",
    "* Images are 256x256, RGB format \n",
    "* 200/40, 1000/200, 2000/400, 4000/800, 8000/1600 images are used for training and testing respectively"
   ]
  },
  {
   "cell_type": "code",
   "execution_count": 1,
   "metadata": {},
   "outputs": [
    {
     "name": "stdout",
     "output_type": "stream",
     "text": [
      "Current directory: /home/mkang2/Convolutional-Nearest-Neighbor/Testing\n"
     ]
    }
   ],
   "source": [
    "import os\n",
    "\n",
    "current_dir = os.getcwd()\n",
    "print(\"Current directory:\", current_dir)"
   ]
  },
  {
   "cell_type": "code",
   "execution_count": null,
   "metadata": {},
   "outputs": [],
   "source": [
    "# Torch\n",
    "import torch \n",
    "import torch.nn as nn\n",
    "import torch.nn.functional as F\n",
    "from torch import optim \n",
    "from torchsummary import summary\n",
    "from torchvision.transforms import v2\n",
    "import numpy as np\n",
    "\n",
    "\n",
    "# Train + Data \n",
    "import sys \n",
    "sys.path.append('../Layers')\n",
    "from Conv1d_NN import *\n",
    "from Conv2d_NN import *\n",
    "from Conv1d_NN_spatial import * \n",
    "\n",
    "from Conv2d_NN_spatial import * \n",
    "from ConvNN_CNN_Branching import *\n",
    "\n",
    "sys.path.append('../Data')\n",
    "from CBSD68 import NoisyCBSD68_dataset, test_denoise_visual_CBSD\n",
    "\n",
    "\n",
    "sys.path.append('../Models')\n",
    "from denoising_models import DenoisingCNN, DenoisingBranching_ConvNN_2D_Spatial_K_N, DenoisingBranching_ConvNN_2D_K_N, DenoisingConvNN_2D_K_N\n",
    "\n",
    "sys.path.append('../Train')\n",
    "from train2d import train_denoising_model, evaluate_denoising_accuracy, evaluate_accuracy_psnr\n",
    "\n",
    "\n",
    "import numpy as np\n"
   ]
  },
  {
   "cell_type": "markdown",
   "metadata": {},
   "source": [
    "### i. 200 training, 40 testing images"
   ]
  },
  {
   "cell_type": "code",
   "execution_count": null,
   "metadata": {},
   "outputs": [],
   "source": [
    "noisycbsd68_200_40 = NoisyCBSD68_dataset(batch_size=32, noise_std=0.3, train_count=200, test_count=40, target_size=256)\n",
    "noisycbsd68_200_40.visual(3)"
   ]
  },
  {
   "cell_type": "code",
   "execution_count": null,
   "metadata": {},
   "outputs": [],
   "source": [
    "# CNN \n",
    "CNN = DenoisingCNN(in_ch=3, out_ch=3, kernel_size=3, device='cuda')\n",
    "\n",
    "criterion = nn.MSELoss()\n",
    "optimizer = optim.Adam(CNN.parameters(), lr=0.001)\n",
    "num_epochs = 10\n",
    "train_denoising_model(CNN, noisycbsd68_200_40.train_loader, criterion, optimizer, num_epochs, device='cuda')\n",
    "evaluate_denoising_accuracy(CNN, noisycbsd68_200_40.test_loader, criterion, device='cuda')\n",
    "evaluate_accuracy_psnr(CNN, noisycbsd68_200_40.test_loader, criterion, device='cuda')\n",
    "\n",
    "\n",
    "# Print out output of trained model\n",
    "test_denoise_visual_CBSD(CNN, noisycbsd68_200_40.test_data, device='cuda')\n"
   ]
  },
  {
   "cell_type": "code",
   "execution_count": null,
   "metadata": {},
   "outputs": [],
   "source": [
    "# Denoising Branching CNN + ConvNN Spatial, K = 9, N = 6 (36), 16:16\n",
    "denoisingbranching_convNN_spatial_K_N_16_16 = DenoisingBranching_ConvNN_2D_Spatial_K_N(in_ch=3, out_ch=3, K=9, N=6, device='cuda')\n",
    "\n",
    "criterion = nn.MSELoss()\n",
    "optimizer = optim.Adam(denoisingbranching_convNN_spatial_K_N_16_16.parameters(), lr=0.001)\n",
    "num_epochs = 10\n",
    "train_denoising_model(denoisingbranching_convNN_spatial_K_N_16_16, noisycbsd68_200_40.train_loader, criterion, optimizer, num_epochs, device='cuda')\n",
    "evaluate_denoising_accuracy(denoisingbranching_convNN_spatial_K_N_16_16, noisycbsd68_64.test_loader, criterion, device='cuda')\n",
    "evaluate_accuracy_psnr(denoisingbranching_convNN_spatial_K_N_16_16, noisycbsd68_200_40.test_loader, criterion, device='cuda')\n",
    "\n",
    "# Print out output of trained model\n",
    "test_denoise_visual_CBSD(denoisingbranching_convNN_spatial_K_N_16_16, noisycbsd68_200_40.test_data, device='cuda')\n"
   ]
  },
  {
   "cell_type": "code",
   "execution_count": null,
   "metadata": {},
   "outputs": [],
   "source": [
    "# Denoising Branching CNN + ConvNN Random, K = 9, N = 36, 16:16\n",
    "denoisingbranching_convNN_K_N_16_16 = DenoisingBranching_ConvNN_2D_K_N(in_ch=3, out_ch=3, K=9, N=36, device='cuda')\n",
    "\n",
    "criterion = nn.MSELoss()\n",
    "optimizer = optim.Adam(denoisingbranching_convNN_K_N_16_16.parameters(), lr=0.001)\n",
    "num_epochs = 10 \n",
    "train_denoising_model(denoisingbranching_convNN_K_N_16_16, noisycbsd68_200_40.train_loader, criterion, optimizer, num_epochs, device='cuda')\n",
    "evaluate_denoising_accuracy(denoisingbranching_convNN_K_N_16_16, noisycbsd68_200_40.test_loader, criterion, device='cuda')\n",
    "evaluate_accuracy_psnr(denoisingbranching_convNN_K_N_16_16, noisycbsd68_200_40.test_loader, criterion, device='cuda')\n",
    "\n",
    "# Print out output of trained model\n",
    "test_denoise_visual_CBSD(denoisingbranching_convNN_K_N_16_16, noisycbsd68_200_40.test_data, device='cuda')\n",
    "\n"
   ]
  },
  {
   "cell_type": "code",
   "execution_count": null,
   "metadata": {},
   "outputs": [],
   "source": [
    "# ConvNN K = 9, N = 36\n",
    "denoising_convNN_2D_K_N = DenoisingConvNN_2D_K_N(in_ch=3, out_ch=3, K=9, N=36, device='cuda')\n",
    "\n",
    "criterion = nn.MSELoss()\n",
    "optimizer = optim.Adam(denoising_convNN_2D_K_N.parameters(), lr=0.001)\n",
    "num_epochs = 10\n",
    "train_denoising_model(denoising_convNN_2D_K_N, noisycbsd68_200_40.train_loader, criterion, optimizer, num_epochs, device='cuda')\n",
    "evaluate_denoising_accuracy(denoising_convNN_2D_K_N, noisycbsd68_200_40.test_loader, criterion, device='cuda')\n",
    "evaluate_accuracy_psnr(denoising_convNN_2D_K_N, noisycbsd68_200_40.test_loader, criterion, device='cuda')\n",
    "\n",
    "# Print out output of trained model\n",
    "test_denoise_visual_CBSD(denoising_convNN_2D_K_N, noisycbsd68_200_40.test_data, device='cuda')\n",
    "\n"
   ]
  },
  {
   "cell_type": "markdown",
   "metadata": {},
   "source": [
    "### ii. 1000 training, 200 testing images"
   ]
  },
  {
   "cell_type": "code",
   "execution_count": null,
   "metadata": {},
   "outputs": [],
   "source": [
    "noisycbsd68_1000_200 = NoisyCBSD68_dataset(batch_size=32, noise_std=0.3, train_count=1000, test_count=200, target_size=256)\n",
    "noisycbsd68_1000_200.visual(3)"
   ]
  },
  {
   "cell_type": "code",
   "execution_count": null,
   "metadata": {},
   "outputs": [],
   "source": [
    "# CNN control model \n",
    "CNN = DenoisingCNN(in_ch=3, out_ch=3, kernel_size=3, device='cuda')\n",
    "\n",
    "criterion = nn.MSELoss()\n",
    "optimizer = optim.Adam(CNN.parameters(), lr=0.001)\n",
    "num_epochs = 10\n",
    "train_denoising_model(CNN, noisycbsd68_1000_200.train_loader, criterion, optimizer, num_epochs, device='cuda')\n",
    "evaluate_denoising_accuracy(CNN, noisycbsd68_1000_200.test_loader, criterion, device='cuda')\n",
    "evaluate_accuracy_psnr(CNN, noisycbsd68_1000_200.test_loader, criterion, device='cuda')\n",
    "\n",
    "\n",
    "# Print out output of trained model\n",
    "test_denoise_visual_CBSD(CNN, noisycbsd68_1000_200.test_data, device='cuda')\n"
   ]
  },
  {
   "cell_type": "code",
   "execution_count": null,
   "metadata": {},
   "outputs": [],
   "source": [
    "# Denoising Branching CNN + ConvNN Spatial, K = 9, N = 6 (36), 16:16\n",
    "denoisingbranching_convNN_spatial_K_N_16_16 = DenoisingBranching_ConvNN_2D_Spatial_K_N(in_ch=3, out_ch=3, K=9, N=6, device='cuda')\n",
    "\n",
    "criterion = nn.MSELoss()\n",
    "optimizer = optim.Adam(denoisingbranching_convNN_spatial_K_N_16_16.parameters(), lr=0.001)\n",
    "num_epochs = 10\n",
    "train_denoising_model(denoisingbranching_convNN_spatial_K_N_16_16, noisycbsd68_1000_200.train_loader, criterion, optimizer, num_epochs, device='cuda')\n",
    "evaluate_denoising_accuracy(denoisingbranching_convNN_spatial_K_N_16_16, noisycbsd68_1000_200.test_loader, criterion, device='cuda')\n",
    "evaluate_accuracy_psnr(denoisingbranching_convNN_spatial_K_N_16_16, noisycbsd68_1000_200.test_loader, criterion, device='cuda')\n",
    "\n",
    "# Print out output of trained model\n",
    "test_denoise_visual_CBSD(denoisingbranching_convNN_spatial_K_N_16_16, noisycbsd68_1000_200.test_data, device='cuda')\n"
   ]
  },
  {
   "cell_type": "code",
   "execution_count": null,
   "metadata": {},
   "outputs": [],
   "source": [
    "# Denoising Branching CNN + ConvNN Random, K = 9, N = 36, 16:16\n",
    "denoisingbranching_convNN_K_N_16_16 = DenoisingBranching_ConvNN_2D_K_N(in_ch=3, out_ch=3, K=9, N=36, device='cuda')\n",
    "\n",
    "criterion = nn.MSELoss()\n",
    "optimizer = optim.Adam(denoisingbranching_convNN_K_N_16_16.parameters(), lr=0.001)\n",
    "num_epochs = 10 \n",
    "train_denoising_model(denoisingbranching_convNN_K_N_16_16, noisycbsd68_1000_200.train_loader, criterion, optimizer, num_epochs, device='cuda')\n",
    "evaluate_denoising_accuracy(denoisingbranching_convNN_K_N_16_16, noisycbsd68_1000_200.test_loader, criterion, device='cuda')\n",
    "evaluate_accuracy_psnr(denoisingbranching_convNN_K_N_16_16, noisycbsd68_1000_200.test_loader, criterion, device='cuda')\n",
    "\n",
    "# Print out output of trained model\n",
    "test_denoise_visual_CBSD(denoisingbranching_convNN_K_N_16_16, noisycbsd68_1000_200.test_data, device='cuda')\n",
    "\n"
   ]
  },
  {
   "cell_type": "code",
   "execution_count": null,
   "metadata": {},
   "outputs": [],
   "source": [
    "# ConvNN K = 9, N = 36\n",
    "denoising_convNN_2D_K_N = DenoisingConvNN_2D_K_N(in_ch=3, out_ch=3, K=9, N=36, device='cuda')\n",
    "\n",
    "criterion = nn.MSELoss()\n",
    "optimizer = optim.Adam(denoising_convNN_2D_K_N.parameters(), lr=0.001)\n",
    "num_epochs = 10\n",
    "train_denoising_model(denoising_convNN_2D_K_N, noisycbsd68_1000_200.train_loader, criterion, optimizer, num_epochs, device='cuda')\n",
    "evaluate_denoising_accuracy(denoising_convNN_2D_K_N, noisycbsd68_1000_200.test_loader, criterion, device='cuda')\n",
    "evaluate_accuracy_psnr(denoising_convNN_2D_K_N, noisycbsd68_1000_200.test_loader, criterion, device='cuda')\n",
    "\n",
    "# Print out output of trained model\n",
    "test_denoise_visual_CBSD(denoising_convNN_2D_K_N, noisycbsd68_1000_200.test_data, device='cuda')\n",
    "\n"
   ]
  },
  {
   "cell_type": "markdown",
   "metadata": {},
   "source": [
    "### iii. 2000 training, 400 testing images"
   ]
  },
  {
   "cell_type": "code",
   "execution_count": null,
   "metadata": {},
   "outputs": [],
   "source": [
    "noisycbsd68_2000_400 = NoisyCBSD68_dataset(batch_size=32, noise_std=0.3, train_count=2000, test_count=400, target_size=256)\n",
    "noisycbsd68_2000_400.visual(3)"
   ]
  },
  {
   "cell_type": "code",
   "execution_count": null,
   "metadata": {},
   "outputs": [],
   "source": [
    "# CNN control model \n",
    "CNN = DenoisingCNN(in_ch=3, out_ch=3, kernel_size=3, device='cuda')\n",
    "\n",
    "criterion = nn.MSELoss()\n",
    "optimizer = optim.Adam(CNN.parameters(), lr=0.001)\n",
    "num_epochs = 10\n",
    "train_denoising_model(CNN, noisycbsd68_2000_400.train_loader, criterion, optimizer, num_epochs, device='cuda')\n",
    "evaluate_denoising_accuracy(CNN, noisycbsd68_2000_400.test_loader, criterion, device='cuda')\n",
    "evaluate_accuracy_psnr(CNN, noisycbsd68_2000_400.test_loader, criterion, device='cuda')\n",
    "\n",
    "\n",
    "# Print out output of trained model\n",
    "test_denoise_visual_CBSD(CNN, noisycbsd68_2000_400.test_data, device='cuda')\n"
   ]
  },
  {
   "cell_type": "code",
   "execution_count": null,
   "metadata": {},
   "outputs": [],
   "source": [
    "# Denoising Branching CNN + ConvNN Spatial, K = 9, N = 6 (36), 16:16\n",
    "denoisingbranching_convNN_spatial_K_N_16_16 = DenoisingBranching_ConvNN_2D_Spatial_K_N(in_ch=3, out_ch=3, K=9, N=6, device='cuda')\n",
    "\n",
    "criterion = nn.MSELoss()\n",
    "optimizer = optim.Adam(denoisingbranching_convNN_spatial_K_N_16_16.parameters(), lr=0.001)\n",
    "num_epochs = 10\n",
    "train_denoising_model(denoisingbranching_convNN_spatial_K_N_16_16, noisycbsd68_2000_400.train_loader, criterion, optimizer, num_epochs, device='cuda')\n",
    "evaluate_denoising_accuracy(denoisingbranching_convNN_spatial_K_N_16_16, noisycbsd68_2000_400.test_loader, criterion, device='cuda')\n",
    "evaluate_accuracy_psnr(denoisingbranching_convNN_spatial_K_N_16_16, noisycbsd68_2000_400.test_loader, criterion, device='cuda')\n",
    "\n",
    "# Print out output of trained model\n",
    "test_denoise_visual_CBSD(denoisingbranching_convNN_spatial_K_N_16_16, noisycbsd68_2000_400.test_data, device='cuda')\n"
   ]
  },
  {
   "cell_type": "code",
   "execution_count": null,
   "metadata": {},
   "outputs": [],
   "source": [
    "# Denoising Branching CNN + ConvNN Spatial, K = 9, N = 36, 16:1\n",
    "denoisingbranching_convNN_K_N_16_16 = DenoisingBranching_ConvNN_2D_K_N(in_ch=3, out_ch=3, K=9, N=36, device='cuda')\n",
    "\n",
    "criterion = nn.MSELoss()\n",
    "optimizer = optim.Adam(denoisingbranching_convNN_K_N_16_16.parameters(), lr=0.001)\n",
    "num_epochs = 10 \n",
    "train_denoising_model(denoisingbranching_convNN_K_N_16_16, noisycbsd68_2000_400.train_loader, criterion, optimizer, num_epochs, device='cuda')\n",
    "evaluate_denoising_accuracy(denoisingbranching_convNN_K_N_16_16, noisycbsd68_2000_400.test_loader, criterion, device='cuda')\n",
    "evaluate_accuracy_psnr(denoisingbranching_convNN_K_N_16_16, noisycbsd68_2000_400.test_loader, criterion, device='cuda')\n",
    "\n",
    "# Print out output of trained model\n",
    "test_denoise_visual_CBSD(denoisingbranching_convNN_K_N_16_16, noisycbsd68_2000_400.test_data, device='cuda')\n",
    "\n"
   ]
  },
  {
   "cell_type": "code",
   "execution_count": null,
   "metadata": {},
   "outputs": [],
   "source": [
    "# ConvNN K = 9, N = 36\n",
    "denoising_convNN_2D_K_N = DenoisingConvNN_2D_K_N(in_ch=3, out_ch=3, K=9, N=36, device='cuda')\n",
    "\n",
    "criterion = nn.MSELoss()\n",
    "optimizer = optim.Adam(denoising_convNN_2D_K_N.parameters(), lr=0.001)\n",
    "num_epochs = 10\n",
    "train_denoising_model(denoising_convNN_2D_K_N, noisycbsd68_2000_400.train_loader, criterion, optimizer, num_epochs, device='cuda')\n",
    "evaluate_denoising_accuracy(denoising_convNN_2D_K_N, noisycbsd68_2000_400.test_loader, criterion, device='cuda')\n",
    "evaluate_accuracy_psnr(denoising_convNN_2D_K_N, noisycbsd68_2000_400.test_loader, criterion, device='cuda')\n",
    "\n",
    "# Print out output of trained model\n",
    "test_denoise_visual_CBSD(denoising_convNN_2D_K_N, noisycbsd68_2000_400.test_data, device='cuda')\n",
    "\n"
   ]
  },
  {
   "cell_type": "markdown",
   "metadata": {},
   "source": [
    "### iv. 4000 training, 800 testing images"
   ]
  },
  {
   "cell_type": "code",
   "execution_count": null,
   "metadata": {},
   "outputs": [],
   "source": [
    "noisycbsd68_4000_800 = NoisyCBSD68_dataset(batch_size=32, noise_std=0.3, train_count=4000, test_count=800, target_size=256)\n",
    "noisycbsd68_4000_800.visual(3)"
   ]
  },
  {
   "cell_type": "code",
   "execution_count": null,
   "metadata": {},
   "outputs": [],
   "source": [
    "# CNN control model \n",
    "CNN = DenoisingCNN(in_ch=3, out_ch=3, kernel_size=3, device='cuda')\n",
    "\n",
    "criterion = nn.MSELoss()\n",
    "optimizer = optim.Adam(CNN.parameters(), lr=0.001)\n",
    "num_epochs = 10\n",
    "train_denoising_model(CNN, noisycbsd68_4000_800.train_loader, criterion, optimizer, num_epochs, device='cuda')\n",
    "evaluate_denoising_accuracy(CNN, noisycbsd68_4000_800.test_loader, criterion, device='cuda')\n",
    "evaluate_accuracy_psnr(CNN, noisycbsd68_4000_800.test_loader, criterion, device='cuda')\n",
    "\n",
    "\n",
    "# Print out output of trained model\n",
    "test_denoise_visual_CBSD(CNN, noisycbsd68_4000_800.test_data, device='cuda')\n"
   ]
  },
  {
   "cell_type": "code",
   "execution_count": null,
   "metadata": {},
   "outputs": [],
   "source": [
    "# Denoising Branching CNN + ConvNN Spatial, K = 9, N = 6 (36), 16:16\n",
    "denoisingbranching_convNN_spatial_K_N_16_16 = DenoisingBranching_ConvNN_2D_Spatial_K_N(in_ch=3, out_ch=3, K=9, N=6, device='cuda')\n",
    "\n",
    "criterion = nn.MSELoss()\n",
    "optimizer = optim.Adam(denoisingbranching_convNN_spatial_K_N_16_16.parameters(), lr=0.001)\n",
    "num_epochs = 10\n",
    "train_denoising_model(denoisingbranching_convNN_spatial_K_N_16_16, noisycbsd68_4000_800.train_loader, criterion, optimizer, num_epochs, device='cuda')\n",
    "evaluate_denoising_accuracy(denoisingbranching_convNN_spatial_K_N_16_16, noisycbsd68_4000_800.test_loader, criterion, device='cuda')\n",
    "evaluate_accuracy_psnr(denoisingbranching_convNN_spatial_K_N_16_16, noisycbsd68_4000_800.test_loader, criterion, device='cuda')\n",
    "\n",
    "# Print out output of trained model\n",
    "test_denoise_visual_CBSD(denoisingbranching_convNN_spatial_K_N_16_16, noisycbsd68_4000_800.test_data, device='cuda')\n"
   ]
  },
  {
   "cell_type": "code",
   "execution_count": null,
   "metadata": {},
   "outputs": [],
   "source": [
    "# Denoising Branching CNN + ConvNN Random, K = 9, N = 36, 16:16\n",
    "denoisingbranching_convNN_K_N_16_16 = DenoisingBranching_ConvNN_2D_K_N(in_ch=3, out_ch=3, K=9, N=36, device='cuda')\n",
    "\n",
    "criterion = nn.MSELoss()\n",
    "optimizer = optim.Adam(denoisingbranching_convNN_K_N_16_16.parameters(), lr=0.001)\n",
    "num_epochs = 10 \n",
    "train_denoising_model(denoisingbranching_convNN_K_N_16_16, noisycbsd68_4000_800.train_loader, criterion, optimizer, num_epochs, device='cuda')\n",
    "evaluate_denoising_accuracy(denoisingbranching_convNN_K_N_16_16, noisycbsd68_4000_800.test_loader, criterion, device='cuda')\n",
    "evaluate_accuracy_psnr(denoisingbranching_convNN_K_N_16_16, noisycbsd68_4000_800.test_loader, criterion, device='cuda')\n",
    "\n",
    "# Print out output of trained model\n",
    "test_denoise_visual_CBSD(denoisingbranching_convNN_K_N_16_16, noisycbsd68_4000_800.test_data, device='cuda')\n",
    "\n"
   ]
  },
  {
   "cell_type": "code",
   "execution_count": null,
   "metadata": {},
   "outputs": [],
   "source": [
    "# ConvNN K = 9, N = 36\n",
    "denoising_convNN_2D_K_N = DenoisingConvNN_2D_K_N(in_ch=3, out_ch=3, K=9, N=36, device='cuda')\n",
    "\n",
    "criterion = nn.MSELoss()\n",
    "optimizer = optim.Adam(denoising_convNN_2D_K_N.parameters(), lr=0.001)\n",
    "num_epochs = 10\n",
    "train_denoising_model(denoising_convNN_2D_K_N, noisycbsd68_4000_800.train_loader, criterion, optimizer, num_epochs, device='cuda')\n",
    "evaluate_denoising_accuracy(denoising_convNN_2D_K_N, noisycbsd68_4000_800.test_loader, criterion, device='cuda')\n",
    "evaluate_accuracy_psnr(denoising_convNN_2D_K_N, noisycbsd68_4000_800.test_loader, criterion, device='cuda')\n",
    "\n",
    "# Print out output of trained model\n",
    "test_denoise_visual_CBSD(denoising_convNN_2D_K_N, noisycbsd68_4000_800.test_data, device='cuda')\n",
    "\n"
   ]
  },
  {
   "cell_type": "markdown",
   "metadata": {},
   "source": [
    "#### v. 8000 training, 1600 testing images"
   ]
  },
  {
   "cell_type": "code",
   "execution_count": null,
   "metadata": {},
   "outputs": [],
   "source": [
    "noisycbsd68_8000_1600 = NoisyCBSD68_dataset(batch_size=32, noise_std=0.3, train_count=800, test_count=1600, target_size=256)\n",
    "noisycbsd68_8000_1600.visual(3)"
   ]
  },
  {
   "cell_type": "code",
   "execution_count": null,
   "metadata": {},
   "outputs": [],
   "source": [
    "# CNN control model \n",
    "CNN = DenoisingCNN(in_ch=3, out_ch=3, kernel_size=3, device='cuda')\n",
    "\n",
    "criterion = nn.MSELoss()\n",
    "optimizer = optim.Adam(CNN.parameters(), lr=0.001)\n",
    "num_epochs = 10\n",
    "train_denoising_model(CNN, noisycbsd68_8000_1600.train_loader, criterion, optimizer, num_epochs, device='cuda')\n",
    "evaluate_denoising_accuracy(CNN, noisycbsd68_8000_1600.test_loader, criterion, device='cuda')\n",
    "evaluate_accuracy_psnr(CNN, noisycbsd68_8000_1600.test_loader, criterion, device='cuda')\n",
    "\n",
    "\n",
    "# Print out output of trained model\n",
    "test_denoise_visual_CBSD(CNN, noisycbsd68_8000_1600.test_data, device='cuda')\n"
   ]
  },
  {
   "cell_type": "code",
   "execution_count": null,
   "metadata": {},
   "outputs": [],
   "source": [
    "# Denoising Branching CNN + ConvNN Spatial, K = 9, N = 6 (36), 16:16\n",
    "denoisingbranching_convNN_spatial_K_N_16_16 = DenoisingBranching_ConvNN_2D_Spatial_K_N(in_ch=3, out_ch=3, K=9, N=6, device='cuda')\n",
    "\n",
    "criterion = nn.MSELoss()\n",
    "optimizer = optim.Adam(denoisingbranching_convNN_spatial_K_N_16_16.parameters(), lr=0.001)\n",
    "num_epochs = 10\n",
    "train_denoising_model(denoisingbranching_convNN_spatial_K_N_16_16, noisycbsd68_8000_1600.train_loader, criterion, optimizer, num_epochs, device='cuda')\n",
    "evaluate_denoising_accuracy(denoisingbranching_convNN_spatial_K_N_16_16, noisycbsd68_8000_1600.test_loader, criterion, device='cuda')\n",
    "evaluate_accuracy_psnr(denoisingbranching_convNN_spatial_K_N_16_16, noisycbsd68_8000_1600.test_loader, criterion, device='cuda')\n",
    "\n",
    "# Print out output of trained model\n",
    "test_denoise_visual_CBSD(denoisingbranching_convNN_spatial_K_N_16_16, noisycbsd68_8000_1600.test_data, device='cuda')\n"
   ]
  },
  {
   "cell_type": "code",
   "execution_count": null,
   "metadata": {},
   "outputs": [],
   "source": [
    "# Denoising Branching CNN + ConvNN Random, K = 9, N = 36, 16:1\n",
    "denoisingbranching_convNN_K_N_16_16 = DenoisingBranching_ConvNN_2D_K_N(in_ch=3, out_ch=3, K=9, N=36, device='cuda')\n",
    "\n",
    "criterion = nn.MSELoss()\n",
    "optimizer = optim.Adam(denoisingbranching_convNN_K_N_16_16.parameters(), lr=0.001)\n",
    "num_epochs = 10 \n",
    "train_denoising_model(denoisingbranching_convNN_K_N_16_16, noisycbsd68_8000_1600.train_loader, criterion, optimizer, num_epochs, device='cuda')\n",
    "evaluate_denoising_accuracy(denoisingbranching_convNN_K_N_16_16, noisycbsd68_8000_1600.test_loader, criterion, device='cuda')\n",
    "evaluate_accuracy_psnr(denoisingbranching_convNN_K_N_16_16, noisycbsd68_8000_1600.test_loader, criterion, device='cuda')\n",
    "\n",
    "# Print out output of trained model\n",
    "test_denoise_visual_CBSD(denoisingbranching_convNN_K_N_16_16, noisycbsd68_8000_1600.test_data, device='cuda')\n",
    "\n"
   ]
  },
  {
   "cell_type": "code",
   "execution_count": null,
   "metadata": {},
   "outputs": [],
   "source": [
    "# ConvNN K = 9, N = 36\n",
    "denoising_convNN_2D_K_N = DenoisingConvNN_2D_K_N(in_ch=3, out_ch=3, K=9, N=36, device='cuda')\n",
    "\n",
    "criterion = nn.MSELoss()\n",
    "optimizer = optim.Adam(denoising_convNN_2D_K_N.parameters(), lr=0.001)\n",
    "num_epochs = 10\n",
    "train_denoising_model(denoising_convNN_2D_K_N, noisycbsd68_8000_1600.train_loader, criterion, optimizer, num_epochs, device='cuda')\n",
    "evaluate_denoising_accuracy(denoising_convNN_2D_K_N, noisycbsd68_8000_1600.test_loader, criterion, device='cuda')\n",
    "evaluate_accuracy_psnr(denoising_convNN_2D_K_N, noisycbsd68_8000_1600.test_loader, criterion, device='cuda')\n",
    "\n",
    "# Print out output of trained model\n",
    "test_denoise_visual_CBSD(denoising_convNN_2D_K_N, noisycbsd68_8000_1600.test_data, device='cuda')\n",
    "\n"
   ]
  }
 ],
 "metadata": {
  "kernelspec": {
   "display_name": "Python 3.12",
   "language": "python",
   "name": "python3.12"
  },
  "language_info": {
   "codemirror_mode": {
    "name": "ipython",
    "version": 3
   },
   "file_extension": ".py",
   "mimetype": "text/x-python",
   "name": "python",
   "nbconvert_exporter": "python",
   "pygments_lexer": "ipython3",
   "version": "3.12.3"
  }
 },
 "nbformat": 4,
 "nbformat_minor": 4
}
