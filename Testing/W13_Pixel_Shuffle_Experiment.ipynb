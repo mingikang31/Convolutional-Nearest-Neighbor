{
 "cells": [
  {
   "cell_type": "markdown",
   "id": "749daa65",
   "metadata": {},
   "source": [
    "# Pixel Shuffle Experiment\n",
    "- PixelShuffle & PixelUnshuffle or full image size "
   ]
  },
  {
   "cell_type": "code",
   "execution_count": null,
   "id": "d14d2015",
   "metadata": {},
   "outputs": [],
   "source": [
    "# Torch\n",
    "import torch \n",
    "import torch.nn as nn\n",
    "import torch.nn.functional as F\n",
    "from torch import optim \n",
    "\n",
    "\n",
    "# Train + Data \n",
    "import sys \n",
    "sys.path.append('../Layers')\n",
    "from Conv1d_NN_spatial import * \n",
    "from Conv2d_NN_spatial import * \n",
    "\n",
    "sys.path.append('../Data')\n",
    "from CIFAR10 import * \n",
    "\n",
    "\n",
    "sys.path.append('../Models')\n",
    "from classification_models import *\n",
    "\n",
    "sys.path.append('../Train')\n",
    "from train2d import * "
   ]
  },
  {
   "cell_type": "code",
   "execution_count": null,
   "id": "70b7f397",
   "metadata": {},
   "outputs": [],
   "source": [
    "cifar10 = CIFAR10()"
   ]
  },
  {
   "cell_type": "markdown",
   "id": "c48be355",
   "metadata": {},
   "source": [
    "### i. Shuffle Models"
   ]
  },
  {
   "cell_type": "code",
   "execution_count": null,
   "id": "be3a8977",
   "metadata": {},
   "outputs": [],
   "source": [
    "convNN_2d_k_all = ConvNN_2D_K_All(device='cuda', shuffle_pattern=\"BA\", shuffle_scale=2)\n",
    "\n",
    "print(\"Model: \" + convNN_2d_k_all.name)\n",
    "# Test + Eval\n",
    "criterion = nn.CrossEntropyLoss()\n",
    "optimizer = optim.Adam(convNN_2d_k_all.parameters(), lr=0.001)\n",
    "num_epochs = 10 \n",
    "train_eval(convNN_2d_k_all, cifar10.train_loader, cifar10.test_loader, criterion, optimizer, device='cuda')\n",
    "evaluate_accuracy(convNN_2d_k_all, cifar10.test_loader, device='cuda')\n",
    "\n"
   ]
  },
  {
   "cell_type": "code",
   "execution_count": null,
   "id": "c3a2251f",
   "metadata": {},
   "outputs": [],
   "source": [
    "convNN_2d_k_n = ConvNN_2D_K_N(device='cuda', shuffle_pattern=\"BA\", shuffle_scale=2)\n",
    "\n",
    "print(\"Model: \" + convNN_2d_k_n.name)\n",
    "# Test + Eval\n",
    "criterion = nn.CrossEntropyLoss()\n",
    "optimizer = optim.Adam(convNN_2d_k_n.parameters(), lr=0.001)\n",
    "num_epochs = 10 \n",
    "train_eval(convNN_2d_k_n, cifar10.train_loader, cifar10.test_loader, criterion, optimizer, num_epochs, device='cuda')\n",
    "evaluate_accuracy(convNN_2d_k_n, cifar10.test_loader, device='cuda')\n",
    "\n"
   ]
  },
  {
   "cell_type": "code",
   "execution_count": null,
   "id": "52430f0c",
   "metadata": {},
   "outputs": [],
   "source": [
    "convNN_2d_spatial_k_n = ConvNN_2D_Spatial_K_N(device='cuda', shuffle_pattern=\"BA\", shuffle_scale=2)\n",
    "\n",
    "print(\"Model: \" + convNN_2d_spatial_k_n.name)\n",
    "# Test + Eval\n",
    "criterion = nn.CrossEntropyLoss()\n",
    "optimizer = optim.Adam(convNN_2d_spatial_k_n.parameters(), lr=0.001)\n",
    "num_epochs = 10 \n",
    "train_eval(convNN_2d_spatial_k_n, cifar10.train_loader, cifar10.test_loader, criterion, optimizer, num_epochs, device='cuda')\n",
    "evaluate_accuracy(convNN_2d_spatial_k_n, cifar10.test_loader, device='cuda')\n"
   ]
  },
  {
   "cell_type": "code",
   "execution_count": null,
   "id": "fc96af7a",
   "metadata": {},
   "outputs": [],
   "source": [
    "convNN_2d_attn_k_n = ConvNN_2D_Attn_K_N(device='cuda', shuffle_pattern=\"BA\", shuffle_scale=2)\n",
    "\n",
    "print(\"Model: \" + convNN_2d_attn_k_n.name)\n",
    "# Test + Eval\n",
    "criterion = nn.CrossEntropyLoss()\n",
    "optimizer = optim.Adam(convNN_2d_attn_k_n.parameters(), lr=0.001)\n",
    "num_epochs = 10 \n",
    "train_eval(convNN_2d_attn_k_n, cifar10.train_loader, cifar10.test_loader, criterion, optimizer, num_epochs, device='cuda')\n",
    "evaluate_accuracy(convNN_2d_attn_k_n, cifar10.test_loader, device='cuda')\n",
    "\n"
   ]
  },
  {
   "cell_type": "markdown",
   "id": "8cff9f5f",
   "metadata": {},
   "source": [
    "#### Branching"
   ]
  },
  {
   "cell_type": "code",
   "execution_count": null,
   "id": "bb5475d7",
   "metadata": {},
   "outputs": [],
   "source": [
    "branchingconvNN_2d_k_n = Branching_ConvNN_2D_K_N(device='cuda', shuffle_pattern=\"BA\", shuffle_scale=2)\n",
    "\n",
    "print(\"Model: \" + branchingconvNN_2d_k_n.name)\n",
    "# Test + Eval\n",
    "criterion = nn.CrossEntropyLoss()\n",
    "optimizer = optim.Adam(branchingconvNN_2d_k_n.parameters(), lr=0.001)\n",
    "num_epochs = 10 \n",
    "train_eval(branchingconvNN_2d_k_n, cifar10.train_loader, cifar10.test_loader, criterion, optimizer, num_epochs, device='cuda')\n",
    "evaluate_accuracy(branchingconvNN_2d_k_n, cifar10.test_loader, device='cuda')\n",
    "\n"
   ]
  },
  {
   "cell_type": "code",
   "execution_count": null,
   "id": "923fbf77",
   "metadata": {},
   "outputs": [],
   "source": [
    "branchingconvNN_2d_attn_k_n = Branching_ConvNN_2D_Attn_K_N(device='cuda', shuffle_pattern=\"BA\", shuffle_scale=2)\n",
    "\n",
    "print(\"Model: \" + branchingconvNN_2d_attn_k_n.name)\n",
    "# Test + Eval\n",
    "criterion = nn.CrossEntropyLoss()\n",
    "optimizer = optim.Adam(branchingconvNN_2d_attn_k_n.parameters(), lr=0.001)\n",
    "num_epochs = 10 \n",
    "train_eval(branchingconvNN_2d_attn_k_n, cifar10.train_loader, cifar10.test_loader, criterion, optimizer, num_epochs, device='cuda')\n",
    "evaluate_accuracy(branchingconvNN_2d_attn_k_n, cifar10.test_loader, device='cuda')\n",
    "\n"
   ]
  },
  {
   "cell_type": "code",
   "execution_count": null,
   "id": "2b60e2c9",
   "metadata": {},
   "outputs": [],
   "source": []
  },
  {
   "cell_type": "code",
   "execution_count": null,
   "id": "7b520610",
   "metadata": {},
   "outputs": [],
   "source": []
  },
  {
   "cell_type": "markdown",
   "id": "9ef5e98c",
   "metadata": {},
   "source": [
    "### ii. Non-Shuffle Models"
   ]
  },
  {
   "cell_type": "code",
   "execution_count": null,
   "id": "9a1e42ea",
   "metadata": {},
   "outputs": [],
   "source": [
    "convNN_2d_k_all = ConvNN_2D_K_All(device='cuda', shuffle_pattern=\"NA\", shuffle_scale=1)\n",
    "\n",
    "print(\"Model: \" + convNN_2d_k_all.name)\n",
    "# Test + Eval\n",
    "criterion = nn.CrossEntropyLoss()\n",
    "optimizer = optim.Adam(convNN_2d_k_all.parameters(), lr=0.001)\n",
    "num_epochs = 10 \n",
    "train_eval(convNN_2d_k_all, cifar10.train_loader, cifar10.test_loader, criterion, optimizer, device='cuda')\n",
    "evaluate_accuracy(convNN_2d_k_all, cifar10.test_loader, device='cuda')\n",
    "\n"
   ]
  },
  {
   "cell_type": "code",
   "execution_count": null,
   "id": "e3f144d9",
   "metadata": {},
   "outputs": [],
   "source": [
    "convNN_2d_k_n = ConvNN_2D_K_N(device='cuda', shuffle_pattern=\"NA\", shuffle_scale=1)\n",
    "\n",
    "print(\"Model: \" + convNN_2d_k_n.name)\n",
    "# Test + Eval\n",
    "criterion = nn.CrossEntropyLoss()\n",
    "optimizer = optim.Adam(convNN_2d_k_n.parameters(), lr=0.001)\n",
    "num_epochs = 10 \n",
    "train_eval(convNN_2d_k_n, cifar10.train_loader, cifar10.test_loader, criterion, optimizer, num_epochs, device='cuda')\n",
    "evaluate_accuracy(convNN_2d_k_n, cifar10.test_loader, device='cuda')\n",
    "\n"
   ]
  },
  {
   "cell_type": "code",
   "execution_count": null,
   "id": "0f5315f2",
   "metadata": {},
   "outputs": [],
   "source": [
    "convNN_2d_spatial_k_n = ConvNN_2D_Spatial_K_N(device='cuda', shuffle_pattern=\"NA\", shuffle_scale=1)\n",
    "\n",
    "print(\"Model: \" + convNN_2d_spatial_k_n.name)\n",
    "# Test + Eval\n",
    "criterion = nn.CrossEntropyLoss()\n",
    "optimizer = optim.Adam(convNN_2d_spatial_k_n.parameters(), lr=0.001)\n",
    "num_epochs = 10 \n",
    "train_eval(convNN_2d_spatial_k_n, cifar10.train_loader, cifar10.test_loader, criterion, optimizer, num_epochs, device='cuda')\n",
    "evaluate_accuracy(convNN_2d_spatial_k_n, cifar10.test_loader, device='cuda')\n"
   ]
  },
  {
   "cell_type": "code",
   "execution_count": null,
   "id": "663f29dd",
   "metadata": {},
   "outputs": [],
   "source": [
    "convNN_2d_attn_k_n = ConvNN_2D_Attn_K_N(device='cuda', shuffle_pattern=\"NA\", shuffle_scale=1)\n",
    "\n",
    "print(\"Model: \" + convNN_2d_attn_k_n.name)\n",
    "# Test + Eval\n",
    "criterion = nn.CrossEntropyLoss()\n",
    "optimizer = optim.Adam(convNN_2d_attn_k_n.parameters(), lr=0.001)\n",
    "num_epochs = 10 \n",
    "train_eval(convNN_2d_attn_k_n, cifar10.train_loader, cifar10.test_loader, criterion, optimizer, num_epochs, device='cuda')\n",
    "evaluate_accuracy(convNN_2d_attn_k_n, cifar10.test_loader, device='cuda')\n",
    "\n"
   ]
  },
  {
   "cell_type": "markdown",
   "id": "c1208024",
   "metadata": {},
   "source": [
    "#### Branching"
   ]
  },
  {
   "cell_type": "code",
   "execution_count": null,
   "id": "3add2af3",
   "metadata": {},
   "outputs": [],
   "source": [
    "branchingconvNN_2d_k_n = Branching_ConvNN_2D_K_N(device='cuda', shuffle_pattern=\"NA\", shuffle_scale=1)\n",
    "\n",
    "print(\"Model: \" + branchingconvNN_2d_k_n.name)\n",
    "# Test + Eval\n",
    "criterion = nn.CrossEntropyLoss()\n",
    "optimizer = optim.Adam(branchingconvNN_2d_k_n.parameters(), lr=0.001)\n",
    "num_epochs = 10 \n",
    "train_eval(branchingconvNN_2d_k_n, cifar10.train_loader, cifar10.test_loader, criterion, optimizer, num_epochs, device='cuda')\n",
    "evaluate_accuracy(branchingconvNN_2d_k_n, cifar10.test_loader, device='cuda')\n",
    "\n"
   ]
  },
  {
   "cell_type": "code",
   "execution_count": null,
   "id": "53c84bb1",
   "metadata": {},
   "outputs": [],
   "source": [
    "branchingconvNN_2d_attn_k_n = Branching_ConvNN_2D_Attn_K_N(device='cuda', shuffle_pattern=\"NA\", shuffle_scale=1)\n",
    "\n",
    "print(\"Model: \" + branchingconvNN_2d_attn_k_n.name)\n",
    "# Test + Eval\n",
    "criterion = nn.CrossEntropyLoss()\n",
    "optimizer = optim.Adam(branchingconvNN_2d_attn_k_n.parameters(), lr=0.001)\n",
    "num_epochs = 10 \n",
    "train_eval(branchingconvNN_2d_attn_k_n, cifar10.train_loader, cifar10.test_loader, criterion, optimizer, num_epochs, device='cuda')\n",
    "evaluate_accuracy(branchingconvNN_2d_attn_k_n, cifar10.test_loader, device='cuda')\n",
    "\n"
   ]
  },
  {
   "cell_type": "code",
   "execution_count": null,
   "id": "2945b60c",
   "metadata": {},
   "outputs": [],
   "source": []
  },
  {
   "cell_type": "code",
   "execution_count": null,
   "id": "949076fd",
   "metadata": {},
   "outputs": [],
   "source": []
  }
 ],
 "metadata": {
  "language_info": {
   "name": "python"
  }
 },
 "nbformat": 4,
 "nbformat_minor": 5
}
