{
 "cells": [
  {
   "cell_type": "markdown",
   "id": "749daa65",
   "metadata": {},
   "source": [
    "# Pixel Shuffle Experiment\n",
    "- PixelShuffle & PixelUnshuffle or full image size "
   ]
  },
  {
   "cell_type": "code",
   "execution_count": 1,
   "id": "d14d2015",
   "metadata": {},
   "outputs": [],
   "source": [
    "# Torch\n",
    "import torch \n",
    "import torch.nn as nn\n",
    "import torch.nn.functional as F\n",
    "from torch import optim \n",
    "\n",
    "\n",
    "# Train + Data \n",
    "import sys \n",
    "sys.path.append('../Layers')\n",
    "from Conv1d_NN_spatial import * \n",
    "from Conv2d_NN_spatial import * \n",
    "\n",
    "sys.path.append('../Data')\n",
    "from CIFAR10 import * \n",
    "\n",
    "\n",
    "sys.path.append('../Models')\n",
    "from classification_models import *\n",
    "\n",
    "sys.path.append('../Train')\n",
    "from train2d import * "
   ]
  },
  {
   "cell_type": "code",
   "execution_count": 2,
   "id": "70b7f397",
   "metadata": {},
   "outputs": [
    {
     "name": "stdout",
     "output_type": "stream",
     "text": [
      "Files already downloaded and verified\n",
      "Files already downloaded and verified\n"
     ]
    }
   ],
   "source": [
    "cifar10 = CIFAR10()"
   ]
  },
  {
   "cell_type": "code",
   "execution_count": null,
   "id": "8e052501-c6f8-4c69-83e5-eab08a935cc4",
   "metadata": {},
   "outputs": [],
   "source": [
    "\n"
   ]
  },
  {
   "cell_type": "markdown",
   "id": "d4ef15a5-0287-47c1-ac0a-c2ef9a698c65",
   "metadata": {},
   "source": [
    "### Shuffle Model Shuffle_scale = 8"
   ]
  },
  {
   "cell_type": "code",
   "execution_count": 10,
   "id": "3c7e69ff-a574-4452-a899-83daf0048f08",
   "metadata": {},
   "outputs": [
    {
     "name": "stdout",
     "output_type": "stream",
     "text": [
      "Model: ConvNN_2D_K_All\n",
      "Epoch 1, Time: 12.969058990478516, Loss: 2.180765238411896\n",
      "Epoch 1, Accuracy: 29.36%\n",
      "Epoch 2, Time: 12.95665192604065, Loss: 1.86673539495834\n",
      "Epoch 2, Accuracy: 33.24%\n",
      "Epoch 3, Time: 12.990410089492798, Loss: 1.8231420210560265\n",
      "Epoch 3, Accuracy: 33.56%\n",
      "Epoch 4, Time: 12.973422527313232, Loss: 1.795213218540182\n",
      "Epoch 4, Accuracy: 34.52%\n",
      "Epoch 5, Time: 12.963926553726196, Loss: 1.784806438114332\n",
      "Epoch 5, Accuracy: 36.4%\n",
      "Epoch 6, Time: 12.942936658859253, Loss: 1.7674998781260323\n",
      "Epoch 6, Accuracy: 36.86%\n",
      "Epoch 7, Time: 12.954827308654785, Loss: 1.7560474803990416\n",
      "Epoch 7, Accuracy: 35.75%\n",
      "Epoch 8, Time: 12.946695566177368, Loss: 1.7454937415964462\n",
      "Epoch 8, Accuracy: 36.18%\n",
      "Epoch 9, Time: 12.976760625839233, Loss: 1.729934566466095\n",
      "Epoch 9, Accuracy: 36.6%\n",
      "Epoch 10, Time: 12.976519107818604, Loss: 1.718157361535465\n",
      "Epoch 10, Accuracy: 36.04%\n",
      "\n",
      " Average epoch time: 12.965120935440064\n",
      "Accuracy on test set: 36.04%\n"
     ]
    },
    {
     "data": {
      "text/plain": [
       "36.04"
      ]
     },
     "execution_count": 10,
     "metadata": {},
     "output_type": "execute_result"
    }
   ],
   "source": [
    "convNN_2d_k_all = ConvNN_2D_K_All(device='cuda', shuffle_pattern=\"BA\", shuffle_scale=8)\n",
    "\n",
    "print(\"Model: \" + convNN_2d_k_all.name)\n",
    "# Test + Eval\n",
    "criterion = nn.CrossEntropyLoss()\n",
    "optimizer = optim.Adam(convNN_2d_k_all.parameters(), lr=0.001)\n",
    "num_epochs = 10 \n",
    "train_eval(convNN_2d_k_all, cifar10.train_loader, cifar10.test_loader, criterion, optimizer, device='cuda')\n",
    "evaluate_accuracy(convNN_2d_k_all, cifar10.test_loader, device='cuda')\n",
    "\n"
   ]
  },
  {
   "cell_type": "code",
   "execution_count": 11,
   "id": "4c7ce139-a1a7-43e4-b3b9-53402d4b6a69",
   "metadata": {},
   "outputs": [
    {
     "name": "stdout",
     "output_type": "stream",
     "text": [
      "Model: ConvNN_2D_K_N\n",
      "Epoch 1, Time: 13.38261103630066, Loss: 2.053752930725322\n",
      "Epoch 1, Accuracy: 33.25%\n",
      "Epoch 2, Time: 13.41046667098999, Loss: 1.7630621078983901\n",
      "Epoch 2, Accuracy: 39.13%\n",
      "Epoch 3, Time: 13.389364242553711, Loss: 1.7030915011225454\n",
      "Epoch 3, Accuracy: 40.24%\n",
      "Epoch 4, Time: 13.381029844284058, Loss: 1.6475834393745188\n",
      "Epoch 4, Accuracy: 40.78%\n",
      "Epoch 5, Time: 13.47348403930664, Loss: 1.6185206074239042\n",
      "Epoch 5, Accuracy: 42.5%\n",
      "Epoch 6, Time: 13.397605419158936, Loss: 1.5867465263437432\n",
      "Epoch 6, Accuracy: 40.1%\n",
      "Epoch 7, Time: 13.40797734260559, Loss: 1.5756570268470003\n",
      "Epoch 7, Accuracy: 41.98%\n",
      "Epoch 8, Time: 13.410102367401123, Loss: 1.5450333039778883\n",
      "Epoch 8, Accuracy: 42.01%\n",
      "Epoch 9, Time: 13.434867143630981, Loss: 1.5341798134167175\n",
      "Epoch 9, Accuracy: 44.09%\n",
      "Epoch 10, Time: 13.409913301467896, Loss: 1.5150941855767195\n",
      "Epoch 10, Accuracy: 42.88%\n",
      "\n",
      " Average epoch time: 13.409742140769959\n",
      "Accuracy on test set: 42.88%\n"
     ]
    },
    {
     "data": {
      "text/plain": [
       "42.88"
      ]
     },
     "execution_count": 11,
     "metadata": {},
     "output_type": "execute_result"
    }
   ],
   "source": [
    "convNN_2d_k_n = ConvNN_2D_K_N(device='cuda', shuffle_pattern=\"BA\", shuffle_scale=8)\n",
    "\n",
    "print(\"Model: \" + convNN_2d_k_n.name)\n",
    "# Test + Eval\n",
    "criterion = nn.CrossEntropyLoss()\n",
    "optimizer = optim.Adam(convNN_2d_k_n.parameters(), lr=0.001)\n",
    "num_epochs = 10 \n",
    "train_eval(convNN_2d_k_n, cifar10.train_loader, cifar10.test_loader, criterion, optimizer, num_epochs, device='cuda')\n",
    "evaluate_accuracy(convNN_2d_k_n, cifar10.test_loader, device='cuda')\n",
    "\n"
   ]
  },
  {
   "cell_type": "code",
   "execution_count": 12,
   "id": "baa77935-ed7e-4762-ae7a-82be141ba912",
   "metadata": {},
   "outputs": [
    {
     "name": "stdout",
     "output_type": "stream",
     "text": [
      "Model: ConvNN_2D_Attn_K_N\n",
      "Epoch 1, Time: 13.826442956924438, Loss: 1.9047760248489087\n",
      "Epoch 1, Accuracy: 40.44%\n",
      "Epoch 2, Time: 13.789369106292725, Loss: 1.6403797817657062\n",
      "Epoch 2, Accuracy: 43.94%\n",
      "Epoch 3, Time: 13.80567216873169, Loss: 1.5329854204831526\n",
      "Epoch 3, Accuracy: 45.32%\n",
      "Epoch 4, Time: 13.830347299575806, Loss: 1.4593930124016978\n",
      "Epoch 4, Accuracy: 46.55%\n",
      "Epoch 5, Time: 13.807795763015747, Loss: 1.3919540271734643\n",
      "Epoch 5, Accuracy: 46.21%\n",
      "Epoch 6, Time: 13.814140796661377, Loss: 1.3374302754621676\n",
      "Epoch 6, Accuracy: 48.44%\n",
      "Epoch 7, Time: 13.81605076789856, Loss: 1.286816654607768\n",
      "Epoch 7, Accuracy: 48.42%\n",
      "Epoch 8, Time: 13.796748161315918, Loss: 1.2388551765695557\n",
      "Epoch 8, Accuracy: 48.4%\n",
      "Epoch 9, Time: 13.801153182983398, Loss: 1.1942039526941832\n",
      "Epoch 9, Accuracy: 50.1%\n",
      "Epoch 10, Time: 13.790445566177368, Loss: 1.1400884869305983\n",
      "Epoch 10, Accuracy: 50.16%\n",
      "\n",
      " Average epoch time: 13.807816576957702\n",
      "Accuracy on test set: 50.03%\n"
     ]
    },
    {
     "data": {
      "text/plain": [
       "50.03"
      ]
     },
     "execution_count": 12,
     "metadata": {},
     "output_type": "execute_result"
    }
   ],
   "source": [
    "convNN_2d_attn_k_n = ConvNN_2D_Attn_K_N(device='cuda', shuffle_pattern=\"BA\", shuffle_scale=8)\n",
    "\n",
    "print(\"Model: \" + convNN_2d_attn_k_n.name)\n",
    "# Test + Eval\n",
    "criterion = nn.CrossEntropyLoss()\n",
    "optimizer = optim.Adam(convNN_2d_attn_k_n.parameters(), lr=0.001)\n",
    "num_epochs = 10 \n",
    "train_eval(convNN_2d_attn_k_n, cifar10.train_loader, cifar10.test_loader, criterion, optimizer, num_epochs, device='cuda')\n",
    "evaluate_accuracy(convNN_2d_attn_k_n, cifar10.test_loader, device='cuda')\n",
    "\n"
   ]
  },
  {
   "cell_type": "code",
   "execution_count": 13,
   "id": "6164c9bd-2b9d-4486-b699-1311ebab2aaa",
   "metadata": {},
   "outputs": [
    {
     "name": "stdout",
     "output_type": "stream",
     "text": [
      "Model: B_Conv2d_ConvNN_K_N\n",
      "Epoch 1, Time: 14.007745742797852, Loss: 1.741753768585527\n",
      "Epoch 1, Accuracy: 50.62%\n",
      "Epoch 2, Time: 14.042146921157837, Loss: 1.2608867755631352\n",
      "Epoch 2, Accuracy: 57.47%\n",
      "Epoch 3, Time: 14.038022756576538, Loss: 0.983268943207953\n",
      "Epoch 3, Accuracy: 60.12%\n",
      "Epoch 4, Time: 14.044419527053833, Loss: 0.69090524312023\n",
      "Epoch 4, Accuracy: 60.65%\n",
      "Epoch 5, Time: 14.013821363449097, Loss: 0.37699977134156715\n",
      "Epoch 5, Accuracy: 61.21%\n",
      "Epoch 6, Time: 14.01940107345581, Loss: 0.23038555338235614\n",
      "Epoch 6, Accuracy: 60.8%\n",
      "Epoch 7, Time: 14.00478219985962, Loss: 0.16535904058410078\n",
      "Epoch 7, Accuracy: 61.23%\n",
      "Epoch 8, Time: 14.00258207321167, Loss: 0.1596796466180545\n",
      "Epoch 8, Accuracy: 60.72%\n",
      "Epoch 9, Time: 13.989546537399292, Loss: 0.12707806826965726\n",
      "Epoch 9, Accuracy: 60.58%\n",
      "Epoch 10, Time: 13.994632482528687, Loss: 0.12408339564019785\n",
      "Epoch 10, Accuracy: 60.03%\n",
      "\n",
      " Average epoch time: 14.015710067749023\n",
      "Accuracy on test set: 60.03%\n"
     ]
    },
    {
     "data": {
      "text/plain": [
       "60.03"
      ]
     },
     "execution_count": 13,
     "metadata": {},
     "output_type": "execute_result"
    }
   ],
   "source": [
    "branchingconvNN_2d_k_n = B_Conv2d_ConvNN_K_N(device='cuda', shuffle_pattern=\"BA\", shuffle_scale=8)\n",
    "\n",
    "print(\"Model: \" + branchingconvNN_2d_k_n.name)\n",
    "# Test + Eval\n",
    "criterion = nn.CrossEntropyLoss()\n",
    "optimizer = optim.Adam(branchingconvNN_2d_k_n.parameters(), lr=0.001)\n",
    "num_epochs = 10 \n",
    "train_eval(branchingconvNN_2d_k_n, cifar10.train_loader, cifar10.test_loader, criterion, optimizer, num_epochs, device='cuda')\n",
    "evaluate_accuracy(branchingconvNN_2d_k_n, cifar10.test_loader, device='cuda')\n",
    "\n"
   ]
  },
  {
   "cell_type": "code",
   "execution_count": 14,
   "id": "4851de3c-55c2-4c55-8283-4e1af13f27d8",
   "metadata": {},
   "outputs": [
    {
     "name": "stdout",
     "output_type": "stream",
     "text": [
      "Model: B_Conv2d_ConvNN_Attn_K_N\n",
      "Epoch 1, Time: 14.408955812454224, Loss: 1.5212786285316242\n",
      "Epoch 1, Accuracy: 55.63%\n",
      "Epoch 2, Time: 14.428923606872559, Loss: 1.060047517652097\n",
      "Epoch 2, Accuracy: 60.88%\n",
      "Epoch 3, Time: 14.428069114685059, Loss: 0.7342951345016889\n",
      "Epoch 3, Accuracy: 64.04%\n",
      "Epoch 4, Time: 14.44046950340271, Loss: 0.37843000801170573\n",
      "Epoch 4, Accuracy: 63.59%\n",
      "Epoch 5, Time: 14.409596920013428, Loss: 0.18262287916953834\n",
      "Epoch 5, Accuracy: 64.27%\n",
      "Epoch 6, Time: 14.424472332000732, Loss: 0.1401135825773563\n",
      "Epoch 6, Accuracy: 63.29%\n",
      "Epoch 7, Time: 14.434080839157104, Loss: 0.11365264547033631\n",
      "Epoch 7, Accuracy: 62.76%\n",
      "Epoch 8, Time: 14.4341721534729, Loss: 0.10643485707053414\n",
      "Epoch 8, Accuracy: 63.17%\n",
      "Epoch 9, Time: 14.452619314193726, Loss: 0.10129440267932961\n",
      "Epoch 9, Accuracy: 62.85%\n",
      "Epoch 10, Time: 14.438395023345947, Loss: 0.08531122730182641\n",
      "Epoch 10, Accuracy: 62.27%\n",
      "\n",
      " Average epoch time: 14.429975461959838\n",
      "Accuracy on test set: 62.59%\n"
     ]
    },
    {
     "data": {
      "text/plain": [
       "62.59"
      ]
     },
     "execution_count": 14,
     "metadata": {},
     "output_type": "execute_result"
    }
   ],
   "source": [
    "branchingconvNN_2d_attn_k_n = B_Conv2d_ConvNN_Attn_K_N(device='cuda', shuffle_pattern=\"BA\", shuffle_scale=8)\n",
    "\n",
    "print(\"Model: \" + branchingconvNN_2d_attn_k_n.name)\n",
    "# Test + Evaluation \n",
    "criterion = nn.CrossEntropyLoss()\n",
    "optimizer = optim.Adam(branchingconvNN_2d_attn_k_n.parameters(), lr=0.001)\n",
    "num_epochs = 10 \n",
    "train_eval(branchingconvNN_2d_attn_k_n, cifar10.train_loader, cifar10.test_loader, criterion, optimizer, num_epochs, device='cuda')\n",
    "evaluate_accuracy(branchingconvNN_2d_attn_k_n, cifar10.test_loader, device='cuda')\n",
    "\n"
   ]
  },
  {
   "cell_type": "markdown",
   "id": "ce89c332-063c-488a-8844-4ecf6dcdd380",
   "metadata": {},
   "source": [
    "### Shuffle Model Shuffle_scale=4"
   ]
  },
  {
   "cell_type": "code",
   "execution_count": 3,
   "id": "328a2146-8379-46ce-9bc1-35b7f7b77002",
   "metadata": {},
   "outputs": [
    {
     "name": "stdout",
     "output_type": "stream",
     "text": [
      "Model: ConvNN_2D_K_All\n",
      "Epoch 1, Time: 12.110511541366577, Loss: 1.7927434305705683\n",
      "Epoch 1, Accuracy: 45.82%\n",
      "Epoch 2, Time: 11.62419843673706, Loss: 1.4909631513878512\n",
      "Epoch 2, Accuracy: 49.06%\n",
      "Epoch 3, Time: 11.544021844863892, Loss: 1.3753198066635814\n",
      "Epoch 3, Accuracy: 51.17%\n",
      "Epoch 4, Time: 11.514714002609253, Loss: 1.2773052280973596\n",
      "Epoch 4, Accuracy: 51.5%\n",
      "Epoch 5, Time: 11.497868299484253, Loss: 1.199057182616285\n",
      "Epoch 5, Accuracy: 51.43%\n",
      "Epoch 6, Time: 11.509228229522705, Loss: 1.1203260333336833\n",
      "Epoch 6, Accuracy: 52.02%\n",
      "Epoch 7, Time: 11.53068232536316, Loss: 1.04253298859767\n",
      "Epoch 7, Accuracy: 52.77%\n",
      "Epoch 8, Time: 11.534786939620972, Loss: 0.9769427253462165\n",
      "Epoch 8, Accuracy: 51.78%\n",
      "Epoch 9, Time: 11.529165506362915, Loss: 0.8914930404299666\n",
      "Epoch 9, Accuracy: 51.84%\n",
      "Epoch 10, Time: 11.517915487289429, Loss: 0.8291425523550614\n",
      "Epoch 10, Accuracy: 51.95%\n",
      "\n",
      " Average epoch time: 11.59130926132202\n",
      "Accuracy on test set: 51.95%\n"
     ]
    },
    {
     "data": {
      "text/plain": [
       "51.95"
      ]
     },
     "execution_count": 3,
     "metadata": {},
     "output_type": "execute_result"
    }
   ],
   "source": [
    "convNN_2d_k_all = ConvNN_2D_K_All(device='cuda', shuffle_pattern=\"BA\", shuffle_scale=4)\n",
    "\n",
    "print(\"Model: \" + convNN_2d_k_all.name)\n",
    "# Test + Eval\n",
    "criterion = nn.CrossEntropyLoss()\n",
    "optimizer = optim.Adam(convNN_2d_k_all.parameters(), lr=0.001)\n",
    "num_epochs = 10 \n",
    "train_eval(convNN_2d_k_all, cifar10.train_loader, cifar10.test_loader, criterion, optimizer, device='cuda')\n",
    "evaluate_accuracy(convNN_2d_k_all, cifar10.test_loader, device='cuda')\n",
    "\n"
   ]
  },
  {
   "cell_type": "code",
   "execution_count": 4,
   "id": "209bf184-9873-46f4-b26e-ad172c2aecbb",
   "metadata": {},
   "outputs": [
    {
     "name": "stdout",
     "output_type": "stream",
     "text": [
      "Model: ConvNN_2D_K_N\n",
      "Epoch 1, Time: 12.103414058685303, Loss: 1.7731622666349192\n",
      "Epoch 1, Accuracy: 42.98%\n",
      "Epoch 2, Time: 11.972172021865845, Loss: 1.513824304808741\n",
      "Epoch 2, Accuracy: 47.39%\n",
      "Epoch 3, Time: 11.965527296066284, Loss: 1.4054537636544697\n",
      "Epoch 3, Accuracy: 50.26%\n",
      "Epoch 4, Time: 11.953985691070557, Loss: 1.3248091987941577\n",
      "Epoch 4, Accuracy: 50.81%\n",
      "Epoch 5, Time: 11.98526406288147, Loss: 1.251133796351645\n",
      "Epoch 5, Accuracy: 49.6%\n",
      "Epoch 6, Time: 11.988108396530151, Loss: 1.186882872182085\n",
      "Epoch 6, Accuracy: 52.09%\n",
      "Epoch 7, Time: 11.958637237548828, Loss: 1.1141793948914998\n",
      "Epoch 7, Accuracy: 51.66%\n",
      "Epoch 8, Time: 11.971726655960083, Loss: 1.0523222643701011\n",
      "Epoch 8, Accuracy: 50.12%\n",
      "Epoch 9, Time: 11.885966539382935, Loss: 0.9843622846981449\n",
      "Epoch 9, Accuracy: 50.52%\n",
      "Epoch 10, Time: 11.851638078689575, Loss: 0.9182666723837938\n",
      "Epoch 10, Accuracy: 50.55%\n",
      "\n",
      " Average epoch time: 11.963644003868103\n",
      "Accuracy on test set: 50.55%\n"
     ]
    },
    {
     "data": {
      "text/plain": [
       "50.55"
      ]
     },
     "execution_count": 4,
     "metadata": {},
     "output_type": "execute_result"
    }
   ],
   "source": [
    "convNN_2d_k_n = ConvNN_2D_K_N(device='cuda', shuffle_pattern=\"BA\", shuffle_scale=4)\n",
    "\n",
    "print(\"Model: \" + convNN_2d_k_n.name)\n",
    "# Test + Eval\n",
    "criterion = nn.CrossEntropyLoss()\n",
    "optimizer = optim.Adam(convNN_2d_k_n.parameters(), lr=0.001)\n",
    "num_epochs = 10 \n",
    "train_eval(convNN_2d_k_n, cifar10.train_loader, cifar10.test_loader, criterion, optimizer, num_epochs, device='cuda')\n",
    "evaluate_accuracy(convNN_2d_k_n, cifar10.test_loader, device='cuda')\n",
    "\n"
   ]
  },
  {
   "cell_type": "code",
   "execution_count": 5,
   "id": "7d364644-c18b-4c2e-b31a-820c499eda21",
   "metadata": {},
   "outputs": [
    {
     "name": "stdout",
     "output_type": "stream",
     "text": [
      "Model: ConvNN_2D_Attn_K_N\n",
      "Epoch 1, Time: 12.214650630950928, Loss: 1.7948452264756498\n",
      "Epoch 1, Accuracy: 45.1%\n",
      "Epoch 2, Time: 12.245535850524902, Loss: 1.4222983781943845\n",
      "Epoch 2, Accuracy: 51.14%\n",
      "Epoch 3, Time: 12.21458911895752, Loss: 1.291141918172007\n",
      "Epoch 3, Accuracy: 53.69%\n",
      "Epoch 4, Time: 12.18997073173523, Loss: 1.1968265788634416\n",
      "Epoch 4, Accuracy: 56.21%\n",
      "Epoch 5, Time: 12.221591472625732, Loss: 1.1237117842487667\n",
      "Epoch 5, Accuracy: 56.55%\n",
      "Epoch 6, Time: 12.22027039527893, Loss: 1.0563098842378162\n",
      "Epoch 6, Accuracy: 56.59%\n",
      "Epoch 7, Time: 12.214259624481201, Loss: 0.9972853806165173\n",
      "Epoch 7, Accuracy: 57.11%\n",
      "Epoch 8, Time: 12.207762002944946, Loss: 0.9461985674050762\n",
      "Epoch 8, Accuracy: 57.89%\n",
      "Epoch 9, Time: 12.210639476776123, Loss: 0.8870737426878547\n",
      "Epoch 9, Accuracy: 56.75%\n",
      "Epoch 10, Time: 12.212989330291748, Loss: 0.8334672980372558\n",
      "Epoch 10, Accuracy: 56.44%\n",
      "\n",
      " Average epoch time: 12.215225863456727\n",
      "Accuracy on test set: 56.44%\n"
     ]
    },
    {
     "data": {
      "text/plain": [
       "56.44"
      ]
     },
     "execution_count": 5,
     "metadata": {},
     "output_type": "execute_result"
    }
   ],
   "source": [
    "convNN_2d_attn_k_n = ConvNN_2D_Attn_K_N(device='cuda', shuffle_pattern=\"BA\", shuffle_scale=4)\n",
    "\n",
    "print(\"Model: \" + convNN_2d_attn_k_n.name)\n",
    "# Test + Eval\n",
    "criterion = nn.CrossEntropyLoss()\n",
    "optimizer = optim.Adam(convNN_2d_attn_k_n.parameters(), lr=0.001)\n",
    "num_epochs = 10 \n",
    "train_eval(convNN_2d_attn_k_n, cifar10.train_loader, cifar10.test_loader, criterion, optimizer, num_epochs, device='cuda')\n",
    "evaluate_accuracy(convNN_2d_attn_k_n, cifar10.test_loader, device='cuda')\n",
    "\n"
   ]
  },
  {
   "cell_type": "code",
   "execution_count": 6,
   "id": "013a16f1-ec03-4dd8-ad5f-833c671a7545",
   "metadata": {},
   "outputs": [
    {
     "name": "stdout",
     "output_type": "stream",
     "text": [
      "Model: B_Conv2d_ConvNN_K_N\n",
      "Epoch 1, Time: 12.657671451568604, Loss: 1.5079247407291247\n",
      "Epoch 1, Accuracy: 55.02%\n",
      "Epoch 2, Time: 12.519684314727783, Loss: 1.0649617674100735\n",
      "Epoch 2, Accuracy: 63.08%\n",
      "Epoch 3, Time: 12.48776650428772, Loss: 0.7643621093629266\n",
      "Epoch 3, Accuracy: 65.01%\n",
      "Epoch 4, Time: 12.5322425365448, Loss: 0.4346796098877402\n",
      "Epoch 4, Accuracy: 65.85%\n",
      "Epoch 5, Time: 12.481612205505371, Loss: 0.20897802072184166\n",
      "Epoch 5, Accuracy: 63.42%\n",
      "Epoch 6, Time: 12.464161396026611, Loss: 0.1360031435363795\n",
      "Epoch 6, Accuracy: 64.4%\n",
      "Epoch 7, Time: 12.470548629760742, Loss: 0.11323382753504874\n",
      "Epoch 7, Accuracy: 64.64%\n",
      "Epoch 8, Time: 12.493817806243896, Loss: 0.11117982737573526\n",
      "Epoch 8, Accuracy: 64.52%\n",
      "Epoch 9, Time: 12.53295612335205, Loss: 0.08779121639684576\n",
      "Epoch 9, Accuracy: 63.68%\n",
      "Epoch 10, Time: 12.472235918045044, Loss: 0.09280548914028403\n",
      "Epoch 10, Accuracy: 65.66%\n",
      "\n",
      " Average epoch time: 12.511269688606262\n",
      "Accuracy on test set: 65.66%\n"
     ]
    },
    {
     "data": {
      "text/plain": [
       "65.66"
      ]
     },
     "execution_count": 6,
     "metadata": {},
     "output_type": "execute_result"
    }
   ],
   "source": [
    "branchingconvNN_2d_k_n = B_Conv2d_ConvNN_K_N(device='cuda', shuffle_pattern=\"BA\", shuffle_scale=4)\n",
    "\n",
    "print(\"Model: \" + branchingconvNN_2d_k_n.name)\n",
    "# Test + Eval\n",
    "criterion = nn.CrossEntropyLoss()\n",
    "optimizer = optim.Adam(branchingconvNN_2d_k_n.parameters(), lr=0.001)\n",
    "num_epochs = 10 \n",
    "train_eval(branchingconvNN_2d_k_n, cifar10.train_loader, cifar10.test_loader, criterion, optimizer, num_epochs, device='cuda')\n",
    "evaluate_accuracy(branchingconvNN_2d_k_n, cifar10.test_loader, device='cuda')\n",
    "\n"
   ]
  },
  {
   "cell_type": "code",
   "execution_count": 7,
   "id": "552441e5-a53c-410a-9297-94b46a57abd1",
   "metadata": {},
   "outputs": [
    {
     "name": "stdout",
     "output_type": "stream",
     "text": [
      "Model: B_Conv2d_ConvNN_Attn_K_N\n",
      "Epoch 1, Time: 12.90766954421997, Loss: 1.4662313997135747\n",
      "Epoch 1, Accuracy: 55.75%\n",
      "Epoch 2, Time: 12.899404764175415, Loss: 1.063711762275842\n",
      "Epoch 2, Accuracy: 62.57%\n",
      "Epoch 3, Time: 12.927125215530396, Loss: 0.7405079196938469\n",
      "Epoch 3, Accuracy: 65.99%\n",
      "Epoch 4, Time: 12.909769535064697, Loss: 0.423312430015153\n",
      "Epoch 4, Accuracy: 65.28%\n",
      "Epoch 5, Time: 12.863868713378906, Loss: 0.21634937849496028\n",
      "Epoch 5, Accuracy: 63.57%\n",
      "Epoch 6, Time: 12.856508255004883, Loss: 0.15590344359883873\n",
      "Epoch 6, Accuracy: 62.81%\n",
      "Epoch 7, Time: 12.844431400299072, Loss: 0.12375416458212792\n",
      "Epoch 7, Accuracy: 65.01%\n",
      "Epoch 8, Time: 12.822859287261963, Loss: 0.1139669226592078\n",
      "Epoch 8, Accuracy: 64.11%\n",
      "Epoch 9, Time: 12.826859474182129, Loss: 0.10524417724742618\n",
      "Epoch 9, Accuracy: 63.87%\n",
      "Epoch 10, Time: 12.805113315582275, Loss: 0.10152973336896495\n",
      "Epoch 10, Accuracy: 63.73%\n",
      "\n",
      " Average epoch time: 12.866360950469971\n",
      "Accuracy on test set: 63.72%\n"
     ]
    },
    {
     "data": {
      "text/plain": [
       "63.72"
      ]
     },
     "execution_count": 7,
     "metadata": {},
     "output_type": "execute_result"
    }
   ],
   "source": [
    "branchingconvNN_2d_attn_k_n = B_Conv2d_ConvNN_Attn_K_N(device='cuda', shuffle_pattern=\"BA\", shuffle_scale=4)\n",
    "\n",
    "print(\"Model: \" + branchingconvNN_2d_attn_k_n.name)\n",
    "# Test + Evaluation \n",
    "criterion = nn.CrossEntropyLoss()\n",
    "optimizer = optim.Adam(branchingconvNN_2d_attn_k_n.parameters(), lr=0.001)\n",
    "num_epochs = 10 \n",
    "train_eval(branchingconvNN_2d_attn_k_n, cifar10.train_loader, cifar10.test_loader, criterion, optimizer, num_epochs, device='cuda')\n",
    "evaluate_accuracy(branchingconvNN_2d_attn_k_n, cifar10.test_loader, device='cuda')\n",
    "\n"
   ]
  },
  {
   "cell_type": "markdown",
   "id": "c48be355",
   "metadata": {},
   "source": [
    "### i. Shuffle Models Shuffle_scale=2"
   ]
  },
  {
   "cell_type": "code",
   "execution_count": 7,
   "id": "be3a8977",
   "metadata": {},
   "outputs": [
    {
     "name": "stdout",
     "output_type": "stream",
     "text": [
      "Model: ConvNN_2D_K_All\n",
      "Epoch 1, Time: 14.572397470474243, Loss: 1.5257345691056508\n",
      "Epoch 1, Accuracy: 51.81%\n",
      "Epoch 2, Time: 14.594605684280396, Loss: 1.2013580122262315\n",
      "Epoch 2, Accuracy: 55.22%\n",
      "Epoch 3, Time: 14.527924060821533, Loss: 1.0018833556291087\n",
      "Epoch 3, Accuracy: 56.22%\n",
      "Epoch 4, Time: 14.533501863479614, Loss: 0.7917977913718699\n",
      "Epoch 4, Accuracy: 56.68%\n",
      "Epoch 5, Time: 14.486176490783691, Loss: 0.582724316421982\n",
      "Epoch 5, Accuracy: 56.86%\n",
      "Epoch 6, Time: 14.569064140319824, Loss: 0.39860989864143875\n",
      "Epoch 6, Accuracy: 55.33%\n",
      "Epoch 7, Time: 14.580025434494019, Loss: 0.28951383031466427\n",
      "Epoch 7, Accuracy: 55.47%\n",
      "Epoch 8, Time: 14.596468210220337, Loss: 0.21794784975135723\n",
      "Epoch 8, Accuracy: 55.52%\n",
      "Epoch 9, Time: 14.64313554763794, Loss: 0.18436479593729577\n",
      "Epoch 9, Accuracy: 55.19%\n",
      "Epoch 10, Time: 14.787876605987549, Loss: 0.1585028202164575\n",
      "Epoch 10, Accuracy: 54.81%\n",
      "\n",
      " Average epoch time: 14.589117550849915\n",
      "Accuracy on test set: 54.81%\n"
     ]
    },
    {
     "data": {
      "text/plain": [
       "54.81"
      ]
     },
     "execution_count": 7,
     "metadata": {},
     "output_type": "execute_result"
    }
   ],
   "source": [
    "convNN_2d_k_all = ConvNN_2D_K_All(device='cuda', shuffle_pattern=\"BA\", shuffle_scale=2)\n",
    "\n",
    "print(\"Model: \" + convNN_2d_k_all.name)\n",
    "# Test + Eval\n",
    "criterion = nn.CrossEntropyLoss()\n",
    "optimizer = optim.Adam(convNN_2d_k_all.parameters(), lr=0.001)\n",
    "num_epochs = 10 \n",
    "train_eval(convNN_2d_k_all, cifar10.train_loader, cifar10.test_loader, criterion, optimizer, device='cuda')\n",
    "evaluate_accuracy(convNN_2d_k_all, cifar10.test_loader, device='cuda')\n",
    "\n"
   ]
  },
  {
   "cell_type": "code",
   "execution_count": 8,
   "id": "c3a2251f",
   "metadata": {},
   "outputs": [
    {
     "name": "stdout",
     "output_type": "stream",
     "text": [
      "Model: ConvNN_2D_K_N\n",
      "Epoch 1, Time: 14.511224031448364, Loss: 1.6604098529766893\n",
      "Epoch 1, Accuracy: 46.95%\n",
      "Epoch 2, Time: 14.465347528457642, Loss: 1.3538581108498147\n",
      "Epoch 2, Accuracy: 50.85%\n",
      "Epoch 3, Time: 14.586390495300293, Loss: 1.204709714178539\n",
      "Epoch 3, Accuracy: 54.48%\n",
      "Epoch 4, Time: 14.63886046409607, Loss: 1.0826704698755307\n",
      "Epoch 4, Accuracy: 56.48%\n",
      "Epoch 5, Time: 14.528393745422363, Loss: 0.9535820356872685\n",
      "Epoch 5, Accuracy: 57.12%\n",
      "Epoch 6, Time: 14.487966775894165, Loss: 0.8196483815798674\n",
      "Epoch 6, Accuracy: 57.07%\n",
      "Epoch 7, Time: 14.54343318939209, Loss: 0.6894899621948867\n",
      "Epoch 7, Accuracy: 57.58%\n",
      "Epoch 8, Time: 14.427498817443848, Loss: 0.548375214266655\n",
      "Epoch 8, Accuracy: 56.48%\n",
      "Epoch 9, Time: 14.564534187316895, Loss: 0.44379906215326254\n",
      "Epoch 9, Accuracy: 56.71%\n",
      "Epoch 10, Time: 14.540435075759888, Loss: 0.34212019111570496\n",
      "Epoch 10, Accuracy: 55.6%\n",
      "\n",
      " Average epoch time: 14.529408431053161\n",
      "Accuracy on test set: 55.54%\n"
     ]
    },
    {
     "data": {
      "text/plain": [
       "55.54"
      ]
     },
     "execution_count": 8,
     "metadata": {},
     "output_type": "execute_result"
    }
   ],
   "source": [
    "convNN_2d_k_n = ConvNN_2D_K_N(device='cuda', shuffle_pattern=\"BA\", shuffle_scale=2)\n",
    "\n",
    "print(\"Model: \" + convNN_2d_k_n.name)\n",
    "# Test + Eval\n",
    "criterion = nn.CrossEntropyLoss()\n",
    "optimizer = optim.Adam(convNN_2d_k_n.parameters(), lr=0.001)\n",
    "num_epochs = 10 \n",
    "train_eval(convNN_2d_k_n, cifar10.train_loader, cifar10.test_loader, criterion, optimizer, num_epochs, device='cuda')\n",
    "evaluate_accuracy(convNN_2d_k_n, cifar10.test_loader, device='cuda')\n",
    "\n"
   ]
  },
  {
   "cell_type": "code",
   "execution_count": 9,
   "id": "52430f0c",
   "metadata": {},
   "outputs": [
    {
     "name": "stdout",
     "output_type": "stream",
     "text": [
      "Model: ConvNN_2D_Spatial_K_N\n",
      "Epoch 1, Time: 17.09299397468567, Loss: 1.6209980034462326\n",
      "Epoch 1, Accuracy: 48.61%\n",
      "Epoch 2, Time: 17.01289415359497, Loss: 1.2805525797712223\n",
      "Epoch 2, Accuracy: 52.76%\n",
      "Epoch 3, Time: 16.884028434753418, Loss: 1.0640339748481351\n",
      "Epoch 3, Accuracy: 56.64%\n",
      "Epoch 4, Time: 16.94525718688965, Loss: 0.8628519254800914\n",
      "Epoch 4, Accuracy: 57.52%\n",
      "Epoch 5, Time: 16.774125814437866, Loss: 0.6506859772574262\n",
      "Epoch 5, Accuracy: 56.82%\n",
      "Epoch 6, Time: 16.576143503189087, Loss: 0.4389293306814435\n",
      "Epoch 6, Accuracy: 56.05%\n",
      "Epoch 7, Time: 16.09086799621582, Loss: 0.2997169498439945\n",
      "Epoch 7, Accuracy: 55.6%\n",
      "Epoch 8, Time: 16.083446264266968, Loss: 0.22406815791793186\n",
      "Epoch 8, Accuracy: 56.18%\n",
      "Epoch 9, Time: 15.958667993545532, Loss: 0.17876156713918348\n",
      "Epoch 9, Accuracy: 55.61%\n",
      "Epoch 10, Time: 15.825161695480347, Loss: 0.1490606738604567\n",
      "Epoch 10, Accuracy: 54.79%\n",
      "\n",
      " Average epoch time: 16.524358701705932\n",
      "Accuracy on test set: 54.79%\n"
     ]
    },
    {
     "data": {
      "text/plain": [
       "54.79"
      ]
     },
     "execution_count": 9,
     "metadata": {},
     "output_type": "execute_result"
    }
   ],
   "source": [
    "convNN_2d_spatial_k_n = ConvNN_2D_Spatial_K_N(device='cuda', shuffle_pattern=\"BA\", shuffle_scale=2)\n",
    "\n",
    "print(\"Model: \" + convNN_2d_spatial_k_n.name)\n",
    "# Test + Eval\n",
    "criterion = nn.CrossEntropyLoss()\n",
    "optimizer = optim.Adam(convNN_2d_spatial_k_n.parameters(), lr=0.001)\n",
    "num_epochs = 10 \n",
    "train_eval(convNN_2d_spatial_k_n, cifar10.train_loader, cifar10.test_loader, criterion, optimizer, num_epochs, device='cuda')\n",
    "evaluate_accuracy(convNN_2d_spatial_k_n, cifar10.test_loader, device='cuda')\n"
   ]
  },
  {
   "cell_type": "code",
   "execution_count": 10,
   "id": "fc96af7a",
   "metadata": {},
   "outputs": [
    {
     "name": "stdout",
     "output_type": "stream",
     "text": [
      "Model: ConvNN_2D_Attn_K_N\n",
      "Epoch 1, Time: 16.681215286254883, Loss: 2.0501036845204776\n",
      "Epoch 1, Accuracy: 35.74%\n",
      "Epoch 2, Time: 17.89719533920288, Loss: 1.5537867111623134\n",
      "Epoch 2, Accuracy: 51.25%\n",
      "Epoch 3, Time: 15.021746635437012, Loss: 1.310670842828653\n",
      "Epoch 3, Accuracy: 54.03%\n",
      "Epoch 4, Time: 14.985101222991943, Loss: 1.1967525277143853\n",
      "Epoch 4, Accuracy: 57.08%\n",
      "Epoch 5, Time: 15.233256101608276, Loss: 1.1058908449414442\n",
      "Epoch 5, Accuracy: 57.73%\n",
      "Epoch 6, Time: 14.883878707885742, Loss: 1.022715392853598\n",
      "Epoch 6, Accuracy: 58.4%\n",
      "Epoch 7, Time: 14.899449110031128, Loss: 0.932360501011924\n",
      "Epoch 7, Accuracy: 59.97%\n",
      "Epoch 8, Time: 14.981979370117188, Loss: 0.8479838030569998\n",
      "Epoch 8, Accuracy: 59.26%\n",
      "Epoch 9, Time: 15.187319993972778, Loss: 0.7494142102768354\n",
      "Epoch 9, Accuracy: 58.71%\n",
      "Epoch 10, Time: 14.861935138702393, Loss: 0.6632869008099637\n",
      "Epoch 10, Accuracy: 60.0%\n",
      "\n",
      " Average epoch time: 15.463307690620422\n",
      "Accuracy on test set: 59.86%\n"
     ]
    },
    {
     "data": {
      "text/plain": [
       "59.86"
      ]
     },
     "execution_count": 10,
     "metadata": {},
     "output_type": "execute_result"
    }
   ],
   "source": [
    "convNN_2d_attn_k_n = ConvNN_2D_Attn_K_N(device='cuda', shuffle_pattern=\"BA\", shuffle_scale=2)\n",
    "\n",
    "print(\"Model: \" + convNN_2d_attn_k_n.name)\n",
    "# Test + Eval\n",
    "criterion = nn.CrossEntropyLoss()\n",
    "optimizer = optim.Adam(convNN_2d_attn_k_n.parameters(), lr=0.001)\n",
    "num_epochs = 10 \n",
    "train_eval(convNN_2d_attn_k_n, cifar10.train_loader, cifar10.test_loader, criterion, optimizer, num_epochs, device='cuda')\n",
    "evaluate_accuracy(convNN_2d_attn_k_n, cifar10.test_loader, device='cuda')\n",
    "\n"
   ]
  },
  {
   "cell_type": "markdown",
   "id": "8cff9f5f",
   "metadata": {},
   "source": [
    "#### Branching"
   ]
  },
  {
   "cell_type": "code",
   "execution_count": 13,
   "id": "bb5475d7",
   "metadata": {},
   "outputs": [
    {
     "name": "stdout",
     "output_type": "stream",
     "text": [
      "Model: B_Conv2d_ConvNN_K_N\n",
      "Epoch 1, Time: 15.010717153549194, Loss: 1.4322437971754147\n",
      "Epoch 1, Accuracy: 57.66%\n",
      "Epoch 2, Time: 15.063720226287842, Loss: 0.96273738614586\n",
      "Epoch 2, Accuracy: 66.06%\n",
      "Epoch 3, Time: 15.10792088508606, Loss: 0.6151115840581982\n",
      "Epoch 3, Accuracy: 67.5%\n",
      "Epoch 4, Time: 15.003912210464478, Loss: 0.273154681648516\n",
      "Epoch 4, Accuracy: 67.99%\n",
      "Epoch 5, Time: 14.935883045196533, Loss: 0.13817657778025283\n",
      "Epoch 5, Accuracy: 66.96%\n",
      "Epoch 6, Time: 14.973891258239746, Loss: 0.09755265674032175\n",
      "Epoch 6, Accuracy: 66.9%\n",
      "Epoch 7, Time: 15.152818441390991, Loss: 0.10613412480346401\n",
      "Epoch 7, Accuracy: 65.44%\n",
      "Epoch 8, Time: 15.116479873657227, Loss: 0.07574935244051549\n",
      "Epoch 8, Accuracy: 67.07%\n",
      "Epoch 9, Time: 14.940191745758057, Loss: 0.07103641072729998\n",
      "Epoch 9, Accuracy: 63.79%\n",
      "Epoch 10, Time: 14.891220092773438, Loss: 0.07050909275108504\n",
      "Epoch 10, Accuracy: 66.2%\n",
      "\n",
      " Average epoch time: 15.019675493240356\n",
      "Accuracy on test set: 66.26%\n"
     ]
    },
    {
     "data": {
      "text/plain": [
       "66.26"
      ]
     },
     "execution_count": 13,
     "metadata": {},
     "output_type": "execute_result"
    }
   ],
   "source": [
    "branchingconvNN_2d_k_n = B_Conv2d_ConvNN_K_N(device='cuda', shuffle_pattern=\"BA\", shuffle_scale=2)\n",
    "\n",
    "print(\"Model: \" + branchingconvNN_2d_k_n.name)\n",
    "# Test + Eval\n",
    "criterion = nn.CrossEntropyLoss()\n",
    "optimizer = optim.Adam(branchingconvNN_2d_k_n.parameters(), lr=0.001)\n",
    "num_epochs = 10 \n",
    "train_eval(branchingconvNN_2d_k_n, cifar10.train_loader, cifar10.test_loader, criterion, optimizer, num_epochs, device='cuda')\n",
    "evaluate_accuracy(branchingconvNN_2d_k_n, cifar10.test_loader, device='cuda')\n",
    "\n"
   ]
  },
  {
   "cell_type": "code",
   "execution_count": 14,
   "id": "923fbf77",
   "metadata": {},
   "outputs": [
    {
     "name": "stdout",
     "output_type": "stream",
     "text": [
      "Model: B_Conv2d_ConvNN_Attn_K_N\n",
      "Epoch 1, Time: 15.75278639793396, Loss: 1.4353946298741929\n",
      "Epoch 1, Accuracy: 58.51%\n",
      "Epoch 2, Time: 15.392202854156494, Loss: 0.9736660747119533\n",
      "Epoch 2, Accuracy: 66.52%\n",
      "Epoch 3, Time: 15.413888216018677, Loss: 0.6676735427144849\n",
      "Epoch 3, Accuracy: 68.17%\n",
      "Epoch 4, Time: 15.353525400161743, Loss: 0.35072653769227247\n",
      "Epoch 4, Accuracy: 67.83%\n",
      "Epoch 5, Time: 15.577954053878784, Loss: 0.16491454107510617\n",
      "Epoch 5, Accuracy: 66.15%\n",
      "Epoch 6, Time: 15.568886995315552, Loss: 0.13263535836373297\n",
      "Epoch 6, Accuracy: 66.31%\n",
      "Epoch 7, Time: 16.01538872718811, Loss: 0.09876950646368333\n",
      "Epoch 7, Accuracy: 65.84%\n",
      "Epoch 8, Time: 15.341939687728882, Loss: 0.09100381348012944\n",
      "Epoch 8, Accuracy: 66.18%\n",
      "Epoch 9, Time: 15.384984493255615, Loss: 0.08274087377632146\n",
      "Epoch 9, Accuracy: 65.59%\n",
      "Epoch 10, Time: 15.409066677093506, Loss: 0.07521601005472527\n",
      "Epoch 10, Accuracy: 64.73%\n",
      "\n",
      " Average epoch time: 15.521062350273132\n",
      "Accuracy on test set: 65.03%\n"
     ]
    },
    {
     "data": {
      "text/plain": [
       "65.03"
      ]
     },
     "execution_count": 14,
     "metadata": {},
     "output_type": "execute_result"
    }
   ],
   "source": [
    "branchingconvNN_2d_attn_k_n = B_Conv2d_ConvNN_Attn_K_N(device='cuda', shuffle_pattern=\"BA\", shuffle_scale=2)\n",
    "\n",
    "print(\"Model: \" + branchingconvNN_2d_attn_k_n.name)\n",
    "# Test + Evaluation \n",
    "criterion = nn.CrossEntropyLoss()\n",
    "optimizer = optim.Adam(branchingconvNN_2d_attn_k_n.parameters(), lr=0.001)\n",
    "num_epochs = 10 \n",
    "train_eval(branchingconvNN_2d_attn_k_n, cifar10.train_loader, cifar10.test_loader, criterion, optimizer, num_epochs, device='cuda')\n",
    "evaluate_accuracy(branchingconvNN_2d_attn_k_n, cifar10.test_loader, device='cuda')\n",
    "\n"
   ]
  },
  {
   "cell_type": "code",
   "execution_count": null,
   "id": "2b60e2c9",
   "metadata": {},
   "outputs": [],
   "source": []
  },
  {
   "cell_type": "code",
   "execution_count": null,
   "id": "7b520610",
   "metadata": {},
   "outputs": [],
   "source": []
  },
  {
   "cell_type": "markdown",
   "id": "9ef5e98c",
   "metadata": {},
   "source": [
    "### ii. Non-Shuffle Models"
   ]
  },
  {
   "cell_type": "code",
   "execution_count": 15,
   "id": "9a1e42ea",
   "metadata": {},
   "outputs": [
    {
     "name": "stdout",
     "output_type": "stream",
     "text": [
      "Model: ConvNN_2D_K_All\n",
      "Epoch 1, Time: 19.894203186035156, Loss: 1.555889063021716\n",
      "Epoch 1, Accuracy: 50.89%\n",
      "Epoch 2, Time: 19.866033792495728, Loss: 1.2478630659372911\n",
      "Epoch 2, Accuracy: 53.64%\n",
      "Epoch 3, Time: 19.862290382385254, Loss: 1.0012976788651302\n",
      "Epoch 3, Accuracy: 54.06%\n",
      "Epoch 4, Time: 19.880293369293213, Loss: 0.6222336596387732\n",
      "Epoch 4, Accuracy: 53.13%\n",
      "Epoch 5, Time: 19.870189666748047, Loss: 0.2831324729925531\n",
      "Epoch 5, Accuracy: 52.3%\n",
      "Epoch 6, Time: 19.82549548149109, Loss: 0.14252646634226565\n",
      "Epoch 6, Accuracy: 51.67%\n",
      "Epoch 7, Time: 19.862452507019043, Loss: 0.09630775498464475\n",
      "Epoch 7, Accuracy: 50.38%\n",
      "Epoch 8, Time: 19.885186672210693, Loss: 0.08301074541700275\n",
      "Epoch 8, Accuracy: 50.95%\n",
      "Epoch 9, Time: 19.88665795326233, Loss: 0.07563395127791035\n",
      "Epoch 9, Accuracy: 50.41%\n",
      "Epoch 10, Time: 19.913246154785156, Loss: 0.06254448581521478\n",
      "Epoch 10, Accuracy: 50.07%\n",
      "\n",
      " Average epoch time: 19.874604916572572\n",
      "Accuracy on test set: 50.07%\n"
     ]
    },
    {
     "data": {
      "text/plain": [
       "50.07"
      ]
     },
     "execution_count": 15,
     "metadata": {},
     "output_type": "execute_result"
    }
   ],
   "source": [
    "convNN_2d_k_all = ConvNN_2D_K_All(device='cuda', shuffle_pattern=\"NA\", shuffle_scale=1)\n",
    "\n",
    "print(\"Model: \" + convNN_2d_k_all.name)\n",
    "# Test + Eval\n",
    "criterion = nn.CrossEntropyLoss()\n",
    "optimizer = optim.Adam(convNN_2d_k_all.parameters(), lr=0.001)\n",
    "num_epochs = 10 \n",
    "train_eval(convNN_2d_k_all, cifar10.train_loader, cifar10.test_loader, criterion, optimizer, device='cuda')\n",
    "evaluate_accuracy(convNN_2d_k_all, cifar10.test_loader, device='cuda')\n",
    "\n"
   ]
  },
  {
   "cell_type": "code",
   "execution_count": 16,
   "id": "e3f144d9",
   "metadata": {},
   "outputs": [
    {
     "name": "stdout",
     "output_type": "stream",
     "text": [
      "Model: ConvNN_2D_K_N\n",
      "Epoch 1, Time: 14.438705682754517, Loss: 1.6859360437868807\n",
      "Epoch 1, Accuracy: 47.16%\n",
      "Epoch 2, Time: 14.335655212402344, Loss: 1.354876212451769\n",
      "Epoch 2, Accuracy: 52.7%\n",
      "Epoch 3, Time: 14.439359426498413, Loss: 1.197692964616639\n",
      "Epoch 3, Accuracy: 53.19%\n",
      "Epoch 4, Time: 14.468072652816772, Loss: 1.04142696404701\n",
      "Epoch 4, Accuracy: 54.45%\n",
      "Epoch 5, Time: 14.437822341918945, Loss: 0.8587459654301939\n",
      "Epoch 5, Accuracy: 54.68%\n",
      "Epoch 6, Time: 14.407764434814453, Loss: 0.6454475516324762\n",
      "Epoch 6, Accuracy: 54.31%\n",
      "Epoch 7, Time: 14.395257949829102, Loss: 0.4473864284851362\n",
      "Epoch 7, Accuracy: 54.86%\n",
      "Epoch 8, Time: 14.387014150619507, Loss: 0.31325759437611644\n",
      "Epoch 8, Accuracy: 52.68%\n",
      "Epoch 9, Time: 14.435332298278809, Loss: 0.2263074666118759\n",
      "Epoch 9, Accuracy: 52.49%\n",
      "Epoch 10, Time: 14.397313594818115, Loss: 0.1871450284205358\n",
      "Epoch 10, Accuracy: 53.5%\n",
      "\n",
      " Average epoch time: 14.414229774475098\n",
      "Accuracy on test set: 53.31%\n"
     ]
    },
    {
     "data": {
      "text/plain": [
       "53.31"
      ]
     },
     "execution_count": 16,
     "metadata": {},
     "output_type": "execute_result"
    }
   ],
   "source": [
    "convNN_2d_k_n = ConvNN_2D_K_N(device='cuda', shuffle_pattern=\"NA\", shuffle_scale=1)\n",
    "\n",
    "print(\"Model: \" + convNN_2d_k_n.name)\n",
    "# Test + Eval\n",
    "criterion = nn.CrossEntropyLoss()\n",
    "optimizer = optim.Adam(convNN_2d_k_n.parameters(), lr=0.001)\n",
    "num_epochs = 10 \n",
    "train_eval(convNN_2d_k_n, cifar10.train_loader, cifar10.test_loader, criterion, optimizer, num_epochs, device='cuda')\n",
    "evaluate_accuracy(convNN_2d_k_n, cifar10.test_loader, device='cuda')\n",
    "\n"
   ]
  },
  {
   "cell_type": "code",
   "execution_count": 17,
   "id": "0f5315f2",
   "metadata": {},
   "outputs": [
    {
     "name": "stdout",
     "output_type": "stream",
     "text": [
      "Model: ConvNN_2D_Spatial_K_N\n",
      "Epoch 1, Time: 19.935912370681763, Loss: 1.674240321302048\n",
      "Epoch 1, Accuracy: 47.49%\n",
      "Epoch 2, Time: 20.195545434951782, Loss: 1.324196695595446\n",
      "Epoch 2, Accuracy: 51.41%\n",
      "Epoch 3, Time: 20.155789136886597, Loss: 1.0785320478174694\n",
      "Epoch 3, Accuracy: 53.55%\n",
      "Epoch 4, Time: 20.148038387298584, Loss: 0.7355952609682936\n",
      "Epoch 4, Accuracy: 51.88%\n",
      "Epoch 5, Time: 19.445435523986816, Loss: 0.3773433607824318\n",
      "Epoch 5, Accuracy: 50.16%\n",
      "Epoch 6, Time: 20.768606185913086, Loss: 0.1771003468595731\n",
      "Epoch 6, Accuracy: 50.48%\n",
      "Epoch 7, Time: 20.87458062171936, Loss: 0.11950479410684017\n",
      "Epoch 7, Accuracy: 48.78%\n",
      "Epoch 8, Time: 19.599323987960815, Loss: 0.08244195891975346\n",
      "Epoch 8, Accuracy: 49.08%\n",
      "Epoch 9, Time: 20.332545042037964, Loss: 0.0829762901802359\n",
      "Epoch 9, Accuracy: 49.07%\n",
      "Epoch 10, Time: 20.36919355392456, Loss: 0.07681947734797626\n",
      "Epoch 10, Accuracy: 50.58%\n",
      "\n",
      " Average epoch time: 20.182497024536133\n",
      "Accuracy on test set: 50.58%\n"
     ]
    },
    {
     "data": {
      "text/plain": [
       "50.58"
      ]
     },
     "execution_count": 17,
     "metadata": {},
     "output_type": "execute_result"
    }
   ],
   "source": [
    "convNN_2d_spatial_k_n = ConvNN_2D_Spatial_K_N(device='cuda', shuffle_pattern=\"NA\", shuffle_scale=1)\n",
    "\n",
    "print(\"Model: \" + convNN_2d_spatial_k_n.name)\n",
    "# Test + Eval\n",
    "criterion = nn.CrossEntropyLoss()\n",
    "optimizer = optim.Adam(convNN_2d_spatial_k_n.parameters(), lr=0.001)\n",
    "num_epochs = 10 \n",
    "train_eval(convNN_2d_spatial_k_n, cifar10.train_loader, cifar10.test_loader, criterion, optimizer, num_epochs, device='cuda')\n",
    "evaluate_accuracy(convNN_2d_spatial_k_n, cifar10.test_loader, device='cuda')\n"
   ]
  },
  {
   "cell_type": "code",
   "execution_count": 18,
   "id": "663f29dd",
   "metadata": {},
   "outputs": [
    {
     "name": "stdout",
     "output_type": "stream",
     "text": [
      "Model: ConvNN_2D_Attn_K_N\n",
      "Epoch 1, Time: 15.422865390777588, Loss: 2.028128692408657\n",
      "Epoch 1, Accuracy: 33.91%\n",
      "Epoch 2, Time: 16.677013397216797, Loss: 1.7167618446947668\n",
      "Epoch 2, Accuracy: 42.03%\n",
      "Epoch 3, Time: 15.394862174987793, Loss: 1.5740636762450724\n",
      "Epoch 3, Accuracy: 47.38%\n",
      "Epoch 4, Time: 15.537782430648804, Loss: 1.461149836592662\n",
      "Epoch 4, Accuracy: 49.04%\n",
      "Epoch 5, Time: 15.5443434715271, Loss: 1.3804066661373733\n",
      "Epoch 5, Accuracy: 50.52%\n",
      "Epoch 6, Time: 15.398526906967163, Loss: 1.315873891953617\n",
      "Epoch 6, Accuracy: 50.47%\n",
      "Epoch 7, Time: 17.04844093322754, Loss: 1.2547122886418687\n",
      "Epoch 7, Accuracy: 52.01%\n",
      "Epoch 8, Time: 16.391984462738037, Loss: 1.1911787944833945\n",
      "Epoch 8, Accuracy: 52.57%\n",
      "Epoch 9, Time: 15.97826862335205, Loss: 1.120254111107048\n",
      "Epoch 9, Accuracy: 52.79%\n",
      "Epoch 10, Time: 15.521138191223145, Loss: 1.049591064148242\n",
      "Epoch 10, Accuracy: 53.03%\n",
      "\n",
      " Average epoch time: 15.8915225982666\n",
      "Accuracy on test set: 53.2%\n"
     ]
    },
    {
     "data": {
      "text/plain": [
       "53.2"
      ]
     },
     "execution_count": 18,
     "metadata": {},
     "output_type": "execute_result"
    }
   ],
   "source": [
    "convNN_2d_attn_k_n = ConvNN_2D_Attn_K_N(device='cuda', shuffle_pattern=\"NA\", shuffle_scale=1)\n",
    "\n",
    "print(\"Model: \" + convNN_2d_attn_k_n.name)\n",
    "# Test + Eval\n",
    "criterion = nn.CrossEntropyLoss()\n",
    "optimizer = optim.Adam(convNN_2d_attn_k_n.parameters(), lr=0.001)\n",
    "num_epochs = 10 \n",
    "train_eval(convNN_2d_attn_k_n, cifar10.train_loader, cifar10.test_loader, criterion, optimizer, num_epochs, device='cuda')\n",
    "evaluate_accuracy(convNN_2d_attn_k_n, cifar10.test_loader, device='cuda')\n",
    "\n"
   ]
  },
  {
   "cell_type": "markdown",
   "id": "c1208024",
   "metadata": {},
   "source": [
    "#### Branching"
   ]
  },
  {
   "cell_type": "code",
   "execution_count": 19,
   "id": "3add2af3",
   "metadata": {},
   "outputs": [
    {
     "name": "stdout",
     "output_type": "stream",
     "text": [
      "Model: B_Conv2d_ConvNN_K_N\n",
      "Epoch 1, Time: 15.236204624176025, Loss: 1.3889047649053052\n",
      "Epoch 1, Accuracy: 60.43%\n",
      "Epoch 2, Time: 15.377278566360474, Loss: 0.9083995680751094\n",
      "Epoch 2, Accuracy: 66.76%\n",
      "Epoch 3, Time: 15.317450284957886, Loss: 0.5507940744785854\n",
      "Epoch 3, Accuracy: 68.53%\n",
      "Epoch 4, Time: 15.068968296051025, Loss: 0.2282232579386905\n",
      "Epoch 4, Accuracy: 66.38%\n",
      "Epoch 5, Time: 15.475541830062866, Loss: 0.12077945455565782\n",
      "Epoch 5, Accuracy: 65.78%\n",
      "Epoch 6, Time: 15.332452774047852, Loss: 0.09623942769589879\n",
      "Epoch 6, Accuracy: 66.06%\n",
      "Epoch 7, Time: 15.28947114944458, Loss: 0.08770429508765336\n",
      "Epoch 7, Accuracy: 66.48%\n",
      "Epoch 8, Time: 15.280771970748901, Loss: 0.07264569186491777\n",
      "Epoch 8, Accuracy: 66.37%\n",
      "Epoch 9, Time: 15.591065406799316, Loss: 0.06861646078648898\n",
      "Epoch 9, Accuracy: 64.8%\n",
      "Epoch 10, Time: 15.300384044647217, Loss: 0.07234860324125757\n",
      "Epoch 10, Accuracy: 67.01%\n",
      "\n",
      " Average epoch time: 15.326958894729614\n",
      "Accuracy on test set: 66.71%\n"
     ]
    },
    {
     "data": {
      "text/plain": [
       "66.71"
      ]
     },
     "execution_count": 19,
     "metadata": {},
     "output_type": "execute_result"
    }
   ],
   "source": [
    "branchingconvNN_2d_k_n = B_Conv2d_ConvNN_K_N(device='cuda', shuffle_pattern=\"NA\", shuffle_scale=1)\n",
    "\n",
    "print(\"Model: \" + branchingconvNN_2d_k_n.name)\n",
    "# Test + Eval\n",
    "criterion = nn.CrossEntropyLoss()\n",
    "optimizer = optim.Adam(branchingconvNN_2d_k_n.parameters(), lr=0.001)\n",
    "num_epochs = 10 \n",
    "train_eval(branchingconvNN_2d_k_n, cifar10.train_loader, cifar10.test_loader, criterion, optimizer, num_epochs, device='cuda')\n",
    "evaluate_accuracy(branchingconvNN_2d_k_n, cifar10.test_loader, device='cuda')\n",
    "\n"
   ]
  },
  {
   "cell_type": "code",
   "execution_count": 20,
   "id": "53c84bb1",
   "metadata": {},
   "outputs": [
    {
     "name": "stdout",
     "output_type": "stream",
     "text": [
      "Model: B_Conv2d_ConvNN_Attn_K_N\n",
      "Epoch 1, Time: 16.143786430358887, Loss: 1.566210933963356\n",
      "Epoch 1, Accuracy: 52.98%\n",
      "Epoch 2, Time: 16.144120693206787, Loss: 1.119136253814868\n",
      "Epoch 2, Accuracy: 61.11%\n",
      "Epoch 3, Time: 16.088814973831177, Loss: 0.8372200542627393\n",
      "Epoch 3, Accuracy: 66.55%\n",
      "Epoch 4, Time: 16.103530645370483, Loss: 0.5427764947800076\n",
      "Epoch 4, Accuracy: 66.66%\n",
      "Epoch 5, Time: 16.158541440963745, Loss: 0.2749366696276095\n",
      "Epoch 5, Accuracy: 65.48%\n",
      "Epoch 6, Time: 16.18149447441101, Loss: 0.1622921872414801\n",
      "Epoch 6, Accuracy: 64.79%\n",
      "Epoch 7, Time: 16.218255043029785, Loss: 0.1212062496909886\n",
      "Epoch 7, Accuracy: 65.94%\n",
      "Epoch 8, Time: 16.077767610549927, Loss: 0.10156969854991069\n",
      "Epoch 8, Accuracy: 63.95%\n",
      "Epoch 9, Time: 16.097522020339966, Loss: 0.08904604301841505\n",
      "Epoch 9, Accuracy: 64.66%\n",
      "Epoch 10, Time: 16.11951971054077, Loss: 0.09213209950515186\n",
      "Epoch 10, Accuracy: 64.86%\n",
      "\n",
      " Average epoch time: 16.133335304260253\n",
      "Accuracy on test set: 64.58%\n"
     ]
    },
    {
     "data": {
      "text/plain": [
       "64.58"
      ]
     },
     "execution_count": 20,
     "metadata": {},
     "output_type": "execute_result"
    }
   ],
   "source": [
    "branchingconvNN_2d_attn_k_n = B_Conv2d_ConvNN_Attn_K_N(device='cuda', shuffle_pattern=\"NA\", shuffle_scale=1)\n",
    "\n",
    "print(\"Model: \" + branchingconvNN_2d_attn_k_n.name)\n",
    "# Test + Eval\n",
    "criterion = nn.CrossEntropyLoss()\n",
    "optimizer = optim.Adam(branchingconvNN_2d_attn_k_n.parameters(), lr=0.001)\n",
    "num_epochs = 10 \n",
    "train_eval(branchingconvNN_2d_attn_k_n, cifar10.train_loader, cifar10.test_loader, criterion, optimizer, num_epochs, device='cuda')\n",
    "evaluate_accuracy(branchingconvNN_2d_attn_k_n, cifar10.test_loader, device='cuda')\n",
    "\n"
   ]
  },
  {
   "cell_type": "code",
   "execution_count": null,
   "id": "2945b60c",
   "metadata": {},
   "outputs": [],
   "source": []
  },
  {
   "cell_type": "code",
   "execution_count": null,
   "id": "949076fd",
   "metadata": {},
   "outputs": [],
   "source": []
  }
 ],
 "metadata": {
  "kernelspec": {
   "display_name": "Python 3.12",
   "language": "python",
   "name": "python3.12"
  },
  "language_info": {
   "codemirror_mode": {
    "name": "ipython",
    "version": 3
   },
   "file_extension": ".py",
   "mimetype": "text/x-python",
   "name": "python",
   "nbconvert_exporter": "python",
   "pygments_lexer": "ipython3",
   "version": "3.12.3"
  }
 },
 "nbformat": 4,
 "nbformat_minor": 5
}
