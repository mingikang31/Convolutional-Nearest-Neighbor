{
 "cells": [
  {
   "cell_type": "markdown",
   "metadata": {},
   "source": [
    "# CNN vs. ConvNN vs. ConvNN location Accuracy + Speed Test"
   ]
  },
  {
   "cell_type": "code",
   "execution_count": 1,
   "metadata": {},
   "outputs": [
    {
     "name": "stderr",
     "output_type": "stream",
     "text": [
      "/Users/mingikang/miniforge3/envs/ML/lib/python3.12/site-packages/tqdm/auto.py:21: TqdmWarning: IProgress not found. Please update jupyter and ipywidgets. See https://ipywidgets.readthedocs.io/en/stable/user_install.html\n",
      "  from .autonotebook import tqdm as notebook_tqdm\n"
     ]
    }
   ],
   "source": [
    "# Torch\n",
    "import torch \n",
    "import torch.nn as nn\n",
    "import torch.nn.functional as F\n",
    "from torch import optim \n",
    "\n",
    "\n",
    "# Train + Data \n",
    "import sys \n",
    "sys.path.append('../Layers')\n",
    "from Conv1d_NN import *\n",
    "from Conv2d_NN import *\n",
    "\n",
    "from Conv1d_NN_spatial import * \n",
    "from Conv2d_NN_spatial import * \n",
    "\n",
    "sys.path.append('../Data')\n",
    "from CIFAR10 import * \n",
    "\n",
    "\n",
    "sys.path.append('../Train')\n",
    "from train2d import * \n"
   ]
  },
  {
   "cell_type": "markdown",
   "metadata": {},
   "source": [
    "## I. Models"
   ]
  },
  {
   "cell_type": "code",
   "execution_count": 2,
   "metadata": {},
   "outputs": [
    {
     "name": "stdout",
     "output_type": "stream",
     "text": [
      "----------------------------------------------------------------\n",
      "        Layer (type)               Output Shape         Param #\n",
      "================================================================\n",
      "            Conv2d-1           [-1, 16, 32, 32]             448\n",
      "              ReLU-2           [-1, 16, 32, 32]               0\n",
      "            Conv2d-3           [-1, 32, 32, 32]           4,640\n",
      "              ReLU-4           [-1, 32, 32, 32]               0\n",
      "           Flatten-5                [-1, 32768]               0\n",
      "            Linear-6                 [-1, 1024]      33,555,456\n",
      "              ReLU-7                 [-1, 1024]               0\n",
      "            Linear-8                   [-1, 10]          10,250\n",
      "================================================================\n",
      "Total params: 33,570,794\n",
      "Trainable params: 33,570,794\n",
      "Non-trainable params: 0\n",
      "----------------------------------------------------------------\n",
      "Input size (MB): 0.01\n",
      "Forward/backward pass size (MB): 1.02\n",
      "Params size (MB): 128.06\n",
      "Estimated Total Size (MB): 129.09\n",
      "----------------------------------------------------------------\n"
     ]
    }
   ],
   "source": [
    "# Classic CNN 2D Model - Control Model \n",
    "\n",
    "CNN_2D = nn.Sequential(\n",
    "    nn.Conv2d(3, 16, kernel_size=3, stride=1, padding=1),\n",
    "    nn.ReLU(),\n",
    "\n",
    "    nn.Conv2d(16, 32, kernel_size=3, stride=1, padding=1),\n",
    "    nn.ReLU(),\n",
    "\n",
    "    nn.Flatten(),\n",
    "    nn.Linear(32768, 1024),\n",
    "    nn.ReLU(),\n",
    "    nn.Linear(1024, 10)\n",
    ").to('cpu')\n",
    "\n",
    "from torchsummary import summary \n",
    "summary(CNN_2D, (3, 32, 32))\n"
   ]
  },
  {
   "cell_type": "code",
   "execution_count": 3,
   "metadata": {},
   "outputs": [
    {
     "name": "stdout",
     "output_type": "stream",
     "text": [
      "----------------------------------------------------------------\n",
      "        Layer (type)               Output Shape         Param #\n",
      "================================================================\n",
      "           Flatten-1              [-1, 12, 256]               0\n",
      "            Conv1d-2              [-1, 64, 256]           6,976\n",
      "         Conv1d_NN-3              [-1, 64, 256]               0\n",
      "         Conv2d_NN-4           [-1, 16, 32, 32]               0\n",
      "              ReLU-5           [-1, 16, 32, 32]               0\n",
      "           Flatten-6              [-1, 64, 256]               0\n",
      "            Conv1d-7             [-1, 128, 256]          73,856\n",
      "         Conv1d_NN-8             [-1, 128, 256]               0\n",
      "         Conv2d_NN-9           [-1, 32, 32, 32]               0\n",
      "             ReLU-10           [-1, 32, 32, 32]               0\n",
      "          Flatten-11                [-1, 32768]               0\n",
      "           Linear-12                 [-1, 1024]      33,555,456\n",
      "             ReLU-13                 [-1, 1024]               0\n",
      "           Linear-14                   [-1, 10]          10,250\n",
      "================================================================\n",
      "Total params: 33,646,538\n",
      "Trainable params: 33,646,538\n",
      "Non-trainable params: 0\n",
      "----------------------------------------------------------------\n",
      "Input size (MB): 0.01\n",
      "Forward/backward pass size (MB): 1.91\n",
      "Params size (MB): 128.35\n",
      "Estimated Total Size (MB): 130.28\n",
      "----------------------------------------------------------------\n"
     ]
    }
   ],
   "source": [
    "# ConNN 2D All Sample Model with K = 9\n",
    "Conv2dNN_9_all = nn.Sequential(\n",
    "   Conv2d_NN(\n",
    "      in_channels=3,\n",
    "      out_channels=16,\n",
    "      K=9,\n",
    "      stride=9,\n",
    "      padding=0,\n",
    "      shuffle_pattern=\"BA\", \n",
    "      shuffle_scale=2, \n",
    "      samples=\"all\", \n",
    "   ), \n",
    "   nn.ReLU(),\n",
    "\n",
    "   Conv2d_NN(\n",
    "      in_channels=16,\n",
    "      out_channels=32,\n",
    "      K=9,\n",
    "      stride=9,\n",
    "      padding=0,\n",
    "      shuffle_pattern=\"BA\", \n",
    "      shuffle_scale=2, \n",
    "      samples=\"all\", \n",
    "   ),\n",
    "   nn.ReLU(),\n",
    "   \n",
    "   nn.Flatten(),\n",
    "   nn.Linear(32768, 1024),\n",
    "   nn.ReLU(),\n",
    "   nn.Linear(1024, 10)\n",
    ").to('cpu')\n",
    "\n",
    "from torchsummary import summary\n",
    "summary(Conv2dNN_9_all, (3, 32, 32))\n"
   ]
  },
  {
   "cell_type": "code",
   "execution_count": 4,
   "metadata": {},
   "outputs": [
    {
     "name": "stdout",
     "output_type": "stream",
     "text": [
      "----------------------------------------------------------------\n",
      "        Layer (type)               Output Shape         Param #\n",
      "================================================================\n",
      "           Flatten-1              [-1, 12, 256]               0\n",
      "            Conv1d-2              [-1, 64, 256]           6,976\n",
      "         Conv1d_NN-3              [-1, 64, 256]               0\n",
      "         Conv2d_NN-4           [-1, 16, 32, 32]               0\n",
      "              ReLU-5           [-1, 16, 32, 32]               0\n",
      "           Flatten-6              [-1, 64, 256]               0\n",
      "            Conv1d-7             [-1, 128, 256]          73,856\n",
      "         Conv1d_NN-8             [-1, 128, 256]               0\n",
      "         Conv2d_NN-9           [-1, 32, 32, 32]               0\n",
      "             ReLU-10           [-1, 32, 32, 32]               0\n",
      "          Flatten-11                [-1, 32768]               0\n",
      "           Linear-12                 [-1, 1024]      33,555,456\n",
      "             ReLU-13                 [-1, 1024]               0\n",
      "           Linear-14                   [-1, 10]          10,250\n",
      "================================================================\n",
      "Total params: 33,646,538\n",
      "Trainable params: 33,646,538\n",
      "Non-trainable params: 0\n",
      "----------------------------------------------------------------\n",
      "Input size (MB): 0.01\n",
      "Forward/backward pass size (MB): 1.91\n",
      "Params size (MB): 128.35\n",
      "Estimated Total Size (MB): 130.28\n",
      "----------------------------------------------------------------\n"
     ]
    }
   ],
   "source": [
    "# ConNN 2D Random Sample n = 64 Model with K = 9\n",
    "Conv2dNN_9_64 = nn.Sequential(\n",
    "   Conv2d_NN(\n",
    "      in_channels=3,\n",
    "      out_channels=16,\n",
    "      K=9,\n",
    "      stride=9,\n",
    "      padding=0,\n",
    "      shuffle_pattern=\"BA\", \n",
    "      shuffle_scale=2, \n",
    "      samples=64, \n",
    "   ), \n",
    "   nn.ReLU(),\n",
    "\n",
    "   Conv2d_NN(\n",
    "      in_channels=16,\n",
    "      out_channels=32,\n",
    "      K=9,\n",
    "      stride=9,\n",
    "      padding=0,\n",
    "      shuffle_pattern=\"BA\", \n",
    "      shuffle_scale=2, \n",
    "      samples=64, \n",
    "   ),\n",
    "   nn.ReLU(),\n",
    "   \n",
    "   nn.Flatten(),\n",
    "   nn.Linear(32768, 1024),\n",
    "   nn.ReLU(),\n",
    "   nn.Linear(1024, 10)\n",
    ").to('cpu')\n",
    "\n",
    "from torchsummary import summary\n",
    "summary(Conv2dNN_9_64, (3, 32, 32))\n"
   ]
  },
  {
   "cell_type": "code",
   "execution_count": 5,
   "metadata": {},
   "outputs": [
    {
     "name": "stdout",
     "output_type": "stream",
     "text": [
      "----------------------------------------------------------------\n",
      "        Layer (type)               Output Shape         Param #\n",
      "================================================================\n",
      "           Flatten-1              [-1, 12, 256]               0\n",
      "            Conv1d-2              [-1, 64, 256]           6,976\n",
      " Conv1d_NN_spatial-3              [-1, 64, 256]               0\n",
      " Conv2d_NN_spatial-4           [-1, 16, 32, 32]               0\n",
      "              ReLU-5           [-1, 16, 32, 32]               0\n",
      "           Flatten-6              [-1, 64, 256]               0\n",
      "            Conv1d-7             [-1, 128, 256]          73,856\n",
      " Conv1d_NN_spatial-8             [-1, 128, 256]               0\n",
      " Conv2d_NN_spatial-9           [-1, 32, 32, 32]               0\n",
      "             ReLU-10           [-1, 32, 32, 32]               0\n",
      "          Flatten-11                [-1, 32768]               0\n",
      "           Linear-12                 [-1, 1024]      33,555,456\n",
      "             ReLU-13                 [-1, 1024]               0\n",
      "           Linear-14                   [-1, 10]          10,250\n",
      "================================================================\n",
      "Total params: 33,646,538\n",
      "Trainable params: 33,646,538\n",
      "Non-trainable params: 0\n",
      "----------------------------------------------------------------\n",
      "Input size (MB): 0.01\n",
      "Forward/backward pass size (MB): 1.91\n",
      "Params size (MB): 128.35\n",
      "Estimated Total Size (MB): 130.28\n",
      "----------------------------------------------------------------\n"
     ]
    }
   ],
   "source": [
    "# ConNN 2D Spatial Sample n = 8 Model with K = 9\n",
    "Conv2dNN_spatial_9_8 = nn.Sequential(\n",
    "   Conv2d_NN_spatial(\n",
    "      in_channels=3,\n",
    "      out_channels=16,\n",
    "      K=9,\n",
    "      stride=9,\n",
    "      padding=0,\n",
    "      shuffle_pattern=\"BA\", \n",
    "      shuffle_scale=2, \n",
    "      samples=8, \n",
    "   ), \n",
    "   nn.ReLU(),\n",
    "\n",
    "   Conv2d_NN_spatial(\n",
    "      in_channels=16,\n",
    "      out_channels=32,\n",
    "      K=9,\n",
    "      stride=9,\n",
    "      padding=0,\n",
    "      shuffle_pattern=\"BA\", \n",
    "      shuffle_scale=2, \n",
    "      samples=8, \n",
    "   ),\n",
    "   nn.ReLU(),\n",
    "   \n",
    "   nn.Flatten(),\n",
    "   nn.Linear(32768, 1024),\n",
    "   nn.ReLU(),\n",
    "   nn.Linear(1024, 10)\n",
    ").to('cpu')\n",
    "\n",
    "from torchsummary import summary\n",
    "summary(Conv2dNN_spatial_9_8, (3, 32, 32))\n"
   ]
  },
  {
   "cell_type": "code",
   "execution_count": 6,
   "metadata": {},
   "outputs": [
    {
     "name": "stdout",
     "output_type": "stream",
     "text": [
      "----------------------------------------------------------------\n",
      "        Layer (type)               Output Shape         Param #\n",
      "================================================================\n",
      "           Flatten-1              [-1, 14, 256]               0\n",
      "            Conv1d-2              [-1, 66, 256]           8,382\n",
      "         Conv1d_NN-3              [-1, 66, 256]               0\n",
      "         Conv2d_NN-4           [-1, 16, 32, 32]               0\n",
      "              ReLU-5           [-1, 16, 32, 32]               0\n",
      "           Flatten-6              [-1, 66, 256]               0\n",
      "            Conv1d-7             [-1, 130, 256]          77,350\n",
      "         Conv1d_NN-8             [-1, 130, 256]               0\n",
      "         Conv2d_NN-9           [-1, 32, 32, 32]               0\n",
      "             ReLU-10           [-1, 32, 32, 32]               0\n",
      "          Flatten-11                [-1, 32768]               0\n",
      "           Linear-12                 [-1, 1024]      33,555,456\n",
      "             ReLU-13                 [-1, 1024]               0\n",
      "           Linear-14                   [-1, 10]          10,250\n",
      "================================================================\n",
      "Total params: 33,651,438\n",
      "Trainable params: 33,651,438\n",
      "Non-trainable params: 0\n",
      "----------------------------------------------------------------\n",
      "Input size (MB): 0.01\n",
      "Forward/backward pass size (MB): 1.94\n",
      "Params size (MB): 128.37\n",
      "Estimated Total Size (MB): 130.32\n",
      "----------------------------------------------------------------\n"
     ]
    }
   ],
   "source": [
    "# ConNN 2D All Sample Model with K = 9 with Location Channels\n",
    "Conv2dNN_9_all_location = nn.Sequential(\n",
    "   Conv2d_NN(\n",
    "      in_channels=3,\n",
    "      out_channels=16,\n",
    "      K=9,\n",
    "      stride=9,\n",
    "      padding=0,\n",
    "      shuffle_pattern=\"BA\", \n",
    "      shuffle_scale=2, \n",
    "      samples=\"all\", \n",
    "      location_channels = True\n",
    "   ), \n",
    "   nn.ReLU(),\n",
    "\n",
    "   Conv2d_NN(\n",
    "      in_channels=16,\n",
    "      out_channels=32,\n",
    "      K=9,\n",
    "      stride=9,\n",
    "      padding=0,\n",
    "      shuffle_pattern=\"BA\", \n",
    "      shuffle_scale=2, \n",
    "      samples=\"all\", \n",
    "      location_channels = True\n",
    "\n",
    "   ),\n",
    "   nn.ReLU(),\n",
    "   \n",
    "   nn.Flatten(),\n",
    "   nn.Linear(32768, 1024),\n",
    "   nn.ReLU(),\n",
    "   nn.Linear(1024, 10)\n",
    ").to('cpu')\n",
    "\n",
    "from torchsummary import summary\n",
    "summary(Conv2dNN_9_all_location, (3, 32, 32))\n"
   ]
  },
  {
   "cell_type": "code",
   "execution_count": 7,
   "metadata": {},
   "outputs": [
    {
     "name": "stdout",
     "output_type": "stream",
     "text": [
      "----------------------------------------------------------------\n",
      "        Layer (type)               Output Shape         Param #\n",
      "================================================================\n",
      "           Flatten-1              [-1, 14, 256]               0\n",
      "            Conv1d-2              [-1, 66, 256]           8,382\n",
      "         Conv1d_NN-3              [-1, 66, 256]               0\n",
      "         Conv2d_NN-4           [-1, 16, 32, 32]               0\n",
      "              ReLU-5           [-1, 16, 32, 32]               0\n",
      "           Flatten-6              [-1, 66, 256]               0\n",
      "            Conv1d-7             [-1, 130, 256]          77,350\n",
      "         Conv1d_NN-8             [-1, 130, 256]               0\n",
      "         Conv2d_NN-9           [-1, 32, 32, 32]               0\n",
      "             ReLU-10           [-1, 32, 32, 32]               0\n",
      "          Flatten-11                [-1, 32768]               0\n",
      "           Linear-12                 [-1, 1024]      33,555,456\n",
      "             ReLU-13                 [-1, 1024]               0\n",
      "           Linear-14                   [-1, 10]          10,250\n",
      "================================================================\n",
      "Total params: 33,651,438\n",
      "Trainable params: 33,651,438\n",
      "Non-trainable params: 0\n",
      "----------------------------------------------------------------\n",
      "Input size (MB): 0.01\n",
      "Forward/backward pass size (MB): 1.94\n",
      "Params size (MB): 128.37\n",
      "Estimated Total Size (MB): 130.32\n",
      "----------------------------------------------------------------\n"
     ]
    }
   ],
   "source": [
    "# ConNN 2D Random Sample n = 64 Model with K = 9 and Location Channels\n",
    "Conv2dNN_9_64_location = nn.Sequential(\n",
    "   Conv2d_NN(\n",
    "      in_channels=3,\n",
    "      out_channels=16,\n",
    "      K=9,\n",
    "      stride=9,\n",
    "      padding=0,\n",
    "      shuffle_pattern=\"BA\", \n",
    "      shuffle_scale=2, \n",
    "      samples=64, \n",
    "      location_channels = True\n",
    "   ), \n",
    "   nn.ReLU(),\n",
    "\n",
    "   Conv2d_NN(\n",
    "      in_channels=16,\n",
    "      out_channels=32,\n",
    "      K=9,\n",
    "      stride=9,\n",
    "      padding=0,\n",
    "      shuffle_pattern=\"BA\", \n",
    "      shuffle_scale=2, \n",
    "      samples=64, \n",
    "      location_channels = True\n",
    "   ),\n",
    "   nn.ReLU(),\n",
    "   \n",
    "   nn.Flatten(),\n",
    "   nn.Linear(32768, 1024),\n",
    "   nn.ReLU(),\n",
    "   nn.Linear(1024, 10)\n",
    ").to('cpu')\n",
    "\n",
    "from torchsummary import summary\n",
    "summary(Conv2dNN_9_64_location, (3, 32, 32))\n"
   ]
  },
  {
   "cell_type": "code",
   "execution_count": 8,
   "metadata": {},
   "outputs": [
    {
     "name": "stdout",
     "output_type": "stream",
     "text": [
      "----------------------------------------------------------------\n",
      "        Layer (type)               Output Shape         Param #\n",
      "================================================================\n",
      "           Flatten-1              [-1, 14, 256]               0\n",
      "            Conv1d-2              [-1, 66, 256]           8,382\n",
      " Conv1d_NN_spatial-3              [-1, 66, 256]               0\n",
      " Conv2d_NN_spatial-4           [-1, 16, 32, 32]               0\n",
      "              ReLU-5           [-1, 16, 32, 32]               0\n",
      "           Flatten-6              [-1, 66, 256]               0\n",
      "            Conv1d-7             [-1, 130, 256]          77,350\n",
      " Conv1d_NN_spatial-8             [-1, 130, 256]               0\n",
      " Conv2d_NN_spatial-9           [-1, 32, 32, 32]               0\n",
      "             ReLU-10           [-1, 32, 32, 32]               0\n",
      "          Flatten-11                [-1, 32768]               0\n",
      "           Linear-12                 [-1, 1024]      33,555,456\n",
      "             ReLU-13                 [-1, 1024]               0\n",
      "           Linear-14                   [-1, 10]          10,250\n",
      "================================================================\n",
      "Total params: 33,651,438\n",
      "Trainable params: 33,651,438\n",
      "Non-trainable params: 0\n",
      "----------------------------------------------------------------\n",
      "Input size (MB): 0.01\n",
      "Forward/backward pass size (MB): 1.94\n",
      "Params size (MB): 128.37\n",
      "Estimated Total Size (MB): 130.32\n",
      "----------------------------------------------------------------\n"
     ]
    }
   ],
   "source": [
    "# ConNN 2D Spatial Sample n = 8 Model with K = 9 and Location Channels\n",
    "Conv2dNN_spatial_9_8_location = nn.Sequential(\n",
    "   Conv2d_NN_spatial(\n",
    "      in_channels=3,\n",
    "      out_channels=16,\n",
    "      K=9,\n",
    "      stride=9,\n",
    "      padding=0,\n",
    "      shuffle_pattern=\"BA\", \n",
    "      shuffle_scale=2, \n",
    "      samples=8, \n",
    "      location_channels = True\n",
    "   ), \n",
    "   nn.ReLU(),\n",
    "\n",
    "   Conv2d_NN_spatial(\n",
    "      in_channels=16,\n",
    "      out_channels=32,\n",
    "      K=9,\n",
    "      stride=9,\n",
    "      padding=0,\n",
    "      shuffle_pattern=\"BA\", \n",
    "      shuffle_scale=2, \n",
    "      samples=8, \n",
    "      location_channels = True\n",
    "   ),\n",
    "   nn.ReLU(),\n",
    "   \n",
    "   nn.Flatten(),\n",
    "   nn.Linear(32768, 1024),\n",
    "   nn.ReLU(),\n",
    "   nn.Linear(1024, 10)\n",
    ").to('cpu')\n",
    "\n",
    "from torchsummary import summary\n",
    "summary(Conv2dNN_spatial_9_8_location, (3, 32, 32))\n"
   ]
  },
  {
   "cell_type": "markdown",
   "metadata": {},
   "source": [
    "## II. Training"
   ]
  },
  {
   "cell_type": "code",
   "execution_count": 9,
   "metadata": {},
   "outputs": [
    {
     "name": "stdout",
     "output_type": "stream",
     "text": [
      "Files already downloaded and verified\n",
      "Files already downloaded and verified\n"
     ]
    }
   ],
   "source": [
    "# CIFAR10\n",
    "cifar10 = CIFAR10()"
   ]
  },
  {
   "cell_type": "code",
   "execution_count": 10,
   "metadata": {},
   "outputs": [
    {
     "name": "stdout",
     "output_type": "stream",
     "text": [
      "Epoch 1, Time: 20.691068172454834, Loss: 1.3276510940640784\n",
      "Epoch 2, Time: 20.151495933532715, Loss: 0.7802510018010274\n",
      "Epoch 3, Time: 19.98779797554016, Loss: 0.3553651243143374\n",
      "Epoch 4, Time: 20.14648985862732, Loss: 0.09619820718903599\n",
      "Epoch 5, Time: 20.046629905700684, Loss: 0.05040700452478455\n",
      "Epoch 6, Time: 19.945544004440308, Loss: 0.03700280947464249\n",
      "Epoch 7, Time: 24.85846185684204, Loss: 0.044689217183228026\n",
      "Epoch 8, Time: 18.83338212966919, Loss: 0.04081838663317301\n",
      "Epoch 9, Time: 18.582810878753662, Loss: 0.04001217165983001\n",
      "Epoch 10, Time: 18.822970867156982, Loss: 0.036092686067234675\n",
      "\n",
      " Average epoch time: 20.20666515827179\n",
      "Accuracy on test set: 63.9%\n"
     ]
    },
    {
     "data": {
      "text/plain": [
       "63.9"
      ]
     },
     "execution_count": 10,
     "metadata": {},
     "output_type": "execute_result"
    }
   ],
   "source": [
    "# Classic CNN 2D Model - Control Model \n",
    "CNN_2D.to('mps')\n",
    "\n",
    "criterion = nn.CrossEntropyLoss()\n",
    "optimizer = optim.Adam(CNN_2D.parameters(), lr=0.001)\n",
    "num_epochs = 10 \n",
    "train_model(CNN_2D, cifar10.train_loader, criterion, optimizer, num_epochs)\n",
    "evaluate_accuracy(CNN_2D, cifar10.test_loader)"
   ]
  },
  {
   "cell_type": "code",
   "execution_count": 11,
   "metadata": {},
   "outputs": [
    {
     "name": "stdout",
     "output_type": "stream",
     "text": [
      "Epoch 1, Time: 53.86782193183899, Loss: 1.5596126243281547\n",
      "Epoch 2, Time: 53.380181074142456, Loss: 1.2387388121441503\n",
      "Epoch 3, Time: 53.46579599380493, Loss: 1.0557016308807656\n",
      "Epoch 4, Time: 54.83957004547119, Loss: 0.8711803627136113\n",
      "Epoch 5, Time: 53.09355974197388, Loss: 0.673549223929415\n",
      "Epoch 6, Time: 52.51682496070862, Loss: 0.49182953260591267\n",
      "Epoch 7, Time: 52.795188426971436, Loss: 0.3430176940758515\n",
      "Epoch 8, Time: 52.63361978530884, Loss: 0.23831321598718996\n",
      "Epoch 9, Time: 52.965973138809204, Loss: 0.20521914856055815\n",
      "Epoch 10, Time: 52.476781129837036, Loss: 0.16126827250623033\n",
      "\n",
      " Average epoch time: 53.20353162288666\n",
      "Accuracy on test set: 55.12%\n"
     ]
    },
    {
     "data": {
      "text/plain": [
       "55.12"
      ]
     },
     "execution_count": 11,
     "metadata": {},
     "output_type": "execute_result"
    }
   ],
   "source": [
    "# ConNN 2D All Sample Model with K = 9\n",
    "Conv2dNN_9_all.to('mps')\n",
    "\n",
    "criterion = nn.CrossEntropyLoss()\n",
    "optimizer = optim.Adam(Conv2dNN_9_all.parameters(), lr=0.001)\n",
    "num_epochs = 10 \n",
    "train_model(Conv2dNN_9_all, cifar10.train_loader, criterion, optimizer, num_epochs)\n",
    "evaluate_accuracy(Conv2dNN_9_all, cifar10.test_loader)"
   ]
  },
  {
   "cell_type": "code",
   "execution_count": 12,
   "metadata": {},
   "outputs": [
    {
     "name": "stdout",
     "output_type": "stream",
     "text": [
      "Epoch 1, Time: 56.13742017745972, Loss: 1.6643617682139893\n",
      "Epoch 2, Time: 55.423495054244995, Loss: 1.3597950297395895\n",
      "Epoch 3, Time: 55.76735520362854, Loss: 1.181700544893894\n",
      "Epoch 4, Time: 55.28795385360718, Loss: 1.0285786305699507\n",
      "Epoch 5, Time: 55.88402581214905, Loss: 0.8741574750074645\n",
      "Epoch 6, Time: 55.307520151138306, Loss: 0.7065694300872286\n",
      "Epoch 7, Time: 55.45270609855652, Loss: 0.5302722027996922\n",
      "Epoch 8, Time: 55.38034725189209, Loss: 0.3859669985178182\n",
      "Epoch 9, Time: 55.17318892478943, Loss: 0.2890856390737969\n",
      "Epoch 10, Time: 55.38895106315613, Loss: 0.22125416455309257\n",
      "\n",
      " Average epoch time: 55.52029635906219\n",
      "Accuracy on test set: 55.69%\n"
     ]
    },
    {
     "data": {
      "text/plain": [
       "55.69"
      ]
     },
     "execution_count": 12,
     "metadata": {},
     "output_type": "execute_result"
    }
   ],
   "source": [
    "# ConNN 2D Random Sample n = 64 Model with K = 9\n",
    "Conv2dNN_9_64.to('mps')\n",
    "\n",
    "criterion = nn.CrossEntropyLoss()\n",
    "optimizer = optim.Adam(Conv2dNN_9_64.parameters(), lr=0.001)\n",
    "num_epochs = 10 \n",
    "train_model(Conv2dNN_9_64, cifar10.train_loader, criterion, optimizer, num_epochs)\n",
    "evaluate_accuracy(Conv2dNN_9_64, cifar10.test_loader)"
   ]
  },
  {
   "cell_type": "code",
   "execution_count": 13,
   "metadata": {},
   "outputs": [
    {
     "name": "stdout",
     "output_type": "stream",
     "text": [
      "Epoch 1, Time: 54.77668380737305, Loss: 1.6439610820292208\n",
      "Epoch 2, Time: 54.72995209693909, Loss: 1.3500417267422542\n",
      "Epoch 3, Time: 53.53680491447449, Loss: 1.1698934902315554\n",
      "Epoch 4, Time: 53.480645179748535, Loss: 1.0135999734291945\n",
      "Epoch 5, Time: 53.4889440536499, Loss: 0.855223539845108\n",
      "Epoch 6, Time: 53.46971893310547, Loss: 0.6843248878598518\n",
      "Epoch 7, Time: 53.403444051742554, Loss: 0.5271842195783429\n",
      "Epoch 8, Time: 53.353596925735474, Loss: 0.3953476176809167\n",
      "Epoch 9, Time: 53.5864372253418, Loss: 0.30136076757288954\n",
      "Epoch 10, Time: 53.33124566078186, Loss: 0.22221064626637016\n",
      "\n",
      " Average epoch time: 53.71574728488922\n",
      "Accuracy on test set: 54.59%\n"
     ]
    },
    {
     "data": {
      "text/plain": [
       "54.59"
      ]
     },
     "execution_count": 13,
     "metadata": {},
     "output_type": "execute_result"
    }
   ],
   "source": [
    "# ConNN 2D Spatial Sample n = 8 => n^2 = 64 Model with K = 9\n",
    "Conv2dNN_spatial_9_8.to('mps')\n",
    "\n",
    "criterion = nn.CrossEntropyLoss()\n",
    "optimizer = optim.Adam(Conv2dNN_spatial_9_8.parameters(), lr=0.001)\n",
    "num_epochs = 10 \n",
    "train_model(Conv2dNN_spatial_9_8, cifar10.train_loader, criterion, optimizer, num_epochs)\n",
    "evaluate_accuracy(Conv2dNN_spatial_9_8, cifar10.test_loader)"
   ]
  },
  {
   "cell_type": "code",
   "execution_count": 10,
   "metadata": {},
   "outputs": [
    {
     "name": "stdout",
     "output_type": "stream",
     "text": [
      "Epoch 1, Time: 74.4613618850708, Loss: 1.5151934525393465\n",
      "Epoch 2, Time: 74.25411200523376, Loss: 1.1772421542031075\n",
      "Epoch 3, Time: 73.48850989341736, Loss: 0.9829024693087849\n",
      "Epoch 4, Time: 74.92334580421448, Loss: 0.7932920780252007\n",
      "Epoch 5, Time: 74.3087728023529, Loss: 0.5829619020604722\n",
      "Epoch 6, Time: 73.01879906654358, Loss: 0.39554934268412384\n",
      "Epoch 7, Time: 79.10189509391785, Loss: 0.2669531687370042\n",
      "Epoch 8, Time: 75.621337890625, Loss: 0.20340731447977026\n",
      "Epoch 9, Time: 75.07006096839905, Loss: 0.16129497211436025\n",
      "Epoch 10, Time: 73.55389404296875, Loss: 0.1552201512357806\n",
      "\n",
      " Average epoch time: 74.78020894527435\n",
      "Accuracy on test set: 55.54%\n"
     ]
    },
    {
     "data": {
      "text/plain": [
       "55.54"
      ]
     },
     "execution_count": 10,
     "metadata": {},
     "output_type": "execute_result"
    }
   ],
   "source": [
    "# ConNN 2D All Sample Model with K = 9 with Location Channels\n",
    "Conv2dNN_9_all_location.to('mps')\n",
    "\n",
    "criterion = nn.CrossEntropyLoss()\n",
    "optimizer = optim.Adam(Conv2dNN_9_all_location.parameters(), lr=0.001)\n",
    "num_epochs = 10 \n",
    "train_model(Conv2dNN_9_all_location, cifar10.train_loader, criterion, optimizer, num_epochs)\n",
    "evaluate_accuracy(Conv2dNN_9_all_location, cifar10.test_loader)"
   ]
  },
  {
   "cell_type": "code",
   "execution_count": 11,
   "metadata": {},
   "outputs": [
    {
     "name": "stdout",
     "output_type": "stream",
     "text": [
      "Epoch 1, Time: 77.90060091018677, Loss: 1.5967261554944852\n",
      "Epoch 2, Time: 79.38705730438232, Loss: 1.2953943017955936\n",
      "Epoch 3, Time: 76.06331586837769, Loss: 1.1374059989476752\n",
      "Epoch 4, Time: 75.89179921150208, Loss: 0.9735351673629887\n",
      "Epoch 5, Time: 79.60228896141052, Loss: 0.8110553561650273\n",
      "Epoch 6, Time: 79.84760212898254, Loss: 0.6591914038523994\n",
      "Epoch 7, Time: 75.79247212409973, Loss: 0.5025693450856696\n",
      "Epoch 8, Time: 76.50716018676758, Loss: 0.3823288131476668\n",
      "Epoch 9, Time: 78.17957782745361, Loss: 0.29267693944561207\n",
      "Epoch 10, Time: 78.18553376197815, Loss: 0.22882383635929784\n",
      "\n",
      " Average epoch time: 77.7357408285141\n",
      "Accuracy on test set: 58.08%\n"
     ]
    },
    {
     "data": {
      "text/plain": [
       "58.08"
      ]
     },
     "execution_count": 11,
     "metadata": {},
     "output_type": "execute_result"
    }
   ],
   "source": [
    "# ConNN 2D Random Sample n = 64 Model with K = 9 with Location Channels\n",
    "Conv2dNN_9_64_location.to('mps')\n",
    "\n",
    "criterion = nn.CrossEntropyLoss()\n",
    "optimizer = optim.Adam(Conv2dNN_9_64_location.parameters(), lr=0.001)\n",
    "num_epochs = 10 \n",
    "train_model(Conv2dNN_9_64_location, cifar10.train_loader, criterion, optimizer, num_epochs)\n",
    "evaluate_accuracy(Conv2dNN_9_64_location, cifar10.test_loader)"
   ]
  },
  {
   "cell_type": "code",
   "execution_count": 12,
   "metadata": {},
   "outputs": [
    {
     "name": "stdout",
     "output_type": "stream",
     "text": [
      "Epoch 1, Time: 74.84000086784363, Loss: 1.6414900762040903\n",
      "Epoch 2, Time: 76.71388602256775, Loss: 1.345221486847724\n",
      "Epoch 3, Time: 74.50833296775818, Loss: 1.1692240645208627\n",
      "Epoch 4, Time: 77.58468890190125, Loss: 0.9840269776256493\n",
      "Epoch 5, Time: 77.99000287055969, Loss: 0.7835174253605821\n",
      "Epoch 6, Time: 78.94546484947205, Loss: 0.5716460124420388\n",
      "Epoch 7, Time: 76.84879994392395, Loss: 0.3773898162100169\n",
      "Epoch 8, Time: 75.95148491859436, Loss: 0.25336662114924174\n",
      "Epoch 9, Time: 74.2899420261383, Loss: 0.18449099417632955\n",
      "Epoch 10, Time: 75.0492091178894, Loss: 0.1484982676201445\n",
      "\n",
      " Average epoch time: 76.27218124866485\n",
      "Accuracy on test set: 55.79%\n"
     ]
    },
    {
     "data": {
      "text/plain": [
       "55.79"
      ]
     },
     "execution_count": 12,
     "metadata": {},
     "output_type": "execute_result"
    }
   ],
   "source": [
    "# ConNN 2D Spatial Sample n = 8 => n^2 = 64 Model with K = 9 with Location Channels\n",
    "Conv2dNN_spatial_9_8_location.to('mps')\n",
    "\n",
    "criterion = nn.CrossEntropyLoss()\n",
    "optimizer = optim.Adam(Conv2dNN_spatial_9_8_location.parameters(), lr=0.001)\n",
    "num_epochs = 10 \n",
    "train_model(Conv2dNN_spatial_9_8_location, cifar10.train_loader, criterion, optimizer, num_epochs)\n",
    "evaluate_accuracy(Conv2dNN_spatial_9_8_location, cifar10.test_loader)"
   ]
  },
  {
   "cell_type": "code",
   "execution_count": null,
   "metadata": {},
   "outputs": [],
   "source": []
  },
  {
   "cell_type": "code",
   "execution_count": null,
   "metadata": {},
   "outputs": [],
   "source": []
  }
 ],
 "metadata": {
  "kernelspec": {
   "display_name": "ML",
   "language": "python",
   "name": "python3"
  },
  "language_info": {
   "codemirror_mode": {
    "name": "ipython",
    "version": 3
   },
   "file_extension": ".py",
   "mimetype": "text/x-python",
   "name": "python",
   "nbconvert_exporter": "python",
   "pygments_lexer": "ipython3",
   "version": "3.12.0"
  }
 },
 "nbformat": 4,
 "nbformat_minor": 2
}
