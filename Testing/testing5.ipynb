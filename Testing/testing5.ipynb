{
 "cells": [
  {
   "cell_type": "markdown",
   "metadata": {},
   "source": [
    "# Spatially located nearest neighbors"
   ]
  },
  {
   "cell_type": "code",
   "execution_count": 2,
   "metadata": {},
   "outputs": [],
   "source": [
    "# Install the torch package\n",
    "%pip install torch\n",
    "\n",
    "import torch\n",
    "import torch.nn as nn \n",
    "import torch.functional as F \n",
    "\n"
   ]
  },
  {
   "cell_type": "code",
   "execution_count": 34,
   "metadata": {},
   "outputs": [
    {
     "name": "stdout",
     "output_type": "stream",
     "text": [
      "tensor([ 0,  7, 14, 20, 27], dtype=torch.int32)\n",
      "tensor([ 0,  7, 14, 20, 27], dtype=torch.int32)\n",
      "torch.Size([32, 3, 5, 5])\n",
      "torch.Size([32, 3, 25])\n"
     ]
    }
   ],
   "source": [
    "start = 0 \n",
    "stop = 0 \n",
    "\n",
    "\n",
    "import torch\n",
    "\n",
    "# Create a random tensor of shape (32, 3, 28, 28)\n",
    "ex = torch.randn(32, 3, 28, 28)\n",
    "\n",
    "# Generate indices for the new grid\n",
    "x_ind = torch.round(torch.linspace(0, 27, 5)).to(torch.int)\n",
    "y_ind = torch.round(torch.linspace(0, 27, 5)).to(torch.int)\n",
    "print(x_ind)\n",
    "print(y_ind)\n",
    "\n",
    "# Create a meshgrid of the indices\n",
    "x_grid, y_grid = torch.meshgrid(x_ind, y_ind, indexing='ij')\n",
    "\n",
    "# Use advanced indexing to select the elements\n",
    "new_ex = ex[:, :, x_grid, y_grid]\n",
    "\n",
    "# Check the shape of the new tensor\n",
    "print(new_ex.shape)  # Should be torch.Size([32, 3, 5, 5])\n",
    "print(torch.flatten(new_ex, 2).shape)  # Should be torch.Size([2400])"
   ]
  },
  {
   "cell_type": "markdown",
   "metadata": {},
   "source": [
    "### padding"
   ]
  }
 ],
 "metadata": {
  "kernelspec": {
   "display_name": "ML",
   "language": "python",
   "name": "python3"
  },
  "language_info": {
   "codemirror_mode": {
    "name": "ipython",
    "version": 3
   },
   "file_extension": ".py",
   "mimetype": "text/x-python",
   "name": "python",
   "nbconvert_exporter": "python",
   "pygments_lexer": "ipython3",
   "version": "3.12.0"
  }
 },
 "nbformat": 4,
 "nbformat_minor": 2
}
