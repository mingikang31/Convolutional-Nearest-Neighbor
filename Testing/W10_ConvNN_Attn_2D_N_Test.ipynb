{
 "cells": [
  {
   "cell_type": "markdown",
   "metadata": {},
   "source": [
    "# ConvNN Attention N-Test\n",
    "- K = 9, with N = 16, 32, 64, 128, 256, 512\n",
    "## I. 2D Training for testing with CIFAR10 Dataset"
   ]
  },
  {
   "cell_type": "code",
   "execution_count": 4,
   "metadata": {},
   "outputs": [],
   "source": [
    "# Torch\n",
    "import torch \n",
    "import torch.nn as nn\n",
    "import torch.nn.functional as F\n",
    "from torch import optim \n",
    "\n",
    "\n",
    "# Train + Data \n",
    "import sys \n",
    "sys.path.append('../Layers')\n",
    "from Conv1d_NN_spatial import * \n",
    "from Conv2d_NN_spatial import * \n",
    "\n",
    "sys.path.append('../Data')\n",
    "from CIFAR10 import * \n",
    "\n",
    "\n",
    "sys.path.append('../Models')\n",
    "from classification_models import *\n",
    "\n",
    "sys.path.append('../Train')\n",
    "from train2d import * \n"
   ]
  },
  {
   "cell_type": "code",
   "execution_count": 5,
   "metadata": {},
   "outputs": [
    {
     "name": "stdout",
     "output_type": "stream",
     "text": [
      "Files already downloaded and verified\n",
      "Files already downloaded and verified\n"
     ]
    }
   ],
   "source": [
    "cifar10 = CIFAR10()"
   ]
  },
  {
   "cell_type": "markdown",
   "metadata": {},
   "source": [
    "### CNN Control"
   ]
  },
  {
   "cell_type": "code",
   "execution_count": 6,
   "metadata": {},
   "outputs": [
    {
     "name": "stdout",
     "output_type": "stream",
     "text": [
      "Model: CNN\n",
      "Epoch 1, Time: 11.112404823303223, Loss: 1.3380718685476982\n",
      "Epoch 1, Accuracy: 62.72%\n",
      "Epoch 2, Time: 10.873912572860718, Loss: 0.7902714238904626\n",
      "Epoch 2, Accuracy: 66.01%\n",
      "Epoch 3, Time: 10.889522314071655, Loss: 0.36932837601055574\n",
      "Epoch 3, Accuracy: 66.57%\n",
      "Epoch 4, Time: 10.903445482254028, Loss: 0.09786029617109186\n",
      "Epoch 4, Accuracy: 66.43%\n",
      "Epoch 5, Time: 10.915743827819824, Loss: 0.046416995448448586\n",
      "Epoch 5, Accuracy: 65.42%\n",
      "Epoch 6, Time: 10.877028703689575, Loss: 0.03986602894368741\n",
      "Epoch 6, Accuracy: 65.09%\n",
      "Epoch 7, Time: 10.865808486938477, Loss: 0.03552938363683955\n",
      "Epoch 7, Accuracy: 64.8%\n",
      "Epoch 8, Time: 10.906734704971313, Loss: 0.04625540092730981\n",
      "Epoch 8, Accuracy: 65.57%\n",
      "Epoch 9, Time: 11.013105392456055, Loss: 0.03385451526238608\n",
      "Epoch 9, Accuracy: 64.6%\n",
      "Epoch 10, Time: 11.068844318389893, Loss: 0.02700943599426476\n",
      "Epoch 10, Accuracy: 63.76%\n",
      "\n",
      " Average epoch time: 10.942655062675476\n",
      "Accuracy on test set: 63.76%\n"
     ]
    },
    {
     "data": {
      "text/plain": [
       "63.76"
      ]
     },
     "execution_count": 6,
     "metadata": {},
     "output_type": "execute_result"
    }
   ],
   "source": [
    "# CNN\n",
    "CNN_1 = CNN(device='cuda')\n",
    "\n",
    "print(\"Model: \" + CNN_1.name)\n",
    "\n",
    "# Test + Eval\n",
    "criterion = nn.CrossEntropyLoss()\n",
    "optimizer = optim.Adam(CNN_1.parameters(), lr=0.001)\n",
    "num_epochs = 10 \n",
    "train_eval(CNN_1, cifar10.train_loader, cifar10.test_loader, criterion, optimizer, num_epochs, device='cuda')\n",
    "evaluate_accuracy(CNN_1, cifar10.test_loader, device='cuda')\n"
   ]
  },
  {
   "cell_type": "markdown",
   "metadata": {},
   "source": [
    "### N = 16"
   ]
  },
  {
   "cell_type": "code",
   "execution_count": 7,
   "metadata": {},
   "outputs": [
    {
     "name": "stdout",
     "output_type": "stream",
     "text": [
      "Model: ConvNN_2D_Attn_K_N\n",
      "Epoch 1, Time: 13.039807081222534, Loss: 1.8730470588445054\n",
      "Epoch 1, Accuracy: 43.94%\n",
      "Epoch 2, Time: 12.936932802200317, Loss: 1.4578301132182636\n",
      "Epoch 2, Accuracy: 53.14%\n",
      "Epoch 3, Time: 13.072871208190918, Loss: 1.2971879918404552\n",
      "Epoch 3, Accuracy: 54.92%\n",
      "Epoch 4, Time: 13.100103378295898, Loss: 1.205588352344835\n",
      "Epoch 4, Accuracy: 55.78%\n",
      "Epoch 5, Time: 12.926631927490234, Loss: 1.130493568642365\n",
      "Epoch 5, Accuracy: 58.05%\n",
      "Epoch 6, Time: 12.975765705108643, Loss: 1.0586784100136184\n",
      "Epoch 6, Accuracy: 58.68%\n",
      "Epoch 7, Time: 12.963111400604248, Loss: 0.9929702393996441\n",
      "Epoch 7, Accuracy: 59.02%\n",
      "Epoch 8, Time: 12.921780586242676, Loss: 0.9312488852102129\n",
      "Epoch 8, Accuracy: 58.32%\n",
      "Epoch 9, Time: 12.942414999008179, Loss: 0.8574528956352292\n",
      "Epoch 9, Accuracy: 59.37%\n",
      "Epoch 10, Time: 12.980115175247192, Loss: 0.7942289124669322\n",
      "Epoch 10, Accuracy: 59.37%\n",
      "\n",
      " Average epoch time: 12.985953426361084\n",
      "Accuracy on test set: 59.41%\n"
     ]
    },
    {
     "data": {
      "text/plain": [
       "59.41"
      ]
     },
     "execution_count": 7,
     "metadata": {},
     "output_type": "execute_result"
    }
   ],
   "source": [
    "convNN_2d_attn_k_16 = ConvNN_2D_Attn_K_N(N = 16, device='cuda')\n",
    "\n",
    "print(\"Model: \" + convNN_2d_attn_k_16.name)\n",
    "# Test + Eval\n",
    "criterion = nn.CrossEntropyLoss()\n",
    "optimizer = optim.Adam(convNN_2d_attn_k_16.parameters(), lr=0.001)\n",
    "num_epochs = 10 \n",
    "train_eval(convNN_2d_attn_k_16, cifar10.train_loader, cifar10.test_loader, criterion, optimizer, num_epochs, device='cuda')\n",
    "evaluate_accuracy(convNN_2d_attn_k_16, cifar10.test_loader, device='cuda')\n",
    "\n"
   ]
  },
  {
   "cell_type": "markdown",
   "metadata": {},
   "source": [
    "### N = 32"
   ]
  },
  {
   "cell_type": "code",
   "execution_count": 8,
   "metadata": {},
   "outputs": [
    {
     "name": "stdout",
     "output_type": "stream",
     "text": [
      "Model: ConvNN_2D_Attn_K_N\n",
      "Epoch 1, Time: 12.950902223587036, Loss: 2.1256833535326107\n",
      "Epoch 1, Accuracy: 38.09%\n",
      "Epoch 2, Time: 13.10754942893982, Loss: 1.6221548382888364\n",
      "Epoch 2, Accuracy: 46.39%\n",
      "Epoch 3, Time: 13.17290472984314, Loss: 1.429352739582891\n",
      "Epoch 3, Accuracy: 51.22%\n",
      "Epoch 4, Time: 13.101502180099487, Loss: 1.3178339782730697\n",
      "Epoch 4, Accuracy: 52.14%\n",
      "Epoch 5, Time: 13.110233306884766, Loss: 1.232387646079978\n",
      "Epoch 5, Accuracy: 53.21%\n",
      "Epoch 6, Time: 13.037424564361572, Loss: 1.156536207174706\n",
      "Epoch 6, Accuracy: 55.01%\n",
      "Epoch 7, Time: 13.048791646957397, Loss: 1.082716963708858\n",
      "Epoch 7, Accuracy: 55.15%\n",
      "Epoch 8, Time: 12.892242431640625, Loss: 1.0080035893660981\n",
      "Epoch 8, Accuracy: 55.34%\n",
      "Epoch 9, Time: 12.96826958656311, Loss: 0.9352710257710704\n",
      "Epoch 9, Accuracy: 55.58%\n",
      "Epoch 10, Time: 12.989891529083252, Loss: 0.8578712089592234\n",
      "Epoch 10, Accuracy: 55.58%\n",
      "\n",
      " Average epoch time: 13.03797116279602\n",
      "Accuracy on test set: 55.59%\n"
     ]
    },
    {
     "data": {
      "text/plain": [
       "55.59"
      ]
     },
     "execution_count": 8,
     "metadata": {},
     "output_type": "execute_result"
    }
   ],
   "source": [
    "convNN_2d_attn_k_32 = ConvNN_2D_Attn_K_N(N=32, device='cuda')\n",
    "\n",
    "print(\"Model: \" + convNN_2d_attn_k_32.name)\n",
    "# Test + Eval\n",
    "criterion = nn.CrossEntropyLoss()\n",
    "optimizer = optim.Adam(convNN_2d_attn_k_32.parameters(), lr=0.001)\n",
    "num_epochs = 10 \n",
    "train_eval(convNN_2d_attn_k_32, cifar10.train_loader, cifar10.test_loader, criterion, optimizer, num_epochs, device='cuda')\n",
    "evaluate_accuracy(convNN_2d_attn_k_32, cifar10.test_loader, device='cuda')\n",
    "\n"
   ]
  },
  {
   "cell_type": "markdown",
   "metadata": {},
   "source": [
    "### N = 64"
   ]
  },
  {
   "cell_type": "code",
   "execution_count": 9,
   "metadata": {},
   "outputs": [
    {
     "name": "stdout",
     "output_type": "stream",
     "text": [
      "Model: ConvNN_2D_Attn_K_N\n",
      "Epoch 1, Time: 12.973597764968872, Loss: 1.9978965584884214\n",
      "Epoch 1, Accuracy: 39.82%\n",
      "Epoch 2, Time: 12.995609283447266, Loss: 1.5153054779447863\n",
      "Epoch 2, Accuracy: 50.5%\n",
      "Epoch 3, Time: 13.070951700210571, Loss: 1.3190145612982533\n",
      "Epoch 3, Accuracy: 54.5%\n",
      "Epoch 4, Time: 13.006088972091675, Loss: 1.1984965205954774\n",
      "Epoch 4, Accuracy: 56.3%\n",
      "Epoch 5, Time: 12.969130992889404, Loss: 1.1083205534369134\n",
      "Epoch 5, Accuracy: 57.35%\n",
      "Epoch 6, Time: 12.995771646499634, Loss: 1.0158950562214912\n",
      "Epoch 6, Accuracy: 58.14%\n",
      "Epoch 7, Time: 12.93056035041809, Loss: 0.9292948174735775\n",
      "Epoch 7, Accuracy: 59.55%\n",
      "Epoch 8, Time: 12.979335069656372, Loss: 0.833720392545166\n",
      "Epoch 8, Accuracy: 60.01%\n",
      "Epoch 9, Time: 12.909491777420044, Loss: 0.7370704497827594\n",
      "Epoch 9, Accuracy: 59.44%\n",
      "Epoch 10, Time: 12.945517301559448, Loss: 0.6396289340522893\n",
      "Epoch 10, Accuracy: 60.1%\n",
      "\n",
      " Average epoch time: 12.977605485916138\n",
      "Accuracy on test set: 59.95%\n"
     ]
    },
    {
     "data": {
      "text/plain": [
       "59.95"
      ]
     },
     "execution_count": 9,
     "metadata": {},
     "output_type": "execute_result"
    }
   ],
   "source": [
    "convNN_2d_attn_k_64 = ConvNN_2D_Attn_K_N(N=64, device='cuda')\n",
    "\n",
    "print(\"Model: \" + convNN_2d_attn_k_64.name)\n",
    "# Test + Eval\n",
    "criterion = nn.CrossEntropyLoss()\n",
    "optimizer = optim.Adam(convNN_2d_attn_k_64.parameters(), lr=0.001)\n",
    "num_epochs = 10 \n",
    "train_eval(convNN_2d_attn_k_64, cifar10.train_loader, cifar10.test_loader, criterion, optimizer, num_epochs, device='cuda')\n",
    "evaluate_accuracy(convNN_2d_attn_k_64, cifar10.test_loader, device='cuda')\n",
    "\n"
   ]
  },
  {
   "cell_type": "markdown",
   "metadata": {},
   "source": [
    "### N = 128"
   ]
  },
  {
   "cell_type": "code",
   "execution_count": 10,
   "metadata": {},
   "outputs": [
    {
     "name": "stdout",
     "output_type": "stream",
     "text": [
      "Model: ConvNN_2D_Attn_K_N\n",
      "Epoch 1, Time: 12.952040910720825, Loss: 2.3048433937380075\n",
      "Epoch 1, Accuracy: 10.0%\n",
      "Epoch 2, Time: 13.069210529327393, Loss: 1.9357527581322225\n",
      "Epoch 2, Accuracy: 41.38%\n",
      "Epoch 3, Time: 13.016180276870728, Loss: 1.5043937928231477\n",
      "Epoch 3, Accuracy: 48.82%\n",
      "Epoch 4, Time: 12.904001474380493, Loss: 1.3505839187928173\n",
      "Epoch 4, Accuracy: 51.09%\n",
      "Epoch 5, Time: 12.945701360702515, Loss: 1.2627773598179488\n",
      "Epoch 5, Accuracy: 53.02%\n",
      "Epoch 6, Time: 12.937566995620728, Loss: 1.1922897502132084\n",
      "Epoch 6, Accuracy: 55.17%\n",
      "Epoch 7, Time: 12.915435314178467, Loss: 1.1262691030874277\n",
      "Epoch 7, Accuracy: 56.17%\n",
      "Epoch 8, Time: 13.061148166656494, Loss: 1.062229856963048\n",
      "Epoch 8, Accuracy: 56.33%\n",
      "Epoch 9, Time: 13.01445484161377, Loss: 0.9920036993977969\n",
      "Epoch 9, Accuracy: 57.19%\n",
      "Epoch 10, Time: 13.109981060028076, Loss: 0.9207208371528274\n",
      "Epoch 10, Accuracy: 58.08%\n",
      "\n",
      " Average epoch time: 12.992572093009949\n",
      "Accuracy on test set: 57.73%\n"
     ]
    },
    {
     "data": {
      "text/plain": [
       "57.73"
      ]
     },
     "execution_count": 10,
     "metadata": {},
     "output_type": "execute_result"
    }
   ],
   "source": [
    "convNN_2d_attn_k_128 = ConvNN_2D_Attn_K_N(N=128, device='cuda')\n",
    "\n",
    "print(\"Model: \" + convNN_2d_attn_k_128.name)\n",
    "# Test + Eval\n",
    "criterion = nn.CrossEntropyLoss()\n",
    "optimizer = optim.Adam(convNN_2d_attn_k_128.parameters(), lr=0.001)\n",
    "num_epochs = 10 \n",
    "train_eval(convNN_2d_attn_k_128, cifar10.train_loader, cifar10.test_loader, criterion, optimizer, num_epochs, device='cuda')\n",
    "evaluate_accuracy(convNN_2d_attn_k_128, cifar10.test_loader, device='cuda')\n",
    "\n"
   ]
  },
  {
   "cell_type": "markdown",
   "metadata": {},
   "source": [
    "### N = 256"
   ]
  },
  {
   "cell_type": "code",
   "execution_count": 13,
   "metadata": {},
   "outputs": [
    {
     "name": "stdout",
     "output_type": "stream",
     "text": [
      "Model: ConvNN_2D_Attn_K_N\n",
      "Epoch 1, Time: 13.115304946899414, Loss: 1.8158809614303473\n",
      "Epoch 1, Accuracy: 42.92%\n",
      "Epoch 2, Time: 13.142228364944458, Loss: 1.4448269380023107\n",
      "Epoch 2, Accuracy: 50.03%\n",
      "Epoch 3, Time: 13.271884441375732, Loss: 1.2699582847335456\n",
      "Epoch 3, Accuracy: 53.5%\n",
      "Epoch 4, Time: 13.238012075424194, Loss: 1.1548914440605036\n",
      "Epoch 4, Accuracy: 53.82%\n",
      "Epoch 5, Time: 12.724804878234863, Loss: 1.053524370922152\n",
      "Epoch 5, Accuracy: 53.45%\n",
      "Epoch 6, Time: 13.20998477935791, Loss: 0.9590756833705756\n",
      "Epoch 6, Accuracy: 55.22%\n",
      "Epoch 7, Time: 13.055273294448853, Loss: 0.8676194025732368\n",
      "Epoch 7, Accuracy: 55.92%\n",
      "Epoch 8, Time: 13.10149884223938, Loss: 0.7805838401970047\n",
      "Epoch 8, Accuracy: 54.73%\n",
      "Epoch 9, Time: 13.166444540023804, Loss: 0.7008973490399169\n",
      "Epoch 9, Accuracy: 52.62%\n",
      "Epoch 10, Time: 13.266374826431274, Loss: 0.6262189647959321\n",
      "Epoch 10, Accuracy: 54.96%\n",
      "\n",
      " Average epoch time: 13.129181098937988\n",
      "Accuracy on test set: 54.99%\n"
     ]
    },
    {
     "data": {
      "text/plain": [
       "54.99"
      ]
     },
     "execution_count": 13,
     "metadata": {},
     "output_type": "execute_result"
    }
   ],
   "source": [
    "convNN_2d_attn_k_256 = ConvNN_2D_Attn_K_N(N=256, device='cuda')\n",
    "\n",
    "print(\"Model: \" + convNN_2d_attn_k_256.name)\n",
    "# Test + Eval\n",
    "criterion = nn.CrossEntropyLoss()\n",
    "optimizer = optim.Adam(convNN_2d_attn_k_256.parameters(), lr=0.001)\n",
    "num_epochs = 10 \n",
    "train_eval(convNN_2d_attn_k_256, cifar10.train_loader, cifar10.test_loader, criterion, optimizer, num_epochs, device='cuda')\n",
    "evaluate_accuracy(convNN_2d_attn_k_256, cifar10.test_loader, device='cuda')\n",
    "\n"
   ]
  },
  {
   "cell_type": "markdown",
   "metadata": {},
   "source": [
    "### N = 512"
   ]
  },
  {
   "cell_type": "code",
   "execution_count": 12,
   "metadata": {},
   "outputs": [
    {
     "name": "stdout",
     "output_type": "stream",
     "text": [
      "Model: ConvNN_2D_Attn_K_N\n",
      "Epoch 1, Time: 13.123526096343994, Loss: 1.7830875587585333\n",
      "Epoch 1, Accuracy: 42.36%\n",
      "Epoch 2, Time: 13.169797897338867, Loss: 1.4483247908484904\n",
      "Epoch 2, Accuracy: 48.84%\n",
      "Epoch 3, Time: 13.266138076782227, Loss: 1.2940282629578925\n",
      "Epoch 3, Accuracy: 52.33%\n",
      "Epoch 4, Time: 13.180777072906494, Loss: 1.1751015139815142\n",
      "Epoch 4, Accuracy: 52.24%\n",
      "Epoch 5, Time: 13.183791637420654, Loss: 1.0734943380898527\n",
      "Epoch 5, Accuracy: 55.05%\n",
      "Epoch 6, Time: 13.252545356750488, Loss: 0.9723182363278421\n",
      "Epoch 6, Accuracy: 55.32%\n",
      "Epoch 7, Time: 13.084016799926758, Loss: 0.8779876815998341\n",
      "Epoch 7, Accuracy: 55.17%\n",
      "Epoch 8, Time: 13.077337741851807, Loss: 0.7817101499156269\n",
      "Epoch 8, Accuracy: 54.02%\n",
      "Epoch 9, Time: 13.096997737884521, Loss: 0.6926766462109583\n",
      "Epoch 9, Accuracy: 54.65%\n",
      "Epoch 10, Time: 13.19159746170044, Loss: 0.6147327245787129\n",
      "Epoch 10, Accuracy: 54.16%\n",
      "\n",
      " Average epoch time: 13.162652587890625\n",
      "Accuracy on test set: 54.13%\n"
     ]
    },
    {
     "data": {
      "text/plain": [
       "54.13"
      ]
     },
     "execution_count": 12,
     "metadata": {},
     "output_type": "execute_result"
    }
   ],
   "source": [
    "convNN_2d_attn_k_512 = ConvNN_2D_Attn_K_N(N=512, device='cuda')\n",
    "\n",
    "print(\"Model: \" + convNN_2d_attn_k_512.name)\n",
    "# Test + Eval\n",
    "criterion = nn.CrossEntropyLoss()\n",
    "optimizer = optim.Adam(convNN_2d_attn_k_512.parameters(), lr=0.001)\n",
    "num_epochs = 10 \n",
    "train_eval(convNN_2d_attn_k_512, cifar10.train_loader, cifar10.test_loader, criterion, optimizer, num_epochs, device='cuda')\n",
    "evaluate_accuracy(convNN_2d_attn_k_512, cifar10.test_loader, device='cuda')\n",
    "\n"
   ]
  },
  {
   "cell_type": "code",
   "execution_count": null,
   "metadata": {},
   "outputs": [],
   "source": []
  }
 ],
 "metadata": {
  "kernelspec": {
   "display_name": "Python 3.12",
   "language": "python",
   "name": "python3.12"
  },
  "language_info": {
   "codemirror_mode": {
    "name": "ipython",
    "version": 3
   },
   "file_extension": ".py",
   "mimetype": "text/x-python",
   "name": "python",
   "nbconvert_exporter": "python",
   "pygments_lexer": "ipython3",
   "version": "3.12.3"
  }
 },
 "nbformat": 4,
 "nbformat_minor": 4
}
