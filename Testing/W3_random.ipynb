{
 "cells": [
  {
   "cell_type": "markdown",
   "metadata": {},
   "source": [
    "# ConvNN Random Sampling\n",
    "\n",
    "## Why does K = 1 work better than K > 1?"
   ]
  },
  {
   "cell_type": "code",
   "execution_count": 22,
   "metadata": {},
   "outputs": [],
   "source": [
    "# Torch\n",
    "import torch \n",
    "import torch.nn as nn\n",
    "import torch.nn.functional as F\n",
    "from torch import optim \n",
    "\n",
    "\n",
    "# Train + Data \n",
    "import sys \n",
    "sys.path.append('../Layers')\n",
    "from Conv1d_NN import * \n",
    "from Conv2d_NN import * \n",
    "\n",
    "sys.path.append('../Data')\n",
    "from CIFAR10 import * \n",
    "\n",
    "\n",
    "sys.path.append('../Train')\n",
    "from train2d import * \n"
   ]
  },
  {
   "cell_type": "code",
   "execution_count": 23,
   "metadata": {},
   "outputs": [
    {
     "name": "stdout",
     "output_type": "stream",
     "text": [
      "Input:  torch.Size([32, 1, 28, 28])\n",
      "Output:  torch.Size([32, 3, 28, 28])\n"
     ]
    }
   ],
   "source": [
    "# Example\n",
    "ex = torch.rand(32, 1, 28, 28) \n",
    "print(\"Input: \", ex.shape)\n",
    "\n",
    "conv2d_nn = Conv2d_NN(in_channels=1, out_channels=3, K=3, stride=3, padding=0, shuffle_pattern=\"N/A\", shuffle_scale=2, samples=5)\n",
    "output = conv2d_nn(ex)\n",
    "print(\"Output: \", output.shape)"
   ]
  },
  {
   "cell_type": "markdown",
   "metadata": {},
   "source": [
    "# 1. Vary N - number of random samples"
   ]
  },
  {
   "cell_type": "markdown",
   "metadata": {},
   "source": [
    "## I. K = 1 with N = 1 -> 250 Models"
   ]
  },
  {
   "cell_type": "code",
   "execution_count": 24,
   "metadata": {},
   "outputs": [
    {
     "name": "stdout",
     "output_type": "stream",
     "text": [
      "----------------------------------------------------------------\n",
      "        Layer (type)               Output Shape         Param #\n",
      "================================================================\n",
      "           Flatten-1              [-1, 12, 256]               0\n",
      "            Conv1d-2              [-1, 20, 256]             260\n",
      "         Conv1d_NN-3              [-1, 20, 256]               0\n",
      "         Conv2d_NN-4            [-1, 5, 32, 32]               0\n",
      "           Flatten-5              [-1, 20, 256]               0\n",
      "            Conv1d-6              [-1, 40, 256]             840\n",
      "         Conv1d_NN-7              [-1, 40, 256]               0\n",
      "         Conv2d_NN-8           [-1, 10, 32, 32]               0\n",
      "           Flatten-9              [-1, 40, 256]               0\n",
      "           Conv1d-10              [-1, 80, 256]           3,280\n",
      "        Conv1d_NN-11              [-1, 80, 256]               0\n",
      "        Conv2d_NN-12           [-1, 20, 32, 32]               0\n",
      "          Flatten-13                [-1, 20480]               0\n",
      "           Linear-14                   [-1, 10]         204,810\n",
      "================================================================\n",
      "Total params: 209,190\n",
      "Trainable params: 209,190\n",
      "Non-trainable params: 0\n",
      "----------------------------------------------------------------\n",
      "Input size (MB): 0.01\n",
      "Forward/backward pass size (MB): 1.12\n",
      "Params size (MB): 0.80\n",
      "Estimated Total Size (MB): 1.93\n",
      "----------------------------------------------------------------\n"
     ]
    }
   ],
   "source": [
    "# K = 1, N = 1\n",
    "conv2d_nn_1_1 = nn.Sequential(\n",
    "   Conv2d_NN(\n",
    "      in_channels=3,\n",
    "      out_channels=5,\n",
    "      K=1,\n",
    "      stride=1,\n",
    "      padding=0,\n",
    "      shuffle_pattern=\"BA\", \n",
    "      shuffle_scale=2, \n",
    "      samples=1, \n",
    "   ), \n",
    "   Conv2d_NN(\n",
    "      in_channels=5,\n",
    "      out_channels=10,\n",
    "      K=1,\n",
    "      stride=1,\n",
    "      padding=0,\n",
    "      shuffle_pattern=\"BA\", \n",
    "      shuffle_scale=2, \n",
    "      samples=1, \n",
    "   ),\n",
    "   Conv2d_NN(\n",
    "      in_channels=10,\n",
    "      out_channels=20,\n",
    "      K=1,\n",
    "      stride=1,\n",
    "      padding=0,\n",
    "      shuffle_pattern=\"BA\", \n",
    "      shuffle_scale=2, \n",
    "      samples=1, \n",
    "   ),\n",
    "   nn.Flatten(), \n",
    "   nn.Linear(20480, 10)\n",
    "   \n",
    ").to('cpu')\n",
    "   \n",
    "\n",
    "from torchsummary import summary\n",
    "summary(conv2d_nn_1_1, (3, 32, 32))"
   ]
  },
  {
   "cell_type": "code",
   "execution_count": 25,
   "metadata": {},
   "outputs": [
    {
     "name": "stdout",
     "output_type": "stream",
     "text": [
      "----------------------------------------------------------------\n",
      "        Layer (type)               Output Shape         Param #\n",
      "================================================================\n",
      "           Flatten-1              [-1, 12, 256]               0\n",
      "            Conv1d-2              [-1, 20, 256]             260\n",
      "         Conv1d_NN-3              [-1, 20, 256]               0\n",
      "         Conv2d_NN-4            [-1, 5, 32, 32]               0\n",
      "           Flatten-5              [-1, 20, 256]               0\n",
      "            Conv1d-6              [-1, 40, 256]             840\n",
      "         Conv1d_NN-7              [-1, 40, 256]               0\n",
      "         Conv2d_NN-8           [-1, 10, 32, 32]               0\n",
      "           Flatten-9              [-1, 40, 256]               0\n",
      "           Conv1d-10              [-1, 80, 256]           3,280\n",
      "        Conv1d_NN-11              [-1, 80, 256]               0\n",
      "        Conv2d_NN-12           [-1, 20, 32, 32]               0\n",
      "          Flatten-13                [-1, 20480]               0\n",
      "           Linear-14                   [-1, 10]         204,810\n",
      "================================================================\n",
      "Total params: 209,190\n",
      "Trainable params: 209,190\n",
      "Non-trainable params: 0\n",
      "----------------------------------------------------------------\n",
      "Input size (MB): 0.01\n",
      "Forward/backward pass size (MB): 1.12\n",
      "Params size (MB): 0.80\n",
      "Estimated Total Size (MB): 1.93\n",
      "----------------------------------------------------------------\n"
     ]
    }
   ],
   "source": [
    "# K = 1, N = 5\n",
    "conv2d_nn_1_5 = nn.Sequential(\n",
    "   Conv2d_NN(\n",
    "      in_channels=3,\n",
    "      out_channels=5,\n",
    "      K=1,\n",
    "      stride=1,\n",
    "      padding=0,\n",
    "      shuffle_pattern=\"BA\", \n",
    "      shuffle_scale=2, \n",
    "      samples=5, \n",
    "   ), \n",
    "   Conv2d_NN(\n",
    "      in_channels=5,\n",
    "      out_channels=10,\n",
    "      K=1,\n",
    "      stride=1,\n",
    "      padding=0,\n",
    "      shuffle_pattern=\"BA\", \n",
    "      shuffle_scale=2, \n",
    "      samples=5, \n",
    "   ),\n",
    "   Conv2d_NN(\n",
    "      in_channels=10,\n",
    "      out_channels=20,\n",
    "      K=1,\n",
    "      stride=1,\n",
    "      padding=0,\n",
    "      shuffle_pattern=\"BA\", \n",
    "      shuffle_scale=2, \n",
    "      samples=5, \n",
    "   ),\n",
    "   nn.Flatten(), \n",
    "   nn.Linear(20480, 10)\n",
    "   \n",
    ").to('cpu')\n",
    "   \n",
    "\n",
    "from torchsummary import summary\n",
    "summary(conv2d_nn_1_5, (3, 32, 32))"
   ]
  },
  {
   "cell_type": "code",
   "execution_count": 26,
   "metadata": {},
   "outputs": [
    {
     "name": "stdout",
     "output_type": "stream",
     "text": [
      "----------------------------------------------------------------\n",
      "        Layer (type)               Output Shape         Param #\n",
      "================================================================\n",
      "           Flatten-1              [-1, 12, 256]               0\n",
      "            Conv1d-2              [-1, 20, 256]             260\n",
      "         Conv1d_NN-3              [-1, 20, 256]               0\n",
      "         Conv2d_NN-4            [-1, 5, 32, 32]               0\n",
      "           Flatten-5              [-1, 20, 256]               0\n",
      "            Conv1d-6              [-1, 40, 256]             840\n",
      "         Conv1d_NN-7              [-1, 40, 256]               0\n",
      "         Conv2d_NN-8           [-1, 10, 32, 32]               0\n",
      "           Flatten-9              [-1, 40, 256]               0\n",
      "           Conv1d-10              [-1, 80, 256]           3,280\n",
      "        Conv1d_NN-11              [-1, 80, 256]               0\n",
      "        Conv2d_NN-12           [-1, 20, 32, 32]               0\n",
      "          Flatten-13                [-1, 20480]               0\n",
      "           Linear-14                   [-1, 10]         204,810\n",
      "================================================================\n",
      "Total params: 209,190\n",
      "Trainable params: 209,190\n",
      "Non-trainable params: 0\n",
      "----------------------------------------------------------------\n",
      "Input size (MB): 0.01\n",
      "Forward/backward pass size (MB): 1.12\n",
      "Params size (MB): 0.80\n",
      "Estimated Total Size (MB): 1.93\n",
      "----------------------------------------------------------------\n"
     ]
    }
   ],
   "source": [
    "# K = 1, N = 10\n",
    "conv2d_nn_1_10 = nn.Sequential(\n",
    "   Conv2d_NN(\n",
    "      in_channels=3,\n",
    "      out_channels=5,\n",
    "      K=1,\n",
    "      stride=1,\n",
    "      padding=0,\n",
    "      shuffle_pattern=\"BA\", \n",
    "      shuffle_scale=2, \n",
    "      samples=10, \n",
    "   ), \n",
    "   Conv2d_NN(\n",
    "      in_channels=5,\n",
    "      out_channels=10,\n",
    "      K=1,\n",
    "      stride=1,\n",
    "      padding=0,\n",
    "      shuffle_pattern=\"BA\", \n",
    "      shuffle_scale=2, \n",
    "      samples=10, \n",
    "   ),\n",
    "   Conv2d_NN(\n",
    "      in_channels=10,\n",
    "      out_channels=20,\n",
    "      K=1,\n",
    "      stride=1,\n",
    "      padding=0,\n",
    "      shuffle_pattern=\"BA\", \n",
    "      shuffle_scale=2, \n",
    "      samples=10, \n",
    "   ),\n",
    "   nn.Flatten(), \n",
    "   nn.Linear(20480, 10)\n",
    "   \n",
    ").to('cpu')\n",
    "   \n",
    "\n",
    "from torchsummary import summary\n",
    "summary(conv2d_nn_1_10, (3, 32, 32))"
   ]
  },
  {
   "cell_type": "code",
   "execution_count": 27,
   "metadata": {},
   "outputs": [
    {
     "name": "stdout",
     "output_type": "stream",
     "text": [
      "----------------------------------------------------------------\n",
      "        Layer (type)               Output Shape         Param #\n",
      "================================================================\n",
      "           Flatten-1              [-1, 12, 256]               0\n",
      "            Conv1d-2              [-1, 20, 256]             260\n",
      "         Conv1d_NN-3              [-1, 20, 256]               0\n",
      "         Conv2d_NN-4            [-1, 5, 32, 32]               0\n",
      "           Flatten-5              [-1, 20, 256]               0\n",
      "            Conv1d-6              [-1, 40, 256]             840\n",
      "         Conv1d_NN-7              [-1, 40, 256]               0\n",
      "         Conv2d_NN-8           [-1, 10, 32, 32]               0\n",
      "           Flatten-9              [-1, 40, 256]               0\n",
      "           Conv1d-10              [-1, 80, 256]           3,280\n",
      "        Conv1d_NN-11              [-1, 80, 256]               0\n",
      "        Conv2d_NN-12           [-1, 20, 32, 32]               0\n",
      "          Flatten-13                [-1, 20480]               0\n",
      "           Linear-14                   [-1, 10]         204,810\n",
      "================================================================\n",
      "Total params: 209,190\n",
      "Trainable params: 209,190\n",
      "Non-trainable params: 0\n",
      "----------------------------------------------------------------\n",
      "Input size (MB): 0.01\n",
      "Forward/backward pass size (MB): 1.12\n",
      "Params size (MB): 0.80\n",
      "Estimated Total Size (MB): 1.93\n",
      "----------------------------------------------------------------\n"
     ]
    }
   ],
   "source": [
    "# K = 1, N = 50\n",
    "conv2d_nn_1_50 = nn.Sequential(\n",
    "   Conv2d_NN(\n",
    "      in_channels=3,\n",
    "      out_channels=5,\n",
    "      K=1,\n",
    "      stride=1,\n",
    "      padding=0,\n",
    "      shuffle_pattern=\"BA\", \n",
    "      shuffle_scale=2, \n",
    "      samples=50, \n",
    "   ), \n",
    "   Conv2d_NN(\n",
    "      in_channels=5,\n",
    "      out_channels=10,\n",
    "      K=1,\n",
    "      stride=1,\n",
    "      padding=0,\n",
    "      shuffle_pattern=\"BA\", \n",
    "      shuffle_scale=2, \n",
    "      samples=50, \n",
    "   ),\n",
    "   Conv2d_NN(\n",
    "      in_channels=10,\n",
    "      out_channels=20,\n",
    "      K=1,\n",
    "      stride=1,\n",
    "      padding=0,\n",
    "      shuffle_pattern=\"BA\", \n",
    "      shuffle_scale=2, \n",
    "      samples=50, \n",
    "   ),\n",
    "   nn.Flatten(), \n",
    "   nn.Linear(20480, 10)\n",
    "   \n",
    ").to('cpu')\n",
    "   \n",
    "\n",
    "from torchsummary import summary\n",
    "summary(conv2d_nn_1_50, (3, 32, 32))"
   ]
  },
  {
   "cell_type": "code",
   "execution_count": 28,
   "metadata": {},
   "outputs": [
    {
     "name": "stdout",
     "output_type": "stream",
     "text": [
      "----------------------------------------------------------------\n",
      "        Layer (type)               Output Shape         Param #\n",
      "================================================================\n",
      "           Flatten-1              [-1, 12, 256]               0\n",
      "            Conv1d-2              [-1, 20, 256]             260\n",
      "         Conv1d_NN-3              [-1, 20, 256]               0\n",
      "         Conv2d_NN-4            [-1, 5, 32, 32]               0\n",
      "           Flatten-5              [-1, 20, 256]               0\n",
      "            Conv1d-6              [-1, 40, 256]             840\n",
      "         Conv1d_NN-7              [-1, 40, 256]               0\n",
      "         Conv2d_NN-8           [-1, 10, 32, 32]               0\n",
      "           Flatten-9              [-1, 40, 256]               0\n",
      "           Conv1d-10              [-1, 80, 256]           3,280\n",
      "        Conv1d_NN-11              [-1, 80, 256]               0\n",
      "        Conv2d_NN-12           [-1, 20, 32, 32]               0\n",
      "          Flatten-13                [-1, 20480]               0\n",
      "           Linear-14                   [-1, 10]         204,810\n",
      "================================================================\n",
      "Total params: 209,190\n",
      "Trainable params: 209,190\n",
      "Non-trainable params: 0\n",
      "----------------------------------------------------------------\n",
      "Input size (MB): 0.01\n",
      "Forward/backward pass size (MB): 1.12\n",
      "Params size (MB): 0.80\n",
      "Estimated Total Size (MB): 1.93\n",
      "----------------------------------------------------------------\n"
     ]
    }
   ],
   "source": [
    "# K = 1, N = 100\n",
    "conv2d_nn_1_100 = nn.Sequential(\n",
    "   Conv2d_NN(\n",
    "      in_channels=3,\n",
    "      out_channels=5,\n",
    "      K=1,\n",
    "      stride=1,\n",
    "      padding=0,\n",
    "      shuffle_pattern=\"BA\", \n",
    "      shuffle_scale=2, \n",
    "      samples=100, \n",
    "   ), \n",
    "   Conv2d_NN(\n",
    "      in_channels=5,\n",
    "      out_channels=10,\n",
    "      K=1,\n",
    "      stride=1,\n",
    "      padding=0,\n",
    "      shuffle_pattern=\"BA\", \n",
    "      shuffle_scale=2, \n",
    "      samples=100, \n",
    "   ),\n",
    "   Conv2d_NN(\n",
    "      in_channels=10,\n",
    "      out_channels=20,\n",
    "      K=1,\n",
    "      stride=1,\n",
    "      padding=0,\n",
    "      shuffle_pattern=\"BA\", \n",
    "      shuffle_scale=2, \n",
    "      samples=100, \n",
    "   ),\n",
    "   nn.Flatten(), \n",
    "   nn.Linear(20480, 10)\n",
    "   \n",
    ").to('cpu')\n",
    "   \n",
    "\n",
    "from torchsummary import summary\n",
    "summary(conv2d_nn_1_100, (3, 32, 32))"
   ]
  },
  {
   "cell_type": "code",
   "execution_count": 29,
   "metadata": {},
   "outputs": [
    {
     "name": "stdout",
     "output_type": "stream",
     "text": [
      "----------------------------------------------------------------\n",
      "        Layer (type)               Output Shape         Param #\n",
      "================================================================\n",
      "           Flatten-1              [-1, 12, 256]               0\n",
      "            Conv1d-2              [-1, 20, 256]             260\n",
      "         Conv1d_NN-3              [-1, 20, 256]               0\n",
      "         Conv2d_NN-4            [-1, 5, 32, 32]               0\n",
      "           Flatten-5              [-1, 20, 256]               0\n",
      "            Conv1d-6              [-1, 40, 256]             840\n",
      "         Conv1d_NN-7              [-1, 40, 256]               0\n",
      "         Conv2d_NN-8           [-1, 10, 32, 32]               0\n",
      "           Flatten-9              [-1, 40, 256]               0\n",
      "           Conv1d-10              [-1, 80, 256]           3,280\n",
      "        Conv1d_NN-11              [-1, 80, 256]               0\n",
      "        Conv2d_NN-12           [-1, 20, 32, 32]               0\n",
      "          Flatten-13                [-1, 20480]               0\n",
      "           Linear-14                   [-1, 10]         204,810\n",
      "================================================================\n",
      "Total params: 209,190\n",
      "Trainable params: 209,190\n",
      "Non-trainable params: 0\n",
      "----------------------------------------------------------------\n",
      "Input size (MB): 0.01\n",
      "Forward/backward pass size (MB): 1.12\n",
      "Params size (MB): 0.80\n",
      "Estimated Total Size (MB): 1.93\n",
      "----------------------------------------------------------------\n"
     ]
    }
   ],
   "source": [
    "# K = 1, N = 250\n",
    "conv2d_nn_1_250 = nn.Sequential(\n",
    "   Conv2d_NN(\n",
    "      in_channels=3,\n",
    "      out_channels=5,\n",
    "      K=1,\n",
    "      stride=1,\n",
    "      padding=0,\n",
    "      shuffle_pattern=\"BA\", \n",
    "      shuffle_scale=2, \n",
    "      samples=250, \n",
    "   ), \n",
    "   Conv2d_NN(\n",
    "      in_channels=5,\n",
    "      out_channels=10,\n",
    "      K=1,\n",
    "      stride=1,\n",
    "      padding=0,\n",
    "      shuffle_pattern=\"BA\", \n",
    "      shuffle_scale=2, \n",
    "      samples=250, \n",
    "   ),\n",
    "   Conv2d_NN(\n",
    "      in_channels=10,\n",
    "      out_channels=20,\n",
    "      K=1,\n",
    "      stride=1,\n",
    "      padding=0,\n",
    "      shuffle_pattern=\"BA\", \n",
    "      shuffle_scale=2, \n",
    "      samples=250, \n",
    "   ),\n",
    "   nn.Flatten(), \n",
    "   nn.Linear(20480, 10)\n",
    "   \n",
    ").to('cpu')\n",
    "   \n",
    "\n",
    "from torchsummary import summary\n",
    "summary(conv2d_nn_1_250, (3, 32, 32))"
   ]
  },
  {
   "cell_type": "code",
   "execution_count": null,
   "metadata": {},
   "outputs": [
    {
     "name": "stdout",
     "output_type": "stream",
     "text": [
      "----------------------------------------------------------------\n",
      "        Layer (type)               Output Shape         Param #\n",
      "================================================================\n",
      "           Flatten-1              [-1, 12, 256]               0\n",
      "            Conv1d-2              [-1, 20, 256]             260\n",
      "         Conv1d_NN-3              [-1, 20, 256]               0\n",
      "         Conv2d_NN-4            [-1, 5, 32, 32]               0\n",
      "           Flatten-5              [-1, 20, 256]               0\n",
      "            Conv1d-6              [-1, 40, 256]             840\n",
      "         Conv1d_NN-7              [-1, 40, 256]               0\n",
      "         Conv2d_NN-8           [-1, 10, 32, 32]               0\n",
      "           Flatten-9              [-1, 40, 256]               0\n",
      "           Conv1d-10              [-1, 80, 256]           3,280\n",
      "        Conv1d_NN-11              [-1, 80, 256]               0\n",
      "        Conv2d_NN-12           [-1, 20, 32, 32]               0\n",
      "          Flatten-13                [-1, 20480]               0\n",
      "           Linear-14                   [-1, 10]         204,810\n",
      "================================================================\n",
      "Total params: 209,190\n",
      "Trainable params: 209,190\n",
      "Non-trainable params: 0\n",
      "----------------------------------------------------------------\n",
      "Input size (MB): 0.01\n",
      "Forward/backward pass size (MB): 1.12\n",
      "Params size (MB): 0.80\n",
      "Estimated Total Size (MB): 1.93\n",
      "----------------------------------------------------------------\n"
     ]
    }
   ],
   "source": [
    "# K = 1, N = all\n",
    "conv2d_nn_1_all = nn.Sequential(\n",
    "   Conv2d_NN(\n",
    "      in_channels=3,\n",
    "      out_channels=5,\n",
    "      K=1,\n",
    "      stride=1,\n",
    "      padding=0,\n",
    "      shuffle_pattern=\"BA\", \n",
    "      shuffle_scale=2, \n",
    "      samples=\"all\", \n",
    "   ), \n",
    "   Conv2d_NN(\n",
    "      in_channels=5,\n",
    "      out_channels=10,\n",
    "      K=1,\n",
    "      stride=1,\n",
    "      padding=0,\n",
    "      shuffle_pattern=\"BA\", \n",
    "      shuffle_scale=2, \n",
    "      samples=\"all\", \n",
    "   ),\n",
    "   Conv2d_NN(\n",
    "      in_channels=10,\n",
    "      out_channels=20,\n",
    "      K=1,\n",
    "      stride=1,\n",
    "      padding=0,\n",
    "      shuffle_pattern=\"BA\", \n",
    "      shuffle_scale=2, \n",
    "      samples=\"all\", \n",
    "   ),\n",
    "   nn.Flatten(), \n",
    "   nn.Linear(20480, 10)\n",
    "   \n",
    ").to('cpu')\n",
    "   \n",
    "\n",
    "from torchsummary import summary\n",
    "summary(conv2d_nn_1_all, (3, 32, 32))"
   ]
  },
  {
   "cell_type": "markdown",
   "metadata": {},
   "source": [
    "## I. K = 1 with N = 1 -> 250 Evaluation"
   ]
  },
  {
   "cell_type": "code",
   "execution_count": null,
   "metadata": {},
   "outputs": [
    {
     "name": "stdout",
     "output_type": "stream",
     "text": [
      "Files already downloaded and verified\n",
      "Files already downloaded and verified\n"
     ]
    }
   ],
   "source": [
    "# MNIST \n",
    "cifar10 = CIFAR10()"
   ]
  },
  {
   "cell_type": "code",
   "execution_count": 32,
   "metadata": {},
   "outputs": [
    {
     "name": "stdout",
     "output_type": "stream",
     "text": [
      "Epoch 1, Time: 12.419409275054932, Loss: 1.787253077225307\n",
      "Epoch 2, Time: 10.021344900131226, Loss: 1.7141314276953792\n",
      "Epoch 3, Time: 10.014014959335327, Loss: 1.6922666197237761\n",
      "Epoch 4, Time: 9.987889051437378, Loss: 1.6766851330962023\n",
      "Epoch 5, Time: 10.057843208312988, Loss: 1.6646847112099532\n",
      "Epoch 6, Time: 11.072782039642334, Loss: 1.6535799660341208\n",
      "Epoch 7, Time: 12.667284965515137, Loss: 1.6438364028320898\n",
      "Epoch 8, Time: 11.056393146514893, Loss: 1.6346901699405192\n",
      "Epoch 9, Time: 9.82479977607727, Loss: 1.6264592378645601\n",
      "Epoch 10, Time: 9.783766746520996, Loss: 1.623258687651066\n",
      "\n",
      " Average epoch time: 10.690552806854248\n",
      "Accuracy on test set: 40.24%\n"
     ]
    },
    {
     "data": {
      "text/plain": [
       "40.24"
      ]
     },
     "execution_count": 32,
     "metadata": {},
     "output_type": "execute_result"
    }
   ],
   "source": [
    "# K = 1, N = 1\n",
    "conv2d_nn_1_1.to('mps')\n",
    "\n",
    "criterion = nn.CrossEntropyLoss()\n",
    "optimizer = optim.Adam(conv2d_nn_1_1.parameters(), lr=0.001)\n",
    "num_epochs = 10 \n",
    "train_model(conv2d_nn_1_1, cifar10.train_loader, criterion, optimizer, num_epochs)\n",
    "evaluate_accuracy(conv2d_nn_1_1, cifar10.test_loader)"
   ]
  },
  {
   "cell_type": "code",
   "execution_count": 33,
   "metadata": {},
   "outputs": [
    {
     "name": "stdout",
     "output_type": "stream",
     "text": [
      "Epoch 1, Time: 10.004887104034424, Loss: 1.7889926787227621\n",
      "Epoch 2, Time: 9.843122005462646, Loss: 1.7139340227522204\n",
      "Epoch 3, Time: 10.094918966293335, Loss: 1.6902477799169242\n",
      "Epoch 4, Time: 10.262590885162354, Loss: 1.6735886692086144\n",
      "Epoch 5, Time: 11.30128002166748, Loss: 1.6606620766622635\n",
      "Epoch 6, Time: 10.662610054016113, Loss: 1.650809311043576\n",
      "Epoch 7, Time: 9.84615182876587, Loss: 1.6431867463509444\n",
      "Epoch 8, Time: 10.167793035507202, Loss: 1.633919499871676\n",
      "Epoch 9, Time: 10.103093147277832, Loss: 1.6285327358928787\n",
      "Epoch 10, Time: 10.080396175384521, Loss: 1.6224215393481047\n",
      "\n",
      " Average epoch time: 10.236684322357178\n",
      "Accuracy on test set: 39.61%\n"
     ]
    },
    {
     "data": {
      "text/plain": [
       "39.61"
      ]
     },
     "execution_count": 33,
     "metadata": {},
     "output_type": "execute_result"
    }
   ],
   "source": [
    "# K = 1, N = 5\n",
    "conv2d_nn_1_5.to('mps')\n",
    "\n",
    "criterion = nn.CrossEntropyLoss()\n",
    "optimizer = optim.Adam(conv2d_nn_1_5.parameters(), lr=0.001)\n",
    "num_epochs = 10 \n",
    "train_model(conv2d_nn_1_5, cifar10.train_loader, criterion, optimizer, num_epochs)\n",
    "evaluate_accuracy(conv2d_nn_1_5, cifar10.test_loader)"
   ]
  },
  {
   "cell_type": "code",
   "execution_count": 34,
   "metadata": {},
   "outputs": [
    {
     "name": "stdout",
     "output_type": "stream",
     "text": [
      "Epoch 1, Time: 10.275639772415161, Loss: 1.7846085796575717\n",
      "Epoch 2, Time: 10.159199237823486, Loss: 1.711542880748544\n",
      "Epoch 3, Time: 10.124547243118286, Loss: 1.68734604364161\n",
      "Epoch 4, Time: 10.289273023605347, Loss: 1.6721247544374003\n",
      "Epoch 5, Time: 9.909409046173096, Loss: 1.6613719431335663\n",
      "Epoch 6, Time: 9.908334255218506, Loss: 1.6518599456533447\n",
      "Epoch 7, Time: 9.929419994354248, Loss: 1.6444539638126598\n",
      "Epoch 8, Time: 10.274124145507812, Loss: 1.6369583067076896\n",
      "Epoch 9, Time: 9.954242706298828, Loss: 1.628528369357214\n",
      "Epoch 10, Time: 10.10352897644043, Loss: 1.6248016525107576\n",
      "\n",
      " Average epoch time: 10.09277184009552\n",
      "Accuracy on test set: 39.9%\n"
     ]
    },
    {
     "data": {
      "text/plain": [
       "39.9"
      ]
     },
     "execution_count": 34,
     "metadata": {},
     "output_type": "execute_result"
    }
   ],
   "source": [
    "# K = 1, N = 10\n",
    "conv2d_nn_1_10.to('mps')\n",
    "\n",
    "criterion = nn.CrossEntropyLoss()\n",
    "optimizer = optim.Adam(conv2d_nn_1_10.parameters(), lr=0.001)\n",
    "num_epochs = 10 \n",
    "train_model(conv2d_nn_1_10, cifar10.train_loader, criterion, optimizer, num_epochs)\n",
    "evaluate_accuracy(conv2d_nn_1_10, cifar10.test_loader)"
   ]
  },
  {
   "cell_type": "code",
   "execution_count": 35,
   "metadata": {},
   "outputs": [
    {
     "name": "stdout",
     "output_type": "stream",
     "text": [
      "Epoch 1, Time: 10.437910079956055, Loss: 1.7844370627952049\n",
      "Epoch 2, Time: 10.463212966918945, Loss: 1.7127140248218156\n",
      "Epoch 3, Time: 14.520534038543701, Loss: 1.6882794743303753\n",
      "Epoch 4, Time: 14.199459075927734, Loss: 1.6722914105486077\n",
      "Epoch 5, Time: 12.265986204147339, Loss: 1.6609094249622902\n",
      "Epoch 6, Time: 11.879393100738525, Loss: 1.650831179393222\n",
      "Epoch 7, Time: 12.193964004516602, Loss: 1.6422394788478647\n",
      "Epoch 8, Time: 12.56626009941101, Loss: 1.6336593037980902\n",
      "Epoch 9, Time: 11.904074907302856, Loss: 1.628096397575515\n",
      "Epoch 10, Time: 12.47105097770691, Loss: 1.621774218423897\n",
      "\n",
      " Average epoch time: 12.290184545516968\n",
      "Accuracy on test set: 39.49%\n"
     ]
    },
    {
     "data": {
      "text/plain": [
       "39.49"
      ]
     },
     "execution_count": 35,
     "metadata": {},
     "output_type": "execute_result"
    }
   ],
   "source": [
    "# K = 1, N = 50\n",
    "conv2d_nn_1_50.to('mps')\n",
    "\n",
    "criterion = nn.CrossEntropyLoss()\n",
    "optimizer = optim.Adam(conv2d_nn_1_50.parameters(), lr=0.001)\n",
    "num_epochs = 10 \n",
    "train_model(conv2d_nn_1_50, cifar10.train_loader, criterion, optimizer, num_epochs)\n",
    "evaluate_accuracy(conv2d_nn_1_50, cifar10.test_loader)"
   ]
  },
  {
   "cell_type": "code",
   "execution_count": 36,
   "metadata": {},
   "outputs": [
    {
     "name": "stdout",
     "output_type": "stream",
     "text": [
      "Epoch 1, Time: 12.603754043579102, Loss: 1.7831795628723281\n",
      "Epoch 2, Time: 15.287681102752686, Loss: 1.7119316623338958\n",
      "Epoch 3, Time: 13.607097148895264, Loss: 1.6908377075134335\n",
      "Epoch 4, Time: 12.898545980453491, Loss: 1.6741198816567735\n",
      "Epoch 5, Time: 14.629860877990723, Loss: 1.6644878829531657\n",
      "Epoch 6, Time: 12.27604603767395, Loss: 1.6527281804462832\n",
      "Epoch 7, Time: 10.974004030227661, Loss: 1.6439372735560094\n",
      "Epoch 8, Time: 10.992265939712524, Loss: 1.6375969687996008\n",
      "Epoch 9, Time: 10.935979127883911, Loss: 1.6295442980573611\n",
      "Epoch 10, Time: 10.968158960342407, Loss: 1.6243653515415728\n",
      "\n",
      " Average epoch time: 12.517339324951172\n",
      "Accuracy on test set: 39.5%\n"
     ]
    },
    {
     "data": {
      "text/plain": [
       "39.5"
      ]
     },
     "execution_count": 36,
     "metadata": {},
     "output_type": "execute_result"
    }
   ],
   "source": [
    "# K = 1, N = 100\n",
    "conv2d_nn_1_100.to('mps')\n",
    "\n",
    "criterion = nn.CrossEntropyLoss()\n",
    "optimizer = optim.Adam(conv2d_nn_1_100.parameters(), lr=0.001)\n",
    "num_epochs = 10 \n",
    "train_model(conv2d_nn_1_100, cifar10.train_loader, criterion, optimizer, num_epochs)\n",
    "evaluate_accuracy(conv2d_nn_1_100, cifar10.test_loader)"
   ]
  },
  {
   "cell_type": "code",
   "execution_count": 37,
   "metadata": {},
   "outputs": [
    {
     "name": "stdout",
     "output_type": "stream",
     "text": [
      "Epoch 1, Time: 12.655128002166748, Loss: 1.7873440023578342\n",
      "Epoch 2, Time: 12.532023906707764, Loss: 1.7147316571391757\n",
      "Epoch 3, Time: 12.653769969940186, Loss: 1.6894745334334995\n",
      "Epoch 4, Time: 12.571163892745972, Loss: 1.6737550774498668\n",
      "Epoch 5, Time: 12.894710063934326, Loss: 1.6627520859393927\n",
      "Epoch 6, Time: 14.288738012313843, Loss: 1.6494456021986958\n",
      "Epoch 7, Time: 13.301712989807129, Loss: 1.6404271438298628\n",
      "Epoch 8, Time: 14.503473997116089, Loss: 1.635136708883983\n",
      "Epoch 9, Time: 16.745208263397217, Loss: 1.6259767489360117\n",
      "Epoch 10, Time: 19.768375873565674, Loss: 1.6187097219859852\n",
      "\n",
      " Average epoch time: 14.191430497169495\n",
      "Accuracy on test set: 39.32%\n"
     ]
    },
    {
     "data": {
      "text/plain": [
       "39.32"
      ]
     },
     "execution_count": 37,
     "metadata": {},
     "output_type": "execute_result"
    }
   ],
   "source": [
    "# K = 1, N = 250\n",
    "conv2d_nn_1_250.to('mps')\n",
    "\n",
    "criterion = nn.CrossEntropyLoss()\n",
    "optimizer = optim.Adam(conv2d_nn_1_250.parameters(), lr=0.001)\n",
    "num_epochs = 10 \n",
    "train_model(conv2d_nn_1_250, cifar10.train_loader, criterion, optimizer, num_epochs)\n",
    "evaluate_accuracy(conv2d_nn_1_250, cifar10.test_loader)"
   ]
  },
  {
   "cell_type": "code",
   "execution_count": 38,
   "metadata": {},
   "outputs": [
    {
     "name": "stdout",
     "output_type": "stream",
     "text": [
      "Epoch 1, Time: 35.07148790359497, Loss: 1.8052824965828216\n",
      "Epoch 2, Time: 32.91712689399719, Loss: 1.7379372468994707\n",
      "Epoch 3, Time: 33.15939378738403, Loss: 1.7157092807847825\n",
      "Epoch 4, Time: 33.04985284805298, Loss: 1.6994275130579233\n",
      "Epoch 5, Time: 32.963547229766846, Loss: 1.6887561660593429\n",
      "Epoch 6, Time: 33.084567070007324, Loss: 1.6764573390831423\n",
      "Epoch 7, Time: 33.15153527259827, Loss: 1.667189855099944\n",
      "Epoch 8, Time: 33.719300985336304, Loss: 1.6604902390628824\n",
      "Epoch 9, Time: 33.078798055648804, Loss: 1.652031617396323\n",
      "Epoch 10, Time: 33.038006067276, Loss: 1.6458325576599298\n",
      "\n",
      " Average epoch time: 33.32336161136627\n",
      "Accuracy on test set: 38.66%\n"
     ]
    },
    {
     "data": {
      "text/plain": [
       "38.66"
      ]
     },
     "execution_count": 38,
     "metadata": {},
     "output_type": "execute_result"
    }
   ],
   "source": [
    "# K = 1, N = All\n",
    "conv2d_nn_1_all.to('mps')\n",
    "\n",
    "criterion = nn.CrossEntropyLoss()\n",
    "optimizer = optim.Adam(conv2d_nn_1_all.parameters(), lr=0.001)\n",
    "num_epochs = 10 \n",
    "train_model(conv2d_nn_1_all, cifar10.train_loader, criterion, optimizer, num_epochs)\n",
    "evaluate_accuracy(conv2d_nn_1_all, cifar10.test_loader)"
   ]
  },
  {
   "cell_type": "markdown",
   "metadata": {},
   "source": [
    "# 2. Vary K - number of KNN neighbors"
   ]
  },
  {
   "cell_type": "markdown",
   "metadata": {},
   "source": [
    "## II. K = 1 -> 20 with N = 50 Models"
   ]
  },
  {
   "cell_type": "code",
   "execution_count": 1,
   "metadata": {},
   "outputs": [
    {
     "ename": "NameError",
     "evalue": "name 'nn' is not defined",
     "output_type": "error",
     "traceback": [
      "\u001b[0;31m---------------------------------------------------------------------------\u001b[0m",
      "\u001b[0;31mNameError\u001b[0m                                 Traceback (most recent call last)",
      "Cell \u001b[0;32mIn[1], line 2\u001b[0m\n\u001b[1;32m      1\u001b[0m \u001b[38;5;66;03m# K = 1, N = 50\u001b[39;00m\n\u001b[0;32m----> 2\u001b[0m conv2d_nn_1_50 \u001b[38;5;241m=\u001b[39m \u001b[43mnn\u001b[49m\u001b[38;5;241m.\u001b[39mSequential(\n\u001b[1;32m      3\u001b[0m    Conv2d_NN(\n\u001b[1;32m      4\u001b[0m       in_channels\u001b[38;5;241m=\u001b[39m\u001b[38;5;241m3\u001b[39m,\n\u001b[1;32m      5\u001b[0m       out_channels\u001b[38;5;241m=\u001b[39m\u001b[38;5;241m5\u001b[39m,\n\u001b[1;32m      6\u001b[0m       K\u001b[38;5;241m=\u001b[39m\u001b[38;5;241m1\u001b[39m,\n\u001b[1;32m      7\u001b[0m       stride\u001b[38;5;241m=\u001b[39m\u001b[38;5;241m1\u001b[39m,\n\u001b[1;32m      8\u001b[0m       padding\u001b[38;5;241m=\u001b[39m\u001b[38;5;241m0\u001b[39m,\n\u001b[1;32m      9\u001b[0m       shuffle_pattern\u001b[38;5;241m=\u001b[39m\u001b[38;5;124m\"\u001b[39m\u001b[38;5;124mBA\u001b[39m\u001b[38;5;124m\"\u001b[39m, \n\u001b[1;32m     10\u001b[0m       shuffle_scale\u001b[38;5;241m=\u001b[39m\u001b[38;5;241m2\u001b[39m, \n\u001b[1;32m     11\u001b[0m       samples\u001b[38;5;241m=\u001b[39m\u001b[38;5;241m50\u001b[39m, \n\u001b[1;32m     12\u001b[0m    ), \n\u001b[1;32m     13\u001b[0m    Conv2d_NN(\n\u001b[1;32m     14\u001b[0m       in_channels\u001b[38;5;241m=\u001b[39m\u001b[38;5;241m5\u001b[39m,\n\u001b[1;32m     15\u001b[0m       out_channels\u001b[38;5;241m=\u001b[39m\u001b[38;5;241m10\u001b[39m,\n\u001b[1;32m     16\u001b[0m       K\u001b[38;5;241m=\u001b[39m\u001b[38;5;241m1\u001b[39m,\n\u001b[1;32m     17\u001b[0m       stride\u001b[38;5;241m=\u001b[39m\u001b[38;5;241m1\u001b[39m,\n\u001b[1;32m     18\u001b[0m       padding\u001b[38;5;241m=\u001b[39m\u001b[38;5;241m0\u001b[39m,\n\u001b[1;32m     19\u001b[0m       shuffle_pattern\u001b[38;5;241m=\u001b[39m\u001b[38;5;124m\"\u001b[39m\u001b[38;5;124mBA\u001b[39m\u001b[38;5;124m\"\u001b[39m, \n\u001b[1;32m     20\u001b[0m       shuffle_scale\u001b[38;5;241m=\u001b[39m\u001b[38;5;241m2\u001b[39m, \n\u001b[1;32m     21\u001b[0m       samples\u001b[38;5;241m=\u001b[39m\u001b[38;5;241m50\u001b[39m, \n\u001b[1;32m     22\u001b[0m    ),\n\u001b[1;32m     23\u001b[0m    Conv2d_NN(\n\u001b[1;32m     24\u001b[0m       in_channels\u001b[38;5;241m=\u001b[39m\u001b[38;5;241m10\u001b[39m,\n\u001b[1;32m     25\u001b[0m       out_channels\u001b[38;5;241m=\u001b[39m\u001b[38;5;241m20\u001b[39m,\n\u001b[1;32m     26\u001b[0m       K\u001b[38;5;241m=\u001b[39m\u001b[38;5;241m1\u001b[39m,\n\u001b[1;32m     27\u001b[0m       stride\u001b[38;5;241m=\u001b[39m\u001b[38;5;241m1\u001b[39m,\n\u001b[1;32m     28\u001b[0m       padding\u001b[38;5;241m=\u001b[39m\u001b[38;5;241m0\u001b[39m,\n\u001b[1;32m     29\u001b[0m       shuffle_pattern\u001b[38;5;241m=\u001b[39m\u001b[38;5;124m\"\u001b[39m\u001b[38;5;124mBA\u001b[39m\u001b[38;5;124m\"\u001b[39m, \n\u001b[1;32m     30\u001b[0m       shuffle_scale\u001b[38;5;241m=\u001b[39m\u001b[38;5;241m2\u001b[39m, \n\u001b[1;32m     31\u001b[0m       samples\u001b[38;5;241m=\u001b[39m\u001b[38;5;241m50\u001b[39m, \n\u001b[1;32m     32\u001b[0m    ),\n\u001b[1;32m     33\u001b[0m    nn\u001b[38;5;241m.\u001b[39mFlatten(), \n\u001b[1;32m     34\u001b[0m    nn\u001b[38;5;241m.\u001b[39mLinear(\u001b[38;5;241m20480\u001b[39m, \u001b[38;5;241m10\u001b[39m)\n\u001b[1;32m     35\u001b[0m    \n\u001b[1;32m     36\u001b[0m )\u001b[38;5;241m.\u001b[39mto(\u001b[38;5;124m'\u001b[39m\u001b[38;5;124mcpu\u001b[39m\u001b[38;5;124m'\u001b[39m)\n\u001b[1;32m     39\u001b[0m \u001b[38;5;28;01mfrom\u001b[39;00m \u001b[38;5;21;01mtorchsummary\u001b[39;00m \u001b[38;5;28;01mimport\u001b[39;00m summary\n\u001b[1;32m     40\u001b[0m summary(conv2d_nn_1_50, (\u001b[38;5;241m3\u001b[39m, \u001b[38;5;241m32\u001b[39m, \u001b[38;5;241m32\u001b[39m))\n",
      "\u001b[0;31mNameError\u001b[0m: name 'nn' is not defined"
     ]
    }
   ],
   "source": [
    "# K = 1, N = 50\n",
    "conv2d_nn_1_50 = nn.Sequential(\n",
    "   Conv2d_NN(\n",
    "      in_channels=3,\n",
    "      out_channels=5,\n",
    "      K=1,\n",
    "      stride=1,\n",
    "      padding=0,\n",
    "      shuffle_pattern=\"BA\", \n",
    "      shuffle_scale=2, \n",
    "      samples=50, \n",
    "   ), \n",
    "   Conv2d_NN(\n",
    "      in_channels=5,\n",
    "      out_channels=10,\n",
    "      K=1,\n",
    "      stride=1,\n",
    "      padding=0,\n",
    "      shuffle_pattern=\"BA\", \n",
    "      shuffle_scale=2, \n",
    "      samples=50, \n",
    "   ),\n",
    "   Conv2d_NN(\n",
    "      in_channels=10,\n",
    "      out_channels=20,\n",
    "      K=1,\n",
    "      stride=1,\n",
    "      padding=0,\n",
    "      shuffle_pattern=\"BA\", \n",
    "      shuffle_scale=2, \n",
    "      samples=50, \n",
    "   ),\n",
    "   nn.Flatten(), \n",
    "   nn.Linear(20480, 10)\n",
    "   \n",
    ").to('cpu')\n",
    "   \n",
    "\n",
    "from torchsummary import summary\n",
    "summary(conv2d_nn_1_50, (3, 32, 32))"
   ]
  },
  {
   "cell_type": "code",
   "execution_count": 40,
   "metadata": {},
   "outputs": [
    {
     "name": "stdout",
     "output_type": "stream",
     "text": [
      "----------------------------------------------------------------\n",
      "        Layer (type)               Output Shape         Param #\n",
      "================================================================\n",
      "           Flatten-1              [-1, 12, 256]               0\n",
      "            Conv1d-2              [-1, 20, 256]             740\n",
      "         Conv1d_NN-3              [-1, 20, 256]               0\n",
      "         Conv2d_NN-4            [-1, 5, 32, 32]               0\n",
      "           Flatten-5              [-1, 20, 256]               0\n",
      "            Conv1d-6              [-1, 40, 256]           2,440\n",
      "         Conv1d_NN-7              [-1, 40, 256]               0\n",
      "         Conv2d_NN-8           [-1, 10, 32, 32]               0\n",
      "           Flatten-9              [-1, 40, 256]               0\n",
      "           Conv1d-10              [-1, 80, 256]           9,680\n",
      "        Conv1d_NN-11              [-1, 80, 256]               0\n",
      "        Conv2d_NN-12           [-1, 20, 32, 32]               0\n",
      "          Flatten-13                [-1, 20480]               0\n",
      "           Linear-14                   [-1, 10]         204,810\n",
      "================================================================\n",
      "Total params: 217,670\n",
      "Trainable params: 217,670\n",
      "Non-trainable params: 0\n",
      "----------------------------------------------------------------\n",
      "Input size (MB): 0.01\n",
      "Forward/backward pass size (MB): 1.12\n",
      "Params size (MB): 0.83\n",
      "Estimated Total Size (MB): 1.96\n",
      "----------------------------------------------------------------\n"
     ]
    }
   ],
   "source": [
    "# K = 3, N = 50\n",
    "conv2d_nn_3_50 = nn.Sequential(\n",
    "   Conv2d_NN(\n",
    "      in_channels=3,\n",
    "      out_channels=5,\n",
    "      K=3,\n",
    "      stride=3,\n",
    "      padding=0,\n",
    "      shuffle_pattern=\"BA\", \n",
    "      shuffle_scale=2, \n",
    "      samples=50, \n",
    "   ), \n",
    "   Conv2d_NN(\n",
    "      in_channels=5,\n",
    "      out_channels=10,\n",
    "      K=3,\n",
    "      stride=3,\n",
    "      padding=0,\n",
    "      shuffle_pattern=\"BA\", \n",
    "      shuffle_scale=2, \n",
    "      samples=50, \n",
    "   ),\n",
    "   Conv2d_NN(\n",
    "      in_channels=10,\n",
    "      out_channels=20,\n",
    "      K=3,\n",
    "      stride=3,\n",
    "      padding=0,\n",
    "      shuffle_pattern=\"BA\", \n",
    "      shuffle_scale=2, \n",
    "      samples=50, \n",
    "   ),\n",
    "   nn.Flatten(), \n",
    "   nn.Linear(20480, 10)\n",
    "   \n",
    ").to('cpu')\n",
    "   \n",
    "\n",
    "from torchsummary import summary\n",
    "summary(conv2d_nn_3_50, (3, 32, 32))"
   ]
  },
  {
   "cell_type": "code",
   "execution_count": 41,
   "metadata": {},
   "outputs": [
    {
     "name": "stdout",
     "output_type": "stream",
     "text": [
      "----------------------------------------------------------------\n",
      "        Layer (type)               Output Shape         Param #\n",
      "================================================================\n",
      "           Flatten-1              [-1, 12, 256]               0\n",
      "            Conv1d-2              [-1, 20, 256]           1,220\n",
      "         Conv1d_NN-3              [-1, 20, 256]               0\n",
      "         Conv2d_NN-4            [-1, 5, 32, 32]               0\n",
      "           Flatten-5              [-1, 20, 256]               0\n",
      "            Conv1d-6              [-1, 40, 256]           4,040\n",
      "         Conv1d_NN-7              [-1, 40, 256]               0\n",
      "         Conv2d_NN-8           [-1, 10, 32, 32]               0\n",
      "           Flatten-9              [-1, 40, 256]               0\n",
      "           Conv1d-10              [-1, 80, 256]          16,080\n",
      "        Conv1d_NN-11              [-1, 80, 256]               0\n",
      "        Conv2d_NN-12           [-1, 20, 32, 32]               0\n",
      "          Flatten-13                [-1, 20480]               0\n",
      "           Linear-14                   [-1, 10]         204,810\n",
      "================================================================\n",
      "Total params: 226,150\n",
      "Trainable params: 226,150\n",
      "Non-trainable params: 0\n",
      "----------------------------------------------------------------\n",
      "Input size (MB): 0.01\n",
      "Forward/backward pass size (MB): 1.12\n",
      "Params size (MB): 0.86\n",
      "Estimated Total Size (MB): 1.99\n",
      "----------------------------------------------------------------\n"
     ]
    }
   ],
   "source": [
    "# K = 5, N = 50\n",
    "conv2d_nn_5_50 = nn.Sequential(\n",
    "   Conv2d_NN(\n",
    "      in_channels=3,\n",
    "      out_channels=5,\n",
    "      K=5,\n",
    "      stride=5,\n",
    "      padding=0,\n",
    "      shuffle_pattern=\"BA\", \n",
    "      shuffle_scale=2, \n",
    "      samples=50, \n",
    "   ), \n",
    "   Conv2d_NN(\n",
    "      in_channels=5,\n",
    "      out_channels=10,\n",
    "      K=5,\n",
    "      stride=5,\n",
    "      padding=0,\n",
    "      shuffle_pattern=\"BA\", \n",
    "      shuffle_scale=2, \n",
    "      samples=50, \n",
    "   ),\n",
    "   Conv2d_NN(\n",
    "      in_channels=10,\n",
    "      out_channels=20,\n",
    "      K=5,\n",
    "      stride=5,\n",
    "      padding=0,\n",
    "      shuffle_pattern=\"BA\", \n",
    "      shuffle_scale=2, \n",
    "      samples=50, \n",
    "   ),\n",
    "   nn.Flatten(), \n",
    "   nn.Linear(20480, 10)\n",
    "   \n",
    ").to('cpu')\n",
    "   \n",
    "\n",
    "from torchsummary import summary\n",
    "summary(conv2d_nn_5_50, (3, 32, 32))"
   ]
  },
  {
   "cell_type": "code",
   "execution_count": 42,
   "metadata": {},
   "outputs": [
    {
     "name": "stdout",
     "output_type": "stream",
     "text": [
      "----------------------------------------------------------------\n",
      "        Layer (type)               Output Shape         Param #\n",
      "================================================================\n",
      "           Flatten-1              [-1, 12, 256]               0\n",
      "            Conv1d-2              [-1, 20, 256]           2,420\n",
      "         Conv1d_NN-3              [-1, 20, 256]               0\n",
      "         Conv2d_NN-4            [-1, 5, 32, 32]               0\n",
      "           Flatten-5              [-1, 20, 256]               0\n",
      "            Conv1d-6              [-1, 40, 256]           8,040\n",
      "         Conv1d_NN-7              [-1, 40, 256]               0\n",
      "         Conv2d_NN-8           [-1, 10, 32, 32]               0\n",
      "           Flatten-9              [-1, 40, 256]               0\n",
      "           Conv1d-10              [-1, 80, 256]          32,080\n",
      "        Conv1d_NN-11              [-1, 80, 256]               0\n",
      "        Conv2d_NN-12           [-1, 20, 32, 32]               0\n",
      "          Flatten-13                [-1, 20480]               0\n",
      "           Linear-14                   [-1, 10]         204,810\n",
      "================================================================\n",
      "Total params: 247,350\n",
      "Trainable params: 247,350\n",
      "Non-trainable params: 0\n",
      "----------------------------------------------------------------\n",
      "Input size (MB): 0.01\n",
      "Forward/backward pass size (MB): 1.12\n",
      "Params size (MB): 0.94\n",
      "Estimated Total Size (MB): 2.07\n",
      "----------------------------------------------------------------\n"
     ]
    }
   ],
   "source": [
    "# K = 10, N = 50\n",
    "conv2d_nn_10_50 = nn.Sequential(\n",
    "   Conv2d_NN(\n",
    "      in_channels=3,\n",
    "      out_channels=5,\n",
    "      K=10,\n",
    "      stride=10,\n",
    "      padding=0,\n",
    "      shuffle_pattern=\"BA\", \n",
    "      shuffle_scale=2, \n",
    "      samples=50, \n",
    "   ), \n",
    "   Conv2d_NN(\n",
    "      in_channels=5,\n",
    "      out_channels=10,\n",
    "      K=10,\n",
    "      stride=10,\n",
    "      padding=0,\n",
    "      shuffle_pattern=\"BA\", \n",
    "      shuffle_scale=2, \n",
    "      samples=50, \n",
    "   ),\n",
    "   Conv2d_NN(\n",
    "      in_channels=10,\n",
    "      out_channels=20,\n",
    "      K=10,\n",
    "      stride=10,\n",
    "      padding=0,\n",
    "      shuffle_pattern=\"BA\", \n",
    "      shuffle_scale=2, \n",
    "      samples=50, \n",
    "   ),\n",
    "   nn.Flatten(), \n",
    "   nn.Linear(20480, 10)\n",
    "   \n",
    ").to('cpu')\n",
    "   \n",
    "\n",
    "from torchsummary import summary\n",
    "summary(conv2d_nn_10_50, (3, 32, 32))"
   ]
  },
  {
   "cell_type": "code",
   "execution_count": 43,
   "metadata": {},
   "outputs": [
    {
     "name": "stdout",
     "output_type": "stream",
     "text": [
      "----------------------------------------------------------------\n",
      "        Layer (type)               Output Shape         Param #\n",
      "================================================================\n",
      "           Flatten-1              [-1, 12, 256]               0\n",
      "            Conv1d-2              [-1, 20, 256]           4,820\n",
      "         Conv1d_NN-3              [-1, 20, 256]               0\n",
      "         Conv2d_NN-4            [-1, 5, 32, 32]               0\n",
      "           Flatten-5              [-1, 20, 256]               0\n",
      "            Conv1d-6              [-1, 40, 256]          16,040\n",
      "         Conv1d_NN-7              [-1, 40, 256]               0\n",
      "         Conv2d_NN-8           [-1, 10, 32, 32]               0\n",
      "           Flatten-9              [-1, 40, 256]               0\n",
      "           Conv1d-10              [-1, 80, 256]          64,080\n",
      "        Conv1d_NN-11              [-1, 80, 256]               0\n",
      "        Conv2d_NN-12           [-1, 20, 32, 32]               0\n",
      "          Flatten-13                [-1, 20480]               0\n",
      "           Linear-14                   [-1, 10]         204,810\n",
      "================================================================\n",
      "Total params: 289,750\n",
      "Trainable params: 289,750\n",
      "Non-trainable params: 0\n",
      "----------------------------------------------------------------\n",
      "Input size (MB): 0.01\n",
      "Forward/backward pass size (MB): 1.12\n",
      "Params size (MB): 1.11\n",
      "Estimated Total Size (MB): 2.23\n",
      "----------------------------------------------------------------\n"
     ]
    }
   ],
   "source": [
    "# K = 10, N = 50\n",
    "conv2d_nn_20_50 = nn.Sequential(\n",
    "   Conv2d_NN(\n",
    "      in_channels=3,\n",
    "      out_channels=5,\n",
    "      K=20,\n",
    "      stride=20,\n",
    "      padding=0,\n",
    "      shuffle_pattern=\"BA\", \n",
    "      shuffle_scale=2, \n",
    "      samples=50, \n",
    "   ), \n",
    "   Conv2d_NN(\n",
    "      in_channels=5,\n",
    "      out_channels=10,\n",
    "      K=20,\n",
    "      stride=20,\n",
    "      padding=0,\n",
    "      shuffle_pattern=\"BA\", \n",
    "      shuffle_scale=2, \n",
    "      samples=50, \n",
    "   ),\n",
    "   Conv2d_NN(\n",
    "      in_channels=10,\n",
    "      out_channels=20,\n",
    "      K=20,\n",
    "      stride=20,\n",
    "      padding=0,\n",
    "      shuffle_pattern=\"BA\", \n",
    "      shuffle_scale=2, \n",
    "      samples=50, \n",
    "   ),\n",
    "   nn.Flatten(), \n",
    "   nn.Linear(20480, 10)\n",
    "   \n",
    ").to('cpu')\n",
    "   \n",
    "\n",
    "from torchsummary import summary\n",
    "summary(conv2d_nn_20_50, (3, 32, 32))"
   ]
  },
  {
   "cell_type": "markdown",
   "metadata": {},
   "source": [
    "## II. K = 1 -> 20 with N = 50 Evaluation"
   ]
  },
  {
   "cell_type": "code",
   "execution_count": 44,
   "metadata": {},
   "outputs": [
    {
     "name": "stdout",
     "output_type": "stream",
     "text": [
      "Files already downloaded and verified\n",
      "Files already downloaded and verified\n"
     ]
    }
   ],
   "source": [
    "# MNIST \n",
    "cifar10 = CIFAR10()"
   ]
  },
  {
   "cell_type": "code",
   "execution_count": 45,
   "metadata": {},
   "outputs": [
    {
     "name": "stdout",
     "output_type": "stream",
     "text": [
      "Epoch 1, Time: 14.954171895980835, Loss: 1.7914306675381673\n",
      "Epoch 2, Time: 13.367977380752563, Loss: 1.7117404930122064\n",
      "Epoch 3, Time: 14.884213924407959, Loss: 1.6892277695943632\n",
      "Epoch 4, Time: 14.834989070892334, Loss: 1.6735557630238935\n",
      "Epoch 5, Time: 14.537745952606201, Loss: 1.6630258270541725\n",
      "Epoch 6, Time: 14.660315036773682, Loss: 1.651475069010654\n",
      "Epoch 7, Time: 14.526808023452759, Loss: 1.6446187430635437\n",
      "Epoch 8, Time: 13.531636953353882, Loss: 1.6365412540752868\n",
      "Epoch 9, Time: 13.968559741973877, Loss: 1.6300876832679105\n",
      "Epoch 10, Time: 12.967380285263062, Loss: 1.6224085859325537\n",
      "\n",
      " Average epoch time: 14.223379826545715\n",
      "Accuracy on test set: 39.43%\n"
     ]
    },
    {
     "data": {
      "text/plain": [
       "39.43"
      ]
     },
     "execution_count": 45,
     "metadata": {},
     "output_type": "execute_result"
    }
   ],
   "source": [
    "# K = 1, N = 50\n",
    "conv2d_nn_1_50.to('mps')\n",
    "\n",
    "criterion = nn.CrossEntropyLoss()\n",
    "optimizer = optim.Adam(conv2d_nn_1_50.parameters(), lr=0.001)\n",
    "num_epochs = 10 \n",
    "train_model(conv2d_nn_1_50, cifar10.train_loader, criterion, optimizer, num_epochs)\n",
    "evaluate_accuracy(conv2d_nn_1_50, cifar10.test_loader)"
   ]
  },
  {
   "cell_type": "code",
   "execution_count": 46,
   "metadata": {},
   "outputs": [
    {
     "name": "stdout",
     "output_type": "stream",
     "text": [
      "Epoch 1, Time: 37.87204599380493, Loss: 1.7918435260462944\n",
      "Epoch 2, Time: 34.93988513946533, Loss: 1.6777762505404479\n",
      "Epoch 3, Time: 34.93132305145264, Loss: 1.6397596094614404\n",
      "Epoch 4, Time: 34.94199085235596, Loss: 1.6165675633703656\n",
      "Epoch 5, Time: 35.7355260848999, Loss: 1.5952177540115688\n",
      "Epoch 6, Time: 35.17784595489502, Loss: 1.5875248826678148\n",
      "Epoch 7, Time: 35.32354211807251, Loss: 1.573086488277406\n",
      "Epoch 8, Time: 34.781057834625244, Loss: 1.563602036070031\n",
      "Epoch 9, Time: 34.95672392845154, Loss: 1.5554936029722013\n",
      "Epoch 10, Time: 34.878146171569824, Loss: 1.547336199551897\n",
      "\n",
      " Average epoch time: 35.35380871295929\n",
      "Accuracy on test set: 42.13%\n"
     ]
    },
    {
     "data": {
      "text/plain": [
       "42.13"
      ]
     },
     "execution_count": 46,
     "metadata": {},
     "output_type": "execute_result"
    }
   ],
   "source": [
    "# K = 3, N = 50\n",
    "conv2d_nn_3_50.to('mps')\n",
    "\n",
    "criterion = nn.CrossEntropyLoss()\n",
    "optimizer = optim.Adam(conv2d_nn_3_50.parameters(), lr=0.001)\n",
    "num_epochs = 10 \n",
    "train_model(conv2d_nn_3_50, cifar10.train_loader, criterion, optimizer, num_epochs)\n",
    "evaluate_accuracy(conv2d_nn_3_50, cifar10.test_loader)"
   ]
  },
  {
   "cell_type": "code",
   "execution_count": 47,
   "metadata": {},
   "outputs": [
    {
     "name": "stdout",
     "output_type": "stream",
     "text": [
      "Epoch 1, Time: 38.843716859817505, Loss: 1.8115628742805832\n",
      "Epoch 2, Time: 38.34437799453735, Loss: 1.7009952589678947\n",
      "Epoch 3, Time: 38.06363010406494, Loss: 1.6619061916075704\n",
      "Epoch 4, Time: 38.11265587806702, Loss: 1.6389404660295648\n",
      "Epoch 5, Time: 38.16697669029236, Loss: 1.6187579326922326\n",
      "Epoch 6, Time: 42.200817823410034, Loss: 1.6094002394420106\n",
      "Epoch 7, Time: 38.232362031936646, Loss: 1.5935773398260327\n",
      "Epoch 8, Time: 38.18846821784973, Loss: 1.5815386631909538\n",
      "Epoch 9, Time: 38.26397895812988, Loss: 1.5713783787644429\n",
      "Epoch 10, Time: 38.39438199996948, Loss: 1.5664869603293632\n",
      "\n",
      " Average epoch time: 38.68113665580749\n",
      "Accuracy on test set: 41.46%\n"
     ]
    },
    {
     "data": {
      "text/plain": [
       "41.46"
      ]
     },
     "execution_count": 47,
     "metadata": {},
     "output_type": "execute_result"
    }
   ],
   "source": [
    "# K = 5, N = 50\n",
    "conv2d_nn_5_50.to('mps')\n",
    "\n",
    "criterion = nn.CrossEntropyLoss()\n",
    "optimizer = optim.Adam(conv2d_nn_5_50.parameters(), lr=0.001)\n",
    "num_epochs = 10 \n",
    "train_model(conv2d_nn_5_50, cifar10.train_loader, criterion, optimizer, num_epochs)\n",
    "evaluate_accuracy(conv2d_nn_5_50, cifar10.test_loader)"
   ]
  },
  {
   "cell_type": "code",
   "execution_count": 48,
   "metadata": {},
   "outputs": [
    {
     "name": "stdout",
     "output_type": "stream",
     "text": [
      "Epoch 1, Time: 52.33408713340759, Loss: 1.86705991740117\n",
      "Epoch 2, Time: 52.0457022190094, Loss: 1.7641729399981096\n",
      "Epoch 3, Time: 52.3245050907135, Loss: 1.7153939805982057\n",
      "Epoch 4, Time: 51.83468580245972, Loss: 1.6873734285459494\n",
      "Epoch 5, Time: 51.74738001823425, Loss: 1.674198089658147\n",
      "Epoch 6, Time: 51.82497811317444, Loss: 1.6559836577881328\n",
      "Epoch 7, Time: 51.8134331703186, Loss: 1.651445581632502\n",
      "Epoch 8, Time: 51.82424807548523, Loss: 1.633550172266753\n",
      "Epoch 9, Time: 51.645405769348145, Loss: 1.6265122741079696\n",
      "Epoch 10, Time: 51.57784914970398, Loss: 1.6178973782093018\n",
      "\n",
      " Average epoch time: 51.89722745418548\n",
      "Accuracy on test set: 41.59%\n"
     ]
    },
    {
     "data": {
      "text/plain": [
       "41.59"
      ]
     },
     "execution_count": 48,
     "metadata": {},
     "output_type": "execute_result"
    }
   ],
   "source": [
    "# K = 10, N = 50\n",
    "conv2d_nn_10_50.to('mps')\n",
    "\n",
    "criterion = nn.CrossEntropyLoss()\n",
    "optimizer = optim.Adam(conv2d_nn_10_50.parameters(), lr=0.001)\n",
    "num_epochs = 10 \n",
    "train_model(conv2d_nn_10_50, cifar10.train_loader, criterion, optimizer, num_epochs)\n",
    "evaluate_accuracy(conv2d_nn_10_50, cifar10.test_loader)"
   ]
  },
  {
   "cell_type": "code",
   "execution_count": 49,
   "metadata": {},
   "outputs": [
    {
     "name": "stdout",
     "output_type": "stream",
     "text": [
      "Epoch 1, Time: 94.58912897109985, Loss: 1.9408463520162247\n",
      "Epoch 2, Time: 94.72218012809753, Loss: 1.8503453098904445\n",
      "Epoch 3, Time: 93.79816699028015, Loss: 1.8012612707474653\n",
      "Epoch 4, Time: 93.6645393371582, Loss: 1.7696147309544752\n",
      "Epoch 5, Time: 93.64666700363159, Loss: 1.7562050700492566\n",
      "Epoch 6, Time: 93.57859492301941, Loss: 1.739044597081821\n",
      "Epoch 7, Time: 94.72053408622742, Loss: 1.7304311705672222\n",
      "Epoch 8, Time: 93.6164071559906, Loss: 1.7135971171776656\n",
      "Epoch 9, Time: 93.11389398574829, Loss: 1.7187037548750563\n",
      "Epoch 10, Time: 92.62971591949463, Loss: 1.7052022519014072\n",
      "\n",
      " Average epoch time: 93.80798285007477\n",
      "Accuracy on test set: 38.48%\n"
     ]
    },
    {
     "data": {
      "text/plain": [
       "38.48"
      ]
     },
     "execution_count": 49,
     "metadata": {},
     "output_type": "execute_result"
    }
   ],
   "source": [
    "# K = 20, N = 50\n",
    "conv2d_nn_20_50.to('mps')\n",
    "\n",
    "criterion = nn.CrossEntropyLoss()\n",
    "optimizer = optim.Adam(conv2d_nn_20_50.parameters(), lr=0.001)\n",
    "num_epochs = 10 \n",
    "train_model(conv2d_nn_20_50, cifar10.train_loader, criterion, optimizer, num_epochs)\n",
    "evaluate_accuracy(conv2d_nn_20_50, cifar10.test_loader)"
   ]
  },
  {
   "cell_type": "markdown",
   "metadata": {},
   "source": [
    "# 3. K = 3, Vary N - number of random samples"
   ]
  },
  {
   "cell_type": "markdown",
   "metadata": {},
   "source": [
    "## III. K = 3 with N = 3 -> 250 Models"
   ]
  },
  {
   "cell_type": "code",
   "execution_count": 50,
   "metadata": {},
   "outputs": [
    {
     "name": "stdout",
     "output_type": "stream",
     "text": [
      "----------------------------------------------------------------\n",
      "        Layer (type)               Output Shape         Param #\n",
      "================================================================\n",
      "           Flatten-1              [-1, 12, 256]               0\n",
      "            Conv1d-2              [-1, 20, 256]             740\n",
      "         Conv1d_NN-3              [-1, 20, 256]               0\n",
      "         Conv2d_NN-4            [-1, 5, 32, 32]               0\n",
      "           Flatten-5              [-1, 20, 256]               0\n",
      "            Conv1d-6              [-1, 40, 256]           2,440\n",
      "         Conv1d_NN-7              [-1, 40, 256]               0\n",
      "         Conv2d_NN-8           [-1, 10, 32, 32]               0\n",
      "           Flatten-9              [-1, 40, 256]               0\n",
      "           Conv1d-10              [-1, 80, 256]           9,680\n",
      "        Conv1d_NN-11              [-1, 80, 256]               0\n",
      "        Conv2d_NN-12           [-1, 20, 32, 32]               0\n",
      "          Flatten-13                [-1, 20480]               0\n",
      "           Linear-14                   [-1, 10]         204,810\n",
      "================================================================\n",
      "Total params: 217,670\n",
      "Trainable params: 217,670\n",
      "Non-trainable params: 0\n",
      "----------------------------------------------------------------\n",
      "Input size (MB): 0.01\n",
      "Forward/backward pass size (MB): 1.12\n",
      "Params size (MB): 0.83\n",
      "Estimated Total Size (MB): 1.96\n",
      "----------------------------------------------------------------\n"
     ]
    }
   ],
   "source": [
    "# K = 3, N = 3\n",
    "conv2d_nn_3_3 = nn.Sequential(\n",
    "   Conv2d_NN(\n",
    "      in_channels=3,\n",
    "      out_channels=5,\n",
    "      K=3,\n",
    "      stride=3,\n",
    "      padding=0,\n",
    "      shuffle_pattern=\"BA\", \n",
    "      shuffle_scale=2, \n",
    "      samples=3, \n",
    "   ), \n",
    "   Conv2d_NN(\n",
    "      in_channels=5,\n",
    "      out_channels=10,\n",
    "      K=3,\n",
    "      stride=3,\n",
    "      padding=0,\n",
    "      shuffle_pattern=\"BA\", \n",
    "      shuffle_scale=2, \n",
    "      samples=3, \n",
    "   ),\n",
    "   Conv2d_NN(\n",
    "      in_channels=10,\n",
    "      out_channels=20,\n",
    "      K=3,\n",
    "      stride=3,\n",
    "      padding=0,\n",
    "      shuffle_pattern=\"BA\", \n",
    "      shuffle_scale=2, \n",
    "      samples=3, \n",
    "   ),\n",
    "   nn.Flatten(), \n",
    "   nn.Linear(20480, 10)\n",
    "   \n",
    ").to('cpu')\n",
    "   \n",
    "\n",
    "from torchsummary import summary\n",
    "summary(conv2d_nn_3_3, (3, 32, 32))"
   ]
  },
  {
   "cell_type": "code",
   "execution_count": 51,
   "metadata": {},
   "outputs": [
    {
     "name": "stdout",
     "output_type": "stream",
     "text": [
      "----------------------------------------------------------------\n",
      "        Layer (type)               Output Shape         Param #\n",
      "================================================================\n",
      "           Flatten-1              [-1, 12, 256]               0\n",
      "            Conv1d-2              [-1, 20, 256]             740\n",
      "         Conv1d_NN-3              [-1, 20, 256]               0\n",
      "         Conv2d_NN-4            [-1, 5, 32, 32]               0\n",
      "           Flatten-5              [-1, 20, 256]               0\n",
      "            Conv1d-6              [-1, 40, 256]           2,440\n",
      "         Conv1d_NN-7              [-1, 40, 256]               0\n",
      "         Conv2d_NN-8           [-1, 10, 32, 32]               0\n",
      "           Flatten-9              [-1, 40, 256]               0\n",
      "           Conv1d-10              [-1, 80, 256]           9,680\n",
      "        Conv1d_NN-11              [-1, 80, 256]               0\n",
      "        Conv2d_NN-12           [-1, 20, 32, 32]               0\n",
      "          Flatten-13                [-1, 20480]               0\n",
      "           Linear-14                   [-1, 10]         204,810\n",
      "================================================================\n",
      "Total params: 217,670\n",
      "Trainable params: 217,670\n",
      "Non-trainable params: 0\n",
      "----------------------------------------------------------------\n",
      "Input size (MB): 0.01\n",
      "Forward/backward pass size (MB): 1.12\n",
      "Params size (MB): 0.83\n",
      "Estimated Total Size (MB): 1.96\n",
      "----------------------------------------------------------------\n"
     ]
    }
   ],
   "source": [
    "# K = 3, N = 10\n",
    "conv2d_nn_3_10 = nn.Sequential(\n",
    "   Conv2d_NN(\n",
    "      in_channels=3,\n",
    "      out_channels=5,\n",
    "      K=3,\n",
    "      stride=3,\n",
    "      padding=0,\n",
    "      shuffle_pattern=\"BA\", \n",
    "      shuffle_scale=2, \n",
    "      samples=10, \n",
    "   ), \n",
    "   Conv2d_NN(\n",
    "      in_channels=5,\n",
    "      out_channels=10,\n",
    "      K=3,\n",
    "      stride=3,\n",
    "      padding=0,\n",
    "      shuffle_pattern=\"BA\", \n",
    "      shuffle_scale=2, \n",
    "      samples=10, \n",
    "   ),\n",
    "   Conv2d_NN(\n",
    "      in_channels=10,\n",
    "      out_channels=20,\n",
    "      K=3,\n",
    "      stride=3,\n",
    "      padding=0,\n",
    "      shuffle_pattern=\"BA\", \n",
    "      shuffle_scale=2, \n",
    "      samples=10, \n",
    "   ),\n",
    "   nn.Flatten(), \n",
    "   nn.Linear(20480, 10)\n",
    "   \n",
    ").to('cpu')\n",
    "   \n",
    "\n",
    "from torchsummary import summary\n",
    "summary(conv2d_nn_3_10, (3, 32, 32))"
   ]
  },
  {
   "cell_type": "code",
   "execution_count": null,
   "metadata": {},
   "outputs": [],
   "source": [
    "# K = 3, N = 50\n",
    "conv2d_nn_3_50 = nn.Sequential(\n",
    "   Conv2d_NN(\n",
    "      in_channels=3,\n",
    "      out_channels=5,\n",
    "      K=3,\n",
    "      stride=3,\n",
    "      padding=0,\n",
    "      shuffle_pattern=\"BA\", \n",
    "      shuffle_scale=2, \n",
    "      samples=50, \n",
    "   ), \n",
    "   Conv2d_NN(\n",
    "      in_channels=5,\n",
    "      out_channels=10,\n",
    "      K=3,\n",
    "      stride=3,\n",
    "      padding=0,\n",
    "      shuffle_pattern=\"BA\", \n",
    "      shuffle_scale=2, \n",
    "      samples=50, \n",
    "   ),\n",
    "   Conv2d_NN(\n",
    "      in_channels=10,\n",
    "      out_channels=20,\n",
    "      K=3,\n",
    "      stride=3,\n",
    "      padding=0,\n",
    "      shuffle_pattern=\"BA\", \n",
    "      shuffle_scale=2, \n",
    "      samples=50, \n",
    "   ),\n",
    "   nn.Flatten(), \n",
    "   nn.Linear(20480, 10)\n",
    "   \n",
    ").to('cpu')\n",
    "   \n",
    "\n",
    "from torchsummary import summary\n",
    "summary(conv2d_nn_3_50, (3, 32, 32))"
   ]
  },
  {
   "cell_type": "code",
   "execution_count": 58,
   "metadata": {},
   "outputs": [
    {
     "name": "stdout",
     "output_type": "stream",
     "text": [
      "----------------------------------------------------------------\n",
      "        Layer (type)               Output Shape         Param #\n",
      "================================================================\n",
      "           Flatten-1              [-1, 12, 256]               0\n",
      "            Conv1d-2              [-1, 20, 256]             740\n",
      "         Conv1d_NN-3              [-1, 20, 256]               0\n",
      "         Conv2d_NN-4            [-1, 5, 32, 32]               0\n",
      "           Flatten-5              [-1, 20, 256]               0\n",
      "            Conv1d-6              [-1, 40, 256]           2,440\n",
      "         Conv1d_NN-7              [-1, 40, 256]               0\n",
      "         Conv2d_NN-8           [-1, 10, 32, 32]               0\n",
      "           Flatten-9              [-1, 40, 256]               0\n",
      "           Conv1d-10              [-1, 80, 256]           9,680\n",
      "        Conv1d_NN-11              [-1, 80, 256]               0\n",
      "        Conv2d_NN-12           [-1, 20, 32, 32]               0\n",
      "          Flatten-13                [-1, 20480]               0\n",
      "           Linear-14                   [-1, 10]         204,810\n",
      "================================================================\n",
      "Total params: 217,670\n",
      "Trainable params: 217,670\n",
      "Non-trainable params: 0\n",
      "----------------------------------------------------------------\n",
      "Input size (MB): 0.01\n",
      "Forward/backward pass size (MB): 1.12\n",
      "Params size (MB): 0.83\n",
      "Estimated Total Size (MB): 1.96\n",
      "----------------------------------------------------------------\n"
     ]
    }
   ],
   "source": [
    "# K = 3, N = 100\n",
    "conv2d_nn_3_100 = nn.Sequential(\n",
    "   Conv2d_NN(\n",
    "      in_channels=3,\n",
    "      out_channels=5,\n",
    "      K=3,\n",
    "      stride=3,\n",
    "      padding=0,\n",
    "      shuffle_pattern=\"BA\", \n",
    "      shuffle_scale=2, \n",
    "      samples=100, \n",
    "   ), \n",
    "   Conv2d_NN(\n",
    "      in_channels=5,\n",
    "      out_channels=10,\n",
    "      K=3,\n",
    "      stride=3,\n",
    "      padding=0,\n",
    "      shuffle_pattern=\"BA\", \n",
    "      shuffle_scale=2, \n",
    "      samples=100, \n",
    "   ),\n",
    "   Conv2d_NN(\n",
    "      in_channels=10,\n",
    "      out_channels=20,\n",
    "      K=3,\n",
    "      stride=3,\n",
    "      padding=0,\n",
    "      shuffle_pattern=\"BA\", \n",
    "      shuffle_scale=2, \n",
    "      samples=100, \n",
    "   ),\n",
    "   nn.Flatten(), \n",
    "   nn.Linear(20480, 10)\n",
    "   \n",
    ").to('cpu')\n",
    "   \n",
    "\n",
    "from torchsummary import summary\n",
    "summary(conv2d_nn_3_100, (3, 32, 32))"
   ]
  },
  {
   "cell_type": "code",
   "execution_count": 52,
   "metadata": {},
   "outputs": [
    {
     "name": "stdout",
     "output_type": "stream",
     "text": [
      "----------------------------------------------------------------\n",
      "        Layer (type)               Output Shape         Param #\n",
      "================================================================\n",
      "           Flatten-1              [-1, 12, 256]               0\n",
      "            Conv1d-2              [-1, 20, 256]             740\n",
      "         Conv1d_NN-3              [-1, 20, 256]               0\n",
      "         Conv2d_NN-4            [-1, 5, 32, 32]               0\n",
      "           Flatten-5              [-1, 20, 256]               0\n",
      "            Conv1d-6              [-1, 40, 256]           2,440\n",
      "         Conv1d_NN-7              [-1, 40, 256]               0\n",
      "         Conv2d_NN-8           [-1, 10, 32, 32]               0\n",
      "           Flatten-9              [-1, 40, 256]               0\n",
      "           Conv1d-10              [-1, 80, 256]           9,680\n",
      "        Conv1d_NN-11              [-1, 80, 256]               0\n",
      "        Conv2d_NN-12           [-1, 20, 32, 32]               0\n",
      "          Flatten-13                [-1, 20480]               0\n",
      "           Linear-14                   [-1, 10]         204,810\n",
      "================================================================\n",
      "Total params: 217,670\n",
      "Trainable params: 217,670\n",
      "Non-trainable params: 0\n",
      "----------------------------------------------------------------\n",
      "Input size (MB): 0.01\n",
      "Forward/backward pass size (MB): 1.12\n",
      "Params size (MB): 0.83\n",
      "Estimated Total Size (MB): 1.96\n",
      "----------------------------------------------------------------\n"
     ]
    }
   ],
   "source": [
    "# K = 3, N = 250 \n",
    "conv2d_nn_3_250 = nn.Sequential(\n",
    "   Conv2d_NN(\n",
    "      in_channels=3,\n",
    "      out_channels=5,\n",
    "      K=3,\n",
    "      stride=3,\n",
    "      padding=0,\n",
    "      shuffle_pattern=\"BA\", \n",
    "      shuffle_scale=2, \n",
    "      samples=250, \n",
    "   ), \n",
    "   Conv2d_NN(\n",
    "      in_channels=5,\n",
    "      out_channels=10,\n",
    "      K=3,\n",
    "      stride=3,\n",
    "      padding=0,\n",
    "      shuffle_pattern=\"BA\", \n",
    "      shuffle_scale=2, \n",
    "      samples=250, \n",
    "   ),\n",
    "   Conv2d_NN(\n",
    "      in_channels=10,\n",
    "      out_channels=20,\n",
    "      K=3,\n",
    "      stride=3,\n",
    "      padding=0,\n",
    "      shuffle_pattern=\"BA\", \n",
    "      shuffle_scale=2, \n",
    "      samples=250, \n",
    "   ),\n",
    "   nn.Flatten(), \n",
    "   nn.Linear(20480, 10)\n",
    "   \n",
    ").to('cpu')\n",
    "   \n",
    "\n",
    "from torchsummary import summary\n",
    "summary(conv2d_nn_3_250, (3, 32, 32))"
   ]
  },
  {
   "cell_type": "code",
   "execution_count": 53,
   "metadata": {},
   "outputs": [
    {
     "name": "stdout",
     "output_type": "stream",
     "text": [
      "----------------------------------------------------------------\n",
      "        Layer (type)               Output Shape         Param #\n",
      "================================================================\n",
      "           Flatten-1              [-1, 12, 256]               0\n",
      "            Conv1d-2              [-1, 20, 256]             740\n",
      "         Conv1d_NN-3              [-1, 20, 256]               0\n",
      "         Conv2d_NN-4            [-1, 5, 32, 32]               0\n",
      "           Flatten-5              [-1, 20, 256]               0\n",
      "            Conv1d-6              [-1, 40, 256]           2,440\n",
      "         Conv1d_NN-7              [-1, 40, 256]               0\n",
      "         Conv2d_NN-8           [-1, 10, 32, 32]               0\n",
      "           Flatten-9              [-1, 40, 256]               0\n",
      "           Conv1d-10              [-1, 80, 256]           9,680\n",
      "        Conv1d_NN-11              [-1, 80, 256]               0\n",
      "        Conv2d_NN-12           [-1, 20, 32, 32]               0\n",
      "          Flatten-13                [-1, 20480]               0\n",
      "           Linear-14                   [-1, 10]         204,810\n",
      "================================================================\n",
      "Total params: 217,670\n",
      "Trainable params: 217,670\n",
      "Non-trainable params: 0\n",
      "----------------------------------------------------------------\n",
      "Input size (MB): 0.01\n",
      "Forward/backward pass size (MB): 1.12\n",
      "Params size (MB): 0.83\n",
      "Estimated Total Size (MB): 1.96\n",
      "----------------------------------------------------------------\n"
     ]
    }
   ],
   "source": [
    "# K = 3, N = All\n",
    "conv2d_nn_3_all = nn.Sequential(\n",
    "   Conv2d_NN(\n",
    "      in_channels=3,\n",
    "      out_channels=5,\n",
    "      K=3,\n",
    "      stride=3,\n",
    "      padding=0,\n",
    "      shuffle_pattern=\"BA\", \n",
    "      shuffle_scale=2, \n",
    "      samples=\"all\", \n",
    "   ), \n",
    "   Conv2d_NN(\n",
    "      in_channels=5,\n",
    "      out_channels=10,\n",
    "      K=3,\n",
    "      stride=3,\n",
    "      padding=0,\n",
    "      shuffle_pattern=\"BA\", \n",
    "      shuffle_scale=2, \n",
    "      samples=\"all\", \n",
    "   ),\n",
    "   Conv2d_NN(\n",
    "      in_channels=10,\n",
    "      out_channels=20,\n",
    "      K=3,\n",
    "      stride=3,\n",
    "      padding=0,\n",
    "      shuffle_pattern=\"BA\", \n",
    "      shuffle_scale=2, \n",
    "      samples=\"all\", \n",
    "   ),\n",
    "   nn.Flatten(), \n",
    "   nn.Linear(20480, 10)\n",
    "   \n",
    ").to('cpu')\n",
    "   \n",
    "\n",
    "from torchsummary import summary\n",
    "summary(conv2d_nn_3_all, (3, 32, 32))"
   ]
  },
  {
   "cell_type": "markdown",
   "metadata": {},
   "source": [
    "## III. K = 3 with N = 3 -> 250 Evaluation"
   ]
  },
  {
   "cell_type": "code",
   "execution_count": 54,
   "metadata": {},
   "outputs": [
    {
     "name": "stdout",
     "output_type": "stream",
     "text": [
      "Epoch 1, Time: 39.908520221710205, Loss: 1.8483122283845301\n",
      "Epoch 2, Time: 39.45998692512512, Loss: 1.7366463560277543\n",
      "Epoch 3, Time: 39.13496279716492, Loss: 1.7119946725228254\n",
      "Epoch 4, Time: 39.00889205932617, Loss: 1.6966342511384382\n",
      "Epoch 5, Time: 38.424213886260986, Loss: 1.686970850543293\n",
      "Epoch 6, Time: 38.21697402000427, Loss: 1.6756651567681062\n",
      "Epoch 7, Time: 40.15840792655945, Loss: 1.6677063781282175\n",
      "Epoch 8, Time: 38.56408977508545, Loss: 1.6604980744059434\n",
      "Epoch 9, Time: 38.22628879547119, Loss: 1.656496643867639\n",
      "Epoch 10, Time: 38.22476506233215, Loss: 1.6531686900216904\n",
      "\n",
      " Average epoch time: 38.93271014690399\n",
      "Accuracy on test set: 40.58%\n"
     ]
    },
    {
     "data": {
      "text/plain": [
       "40.58"
      ]
     },
     "execution_count": 54,
     "metadata": {},
     "output_type": "execute_result"
    }
   ],
   "source": [
    "# K = 3, N = 3\n",
    "conv2d_nn_3_3.to('mps')\n",
    "\n",
    "criterion = nn.CrossEntropyLoss()\n",
    "optimizer = optim.Adam(conv2d_nn_3_3.parameters(), lr=0.001)\n",
    "num_epochs = 10 \n",
    "train_model(conv2d_nn_3_3, cifar10.train_loader, criterion, optimizer, num_epochs)\n",
    "evaluate_accuracy(conv2d_nn_3_3, cifar10.test_loader)"
   ]
  },
  {
   "cell_type": "code",
   "execution_count": 55,
   "metadata": {},
   "outputs": [
    {
     "name": "stdout",
     "output_type": "stream",
     "text": [
      "Epoch 1, Time: 34.861698150634766, Loss: 1.8068248484750538\n",
      "Epoch 2, Time: 34.85862493515015, Loss: 1.705989231996219\n",
      "Epoch 3, Time: 34.894843101501465, Loss: 1.6796464334668406\n",
      "Epoch 4, Time: 34.88782787322998, Loss: 1.6625609219531574\n",
      "Epoch 5, Time: 34.890196084976196, Loss: 1.6487240128200074\n",
      "Epoch 6, Time: 34.76778292655945, Loss: 1.6412873478496777\n",
      "Epoch 7, Time: 35.266019105911255, Loss: 1.6286752839832355\n",
      "Epoch 8, Time: 37.38065004348755, Loss: 1.6213216687102452\n",
      "Epoch 9, Time: 36.27692198753357, Loss: 1.612118811406138\n",
      "Epoch 10, Time: 35.91703176498413, Loss: 1.6055812023179916\n",
      "\n",
      " Average epoch time: 35.40015959739685\n",
      "Accuracy on test set: 40.71%\n"
     ]
    },
    {
     "data": {
      "text/plain": [
       "40.71"
      ]
     },
     "execution_count": 55,
     "metadata": {},
     "output_type": "execute_result"
    }
   ],
   "source": [
    "# K = 3, N = 10\n",
    "conv2d_nn_3_10.to('mps')\n",
    "\n",
    "criterion = nn.CrossEntropyLoss()\n",
    "optimizer = optim.Adam(conv2d_nn_3_10.parameters(), lr=0.001)\n",
    "num_epochs = 10 \n",
    "train_model(conv2d_nn_3_10, cifar10.train_loader, criterion, optimizer, num_epochs)\n",
    "evaluate_accuracy(conv2d_nn_3_10, cifar10.test_loader)"
   ]
  },
  {
   "cell_type": "code",
   "execution_count": 56,
   "metadata": {},
   "outputs": [
    {
     "name": "stdout",
     "output_type": "stream",
     "text": [
      "Epoch 1, Time: 34.88943409919739, Loss: 1.5398547330780712\n",
      "Epoch 2, Time: 34.9645721912384, Loss: 1.53048065190425\n",
      "Epoch 3, Time: 34.93640089035034, Loss: 1.5214200457343665\n",
      "Epoch 4, Time: 34.1014838218689, Loss: 1.5130949485332459\n",
      "Epoch 5, Time: 34.06490087509155, Loss: 1.5083880615051446\n",
      "Epoch 6, Time: 34.12184500694275, Loss: 1.5089485503523552\n",
      "Epoch 7, Time: 43.21040391921997, Loss: 1.4991333792581583\n",
      "Epoch 8, Time: 48.018686056137085, Loss: 1.4895014682084398\n",
      "Epoch 9, Time: 34.300710916519165, Loss: 1.4852918243164297\n",
      "Epoch 10, Time: 34.252519845962524, Loss: 1.4836031911928025\n",
      "\n",
      " Average epoch time: 36.686095762252805\n",
      "Accuracy on test set: 41.88%\n"
     ]
    },
    {
     "data": {
      "text/plain": [
       "41.88"
      ]
     },
     "execution_count": 56,
     "metadata": {},
     "output_type": "execute_result"
    }
   ],
   "source": [
    "# K = 3, N = 50\n",
    "conv2d_nn_3_50.to('mps')\n",
    "\n",
    "criterion = nn.CrossEntropyLoss()\n",
    "optimizer = optim.Adam(conv2d_nn_3_50.parameters(), lr=0.001)\n",
    "num_epochs = 10 \n",
    "train_model(conv2d_nn_3_50, cifar10.train_loader, criterion, optimizer, num_epochs)\n",
    "evaluate_accuracy(conv2d_nn_3_50, cifar10.test_loader)"
   ]
  },
  {
   "cell_type": "code",
   "execution_count": 59,
   "metadata": {},
   "outputs": [
    {
     "name": "stdout",
     "output_type": "stream",
     "text": [
      "Epoch 1, Time: 37.452014207839966, Loss: 1.7997900694227584\n",
      "Epoch 2, Time: 36.30979800224304, Loss: 1.681861951832881\n",
      "Epoch 3, Time: 36.252094984054565, Loss: 1.6329700430031018\n",
      "Epoch 4, Time: 36.519059896469116, Loss: 1.5990457918942738\n",
      "Epoch 5, Time: 36.5120370388031, Loss: 1.579006182415711\n",
      "Epoch 6, Time: 36.4297890663147, Loss: 1.5604850422695775\n",
      "Epoch 7, Time: 36.38309097290039, Loss: 1.543818252165909\n",
      "Epoch 8, Time: 36.41049003601074, Loss: 1.5340813008110847\n",
      "Epoch 9, Time: 36.923357009887695, Loss: 1.5190591389870705\n",
      "Epoch 10, Time: 36.41008734703064, Loss: 1.509766968619793\n",
      "\n",
      " Average epoch time: 36.560181856155396\n",
      "Accuracy on test set: 42.59%\n"
     ]
    },
    {
     "data": {
      "text/plain": [
       "42.59"
      ]
     },
     "execution_count": 59,
     "metadata": {},
     "output_type": "execute_result"
    }
   ],
   "source": [
    "# K = 3, N = 100\n",
    "conv2d_nn_3_100.to('mps')\n",
    "\n",
    "criterion = nn.CrossEntropyLoss()\n",
    "optimizer = optim.Adam(conv2d_nn_3_100.parameters(), lr=0.001)\n",
    "num_epochs = 10 \n",
    "train_model(conv2d_nn_3_100, cifar10.train_loader, criterion, optimizer, num_epochs)\n",
    "evaluate_accuracy(conv2d_nn_3_100, cifar10.test_loader)"
   ]
  },
  {
   "cell_type": "code",
   "execution_count": 60,
   "metadata": {},
   "outputs": [
    {
     "name": "stdout",
     "output_type": "stream",
     "text": [
      "Epoch 1, Time: 42.59893608093262, Loss: 1.8054198455017851\n",
      "Epoch 2, Time: 43.07707691192627, Loss: 1.696685210518215\n",
      "Epoch 3, Time: 42.014883041381836, Loss: 1.616680161727359\n",
      "Epoch 4, Time: 41.76589798927307, Loss: 1.5461355626125775\n",
      "Epoch 5, Time: 41.804707050323486, Loss: 1.4968496510744704\n",
      "Epoch 6, Time: 41.81191110610962, Loss: 1.4541612418411334\n",
      "Epoch 7, Time: 41.76970601081848, Loss: 1.4133352126611773\n",
      "Epoch 8, Time: 41.76917219161987, Loss: 1.3804757191854364\n",
      "Epoch 9, Time: 41.83304762840271, Loss: 1.3406402103583832\n",
      "Epoch 10, Time: 41.83917307853699, Loss: 1.3114020407504743\n",
      "\n",
      " Average epoch time: 42.028451108932494\n",
      "Accuracy on test set: 40.27%\n"
     ]
    },
    {
     "data": {
      "text/plain": [
       "40.27"
      ]
     },
     "execution_count": 60,
     "metadata": {},
     "output_type": "execute_result"
    }
   ],
   "source": [
    "# K = 3, N = 250\n",
    "conv2d_nn_3_250.to('mps')\n",
    "\n",
    "criterion = nn.CrossEntropyLoss()\n",
    "optimizer = optim.Adam(conv2d_nn_3_250.parameters(), lr=0.001)\n",
    "num_epochs = 10 \n",
    "train_model(conv2d_nn_3_250, cifar10.train_loader, criterion, optimizer, num_epochs)\n",
    "evaluate_accuracy(conv2d_nn_3_250, cifar10.test_loader)"
   ]
  },
  {
   "cell_type": "code",
   "execution_count": 61,
   "metadata": {},
   "outputs": [
    {
     "name": "stdout",
     "output_type": "stream",
     "text": [
      "Epoch 1, Time: 35.923216104507446, Loss: 1.8138519402050302\n",
      "Epoch 2, Time: 36.61292314529419, Loss: 1.7426020381090892\n",
      "Epoch 3, Time: 37.0061469078064, Loss: 1.7119110383645957\n",
      "Epoch 4, Time: 35.34713387489319, Loss: 1.6860181497186042\n",
      "Epoch 5, Time: 35.3184130191803, Loss: 1.6641908070010603\n",
      "Epoch 6, Time: 35.3623468875885, Loss: 1.6448582948931039\n",
      "Epoch 7, Time: 35.303170919418335, Loss: 1.624024073791016\n",
      "Epoch 8, Time: 35.355992794036865, Loss: 1.6078678999105682\n",
      "Epoch 9, Time: 35.33304691314697, Loss: 1.59224293161841\n",
      "Epoch 10, Time: 35.42080593109131, Loss: 1.5823632605240474\n",
      "\n",
      " Average epoch time: 35.69831964969635\n",
      "Accuracy on test set: 37.93%\n"
     ]
    },
    {
     "data": {
      "text/plain": [
       "37.93"
      ]
     },
     "execution_count": 61,
     "metadata": {},
     "output_type": "execute_result"
    }
   ],
   "source": [
    "# K = 3, N = All\n",
    "conv2d_nn_3_all.to('mps')\n",
    "\n",
    "criterion = nn.CrossEntropyLoss()\n",
    "optimizer = optim.Adam(conv2d_nn_3_all.parameters(), lr=0.001)\n",
    "num_epochs = 10 \n",
    "train_model(conv2d_nn_3_all, cifar10.train_loader, criterion, optimizer, num_epochs)\n",
    "evaluate_accuracy(conv2d_nn_3_all, cifar10.test_loader)"
   ]
  },
  {
   "cell_type": "code",
   "execution_count": null,
   "metadata": {},
   "outputs": [],
   "source": []
  }
 ],
 "metadata": {
  "kernelspec": {
   "display_name": "ML",
   "language": "python",
   "name": "python3"
  },
  "language_info": {
   "codemirror_mode": {
    "name": "ipython",
    "version": 3
   },
   "file_extension": ".py",
   "mimetype": "text/x-python",
   "name": "python",
   "nbconvert_exporter": "python",
   "pygments_lexer": "ipython3",
   "version": "3.12.0"
  }
 },
 "nbformat": 4,
 "nbformat_minor": 2
}
