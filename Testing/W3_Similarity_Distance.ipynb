{
 "cells": [
  {
   "cell_type": "markdown",
   "metadata": {},
   "source": [
    "# Distance vs Similarity Matrix Time"
   ]
  },
  {
   "cell_type": "code",
   "execution_count": 1,
   "metadata": {},
   "outputs": [
    {
     "name": "stderr",
     "output_type": "stream",
     "text": [
      "/Users/mingikang/miniforge3/envs/ML/lib/python3.12/site-packages/tqdm/auto.py:21: TqdmWarning: IProgress not found. Please update jupyter and ipywidgets. See https://ipywidgets.readthedocs.io/en/stable/user_install.html\n",
      "  from .autonotebook import tqdm as notebook_tqdm\n"
     ]
    }
   ],
   "source": [
    "# Torch\n",
    "import torch \n",
    "import torch.nn as nn\n",
    "import torch.nn.functional as F\n",
    "from torch import optim \n",
    "\n",
    "\n",
    "# Train + Data \n",
    "import sys \n",
    "sys.path.append('../Layers')\n",
    "from Conv1d_NN import *\n",
    "from Conv2d_NN import *\n",
    "\n",
    "from Conv1d_NN_spatial import * \n",
    "from Conv2d_NN_spatial import * \n",
    "\n",
    "sys.path.append('../Data')\n",
    "from CIFAR10 import * \n",
    "\n",
    "\n",
    "sys.path.append('../Train')\n",
    "from train2d import * \n"
   ]
  },
  {
   "cell_type": "markdown",
   "metadata": {},
   "source": [
    "# 1. Distance & Similarity Models"
   ]
  },
  {
   "cell_type": "code",
   "execution_count": 2,
   "metadata": {},
   "outputs": [
    {
     "name": "stdout",
     "output_type": "stream",
     "text": [
      "----------------------------------------------------------------\n",
      "        Layer (type)               Output Shape         Param #\n",
      "================================================================\n",
      "           Flatten-1              [-1, 12, 256]               0\n",
      "            Conv1d-2              [-1, 64, 256]           6,976\n",
      "         Conv1d_NN-3              [-1, 64, 256]               0\n",
      "         Conv2d_NN-4           [-1, 16, 32, 32]               0\n",
      "              ReLU-5           [-1, 16, 32, 32]               0\n",
      "           Flatten-6              [-1, 64, 256]               0\n",
      "            Conv1d-7             [-1, 128, 256]          73,856\n",
      "         Conv1d_NN-8             [-1, 128, 256]               0\n",
      "         Conv2d_NN-9           [-1, 32, 32, 32]               0\n",
      "             ReLU-10           [-1, 32, 32, 32]               0\n",
      "          Flatten-11                [-1, 32768]               0\n",
      "           Linear-12                 [-1, 1024]      33,555,456\n",
      "             ReLU-13                 [-1, 1024]               0\n",
      "           Linear-14                   [-1, 10]          10,250\n",
      "================================================================\n",
      "Total params: 33,646,538\n",
      "Trainable params: 33,646,538\n",
      "Non-trainable params: 0\n",
      "----------------------------------------------------------------\n",
      "Input size (MB): 0.01\n",
      "Forward/backward pass size (MB): 1.91\n",
      "Params size (MB): 128.35\n",
      "Estimated Total Size (MB): 130.28\n",
      "----------------------------------------------------------------\n"
     ]
    }
   ],
   "source": [
    "# ConNN 2D All Sample Model with K = 9 (Distance Matrix)\n",
    "Conv2dNN_9_all_distance = nn.Sequential(\n",
    "   Conv2d_NN(\n",
    "      in_channels=3,\n",
    "      out_channels=16,\n",
    "      K=9,\n",
    "      stride=9,\n",
    "      padding=0,\n",
    "      shuffle_pattern=\"BA\", \n",
    "      shuffle_scale=2, \n",
    "      samples=\"all\", \n",
    "      magnitude_type=\"distance\"\n",
    "   ), \n",
    "   nn.ReLU(),\n",
    "\n",
    "   Conv2d_NN(\n",
    "      in_channels=16,\n",
    "      out_channels=32,\n",
    "      K=9,\n",
    "      stride=9,\n",
    "      padding=0,\n",
    "      shuffle_pattern=\"BA\", \n",
    "      shuffle_scale=2, \n",
    "      samples=\"all\", \n",
    "      magnitude_type=\"distance\"\n",
    "\n",
    "   ),\n",
    "   nn.ReLU(),\n",
    "   \n",
    "   nn.Flatten(),\n",
    "   nn.Linear(32768, 1024),\n",
    "   nn.ReLU(),\n",
    "   nn.Linear(1024, 10)\n",
    ").to('cpu')\n",
    "\n",
    "from torchsummary import summary\n",
    "summary(Conv2dNN_9_all_distance, (3, 32, 32))\n"
   ]
  },
  {
   "cell_type": "code",
   "execution_count": 3,
   "metadata": {},
   "outputs": [
    {
     "name": "stdout",
     "output_type": "stream",
     "text": [
      "----------------------------------------------------------------\n",
      "        Layer (type)               Output Shape         Param #\n",
      "================================================================\n",
      "           Flatten-1              [-1, 12, 256]               0\n",
      "            Conv1d-2              [-1, 64, 256]           6,976\n",
      "         Conv1d_NN-3              [-1, 64, 256]               0\n",
      "         Conv2d_NN-4           [-1, 16, 32, 32]               0\n",
      "              ReLU-5           [-1, 16, 32, 32]               0\n",
      "           Flatten-6              [-1, 64, 256]               0\n",
      "            Conv1d-7             [-1, 128, 256]          73,856\n",
      "         Conv1d_NN-8             [-1, 128, 256]               0\n",
      "         Conv2d_NN-9           [-1, 32, 32, 32]               0\n",
      "             ReLU-10           [-1, 32, 32, 32]               0\n",
      "          Flatten-11                [-1, 32768]               0\n",
      "           Linear-12                 [-1, 1024]      33,555,456\n",
      "             ReLU-13                 [-1, 1024]               0\n",
      "           Linear-14                   [-1, 10]          10,250\n",
      "================================================================\n",
      "Total params: 33,646,538\n",
      "Trainable params: 33,646,538\n",
      "Non-trainable params: 0\n",
      "----------------------------------------------------------------\n",
      "Input size (MB): 0.01\n",
      "Forward/backward pass size (MB): 1.91\n",
      "Params size (MB): 128.35\n",
      "Estimated Total Size (MB): 130.28\n",
      "----------------------------------------------------------------\n"
     ]
    }
   ],
   "source": [
    "# ConNN 2D All Sample Model with K = 9 (Distance Matrix)\n",
    "Conv2dNN_9_all_similarity = nn.Sequential(\n",
    "   Conv2d_NN(\n",
    "      in_channels=3,\n",
    "      out_channels=16,\n",
    "      K=9,\n",
    "      stride=9,\n",
    "      padding=0,\n",
    "      shuffle_pattern=\"BA\", \n",
    "      shuffle_scale=2, \n",
    "      samples=\"all\", \n",
    "      magnitude_type=\"similarity\"\n",
    "   ), \n",
    "   nn.ReLU(),\n",
    "\n",
    "   Conv2d_NN(\n",
    "      in_channels=16,\n",
    "      out_channels=32,\n",
    "      K=9,\n",
    "      stride=9,\n",
    "      padding=0,\n",
    "      shuffle_pattern=\"BA\", \n",
    "      shuffle_scale=2, \n",
    "      samples=\"all\", \n",
    "      magnitude_type=\"similarity\"\n",
    "\n",
    "   ),\n",
    "   nn.ReLU(),\n",
    "   \n",
    "   nn.Flatten(),\n",
    "   nn.Linear(32768, 1024),\n",
    "   nn.ReLU(),\n",
    "   nn.Linear(1024, 10)\n",
    ").to('cpu')\n",
    "\n",
    "from torchsummary import summary\n",
    "summary(Conv2dNN_9_all_similarity, (3, 32, 32))\n"
   ]
  },
  {
   "cell_type": "markdown",
   "metadata": {},
   "source": [
    "# II. Distance & Similarity Time Evaluation"
   ]
  },
  {
   "cell_type": "code",
   "execution_count": 4,
   "metadata": {},
   "outputs": [
    {
     "name": "stdout",
     "output_type": "stream",
     "text": [
      "Files already downloaded and verified\n",
      "Files already downloaded and verified\n"
     ]
    }
   ],
   "source": [
    "cifar10 = CIFAR10()"
   ]
  },
  {
   "cell_type": "code",
   "execution_count": 5,
   "metadata": {},
   "outputs": [
    {
     "name": "stdout",
     "output_type": "stream",
     "text": [
      "Epoch 1, Time: 54.59993100166321, Loss: 1.5074244826041219\n",
      "Epoch 2, Time: 54.776877880096436, Loss: 1.168537397518792\n",
      "Epoch 3, Time: 53.591310024261475, Loss: 0.9431182021832527\n",
      "Epoch 4, Time: 53.18561577796936, Loss: 0.7015001652643199\n",
      "Epoch 5, Time: 53.244892835617065, Loss: 0.4671285363852673\n",
      "Epoch 6, Time: 53.23835206031799, Loss: 0.30799558736822186\n",
      "Epoch 7, Time: 53.321255922317505, Loss: 0.22136077013276423\n",
      "Epoch 8, Time: 53.240829944610596, Loss: 0.1840662612744114\n",
      "Epoch 9, Time: 52.90734505653381, Loss: 0.15408209330566666\n",
      "Epoch 10, Time: 53.52429223060608, Loss: 0.13070755098205622\n",
      "\n",
      " Average epoch time: 53.563070273399354\n",
      "Accuracy on test set: 55.34%\n"
     ]
    },
    {
     "data": {
      "text/plain": [
       "55.34"
      ]
     },
     "execution_count": 5,
     "metadata": {},
     "output_type": "execute_result"
    }
   ],
   "source": [
    "# Distance\n",
    "Conv2dNN_9_all_distance.to('mps')\n",
    "\n",
    "criterion = nn.CrossEntropyLoss()\n",
    "optimizer = optim.Adam(Conv2dNN_9_all_distance.parameters(), lr=0.001)\n",
    "num_epochs = 10 \n",
    "train_model(Conv2dNN_9_all_distance, cifar10.train_loader, criterion, optimizer, num_epochs)\n",
    "evaluate_accuracy(Conv2dNN_9_all_distance, cifar10.test_loader)"
   ]
  },
  {
   "cell_type": "code",
   "execution_count": 6,
   "metadata": {},
   "outputs": [
    {
     "name": "stdout",
     "output_type": "stream",
     "text": [
      "Epoch 1, Time: 53.403226137161255, Loss: 1.5659344574374616\n",
      "Epoch 2, Time: 52.248836278915405, Loss: 1.231438933812139\n",
      "Epoch 3, Time: 52.17728900909424, Loss: 1.0457029331980459\n",
      "Epoch 4, Time: 52.100014209747314, Loss: 0.8662748996101682\n",
      "Epoch 5, Time: 52.000330209732056, Loss: 0.6686297812882591\n",
      "Epoch 6, Time: 52.07300305366516, Loss: 0.4838443547106155\n",
      "Epoch 7, Time: 52.02247500419617, Loss: 0.3422462342835753\n",
      "Epoch 8, Time: 52.02267599105835, Loss: 0.2563483023639683\n",
      "Epoch 9, Time: 52.20414686203003, Loss: 0.20328128369301177\n",
      "Epoch 10, Time: 51.97289490699768, Loss: 0.17105288792144308\n",
      "\n",
      " Average epoch time: 52.22248916625976\n",
      "Accuracy on test set: 54.51%\n"
     ]
    },
    {
     "data": {
      "text/plain": [
       "54.51"
      ]
     },
     "execution_count": 6,
     "metadata": {},
     "output_type": "execute_result"
    }
   ],
   "source": [
    "# Similarity\n",
    "Conv2dNN_9_all_similarity.to('mps')\n",
    "\n",
    "criterion = nn.CrossEntropyLoss()\n",
    "optimizer = optim.Adam(Conv2dNN_9_all_similarity.parameters(), lr=0.001)\n",
    "num_epochs = 10 \n",
    "train_model(Conv2dNN_9_all_similarity, cifar10.train_loader, criterion, optimizer, num_epochs)\n",
    "evaluate_accuracy(Conv2dNN_9_all_similarity, cifar10.test_loader)"
   ]
  },
  {
   "cell_type": "markdown",
   "metadata": {},
   "source": [
    "## III. Profiler for Distance vs. Similarity"
   ]
  },
  {
   "cell_type": "code",
   "execution_count": 7,
   "metadata": {},
   "outputs": [],
   "source": [
    "import torch \n",
    "import torch.nn as nn\n",
    "import torch.nn.functional as F\n",
    "from torch.nn import Conv2d\n",
    "import torchvision.models as models\n",
    "from torch.profiler import profile, record_function, ProfilerActivity"
   ]
  },
  {
   "cell_type": "markdown",
   "metadata": {},
   "source": [
    "### Distance Profiler"
   ]
  },
  {
   "cell_type": "code",
   "execution_count": 8,
   "metadata": {},
   "outputs": [
    {
     "name": "stdout",
     "output_type": "stream",
     "text": [
      "-------------------------------------  ------------  ------------  ------------  ------------  ------------  ------------  ------------  ------------  \n",
      "                                 Name    Self CPU %      Self CPU   CPU total %     CPU total  CPU time avg       CPU Mem  Self CPU Mem    # of Calls  \n",
      "-------------------------------------  ------------  ------------  ------------  ------------  ------------  ------------  ------------  ------------  \n",
      "                      model_inference         6.65%       5.411ms       100.00%      81.338ms      81.338ms      42.31 Mb     -83.81 Mb             1  \n",
      "                         aten::conv1d         0.02%      20.000us        44.25%      35.989ms      17.994ms       6.00 Mb           0 b             2  \n",
      "                    aten::convolution         0.11%      91.000us        44.22%      35.969ms      17.985ms       6.00 Mb           0 b             2  \n",
      "                   aten::_convolution         1.42%       1.153ms        44.11%      35.878ms      17.939ms       6.00 Mb     -21.38 Mb             2  \n",
      "    aten::_nnpack_spatial_convolution        38.90%      31.642ms        38.91%      31.647ms      15.823ms       6.00 Mb           0 b             2  \n",
      "                         aten::linear         0.02%      15.000us        17.06%      13.873ms       6.936ms     129.25 Kb           0 b             2  \n",
      "                          aten::addmm        16.95%      13.783ms        16.99%      13.820ms       6.910ms     129.25 Kb     129.25 Kb             2  \n",
      "                          aten::index         3.78%       3.075ms         7.66%       6.233ms       1.558ms      42.75 Mb      21.37 Mb             4  \n",
      "                            aten::bmm         6.66%       5.419ms         6.75%       5.494ms       2.747ms      16.00 Mb      16.00 Mb             2  \n",
      "                           aten::topk         6.56%       5.333ms         6.56%       5.333ms       2.667ms       1.69 Mb       1.69 Mb             2  \n",
      "                     aten::contiguous         0.01%       6.000us         3.76%       3.057ms       1.528ms      21.38 Mb           0 b             2  \n",
      "                          aten::clone         0.22%     179.000us         3.75%       3.051ms       1.526ms      21.38 Mb           0 b             2  \n",
      "                          aten::copy_         3.58%       2.908ms         3.58%       2.908ms     484.667us           0 b           0 b             6  \n",
      "                            aten::mul         3.16%       2.570ms         3.48%       2.827ms       1.413ms      16.00 Mb      16.00 Mb             2  \n",
      "                            aten::sub         3.40%       2.762ms         3.40%       2.762ms       1.381ms      16.00 Mb      16.00 Mb             2  \n",
      "                           aten::sqrt         1.80%       1.466ms         1.80%       1.466ms     733.000us      16.00 Mb      16.00 Mb             2  \n",
      "                            aten::add         1.70%       1.386ms         1.70%       1.386ms     693.000us      16.00 Mb      16.00 Mb             2  \n",
      "                           aten::relu         0.04%      35.000us         1.51%       1.225ms     408.333us       6.12 Mb           0 b             3  \n",
      "                      aten::clamp_min         1.46%       1.190ms         1.46%       1.190ms     396.667us       6.12 Mb       6.12 Mb             3  \n",
      "                aten::pixel_unshuffle         0.96%     784.000us         0.99%     803.000us     401.500us       2.38 Mb       2.00 Mb             2  \n",
      "                  aten::pixel_shuffle         0.97%     785.000us         0.97%     788.000us     394.000us       6.00 Mb       4.00 Mb             2  \n",
      "                            aten::pow         0.59%     483.000us         0.59%     483.000us     241.500us       2.38 Mb       2.38 Mb             2  \n",
      "                             aten::to        -0.00%      -3.000us         0.32%     257.000us      64.250us           8 b           0 b             4  \n",
      "                       aten::_to_copy         0.30%     246.000us         0.31%     251.000us     125.500us           8 b           0 b             2  \n",
      "                            aten::sum         0.13%     107.000us         0.15%     120.000us      60.000us      64.00 Kb      64.00 Kb             2  \n",
      "                        aten::flatten         0.05%      43.000us         0.11%      92.000us      18.400us           0 b           0 b             5  \n",
      "                         aten::arange         0.06%      50.000us         0.10%      82.000us      16.400us       1.25 Kb         512 b             5  \n",
      "                         aten::select         0.08%      69.000us         0.09%      73.000us       0.380us           0 b           0 b           192  \n",
      "                           aten::view         0.07%      59.000us         0.07%      59.000us       6.556us           0 b           0 b             9  \n",
      "                          aten::slice         0.05%      43.000us         0.06%      45.000us      22.500us           0 b           0 b             2  \n",
      "                      aten::transpose         0.04%      31.000us         0.05%      39.000us       6.500us           0 b           0 b             6  \n",
      "                              aten::t         0.04%      32.000us         0.05%      38.000us      19.000us           0 b           0 b             2  \n",
      "                        aten::permute         0.04%      29.000us         0.04%      31.000us       7.750us           0 b           0 b             4  \n",
      "                      aten::unsqueeze         0.03%      24.000us         0.03%      27.000us       3.000us           0 b           0 b             9  \n",
      "                        aten::resize_         0.03%      21.000us         0.03%      21.000us       3.500us       2.38 Mb       2.38 Mb             6  \n",
      "                     aten::as_strided         0.02%      19.000us         0.02%      19.000us       0.086us           0 b           0 b           220  \n",
      "                        aten::reshape         0.02%      14.000us         0.02%      16.000us       4.000us           0 b           0 b             4  \n",
      "                      aten::unflatten         0.01%       6.000us         0.02%      15.000us       7.500us           0 b           0 b             2  \n",
      "                          aten::fill_         0.02%      13.000us         0.02%      13.000us       6.500us           0 b           0 b             2  \n",
      "                          aten::empty         0.01%      11.000us         0.01%      11.000us       1.100us      27.38 Mb      27.38 Mb            10  \n",
      "                     aten::empty_like         0.01%       6.000us         0.01%       8.000us       4.000us      21.38 Mb           0 b             2  \n",
      "                        aten::squeeze         0.01%       6.000us         0.01%       7.000us       3.500us           0 b           0 b             2  \n",
      "                         aten::expand         0.01%       6.000us         0.01%       6.000us       1.500us           0 b           0 b             4  \n",
      "                  aten::empty_strided         0.01%       5.000us         0.01%       5.000us       2.500us           8 b           8 b             2  \n",
      "                   aten::resolve_conj         0.00%       2.000us         0.00%       2.000us       0.015us           0 b           0 b           136  \n",
      "              aten::_nnpack_available         0.00%       2.000us         0.00%       2.000us       1.000us           0 b           0 b             2  \n",
      "                 aten::_reshape_alias         0.00%       1.000us         0.00%       1.000us       0.500us           0 b           0 b             2  \n",
      "                    aten::result_type         0.00%       0.000us         0.00%       0.000us       0.000us           0 b           0 b             2  \n",
      "-------------------------------------  ------------  ------------  ------------  ------------  ------------  ------------  ------------  ------------  \n",
      "Self CPU time total: 81.338ms\n",
      "\n"
     ]
    },
    {
     "name": "stderr",
     "output_type": "stream",
     "text": [
      "STAGE:2025-02-09 13:43:39 4485:152408 ActivityProfilerController.cpp:314] Completed Stage: Warm Up\n",
      "STAGE:2025-02-09 13:43:39 4485:152408 ActivityProfilerController.cpp:320] Completed Stage: Collection\n",
      "STAGE:2025-02-09 13:43:39 4485:152408 ActivityProfilerController.cpp:324] Completed Stage: Post Processing\n"
     ]
    }
   ],
   "source": [
    "input = torch.randn(32, 3, 32, 32)\n",
    "\n",
    "Conv2dNN_9_all_distance.to('cpu')\n",
    "\n",
    "with profile(activities=[ProfilerActivity.CPU], record_shapes=True, profile_memory=True) as prof1:\n",
    "    with record_function(\"model_inference\"):\n",
    "        Conv2dNN_9_all_distance(input)\n",
    "\n",
    "print(prof1.key_averages().table(sort_by=\"cpu_time_total\"))"
   ]
  },
  {
   "cell_type": "markdown",
   "metadata": {},
   "source": [
    "### Similarity Profiler"
   ]
  },
  {
   "cell_type": "code",
   "execution_count": 9,
   "metadata": {},
   "outputs": [
    {
     "name": "stdout",
     "output_type": "stream",
     "text": [
      "-------------------------------------  ------------  ------------  ------------  ------------  ------------  ------------  ------------  ------------  \n",
      "                                 Name    Self CPU %      Self CPU   CPU total %     CPU total  CPU time avg       CPU Mem  Self CPU Mem    # of Calls  \n",
      "-------------------------------------  ------------  ------------  ------------  ------------  ------------  ------------  ------------  ------------  \n",
      "                      model_inference        -0.21%    -149.000us       100.00%      70.859ms      70.859ms      44.38 Mb     -35.81 Mb             1  \n",
      "                         aten::conv1d         0.02%      13.000us        54.23%      38.430ms      19.215ms       6.00 Mb           0 b             2  \n",
      "                    aten::convolution         0.12%      84.000us        54.22%      38.417ms      19.209ms       6.00 Mb           0 b             2  \n",
      "                   aten::_convolution         0.63%     447.000us        54.10%      38.333ms      19.166ms       6.00 Mb     -21.38 Mb             2  \n",
      "    aten::_nnpack_spatial_convolution        49.22%      34.875ms        49.23%      34.882ms      17.441ms       6.00 Mb           0 b             2  \n",
      "                         aten::linear         0.02%      11.000us        17.84%      12.643ms       6.322ms     129.25 Kb           0 b             2  \n",
      "                          aten::addmm        17.76%      12.586ms        17.79%      12.604ms       6.302ms     129.25 Kb     129.25 Kb             2  \n",
      "                          aten::index         6.32%       4.480ms         9.82%       6.959ms       1.392ms      60.75 Mb      39.38 Mb             5  \n",
      "                           aten::topk         6.20%       4.396ms         6.20%       4.396ms       2.198ms       1.69 Mb       1.69 Mb             2  \n",
      "                            aten::bmm         5.70%       4.042ms         5.79%       4.103ms       2.051ms      16.00 Mb      16.00 Mb             2  \n",
      "             aten::linalg_vector_norm         5.21%       3.693ms         5.21%       3.693ms       1.847ms      64.00 Kb      64.00 Kb             2  \n",
      "                     aten::contiguous         0.01%       5.000us         4.18%       2.960ms       1.480ms      21.38 Mb           0 b             2  \n",
      "                          aten::clone         0.02%      11.000us         4.17%       2.955ms       1.478ms      21.38 Mb      18.00 Mb             2  \n",
      "                          aten::copy_         4.14%       2.937ms         4.14%       2.937ms     734.250us           0 b           0 b             4  \n",
      "                  aten::pixel_shuffle         1.49%       1.053ms         1.49%       1.057ms     528.500us       6.00 Mb       2.00 Mb             2  \n",
      "                      aten::clamp_min         1.31%     927.000us         1.31%     927.000us     185.400us       6.19 Mb       6.19 Mb             5  \n",
      "                           aten::relu         0.05%      36.000us         1.28%     904.000us     301.333us       6.12 Mb           0 b             3  \n",
      "                aten::pixel_unshuffle         0.76%     540.000us         0.77%     548.000us     274.000us       2.38 Mb           0 b             2  \n",
      "                            aten::div         0.58%     414.000us         0.58%     414.000us     207.000us       2.38 Mb       2.38 Mb             2  \n",
      "                        aten::flatten         0.03%      22.000us         0.10%      73.000us      14.600us           0 b           0 b             5  \n",
      "                        aten::permute         0.10%      69.000us         0.10%      71.000us      17.750us           0 b           0 b             4  \n",
      "                           aten::view         0.09%      63.000us         0.09%      63.000us       7.000us           0 b           0 b             9  \n",
      "                         aten::select         0.05%      38.000us         0.07%      48.000us       0.250us           0 b           0 b           192  \n",
      "                      aten::unsqueeze         0.06%      39.000us         0.06%      42.000us       4.200us           0 b           0 b            10  \n",
      "                     aten::as_strided         0.05%      36.000us         0.05%      36.000us       0.164us           0 b           0 b           220  \n",
      "                          aten::slice         0.05%      33.000us         0.05%      33.000us      11.000us           0 b           0 b             3  \n",
      "                         aten::arange         0.03%      19.000us         0.04%      31.000us       7.750us       1.00 Kb         256 b             4  \n",
      "                      aten::expand_as         0.01%       7.000us         0.04%      29.000us      14.500us           0 b           0 b             2  \n",
      "                         aten::expand         0.03%      24.000us         0.04%      29.000us       4.833us           0 b           0 b             6  \n",
      "                              aten::t         0.02%      16.000us         0.04%      28.000us      14.000us           0 b           0 b             2  \n",
      "                          aten::empty         0.04%      27.000us         0.04%      27.000us       2.700us       9.38 Mb       9.38 Mb            10  \n",
      "                      aten::transpose         0.03%      23.000us         0.03%      24.000us       6.000us           0 b           0 b             4  \n",
      "                     aten::empty_like         0.01%       4.000us         0.03%      20.000us      10.000us       3.38 Mb           0 b             2  \n",
      "                      aten::unflatten         0.01%       7.000us         0.03%      19.000us       9.500us           0 b           0 b             2  \n",
      "                        aten::reshape         0.02%      12.000us         0.02%      12.000us       3.000us           0 b           0 b             4  \n",
      "                        aten::squeeze         0.01%      10.000us         0.02%      11.000us       5.500us           0 b           0 b             2  \n",
      "                        aten::resize_         0.01%       9.000us         0.01%       9.000us       1.500us       6.38 Mb       6.38 Mb             6  \n",
      "                   aten::resolve_conj         0.00%       0.000us         0.00%       0.000us       0.000us           0 b           0 b           136  \n",
      "                 aten::_reshape_alias         0.00%       0.000us         0.00%       0.000us       0.000us           0 b           0 b             2  \n",
      "              aten::_nnpack_available         0.00%       0.000us         0.00%       0.000us       0.000us           0 b           0 b             2  \n",
      "-------------------------------------  ------------  ------------  ------------  ------------  ------------  ------------  ------------  ------------  \n",
      "Self CPU time total: 70.859ms\n",
      "\n"
     ]
    },
    {
     "name": "stderr",
     "output_type": "stream",
     "text": [
      "STAGE:2025-02-09 13:43:42 4485:152408 ActivityProfilerController.cpp:314] Completed Stage: Warm Up\n",
      "STAGE:2025-02-09 13:43:42 4485:152408 ActivityProfilerController.cpp:320] Completed Stage: Collection\n",
      "STAGE:2025-02-09 13:43:42 4485:152408 ActivityProfilerController.cpp:324] Completed Stage: Post Processing\n"
     ]
    }
   ],
   "source": [
    "input = torch.randn(32, 3, 32, 32)\n",
    "\n",
    "Conv2dNN_9_all_similarity.to('cpu')\n",
    "\n",
    "with profile(activities=[ProfilerActivity.CPU], record_shapes=True, profile_memory=True) as prof1:\n",
    "    with record_function(\"model_inference\"):\n",
    "        Conv2dNN_9_all_similarity(input)\n",
    "\n",
    "print(prof1.key_averages().table(sort_by=\"cpu_time_total\"))"
   ]
  },
  {
   "cell_type": "code",
   "execution_count": null,
   "metadata": {},
   "outputs": [],
   "source": []
  }
 ],
 "metadata": {
  "kernelspec": {
   "display_name": "ML",
   "language": "python",
   "name": "python3"
  },
  "language_info": {
   "codemirror_mode": {
    "name": "ipython",
    "version": 3
   },
   "file_extension": ".py",
   "mimetype": "text/x-python",
   "name": "python",
   "nbconvert_exporter": "python",
   "pygments_lexer": "ipython3",
   "version": "3.12.0"
  }
 },
 "nbformat": 4,
 "nbformat_minor": 2
}
