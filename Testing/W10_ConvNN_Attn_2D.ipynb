{
 "cells": [
  {
   "cell_type": "markdown",
   "metadata": {},
   "source": [
    "# ConvNN Attention Test \n",
    "## I. 2D Training for testing with CIFAR10 Dataset"
   ]
  },
  {
   "cell_type": "code",
   "execution_count": 1,
   "metadata": {},
   "outputs": [],
   "source": [
    "# Torch\n",
    "import torch \n",
    "import torch.nn as nn\n",
    "import torch.nn.functional as F\n",
    "from torch import optim \n",
    "\n",
    "\n",
    "# Train + Data \n",
    "import sys \n",
    "sys.path.append('../Layers')\n",
    "from Conv1d_NN_spatial import * \n",
    "from Conv2d_NN_spatial import * \n",
    "\n",
    "sys.path.append('../Data')\n",
    "from CIFAR10 import * \n",
    "\n",
    "\n",
    "sys.path.append('../Models')\n",
    "from classification_models import *\n",
    "\n",
    "sys.path.append('../Train')\n",
    "from train2d import * \n"
   ]
  },
  {
   "cell_type": "code",
   "execution_count": 2,
   "metadata": {},
   "outputs": [
    {
     "name": "stdout",
     "output_type": "stream",
     "text": [
      "Files already downloaded and verified\n",
      "Files already downloaded and verified\n"
     ]
    }
   ],
   "source": [
    "cifar10 = CIFAR10()"
   ]
  },
  {
   "cell_type": "markdown",
   "metadata": {},
   "source": [
    "### Single Layer Models"
   ]
  },
  {
   "cell_type": "code",
   "execution_count": 3,
   "metadata": {},
   "outputs": [
    {
     "name": "stdout",
     "output_type": "stream",
     "text": [
      "Model: CNN\n",
      "Epoch 1, Time: 10.784194946289062, Loss: 1.37540786787677\n",
      "Epoch 1, Accuracy: 61.95%\n",
      "Epoch 2, Time: 10.598492622375488, Loss: 0.8153488491197376\n",
      "Epoch 2, Accuracy: 65.35%\n",
      "Epoch 3, Time: 10.513471364974976, Loss: 0.3612917522945063\n",
      "Epoch 3, Accuracy: 64.87%\n",
      "Epoch 4, Time: 10.584566116333008, Loss: 0.08733123316146109\n",
      "Epoch 4, Accuracy: 65.57%\n",
      "Epoch 5, Time: 10.479118824005127, Loss: 0.04202381879849898\n",
      "Epoch 5, Accuracy: 64.99%\n",
      "Epoch 6, Time: 10.4561927318573, Loss: 0.04915022715340223\n",
      "Epoch 6, Accuracy: 64.18%\n",
      "Epoch 7, Time: 10.448231935501099, Loss: 0.041198652289013434\n",
      "Epoch 7, Accuracy: 64.28%\n",
      "Epoch 8, Time: 10.461665391921997, Loss: 0.03767640867819557\n",
      "Epoch 8, Accuracy: 64.29%\n",
      "Epoch 9, Time: 10.45011043548584, Loss: 0.030743160563291235\n",
      "Epoch 9, Accuracy: 62.82%\n",
      "Epoch 10, Time: 10.45629596710205, Loss: 0.03632743571731744\n",
      "Epoch 10, Accuracy: 63.32%\n",
      "\n",
      " Average epoch time: 10.523234033584595\n",
      "Accuracy on test set: 63.32%\n"
     ]
    },
    {
     "data": {
      "text/plain": [
       "63.32"
      ]
     },
     "execution_count": 3,
     "metadata": {},
     "output_type": "execute_result"
    }
   ],
   "source": [
    "# CNN\n",
    "CNN_1 = CNN(device='cuda')\n",
    "\n",
    "print(\"Model: \" + CNN_1.name)\n",
    "\n",
    "# Test + Eval\n",
    "criterion = nn.CrossEntropyLoss()\n",
    "optimizer = optim.Adam(CNN_1.parameters(), lr=0.001)\n",
    "num_epochs = 10 \n",
    "train_eval(CNN_1, cifar10.train_loader, cifar10.test_loader, criterion, optimizer, num_epochs, device='cuda')\n",
    "evaluate_accuracy(CNN_1, cifar10.test_loader, device='cuda')\n"
   ]
  },
  {
   "cell_type": "code",
   "execution_count": 4,
   "metadata": {},
   "outputs": [
    {
     "name": "stdout",
     "output_type": "stream",
     "text": [
      "Model: ConvNN_2D_K_All\n",
      "Epoch 1, Time: 13.286974906921387, Loss: 1.599475729800856\n",
      "Epoch 1, Accuracy: 49.64%\n",
      "Epoch 2, Time: 13.062629699707031, Loss: 1.2753914937643749\n",
      "Epoch 2, Accuracy: 53.41%\n",
      "Epoch 3, Time: 13.073896884918213, Loss: 1.0874799130212924\n",
      "Epoch 3, Accuracy: 54.41%\n",
      "Epoch 4, Time: 13.032609939575195, Loss: 0.8942969760778919\n",
      "Epoch 4, Accuracy: 56.09%\n",
      "Epoch 5, Time: 13.06347131729126, Loss: 0.7012742264267734\n",
      "Epoch 5, Accuracy: 55.7%\n",
      "Epoch 6, Time: 13.08158540725708, Loss: 0.5061903937965098\n",
      "Epoch 6, Accuracy: 54.85%\n",
      "Epoch 7, Time: 13.069228172302246, Loss: 0.358107898470081\n",
      "Epoch 7, Accuracy: 54.39%\n",
      "Epoch 8, Time: 13.033559322357178, Loss: 0.263996963834633\n",
      "Epoch 8, Accuracy: 54.53%\n",
      "Epoch 9, Time: 13.004616737365723, Loss: 0.20614028045588442\n",
      "Epoch 9, Accuracy: 54.04%\n",
      "Epoch 10, Time: 13.031898975372314, Loss: 0.16756663284481257\n",
      "Epoch 10, Accuracy: 54.04%\n",
      "\n",
      " Average epoch time: 13.074047136306763\n",
      "Accuracy on test set: 54.04%\n"
     ]
    },
    {
     "data": {
      "text/plain": [
       "54.04"
      ]
     },
     "execution_count": 4,
     "metadata": {},
     "output_type": "execute_result"
    }
   ],
   "source": [
    "convNN_2d_k_all = ConvNN_2D_K_All(device='cuda')\n",
    "\n",
    "print(\"Model: \" + convNN_2d_k_all.name)\n",
    "# Test + Eval\n",
    "criterion = nn.CrossEntropyLoss()\n",
    "optimizer = optim.Adam(convNN_2d_k_all.parameters(), lr=0.001)\n",
    "num_epochs = 10 \n",
    "train_eval(convNN_2d_k_all, cifar10.train_loader, cifar10.test_loader, criterion, optimizer, device='cuda')\n",
    "evaluate_accuracy(convNN_2d_k_all, cifar10.test_loader, device='cuda')\n",
    "\n"
   ]
  },
  {
   "cell_type": "code",
   "execution_count": 5,
   "metadata": {},
   "outputs": [
    {
     "name": "stdout",
     "output_type": "stream",
     "text": [
      "Model: ConvNN_2D_K_N\n",
      "Epoch 1, Time: 13.446043252944946, Loss: 1.7021949397938332\n",
      "Epoch 1, Accuracy: 48.01%\n",
      "Epoch 2, Time: 13.403725385665894, Loss: 1.4111276443504617\n",
      "Epoch 2, Accuracy: 51.23%\n",
      "Epoch 3, Time: 13.525879859924316, Loss: 1.2521483049063427\n",
      "Epoch 3, Accuracy: 54.97%\n",
      "Epoch 4, Time: 13.492486953735352, Loss: 1.1159069682935925\n",
      "Epoch 4, Accuracy: 54.99%\n",
      "Epoch 5, Time: 13.456408023834229, Loss: 0.9844715437468361\n",
      "Epoch 5, Accuracy: 58.15%\n",
      "Epoch 6, Time: 13.363226652145386, Loss: 0.8503856295362457\n",
      "Epoch 6, Accuracy: 58.21%\n",
      "Epoch 7, Time: 13.403356552124023, Loss: 0.7114033103370301\n",
      "Epoch 7, Accuracy: 57.19%\n",
      "Epoch 8, Time: 13.372648000717163, Loss: 0.5772063688320273\n",
      "Epoch 8, Accuracy: 56.25%\n",
      "Epoch 9, Time: 13.400892972946167, Loss: 0.4537546114276742\n",
      "Epoch 9, Accuracy: 56.25%\n",
      "Epoch 10, Time: 13.342517852783203, Loss: 0.353465030641507\n",
      "Epoch 10, Accuracy: 55.94%\n",
      "\n",
      " Average epoch time: 13.420718550682068\n",
      "Accuracy on test set: 55.9%\n"
     ]
    },
    {
     "data": {
      "text/plain": [
       "55.9"
      ]
     },
     "execution_count": 5,
     "metadata": {},
     "output_type": "execute_result"
    }
   ],
   "source": [
    "convNN_2d_k_n = ConvNN_2D_K_N(device='cuda')\n",
    "\n",
    "print(\"Model: \" + convNN_2d_k_n.name)\n",
    "# Test + Eval\n",
    "criterion = nn.CrossEntropyLoss()\n",
    "optimizer = optim.Adam(convNN_2d_k_n.parameters(), lr=0.001)\n",
    "num_epochs = 10 \n",
    "train_eval(convNN_2d_k_n, cifar10.train_loader, cifar10.test_loader, criterion, optimizer, num_epochs, device='cuda')\n",
    "evaluate_accuracy(convNN_2d_k_n, cifar10.test_loader, device='cuda')\n",
    "\n"
   ]
  },
  {
   "cell_type": "code",
   "execution_count": 6,
   "metadata": {},
   "outputs": [
    {
     "name": "stdout",
     "output_type": "stream",
     "text": [
      "Model: ConvNN_2D_Spatial_K_N\n",
      "Epoch 1, Time: 13.556228637695312, Loss: 1.6910624851656082\n",
      "Epoch 1, Accuracy: 47.66%\n",
      "Epoch 2, Time: 13.57313060760498, Loss: 1.4026111598362399\n",
      "Epoch 2, Accuracy: 49.64%\n",
      "Epoch 3, Time: 13.535416841506958, Loss: 1.250063898618264\n",
      "Epoch 3, Accuracy: 53.33%\n",
      "Epoch 4, Time: 13.591224431991577, Loss: 1.1195640307863046\n",
      "Epoch 4, Accuracy: 54.76%\n",
      "Epoch 5, Time: 13.543774604797363, Loss: 0.9829687549330085\n",
      "Epoch 5, Accuracy: 54.29%\n",
      "Epoch 6, Time: 13.530086040496826, Loss: 0.8363122188145548\n",
      "Epoch 6, Accuracy: 54.72%\n",
      "Epoch 7, Time: 13.581610441207886, Loss: 0.6755892151914289\n",
      "Epoch 7, Accuracy: 53.37%\n",
      "Epoch 8, Time: 13.5612473487854, Loss: 0.531845021869063\n",
      "Epoch 8, Accuracy: 53.95%\n",
      "Epoch 9, Time: 13.548374891281128, Loss: 0.4040253220502373\n",
      "Epoch 9, Accuracy: 53.04%\n",
      "Epoch 10, Time: 13.547254085540771, Loss: 0.30600640158671555\n",
      "Epoch 10, Accuracy: 53.43%\n",
      "\n",
      " Average epoch time: 13.55683479309082\n",
      "Accuracy on test set: 53.43%\n"
     ]
    },
    {
     "data": {
      "text/plain": [
       "53.43"
      ]
     },
     "execution_count": 6,
     "metadata": {},
     "output_type": "execute_result"
    }
   ],
   "source": [
    "convNN_2d_spatial_k_n = ConvNN_2D_Spatial_K_N(device='cuda')\n",
    "\n",
    "print(\"Model: \" + convNN_2d_spatial_k_n.name)\n",
    "# Test + Eval\n",
    "criterion = nn.CrossEntropyLoss()\n",
    "optimizer = optim.Adam(convNN_2d_spatial_k_n.parameters(), lr=0.001)\n",
    "num_epochs = 10 \n",
    "train_eval(convNN_2d_spatial_k_n, cifar10.train_loader, cifar10.test_loader, criterion, optimizer, num_epochs, device='cuda')\n",
    "evaluate_accuracy(convNN_2d_spatial_k_n, cifar10.test_loader, device='cuda')\n",
    "\n"
   ]
  },
  {
   "cell_type": "code",
   "execution_count": 7,
   "metadata": {},
   "outputs": [
    {
     "name": "stdout",
     "output_type": "stream",
     "text": [
      "Model: ConvNN_2D_Attn_K_All\n",
      "Epoch 1, Time: 12.304975509643555, Loss: 1.8746154972964235\n",
      "Epoch 1, Accuracy: 37.66%\n",
      "Epoch 2, Time: 12.313775539398193, Loss: 1.6144909921204647\n",
      "Epoch 2, Accuracy: 40.84%\n",
      "Epoch 3, Time: 12.287323713302612, Loss: 1.4976780025855354\n",
      "Epoch 3, Accuracy: 42.81%\n",
      "Epoch 4, Time: 12.285164833068848, Loss: 1.407400556994826\n",
      "Epoch 4, Accuracy: 42.96%\n",
      "Epoch 5, Time: 12.309223651885986, Loss: 1.3220890749750844\n",
      "Epoch 5, Accuracy: 44.6%\n",
      "Epoch 6, Time: 12.288995265960693, Loss: 1.2512646017934355\n",
      "Epoch 6, Accuracy: 43.73%\n",
      "Epoch 7, Time: 12.315001726150513, Loss: 1.178001583689619\n",
      "Epoch 7, Accuracy: 42.72%\n",
      "Epoch 8, Time: 12.3135085105896, Loss: 1.1177286623841356\n",
      "Epoch 8, Accuracy: 44.04%\n",
      "Epoch 9, Time: 12.255964279174805, Loss: 1.0589421316790764\n",
      "Epoch 9, Accuracy: 42.46%\n",
      "Epoch 10, Time: 12.221884489059448, Loss: 1.0056706251543197\n",
      "Epoch 10, Accuracy: 42.82%\n",
      "\n",
      " Average epoch time: 12.289581751823425\n",
      "Accuracy on test set: 42.82%\n"
     ]
    },
    {
     "data": {
      "text/plain": [
       "42.82"
      ]
     },
     "execution_count": 7,
     "metadata": {},
     "output_type": "execute_result"
    }
   ],
   "source": [
    "convNN_2d_attn_k_all = ConvNN_2D_Attn_K_All(device='cuda')\n",
    "\n",
    "print(\"Model: \" + convNN_2d_attn_k_all.name)\n",
    "# Test + Eval\n",
    "criterion = nn.CrossEntropyLoss()\n",
    "optimizer = optim.Adam(convNN_2d_attn_k_all.parameters(), lr=0.001)\n",
    "num_epochs = 10 \n",
    "train_eval(convNN_2d_attn_k_all, cifar10.train_loader, cifar10.test_loader, criterion, optimizer, num_epochs, device='cuda')\n",
    "evaluate_accuracy(convNN_2d_attn_k_all, cifar10.test_loader, device='cuda')\n",
    "\n"
   ]
  },
  {
   "cell_type": "code",
   "execution_count": 8,
   "metadata": {},
   "outputs": [
    {
     "name": "stdout",
     "output_type": "stream",
     "text": [
      "Model: ConvNN_2D_Attn_K_N\n",
      "Epoch 1, Time: 12.151899099349976, Loss: 1.8864333219540395\n",
      "Epoch 1, Accuracy: 44.34%\n",
      "Epoch 2, Time: 12.164640426635742, Loss: 1.4560840418729026\n",
      "Epoch 2, Accuracy: 50.81%\n",
      "Epoch 3, Time: 12.14569091796875, Loss: 1.2864555917737428\n",
      "Epoch 3, Accuracy: 55.16%\n",
      "Epoch 4, Time: 12.123031377792358, Loss: 1.1807537191664166\n",
      "Epoch 4, Accuracy: 56.89%\n",
      "Epoch 5, Time: 12.116861820220947, Loss: 1.0988926575007036\n",
      "Epoch 5, Accuracy: 58.17%\n",
      "Epoch 6, Time: 12.143083572387695, Loss: 1.0239189736678471\n",
      "Epoch 6, Accuracy: 58.83%\n",
      "Epoch 7, Time: 12.125529766082764, Loss: 0.9474678347482706\n",
      "Epoch 7, Accuracy: 58.97%\n",
      "Epoch 8, Time: 12.133567810058594, Loss: 0.873578478117733\n",
      "Epoch 8, Accuracy: 59.38%\n",
      "Epoch 9, Time: 12.14593768119812, Loss: 0.8001510048918712\n",
      "Epoch 9, Accuracy: 58.12%\n",
      "Epoch 10, Time: 12.12956714630127, Loss: 0.7173948454887361\n",
      "Epoch 10, Accuracy: 59.53%\n",
      "\n",
      " Average epoch time: 12.137980961799622\n",
      "Accuracy on test set: 59.78%\n"
     ]
    },
    {
     "data": {
      "text/plain": [
       "59.78"
      ]
     },
     "execution_count": 8,
     "metadata": {},
     "output_type": "execute_result"
    }
   ],
   "source": [
    "convNN_2d_attn_k_n = ConvNN_2D_Attn_K_N(device='cuda')\n",
    "\n",
    "print(\"Model: \" + convNN_2d_attn_k_n.name)\n",
    "# Test + Eval\n",
    "criterion = nn.CrossEntropyLoss()\n",
    "optimizer = optim.Adam(convNN_2d_attn_k_n.parameters(), lr=0.001)\n",
    "num_epochs = 10 \n",
    "train_eval(convNN_2d_attn_k_n, cifar10.train_loader, cifar10.test_loader, criterion, optimizer, num_epochs, device='cuda')\n",
    "evaluate_accuracy(convNN_2d_attn_k_n, cifar10.test_loader, device='cuda')\n",
    "\n"
   ]
  },
  {
   "cell_type": "markdown",
   "metadata": {},
   "source": [
    "### Branching Network "
   ]
  },
  {
   "cell_type": "code",
   "execution_count": 9,
   "metadata": {},
   "outputs": [
    {
     "name": "stdout",
     "output_type": "stream",
     "text": [
      "Model: Branching_ConvNN_2D_K_All\n",
      "Epoch 1, Time: 13.575802087783813, Loss: 1.3938557690824085\n",
      "Epoch 1, Accuracy: 57.64%\n",
      "Epoch 2, Time: 13.505375862121582, Loss: 0.9480760265951571\n",
      "Epoch 2, Accuracy: 66.47%\n",
      "Epoch 3, Time: 13.502833843231201, Loss: 0.5989135276631016\n",
      "Epoch 3, Accuracy: 67.3%\n",
      "Epoch 4, Time: 13.499601364135742, Loss: 0.26462784527665206\n",
      "Epoch 4, Accuracy: 66.4%\n",
      "Epoch 5, Time: 13.519200563430786, Loss: 0.13720897201906004\n",
      "Epoch 5, Accuracy: 64.99%\n",
      "Epoch 6, Time: 13.54466986656189, Loss: 0.11557692979269511\n",
      "Epoch 6, Accuracy: 65.18%\n",
      "Epoch 7, Time: 13.523176193237305, Loss: 0.09067601002895695\n",
      "Epoch 7, Accuracy: 65.06%\n",
      "Epoch 8, Time: 13.533895492553711, Loss: 0.08717451100606861\n",
      "Epoch 8, Accuracy: 65.76%\n",
      "Epoch 9, Time: 13.51442837715149, Loss: 0.08527066202088714\n",
      "Epoch 9, Accuracy: 65.52%\n",
      "Epoch 10, Time: 13.526108503341675, Loss: 0.07608328162624901\n",
      "Epoch 10, Accuracy: 65.4%\n",
      "\n",
      " Average epoch time: 13.52450921535492\n",
      "Accuracy on test set: 65.4%\n"
     ]
    },
    {
     "data": {
      "text/plain": [
       "65.4"
      ]
     },
     "execution_count": 9,
     "metadata": {},
     "output_type": "execute_result"
    }
   ],
   "source": [
    "branchingconvNN_2d_k_all = Branching_ConvNN_2D_K_All(device='cuda')\n",
    "\n",
    "print(\"Model: \" + branchingconvNN_2d_k_all.name)\n",
    "# Test + Eval\n",
    "criterion = nn.CrossEntropyLoss()\n",
    "optimizer = optim.Adam(branchingconvNN_2d_k_all.parameters(), lr=0.001)\n",
    "num_epochs = 10 \n",
    "train_eval(branchingconvNN_2d_k_all, cifar10.train_loader, cifar10.test_loader, criterion, optimizer, num_epochs, device='cuda')\n",
    "evaluate_accuracy(branchingconvNN_2d_k_all, cifar10.test_loader, device='cuda')\n",
    "\n"
   ]
  },
  {
   "cell_type": "code",
   "execution_count": 10,
   "metadata": {},
   "outputs": [
    {
     "name": "stdout",
     "output_type": "stream",
     "text": [
      "Model: Branching_ConvNN_2D_K_N\n",
      "Epoch 1, Time: 13.915631532669067, Loss: 1.388135666127705\n",
      "Epoch 1, Accuracy: 60.83%\n",
      "Epoch 2, Time: 13.959006071090698, Loss: 0.9044485470218122\n",
      "Epoch 2, Accuracy: 67.07%\n",
      "Epoch 3, Time: 13.935547113418579, Loss: 0.5511287615236724\n",
      "Epoch 3, Accuracy: 67.81%\n",
      "Epoch 4, Time: 13.940744400024414, Loss: 0.22909449231441673\n",
      "Epoch 4, Accuracy: 67.27%\n",
      "Epoch 5, Time: 13.948811769485474, Loss: 0.12193156533774531\n",
      "Epoch 5, Accuracy: 67.53%\n",
      "Epoch 6, Time: 13.936288595199585, Loss: 0.10417204385068353\n",
      "Epoch 6, Accuracy: 66.78%\n",
      "Epoch 7, Time: 13.920527219772339, Loss: 0.09580998178488097\n",
      "Epoch 7, Accuracy: 67.56%\n",
      "Epoch 8, Time: 13.906555891036987, Loss: 0.0752239358932068\n",
      "Epoch 8, Accuracy: 67.33%\n",
      "Epoch 9, Time: 13.932782888412476, Loss: 0.06995766882664378\n",
      "Epoch 9, Accuracy: 65.44%\n",
      "Epoch 10, Time: 13.880975008010864, Loss: 0.07653173721378165\n",
      "Epoch 10, Accuracy: 66.5%\n",
      "\n",
      " Average epoch time: 13.927687048912048\n",
      "Accuracy on test set: 66.32%\n"
     ]
    },
    {
     "data": {
      "text/plain": [
       "66.32"
      ]
     },
     "execution_count": 10,
     "metadata": {},
     "output_type": "execute_result"
    }
   ],
   "source": [
    "branchingconvNN_2d_k_n = Branching_ConvNN_2D_K_N(device='cuda')\n",
    "\n",
    "print(\"Model: \" + branchingconvNN_2d_k_n.name)\n",
    "# Test + Eval\n",
    "criterion = nn.CrossEntropyLoss()\n",
    "optimizer = optim.Adam(branchingconvNN_2d_k_n.parameters(), lr=0.001)\n",
    "num_epochs = 10 \n",
    "train_eval(branchingconvNN_2d_k_n, cifar10.train_loader, cifar10.test_loader, criterion, optimizer, num_epochs, device='cuda')\n",
    "evaluate_accuracy(branchingconvNN_2d_k_n, cifar10.test_loader, device='cuda')\n",
    "\n"
   ]
  },
  {
   "cell_type": "code",
   "execution_count": 11,
   "metadata": {},
   "outputs": [
    {
     "name": "stdout",
     "output_type": "stream",
     "text": [
      "Model: Branching_ConvNN_2D_Spatial_K_N\n",
      "Epoch 1, Time: 14.131187438964844, Loss: 1.4413712685522826\n",
      "Epoch 1, Accuracy: 58.93%\n",
      "Epoch 2, Time: 14.13994312286377, Loss: 0.9531880536347704\n",
      "Epoch 2, Accuracy: 66.39%\n",
      "Epoch 3, Time: 14.162186622619629, Loss: 0.5896137071692426\n",
      "Epoch 3, Accuracy: 66.96%\n",
      "Epoch 4, Time: 14.135172605514526, Loss: 0.2410341315257275\n",
      "Epoch 4, Accuracy: 64.97%\n",
      "Epoch 5, Time: 14.157921552658081, Loss: 0.12326306135743818\n",
      "Epoch 5, Accuracy: 65.24%\n",
      "Epoch 6, Time: 14.103219270706177, Loss: 0.10124407617537223\n",
      "Epoch 6, Accuracy: 64.95%\n",
      "Epoch 7, Time: 14.108680725097656, Loss: 0.08970436647289035\n",
      "Epoch 7, Accuracy: 66.34%\n",
      "Epoch 8, Time: 14.138535022735596, Loss: 0.06901152649506703\n",
      "Epoch 8, Accuracy: 65.83%\n",
      "Epoch 9, Time: 14.134079694747925, Loss: 0.07107368991186228\n",
      "Epoch 9, Accuracy: 66.02%\n",
      "Epoch 10, Time: 14.137394905090332, Loss: 0.06811738096413461\n",
      "Epoch 10, Accuracy: 65.96%\n",
      "\n",
      " Average epoch time: 14.134832096099853\n",
      "Accuracy on test set: 65.96%\n"
     ]
    },
    {
     "data": {
      "text/plain": [
       "65.96"
      ]
     },
     "execution_count": 11,
     "metadata": {},
     "output_type": "execute_result"
    }
   ],
   "source": [
    "branchingconvNN_2d_spatial_k_n = Branching_ConvNN_2D_Spatial_K_N(device='cuda')\n",
    "\n",
    "print(\"Model: \" + branchingconvNN_2d_spatial_k_n.name)\n",
    "# Test + Eval\n",
    "criterion = nn.CrossEntropyLoss()\n",
    "optimizer = optim.Adam(branchingconvNN_2d_spatial_k_n.parameters(), lr=0.001)\n",
    "num_epochs = 10 \n",
    "train_eval(branchingconvNN_2d_spatial_k_n, cifar10.train_loader, cifar10.test_loader, criterion, optimizer, num_epochs, device='cuda')\n",
    "evaluate_accuracy(branchingconvNN_2d_spatial_k_n, cifar10.test_loader, device='cuda')\n",
    "\n"
   ]
  },
  {
   "cell_type": "code",
   "execution_count": 12,
   "metadata": {},
   "outputs": [
    {
     "name": "stdout",
     "output_type": "stream",
     "text": [
      "Model: Branching_ConvNN_2D_Attn_K_N\n",
      "Epoch 1, Time: 12.763315200805664, Loss: 1.4576281647548042\n",
      "Epoch 1, Accuracy: 58.67%\n",
      "Epoch 2, Time: 12.770260095596313, Loss: 0.9790841950784863\n",
      "Epoch 2, Accuracy: 66.37%\n",
      "Epoch 3, Time: 12.773241758346558, Loss: 0.6630122033721956\n",
      "Epoch 3, Accuracy: 67.09%\n",
      "Epoch 4, Time: 12.76193618774414, Loss: 0.33411315659923324\n",
      "Epoch 4, Accuracy: 66.09%\n",
      "Epoch 5, Time: 12.798081159591675, Loss: 0.15716833673903477\n",
      "Epoch 5, Accuracy: 66.08%\n",
      "Epoch 6, Time: 12.786611080169678, Loss: 0.11505831275290102\n",
      "Epoch 6, Accuracy: 66.29%\n",
      "Epoch 7, Time: 12.78926944732666, Loss: 0.10440251267696148\n",
      "Epoch 7, Accuracy: 66.79%\n",
      "Epoch 8, Time: 12.775165319442749, Loss: 0.08550921166741439\n",
      "Epoch 8, Accuracy: 65.66%\n",
      "Epoch 9, Time: 12.773926019668579, Loss: 0.08335006763682822\n",
      "Epoch 9, Accuracy: 66.52%\n",
      "Epoch 10, Time: 12.767125368118286, Loss: 0.07089319899800303\n",
      "Epoch 10, Accuracy: 67.6%\n",
      "\n",
      " Average epoch time: 12.77589316368103\n",
      "Accuracy on test set: 67.4%\n"
     ]
    },
    {
     "data": {
      "text/plain": [
       "67.4"
      ]
     },
     "execution_count": 12,
     "metadata": {},
     "output_type": "execute_result"
    }
   ],
   "source": [
    "branchingconvNN_2d_attn_k_n = Branching_ConvNN_2D_Attn_K_N(device='cuda')\n",
    "\n",
    "print(\"Model: \" + branchingconvNN_2d_attn_k_n.name)\n",
    "# Test + Eval\n",
    "criterion = nn.CrossEntropyLoss()\n",
    "optimizer = optim.Adam(branchingconvNN_2d_attn_k_n.parameters(), lr=0.001)\n",
    "num_epochs = 10 \n",
    "train_eval(branchingconvNN_2d_attn_k_n, cifar10.train_loader, cifar10.test_loader, criterion, optimizer, num_epochs, device='cuda')\n",
    "evaluate_accuracy(branchingconvNN_2d_attn_k_n, cifar10.test_loader, device='cuda')\n",
    "\n"
   ]
  },
  {
   "cell_type": "code",
   "execution_count": null,
   "metadata": {},
   "outputs": [],
   "source": []
  }
 ],
 "metadata": {
  "kernelspec": {
   "display_name": "Python 3.12",
   "language": "python",
   "name": "python3.12"
  },
  "language_info": {
   "codemirror_mode": {
    "name": "ipython",
    "version": 3
   },
   "file_extension": ".py",
   "mimetype": "text/x-python",
   "name": "python",
   "nbconvert_exporter": "python",
   "pygments_lexer": "ipython3",
   "version": "3.12.3"
  }
 },
 "nbformat": 4,
 "nbformat_minor": 4
}
