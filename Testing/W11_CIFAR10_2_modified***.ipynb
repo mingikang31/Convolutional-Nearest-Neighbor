{
 "cells": [
  {
   "cell_type": "markdown",
   "metadata": {},
   "source": [
    "# ConvNN Attention Test *** THIS IS TABLE 1 IN LATEX PAPER\n",
    "## I. 2D Training for testing with CIFAR10 Dataset"
   ]
  },
  {
   "cell_type": "code",
   "execution_count": null,
   "metadata": {},
   "outputs": [],
   "source": [
    "# Torch\n",
    "import torch \n",
    "import torch.nn as nn\n",
    "import torch.nn.functional as F\n",
    "from torch import optim \n",
    "\n",
    "\n",
    "# Train + Data \n",
    "import sys \n",
    "sys.path.append('../Layers')\n",
    "from Conv1d_NN_spatial import * \n",
    "from Conv2d_NN_spatial import * \n",
    "\n",
    "sys.path.append('../Data')\n",
    "from CIFAR10 import * \n",
    "\n",
    "\n",
    "sys.path.append('../Models')\n",
    "from classification_models import *\n",
    "\n",
    "sys.path.append('../Train')\n",
    "from train2d import * \n"
   ]
  },
  {
   "cell_type": "code",
   "execution_count": null,
   "metadata": {},
   "outputs": [],
   "source": [
    "cifar10 = CIFAR10()"
   ]
  },
  {
   "cell_type": "markdown",
   "metadata": {},
   "source": [
    "### Single Layer Models"
   ]
  },
  {
   "cell_type": "code",
   "execution_count": null,
   "metadata": {},
   "outputs": [],
   "source": [
    "# CNN\n",
    "CNN_1 = CNN(device='cuda')\n",
    "\n",
    "print(\"Model: \" + CNN_1.name)\n",
    "\n",
    "# Test + Eval\n",
    "criterion = nn.CrossEntropyLoss()\n",
    "optimizer = optim.Adam(CNN_1.parameters(), lr=0.001)\n",
    "num_epochs = 10 \n",
    "train_eval(CNN_1, cifar10.train_loader, cifar10.test_loader, criterion, optimizer, num_epochs, device='cuda')\n",
    "evaluate_accuracy(CNN_1, cifar10.test_loader, device='cuda')\n"
   ]
  },
  {
   "cell_type": "code",
   "execution_count": null,
   "metadata": {},
   "outputs": [],
   "source": [
    "convNN_2d_k_all = ConvNN_2D_K_All(device='cuda')\n",
    "\n",
    "print(\"Model: \" + convNN_2d_k_all.name)\n",
    "# Test + Eval\n",
    "criterion = nn.CrossEntropyLoss()\n",
    "optimizer = optim.Adam(convNN_2d_k_all.parameters(), lr=0.001)\n",
    "num_epochs = 10 \n",
    "train_eval(convNN_2d_k_all, cifar10.train_loader, cifar10.test_loader, criterion, optimizer, device='cuda')\n",
    "evaluate_accuracy(convNN_2d_k_all, cifar10.test_loader, device='cuda')\n",
    "\n"
   ]
  },
  {
   "cell_type": "code",
   "execution_count": null,
   "metadata": {},
   "outputs": [],
   "source": [
    "convNN_2d_k_n = ConvNN_2D_K_N(device='cuda')\n",
    "\n",
    "print(\"Model: \" + convNN_2d_k_n.name)\n",
    "# Test + Eval\n",
    "criterion = nn.CrossEntropyLoss()\n",
    "optimizer = optim.Adam(convNN_2d_k_n.parameters(), lr=0.001)\n",
    "num_epochs = 10 \n",
    "train_eval(convNN_2d_k_n, cifar10.train_loader, cifar10.test_loader, criterion, optimizer, num_epochs, device='cuda')\n",
    "evaluate_accuracy(convNN_2d_k_n, cifar10.test_loader, device='cuda')\n",
    "\n"
   ]
  },
  {
   "cell_type": "code",
   "execution_count": null,
   "metadata": {},
   "outputs": [],
   "source": [
    "convNN_2d_spatial_k_n = ConvNN_2D_Spatial_K_N(device='cuda')\n",
    "\n",
    "print(\"Model: \" + convNN_2d_spatial_k_n.name)\n",
    "# Test + Eval\n",
    "criterion = nn.CrossEntropyLoss()\n",
    "optimizer = optim.Adam(convNN_2d_spatial_k_n.parameters(), lr=0.001)\n",
    "num_epochs = 10 \n",
    "train_eval(convNN_2d_spatial_k_n, cifar10.train_loader, cifar10.test_loader, criterion, optimizer, num_epochs, device='cuda')\n",
    "evaluate_accuracy(convNN_2d_spatial_k_n, cifar10.test_loader, device='cuda')\n",
    "\n"
   ]
  },
  {
   "cell_type": "code",
   "execution_count": null,
   "metadata": {},
   "outputs": [],
   "source": [
    "convNN_2d_attn_k_all = ConvNN_2D_Attn_K_All(device='cuda')\n",
    "\n",
    "print(\"Model: \" + convNN_2d_attn_k_all.name)\n",
    "# Test + Eval\n",
    "criterion = nn.CrossEntropyLoss()\n",
    "optimizer = optim.Adam(convNN_2d_attn_k_all.parameters(), lr=0.001)\n",
    "num_epochs = 10 \n",
    "train_eval(convNN_2d_attn_k_all, cifar10.train_loader, cifar10.test_loader, criterion, optimizer, num_epochs, device='cuda')\n",
    "evaluate_accuracy(convNN_2d_attn_k_all, cifar10.test_loader, device='cuda')\n",
    "\n"
   ]
  },
  {
   "cell_type": "code",
   "execution_count": null,
   "metadata": {},
   "outputs": [],
   "source": [
    "convNN_2d_attn_k_n = ConvNN_2D_Attn_K_N(device='cuda')\n",
    "\n",
    "print(\"Model: \" + convNN_2d_attn_k_n.name)\n",
    "# Test + Eval\n",
    "criterion = nn.CrossEntropyLoss()\n",
    "optimizer = optim.Adam(convNN_2d_attn_k_n.parameters(), lr=0.001)\n",
    "num_epochs = 10 \n",
    "train_eval(convNN_2d_attn_k_n, cifar10.train_loader, cifar10.test_loader, criterion, optimizer, num_epochs, device='cuda')\n",
    "evaluate_accuracy(convNN_2d_attn_k_n, cifar10.test_loader, device='cuda')\n",
    "\n"
   ]
  },
  {
   "cell_type": "code",
   "execution_count": null,
   "metadata": {},
   "outputs": [],
   "source": [
    "convNN_2d_attn_v_k_all = ConvNN_2D_Attn_V_K_All(device='cuda')\n",
    "\n",
    "print(\"Model: \" + convNN_2d_attn_v_k_all.name)\n",
    "# Test + Eval\n",
    "criterion = nn.CrossEntropyLoss()\n",
    "optimizer = optim.Adam(convNN_2d_attn_v_k_all.parameters(), lr=0.001)\n",
    "num_epochs = 10 \n",
    "train_eval(convNN_2d_attn_v_k_all, cifar10.train_loader, cifar10.test_loader, criterion, optimizer, num_epochs, device='cuda')\n",
    "evaluate_accuracy(convNN_2d_attn_v_k_all, cifar10.test_loader, device='cuda')\n",
    "\n"
   ]
  },
  {
   "cell_type": "code",
   "execution_count": null,
   "metadata": {},
   "outputs": [],
   "source": [
    "convNN_2d_attn_v_k_n = ConvNN_2D_Attn_V_K_N(device='cuda')\n",
    "\n",
    "print(\"Model: \" + convNN_2d_attn_v_k_n.name)\n",
    "# Test + Eval\n",
    "criterion = nn.CrossEntropyLoss()\n",
    "optimizer = optim.Adam(convNN_2d_attn_v_k_n.parameters(), lr=0.001)\n",
    "num_epochs = 10 \n",
    "train_eval(convNN_2d_attn_v_k_n, cifar10.train_loader, cifar10.test_loader, criterion, optimizer, num_epochs, device='cuda')\n",
    "evaluate_accuracy(convNN_2d_attn_v_k_n, cifar10.test_loader, device='cuda')\n",
    "\n"
   ]
  },
  {
   "cell_type": "code",
   "execution_count": null,
   "metadata": {},
   "outputs": [],
   "source": [
    "attention_1_heads = Attention_2D(device='cuda')\n",
    "print(attention_1_heads.num_heads)\n",
    "\n",
    "print(\"Model: \" + attention_1_heads.name, \", Head = 1\")\n",
    "# Test + Eval\n",
    "criterion = nn.CrossEntropyLoss()\n",
    "optimizer = optim.Adam(attention_1_heads.parameters(), lr=0.001)\n",
    "num_epochs = 10\n",
    "train_eval(attention_1_heads, cifar10.train_loader, cifar10.test_loader, criterion, optimizer, num_epochs, device='cuda')\n",
    "evaluate_accuracy(attention_1_heads, cifar10.test_loader, device='cuda')"
   ]
  },
  {
   "cell_type": "code",
   "execution_count": null,
   "metadata": {},
   "outputs": [],
   "source": [
    "attention_2_heads = Attention_2D(device='cuda', num_heads=2)\n",
    "print(attention_2_heads.num_heads)\n",
    "\n",
    "print(\"Model: \" + attention_2_heads.name, \", Head = 2\")\n",
    "# Test + Eval\n",
    "criterion = nn.CrossEntropyLoss()\n",
    "optimizer = optim.Adam(attention_2_heads.parameters(), lr=0.001)\n",
    "num_epochs = 10\n",
    "train_eval(attention_2_heads, cifar10.train_loader, cifar10.test_loader, criterion, optimizer, num_epochs, device='cuda')\n",
    "evaluate_accuracy(attention_2_heads, cifar10.test_loader, device='cuda')"
   ]
  },
  {
   "cell_type": "code",
   "execution_count": null,
   "metadata": {},
   "outputs": [],
   "source": [
    "attention_4_heads = Attention_2D(device='cuda', num_heads=4)\n",
    "print(attention_4_heads.num_heads)\n",
    "\n",
    "print(\"Model: \" + attention_4_heads.name, \", Head = 4\")\n",
    "# Test + Eval\n",
    "criterion = nn.CrossEntropyLoss()\n",
    "optimizer = optim.Adam(attention_4_heads.parameters(), lr=0.001)\n",
    "num_epochs = 10\n",
    "train_eval(attention_4_heads, cifar10.train_loader, cifar10.test_loader, criterion, optimizer, num_epochs, device='cuda')\n",
    "evaluate_accuracy(attention_4_heads, cifar10.test_loader, device='cuda')"
   ]
  },
  {
   "cell_type": "code",
   "execution_count": null,
   "metadata": {},
   "outputs": [],
   "source": [
    "attention_8_heads = Attention_2D(device='cuda', num_heads=8)\n",
    "print(attention_8_heads.num_heads)\n",
    "\n",
    "print(\"Model: \" + attention_8_heads.name, \", Head = 8\")\n",
    "# Test + Eval\n",
    "criterion = nn.CrossEntropyLoss()\n",
    "optimizer = optim.Adam(attention_8_heads.parameters(), lr=0.001)\n",
    "num_epochs = 10\n",
    "train_eval(attention_8_heads, cifar10.train_loader, cifar10.test_loader, criterion, optimizer, num_epochs, device='cuda')\n",
    "evaluate_accuracy(attention_8_heads, cifar10.test_loader, device='cuda')"
   ]
  },
  {
   "cell_type": "code",
   "execution_count": null,
   "metadata": {},
   "outputs": [],
   "source": [
    "attention_16_heads = Attention_2D(device='cuda', num_heads=16)\n",
    "print(attention_16_heads.num_heads)\n",
    "\n",
    "print(\"Model: \" + attention_16_heads.name, \", Head = 16\")\n",
    "# Test + Eval\n",
    "criterion = nn.CrossEntropyLoss()\n",
    "optimizer = optim.Adam(attention_16_heads.parameters(), lr=0.001)\n",
    "num_epochs = 10\n",
    "train_eval(attention_16_heads, cifar10.train_loader, cifar10.test_loader, criterion, optimizer, num_epochs, device='cuda')\n",
    "evaluate_accuracy(attention_16_heads, cifar10.test_loader, device='cuda')"
   ]
  },
  {
   "cell_type": "code",
   "execution_count": null,
   "metadata": {},
   "outputs": [],
   "source": [
    "attention_32_heads = Attention_2D(device='cuda', num_heads=32)\n",
    "print(attention_32_heads.num_heads)\n",
    "\n",
    "print(\"Model: \" + attention_32_heads.name, \", Head = 32\")\n",
    "# Test + Eval\n",
    "criterion = nn.CrossEntropyLoss()\n",
    "optimizer = optim.Adam(attention_32_heads.parameters(), lr=0.001)\n",
    "num_epochs = 10\n",
    "train_eval(attention_32_heads, cifar10.train_loader, cifar10.test_loader, criterion, optimizer, num_epochs, device='cuda')\n",
    "evaluate_accuracy(attention_32_heads, cifar10.test_loader, device='cuda')"
   ]
  },
  {
   "cell_type": "markdown",
   "metadata": {},
   "source": [
    "### Branching Network \n",
    "- Attention with 4 heads "
   ]
  },
  {
   "cell_type": "markdown",
   "metadata": {},
   "source": [
    "### i. Conv2d + ConvNN"
   ]
  },
  {
   "cell_type": "code",
   "execution_count": null,
   "metadata": {},
   "outputs": [],
   "source": [
    "b_conv2d_convnn_k_all = B_Conv2d_ConvNN_K_All(device='cuda')\n",
    "\n",
    "print(\"Model: \" + b_conv2d_convnn_k_all.name)\n",
    "# Test + Eval\n",
    "criterion = nn.CrossEntropyLoss()\n",
    "optimizer = optim.Adam(b_conv2d_convnn_k_all.parameters(), lr=0.001)\n",
    "num_epochs = 10 \n",
    "train_eval(b_conv2d_convnn_k_all, cifar10.train_loader, cifar10.test_loader, criterion, optimizer, num_epochs, device='cuda')\n",
    "evaluate_accuracy(b_conv2d_convnn_k_all, cifar10.test_loader, device='cuda')\n"
   ]
  },
  {
   "cell_type": "code",
   "execution_count": null,
   "metadata": {},
   "outputs": [],
   "source": [
    "b_conv2d_convnn_k_n = B_Conv2d_ConvNN_K_N(device='cuda')\n",
    "\n",
    "print(\"Model: \" + b_conv2d_convnn_k_n.name)\n",
    "# Test + Eval\n",
    "criterion = nn.CrossEntropyLoss()\n",
    "optimizer = optim.Adam(b_conv2d_convnn_k_n.parameters(), lr=0.001)\n",
    "num_epochs = 10 \n",
    "train_eval(b_conv2d_convnn_k_n, cifar10.train_loader, cifar10.test_loader, criterion, optimizer, num_epochs, device='cuda')\n",
    "evaluate_accuracy(b_conv2d_convnn_k_n, cifar10.test_loader, device='cuda')\n"
   ]
  },
  {
   "cell_type": "code",
   "execution_count": null,
   "metadata": {},
   "outputs": [],
   "source": [
    "b_conv2d_convnn_spatial_k_all = B_Conv2d_ConvNN_Spatial_K_N(device='cuda')\n",
    "\n",
    "print(\"Model: \" + b_conv2d_convnn_spatial_k_all.name)\n",
    "# Test + Eval\n",
    "criterion = nn.CrossEntropyLoss()\n",
    "optimizer = optim.Adam(b_conv2d_convnn_spatial_k_all.parameters(), lr=0.001)\n",
    "num_epochs = 10 \n",
    "train_eval(b_conv2d_convnn_spatial_k_all, cifar10.train_loader, cifar10.test_loader, criterion, optimizer, num_epochs, device='cuda')\n",
    "evaluate_accuracy(b_conv2d_convnn_spatial_k_all, cifar10.test_loader, device='cuda')\n"
   ]
  },
  {
   "cell_type": "code",
   "execution_count": null,
   "metadata": {},
   "outputs": [],
   "source": [
    "b_conv2d_convnn_attn_k_n = B_Conv2d_ConvNN_Attn_K_N(device='cuda')\n",
    "\n",
    "print(\"Model: \" + b_conv2d_convnn_attn_k_n.name)\n",
    "# Test + Eval\n",
    "criterion = nn.CrossEntropyLoss()\n",
    "optimizer = optim.Adam(b_conv2d_convnn_attn_k_n.parameters(), lr=0.001)\n",
    "num_epochs = 10 \n",
    "train_eval(b_conv2d_convnn_attn_k_n, cifar10.train_loader, cifar10.test_loader, criterion, optimizer, num_epochs, device='cuda')\n",
    "evaluate_accuracy(b_conv2d_convnn_attn_k_n, cifar10.test_loader, device='cuda')\n"
   ]
  },
  {
   "cell_type": "code",
   "execution_count": null,
   "metadata": {},
   "outputs": [],
   "source": [
    "b_conv2d_convnn_attn_v_k_n = B_Conv2d_ConvNN_Attn_V_K_N(device='cuda')\n",
    "\n",
    "print(\"Model: \" + b_conv2d_convnn_attn_v_k_n.name)\n",
    "# Test + Eval\n",
    "criterion = nn.CrossEntropyLoss()\n",
    "optimizer = optim.Adam(b_conv2d_convnn_attn_v_k_n.parameters(), lr=0.001)\n",
    "num_epochs = 10 \n",
    "train_eval(b_conv2d_convnn_attn_v_k_n, cifar10.train_loader, cifar10.test_loader, criterion, optimizer, num_epochs, device='cuda')\n",
    "evaluate_accuracy(b_conv2d_convnn_attn_v_k_n, cifar10.test_loader, device='cuda')\n"
   ]
  },
  {
   "cell_type": "markdown",
   "metadata": {},
   "source": [
    "### ii. Attention + ConvNN"
   ]
  },
  {
   "cell_type": "code",
   "execution_count": null,
   "metadata": {},
   "outputs": [],
   "source": [
    "b_attention_convnn_k_all = B_Attention_ConvNN_K_All(device='cuda')\n",
    "\n",
    "print(\"Model: \" + b_attention_convnn_k_all.name)\n",
    "# Test + Eval\n",
    "criterion = nn.CrossEntropyLoss()\n",
    "optimizer = optim.Adam(b_attention_convnn_k_all.parameters(), lr=0.001)\n",
    "num_epochs = 10 \n",
    "train_eval(b_attention_convnn_k_all, cifar10.train_loader, cifar10.test_loader, criterion, optimizer, num_epochs, device='cuda')\n",
    "evaluate_accuracy(b_attention_convnn_k_all, cifar10.test_loader, device='cuda')\n"
   ]
  },
  {
   "cell_type": "code",
   "execution_count": null,
   "metadata": {},
   "outputs": [],
   "source": [
    "b_attention_convnn_k_n = B_Attention_ConvNN_K_N(device='cuda')\n",
    "\n",
    "print(\"Model: \" + b_attention_convnn_k_n.name)\n",
    "# Test + Eval\n",
    "criterion = nn.CrossEntropyLoss()\n",
    "optimizer = optim.Adam(b_attention_convnn_k_n.parameters(), lr=0.001)\n",
    "num_epochs = 10 \n",
    "train_eval(b_attention_convnn_k_n, cifar10.train_loader, cifar10.test_loader, criterion, optimizer, num_epochs, device='cuda')\n",
    "evaluate_accuracy(b_attention_convnn_k_n, cifar10.test_loader, device='cuda')\n"
   ]
  },
  {
   "cell_type": "code",
   "execution_count": null,
   "metadata": {},
   "outputs": [],
   "source": [
    "b_attention_convnn_spatial_k_n = B_Attention_ConvNN_Spatial_K_N(device='cuda')\n",
    "\n",
    "print(\"Model: \" + b_attention_convnn_spatial_k_n.name)\n",
    "# Test + Eval\n",
    "criterion = nn.CrossEntropyLoss()\n",
    "optimizer = optim.Adam(b_attention_convnn_spatial_k_n.parameters(), lr=0.001)\n",
    "num_epochs = 10 \n",
    "train_eval(b_attention_convnn_spatial_k_n, cifar10.train_loader, cifar10.test_loader, criterion, optimizer, num_epochs, device='cuda')\n",
    "evaluate_accuracy(b_attention_convnn_spatial_k_n, cifar10.test_loader, device='cuda')\n"
   ]
  },
  {
   "cell_type": "code",
   "execution_count": null,
   "metadata": {},
   "outputs": [],
   "source": [
    "b_attention_convnn_attn_k_n = B_Attention_ConvNN_Attn_K_N(device='cuda')\n",
    "\n",
    "print(\"Model: \" + b_attention_convnn_attn_k_n.name)\n",
    "# Test + Eval\n",
    "criterion = nn.CrossEntropyLoss()\n",
    "optimizer = optim.Adam(b_attention_convnn_attn_k_n.parameters(), lr=0.001)\n",
    "num_epochs = 10 \n",
    "train_eval(b_attention_convnn_attn_k_n, cifar10.train_loader, cifar10.test_loader, criterion, optimizer, num_epochs, device='cuda')\n",
    "evaluate_accuracy(b_attention_convnn_attn_k_n, cifar10.test_loader, device='cuda')\n"
   ]
  },
  {
   "cell_type": "code",
   "execution_count": null,
   "metadata": {},
   "outputs": [],
   "source": [
    "b_attention_convnn_attn_v_k_n = B_Attention_ConvNN_Attn_V_K_N(device='cuda')\n",
    "\n",
    "print(\"Model: \" + b_attention_convnn_attn_v_k_n.name)\n",
    "# Test + Eval\n",
    "criterion = nn.CrossEntropyLoss()\n",
    "optimizer = optim.Adam(b_attention_convnn_attn_v_k_n.parameters(), lr=0.001)\n",
    "num_epochs = 10 \n",
    "train_eval(b_attention_convnn_attn_v_k_n, cifar10.train_loader, cifar10.test_loader, criterion, optimizer, num_epochs, device='cuda')\n",
    "evaluate_accuracy(b_attention_convnn_attn_v_k_n, cifar10.test_loader, device='cuda')\n"
   ]
  },
  {
   "cell_type": "code",
   "execution_count": null,
   "metadata": {},
   "outputs": [],
   "source": [
    "b_attention_conv2d = B_Attention_Conv2d(device='cuda')\n",
    "\n",
    "print(\"Model: \" + b_attention_conv2d.name)\n",
    "# Test + Eval\n",
    "criterion = nn.CrossEntropyLoss()\n",
    "optimizer = optim.Adam(b_attention_conv2d.parameters(), lr=0.001)\n",
    "num_epochs = 10 \n",
    "train_eval(b_attention_conv2d, cifar10.train_loader, cifar10.test_loader, criterion, optimizer, num_epochs, device='cuda')\n",
    "evaluate_accuracy(b_attention_conv2d, cifar10.test_loader, device='cuda')\n"
   ]
  }
 ],
 "metadata": {
  "kernelspec": {
   "display_name": "Python 3.12",
   "language": "python",
   "name": "python3.12"
  },
  "language_info": {
   "codemirror_mode": {
    "name": "ipython",
    "version": 3
   },
   "file_extension": ".py",
   "mimetype": "text/x-python",
   "name": "python",
   "nbconvert_exporter": "python",
   "pygments_lexer": "ipython3",
   "version": "3.12.3"
  }
 },
 "nbformat": 4,
 "nbformat_minor": 4
}
