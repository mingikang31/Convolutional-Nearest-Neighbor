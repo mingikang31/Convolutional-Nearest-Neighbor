{
 "cells": [
  {
   "cell_type": "markdown",
   "metadata": {},
   "source": [
    "# ConvNN Attention Test *** THIS IS TABLE 1 IN LATEX PAPER\n",
    "## I. 2D Training for testing with CIFAR10 Dataset"
   ]
  },
  {
   "cell_type": "code",
   "execution_count": 1,
   "metadata": {},
   "outputs": [],
   "source": [
    "# Torch\n",
    "import torch \n",
    "import torch.nn as nn\n",
    "import torch.nn.functional as F\n",
    "from torch import optim \n",
    "\n",
    "\n",
    "# Train + Data \n",
    "import sys \n",
    "sys.path.append('../Layers')\n",
    "from Conv1d_NN_spatial import * \n",
    "from Conv2d_NN_spatial import * \n",
    "\n",
    "sys.path.append('../Data')\n",
    "from CIFAR10 import * \n",
    "\n",
    "\n",
    "sys.path.append('../Models')\n",
    "from classification_models import *\n",
    "\n",
    "sys.path.append('../Train')\n",
    "from train2d import * \n"
   ]
  },
  {
   "cell_type": "code",
   "execution_count": 2,
   "metadata": {},
   "outputs": [
    {
     "name": "stdout",
     "output_type": "stream",
     "text": [
      "Files already downloaded and verified\n",
      "Files already downloaded and verified\n"
     ]
    }
   ],
   "source": [
    "cifar10 = CIFAR10()"
   ]
  },
  {
   "cell_type": "markdown",
   "metadata": {},
   "source": [
    "### Single Layer Models"
   ]
  },
  {
   "cell_type": "code",
   "execution_count": 6,
   "metadata": {},
   "outputs": [
    {
     "name": "stdout",
     "output_type": "stream",
     "text": [
      "Model: CNN\n",
      "Epoch 1, Time: 10.766703128814697, Loss: 1.3597786498953923\n",
      "Epoch 1, Accuracy: 61.66%\n",
      "Epoch 2, Time: 10.646032810211182, Loss: 0.8049225470294123\n",
      "Epoch 2, Accuracy: 66.19%\n",
      "Epoch 3, Time: 10.572030544281006, Loss: 0.3843068824818982\n",
      "Epoch 3, Accuracy: 65.97%\n",
      "Epoch 4, Time: 10.632356405258179, Loss: 0.10581319385191516\n",
      "Epoch 4, Accuracy: 64.25%\n",
      "Epoch 5, Time: 10.566162347793579, Loss: 0.05461030242169071\n",
      "Epoch 5, Accuracy: 64.75%\n",
      "Epoch 6, Time: 10.517343759536743, Loss: 0.046732790752366436\n",
      "Epoch 6, Accuracy: 63.94%\n",
      "Epoch 7, Time: 10.578762769699097, Loss: 0.043507453102274274\n",
      "Epoch 7, Accuracy: 64.44%\n",
      "Epoch 8, Time: 10.49601697921753, Loss: 0.03585292707642337\n",
      "Epoch 8, Accuracy: 64.0%\n",
      "Epoch 9, Time: 10.564571142196655, Loss: 0.03727994181240773\n",
      "Epoch 9, Accuracy: 63.43%\n",
      "Epoch 10, Time: 10.506558895111084, Loss: 0.027644245200814283\n",
      "Epoch 10, Accuracy: 63.49%\n",
      "\n",
      " Average epoch time: 10.584653878211975\n",
      "Accuracy on test set: 63.49%\n"
     ]
    },
    {
     "data": {
      "text/plain": [
       "63.49"
      ]
     },
     "execution_count": 6,
     "metadata": {},
     "output_type": "execute_result"
    }
   ],
   "source": [
    "# CNN\n",
    "CNN_1 = CNN(device='cuda')\n",
    "\n",
    "print(\"Model: \" + CNN_1.name)\n",
    "\n",
    "# Test + Eval\n",
    "criterion = nn.CrossEntropyLoss()\n",
    "optimizer = optim.Adam(CNN_1.parameters(), lr=0.001)\n",
    "num_epochs = 10 \n",
    "train_eval(CNN_1, cifar10.train_loader, cifar10.test_loader, criterion, optimizer, num_epochs, device='cuda')\n",
    "evaluate_accuracy(CNN_1, cifar10.test_loader, device='cuda')\n"
   ]
  },
  {
   "cell_type": "code",
   "execution_count": 7,
   "metadata": {},
   "outputs": [
    {
     "name": "stdout",
     "output_type": "stream",
     "text": [
      "Model: ConvNN_2D_K_All\n",
      "Epoch 1, Time: 12.090850830078125, Loss: 1.7346671278519399\n",
      "Epoch 1, Accuracy: 42.24%\n",
      "Epoch 2, Time: 11.982917070388794, Loss: 1.5000187303404064\n",
      "Epoch 2, Accuracy: 44.09%\n",
      "Epoch 3, Time: 11.949959754943848, Loss: 1.369475000654645\n",
      "Epoch 3, Accuracy: 49.99%\n",
      "Epoch 4, Time: 11.936784029006958, Loss: 1.2035571777302285\n",
      "Epoch 4, Accuracy: 52.01%\n",
      "Epoch 5, Time: 11.896512508392334, Loss: 1.0392676875414446\n",
      "Epoch 5, Accuracy: 52.2%\n",
      "Epoch 6, Time: 11.880327701568604, Loss: 0.8709099721115874\n",
      "Epoch 6, Accuracy: 52.48%\n",
      "Epoch 7, Time: 11.96154236793518, Loss: 0.6998954318902072\n",
      "Epoch 7, Accuracy: 51.69%\n",
      "Epoch 8, Time: 11.881554126739502, Loss: 0.544415828212143\n",
      "Epoch 8, Accuracy: 51.02%\n",
      "Epoch 9, Time: 11.87882661819458, Loss: 0.4321105586140967\n",
      "Epoch 9, Accuracy: 50.79%\n",
      "Epoch 10, Time: 11.912671566009521, Loss: 0.34714976031228406\n",
      "Epoch 10, Accuracy: 50.28%\n",
      "\n",
      " Average epoch time: 11.937194657325744\n",
      "Accuracy on test set: 50.28%\n"
     ]
    },
    {
     "data": {
      "text/plain": [
       "50.28"
      ]
     },
     "execution_count": 7,
     "metadata": {},
     "output_type": "execute_result"
    }
   ],
   "source": [
    "convNN_2d_k_all = ConvNN_2D_K_All(device='cuda')\n",
    "\n",
    "print(\"Model: \" + convNN_2d_k_all.name)\n",
    "# Test + Eval\n",
    "criterion = nn.CrossEntropyLoss()\n",
    "optimizer = optim.Adam(convNN_2d_k_all.parameters(), lr=0.001)\n",
    "num_epochs = 10 \n",
    "train_eval(convNN_2d_k_all, cifar10.train_loader, cifar10.test_loader, criterion, optimizer, device='cuda')\n",
    "evaluate_accuracy(convNN_2d_k_all, cifar10.test_loader, device='cuda')\n",
    "\n"
   ]
  },
  {
   "cell_type": "code",
   "execution_count": 8,
   "metadata": {},
   "outputs": [
    {
     "name": "stdout",
     "output_type": "stream",
     "text": [
      "Model: ConvNN_2D_K_N\n",
      "Epoch 1, Time: 11.791962146759033, Loss: 1.709881641370866\n",
      "Epoch 1, Accuracy: 47.72%\n",
      "Epoch 2, Time: 11.74676775932312, Loss: 1.393022443175011\n",
      "Epoch 2, Accuracy: 52.08%\n",
      "Epoch 3, Time: 11.753055095672607, Loss: 1.2159129727984328\n",
      "Epoch 3, Accuracy: 54.58%\n",
      "Epoch 4, Time: 11.743014812469482, Loss: 1.0691776782502909\n",
      "Epoch 4, Accuracy: 56.02%\n",
      "Epoch 5, Time: 11.764431476593018, Loss: 0.9133001054491838\n",
      "Epoch 5, Accuracy: 56.04%\n",
      "Epoch 6, Time: 11.73703145980835, Loss: 0.746608940269941\n",
      "Epoch 6, Accuracy: 56.01%\n",
      "Epoch 7, Time: 11.738690614700317, Loss: 0.5919191536810392\n",
      "Epoch 7, Accuracy: 55.31%\n",
      "Epoch 8, Time: 11.726608753204346, Loss: 0.46531196925646207\n",
      "Epoch 8, Accuracy: 55.89%\n",
      "Epoch 9, Time: 11.713186025619507, Loss: 0.3675028302270891\n",
      "Epoch 9, Accuracy: 54.15%\n",
      "Epoch 10, Time: 11.742048501968384, Loss: 0.3012859617143183\n",
      "Epoch 10, Accuracy: 55.08%\n",
      "\n",
      " Average epoch time: 11.745679664611817\n",
      "Accuracy on test set: 55.13%\n"
     ]
    },
    {
     "data": {
      "text/plain": [
       "55.13"
      ]
     },
     "execution_count": 8,
     "metadata": {},
     "output_type": "execute_result"
    }
   ],
   "source": [
    "convNN_2d_k_n = ConvNN_2D_K_N(device='cuda')\n",
    "\n",
    "print(\"Model: \" + convNN_2d_k_n.name)\n",
    "# Test + Eval\n",
    "criterion = nn.CrossEntropyLoss()\n",
    "optimizer = optim.Adam(convNN_2d_k_n.parameters(), lr=0.001)\n",
    "num_epochs = 10 \n",
    "train_eval(convNN_2d_k_n, cifar10.train_loader, cifar10.test_loader, criterion, optimizer, num_epochs, device='cuda')\n",
    "evaluate_accuracy(convNN_2d_k_n, cifar10.test_loader, device='cuda')\n",
    "\n"
   ]
  },
  {
   "cell_type": "code",
   "execution_count": 9,
   "metadata": {},
   "outputs": [
    {
     "name": "stdout",
     "output_type": "stream",
     "text": [
      "Model: ConvNN_2D_Spatial_K_N\n",
      "Epoch 1, Time: 13.66209077835083, Loss: 1.6980903473351618\n",
      "Epoch 1, Accuracy: 47.01%\n",
      "Epoch 2, Time: 13.574352502822876, Loss: 1.4192233972842125\n",
      "Epoch 2, Accuracy: 50.86%\n",
      "Epoch 3, Time: 13.520294189453125, Loss: 1.2707399721340755\n",
      "Epoch 3, Accuracy: 53.33%\n",
      "Epoch 4, Time: 13.528738021850586, Loss: 1.137969765821686\n",
      "Epoch 4, Accuracy: 55.27%\n",
      "Epoch 5, Time: 13.516543626785278, Loss: 1.0119686657205567\n",
      "Epoch 5, Accuracy: 54.14%\n",
      "Epoch 6, Time: 13.513288259506226, Loss: 0.8710221809804287\n",
      "Epoch 6, Accuracy: 53.69%\n",
      "Epoch 7, Time: 13.501956939697266, Loss: 0.7195499084337288\n",
      "Epoch 7, Accuracy: 54.69%\n",
      "Epoch 8, Time: 13.496537208557129, Loss: 0.5762367970155328\n",
      "Epoch 8, Accuracy: 52.21%\n",
      "Epoch 9, Time: 13.496309995651245, Loss: 0.4603666222232687\n",
      "Epoch 9, Accuracy: 52.67%\n",
      "Epoch 10, Time: 13.498114824295044, Loss: 0.37029352490706824\n",
      "Epoch 10, Accuracy: 52.34%\n",
      "\n",
      " Average epoch time: 13.53082263469696\n",
      "Accuracy on test set: 52.34%\n"
     ]
    },
    {
     "data": {
      "text/plain": [
       "52.34"
      ]
     },
     "execution_count": 9,
     "metadata": {},
     "output_type": "execute_result"
    }
   ],
   "source": [
    "convNN_2d_spatial_k_n = ConvNN_2D_Spatial_K_N(device='cuda')\n",
    "\n",
    "print(\"Model: \" + convNN_2d_spatial_k_n.name)\n",
    "# Test + Eval\n",
    "criterion = nn.CrossEntropyLoss()\n",
    "optimizer = optim.Adam(convNN_2d_spatial_k_n.parameters(), lr=0.001)\n",
    "num_epochs = 10 \n",
    "train_eval(convNN_2d_spatial_k_n, cifar10.train_loader, cifar10.test_loader, criterion, optimizer, num_epochs, device='cuda')\n",
    "evaluate_accuracy(convNN_2d_spatial_k_n, cifar10.test_loader, device='cuda')\n",
    "\n"
   ]
  },
  {
   "cell_type": "code",
   "execution_count": 10,
   "metadata": {},
   "outputs": [
    {
     "name": "stdout",
     "output_type": "stream",
     "text": [
      "Model: ConvNN_2D_Attn_K_All\n",
      "Epoch 1, Time: 12.281057596206665, Loss: 1.9381948924430497\n",
      "Epoch 1, Accuracy: 34.95%\n",
      "Epoch 2, Time: 12.265558958053589, Loss: 1.6454357940827489\n",
      "Epoch 2, Accuracy: 41.31%\n",
      "Epoch 3, Time: 12.243498086929321, Loss: 1.511814203408673\n",
      "Epoch 3, Accuracy: 42.91%\n",
      "Epoch 4, Time: 12.233673334121704, Loss: 1.4186268520477179\n",
      "Epoch 4, Accuracy: 43.82%\n",
      "Epoch 5, Time: 12.281460046768188, Loss: 1.3386677389254655\n",
      "Epoch 5, Accuracy: 44.19%\n",
      "Epoch 6, Time: 12.301452159881592, Loss: 1.2622438718748215\n",
      "Epoch 6, Accuracy: 42.65%\n",
      "Epoch 7, Time: 12.36714482307434, Loss: 1.1979274831312088\n",
      "Epoch 7, Accuracy: 43.74%\n",
      "Epoch 8, Time: 12.288533449172974, Loss: 1.1422117091048405\n",
      "Epoch 8, Accuracy: 42.75%\n",
      "Epoch 9, Time: 12.27265477180481, Loss: 1.0854619562321002\n",
      "Epoch 9, Accuracy: 41.8%\n",
      "Epoch 10, Time: 12.244009017944336, Loss: 1.033166024233679\n",
      "Epoch 10, Accuracy: 41.79%\n",
      "\n",
      " Average epoch time: 12.277904224395751\n",
      "Accuracy on test set: 41.79%\n"
     ]
    },
    {
     "data": {
      "text/plain": [
       "41.79"
      ]
     },
     "execution_count": 10,
     "metadata": {},
     "output_type": "execute_result"
    }
   ],
   "source": [
    "convNN_2d_attn_k_all = ConvNN_2D_Attn_K_All(device='cuda')\n",
    "\n",
    "print(\"Model: \" + convNN_2d_attn_k_all.name)\n",
    "# Test + Eval\n",
    "criterion = nn.CrossEntropyLoss()\n",
    "optimizer = optim.Adam(convNN_2d_attn_k_all.parameters(), lr=0.001)\n",
    "num_epochs = 10 \n",
    "train_eval(convNN_2d_attn_k_all, cifar10.train_loader, cifar10.test_loader, criterion, optimizer, num_epochs, device='cuda')\n",
    "evaluate_accuracy(convNN_2d_attn_k_all, cifar10.test_loader, device='cuda')\n",
    "\n"
   ]
  },
  {
   "cell_type": "code",
   "execution_count": 11,
   "metadata": {},
   "outputs": [
    {
     "name": "stdout",
     "output_type": "stream",
     "text": [
      "Model: ConvNN_2D_Attn_K_N\n",
      "Epoch 1, Time: 12.118595838546753, Loss: 1.9313471555100072\n",
      "Epoch 1, Accuracy: 41.2%\n",
      "Epoch 2, Time: 12.143786191940308, Loss: 1.505372873200175\n",
      "Epoch 2, Accuracy: 50.8%\n",
      "Epoch 3, Time: 12.151581287384033, Loss: 1.319338811023156\n",
      "Epoch 3, Accuracy: 53.97%\n",
      "Epoch 4, Time: 12.146673202514648, Loss: 1.2073018268093734\n",
      "Epoch 4, Accuracy: 55.8%\n",
      "Epoch 5, Time: 12.147823572158813, Loss: 1.1221175790595277\n",
      "Epoch 5, Accuracy: 57.91%\n",
      "Epoch 6, Time: 12.183978796005249, Loss: 1.0370536304038505\n",
      "Epoch 6, Accuracy: 58.63%\n",
      "Epoch 7, Time: 12.169995069503784, Loss: 0.9624418161256844\n",
      "Epoch 7, Accuracy: 59.27%\n",
      "Epoch 8, Time: 12.125478982925415, Loss: 0.8843015332508575\n",
      "Epoch 8, Accuracy: 59.69%\n",
      "Epoch 9, Time: 12.124703407287598, Loss: 0.8096800641635494\n",
      "Epoch 9, Accuracy: 59.75%\n",
      "Epoch 10, Time: 12.128212690353394, Loss: 0.7319945679296314\n",
      "Epoch 10, Accuracy: 59.81%\n",
      "\n",
      " Average epoch time: 12.144082903862\n",
      "Accuracy on test set: 59.88%\n"
     ]
    },
    {
     "data": {
      "text/plain": [
       "59.88"
      ]
     },
     "execution_count": 11,
     "metadata": {},
     "output_type": "execute_result"
    }
   ],
   "source": [
    "convNN_2d_attn_k_n = ConvNN_2D_Attn_K_N(device='cuda')\n",
    "\n",
    "print(\"Model: \" + convNN_2d_attn_k_n.name)\n",
    "# Test + Eval\n",
    "criterion = nn.CrossEntropyLoss()\n",
    "optimizer = optim.Adam(convNN_2d_attn_k_n.parameters(), lr=0.001)\n",
    "num_epochs = 10 \n",
    "train_eval(convNN_2d_attn_k_n, cifar10.train_loader, cifar10.test_loader, criterion, optimizer, num_epochs, device='cuda')\n",
    "evaluate_accuracy(convNN_2d_attn_k_n, cifar10.test_loader, device='cuda')\n",
    "\n"
   ]
  },
  {
   "cell_type": "code",
   "execution_count": 20,
   "metadata": {},
   "outputs": [
    {
     "name": "stdout",
     "output_type": "stream",
     "text": [
      "Model: ConvNN_2D_Attn_V_K_All\n",
      "Epoch 1, Time: 12.811336517333984, Loss: 1.947476909593548\n",
      "Epoch 1, Accuracy: 39.04%\n",
      "Epoch 2, Time: 12.801732778549194, Loss: 1.535123443054726\n",
      "Epoch 2, Accuracy: 46.36%\n",
      "Epoch 3, Time: 12.760387659072876, Loss: 1.3498703198664634\n",
      "Epoch 3, Accuracy: 51.97%\n",
      "Epoch 4, Time: 12.805643796920776, Loss: 1.2050796948430482\n",
      "Epoch 4, Accuracy: 53.37%\n",
      "Epoch 5, Time: 12.8147873878479, Loss: 1.086335588903988\n",
      "Epoch 5, Accuracy: 54.09%\n",
      "Epoch 6, Time: 12.763528108596802, Loss: 0.9693248480787058\n",
      "Epoch 6, Accuracy: 54.88%\n",
      "Epoch 7, Time: 12.777760982513428, Loss: 0.8494349305739488\n",
      "Epoch 7, Accuracy: 53.09%\n",
      "Epoch 8, Time: 12.762946605682373, Loss: 0.730581200488693\n",
      "Epoch 8, Accuracy: 53.81%\n",
      "Epoch 9, Time: 12.885751247406006, Loss: 0.601908871279958\n",
      "Epoch 9, Accuracy: 53.8%\n",
      "Epoch 10, Time: 12.811530828475952, Loss: 0.49432594250992434\n",
      "Epoch 10, Accuracy: 52.24%\n",
      "\n",
      " Average epoch time: 12.799540591239928\n",
      "Accuracy on test set: 52.24%\n"
     ]
    },
    {
     "data": {
      "text/plain": [
       "52.24"
      ]
     },
     "execution_count": 20,
     "metadata": {},
     "output_type": "execute_result"
    }
   ],
   "source": [
    "convNN_2d_attn_v_k_all = ConvNN_2D_Attn_V_K_All(device='cuda')\n",
    "\n",
    "print(\"Model: \" + convNN_2d_attn_v_k_all.name)\n",
    "# Test + Eval\n",
    "criterion = nn.CrossEntropyLoss()\n",
    "optimizer = optim.Adam(convNN_2d_attn_v_k_all.parameters(), lr=0.001)\n",
    "num_epochs = 10 \n",
    "train_eval(convNN_2d_attn_v_k_all, cifar10.train_loader, cifar10.test_loader, criterion, optimizer, num_epochs, device='cuda')\n",
    "evaluate_accuracy(convNN_2d_attn_v_k_all, cifar10.test_loader, device='cuda')\n",
    "\n"
   ]
  },
  {
   "cell_type": "code",
   "execution_count": 13,
   "metadata": {},
   "outputs": [
    {
     "name": "stdout",
     "output_type": "stream",
     "text": [
      "Model: ConvNN_2D_Attn_V_K_N\n",
      "Epoch 1, Time: 11.94291377067566, Loss: 1.8744730242073078\n",
      "Epoch 1, Accuracy: 44.33%\n",
      "Epoch 2, Time: 11.996695280075073, Loss: 1.4396644739238806\n",
      "Epoch 2, Accuracy: 51.86%\n",
      "Epoch 3, Time: 11.99413013458252, Loss: 1.2761105353874929\n",
      "Epoch 3, Accuracy: 54.4%\n",
      "Epoch 4, Time: 12.012465953826904, Loss: 1.1671625932159326\n",
      "Epoch 4, Accuracy: 55.5%\n",
      "Epoch 5, Time: 11.98666787147522, Loss: 1.0884439830889787\n",
      "Epoch 5, Accuracy: 58.53%\n",
      "Epoch 6, Time: 11.933424949645996, Loss: 1.0046584125217575\n",
      "Epoch 6, Accuracy: 57.94%\n",
      "Epoch 7, Time: 11.939808368682861, Loss: 0.9242215558238651\n",
      "Epoch 7, Accuracy: 58.61%\n",
      "Epoch 8, Time: 11.958555698394775, Loss: 0.8483009432511561\n",
      "Epoch 8, Accuracy: 59.08%\n",
      "Epoch 9, Time: 11.930527210235596, Loss: 0.772289958832514\n",
      "Epoch 9, Accuracy: 59.43%\n",
      "Epoch 10, Time: 11.915184259414673, Loss: 0.6876217621138029\n",
      "Epoch 10, Accuracy: 58.23%\n",
      "\n",
      " Average epoch time: 11.961037349700927\n",
      "Accuracy on test set: 57.99%\n"
     ]
    },
    {
     "data": {
      "text/plain": [
       "57.99"
      ]
     },
     "execution_count": 13,
     "metadata": {},
     "output_type": "execute_result"
    }
   ],
   "source": [
    "convNN_2d_attn_v_k_n = ConvNN_2D_Attn_V_K_N(device='cuda')\n",
    "\n",
    "print(\"Model: \" + convNN_2d_attn_v_k_n.name)\n",
    "# Test + Eval\n",
    "criterion = nn.CrossEntropyLoss()\n",
    "optimizer = optim.Adam(convNN_2d_attn_v_k_n.parameters(), lr=0.001)\n",
    "num_epochs = 10 \n",
    "train_eval(convNN_2d_attn_v_k_n, cifar10.train_loader, cifar10.test_loader, criterion, optimizer, num_epochs, device='cuda')\n",
    "evaluate_accuracy(convNN_2d_attn_v_k_n, cifar10.test_loader, device='cuda')\n",
    "\n"
   ]
  },
  {
   "cell_type": "code",
   "execution_count": 3,
   "metadata": {},
   "outputs": [
    {
     "name": "stdout",
     "output_type": "stream",
     "text": [
      "1\n",
      "Model: Attention_2D , Head = 1\n",
      "Epoch 1, Time: 19.98472237586975, Loss: 1.8283431802869148\n",
      "Epoch 1, Accuracy: 42.01%\n",
      "Epoch 2, Time: 12.894365310668945, Loss: 1.5646586277905632\n",
      "Epoch 2, Accuracy: 44.52%\n",
      "Epoch 3, Time: 12.874511003494263, Loss: 1.4616907690187244\n",
      "Epoch 3, Accuracy: 45.13%\n",
      "Epoch 4, Time: 12.838531732559204, Loss: 1.3876159032592383\n",
      "Epoch 4, Accuracy: 48.44%\n",
      "Epoch 5, Time: 12.806514739990234, Loss: 1.3166126312349764\n",
      "Epoch 5, Accuracy: 47.82%\n",
      "Epoch 6, Time: 12.768181800842285, Loss: 1.2381229134624268\n",
      "Epoch 6, Accuracy: 49.34%\n",
      "Epoch 7, Time: 12.72931694984436, Loss: 1.1660545248052347\n",
      "Epoch 7, Accuracy: 49.7%\n",
      "Epoch 8, Time: 12.723574876785278, Loss: 1.0708757547466345\n",
      "Epoch 8, Accuracy: 49.52%\n",
      "Epoch 9, Time: 12.73497486114502, Loss: 0.9788635956204456\n",
      "Epoch 9, Accuracy: 49.46%\n",
      "Epoch 10, Time: 12.745959281921387, Loss: 0.8797718045656638\n",
      "Epoch 10, Accuracy: 48.16%\n",
      "\n",
      " Average epoch time: 13.510065293312072\n",
      "Accuracy on test set: 48.16%\n"
     ]
    },
    {
     "data": {
      "text/plain": [
       "48.16"
      ]
     },
     "execution_count": 3,
     "metadata": {},
     "output_type": "execute_result"
    }
   ],
   "source": [
    "attention_1_heads = Attention_2D(device='cuda')\n",
    "print(attention_1_heads.num_heads)\n",
    "\n",
    "print(\"Model: \" + attention_1_heads.name, \", Head = 1\")\n",
    "# Test + Eval\n",
    "criterion = nn.CrossEntropyLoss()\n",
    "optimizer = optim.Adam(attention_1_heads.parameters(), lr=0.001)\n",
    "num_epochs = 10\n",
    "train_eval(attention_1_heads, cifar10.train_loader, cifar10.test_loader, criterion, optimizer, num_epochs, device='cuda')\n",
    "evaluate_accuracy(attention_1_heads, cifar10.test_loader, device='cuda')"
   ]
  },
  {
   "cell_type": "code",
   "execution_count": 4,
   "metadata": {},
   "outputs": [
    {
     "name": "stdout",
     "output_type": "stream",
     "text": [
      "2\n",
      "Model: Attention_2D , Head = 2\n",
      "Epoch 1, Time: 13.24800157546997, Loss: 1.787418547646164\n",
      "Epoch 1, Accuracy: 43.53%\n",
      "Epoch 2, Time: 13.259487628936768, Loss: 1.5090124969897063\n",
      "Epoch 2, Accuracy: 47.73%\n",
      "Epoch 3, Time: 13.21916389465332, Loss: 1.3817292664514478\n",
      "Epoch 3, Accuracy: 50.09%\n",
      "Epoch 4, Time: 13.2713782787323, Loss: 1.278849576668971\n",
      "Epoch 4, Accuracy: 50.83%\n",
      "Epoch 5, Time: 13.25005054473877, Loss: 1.1724205727467452\n",
      "Epoch 5, Accuracy: 52.48%\n",
      "Epoch 6, Time: 13.21191143989563, Loss: 1.054544545043155\n",
      "Epoch 6, Accuracy: 51.46%\n",
      "Epoch 7, Time: 13.240457773208618, Loss: 0.9296105807775732\n",
      "Epoch 7, Accuracy: 51.89%\n",
      "Epoch 8, Time: 13.201826095581055, Loss: 0.7534083861981511\n",
      "Epoch 8, Accuracy: 51.43%\n",
      "Epoch 9, Time: 13.219552278518677, Loss: 0.5985928890878892\n",
      "Epoch 9, Accuracy: 50.52%\n",
      "Epoch 10, Time: 13.358432054519653, Loss: 0.47509905204291236\n",
      "Epoch 10, Accuracy: 49.91%\n",
      "\n",
      " Average epoch time: 13.248026156425476\n",
      "Accuracy on test set: 49.91%\n"
     ]
    },
    {
     "data": {
      "text/plain": [
       "49.91"
      ]
     },
     "execution_count": 4,
     "metadata": {},
     "output_type": "execute_result"
    }
   ],
   "source": [
    "attention_2_heads = Attention_2D(device='cuda', num_heads=2)\n",
    "print(attention_2_heads.num_heads)\n",
    "\n",
    "print(\"Model: \" + attention_2_heads.name, \", Head = 2\")\n",
    "# Test + Eval\n",
    "criterion = nn.CrossEntropyLoss()\n",
    "optimizer = optim.Adam(attention_2_heads.parameters(), lr=0.001)\n",
    "num_epochs = 10\n",
    "train_eval(attention_2_heads, cifar10.train_loader, cifar10.test_loader, criterion, optimizer, num_epochs, device='cuda')\n",
    "evaluate_accuracy(attention_2_heads, cifar10.test_loader, device='cuda')"
   ]
  },
  {
   "cell_type": "code",
   "execution_count": 5,
   "metadata": {},
   "outputs": [
    {
     "name": "stdout",
     "output_type": "stream",
     "text": [
      "4\n",
      "Model: Attention_2D , Head = 4\n",
      "Epoch 1, Time: 14.118236541748047, Loss: 1.8135846822767916\n",
      "Epoch 1, Accuracy: 39.08%\n",
      "Epoch 2, Time: 14.093612432479858, Loss: 1.4810044061192467\n",
      "Epoch 2, Accuracy: 48.77%\n",
      "Epoch 3, Time: 14.081523656845093, Loss: 1.3206492154799458\n",
      "Epoch 3, Accuracy: 50.54%\n",
      "Epoch 4, Time: 14.063855648040771, Loss: 1.2062731346358424\n",
      "Epoch 4, Accuracy: 52.41%\n",
      "Epoch 5, Time: 14.02808141708374, Loss: 1.0952079465322178\n",
      "Epoch 5, Accuracy: 54.54%\n",
      "Epoch 6, Time: 14.039453506469727, Loss: 0.9580269785945678\n",
      "Epoch 6, Accuracy: 54.65%\n",
      "Epoch 7, Time: 14.020942687988281, Loss: 0.8131342485661397\n",
      "Epoch 7, Accuracy: 51.91%\n",
      "Epoch 8, Time: 14.055866956710815, Loss: 0.6657621763322664\n",
      "Epoch 8, Accuracy: 53.37%\n",
      "Epoch 9, Time: 14.048309326171875, Loss: 0.5244600596406576\n",
      "Epoch 9, Accuracy: 53.02%\n",
      "Epoch 10, Time: 14.06907320022583, Loss: 0.4259919885288724\n",
      "Epoch 10, Accuracy: 53.19%\n",
      "\n",
      " Average epoch time: 14.061895537376405\n",
      "Accuracy on test set: 53.19%\n"
     ]
    },
    {
     "data": {
      "text/plain": [
       "53.19"
      ]
     },
     "execution_count": 5,
     "metadata": {},
     "output_type": "execute_result"
    }
   ],
   "source": [
    "attention_4_heads = Attention_2D(device='cuda', num_heads=4)\n",
    "print(attention_4_heads.num_heads)\n",
    "\n",
    "print(\"Model: \" + attention_4_heads.name, \", Head = 4\")\n",
    "# Test + Eval\n",
    "criterion = nn.CrossEntropyLoss()\n",
    "optimizer = optim.Adam(attention_4_heads.parameters(), lr=0.001)\n",
    "num_epochs = 10\n",
    "train_eval(attention_4_heads, cifar10.train_loader, cifar10.test_loader, criterion, optimizer, num_epochs, device='cuda')\n",
    "evaluate_accuracy(attention_4_heads, cifar10.test_loader, device='cuda')"
   ]
  },
  {
   "cell_type": "code",
   "execution_count": 7,
   "metadata": {},
   "outputs": [
    {
     "name": "stdout",
     "output_type": "stream",
     "text": [
      "8\n",
      "Model: Attention_2D , Head = 8\n",
      "Epoch 1, Time: 16.077264308929443, Loss: 1.8168155297903759\n",
      "Epoch 1, Accuracy: 43.44%\n",
      "Epoch 2, Time: 16.103379487991333, Loss: 1.4507468286377694\n",
      "Epoch 2, Accuracy: 50.32%\n",
      "Epoch 3, Time: 16.110722541809082, Loss: 1.2401451703989903\n",
      "Epoch 3, Accuracy: 52.87%\n",
      "Epoch 4, Time: 16.10714864730835, Loss: 1.064907718497469\n",
      "Epoch 4, Accuracy: 55.47%\n",
      "Epoch 5, Time: 16.098098516464233, Loss: 0.8567052636000202\n",
      "Epoch 5, Accuracy: 55.01%\n",
      "Epoch 6, Time: 16.09063220024109, Loss: 0.6091417156140823\n",
      "Epoch 6, Accuracy: 54.32%\n",
      "Epoch 7, Time: 16.107884883880615, Loss: 0.3902808392749113\n",
      "Epoch 7, Accuracy: 54.01%\n",
      "Epoch 8, Time: 16.084593057632446, Loss: 0.254776990436532\n",
      "Epoch 8, Accuracy: 54.5%\n",
      "Epoch 9, Time: 16.080763339996338, Loss: 0.18476134416220896\n",
      "Epoch 9, Accuracy: 53.04%\n",
      "Epoch 10, Time: 16.11432409286499, Loss: 0.16011027679981096\n",
      "Epoch 10, Accuracy: 52.96%\n",
      "\n",
      " Average epoch time: 16.097481107711793\n",
      "Accuracy on test set: 52.96%\n"
     ]
    },
    {
     "data": {
      "text/plain": [
       "52.96"
      ]
     },
     "execution_count": 7,
     "metadata": {},
     "output_type": "execute_result"
    }
   ],
   "source": [
    "attention_8_heads = Attention_2D(device='cuda', num_heads=8)\n",
    "print(attention_8_heads.num_heads)\n",
    "\n",
    "print(\"Model: \" + attention_8_heads.name, \", Head = 8\")\n",
    "# Test + Eval\n",
    "criterion = nn.CrossEntropyLoss()\n",
    "optimizer = optim.Adam(attention_8_heads.parameters(), lr=0.001)\n",
    "num_epochs = 10\n",
    "train_eval(attention_8_heads, cifar10.train_loader, cifar10.test_loader, criterion, optimizer, num_epochs, device='cuda')\n",
    "evaluate_accuracy(attention_8_heads, cifar10.test_loader, device='cuda')"
   ]
  },
  {
   "cell_type": "code",
   "execution_count": 8,
   "metadata": {},
   "outputs": [
    {
     "name": "stdout",
     "output_type": "stream",
     "text": [
      "16\n",
      "Model: Attention_2D , Head = 16\n",
      "Epoch 1, Time: 20.148149490356445, Loss: 1.844587336720713\n",
      "Epoch 1, Accuracy: 38.34%\n",
      "Epoch 2, Time: 20.167989492416382, Loss: 1.492497484549842\n",
      "Epoch 2, Accuracy: 49.31%\n",
      "Epoch 3, Time: 20.152089834213257, Loss: 1.3066424774696759\n",
      "Epoch 3, Accuracy: 53.46%\n",
      "Epoch 4, Time: 20.164386749267578, Loss: 1.1710071764181338\n",
      "Epoch 4, Accuracy: 55.11%\n",
      "Epoch 5, Time: 20.15100336074829, Loss: 1.0344679041591751\n",
      "Epoch 5, Accuracy: 55.91%\n",
      "Epoch 6, Time: 20.153691053390503, Loss: 0.8781545519676355\n",
      "Epoch 6, Accuracy: 56.35%\n",
      "Epoch 7, Time: 20.15758728981018, Loss: 0.6977686993301372\n",
      "Epoch 7, Accuracy: 55.95%\n",
      "Epoch 8, Time: 20.146488904953003, Loss: 0.5128131149827367\n",
      "Epoch 8, Accuracy: 54.47%\n",
      "Epoch 9, Time: 20.148225784301758, Loss: 0.3714541091066797\n",
      "Epoch 9, Accuracy: 55.22%\n",
      "Epoch 10, Time: 20.152342557907104, Loss: 0.2839656829681543\n",
      "Epoch 10, Accuracy: 54.67%\n",
      "\n",
      " Average epoch time: 20.15419545173645\n",
      "Accuracy on test set: 54.67%\n"
     ]
    },
    {
     "data": {
      "text/plain": [
       "54.67"
      ]
     },
     "execution_count": 8,
     "metadata": {},
     "output_type": "execute_result"
    }
   ],
   "source": [
    "attention_16_heads = Attention_2D(device='cuda', num_heads=16)\n",
    "print(attention_16_heads.num_heads)\n",
    "\n",
    "print(\"Model: \" + attention_16_heads.name, \", Head = 16\")\n",
    "# Test + Eval\n",
    "criterion = nn.CrossEntropyLoss()\n",
    "optimizer = optim.Adam(attention_16_heads.parameters(), lr=0.001)\n",
    "num_epochs = 10\n",
    "train_eval(attention_16_heads, cifar10.train_loader, cifar10.test_loader, criterion, optimizer, num_epochs, device='cuda')\n",
    "evaluate_accuracy(attention_16_heads, cifar10.test_loader, device='cuda')"
   ]
  },
  {
   "cell_type": "code",
   "execution_count": null,
   "metadata": {},
   "outputs": [
    {
     "name": "stdout",
     "output_type": "stream",
     "text": [
      "32\n",
      "Model: Attention_2D , Head = 32\n",
      "Epoch 1, Time: 28.496588468551636, Loss: 1.8369530703100707\n",
      "Epoch 1, Accuracy: 40.52%\n",
      "Epoch 2, Time: 28.50462532043457, Loss: 1.4938610084831256\n",
      "Epoch 2, Accuracy: 49.41%\n",
      "Epoch 3, Time: 28.541491746902466, Loss: 1.2966084284398256\n",
      "Epoch 3, Accuracy: 53.54%\n"
     ]
    }
   ],
   "source": [
    "attention_32_heads = Attention_2D(device='cuda', num_heads=32)\n",
    "print(attention_32_heads.num_heads)\n",
    "\n",
    "print(\"Model: \" + attention_32_heads.name, \", Head = 32\")\n",
    "# Test + Eval\n",
    "criterion = nn.CrossEntropyLoss()\n",
    "optimizer = optim.Adam(attention_32_heads.parameters(), lr=0.001)\n",
    "num_epochs = 10\n",
    "train_eval(attention_32_heads, cifar10.train_loader, cifar10.test_loader, criterion, optimizer, num_epochs, device='cuda')\n",
    "evaluate_accuracy(attention_32_heads, cifar10.test_loader, device='cuda')"
   ]
  },
  {
   "cell_type": "markdown",
   "metadata": {},
   "source": [
    "### Branching Network "
   ]
  },
  {
   "cell_type": "code",
   "execution_count": 14,
   "metadata": {},
   "outputs": [
    {
     "name": "stdout",
     "output_type": "stream",
     "text": [
      "Model: Branching_ConvNN_2D_K_All\n",
      "Epoch 1, Time: 12.365045309066772, Loss: 1.4248802883698202\n",
      "Epoch 1, Accuracy: 59.07%\n",
      "Epoch 2, Time: 12.31636118888855, Loss: 0.9676062568374302\n",
      "Epoch 2, Accuracy: 65.28%\n",
      "Epoch 3, Time: 12.332979440689087, Loss: 0.6241010212913498\n",
      "Epoch 3, Accuracy: 66.4%\n",
      "Epoch 4, Time: 12.32947850227356, Loss: 0.2895786441919749\n",
      "Epoch 4, Accuracy: 65.89%\n",
      "Epoch 5, Time: 12.352931261062622, Loss: 0.14795931904574336\n",
      "Epoch 5, Accuracy: 66.11%\n",
      "Epoch 6, Time: 12.311978101730347, Loss: 0.11789981687150876\n",
      "Epoch 6, Accuracy: 65.8%\n",
      "Epoch 7, Time: 12.356348752975464, Loss: 0.09402013597343012\n",
      "Epoch 7, Accuracy: 64.33%\n",
      "Epoch 8, Time: 12.35736870765686, Loss: 0.0902843832745767\n",
      "Epoch 8, Accuracy: 65.31%\n",
      "Epoch 9, Time: 12.341214179992676, Loss: 0.08197760591200075\n",
      "Epoch 9, Accuracy: 65.03%\n",
      "Epoch 10, Time: 12.318591833114624, Loss: 0.07663338836160419\n",
      "Epoch 10, Accuracy: 65.14%\n",
      "\n",
      " Average epoch time: 12.338229727745055\n",
      "Accuracy on test set: 65.14%\n"
     ]
    },
    {
     "data": {
      "text/plain": [
       "65.14"
      ]
     },
     "execution_count": 14,
     "metadata": {},
     "output_type": "execute_result"
    }
   ],
   "source": [
    "branchingconvNN_2d_k_all = Branching_ConvNN_2D_K_All(device='cuda')\n",
    "\n",
    "print(\"Model: \" + branchingconvNN_2d_k_all.name)\n",
    "# Test + Eval\n",
    "criterion = nn.CrossEntropyLoss()\n",
    "optimizer = optim.Adam(branchingconvNN_2d_k_all.parameters(), lr=0.001)\n",
    "num_epochs = 10 \n",
    "train_eval(branchingconvNN_2d_k_all, cifar10.train_loader, cifar10.test_loader, criterion, optimizer, num_epochs, device='cuda')\n",
    "evaluate_accuracy(branchingconvNN_2d_k_all, cifar10.test_loader, device='cuda')\n",
    "\n"
   ]
  },
  {
   "cell_type": "code",
   "execution_count": 15,
   "metadata": {},
   "outputs": [
    {
     "name": "stdout",
     "output_type": "stream",
     "text": [
      "Model: Branching_ConvNN_2D_K_N\n",
      "Epoch 1, Time: 12.277982711791992, Loss: 1.3962375328059087\n",
      "Epoch 1, Accuracy: 59.38%\n",
      "Epoch 2, Time: 12.30722713470459, Loss: 0.9408541833958053\n",
      "Epoch 2, Accuracy: 66.98%\n",
      "Epoch 3, Time: 12.288418054580688, Loss: 0.5934798093631749\n",
      "Epoch 3, Accuracy: 67.36%\n",
      "Epoch 4, Time: 12.30018925666809, Loss: 0.2584827709657228\n",
      "Epoch 4, Accuracy: 66.94%\n",
      "Epoch 5, Time: 12.281484365463257, Loss: 0.12940452562864213\n",
      "Epoch 5, Accuracy: 66.24%\n",
      "Epoch 6, Time: 12.267519474029541, Loss: 0.10170402418931618\n",
      "Epoch 6, Accuracy: 65.57%\n",
      "Epoch 7, Time: 12.291479349136353, Loss: 0.09385499407609037\n",
      "Epoch 7, Accuracy: 65.09%\n",
      "Epoch 8, Time: 12.296123504638672, Loss: 0.08018389376400806\n",
      "Epoch 8, Accuracy: 66.21%\n",
      "Epoch 9, Time: 12.270520448684692, Loss: 0.07748712257757816\n",
      "Epoch 9, Accuracy: 65.59%\n",
      "Epoch 10, Time: 12.289445161819458, Loss: 0.06572970532664947\n",
      "Epoch 10, Accuracy: 64.67%\n",
      "\n",
      " Average epoch time: 12.287038946151734\n",
      "Accuracy on test set: 64.46%\n"
     ]
    },
    {
     "data": {
      "text/plain": [
       "64.46"
      ]
     },
     "execution_count": 15,
     "metadata": {},
     "output_type": "execute_result"
    }
   ],
   "source": [
    "branchingconvNN_2d_k_n = Branching_ConvNN_2D_K_N(device='cuda')\n",
    "\n",
    "print(\"Model: \" + branchingconvNN_2d_k_n.name)\n",
    "# Test + Eval\n",
    "criterion = nn.CrossEntropyLoss()\n",
    "optimizer = optim.Adam(branchingconvNN_2d_k_n.parameters(), lr=0.001)\n",
    "num_epochs = 10 \n",
    "train_eval(branchingconvNN_2d_k_n, cifar10.train_loader, cifar10.test_loader, criterion, optimizer, num_epochs, device='cuda')\n",
    "evaluate_accuracy(branchingconvNN_2d_k_n, cifar10.test_loader, device='cuda')\n",
    "\n"
   ]
  },
  {
   "cell_type": "code",
   "execution_count": 16,
   "metadata": {},
   "outputs": [
    {
     "name": "stdout",
     "output_type": "stream",
     "text": [
      "Model: Branching_ConvNN_2D_Spatial_K_N\n",
      "Epoch 1, Time: 14.062295198440552, Loss: 1.4211208854642365\n",
      "Epoch 1, Accuracy: 57.52%\n",
      "Epoch 2, Time: 14.091084718704224, Loss: 0.963723589163607\n",
      "Epoch 2, Accuracy: 64.71%\n",
      "Epoch 3, Time: 14.05428171157837, Loss: 0.6069934113937265\n",
      "Epoch 3, Accuracy: 67.78%\n",
      "Epoch 4, Time: 14.04546570777893, Loss: 0.2552046707409727\n",
      "Epoch 4, Accuracy: 66.65%\n",
      "Epoch 5, Time: 14.053724765777588, Loss: 0.12069911898478218\n",
      "Epoch 5, Accuracy: 64.96%\n",
      "Epoch 6, Time: 14.086397171020508, Loss: 0.10771939649884982\n",
      "Epoch 6, Accuracy: 66.21%\n",
      "Epoch 7, Time: 14.112526655197144, Loss: 0.09028710853463262\n",
      "Epoch 7, Accuracy: 66.24%\n",
      "Epoch 8, Time: 14.041313171386719, Loss: 0.07517496631462889\n",
      "Epoch 8, Accuracy: 66.2%\n",
      "Epoch 9, Time: 14.064028024673462, Loss: 0.0790736832278733\n",
      "Epoch 9, Accuracy: 65.56%\n",
      "Epoch 10, Time: 14.08699917793274, Loss: 0.05991727642559335\n",
      "Epoch 10, Accuracy: 65.01%\n",
      "\n",
      " Average epoch time: 14.069811630249024\n",
      "Accuracy on test set: 65.01%\n"
     ]
    },
    {
     "data": {
      "text/plain": [
       "65.01"
      ]
     },
     "execution_count": 16,
     "metadata": {},
     "output_type": "execute_result"
    }
   ],
   "source": [
    "branchingconvNN_2d_spatial_k_n = Branching_ConvNN_2D_Spatial_K_N(device='cuda')\n",
    "\n",
    "print(\"Model: \" + branchingconvNN_2d_spatial_k_n.name)\n",
    "# Test + Eval\n",
    "criterion = nn.CrossEntropyLoss()\n",
    "optimizer = optim.Adam(branchingconvNN_2d_spatial_k_n.parameters(), lr=0.001)\n",
    "num_epochs = 10 \n",
    "train_eval(branchingconvNN_2d_spatial_k_n, cifar10.train_loader, cifar10.test_loader, criterion, optimizer, num_epochs, device='cuda')\n",
    "evaluate_accuracy(branchingconvNN_2d_spatial_k_n, cifar10.test_loader, device='cuda')\n",
    "\n"
   ]
  },
  {
   "cell_type": "code",
   "execution_count": 17,
   "metadata": {},
   "outputs": [
    {
     "name": "stdout",
     "output_type": "stream",
     "text": [
      "Model: Branching_ConvNN_2D_Attn_K_N\n",
      "Epoch 1, Time: 12.740174293518066, Loss: 1.4438029840931563\n",
      "Epoch 1, Accuracy: 56.99%\n",
      "Epoch 2, Time: 12.721682786941528, Loss: 0.9749800934815955\n",
      "Epoch 2, Accuracy: 65.88%\n",
      "Epoch 3, Time: 12.734072923660278, Loss: 0.6489323264040301\n",
      "Epoch 3, Accuracy: 67.67%\n",
      "Epoch 4, Time: 12.745482444763184, Loss: 0.317818628638373\n",
      "Epoch 4, Accuracy: 67.37%\n",
      "Epoch 5, Time: 12.748970746994019, Loss: 0.14504698609642666\n",
      "Epoch 5, Accuracy: 66.05%\n",
      "Epoch 6, Time: 12.74280595779419, Loss: 0.1105562636610585\n",
      "Epoch 6, Accuracy: 65.58%\n",
      "Epoch 7, Time: 12.799669742584229, Loss: 0.10018886851153963\n",
      "Epoch 7, Accuracy: 64.98%\n",
      "Epoch 8, Time: 12.79922866821289, Loss: 0.07990202089578695\n",
      "Epoch 8, Accuracy: 65.32%\n",
      "Epoch 9, Time: 12.779626607894897, Loss: 0.07393086839409525\n",
      "Epoch 9, Accuracy: 65.35%\n",
      "Epoch 10, Time: 12.802914381027222, Loss: 0.07496619789534822\n",
      "Epoch 10, Accuracy: 65.96%\n",
      "\n",
      " Average epoch time: 12.761462855339051\n",
      "Accuracy on test set: 65.86%\n"
     ]
    },
    {
     "data": {
      "text/plain": [
       "65.86"
      ]
     },
     "execution_count": 17,
     "metadata": {},
     "output_type": "execute_result"
    }
   ],
   "source": [
    "branchingconvNN_2d_attn_k_n = Branching_ConvNN_2D_Attn_K_N(device='cuda')\n",
    "\n",
    "print(\"Model: \" + branchingconvNN_2d_attn_k_n.name)\n",
    "# Test + Eval\n",
    "criterion = nn.CrossEntropyLoss()\n",
    "optimizer = optim.Adam(branchingconvNN_2d_attn_k_n.parameters(), lr=0.001)\n",
    "num_epochs = 10 \n",
    "train_eval(branchingconvNN_2d_attn_k_n, cifar10.train_loader, cifar10.test_loader, criterion, optimizer, num_epochs, device='cuda')\n",
    "evaluate_accuracy(branchingconvNN_2d_attn_k_n, cifar10.test_loader, device='cuda')\n",
    "\n"
   ]
  },
  {
   "cell_type": "code",
   "execution_count": 18,
   "metadata": {},
   "outputs": [
    {
     "name": "stdout",
     "output_type": "stream",
     "text": [
      "Model: Branching_ConvNN_2D_Attn_V_K_N\n",
      "Epoch 1, Time: 12.643717527389526, Loss: 1.460453260280287\n",
      "Epoch 1, Accuracy: 57.17%\n",
      "Epoch 2, Time: 12.642247200012207, Loss: 1.047460584460622\n",
      "Epoch 2, Accuracy: 63.95%\n",
      "Epoch 3, Time: 12.61331295967102, Loss: 0.7816770412504216\n",
      "Epoch 3, Accuracy: 64.96%\n",
      "Epoch 4, Time: 12.626516580581665, Loss: 0.5088243944489438\n",
      "Epoch 4, Accuracy: 67.02%\n",
      "Epoch 5, Time: 12.658268928527832, Loss: 0.26479397371620933\n",
      "Epoch 5, Accuracy: 65.57%\n",
      "Epoch 6, Time: 12.680140256881714, Loss: 0.17085745836110294\n",
      "Epoch 6, Accuracy: 65.2%\n",
      "Epoch 7, Time: 12.627898693084717, Loss: 0.12880737706066092\n",
      "Epoch 7, Accuracy: 64.92%\n",
      "Epoch 8, Time: 12.580629587173462, Loss: 0.1168106448380491\n",
      "Epoch 8, Accuracy: 65.23%\n",
      "Epoch 9, Time: 12.581576824188232, Loss: 0.10310418507717836\n",
      "Epoch 9, Accuracy: 64.97%\n",
      "Epoch 10, Time: 12.570068597793579, Loss: 0.08758882969460638\n",
      "Epoch 10, Accuracy: 65.35%\n",
      "\n",
      " Average epoch time: 12.622437715530396\n",
      "Accuracy on test set: 65.39%\n"
     ]
    },
    {
     "data": {
      "text/plain": [
       "65.39"
      ]
     },
     "execution_count": 18,
     "metadata": {},
     "output_type": "execute_result"
    }
   ],
   "source": [
    "branchingconvNN_2d_attn_v_k_n = Branching_ConvNN_2D_Attn_V_K_N(device='cuda')\n",
    "\n",
    "print(\"Model: \" + branchingconvNN_2d_attn_v_k_n.name)\n",
    "# Test + Eval\n",
    "criterion = nn.CrossEntropyLoss()\n",
    "optimizer = optim.Adam(branchingconvNN_2d_attn_v_k_n.parameters(), lr=0.001)\n",
    "num_epochs = 10 \n",
    "train_eval(branchingconvNN_2d_attn_v_k_n, cifar10.train_loader, cifar10.test_loader, criterion, optimizer, num_epochs, device='cuda')\n",
    "evaluate_accuracy(branchingconvNN_2d_attn_v_k_n, cifar10.test_loader, device='cuda')"
   ]
  },
  {
   "cell_type": "code",
   "execution_count": 21,
   "metadata": {},
   "outputs": [
    {
     "name": "stdout",
     "output_type": "stream",
     "text": [
      "Model: Branching_CNN_Attn\n",
      "Epoch 1, Time: 14.000541925430298, Loss: 1.3900263734790674\n",
      "Epoch 1, Accuracy: 60.79%\n",
      "Epoch 2, Time: 13.999364137649536, Loss: 0.8943903933248252\n",
      "Epoch 2, Accuracy: 68.4%\n",
      "Epoch 3, Time: 14.000041961669922, Loss: 0.5143162705137602\n",
      "Epoch 3, Accuracy: 66.51%\n",
      "Epoch 4, Time: 13.951703310012817, Loss: 0.19169175480980702\n",
      "Epoch 4, Accuracy: 67.98%\n",
      "Epoch 5, Time: 13.977938413619995, Loss: 0.10334913395797772\n",
      "Epoch 5, Accuracy: 67.22%\n",
      "Epoch 6, Time: 14.069501399993896, Loss: 0.08929958768055567\n",
      "Epoch 6, Accuracy: 67.12%\n",
      "Epoch 7, Time: 14.077134609222412, Loss: 0.09539545886903344\n",
      "Epoch 7, Accuracy: 66.96%\n",
      "Epoch 8, Time: 14.10142993927002, Loss: 0.060052957143569057\n",
      "Epoch 8, Accuracy: 66.2%\n",
      "Epoch 9, Time: 14.061273336410522, Loss: 0.06465386958857415\n",
      "Epoch 9, Accuracy: 66.57%\n",
      "Epoch 10, Time: 14.017507314682007, Loss: 0.0643335758628996\n",
      "Epoch 10, Accuracy: 66.61%\n",
      "\n",
      " Average epoch time: 14.025643634796143\n",
      "Accuracy on test set: 66.61%\n"
     ]
    },
    {
     "data": {
      "text/plain": [
       "66.61"
      ]
     },
     "execution_count": 21,
     "metadata": {},
     "output_type": "execute_result"
    }
   ],
   "source": [
    "branching_cnn_attn = Branching_CNN_Attn(device='cuda')\n",
    "\n",
    "print(\"Model: \" + branching_cnn_attn.name)\n",
    "# Test + Eval\n",
    "criterion = nn.CrossEntropyLoss()\n",
    "optimizer = optim.Adam(branching_cnn_attn.parameters(), lr=0.001)\n",
    "num_epochs = 10  \n",
    "train_eval(branching_cnn_attn, cifar10.train_loader, cifar10.test_loader, criterion, optimizer, num_epochs, device='cuda')\n",
    "evaluate_accuracy(branching_cnn_attn, cifar10.test_loader, device='cuda')"
   ]
  },
  {
   "cell_type": "code",
   "execution_count": null,
   "metadata": {},
   "outputs": [],
   "source": []
  }
 ],
 "metadata": {
  "kernelspec": {
   "display_name": "Python 3.12",
   "language": "python",
   "name": "python3.12"
  },
  "language_info": {
   "codemirror_mode": {
    "name": "ipython",
    "version": 3
   },
   "file_extension": ".py",
   "mimetype": "text/x-python",
   "name": "python",
   "nbconvert_exporter": "python",
   "pygments_lexer": "ipython3",
   "version": "3.12.3"
  }
 },
 "nbformat": 4,
 "nbformat_minor": 4
}
