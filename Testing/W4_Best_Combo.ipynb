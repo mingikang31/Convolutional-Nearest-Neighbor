{
 "cells": [
  {
   "cell_type": "markdown",
   "metadata": {},
   "source": [
    "# Week 4: Best Combination of Samples, K Nearest Neighbors, Random/Spatial Sample Selection"
   ]
  },
  {
   "cell_type": "markdown",
   "metadata": {},
   "source": [
    "## 1. Classification "
   ]
  },
  {
   "cell_type": "code",
   "execution_count": 1,
   "metadata": {},
   "outputs": [
    {
     "name": "stderr",
     "output_type": "stream",
     "text": [
      "/Users/mingikang/miniforge3/envs/ML/lib/python3.12/site-packages/tqdm/auto.py:21: TqdmWarning: IProgress not found. Please update jupyter and ipywidgets. See https://ipywidgets.readthedocs.io/en/stable/user_install.html\n",
      "  from .autonotebook import tqdm as notebook_tqdm\n"
     ]
    }
   ],
   "source": [
    "# Torch\n",
    "import torch \n",
    "import torch.nn as nn\n",
    "import torch.nn.functional as F\n",
    "from torch import optim \n",
    "\n",
    "\n",
    "# Train + Data \n",
    "import sys \n",
    "sys.path.append('../Layers')\n",
    "from Conv1d_NN_spatial import * \n",
    "from Conv2d_NN_spatial import * \n",
    "\n",
    "sys.path.append('../Data')\n",
    "from CIFAR10 import * \n",
    "\n",
    "\n",
    "sys.path.append('../Models')\n",
    "from models_2d import *\n",
    "\n",
    "sys.path.append('../Train')\n",
    "from train2d import * \n"
   ]
  },
  {
   "cell_type": "code",
   "execution_count": 2,
   "metadata": {},
   "outputs": [
    {
     "name": "stdout",
     "output_type": "stream",
     "text": [
      "Files already downloaded and verified\n",
      "Files already downloaded and verified\n"
     ]
    }
   ],
   "source": [
    "cifar10 = CIFAR10()"
   ]
  },
  {
   "cell_type": "markdown",
   "metadata": {},
   "source": [
    "### i. CNN"
   ]
  },
  {
   "cell_type": "code",
   "execution_count": 3,
   "metadata": {},
   "outputs": [
    {
     "name": "stdout",
     "output_type": "stream",
     "text": [
      "Epoch 1, Time: 20.712939977645874, Loss: 1.2730827716457875\n",
      "Epoch 2, Time: 20.17153835296631, Loss: 0.7530983871663622\n",
      "Epoch 3, Time: 20.044556856155396, Loss: 0.33345506692786353\n",
      "Epoch 4, Time: 20.00268816947937, Loss: 0.08585858163531021\n",
      "Epoch 5, Time: 19.94254493713379, Loss: 0.043213726048443535\n",
      "Epoch 6, Time: 20.245338201522827, Loss: 0.04952059310439336\n",
      "Epoch 7, Time: 20.14976978302002, Loss: 0.042352019477060396\n",
      "Epoch 8, Time: 19.852474689483643, Loss: 0.03968193478759645\n",
      "Epoch 9, Time: 20.09778380393982, Loss: 0.03540123092076715\n",
      "Epoch 10, Time: 20.035903930664062, Loss: 0.03098114345365923\n",
      "\n",
      " Average epoch time: 20.12555387020111\n",
      "Accuracy on test set: 65.57%\n"
     ]
    },
    {
     "data": {
      "text/plain": [
       "65.57"
      ]
     },
     "execution_count": 3,
     "metadata": {},
     "output_type": "execute_result"
    }
   ],
   "source": [
    "CNN_1 = CNN()\n",
    "\n",
    "# Test + Eval\n",
    "criterion = nn.CrossEntropyLoss()\n",
    "optimizer = optim.Adam(CNN_1.parameters(), lr=0.001)\n",
    "num_epochs = 10 \n",
    "train_model(CNN_1, cifar10.train_loader, criterion, optimizer, num_epochs)\n",
    "evaluate_accuracy(CNN_1, cifar10.test_loader)\n"
   ]
  },
  {
   "cell_type": "markdown",
   "metadata": {},
   "source": [
    "### ii. ConvNN K = 9, N = all"
   ]
  },
  {
   "cell_type": "code",
   "execution_count": 4,
   "metadata": {},
   "outputs": [
    {
     "name": "stdout",
     "output_type": "stream",
     "text": [
      "Epoch 1, Time: 55.05791211128235, Loss: 1.5688470429776575\n",
      "Epoch 2, Time: 55.421879053115845, Loss: 1.2354902317914207\n",
      "Epoch 3, Time: 53.910435914993286, Loss: 1.057895371066335\n",
      "Epoch 4, Time: 53.94923424720764, Loss: 0.8714834210817771\n",
      "Epoch 5, Time: 53.444677114486694, Loss: 0.6787115277917793\n",
      "Epoch 6, Time: 54.30722212791443, Loss: 0.49474211060025197\n",
      "Epoch 7, Time: 54.57773303985596, Loss: 0.35749384286382313\n",
      "Epoch 8, Time: 56.37591886520386, Loss: 0.26995444754162407\n",
      "Epoch 9, Time: 56.733145236968994, Loss: 0.21730076641206394\n",
      "Epoch 10, Time: 55.57917094230652, Loss: 0.18486749224812554\n",
      "\n",
      " Average epoch time: 54.935732865333556\n",
      "Accuracy on test set: 54.56%\n"
     ]
    },
    {
     "data": {
      "text/plain": [
       "54.56"
      ]
     },
     "execution_count": 4,
     "metadata": {},
     "output_type": "execute_result"
    }
   ],
   "source": [
    "convNN_2d_9_all = ConvNN_2D_K_All()\n",
    "\n",
    "# Test + Eval\n",
    "criterion = nn.CrossEntropyLoss()\n",
    "optimizer = optim.Adam(convNN_2d_9_all.parameters(), lr=0.001)\n",
    "num_epochs = 10 \n",
    "train_model(convNN_2d_9_all, cifar10.train_loader, criterion, optimizer, num_epochs)\n",
    "evaluate_accuracy(convNN_2d_9_all, cifar10.test_loader)\n"
   ]
  },
  {
   "cell_type": "markdown",
   "metadata": {},
   "source": [
    "### iii. Branching, ConvNN 2D - N = All, K = 3, Location_channels"
   ]
  },
  {
   "cell_type": "code",
   "execution_count": 5,
   "metadata": {},
   "outputs": [
    {
     "name": "stdout",
     "output_type": "stream",
     "text": [
      "Epoch 1, Time: 69.57089114189148, Loss: 1.3466822838082033\n",
      "Epoch 2, Time: 69.80267906188965, Loss: 0.8504407333824641\n",
      "Epoch 3, Time: 92.47870635986328, Loss: 0.465075389598794\n",
      "Epoch 4, Time: 73.91477918624878, Loss: 0.16793622792986654\n",
      "Epoch 5, Time: 69.32441329956055, Loss: 0.1071901924841468\n",
      "Epoch 6, Time: 69.47636198997498, Loss: 0.08366478325666912\n",
      "Epoch 7, Time: 70.93320798873901, Loss: 0.08561800589280018\n",
      "Epoch 8, Time: 73.01046705245972, Loss: 0.07089006681027382\n",
      "Epoch 9, Time: 72.15504884719849, Loss: 0.0671419382961455\n",
      "Epoch 10, Time: 72.81298184394836, Loss: 0.06700891173241334\n",
      "\n",
      " Average epoch time: 73.34795367717743\n",
      "Accuracy on test set: 66.18%\n"
     ]
    },
    {
     "data": {
      "text/plain": [
       "66.18"
      ]
     },
     "execution_count": 5,
     "metadata": {},
     "output_type": "execute_result"
    }
   ],
   "source": [
    "branching_convNN_3_all_location = Branching_ConvNN_2D_K_All(K = 3, location_channels = True)\n",
    "\n",
    "# Test + Eval\n",
    "criterion = nn.CrossEntropyLoss()\n",
    "optimizer = optim.Adam(branching_convNN_3_all_location.parameters(), lr=0.001)\n",
    "num_epochs = 10 \n",
    "train_model(branching_convNN_3_all_location, cifar10.train_loader, criterion, optimizer, num_epochs)\n",
    "evaluate_accuracy(branching_convNN_3_all_location, cifar10.test_loader)"
   ]
  },
  {
   "cell_type": "markdown",
   "metadata": {},
   "source": [
    "### iv. Branching, ConvNN 2D Random - N = 100, K = 3, Location_channels"
   ]
  },
  {
   "cell_type": "code",
   "execution_count": 6,
   "metadata": {},
   "outputs": [
    {
     "name": "stdout",
     "output_type": "stream",
     "text": [
      "Epoch 1, Time: 51.72556710243225, Loss: 1.3307475348567719\n",
      "Epoch 2, Time: 51.25671911239624, Loss: 0.8399698917213303\n",
      "Epoch 3, Time: 51.43314790725708, Loss: 0.4456689216368034\n",
      "Epoch 4, Time: 51.3864209651947, Loss: 0.1621939619131329\n",
      "Epoch 5, Time: 51.88330388069153, Loss: 0.09939997741962066\n",
      "Epoch 6, Time: 50.68032789230347, Loss: 0.09137266046960679\n",
      "Epoch 7, Time: 62.3456928730011, Loss: 0.0797730219086556\n",
      "Epoch 8, Time: 69.2530632019043, Loss: 0.07178361783452604\n",
      "Epoch 9, Time: 70.64671611785889, Loss: 0.06606214841114073\n",
      "Epoch 10, Time: 69.56449222564697, Loss: 0.07118122288920394\n",
      "\n",
      " Average epoch time: 58.01754512786865\n",
      "Accuracy on test set: 66.97%\n"
     ]
    },
    {
     "data": {
      "text/plain": [
       "66.97"
      ]
     },
     "execution_count": 6,
     "metadata": {},
     "output_type": "execute_result"
    }
   ],
   "source": [
    "branching_convNN_random_3_100_location = Branching_ConvNN_2D_K_N(K = 3, N = 100, location_channels = True)\n",
    "\n",
    "# Test + Eval\n",
    "criterion = nn.CrossEntropyLoss()\n",
    "optimizer = optim.Adam(branching_convNN_random_3_100_location.parameters(), lr=0.001)\n",
    "num_epochs = 10 \n",
    "train_model(branching_convNN_random_3_100_location, cifar10.train_loader, criterion, optimizer, num_epochs)\n",
    "evaluate_accuracy(branching_convNN_random_3_100_location, cifar10.test_loader)"
   ]
  },
  {
   "cell_type": "code",
   "execution_count": 8,
   "metadata": {},
   "outputs": [
    {
     "name": "stdout",
     "output_type": "stream",
     "text": [
      "Epoch 1, Time: 80.35995817184448, Loss: 1.383420432772478\n",
      "Epoch 2, Time: 78.20083522796631, Loss: 0.9184881435788196\n",
      "Epoch 3, Time: 77.654452085495, Loss: 0.5652489159875513\n",
      "Epoch 4, Time: 79.48388504981995, Loss: 0.2620792306502304\n",
      "Epoch 5, Time: 79.10448217391968, Loss: 0.13697045066696414\n",
      "Epoch 6, Time: 77.9406681060791, Loss: 0.10777480532611718\n",
      "Epoch 7, Time: 78.66135287284851, Loss: 0.09075950310670335\n",
      "Epoch 8, Time: 79.13425302505493, Loss: 0.09161739275061889\n",
      "Epoch 9, Time: 77.93079710006714, Loss: 0.07300148989565794\n",
      "Epoch 10, Time: 77.7926709651947, Loss: 0.06584795911009174\n",
      "\n",
      " Average epoch time: 78.62633547782897\n",
      "Accuracy on test set: 66.38%\n"
     ]
    },
    {
     "data": {
      "text/plain": [
       "66.38"
      ]
     },
     "execution_count": 8,
     "metadata": {},
     "output_type": "execute_result"
    }
   ],
   "source": [
    "branching_convNN_random_9_100_location = Branching_ConvNN_2D_K_N(K = 9, N = 100, location_channels = True)\n",
    "\n",
    "# Test + Eval\n",
    "criterion = nn.CrossEntropyLoss()\n",
    "optimizer = optim.Adam(branching_convNN_random_9_100_location.parameters(), lr=0.001)\n",
    "num_epochs = 10 \n",
    "train_model(branching_convNN_random_9_100_location, cifar10.train_loader, criterion, optimizer, num_epochs)\n",
    "evaluate_accuracy(branching_convNN_random_9_100_location, cifar10.test_loader)"
   ]
  },
  {
   "cell_type": "markdown",
   "metadata": {},
   "source": [
    "### v. Branching, ConvNN 2D Spatial, N - 25, all, K = 3, Location Channels"
   ]
  },
  {
   "cell_type": "code",
   "execution_count": 7,
   "metadata": {},
   "outputs": [
    {
     "name": "stdout",
     "output_type": "stream",
     "text": [
      "Epoch 1, Time: 78.36653399467468, Loss: 1.3290357194898073\n",
      "Epoch 2, Time: 89.42844128608704, Loss: 0.8138108358663672\n",
      "Epoch 3, Time: 84.87311315536499, Loss: 0.37916959486806484\n",
      "Epoch 4, Time: 84.82718181610107, Loss: 0.12579724571341291\n",
      "Epoch 5, Time: 83.68260622024536, Loss: 0.09690977710887523\n",
      "Epoch 6, Time: 83.85189294815063, Loss: 0.08400137758845955\n",
      "Epoch 7, Time: 87.29589295387268, Loss: 0.07159987735696603\n",
      "Epoch 8, Time: 81.3551709651947, Loss: 0.0744154466167012\n",
      "Epoch 9, Time: 83.67065906524658, Loss: 0.05818401792552918\n",
      "Epoch 10, Time: 87.2200300693512, Loss: 0.06233518615707352\n",
      "\n",
      " Average epoch time: 84.4571522474289\n",
      "Accuracy on test set: 66.97%\n"
     ]
    },
    {
     "data": {
      "text/plain": [
       "66.97"
      ]
     },
     "execution_count": 7,
     "metadata": {},
     "output_type": "execute_result"
    }
   ],
   "source": [
    "branching_convNN_spatial_3_25_location = Branching_ConvNN_2D_Spatial_K_N(\n",
    "    K = 3, N = 25, location_channels = True,\n",
    ")\n",
    "\n",
    "# Test + Eval\n",
    "criterion = nn.CrossEntropyLoss()\n",
    "optimizer = optim.Adam(branching_convNN_spatial_3_25_location.parameters(), lr=0.001)\n",
    "num_epochs = 10 \n",
    "train_model(branching_convNN_spatial_3_25_location, cifar10.train_loader, criterion, optimizer, num_epochs)\n",
    "evaluate_accuracy(branching_convNN_spatial_3_25_location, cifar10.test_loader)"
   ]
  },
  {
   "cell_type": "code",
   "execution_count": null,
   "metadata": {},
   "outputs": [],
   "source": []
  }
 ],
 "metadata": {
  "kernelspec": {
   "display_name": "ML",
   "language": "python",
   "name": "python3"
  },
  "language_info": {
   "codemirror_mode": {
    "name": "ipython",
    "version": 3
   },
   "file_extension": ".py",
   "mimetype": "text/x-python",
   "name": "python",
   "nbconvert_exporter": "python",
   "pygments_lexer": "ipython3",
   "version": "3.12.0"
  }
 },
 "nbformat": 4,
 "nbformat_minor": 2
}
