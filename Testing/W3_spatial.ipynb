{
 "cells": [
  {
   "cell_type": "markdown",
   "metadata": {},
   "source": [
    "# ConvNN Spatial Sampling\n",
    "\n",
    "## Efficiency"
   ]
  },
  {
   "cell_type": "code",
   "execution_count": 3,
   "metadata": {},
   "outputs": [],
   "source": [
    "# Torch\n",
    "import torch \n",
    "import torch.nn as nn\n",
    "import torch.nn.functional as F\n",
    "from torch import optim \n",
    "\n",
    "\n",
    "# Train + Data \n",
    "import sys \n",
    "sys.path.append('../Layers')\n",
    "from Conv1d_NN_spatial import * \n",
    "from Conv2d_NN_spatial import * \n",
    "\n",
    "sys.path.append('../Data')\n",
    "from CIFAR10 import * \n",
    "\n",
    "\n",
    "sys.path.append('../Train')\n",
    "from train2d import * \n"
   ]
  },
  {
   "cell_type": "code",
   "execution_count": 4,
   "metadata": {},
   "outputs": [
    {
     "name": "stdout",
     "output_type": "stream",
     "text": [
      "Input:  torch.Size([32, 1, 28, 28])\n",
      "Output:  torch.Size([32, 3, 28, 28])\n"
     ]
    }
   ],
   "source": [
    "# Example\n",
    "ex = torch.rand(32, 1, 28, 28) \n",
    "print(\"Input: \", ex.shape)\n",
    "\n",
    "conv2d_nn = Conv2d_NN_spatial(in_channels=1, out_channels=3, K=3, stride=3, padding=0, shuffle_pattern=\"N/A\", shuffle_scale=2, samples=5)\n",
    "output = conv2d_nn(ex)\n",
    "print(\"Output: \", output.shape)"
   ]
  },
  {
   "cell_type": "markdown",
   "metadata": {},
   "source": [
    "# 1. Vary N - number of spatial sample - N -> N^2 sample"
   ]
  },
  {
   "cell_type": "markdown",
   "metadata": {},
   "source": [
    "## I. K = 1 with N = 1 -> 10 Models"
   ]
  },
  {
   "cell_type": "code",
   "execution_count": 5,
   "metadata": {},
   "outputs": [
    {
     "name": "stdout",
     "output_type": "stream",
     "text": [
      "----------------------------------------------------------------\n",
      "        Layer (type)               Output Shape         Param #\n",
      "================================================================\n",
      "           Flatten-1              [-1, 12, 256]               0\n",
      "            Conv1d-2              [-1, 20, 256]             260\n",
      " Conv1d_NN_spatial-3              [-1, 20, 256]               0\n",
      " Conv2d_NN_spatial-4            [-1, 5, 32, 32]               0\n",
      "           Flatten-5              [-1, 20, 256]               0\n",
      "            Conv1d-6              [-1, 40, 256]             840\n",
      " Conv1d_NN_spatial-7              [-1, 40, 256]               0\n",
      " Conv2d_NN_spatial-8           [-1, 10, 32, 32]               0\n",
      "           Flatten-9              [-1, 40, 256]               0\n",
      "           Conv1d-10              [-1, 80, 256]           3,280\n",
      "Conv1d_NN_spatial-11              [-1, 80, 256]               0\n",
      "Conv2d_NN_spatial-12           [-1, 20, 32, 32]               0\n",
      "          Flatten-13                [-1, 20480]               0\n",
      "           Linear-14                   [-1, 10]         204,810\n",
      "================================================================\n",
      "Total params: 209,190\n",
      "Trainable params: 209,190\n",
      "Non-trainable params: 0\n",
      "----------------------------------------------------------------\n",
      "Input size (MB): 0.01\n",
      "Forward/backward pass size (MB): 1.12\n",
      "Params size (MB): 0.80\n",
      "Estimated Total Size (MB): 1.93\n",
      "----------------------------------------------------------------\n"
     ]
    }
   ],
   "source": [
    "# K = 1, N = 1\n",
    "conv2d_nn_spatial_1_1 = nn.Sequential(\n",
    "   Conv2d_NN_spatial(\n",
    "      in_channels=3,\n",
    "      out_channels=5,\n",
    "      K=1,\n",
    "      stride=1,\n",
    "      padding=0,\n",
    "      shuffle_pattern=\"BA\", \n",
    "      shuffle_scale=2, \n",
    "      samples=1, \n",
    "   ), \n",
    "   Conv2d_NN_spatial(\n",
    "      in_channels=5,\n",
    "      out_channels=10,\n",
    "      K=1,\n",
    "      stride=1,\n",
    "      padding=0,\n",
    "      shuffle_pattern=\"BA\", \n",
    "      shuffle_scale=2, \n",
    "      samples=1, \n",
    "   ),\n",
    "   Conv2d_NN_spatial(\n",
    "      in_channels=10,\n",
    "      out_channels=20,\n",
    "      K=1,\n",
    "      stride=1,\n",
    "      padding=0,\n",
    "      shuffle_pattern=\"BA\", \n",
    "      shuffle_scale=2, \n",
    "      samples=1, \n",
    "   ),\n",
    "   nn.Flatten(), \n",
    "   nn.Linear(20480, 10)\n",
    "   \n",
    ").to('cpu')\n",
    "   \n",
    "\n",
    "from torchsummary import summary\n",
    "summary(conv2d_nn_spatial_1_1, (3, 32, 32))"
   ]
  },
  {
   "cell_type": "code",
   "execution_count": 6,
   "metadata": {},
   "outputs": [
    {
     "name": "stdout",
     "output_type": "stream",
     "text": [
      "----------------------------------------------------------------\n",
      "        Layer (type)               Output Shape         Param #\n",
      "================================================================\n",
      "           Flatten-1              [-1, 12, 256]               0\n",
      "            Conv1d-2              [-1, 20, 256]             260\n",
      " Conv1d_NN_spatial-3              [-1, 20, 256]               0\n",
      " Conv2d_NN_spatial-4            [-1, 5, 32, 32]               0\n",
      "           Flatten-5              [-1, 20, 256]               0\n",
      "            Conv1d-6              [-1, 40, 256]             840\n",
      " Conv1d_NN_spatial-7              [-1, 40, 256]               0\n",
      " Conv2d_NN_spatial-8           [-1, 10, 32, 32]               0\n",
      "           Flatten-9              [-1, 40, 256]               0\n",
      "           Conv1d-10              [-1, 80, 256]           3,280\n",
      "Conv1d_NN_spatial-11              [-1, 80, 256]               0\n",
      "Conv2d_NN_spatial-12           [-1, 20, 32, 32]               0\n",
      "          Flatten-13                [-1, 20480]               0\n",
      "           Linear-14                   [-1, 10]         204,810\n",
      "================================================================\n",
      "Total params: 209,190\n",
      "Trainable params: 209,190\n",
      "Non-trainable params: 0\n",
      "----------------------------------------------------------------\n",
      "Input size (MB): 0.01\n",
      "Forward/backward pass size (MB): 1.12\n",
      "Params size (MB): 0.80\n",
      "Estimated Total Size (MB): 1.93\n",
      "----------------------------------------------------------------\n"
     ]
    }
   ],
   "source": [
    "# K = 1, N = 3\n",
    "conv2d_nn_spatial_1_3 = nn.Sequential(\n",
    "   Conv2d_NN_spatial(\n",
    "      in_channels=3,\n",
    "      out_channels=5,\n",
    "      K=1,\n",
    "      stride=1,\n",
    "      padding=0,\n",
    "      shuffle_pattern=\"BA\", \n",
    "      shuffle_scale=2, \n",
    "      samples=3, \n",
    "   ), \n",
    "   Conv2d_NN_spatial(\n",
    "      in_channels=5,\n",
    "      out_channels=10,\n",
    "      K=1,\n",
    "      stride=1,\n",
    "      padding=0,\n",
    "      shuffle_pattern=\"BA\", \n",
    "      shuffle_scale=2, \n",
    "      samples=3, \n",
    "   ),\n",
    "   Conv2d_NN_spatial(\n",
    "      in_channels=10,\n",
    "      out_channels=20,\n",
    "      K=1,\n",
    "      stride=1,\n",
    "      padding=0,\n",
    "      shuffle_pattern=\"BA\", \n",
    "      shuffle_scale=2, \n",
    "      samples=3, \n",
    "   ),\n",
    "   nn.Flatten(), \n",
    "   nn.Linear(20480, 10)\n",
    "   \n",
    ").to('cpu')\n",
    "   \n",
    "\n",
    "from torchsummary import summary\n",
    "summary(conv2d_nn_spatial_1_3, (3, 32, 32))"
   ]
  },
  {
   "cell_type": "code",
   "execution_count": 7,
   "metadata": {},
   "outputs": [
    {
     "name": "stdout",
     "output_type": "stream",
     "text": [
      "----------------------------------------------------------------\n",
      "        Layer (type)               Output Shape         Param #\n",
      "================================================================\n",
      "           Flatten-1              [-1, 12, 256]               0\n",
      "            Conv1d-2              [-1, 20, 256]             260\n",
      " Conv1d_NN_spatial-3              [-1, 20, 256]               0\n",
      " Conv2d_NN_spatial-4            [-1, 5, 32, 32]               0\n",
      "           Flatten-5              [-1, 20, 256]               0\n",
      "            Conv1d-6              [-1, 40, 256]             840\n",
      " Conv1d_NN_spatial-7              [-1, 40, 256]               0\n",
      " Conv2d_NN_spatial-8           [-1, 10, 32, 32]               0\n",
      "           Flatten-9              [-1, 40, 256]               0\n",
      "           Conv1d-10              [-1, 80, 256]           3,280\n",
      "Conv1d_NN_spatial-11              [-1, 80, 256]               0\n",
      "Conv2d_NN_spatial-12           [-1, 20, 32, 32]               0\n",
      "          Flatten-13                [-1, 20480]               0\n",
      "           Linear-14                   [-1, 10]         204,810\n",
      "================================================================\n",
      "Total params: 209,190\n",
      "Trainable params: 209,190\n",
      "Non-trainable params: 0\n",
      "----------------------------------------------------------------\n",
      "Input size (MB): 0.01\n",
      "Forward/backward pass size (MB): 1.12\n",
      "Params size (MB): 0.80\n",
      "Estimated Total Size (MB): 1.93\n",
      "----------------------------------------------------------------\n"
     ]
    }
   ],
   "source": [
    "# K = 1, N = 5\n",
    "conv2d_nn_spatial_1_5 = nn.Sequential(\n",
    "   Conv2d_NN_spatial(\n",
    "      in_channels=3,\n",
    "      out_channels=5,\n",
    "      K=1,\n",
    "      stride=1,\n",
    "      padding=0,\n",
    "      shuffle_pattern=\"BA\", \n",
    "      shuffle_scale=2, \n",
    "      samples=5, \n",
    "   ), \n",
    "   Conv2d_NN_spatial(\n",
    "      in_channels=5,\n",
    "      out_channels=10,\n",
    "      K=1,\n",
    "      stride=1,\n",
    "      padding=0,\n",
    "      shuffle_pattern=\"BA\", \n",
    "      shuffle_scale=2, \n",
    "      samples=5, \n",
    "   ),\n",
    "   Conv2d_NN_spatial(\n",
    "      in_channels=10,\n",
    "      out_channels=20,\n",
    "      K=1,\n",
    "      stride=1,\n",
    "      padding=0,\n",
    "      shuffle_pattern=\"BA\", \n",
    "      shuffle_scale=2, \n",
    "      samples=5, \n",
    "   ),\n",
    "   nn.Flatten(), \n",
    "   nn.Linear(20480, 10)\n",
    "   \n",
    ").to('cpu')\n",
    "   \n",
    "\n",
    "from torchsummary import summary\n",
    "summary(conv2d_nn_spatial_1_5, (3, 32, 32))"
   ]
  },
  {
   "cell_type": "code",
   "execution_count": 8,
   "metadata": {},
   "outputs": [
    {
     "name": "stdout",
     "output_type": "stream",
     "text": [
      "----------------------------------------------------------------\n",
      "        Layer (type)               Output Shape         Param #\n",
      "================================================================\n",
      "           Flatten-1              [-1, 12, 256]               0\n",
      "            Conv1d-2              [-1, 20, 256]             260\n",
      " Conv1d_NN_spatial-3              [-1, 20, 256]               0\n",
      " Conv2d_NN_spatial-4            [-1, 5, 32, 32]               0\n",
      "           Flatten-5              [-1, 20, 256]               0\n",
      "            Conv1d-6              [-1, 40, 256]             840\n",
      " Conv1d_NN_spatial-7              [-1, 40, 256]               0\n",
      " Conv2d_NN_spatial-8           [-1, 10, 32, 32]               0\n",
      "           Flatten-9              [-1, 40, 256]               0\n",
      "           Conv1d-10              [-1, 80, 256]           3,280\n",
      "Conv1d_NN_spatial-11              [-1, 80, 256]               0\n",
      "Conv2d_NN_spatial-12           [-1, 20, 32, 32]               0\n",
      "          Flatten-13                [-1, 20480]               0\n",
      "           Linear-14                   [-1, 10]         204,810\n",
      "================================================================\n",
      "Total params: 209,190\n",
      "Trainable params: 209,190\n",
      "Non-trainable params: 0\n",
      "----------------------------------------------------------------\n",
      "Input size (MB): 0.01\n",
      "Forward/backward pass size (MB): 1.12\n",
      "Params size (MB): 0.80\n",
      "Estimated Total Size (MB): 1.93\n",
      "----------------------------------------------------------------\n"
     ]
    }
   ],
   "source": [
    "# K = 1, N = 10\n",
    "conv2d_nn_spatial_1_10 = nn.Sequential(\n",
    "   Conv2d_NN_spatial(\n",
    "      in_channels=3,\n",
    "      out_channels=5,\n",
    "      K=1,\n",
    "      stride=1,\n",
    "      padding=0,\n",
    "      shuffle_pattern=\"BA\", \n",
    "      shuffle_scale=2, \n",
    "      samples=10, \n",
    "   ), \n",
    "   Conv2d_NN_spatial(\n",
    "      in_channels=5,\n",
    "      out_channels=10,\n",
    "      K=1,\n",
    "      stride=1,\n",
    "      padding=0,\n",
    "      shuffle_pattern=\"BA\", \n",
    "      shuffle_scale=2, \n",
    "      samples=10, \n",
    "   ),\n",
    "   Conv2d_NN_spatial(\n",
    "      in_channels=10,\n",
    "      out_channels=20,\n",
    "      K=1,\n",
    "      stride=1,\n",
    "      padding=0,\n",
    "      shuffle_pattern=\"BA\", \n",
    "      shuffle_scale=2, \n",
    "      samples=10, \n",
    "   ),\n",
    "   nn.Flatten(), \n",
    "   nn.Linear(20480, 10)\n",
    "   \n",
    ").to('cpu')\n",
    "   \n",
    "\n",
    "from torchsummary import summary\n",
    "summary(conv2d_nn_spatial_1_10, (3, 32, 32))"
   ]
  },
  {
   "cell_type": "code",
   "execution_count": 17,
   "metadata": {},
   "outputs": [
    {
     "name": "stdout",
     "output_type": "stream",
     "text": [
      "----------------------------------------------------------------\n",
      "        Layer (type)               Output Shape         Param #\n",
      "================================================================\n",
      "           Flatten-1              [-1, 12, 256]               0\n",
      "            Conv1d-2              [-1, 20, 256]             260\n",
      " Conv1d_NN_spatial-3              [-1, 20, 256]               0\n",
      " Conv2d_NN_spatial-4            [-1, 5, 32, 32]               0\n",
      "           Flatten-5              [-1, 20, 256]               0\n",
      "            Conv1d-6              [-1, 40, 256]             840\n",
      " Conv1d_NN_spatial-7              [-1, 40, 256]               0\n",
      " Conv2d_NN_spatial-8           [-1, 10, 32, 32]               0\n",
      "           Flatten-9              [-1, 40, 256]               0\n",
      "           Conv1d-10              [-1, 80, 256]           3,280\n",
      "Conv1d_NN_spatial-11              [-1, 80, 256]               0\n",
      "Conv2d_NN_spatial-12           [-1, 20, 32, 32]               0\n",
      "          Flatten-13                [-1, 20480]               0\n",
      "           Linear-14                   [-1, 10]         204,810\n",
      "================================================================\n",
      "Total params: 209,190\n",
      "Trainable params: 209,190\n",
      "Non-trainable params: 0\n",
      "----------------------------------------------------------------\n",
      "Input size (MB): 0.01\n",
      "Forward/backward pass size (MB): 1.12\n",
      "Params size (MB): 0.80\n",
      "Estimated Total Size (MB): 1.93\n",
      "----------------------------------------------------------------\n"
     ]
    }
   ],
   "source": [
    "# K = 1, N = 25\n",
    "conv2d_nn_spatial_1_25 = nn.Sequential(\n",
    "   Conv2d_NN_spatial(\n",
    "      in_channels=3,\n",
    "      out_channels=5,\n",
    "      K=1,\n",
    "      stride=1,\n",
    "      padding=0,\n",
    "      shuffle_pattern=\"BA\", \n",
    "      shuffle_scale=2, \n",
    "      samples=25, \n",
    "   ), \n",
    "   Conv2d_NN_spatial(\n",
    "      in_channels=5,\n",
    "      out_channels=10,\n",
    "      K=1,\n",
    "      stride=1,\n",
    "      padding=0,\n",
    "      shuffle_pattern=\"BA\", \n",
    "      shuffle_scale=2, \n",
    "      samples=25, \n",
    "   ),\n",
    "   Conv2d_NN_spatial(\n",
    "      in_channels=10,\n",
    "      out_channels=20,\n",
    "      K=1,\n",
    "      stride=1,\n",
    "      padding=0,\n",
    "      shuffle_pattern=\"BA\", \n",
    "      shuffle_scale=2, \n",
    "      samples=25, \n",
    "   ),\n",
    "   nn.Flatten(), \n",
    "   nn.Linear(20480, 10)\n",
    "   \n",
    ").to('cpu')\n",
    "   \n",
    "\n",
    "from torchsummary import summary\n",
    "summary(conv2d_nn_spatial_1_25, (3, 32, 32))"
   ]
  },
  {
   "cell_type": "code",
   "execution_count": 15,
   "metadata": {},
   "outputs": [
    {
     "name": "stdout",
     "output_type": "stream",
     "text": [
      "----------------------------------------------------------------\n",
      "        Layer (type)               Output Shape         Param #\n",
      "================================================================\n",
      "           Flatten-1              [-1, 12, 256]               0\n",
      "            Conv1d-2              [-1, 20, 256]             260\n",
      " Conv1d_NN_spatial-3              [-1, 20, 256]               0\n",
      " Conv2d_NN_spatial-4            [-1, 5, 32, 32]               0\n",
      "           Flatten-5              [-1, 20, 256]               0\n",
      "            Conv1d-6              [-1, 40, 256]             840\n",
      " Conv1d_NN_spatial-7              [-1, 40, 256]               0\n",
      " Conv2d_NN_spatial-8           [-1, 10, 32, 32]               0\n",
      "           Flatten-9              [-1, 40, 256]               0\n",
      "           Conv1d-10              [-1, 80, 256]           3,280\n",
      "Conv1d_NN_spatial-11              [-1, 80, 256]               0\n",
      "Conv2d_NN_spatial-12           [-1, 20, 32, 32]               0\n",
      "          Flatten-13                [-1, 20480]               0\n",
      "           Linear-14                   [-1, 10]         204,810\n",
      "================================================================\n",
      "Total params: 209,190\n",
      "Trainable params: 209,190\n",
      "Non-trainable params: 0\n",
      "----------------------------------------------------------------\n",
      "Input size (MB): 0.01\n",
      "Forward/backward pass size (MB): 1.12\n",
      "Params size (MB): 0.80\n",
      "Estimated Total Size (MB): 1.93\n",
      "----------------------------------------------------------------\n"
     ]
    }
   ],
   "source": [
    "# K = 1, N = 50\n",
    "conv2d_nn_spatial_1_50 = nn.Sequential(\n",
    "   Conv2d_NN_spatial(\n",
    "      in_channels=3,\n",
    "      out_channels=5,\n",
    "      K=1,\n",
    "      stride=1,\n",
    "      padding=0,\n",
    "      shuffle_pattern=\"BA\", \n",
    "      shuffle_scale=2, \n",
    "      samples=50, \n",
    "   ), \n",
    "   Conv2d_NN_spatial(\n",
    "      in_channels=5,\n",
    "      out_channels=10,\n",
    "      K=1,\n",
    "      stride=1,\n",
    "      padding=0,\n",
    "      shuffle_pattern=\"BA\", \n",
    "      shuffle_scale=2, \n",
    "      samples=50, \n",
    "   ),\n",
    "   Conv2d_NN_spatial(\n",
    "      in_channels=10,\n",
    "      out_channels=20,\n",
    "      K=1,\n",
    "      stride=1,\n",
    "      padding=0,\n",
    "      shuffle_pattern=\"BA\", \n",
    "      shuffle_scale=2, \n",
    "      samples=50, \n",
    "   ),\n",
    "   nn.Flatten(), \n",
    "   nn.Linear(20480, 10)\n",
    "   \n",
    ").to('cpu')\n",
    "   \n",
    "\n",
    "from torchsummary import summary\n",
    "summary(conv2d_nn_spatial_1_50, (3, 32, 32))"
   ]
  },
  {
   "cell_type": "markdown",
   "metadata": {},
   "source": [
    "## I. K = 1 with N = 1 -> 10 Evaluation"
   ]
  },
  {
   "cell_type": "code",
   "execution_count": 9,
   "metadata": {},
   "outputs": [
    {
     "name": "stdout",
     "output_type": "stream",
     "text": [
      "Files already downloaded and verified\n",
      "Files already downloaded and verified\n"
     ]
    }
   ],
   "source": [
    "# MNIST \n",
    "cifar10 = CIFAR10()"
   ]
  },
  {
   "cell_type": "code",
   "execution_count": 10,
   "metadata": {},
   "outputs": [
    {
     "name": "stdout",
     "output_type": "stream",
     "text": [
      "Epoch 1, Time: 13.438497066497803, Loss: 1.7903818167993784\n",
      "Epoch 2, Time: 13.138813018798828, Loss: 1.7143503491530943\n",
      "Epoch 3, Time: 12.911480188369751, Loss: 1.6899292484268813\n",
      "Epoch 4, Time: 12.761144161224365, Loss: 1.6747718633288313\n",
      "Epoch 5, Time: 12.776756048202515, Loss: 1.6637326079561277\n",
      "Epoch 6, Time: 12.742128849029541, Loss: 1.6536708760749348\n",
      "Epoch 7, Time: 12.773489952087402, Loss: 1.644391341130142\n",
      "Epoch 8, Time: 12.778810977935791, Loss: 1.63760158610161\n",
      "Epoch 9, Time: 12.883909940719604, Loss: 1.629565283922893\n",
      "Epoch 10, Time: 13.007895231246948, Loss: 1.623431273586\n",
      "\n",
      " Average epoch time: 12.921292543411255\n",
      "Accuracy on test set: 39.42%\n"
     ]
    },
    {
     "data": {
      "text/plain": [
       "39.42"
      ]
     },
     "execution_count": 10,
     "metadata": {},
     "output_type": "execute_result"
    }
   ],
   "source": [
    "# K = 1, N = 1\n",
    "conv2d_nn_spatial_1_1.to('mps')\n",
    "\n",
    "criterion = nn.CrossEntropyLoss()\n",
    "optimizer = optim.Adam(conv2d_nn_spatial_1_1.parameters(), lr=0.001)\n",
    "num_epochs = 10 \n",
    "train_model(conv2d_nn_spatial_1_1, cifar10.train_loader, criterion, optimizer, num_epochs)\n",
    "evaluate_accuracy(conv2d_nn_spatial_1_1, cifar10.test_loader)"
   ]
  },
  {
   "cell_type": "code",
   "execution_count": 11,
   "metadata": {},
   "outputs": [
    {
     "name": "stdout",
     "output_type": "stream",
     "text": [
      "Epoch 1, Time: 14.350910902023315, Loss: 1.7876567682036963\n",
      "Epoch 2, Time: 14.190898895263672, Loss: 1.714503028661089\n",
      "Epoch 3, Time: 13.790605068206787, Loss: 1.6907954330334578\n",
      "Epoch 4, Time: 13.728420972824097, Loss: 1.6748365999182777\n",
      "Epoch 5, Time: 14.026896953582764, Loss: 1.6647482150046111\n",
      "Epoch 6, Time: 15.086229085922241, Loss: 1.6545330325660803\n",
      "Epoch 7, Time: 13.7964768409729, Loss: 1.6438408245515945\n",
      "Epoch 8, Time: 13.894726037979126, Loss: 1.6360999123214761\n",
      "Epoch 9, Time: 13.989287853240967, Loss: 1.630476329790052\n",
      "Epoch 10, Time: 13.814203977584839, Loss: 1.6246904927446408\n",
      "\n",
      " Average epoch time: 14.06686565876007\n",
      "Accuracy on test set: 39.62%\n"
     ]
    },
    {
     "data": {
      "text/plain": [
       "39.62"
      ]
     },
     "execution_count": 11,
     "metadata": {},
     "output_type": "execute_result"
    }
   ],
   "source": [
    "# K = 1, N = 3\n",
    "conv2d_nn_spatial_1_3.to('mps')\n",
    "\n",
    "criterion = nn.CrossEntropyLoss()\n",
    "optimizer = optim.Adam(conv2d_nn_spatial_1_3.parameters(), lr=0.001)\n",
    "num_epochs = 10 \n",
    "train_model(conv2d_nn_spatial_1_3, cifar10.train_loader, criterion, optimizer, num_epochs)\n",
    "evaluate_accuracy(conv2d_nn_spatial_1_3, cifar10.test_loader)"
   ]
  },
  {
   "cell_type": "code",
   "execution_count": 12,
   "metadata": {},
   "outputs": [
    {
     "name": "stdout",
     "output_type": "stream",
     "text": [
      "Epoch 1, Time: 13.865356922149658, Loss: 1.790898582362153\n",
      "Epoch 2, Time: 13.578541040420532, Loss: 1.715665729911736\n",
      "Epoch 3, Time: 13.584688901901245, Loss: 1.6902736705892227\n",
      "Epoch 4, Time: 13.594220638275146, Loss: 1.6771418470555863\n",
      "Epoch 5, Time: 13.625880002975464, Loss: 1.6652212089589795\n",
      "Epoch 6, Time: 13.564597845077515, Loss: 1.6550769778468726\n",
      "Epoch 7, Time: 13.746368885040283, Loss: 1.6467211484299291\n",
      "Epoch 8, Time: 13.843865871429443, Loss: 1.6376178627428801\n",
      "Epoch 9, Time: 13.725908994674683, Loss: 1.6291106651201273\n",
      "Epoch 10, Time: 13.94502305984497, Loss: 1.6260179642521206\n",
      "\n",
      " Average epoch time: 13.707445216178893\n",
      "Accuracy on test set: 39.71%\n"
     ]
    },
    {
     "data": {
      "text/plain": [
       "39.71"
      ]
     },
     "execution_count": 12,
     "metadata": {},
     "output_type": "execute_result"
    }
   ],
   "source": [
    "# K = 1, N = 5\n",
    "conv2d_nn_spatial_1_5.to('mps')\n",
    "\n",
    "criterion = nn.CrossEntropyLoss()\n",
    "optimizer = optim.Adam(conv2d_nn_spatial_1_5.parameters(), lr=0.001)\n",
    "num_epochs = 10 \n",
    "train_model(conv2d_nn_spatial_1_5, cifar10.train_loader, criterion, optimizer, num_epochs)\n",
    "evaluate_accuracy(conv2d_nn_spatial_1_5, cifar10.test_loader)"
   ]
  },
  {
   "cell_type": "code",
   "execution_count": 13,
   "metadata": {},
   "outputs": [
    {
     "name": "stdout",
     "output_type": "stream",
     "text": [
      "Epoch 1, Time: 15.77119517326355, Loss: 1.7877429470686657\n",
      "Epoch 2, Time: 15.870949983596802, Loss: 1.7168424844436938\n",
      "Epoch 3, Time: 15.760993003845215, Loss: 1.6909412924590927\n",
      "Epoch 4, Time: 16.346081018447876, Loss: 1.6755051365898699\n",
      "Epoch 5, Time: 15.926007986068726, Loss: 1.6626268474342267\n",
      "Epoch 6, Time: 15.503043174743652, Loss: 1.6524086394883177\n",
      "Epoch 7, Time: 15.628216028213501, Loss: 1.6420877115500858\n",
      "Epoch 8, Time: 15.705940008163452, Loss: 1.6375670172369388\n",
      "Epoch 9, Time: 15.609393835067749, Loss: 1.6283322668746305\n",
      "Epoch 10, Time: 15.812525033950806, Loss: 1.6227368058450997\n",
      "\n",
      " Average epoch time: 15.793434524536133\n",
      "Accuracy on test set: 38.91%\n"
     ]
    },
    {
     "data": {
      "text/plain": [
       "38.91"
      ]
     },
     "execution_count": 13,
     "metadata": {},
     "output_type": "execute_result"
    }
   ],
   "source": [
    "# K = 1, N = 10\n",
    "conv2d_nn_spatial_1_10.to('mps')\n",
    "\n",
    "criterion = nn.CrossEntropyLoss()\n",
    "optimizer = optim.Adam(conv2d_nn_spatial_1_10.parameters(), lr=0.001)\n",
    "num_epochs = 10 \n",
    "train_model(conv2d_nn_spatial_1_10, cifar10.train_loader, criterion, optimizer, num_epochs)\n",
    "evaluate_accuracy(conv2d_nn_spatial_1_10, cifar10.test_loader)"
   ]
  },
  {
   "cell_type": "code",
   "execution_count": 18,
   "metadata": {},
   "outputs": [
    {
     "name": "stdout",
     "output_type": "stream",
     "text": [
      "Epoch 1, Time: 24.34777331352234, Loss: 1.78931407870539\n",
      "Epoch 2, Time: 23.106863260269165, Loss: 1.7124450142731142\n",
      "Epoch 3, Time: 23.37338900566101, Loss: 1.6915533673732788\n",
      "Epoch 4, Time: 23.491107940673828, Loss: 1.675816581377288\n",
      "Epoch 5, Time: 23.552350997924805, Loss: 1.6619408444675339\n",
      "Epoch 6, Time: 23.3624370098114, Loss: 1.6522475281334899\n",
      "Epoch 7, Time: 23.16347599029541, Loss: 1.6419482790600612\n",
      "Epoch 8, Time: 23.345176219940186, Loss: 1.6355134765510364\n",
      "Epoch 9, Time: 23.69002103805542, Loss: 1.6267641682149199\n",
      "Epoch 10, Time: 23.782790899276733, Loss: 1.6217124638959879\n",
      "\n",
      " Average epoch time: 23.52153856754303\n",
      "Accuracy on test set: 40.22%\n"
     ]
    },
    {
     "data": {
      "text/plain": [
       "40.22"
      ]
     },
     "execution_count": 18,
     "metadata": {},
     "output_type": "execute_result"
    }
   ],
   "source": [
    "# K = 1, N = 25\n",
    "conv2d_nn_spatial_1_25.to('mps')\n",
    "\n",
    "criterion = nn.CrossEntropyLoss()\n",
    "optimizer = optim.Adam(conv2d_nn_spatial_1_25.parameters(), lr=0.001)\n",
    "num_epochs = 10 \n",
    "train_model(conv2d_nn_spatial_1_25, cifar10.train_loader, criterion, optimizer, num_epochs)\n",
    "evaluate_accuracy(conv2d_nn_spatial_1_25, cifar10.test_loader)"
   ]
  },
  {
   "cell_type": "code",
   "execution_count": 16,
   "metadata": {},
   "outputs": [
    {
     "name": "stdout",
     "output_type": "stream",
     "text": [
      "Epoch 1, Time: 39.29172706604004, Loss: 1.7873980916674486\n",
      "Epoch 2, Time: 38.300456047058105, Loss: 1.7116770315962984\n",
      "Epoch 3, Time: 39.56763172149658, Loss: 1.6884060834374879\n",
      "Epoch 4, Time: 38.52392506599426, Loss: 1.6722898739378165\n",
      "Epoch 5, Time: 38.10700798034668, Loss: 1.6609601916559518\n",
      "Epoch 6, Time: 38.342888832092285, Loss: 1.6493037048813022\n",
      "Epoch 7, Time: 38.780776262283325, Loss: 1.6424902049476837\n",
      "Epoch 8, Time: 38.25904583930969, Loss: 1.632726330129082\n",
      "Epoch 9, Time: 37.80564618110657, Loss: 1.6266344648492916\n",
      "Epoch 10, Time: 38.259819984436035, Loss: 1.621729539635846\n",
      "\n",
      " Average epoch time: 38.52389249801636\n",
      "Accuracy on test set: 40.27%\n"
     ]
    },
    {
     "data": {
      "text/plain": [
       "40.27"
      ]
     },
     "execution_count": 16,
     "metadata": {},
     "output_type": "execute_result"
    }
   ],
   "source": [
    "# K = 1, N = 50\n",
    "conv2d_nn_spatial_1_50.to('mps')\n",
    "\n",
    "criterion = nn.CrossEntropyLoss()\n",
    "optimizer = optim.Adam(conv2d_nn_spatial_1_50.parameters(), lr=0.001)\n",
    "num_epochs = 10 \n",
    "train_model(conv2d_nn_spatial_1_50, cifar10.train_loader, criterion, optimizer, num_epochs)\n",
    "evaluate_accuracy(conv2d_nn_spatial_1_50, cifar10.test_loader)"
   ]
  }
 ],
 "metadata": {
  "kernelspec": {
   "display_name": "ML",
   "language": "python",
   "name": "python3"
  },
  "language_info": {
   "codemirror_mode": {
    "name": "ipython",
    "version": 3
   },
   "file_extension": ".py",
   "mimetype": "text/x-python",
   "name": "python",
   "nbconvert_exporter": "python",
   "pygments_lexer": "ipython3",
   "version": "3.12.0"
  }
 },
 "nbformat": 4,
 "nbformat_minor": 2
}
