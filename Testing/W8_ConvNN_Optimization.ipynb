{
 "cells": [
  {
   "cell_type": "markdown",
   "metadata": {},
   "source": [
    "### Conv1D Optimization Test\n"
   ]
  },
  {
   "cell_type": "code",
   "execution_count": 417,
   "metadata": {},
   "outputs": [],
   "source": [
    "# Torch\n",
    "import torch \n",
    "import torch.nn as nn\n",
    "import torch.nn.functional as F\n",
    "from torch import optim \n",
    "from torchsummary import summary\n",
    "\n",
    "\n",
    "# Train + Data \n",
    "import sys \n",
    "sys.path.append('../Layers')\n",
    "from Conv1d_NN import *\n",
    "from Conv2d_NN import *\n",
    "from Conv1d_NN_spatial import * \n",
    "from Conv2d_NN_spatial import * \n",
    "from ConvNN_CNN_Branching import *\n",
    "\n",
    "import random\n",
    "import numpy as np\n",
    "import torch\n",
    "import time \n"
   ]
  },
  {
   "cell_type": "code",
   "execution_count": 418,
   "metadata": {},
   "outputs": [],
   "source": [
    "ex = torch.randn(32, 3, 28)"
   ]
  },
  {
   "cell_type": "code",
   "execution_count": 419,
   "metadata": {},
   "outputs": [
    {
     "name": "stdout",
     "output_type": "stream",
     "text": [
      "Time taken for ca: 0.0012559890747070312 seconds\n",
      "Time taken for cs: 0.0011830329895019531 seconds\n"
     ]
    }
   ],
   "source": [
    "\n",
    "seed = 42  # Choose your seed\n",
    "\n",
    "# Set seed for Python's random module\n",
    "random.seed(seed)\n",
    "\n",
    "# Set seed for NumPy\n",
    "np.random.seed(seed)\n",
    "\n",
    "# Set seed for PyTorch (CPU)\n",
    "torch.manual_seed(seed)\n",
    "\n",
    "# If using GPU, set the seed for all GPUs\n",
    "if torch.cuda.is_available():\n",
    "    torch.cuda.manual_seed_all(seed)\n",
    "\n",
    "# Optional: For deterministic behavior (may impact performance)\n",
    "torch.backends.cudnn.deterministic = True\n",
    "torch.backends.cudnn.benchmark = False\n",
    "\n",
    "ca = Conv1d_NN(in_channels=3, \n",
    "                 out_channels=16, \n",
    "                 K=3, \n",
    "                 stride=3, \n",
    "                 padding=0, \n",
    "                 shuffle_pattern='N/A', \n",
    "                 shuffle_scale=2, \n",
    "                 samples='all', \n",
    "                 magnitude_type='similarity'\n",
    "                 )\n",
    "cs = Conv1d_NN(in_channels=3, \n",
    "                 out_channels=16, \n",
    "                 K=3, \n",
    "                 stride=3, \n",
    "                 padding=0, \n",
    "                 shuffle_pattern='N/A', \n",
    "                 shuffle_scale=2, \n",
    "                 samples=10, \n",
    "                 magnitude_type='similarity'\n",
    "                 )\n",
    "\n",
    "start = time.time()\n",
    "ca_out = ca(ex)\n",
    "end = time.time()\n",
    "print(f\"Time taken for ca: {end - start} seconds\")\n",
    "ca_time = end - start\n",
    "\n",
    "\n",
    "start = time.time()\n",
    "cs_out = cs(ex)\n",
    "end = time.time()\n",
    "print(f\"Time taken for cs: {end - start} seconds\")\n",
    "cs_time = end - start\n"
   ]
  },
  {
   "cell_type": "code",
   "execution_count": 420,
   "metadata": {},
   "outputs": [
    {
     "name": "stdout",
     "output_type": "stream",
     "text": [
      "Time taken for coa: 0.0009369850158691406 seconds\n",
      "Time taken for cos: 0.0010051727294921875 seconds\n"
     ]
    }
   ],
   "source": [
    "\n",
    "seed = 42  # Choose your seed\n",
    "\n",
    "# Set seed for Python's random module\n",
    "random.seed(seed)\n",
    "\n",
    "# Set seed for NumPy\n",
    "np.random.seed(seed)\n",
    "\n",
    "# Set seed for PyTorch (CPU)\n",
    "torch.manual_seed(seed)\n",
    "\n",
    "# If using GPU, set the seed for all GPUs\n",
    "if torch.cuda.is_available():\n",
    "    torch.cuda.manual_seed_all(seed)\n",
    "\n",
    "# Optional: For deterministic behavior (may impact performance)\n",
    "torch.backends.cudnn.deterministic = True\n",
    "torch.backends.cudnn.benchmark = False\n",
    "\n",
    "\n",
    "coa = Conv1d_NN_optimized(in_channels=3, \n",
    "                 out_channels=16, \n",
    "                 K=3, \n",
    "                 stride=3, \n",
    "                 padding=0, \n",
    "                 shuffle_pattern='N/A', \n",
    "                 shuffle_scale=2, \n",
    "                 samples='all', \n",
    "                 magnitude_type='similarity'\n",
    "                 )\n",
    "cos = Conv1d_NN_optimized(in_channels=3, \n",
    "                 out_channels=16, \n",
    "                 K=3, \n",
    "                 stride=3, \n",
    "                 padding=0, \n",
    "                 shuffle_pattern='N/A', \n",
    "                 shuffle_scale=2, \n",
    "                 samples=10, \n",
    "                 magnitude_type='similarity'\n",
    "                 )\n",
    "\n",
    "start = time.time()\n",
    "coa_out = coa(ex)\n",
    "end = time.time()\n",
    "print(f\"Time taken for coa: {end - start} seconds\")\n",
    "coa_time = end - start\n",
    "\n",
    "start = time.time()\n",
    "cos_out = cos(ex)\n",
    "end = time.time()\n",
    "print(f\"Time taken for cos: {end - start} seconds\")\n",
    "cos_time = end - start\n"
   ]
  },
  {
   "cell_type": "code",
   "execution_count": 421,
   "metadata": {},
   "outputs": [
    {
     "name": "stdout",
     "output_type": "stream",
     "text": [
      "ca_time:  0.0012559890747070312\n",
      "cs_time:  0.0011830329895019531\n",
      "\n",
      "coa_time:  0.0009369850158691406\n",
      "cos_time:  0.0010051727294921875\n"
     ]
    }
   ],
   "source": [
    "print(\"ca_time: \", ca_time)\n",
    "print(\"cs_time: \", cs_time)\n",
    "print()\n",
    "print(\"coa_time: \", coa_time)\n",
    "print(\"cos_time: \", cos_time)"
   ]
  },
  {
   "cell_type": "code",
   "execution_count": 422,
   "metadata": {},
   "outputs": [
    {
     "name": "stdout",
     "output_type": "stream",
     "text": [
      "Speedup for 'all' samples:  1.3404580152671757\n",
      "Speedup for 10 samples:  1.176944971537002\n",
      "\n"
     ]
    }
   ],
   "source": [
    "print(\"Speedup for 'all' samples: \", ca_time / coa_time)\n",
    "print(\"Speedup for 10 samples: \", cs_time / cos_time)\n",
    "print() \n"
   ]
  },
  {
   "cell_type": "code",
   "execution_count": 423,
   "metadata": {},
   "outputs": [
    {
     "name": "stdout",
     "output_type": "stream",
     "text": [
      "True\n",
      "True\n"
     ]
    }
   ],
   "source": [
    "print(torch.allclose(ca_out, coa_out))\n",
    "print(torch.allclose(cs_out, cos_out))"
   ]
  },
  {
   "cell_type": "markdown",
   "metadata": {},
   "source": [
    "### Conv2D Optimization Test\n"
   ]
  },
  {
   "cell_type": "code",
   "execution_count": 424,
   "metadata": {},
   "outputs": [],
   "source": [
    "ex = torch.randn(32, 3, 28, 28)"
   ]
  },
  {
   "cell_type": "code",
   "execution_count": 425,
   "metadata": {},
   "outputs": [
    {
     "name": "stdout",
     "output_type": "stream",
     "text": [
      "Time taken for ca: 0.0318601131439209 seconds\n",
      "Time taken for cs: 0.0069310665130615234 seconds\n"
     ]
    }
   ],
   "source": [
    "\n",
    "seed = 42  # Choose your seed\n",
    "\n",
    "# Set seed for Python's random module\n",
    "random.seed(seed)\n",
    "\n",
    "# Set seed for NumPy\n",
    "np.random.seed(seed)\n",
    "\n",
    "# Set seed for PyTorch (CPU)\n",
    "torch.manual_seed(seed)\n",
    "\n",
    "# If using GPU, set the seed for all GPUs\n",
    "if torch.cuda.is_available():\n",
    "    torch.cuda.manual_seed_all(seed)\n",
    "\n",
    "# Optional: For deterministic behavior (may impact performance)\n",
    "torch.backends.cudnn.deterministic = True\n",
    "torch.backends.cudnn.benchmark = False\n",
    "\n",
    "ca = Conv2d_NN(in_channels=3, \n",
    "                 out_channels=16, \n",
    "                 K=3, \n",
    "                 stride=3, \n",
    "                 padding=0, \n",
    "                 shuffle_pattern='N/A', \n",
    "                 shuffle_scale=2, \n",
    "                 samples='all', \n",
    "                 magnitude_type='similarity'\n",
    "                 )\n",
    "cs = Conv2d_NN(in_channels=3, \n",
    "                 out_channels=16, \n",
    "                 K=3, \n",
    "                 stride=3, \n",
    "                 padding=0, \n",
    "                 shuffle_pattern='N/A', \n",
    "                 shuffle_scale=2, \n",
    "                 samples=10, \n",
    "                 magnitude_type='similarity'\n",
    "                 )\n",
    "\n",
    "start = time.time()\n",
    "ca_out = ca(ex)\n",
    "end = time.time()\n",
    "print(f\"Time taken for ca: {end - start} seconds\")\n",
    "ca_time = end - start\n",
    "\n",
    "\n",
    "start = time.time()\n",
    "cs_out = cs(ex)\n",
    "end = time.time()\n",
    "print(f\"Time taken for cs: {end - start} seconds\")\n",
    "cs_time = end - start\n"
   ]
  },
  {
   "cell_type": "code",
   "execution_count": 426,
   "metadata": {},
   "outputs": [
    {
     "name": "stdout",
     "output_type": "stream",
     "text": [
      "Time taken for coa: 0.03147530555725098 seconds\n",
      "Time taken for cos: 0.0072901248931884766 seconds\n"
     ]
    }
   ],
   "source": [
    "\n",
    "seed = 42  # Choose your seed\n",
    "\n",
    "# Set seed for Python's random module\n",
    "random.seed(seed)\n",
    "\n",
    "# Set seed for NumPy\n",
    "np.random.seed(seed)\n",
    "\n",
    "# Set seed for PyTorch (CPU)\n",
    "torch.manual_seed(seed)\n",
    "\n",
    "# If using GPU, set the seed for all GPUs\n",
    "if torch.cuda.is_available():\n",
    "    torch.cuda.manual_seed_all(seed)\n",
    "\n",
    "# Optional: For deterministic behavior (may impact performance)\n",
    "torch.backends.cudnn.deterministic = True\n",
    "torch.backends.cudnn.benchmark = False\n",
    "\n",
    "\n",
    "coa = Conv2d_NN_optimized(in_channels=3, \n",
    "                 out_channels=16, \n",
    "                 K=3, \n",
    "                 stride=3, \n",
    "                 padding=0, \n",
    "                 shuffle_pattern='N/A', \n",
    "                 shuffle_scale=2, \n",
    "                 samples='all', \n",
    "                 magnitude_type='similarity'\n",
    "                 )\n",
    "cos = Conv2d_NN_optimized(in_channels=3, \n",
    "                 out_channels=16, \n",
    "                 K=3, \n",
    "                 stride=3, \n",
    "                 padding=0, \n",
    "                 shuffle_pattern='N/A', \n",
    "                 shuffle_scale=2, \n",
    "                 samples=10, \n",
    "                 magnitude_type='similarity'\n",
    "                 )\n",
    "\n",
    "start = time.time()\n",
    "coa_out = coa(ex)\n",
    "end = time.time()\n",
    "print(f\"Time taken for coa: {end - start} seconds\")\n",
    "coa_time = end - start\n",
    "\n",
    "start = time.time()\n",
    "cos_out = cos(ex)\n",
    "end = time.time()\n",
    "print(f\"Time taken for cos: {end - start} seconds\")\n",
    "cos_time = end - start\n"
   ]
  },
  {
   "cell_type": "code",
   "execution_count": 427,
   "metadata": {},
   "outputs": [
    {
     "name": "stdout",
     "output_type": "stream",
     "text": [
      "ca_time:  0.0318601131439209\n",
      "cs_time:  0.0069310665130615234\n",
      "\n",
      "coa_time:  0.03147530555725098\n",
      "cos_time:  0.0072901248931884766\n"
     ]
    }
   ],
   "source": [
    "print(\"ca_time: \", ca_time)\n",
    "print(\"cs_time: \", cs_time)\n",
    "print()\n",
    "print(\"coa_time: \", coa_time)\n",
    "print(\"cos_time: \", cos_time)"
   ]
  },
  {
   "cell_type": "code",
   "execution_count": 428,
   "metadata": {},
   "outputs": [
    {
     "name": "stdout",
     "output_type": "stream",
     "text": [
      "Speedup for 'all' samples:  1.0122256982055342\n",
      "Speedup for 10 samples:  0.9507472937175001\n",
      "\n"
     ]
    }
   ],
   "source": [
    "print(\"Speedup for 'all' samples: \", ca_time / coa_time)\n",
    "print(\"Speedup for 10 samples: \", cs_time / cos_time)\n",
    "print() \n"
   ]
  },
  {
   "cell_type": "code",
   "execution_count": 429,
   "metadata": {},
   "outputs": [
    {
     "name": "stdout",
     "output_type": "stream",
     "text": [
      "True\n",
      "True\n"
     ]
    }
   ],
   "source": [
    "print(torch.allclose(ca_out, coa_out))\n",
    "print(torch.allclose(cs_out, cos_out))"
   ]
  },
  {
   "cell_type": "code",
   "execution_count": null,
   "metadata": {},
   "outputs": [],
   "source": []
  }
 ],
 "metadata": {
  "kernelspec": {
   "display_name": "ML",
   "language": "python",
   "name": "python3"
  },
  "language_info": {
   "codemirror_mode": {
    "name": "ipython",
    "version": 3
   },
   "file_extension": ".py",
   "mimetype": "text/x-python",
   "name": "python",
   "nbconvert_exporter": "python",
   "pygments_lexer": "ipython3",
   "version": "3.12.0"
  }
 },
 "nbformat": 4,
 "nbformat_minor": 2
}
