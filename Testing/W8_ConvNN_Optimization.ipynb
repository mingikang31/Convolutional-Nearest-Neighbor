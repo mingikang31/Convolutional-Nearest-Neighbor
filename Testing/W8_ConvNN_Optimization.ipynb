{
 "cells": [
  {
   "cell_type": "markdown",
   "metadata": {},
   "source": [
    "### Conv1D Optimization Test\n"
   ]
  },
  {
   "cell_type": "code",
   "execution_count": 1,
   "metadata": {},
   "outputs": [],
   "source": [
    "# Torch\n",
    "import torch \n",
    "import torch.nn as nn\n",
    "import torch.nn.functional as F\n",
    "from torch import optim \n",
    "from torchsummary import summary\n",
    "\n",
    "\n",
    "# Train + Data \n",
    "import sys \n",
    "sys.path.append('../Layers')\n",
    "from Conv1d_NN import *\n",
    "from Conv2d_NN import *\n",
    "from Conv1d_NN_spatial import * \n",
    "from Conv2d_NN_spatial import * \n",
    "from ConvNN_CNN_Branching import *\n",
    "\n",
    "import random\n",
    "import numpy as np\n",
    "import torch\n",
    "import time \n"
   ]
  },
  {
   "cell_type": "code",
   "execution_count": 2,
   "metadata": {},
   "outputs": [],
   "source": [
    "ex = torch.randn(32, 3, 1000)"
   ]
  },
  {
   "cell_type": "code",
   "execution_count": 3,
   "metadata": {},
   "outputs": [
    {
     "name": "stdout",
     "output_type": "stream",
     "text": [
      "Time taken for ca: 0.19294500350952148 seconds\n",
      "Time taken for cs: 0.033386945724487305 seconds\n"
     ]
    }
   ],
   "source": [
    "\n",
    "seed = 42  # Choose your seed\n",
    "\n",
    "# Set seed for Python's random module\n",
    "random.seed(seed)\n",
    "\n",
    "# Set seed for NumPy\n",
    "np.random.seed(seed)\n",
    "\n",
    "# Set seed for PyTorch (CPU)\n",
    "torch.manual_seed(seed)\n",
    "\n",
    "# If using GPU, set the seed for all GPUs\n",
    "if torch.cuda.is_available():\n",
    "    torch.cuda.manual_seed_all(seed)\n",
    "\n",
    "# Optional: For deterministic behavior (may impact performance)\n",
    "torch.backends.cudnn.deterministic = True\n",
    "torch.backends.cudnn.benchmark = False\n",
    "\n",
    "ca = Conv1d_NN(in_channels=3, \n",
    "                 out_channels=16, \n",
    "                 K=3, \n",
    "                 stride=3, \n",
    "                 padding=0, \n",
    "                 shuffle_pattern='N/A', \n",
    "                 shuffle_scale=2, \n",
    "                 samples='all', \n",
    "                 magnitude_type='similarity'\n",
    "                 )\n",
    "cs = Conv1d_NN(in_channels=3, \n",
    "                 out_channels=16, \n",
    "                 K=3, \n",
    "                 stride=3, \n",
    "                 padding=0, \n",
    "                 shuffle_pattern='N/A', \n",
    "                 shuffle_scale=2, \n",
    "                 samples=10, \n",
    "                 magnitude_type='similarity'\n",
    "                 )\n",
    "\n",
    "start = time.time()\n",
    "ca_out = ca(ex)\n",
    "end = time.time()\n",
    "print(f\"Time taken for ca: {end - start} seconds\")\n",
    "ca_time = end - start\n",
    "\n",
    "\n",
    "start = time.time()\n",
    "cs_out = cs(ex)\n",
    "end = time.time()\n",
    "print(f\"Time taken for cs: {end - start} seconds\")\n",
    "cs_time = end - start\n"
   ]
  },
  {
   "cell_type": "code",
   "execution_count": 4,
   "metadata": {},
   "outputs": [
    {
     "name": "stdout",
     "output_type": "stream",
     "text": [
      "Time taken for coa: 0.047335147857666016 seconds\n",
      "Time taken for cos: 0.009145736694335938 seconds\n"
     ]
    }
   ],
   "source": [
    "\n",
    "seed = 42  # Choose your seed\n",
    "\n",
    "# Set seed for Python's random module\n",
    "random.seed(seed)\n",
    "\n",
    "# Set seed for NumPy\n",
    "np.random.seed(seed)\n",
    "\n",
    "# Set seed for PyTorch (CPU)\n",
    "torch.manual_seed(seed)\n",
    "\n",
    "# If using GPU, set the seed for all GPUs\n",
    "if torch.cuda.is_available():\n",
    "    torch.cuda.manual_seed_all(seed)\n",
    "\n",
    "# Optional: For deterministic behavior (may impact performance)\n",
    "torch.backends.cudnn.deterministic = True\n",
    "torch.backends.cudnn.benchmark = False\n",
    "\n",
    "\n",
    "coa = Conv1d_NN_optimized(in_channels=3, \n",
    "                 out_channels=16, \n",
    "                 K=3, \n",
    "                 stride=3, \n",
    "                 padding=0, \n",
    "                 shuffle_pattern='N/A', \n",
    "                 shuffle_scale=2, \n",
    "                 samples='all', \n",
    "                 magnitude_type='similarity'\n",
    "                 )\n",
    "cos = Conv1d_NN_optimized(in_channels=3, \n",
    "                 out_channels=16, \n",
    "                 K=3, \n",
    "                 stride=3, \n",
    "                 padding=0, \n",
    "                 shuffle_pattern='N/A', \n",
    "                 shuffle_scale=2, \n",
    "                 samples=10, \n",
    "                 magnitude_type='similarity'\n",
    "                 )\n",
    "\n",
    "start = time.time()\n",
    "coa_out = coa(ex)\n",
    "end = time.time()\n",
    "print(f\"Time taken for coa: {end - start} seconds\")\n",
    "coa_time = end - start\n",
    "\n",
    "start = time.time()\n",
    "cos_out = cos(ex)\n",
    "end = time.time()\n",
    "print(f\"Time taken for cos: {end - start} seconds\")\n",
    "cos_time = end - start\n"
   ]
  },
  {
   "cell_type": "code",
   "execution_count": 5,
   "metadata": {},
   "outputs": [
    {
     "name": "stdout",
     "output_type": "stream",
     "text": [
      "ca_time:  0.19294500350952148\n",
      "cs_time:  0.033386945724487305\n",
      "\n",
      "coa_time:  0.047335147857666016\n",
      "cos_time:  0.009145736694335938\n"
     ]
    }
   ],
   "source": [
    "print(\"ca_time: \", ca_time)\n",
    "print(\"cs_time: \", cs_time)\n",
    "print()\n",
    "print(\"coa_time: \", coa_time)\n",
    "print(\"cos_time: \", cos_time)"
   ]
  },
  {
   "cell_type": "code",
   "execution_count": 6,
   "metadata": {},
   "outputs": [
    {
     "name": "stdout",
     "output_type": "stream",
     "text": [
      "Speedup for 'all' samples:  4.076146631879036\n",
      "Speedup for 10 samples:  3.6505474452554743\n",
      "\n"
     ]
    }
   ],
   "source": [
    "print(\"Speedup for 'all' samples: \", ca_time / coa_time)\n",
    "print(\"Speedup for 10 samples: \", cs_time / cos_time)\n",
    "print() \n"
   ]
  },
  {
   "cell_type": "code",
   "execution_count": 7,
   "metadata": {},
   "outputs": [
    {
     "name": "stdout",
     "output_type": "stream",
     "text": [
      "True\n",
      "True\n"
     ]
    }
   ],
   "source": [
    "print(torch.allclose(ca_out, coa_out))\n",
    "print(torch.allclose(cs_out, cos_out))"
   ]
  },
  {
   "cell_type": "markdown",
   "metadata": {},
   "source": [
    "### Conv2D Optimization Test\n"
   ]
  },
  {
   "cell_type": "code",
   "execution_count": 8,
   "metadata": {},
   "outputs": [],
   "source": [
    "ex = torch.randn(32, 3, 100, 100)"
   ]
  },
  {
   "cell_type": "code",
   "execution_count": 9,
   "metadata": {},
   "outputs": [
    {
     "name": "stdout",
     "output_type": "stream",
     "text": [
      "Time taken for ca: 17.25167179107666 seconds\n",
      "Time taken for cs: 0.35100579261779785 seconds\n"
     ]
    }
   ],
   "source": [
    "\n",
    "seed = 42  # Choose your seed\n",
    "\n",
    "# Set seed for Python's random module\n",
    "random.seed(seed)\n",
    "\n",
    "# Set seed for NumPy\n",
    "np.random.seed(seed)\n",
    "\n",
    "# Set seed for PyTorch (CPU)\n",
    "torch.manual_seed(seed)\n",
    "\n",
    "# If using GPU, set the seed for all GPUs\n",
    "if torch.cuda.is_available():\n",
    "    torch.cuda.manual_seed_all(seed)\n",
    "\n",
    "# Optional: For deterministic behavior (may impact performance)\n",
    "torch.backends.cudnn.deterministic = True\n",
    "torch.backends.cudnn.benchmark = False\n",
    "\n",
    "ca = Conv2d_NN(in_channels=3, \n",
    "                 out_channels=16, \n",
    "                 K=3, \n",
    "                 stride=3, \n",
    "                 padding=0, \n",
    "                 shuffle_pattern='N/A', \n",
    "                 shuffle_scale=2, \n",
    "                 samples='all', \n",
    "                 magnitude_type='similarity'\n",
    "                 )\n",
    "cs = Conv2d_NN(in_channels=3, \n",
    "                 out_channels=16, \n",
    "                 K=3, \n",
    "                 stride=3, \n",
    "                 padding=0, \n",
    "                 shuffle_pattern='N/A', \n",
    "                 shuffle_scale=2, \n",
    "                 samples=10, \n",
    "                 magnitude_type='similarity'\n",
    "                 )\n",
    "\n",
    "start = time.time()\n",
    "ca_out = ca(ex)\n",
    "end = time.time()\n",
    "print(f\"Time taken for ca: {end - start} seconds\")\n",
    "ca_time = end - start\n",
    "\n",
    "\n",
    "start = time.time()\n",
    "cs_out = cs(ex)\n",
    "end = time.time()\n",
    "print(f\"Time taken for cs: {end - start} seconds\")\n",
    "cs_time = end - start\n"
   ]
  },
  {
   "cell_type": "code",
   "execution_count": 10,
   "metadata": {},
   "outputs": [
    {
     "name": "stdout",
     "output_type": "stream",
     "text": [
      "Time taken for coa: 35.238664865493774 seconds\n",
      "Time taken for cos: 0.11028575897216797 seconds\n"
     ]
    }
   ],
   "source": [
    "\n",
    "seed = 42  # Choose your seed\n",
    "\n",
    "# Set seed for Python's random module\n",
    "random.seed(seed)\n",
    "\n",
    "# Set seed for NumPy\n",
    "np.random.seed(seed)\n",
    "\n",
    "# Set seed for PyTorch (CPU)\n",
    "torch.manual_seed(seed)\n",
    "\n",
    "# If using GPU, set the seed for all GPUs\n",
    "if torch.cuda.is_available():\n",
    "    torch.cuda.manual_seed_all(seed)\n",
    "\n",
    "# Optional: For deterministic behavior (may impact performance)\n",
    "torch.backends.cudnn.deterministic = True\n",
    "torch.backends.cudnn.benchmark = False\n",
    "\n",
    "\n",
    "coa = Conv2d_NN_optimized(in_channels=3, \n",
    "                 out_channels=16, \n",
    "                 K=3, \n",
    "                 stride=3, \n",
    "                 padding=0, \n",
    "                 shuffle_pattern='N/A', \n",
    "                 shuffle_scale=2, \n",
    "                 samples='all', \n",
    "                 magnitude_type='similarity'\n",
    "                 )\n",
    "cos = Conv2d_NN_optimized(in_channels=3, \n",
    "                 out_channels=16, \n",
    "                 K=3, \n",
    "                 stride=3, \n",
    "                 padding=0, \n",
    "                 shuffle_pattern='N/A', \n",
    "                 shuffle_scale=2, \n",
    "                 samples=10, \n",
    "                 magnitude_type='similarity'\n",
    "                 )\n",
    "\n",
    "start = time.time()\n",
    "coa_out = coa(ex)\n",
    "end = time.time()\n",
    "print(f\"Time taken for coa: {end - start} seconds\")\n",
    "coa_time = end - start\n",
    "\n",
    "start = time.time()\n",
    "cos_out = cos(ex)\n",
    "end = time.time()\n",
    "print(f\"Time taken for cos: {end - start} seconds\")\n",
    "cos_time = end - start\n"
   ]
  },
  {
   "cell_type": "code",
   "execution_count": 11,
   "metadata": {},
   "outputs": [
    {
     "name": "stdout",
     "output_type": "stream",
     "text": [
      "ca_time:  17.25167179107666\n",
      "cs_time:  0.35100579261779785\n",
      "\n",
      "coa_time:  35.238664865493774\n",
      "cos_time:  0.11028575897216797\n"
     ]
    }
   ],
   "source": [
    "print(\"ca_time: \", ca_time)\n",
    "print(\"cs_time: \", cs_time)\n",
    "print()\n",
    "print(\"coa_time: \", coa_time)\n",
    "print(\"cos_time: \", cos_time)"
   ]
  },
  {
   "cell_type": "code",
   "execution_count": 12,
   "metadata": {},
   "outputs": [
    {
     "name": "stdout",
     "output_type": "stream",
     "text": [
      "Speedup for 'all' samples:  0.4895665558535322\n",
      "Speedup for 10 samples:  3.1826937211936737\n",
      "\n"
     ]
    }
   ],
   "source": [
    "print(\"Speedup for 'all' samples: \", ca_time / coa_time)\n",
    "print(\"Speedup for 10 samples: \", cs_time / cos_time)\n",
    "print() \n"
   ]
  },
  {
   "cell_type": "code",
   "execution_count": 13,
   "metadata": {},
   "outputs": [
    {
     "name": "stdout",
     "output_type": "stream",
     "text": [
      "True\n",
      "True\n"
     ]
    }
   ],
   "source": [
    "print(torch.allclose(ca_out, coa_out))\n",
    "print(torch.allclose(cs_out, cos_out))"
   ]
  }
 ],
 "metadata": {
  "kernelspec": {
   "display_name": "ML",
   "language": "python",
   "name": "python3"
  },
  "language_info": {
   "codemirror_mode": {
    "name": "ipython",
    "version": 3
   },
   "file_extension": ".py",
   "mimetype": "text/x-python",
   "name": "python",
   "nbconvert_exporter": "python",
   "pygments_lexer": "ipython3",
   "version": "3.12.0"
  }
 },
 "nbformat": 4,
 "nbformat_minor": 2
}
