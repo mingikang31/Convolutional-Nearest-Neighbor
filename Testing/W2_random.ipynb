{
 "cells": [
  {
   "cell_type": "markdown",
   "metadata": {},
   "source": [
    "# ConvNN Random Sampling Time Complexity Test"
   ]
  },
  {
   "cell_type": "markdown",
   "metadata": {},
   "source": [
    "- Random Sampling method takes equal or longer than all samples. Need to figure out what is going on \n",
    "- Try to use the same random seed for all tests\n",
    "- Try n = 1 for sample, this should be very quick"
   ]
  },
  {
   "cell_type": "code",
   "execution_count": 1,
   "metadata": {},
   "outputs": [
    {
     "name": "stderr",
     "output_type": "stream",
     "text": [
      "/Users/mingikang/miniforge3/envs/ML/lib/python3.12/site-packages/tqdm/auto.py:21: TqdmWarning: IProgress not found. Please update jupyter and ipywidgets. See https://ipywidgets.readthedocs.io/en/stable/user_install.html\n",
      "  from .autonotebook import tqdm as notebook_tqdm\n"
     ]
    }
   ],
   "source": [
    "# Torch\n",
    "import torch \n",
    "import torch.nn as nn\n",
    "import torch.nn.functional as F\n",
    "from torch import optim \n",
    "\n",
    "\n",
    "# Train + Data \n",
    "import sys \n",
    "sys.path.append('../Layers')\n",
    "from Conv1d_NN import * \n",
    "from Conv2d_NN import * \n",
    "\n",
    "sys.path.append('../Data')\n",
    "from CIFAR10 import * \n",
    "\n",
    "\n",
    "sys.path.append('../Train')\n",
    "from train2d import * \n"
   ]
  },
  {
   "cell_type": "markdown",
   "metadata": {},
   "source": [
    "## I. 2D Testing - Time Complexity Test"
   ]
  },
  {
   "cell_type": "markdown",
   "metadata": {},
   "source": [
    "### i. Conv2d_NN "
   ]
  },
  {
   "cell_type": "code",
   "execution_count": 2,
   "metadata": {},
   "outputs": [
    {
     "name": "stdout",
     "output_type": "stream",
     "text": [
      "Input:  torch.Size([32, 1, 28, 28])\n",
      "Output:  torch.Size([32, 3, 28, 28])\n"
     ]
    }
   ],
   "source": [
    "# Example\n",
    "ex = torch.rand(32, 1, 28, 28) \n",
    "print(\"Input: \", ex.shape)\n",
    "\n",
    "conv2d_nn = Conv2d_NN(in_channels=1, out_channels=3, K=3, stride=3, padding=0, shuffle_pattern=\"N/A\", shuffle_scale=2, samples=5)\n",
    "output = conv2d_nn(ex)\n",
    "print(\"Output: \", output.shape)\n",
    "      "
   ]
  },
  {
   "cell_type": "markdown",
   "metadata": {},
   "source": [
    "### ii. Models"
   ]
  },
  {
   "cell_type": "code",
   "execution_count": 3,
   "metadata": {},
   "outputs": [
    {
     "name": "stdout",
     "output_type": "stream",
     "text": [
      "----------------------------------------------------------------\n",
      "        Layer (type)               Output Shape         Param #\n",
      "================================================================\n",
      "           Flatten-1              [-1, 12, 256]               0\n",
      "            Conv1d-2              [-1, 20, 256]             260\n",
      "         Conv1d_NN-3              [-1, 20, 256]               0\n",
      "         Conv2d_NN-4            [-1, 5, 32, 32]               0\n",
      "           Flatten-5              [-1, 20, 256]               0\n",
      "            Conv1d-6              [-1, 40, 256]             840\n",
      "         Conv1d_NN-7              [-1, 40, 256]               0\n",
      "         Conv2d_NN-8           [-1, 10, 32, 32]               0\n",
      "           Flatten-9              [-1, 40, 256]               0\n",
      "           Conv1d-10              [-1, 80, 256]           3,280\n",
      "        Conv1d_NN-11              [-1, 80, 256]               0\n",
      "        Conv2d_NN-12           [-1, 20, 32, 32]               0\n",
      "          Flatten-13                [-1, 20480]               0\n",
      "           Linear-14                   [-1, 10]         204,810\n",
      "================================================================\n",
      "Total params: 209,190\n",
      "Trainable params: 209,190\n",
      "Non-trainable params: 0\n",
      "----------------------------------------------------------------\n",
      "Input size (MB): 0.01\n",
      "Forward/backward pass size (MB): 1.12\n",
      "Params size (MB): 0.80\n",
      "Estimated Total Size (MB): 1.93\n",
      "----------------------------------------------------------------\n"
     ]
    }
   ],
   "source": [
    "# all sample model\n",
    "conv2d_nn_all = nn.Sequential(\n",
    "   Conv2d_NN(\n",
    "      in_channels=3,\n",
    "      out_channels=5,\n",
    "      K=1,\n",
    "      stride=1,\n",
    "      padding=0,\n",
    "      shuffle_pattern=\"BA\", \n",
    "      shuffle_scale=2, \n",
    "      samples=\"all\", \n",
    "   ), \n",
    "   Conv2d_NN(\n",
    "      in_channels=5,\n",
    "      out_channels=10,\n",
    "      K=1,\n",
    "      stride=1,\n",
    "      padding=0,\n",
    "      shuffle_pattern=\"BA\", \n",
    "      shuffle_scale=2, \n",
    "      samples=\"all\", \n",
    "   ),\n",
    "   Conv2d_NN(\n",
    "      in_channels=10,\n",
    "      out_channels=20,\n",
    "      K=1,\n",
    "      stride=1,\n",
    "      padding=0,\n",
    "      shuffle_pattern=\"BA\", \n",
    "      shuffle_scale=2, \n",
    "      samples=\"all\", \n",
    "   ),\n",
    "   nn.Flatten(), \n",
    "   nn.Linear(20480, 10)\n",
    "   \n",
    ").to('cpu')\n",
    "   \n",
    "\n",
    "from torchsummary import summary\n",
    "summary(conv2d_nn_all, (3, 32, 32))\n"
   ]
  },
  {
   "cell_type": "code",
   "execution_count": 4,
   "metadata": {},
   "outputs": [
    {
     "name": "stdout",
     "output_type": "stream",
     "text": [
      "----------------------------------------------------------------\n",
      "        Layer (type)               Output Shape         Param #\n",
      "================================================================\n",
      "           Flatten-1              [-1, 12, 256]               0\n",
      "            Conv1d-2              [-1, 20, 256]             260\n",
      "         Conv1d_NN-3              [-1, 20, 256]               0\n",
      "         Conv2d_NN-4            [-1, 5, 32, 32]               0\n",
      "           Flatten-5              [-1, 20, 256]               0\n",
      "            Conv1d-6              [-1, 40, 256]             840\n",
      "         Conv1d_NN-7              [-1, 40, 256]               0\n",
      "         Conv2d_NN-8           [-1, 10, 32, 32]               0\n",
      "           Flatten-9              [-1, 40, 256]               0\n",
      "           Conv1d-10              [-1, 80, 256]           3,280\n",
      "        Conv1d_NN-11              [-1, 80, 256]               0\n",
      "        Conv2d_NN-12           [-1, 20, 32, 32]               0\n",
      "          Flatten-13                [-1, 20480]               0\n",
      "           Linear-14                   [-1, 10]         204,810\n",
      "================================================================\n",
      "Total params: 209,190\n",
      "Trainable params: 209,190\n",
      "Non-trainable params: 0\n",
      "----------------------------------------------------------------\n",
      "Input size (MB): 0.01\n",
      "Forward/backward pass size (MB): 1.12\n",
      "Params size (MB): 0.80\n",
      "Estimated Total Size (MB): 1.93\n",
      "----------------------------------------------------------------\n"
     ]
    }
   ],
   "source": [
    "# n = 1 sample model\n",
    "conv2d_nn_1 = nn.Sequential(\n",
    "   Conv2d_NN(\n",
    "      in_channels=3,\n",
    "      out_channels=5,\n",
    "      K=1,\n",
    "      stride=1,\n",
    "      padding=0,\n",
    "      shuffle_pattern=\"BA\", \n",
    "      shuffle_scale=2, \n",
    "      samples=1, \n",
    "   ), \n",
    "   Conv2d_NN(\n",
    "      in_channels=5,\n",
    "      out_channels=10,\n",
    "      K=1,\n",
    "      stride=1,\n",
    "      padding=0,\n",
    "      shuffle_pattern=\"BA\", \n",
    "      shuffle_scale=2, \n",
    "      samples=1, \n",
    "   ),\n",
    "   Conv2d_NN(\n",
    "      in_channels=10,\n",
    "      out_channels=20,\n",
    "      K=1,\n",
    "      stride=1,\n",
    "      padding=0,\n",
    "      shuffle_pattern=\"BA\", \n",
    "      shuffle_scale=2, \n",
    "      samples=1, \n",
    "   ),\n",
    "   nn.Flatten(), \n",
    "   nn.Linear(20480, 10)\n",
    "   \n",
    ").to('cpu')\n",
    "   \n",
    "\n",
    "from torchsummary import summary\n",
    "summary(conv2d_nn_1, (3, 32, 32))"
   ]
  },
  {
   "cell_type": "markdown",
   "metadata": {},
   "source": [
    "### iii. Data + Training"
   ]
  },
  {
   "cell_type": "code",
   "execution_count": 5,
   "metadata": {},
   "outputs": [
    {
     "name": "stdout",
     "output_type": "stream",
     "text": [
      "Files already downloaded and verified\n",
      "Files already downloaded and verified\n"
     ]
    }
   ],
   "source": [
    "# MNIST \n",
    "cifar10 = CIFAR10()\n"
   ]
  },
  {
   "cell_type": "code",
   "execution_count": 6,
   "metadata": {},
   "outputs": [
    {
     "name": "stdout",
     "output_type": "stream",
     "text": [
      "Epoch 1, Time: 33.16854500770569, Loss: 1.8030061689789032\n",
      "Epoch 2, Time: 32.9063937664032, Loss: 1.7296879790018282\n",
      "Epoch 3, Time: 32.79917025566101, Loss: 1.7079878170471972\n",
      "Epoch 4, Time: 32.795594215393066, Loss: 1.6920543495956284\n",
      "Epoch 5, Time: 32.94094491004944, Loss: 1.6797637506519132\n",
      "Epoch 6, Time: 32.8787841796875, Loss: 1.6706648008597782\n",
      "Epoch 7, Time: 32.99019765853882, Loss: 1.6626758720258923\n",
      "Epoch 8, Time: 32.972837924957275, Loss: 1.6540381501397818\n",
      "Epoch 9, Time: 32.849344968795776, Loss: 1.6475171594668532\n",
      "Epoch 10, Time: 32.607789039611816, Loss: 1.6425090218748888\n",
      "\n",
      " Average epoch time: 32.89096019268036\n",
      "Accuracy on test set: 37.75%\n"
     ]
    },
    {
     "data": {
      "text/plain": [
       "37.75"
      ]
     },
     "execution_count": 6,
     "metadata": {},
     "output_type": "execute_result"
    }
   ],
   "source": [
    "# All Samples\n",
    "conv2d_nn_all.to('mps')\n",
    "\n",
    "criterion = nn.CrossEntropyLoss()\n",
    "optimizer = optim.Adam(conv2d_nn_all.parameters(), lr=0.001)\n",
    "num_epochs = 10 \n",
    "train_model(conv2d_nn_all, cifar10.train_loader, criterion, optimizer, num_epochs)\n",
    "evaluate_accuracy(conv2d_nn_all, cifar10.test_loader)"
   ]
  },
  {
   "cell_type": "code",
   "execution_count": 7,
   "metadata": {},
   "outputs": [
    {
     "name": "stdout",
     "output_type": "stream",
     "text": [
      "Epoch 1, Time: 10.562476873397827, Loss: 1.7877723868850552\n",
      "Epoch 2, Time: 10.67931079864502, Loss: 1.7135777810345525\n",
      "Epoch 3, Time: 10.647848129272461, Loss: 1.691183196156836\n",
      "Epoch 4, Time: 10.451513051986694, Loss: 1.6743735943913765\n",
      "Epoch 5, Time: 10.505614995956421, Loss: 1.6602925457003173\n",
      "Epoch 6, Time: 10.404139041900635, Loss: 1.6516371700160033\n",
      "Epoch 7, Time: 10.531826257705688, Loss: 1.6448648129887593\n",
      "Epoch 8, Time: 10.623788118362427, Loss: 1.634292572050753\n",
      "Epoch 9, Time: 10.363701105117798, Loss: 1.630638681104421\n",
      "Epoch 10, Time: 10.406721115112305, Loss: 1.6238336387802572\n",
      "\n",
      " Average epoch time: 10.517693948745727\n",
      "Accuracy on test set: 39.67%\n"
     ]
    },
    {
     "data": {
      "text/plain": [
       "39.67"
      ]
     },
     "execution_count": 7,
     "metadata": {},
     "output_type": "execute_result"
    }
   ],
   "source": [
    "# 1 sample\n",
    "conv2d_nn_1.to('mps')\n",
    "\n",
    "criterion = nn.CrossEntropyLoss()\n",
    "optimizer = optim.Adam(conv2d_nn_1.parameters(), lr=0.001)\n",
    "num_epochs = 10 \n",
    "train_model(conv2d_nn_1, cifar10.train_loader, criterion, optimizer, num_epochs)\n",
    "evaluate_accuracy(conv2d_nn_1, cifar10.test_loader)\n"
   ]
  },
  {
   "cell_type": "markdown",
   "metadata": {},
   "source": [
    "# II. 2D Testing - KNN/Sampling Test"
   ]
  },
  {
   "cell_type": "markdown",
   "metadata": {},
   "source": [
    "## i. Conv2d_NN 10 samples + 1 vs. 3 vs. 5 KNN"
   ]
  },
  {
   "cell_type": "code",
   "execution_count": 8,
   "metadata": {},
   "outputs": [
    {
     "name": "stdout",
     "output_type": "stream",
     "text": [
      "Files already downloaded and verified\n",
      "Files already downloaded and verified\n"
     ]
    }
   ],
   "source": [
    "# MNIST \n",
    "cifar10 = CIFAR10()\n"
   ]
  },
  {
   "cell_type": "markdown",
   "metadata": {},
   "source": [
    "### i. Models"
   ]
  },
  {
   "cell_type": "code",
   "execution_count": 10,
   "metadata": {},
   "outputs": [
    {
     "name": "stdout",
     "output_type": "stream",
     "text": [
      "----------------------------------------------------------------\n",
      "        Layer (type)               Output Shape         Param #\n",
      "================================================================\n",
      "           Flatten-1              [-1, 12, 256]               0\n",
      "            Conv1d-2              [-1, 20, 256]             260\n",
      "         Conv1d_NN-3              [-1, 20, 256]               0\n",
      "         Conv2d_NN-4            [-1, 5, 32, 32]               0\n",
      "           Flatten-5              [-1, 20, 256]               0\n",
      "            Conv1d-6              [-1, 40, 256]             840\n",
      "         Conv1d_NN-7              [-1, 40, 256]               0\n",
      "         Conv2d_NN-8           [-1, 10, 32, 32]               0\n",
      "           Flatten-9              [-1, 40, 256]               0\n",
      "           Conv1d-10              [-1, 80, 256]           3,280\n",
      "        Conv1d_NN-11              [-1, 80, 256]               0\n",
      "        Conv2d_NN-12           [-1, 20, 32, 32]               0\n",
      "          Flatten-13                [-1, 20480]               0\n",
      "           Linear-14                   [-1, 10]         204,810\n",
      "================================================================\n",
      "Total params: 209,190\n",
      "Trainable params: 209,190\n",
      "Non-trainable params: 0\n",
      "----------------------------------------------------------------\n",
      "Input size (MB): 0.01\n",
      "Forward/backward pass size (MB): 1.12\n",
      "Params size (MB): 0.80\n",
      "Estimated Total Size (MB): 1.93\n",
      "----------------------------------------------------------------\n"
     ]
    }
   ],
   "source": [
    "# n = 10 sample, K = 1\n",
    "conv2d_nn_10_1= nn.Sequential(\n",
    "   Conv2d_NN(\n",
    "      in_channels=3,\n",
    "      out_channels=5,\n",
    "      K=1,\n",
    "      stride=1,\n",
    "      padding=0,\n",
    "      shuffle_pattern=\"BA\", \n",
    "      shuffle_scale=2, \n",
    "      samples=10, \n",
    "   ), \n",
    "   Conv2d_NN(\n",
    "      in_channels=5,\n",
    "      out_channels=10,\n",
    "      K=1,\n",
    "      stride=1,\n",
    "      padding=0,\n",
    "      shuffle_pattern=\"BA\", \n",
    "      shuffle_scale=2, \n",
    "      samples=10, \n",
    "   ),\n",
    "   Conv2d_NN(\n",
    "      in_channels=10,\n",
    "      out_channels=20,\n",
    "      K=1,\n",
    "      stride=1,\n",
    "      padding=0,\n",
    "      shuffle_pattern=\"BA\", \n",
    "      shuffle_scale=2, \n",
    "      samples=10, \n",
    "   ),\n",
    "   nn.Flatten(), \n",
    "   nn.Linear(20480, 10)\n",
    "   \n",
    ").to('cpu')\n",
    "   \n",
    "\n",
    "from torchsummary import summary\n",
    "summary(conv2d_nn_10_1, (3, 32, 32))    \n",
    "    "
   ]
  },
  {
   "cell_type": "code",
   "execution_count": 11,
   "metadata": {},
   "outputs": [
    {
     "name": "stdout",
     "output_type": "stream",
     "text": [
      "----------------------------------------------------------------\n",
      "        Layer (type)               Output Shape         Param #\n",
      "================================================================\n",
      "           Flatten-1              [-1, 12, 256]               0\n",
      "            Conv1d-2              [-1, 20, 256]             740\n",
      "         Conv1d_NN-3              [-1, 20, 256]               0\n",
      "         Conv2d_NN-4            [-1, 5, 32, 32]               0\n",
      "           Flatten-5              [-1, 20, 256]               0\n",
      "            Conv1d-6              [-1, 40, 256]           2,440\n",
      "         Conv1d_NN-7              [-1, 40, 256]               0\n",
      "         Conv2d_NN-8           [-1, 10, 32, 32]               0\n",
      "           Flatten-9              [-1, 40, 256]               0\n",
      "           Conv1d-10              [-1, 80, 256]           9,680\n",
      "        Conv1d_NN-11              [-1, 80, 256]               0\n",
      "        Conv2d_NN-12           [-1, 20, 32, 32]               0\n",
      "          Flatten-13                [-1, 20480]               0\n",
      "           Linear-14                   [-1, 10]         204,810\n",
      "================================================================\n",
      "Total params: 217,670\n",
      "Trainable params: 217,670\n",
      "Non-trainable params: 0\n",
      "----------------------------------------------------------------\n",
      "Input size (MB): 0.01\n",
      "Forward/backward pass size (MB): 1.12\n",
      "Params size (MB): 0.83\n",
      "Estimated Total Size (MB): 1.96\n",
      "----------------------------------------------------------------\n"
     ]
    }
   ],
   "source": [
    "# n = 10 sample, K = 3\n",
    "conv2d_nn_10_3= nn.Sequential(\n",
    "   Conv2d_NN(\n",
    "      in_channels=3,\n",
    "      out_channels=5,\n",
    "      K=3,\n",
    "      stride=3,\n",
    "      padding=0,\n",
    "      shuffle_pattern=\"BA\", \n",
    "      shuffle_scale=2, \n",
    "      samples=10, \n",
    "   ), \n",
    "   Conv2d_NN(\n",
    "      in_channels=5,\n",
    "      out_channels=10,\n",
    "      K=3,\n",
    "      stride=3,\n",
    "      padding=0,\n",
    "      shuffle_pattern=\"BA\", \n",
    "      shuffle_scale=2,\n",
    "      samples=10, \n",
    "   ),\n",
    "   Conv2d_NN(\n",
    "      in_channels=10,\n",
    "      out_channels=20,\n",
    "      K=3,\n",
    "      stride=3,\n",
    "      padding=0,\n",
    "      shuffle_pattern=\"BA\", \n",
    "      shuffle_scale=2, \n",
    "      samples=10, \n",
    "   ),\n",
    "   nn.Flatten(), \n",
    "   nn.Linear(20480, 10)\n",
    "   \n",
    ").to('cpu')\n",
    "   \n",
    "\n",
    "from torchsummary import summary\n",
    "summary(conv2d_nn_10_3, (3, 32, 32))    \n",
    "    "
   ]
  },
  {
   "cell_type": "code",
   "execution_count": 12,
   "metadata": {},
   "outputs": [
    {
     "name": "stdout",
     "output_type": "stream",
     "text": [
      "----------------------------------------------------------------\n",
      "        Layer (type)               Output Shape         Param #\n",
      "================================================================\n",
      "           Flatten-1              [-1, 12, 256]               0\n",
      "            Conv1d-2              [-1, 20, 256]           1,220\n",
      "         Conv1d_NN-3              [-1, 20, 256]               0\n",
      "         Conv2d_NN-4            [-1, 5, 32, 32]               0\n",
      "           Flatten-5              [-1, 20, 256]               0\n",
      "            Conv1d-6              [-1, 40, 256]           4,040\n",
      "         Conv1d_NN-7              [-1, 40, 256]               0\n",
      "         Conv2d_NN-8           [-1, 10, 32, 32]               0\n",
      "           Flatten-9              [-1, 40, 256]               0\n",
      "           Conv1d-10              [-1, 80, 256]          16,080\n",
      "        Conv1d_NN-11              [-1, 80, 256]               0\n",
      "        Conv2d_NN-12           [-1, 20, 32, 32]               0\n",
      "          Flatten-13                [-1, 20480]               0\n",
      "           Linear-14                   [-1, 10]         204,810\n",
      "================================================================\n",
      "Total params: 226,150\n",
      "Trainable params: 226,150\n",
      "Non-trainable params: 0\n",
      "----------------------------------------------------------------\n",
      "Input size (MB): 0.01\n",
      "Forward/backward pass size (MB): 1.12\n",
      "Params size (MB): 0.86\n",
      "Estimated Total Size (MB): 1.99\n",
      "----------------------------------------------------------------\n"
     ]
    }
   ],
   "source": [
    "# n = 10 sample, K = 3\n",
    "conv2d_nn_10_5= nn.Sequential(\n",
    "   Conv2d_NN(\n",
    "      in_channels=3,\n",
    "      out_channels=5,\n",
    "      K=5,\n",
    "      stride=5,\n",
    "      padding=0,\n",
    "      shuffle_pattern=\"BA\", \n",
    "      shuffle_scale=2, \n",
    "      samples=10, \n",
    "   ), \n",
    "   Conv2d_NN(\n",
    "      in_channels=5,\n",
    "      out_channels=10,\n",
    "      K=5,\n",
    "      stride=5,\n",
    "      padding=0,\n",
    "      shuffle_pattern=\"BA\", \n",
    "      shuffle_scale=2, \n",
    "      samples=10, \n",
    "   ),\n",
    "   Conv2d_NN(\n",
    "      in_channels=10,\n",
    "      out_channels=20,\n",
    "      K=5,\n",
    "      stride=5,\n",
    "      padding=0,\n",
    "      shuffle_pattern=\"BA\", \n",
    "      shuffle_scale=2, \n",
    "      samples=10, \n",
    "   ),\n",
    "   nn.Flatten(), \n",
    "   nn.Linear(20480, 10)\n",
    "   \n",
    ").to('cpu')\n",
    "   \n",
    "\n",
    "from torchsummary import summary\n",
    "summary(conv2d_nn_10_5, (3, 32, 32))    \n",
    "    "
   ]
  },
  {
   "cell_type": "markdown",
   "metadata": {},
   "source": [
    "#### ii. data + train"
   ]
  },
  {
   "cell_type": "code",
   "execution_count": 13,
   "metadata": {},
   "outputs": [
    {
     "name": "stdout",
     "output_type": "stream",
     "text": [
      "Epoch 1, Time: 14.625463008880615, Loss: 1.7897454853862753\n",
      "Epoch 2, Time: 11.854705333709717, Loss: 1.7112682469360663\n",
      "Epoch 3, Time: 14.57162094116211, Loss: 1.6932422922700263\n",
      "Epoch 4, Time: 12.636346101760864, Loss: 1.6755355364831208\n",
      "Epoch 5, Time: 10.969309091567993, Loss: 1.6627411109102352\n",
      "Epoch 6, Time: 10.975165128707886, Loss: 1.6515161012444655\n",
      "Epoch 7, Time: 10.115506887435913, Loss: 1.6451355307303426\n",
      "Epoch 8, Time: 10.190560102462769, Loss: 1.6379867430843051\n",
      "Epoch 9, Time: 10.10482907295227, Loss: 1.6301509183081215\n",
      "Epoch 10, Time: 10.044563055038452, Loss: 1.6223057784387827\n",
      "\n",
      " Average epoch time: 11.60880687236786\n",
      "Accuracy on test set: 38.85%\n"
     ]
    },
    {
     "data": {
      "text/plain": [
       "38.85"
      ]
     },
     "execution_count": 13,
     "metadata": {},
     "output_type": "execute_result"
    }
   ],
   "source": [
    "# n = 10, K = 1\n",
    "conv2d_nn_10_1.to('mps')\n",
    "\n",
    "criterion = nn.CrossEntropyLoss()\n",
    "optimizer = optim.Adam(conv2d_nn_10_1.parameters(), lr=0.001)\n",
    "num_epochs = 10 \n",
    "train_model(conv2d_nn_10_1, cifar10.train_loader, criterion, optimizer, num_epochs)\n",
    "evaluate_accuracy(conv2d_nn_10_1, cifar10.test_loader)"
   ]
  },
  {
   "cell_type": "code",
   "execution_count": 14,
   "metadata": {},
   "outputs": [
    {
     "name": "stdout",
     "output_type": "stream",
     "text": [
      "Epoch 1, Time: 35.69110822677612, Loss: 1.8093836395941731\n",
      "Epoch 2, Time: 35.04939913749695, Loss: 1.7094615842680188\n",
      "Epoch 3, Time: 35.04956388473511, Loss: 1.6841153220447433\n",
      "Epoch 4, Time: 35.036799907684326, Loss: 1.6660403095547804\n",
      "Epoch 5, Time: 35.05671811103821, Loss: 1.6521561746402165\n",
      "Epoch 6, Time: 35.151490926742554, Loss: 1.6374492517212773\n",
      "Epoch 7, Time: 35.043601989746094, Loss: 1.6313051456380683\n",
      "Epoch 8, Time: 35.201579093933105, Loss: 1.6235981211637902\n",
      "Epoch 9, Time: 35.040578842163086, Loss: 1.6102069415094908\n",
      "Epoch 10, Time: 35.08999490737915, Loss: 1.6079818653633526\n",
      "\n",
      " Average epoch time: 35.14108350276947\n",
      "Accuracy on test set: 41.58%\n"
     ]
    },
    {
     "data": {
      "text/plain": [
       "41.58"
      ]
     },
     "execution_count": 14,
     "metadata": {},
     "output_type": "execute_result"
    }
   ],
   "source": [
    "# n = 10, K = 3\n",
    "conv2d_nn_10_3.to('mps')\n",
    "\n",
    "criterion = nn.CrossEntropyLoss()\n",
    "optimizer = optim.Adam(conv2d_nn_10_3.parameters(), lr=0.001)\n",
    "num_epochs = 10 \n",
    "train_model(conv2d_nn_10_3, cifar10.train_loader, criterion, optimizer, num_epochs)\n",
    "evaluate_accuracy(conv2d_nn_10_3, cifar10.test_loader)"
   ]
  },
  {
   "cell_type": "code",
   "execution_count": 15,
   "metadata": {},
   "outputs": [
    {
     "name": "stdout",
     "output_type": "stream",
     "text": [
      "Epoch 1, Time: 41.270713090896606, Loss: 1.8510341289098307\n",
      "Epoch 2, Time: 41.752373933792114, Loss: 1.733542690649057\n",
      "Epoch 3, Time: 41.16184115409851, Loss: 1.7043807192531693\n",
      "Epoch 4, Time: 41.13418912887573, Loss: 1.6815717723363501\n",
      "Epoch 5, Time: 41.148539304733276, Loss: 1.6659924874220358\n",
      "Epoch 6, Time: 41.567811012268066, Loss: 1.6584399645895604\n",
      "Epoch 7, Time: 41.787107706069946, Loss: 1.6462144927905344\n",
      "Epoch 8, Time: 41.495346784591675, Loss: 1.637082338638013\n",
      "Epoch 9, Time: 41.422688007354736, Loss: 1.6256226561868283\n",
      "Epoch 10, Time: 41.39573001861572, Loss: 1.6279986694340816\n",
      "\n",
      " Average epoch time: 41.41363401412964\n",
      "Accuracy on test set: 40.01%\n"
     ]
    },
    {
     "data": {
      "text/plain": [
       "40.01"
      ]
     },
     "execution_count": 15,
     "metadata": {},
     "output_type": "execute_result"
    }
   ],
   "source": [
    "# n = 10, K = 5\n",
    "conv2d_nn_10_5.to('mps')\n",
    "\n",
    "criterion = nn.CrossEntropyLoss()\n",
    "optimizer = optim.Adam(conv2d_nn_10_5.parameters(), lr=0.001)\n",
    "num_epochs = 10 \n",
    "train_model(conv2d_nn_10_5, cifar10.train_loader, criterion, optimizer, num_epochs)\n",
    "evaluate_accuracy(conv2d_nn_10_5, cifar10.test_loader)"
   ]
  },
  {
   "cell_type": "markdown",
   "metadata": {},
   "source": [
    "## III. 2D Testing - "
   ]
  },
  {
   "cell_type": "code",
   "execution_count": 29,
   "metadata": {},
   "outputs": [
    {
     "name": "stdout",
     "output_type": "stream",
     "text": [
      "----------------------------------------------------------------\n",
      "        Layer (type)               Output Shape         Param #\n",
      "================================================================\n",
      "           Flatten-1              [-1, 12, 256]               0\n",
      "            Conv1d-2              [-1, 20, 256]           1,940\n",
      "         Conv1d_NN-3              [-1, 20, 256]               0\n",
      "         Conv2d_NN-4            [-1, 5, 32, 32]               0\n",
      "           Flatten-5              [-1, 20, 256]               0\n",
      "            Conv1d-6              [-1, 40, 256]           6,440\n",
      "         Conv1d_NN-7              [-1, 40, 256]               0\n",
      "         Conv2d_NN-8           [-1, 10, 32, 32]               0\n",
      "           Flatten-9              [-1, 40, 256]               0\n",
      "           Conv1d-10              [-1, 80, 256]          25,680\n",
      "        Conv1d_NN-11              [-1, 80, 256]               0\n",
      "        Conv2d_NN-12           [-1, 20, 32, 32]               0\n",
      "          Flatten-13                [-1, 20480]               0\n",
      "           Linear-14                   [-1, 10]         204,810\n",
      "================================================================\n",
      "Total params: 238,870\n",
      "Trainable params: 238,870\n",
      "Non-trainable params: 0\n",
      "----------------------------------------------------------------\n",
      "Input size (MB): 0.01\n",
      "Forward/backward pass size (MB): 1.12\n",
      "Params size (MB): 0.91\n",
      "Estimated Total Size (MB): 2.04\n",
      "----------------------------------------------------------------\n"
     ]
    }
   ],
   "source": [
    "# n = 10 sample, K = 3\n",
    "conv2d_nn_50_8= nn.Sequential(\n",
    "   Conv2d_NN(\n",
    "      in_channels=3,\n",
    "      out_channels=5,\n",
    "      K=8,\n",
    "      stride=8,\n",
    "      padding=0,\n",
    "      shuffle_pattern=\"BA\", \n",
    "      shuffle_scale=2, \n",
    "      samples=50, \n",
    "   ), \n",
    "   Conv2d_NN(\n",
    "      in_channels=5,\n",
    "      out_channels=10,\n",
    "      K=8,\n",
    "      stride=8,\n",
    "      padding=0,\n",
    "      shuffle_pattern=\"BA\", \n",
    "      shuffle_scale=2, \n",
    "      samples=50, \n",
    "   ),\n",
    "   Conv2d_NN(\n",
    "      in_channels=10,\n",
    "      out_channels=20,\n",
    "      K=8,\n",
    "      stride=8,\n",
    "      padding=0,\n",
    "      shuffle_pattern=\"BA\", \n",
    "      shuffle_scale=2, \n",
    "      samples=50, \n",
    "   ),\n",
    "   nn.Flatten(), \n",
    "   nn.Linear(20480, 10)\n",
    "   \n",
    ").to('cpu')\n",
    "   \n",
    "\n",
    "from torchsummary import summary\n",
    "summary(conv2d_nn_50_8, (3, 32, 32))    \n",
    "    "
   ]
  },
  {
   "cell_type": "code",
   "execution_count": 30,
   "metadata": {},
   "outputs": [
    {
     "name": "stdout",
     "output_type": "stream",
     "text": [
      "Epoch 1, Time: 48.25150799751282, Loss: 1.8441631289394311\n",
      "Epoch 2, Time: 47.570520877838135, Loss: 1.7299187328199597\n",
      "Epoch 3, Time: 47.40331029891968, Loss: 1.6946193028593917\n",
      "Epoch 4, Time: 46.82696294784546, Loss: 1.6743213398682186\n",
      "Epoch 5, Time: 48.3626971244812, Loss: 1.6535950577472482\n",
      "Epoch 6, Time: 46.158265113830566, Loss: 1.6379403567984891\n",
      "Epoch 7, Time: 47.57890820503235, Loss: 1.6272206266822717\n",
      "Epoch 8, Time: 45.86710286140442, Loss: 1.6127006884121224\n",
      "Epoch 9, Time: 46.053531885147095, Loss: 1.6071525716110873\n",
      "Epoch 10, Time: 46.615870237350464, Loss: 1.597067325926193\n",
      "\n",
      " Average epoch time: 47.06886775493622\n",
      "Accuracy on test set: 40.61%\n"
     ]
    },
    {
     "data": {
      "text/plain": [
       "40.61"
      ]
     },
     "execution_count": 30,
     "metadata": {},
     "output_type": "execute_result"
    }
   ],
   "source": [
    "# n = 50, K = 8, scale factor = 4\n",
    "conv2d_nn_50_8.to('mps')\n",
    "\n",
    "criterion = nn.CrossEntropyLoss()\n",
    "optimizer = optim.Adam(conv2d_nn_50_8.parameters(), lr=0.001)\n",
    "num_epochs = 10 \n",
    "train_model(conv2d_nn_50_8, cifar10.train_loader, criterion, optimizer, num_epochs)\n",
    "evaluate_accuracy(conv2d_nn_50_8, cifar10.test_loader)"
   ]
  },
  {
   "cell_type": "markdown",
   "metadata": {},
   "source": [
    "## IV. PyTorch Profiler Trials"
   ]
  },
  {
   "cell_type": "code",
   "execution_count": 31,
   "metadata": {},
   "outputs": [],
   "source": [
    "import torch \n",
    "import torch.nn as nn\n",
    "import torch.nn.functional as F\n",
    "from torch.nn import Conv2d\n",
    "import torchvision.models as models\n",
    "from torch.profiler import profile, record_function, ProfilerActivity"
   ]
  },
  {
   "cell_type": "markdown",
   "metadata": {},
   "source": [
    "### i. Simple Conv2d Model Profile"
   ]
  },
  {
   "cell_type": "code",
   "execution_count": 32,
   "metadata": {},
   "outputs": [
    {
     "name": "stdout",
     "output_type": "stream",
     "text": [
      "----------------------------------------------------------------\n",
      "        Layer (type)               Output Shape         Param #\n",
      "================================================================\n",
      "            Conv2d-1            [-1, 3, 28, 28]              30\n",
      "              ReLU-2            [-1, 3, 28, 28]               0\n",
      "            Conv2d-3            [-1, 6, 28, 28]             168\n",
      "              ReLU-4            [-1, 6, 28, 28]               0\n",
      "           Flatten-5                 [-1, 4704]               0\n",
      "            Linear-6                   [-1, 10]          47,050\n",
      "================================================================\n",
      "Total params: 47,248\n",
      "Trainable params: 47,248\n",
      "Non-trainable params: 0\n",
      "----------------------------------------------------------------\n",
      "Input size (MB): 0.00\n",
      "Forward/backward pass size (MB): 0.14\n",
      "Params size (MB): 0.18\n",
      "Estimated Total Size (MB): 0.33\n",
      "----------------------------------------------------------------\n"
     ]
    }
   ],
   "source": [
    "# Example resnet model\n",
    "model = nn.Sequential(\n",
    "    Conv2d(1, 3, kernel_size=3, stride=1, padding=1),\n",
    "    nn.ReLU(), \n",
    "    Conv2d(3, 6, kernel_size=3, stride=1, padding=1),\n",
    "    nn.ReLU(),\n",
    "    nn.Flatten(),\n",
    "    nn.Linear(6*28*28, 10)\n",
    ").to('cpu')\n",
    "\n",
    "summary(model, (1, 28, 28))\n"
   ]
  },
  {
   "cell_type": "code",
   "execution_count": 33,
   "metadata": {},
   "outputs": [
    {
     "name": "stderr",
     "output_type": "stream",
     "text": [
      "STAGE:2025-02-03 10:58:28 52846:5848710 ActivityProfilerController.cpp:314] Completed Stage: Warm Up\n",
      "STAGE:2025-02-03 10:58:28 52846:5848710 ActivityProfilerController.cpp:320] Completed Stage: Collection\n",
      "STAGE:2025-02-03 10:58:28 52846:5848710 ActivityProfilerController.cpp:324] Completed Stage: Post Processing\n"
     ]
    }
   ],
   "source": [
    "input = torch.randn(5, 1, 28, 28)\n",
    "\n",
    "with profile(activities=[ProfilerActivity.CPU], record_shapes=True, profile_memory=True) as prof:\n",
    "    with record_function(\"model_inference\"):\n",
    "        model(input)"
   ]
  },
  {
   "cell_type": "code",
   "execution_count": 34,
   "metadata": {},
   "outputs": [
    {
     "name": "stdout",
     "output_type": "stream",
     "text": [
      "------------------------------  ------------  ------------  ------------  ------------  ------------  ------------  ------------  ------------  \n",
      "                          Name    Self CPU %      Self CPU   CPU total %     CPU total  CPU time avg       CPU Mem  Self CPU Mem    # of Calls  \n",
      "------------------------------  ------------  ------------  ------------  ------------  ------------  ------------  ------------  ------------  \n",
      "               model_inference        41.72%       1.619ms       100.00%       3.881ms       3.881ms           0 b    -275.82 Kb             1  \n",
      "                  aten::conv2d         0.21%       8.000us        31.72%       1.231ms     615.500us     137.81 Kb           0 b             2  \n",
      "             aten::convolution         0.75%      29.000us        31.51%       1.223ms     611.500us     137.81 Kb           0 b             2  \n",
      "            aten::_convolution         2.78%     108.000us        30.77%       1.194ms     597.000us     137.81 Kb     -91.88 Kb             2  \n",
      "                    aten::relu         0.31%      12.000us        24.09%     935.000us     467.500us     137.81 Kb           0 b             2  \n",
      "               aten::clamp_min        23.78%     923.000us        23.78%     923.000us     461.500us     137.81 Kb     137.81 Kb             2  \n",
      "             aten::thnn_conv2d         6.88%     267.000us        23.32%     905.000us     452.500us     137.81 Kb      91.88 Kb             2  \n",
      "    aten::_slow_conv2d_forward        20.07%     779.000us        21.10%     819.000us     409.500us     137.81 Kb    -413.44 Kb             2  \n",
      "                  aten::linear         0.10%       4.000us         2.29%      89.000us      89.000us         200 b           0 b             1  \n",
      "                   aten::addmm         1.86%      72.000us         1.96%      76.000us      76.000us         200 b         200 b             1  \n",
      "------------------------------  ------------  ------------  ------------  ------------  ------------  ------------  ------------  ------------  \n",
      "Self CPU time total: 3.881ms\n",
      "\n"
     ]
    }
   ],
   "source": [
    "print(prof.key_averages().table(sort_by=\"cpu_time_total\", row_limit=10))"
   ]
  },
  {
   "cell_type": "markdown",
   "metadata": {},
   "source": [
    "### i. Conv2d_NN_ALL Model Profile"
   ]
  },
  {
   "cell_type": "code",
   "execution_count": 54,
   "metadata": {},
   "outputs": [
    {
     "name": "stdout",
     "output_type": "stream",
     "text": [
      "----------------------------------------------------------------\n",
      "        Layer (type)               Output Shape         Param #\n",
      "================================================================\n",
      "           Flatten-1             [-1, 12, 2500]               0\n",
      "            Conv1d-2             [-1, 20, 2500]           1,220\n",
      "         Conv1d_NN-3             [-1, 20, 2500]               0\n",
      "         Conv2d_NN-4          [-1, 5, 100, 100]               0\n",
      "           Flatten-5             [-1, 20, 2500]               0\n",
      "            Conv1d-6             [-1, 40, 2500]           4,040\n",
      "         Conv1d_NN-7             [-1, 40, 2500]               0\n",
      "         Conv2d_NN-8         [-1, 10, 100, 100]               0\n",
      "           Flatten-9             [-1, 40, 2500]               0\n",
      "           Conv1d-10             [-1, 80, 2500]          16,080\n",
      "        Conv1d_NN-11             [-1, 80, 2500]               0\n",
      "        Conv2d_NN-12         [-1, 20, 100, 100]               0\n",
      "          Flatten-13               [-1, 200000]               0\n",
      "           Linear-14                   [-1, 10]       2,000,010\n",
      "================================================================\n",
      "Total params: 2,021,350\n",
      "Trainable params: 2,021,350\n",
      "Non-trainable params: 0\n",
      "----------------------------------------------------------------\n",
      "Input size (MB): 0.11\n",
      "Forward/backward pass size (MB): 10.91\n",
      "Params size (MB): 7.71\n",
      "Estimated Total Size (MB): 18.74\n",
      "----------------------------------------------------------------\n"
     ]
    }
   ],
   "source": [
    "# all sample model\n",
    "conv2d_nn_all = nn.Sequential(\n",
    "   Conv2d_NN(\n",
    "      in_channels=3,\n",
    "      out_channels=5,\n",
    "      K=5,\n",
    "      stride=5,\n",
    "      padding=0,\n",
    "      shuffle_pattern=\"BA\", \n",
    "      shuffle_scale=2, \n",
    "      samples=\"all\", \n",
    "      magnitude_type='similarity'\n",
    "   ), \n",
    "   Conv2d_NN(\n",
    "      in_channels=5,\n",
    "      out_channels=10,\n",
    "      K=5,\n",
    "      stride=5,\n",
    "      padding=0,\n",
    "      shuffle_pattern=\"BA\", \n",
    "      shuffle_scale=2, \n",
    "      samples=\"all\", \n",
    "      magnitude_type='similarity'\n",
    "   ),\n",
    "   Conv2d_NN(\n",
    "      in_channels=10,\n",
    "      out_channels=20,\n",
    "      K=5,\n",
    "      stride=5,\n",
    "      padding=0,\n",
    "      shuffle_pattern=\"BA\", \n",
    "      shuffle_scale=2, \n",
    "      samples=\"all\", \n",
    "      magnitude_type='similarity'\n",
    "   ),\n",
    "   nn.Flatten(), \n",
    "   nn.Linear(200000, 10)\n",
    "   \n",
    ").to('cpu')\n",
    "   \n",
    "\n",
    "from torchsummary import summary\n",
    "summary(conv2d_nn_all, (3, 100, 100))\n"
   ]
  },
  {
   "cell_type": "code",
   "execution_count": 55,
   "metadata": {},
   "outputs": [
    {
     "name": "stderr",
     "output_type": "stream",
     "text": [
      "STAGE:2025-02-03 11:29:31 52846:5848710 ActivityProfilerController.cpp:314] Completed Stage: Warm Up\n"
     ]
    },
    {
     "name": "stdout",
     "output_type": "stream",
     "text": [
      "-------------------------------------  ------------  ------------  ------------  ------------  ------------  ------------  ------------  ------------  \n",
      "                                 Name    Self CPU %      Self CPU   CPU total %     CPU total  CPU time avg       CPU Mem  Self CPU Mem    # of Calls  \n",
      "-------------------------------------  ------------  ------------  ------------  ------------  ------------  ------------  ------------  ------------  \n",
      "                      model_inference         0.80%       8.853ms       100.00%        1.105s        1.105s       2.39 Gb     -97.35 Mb             1  \n",
      "                            aten::bmm        62.45%     689.725ms        62.58%     691.183ms     230.394ms       2.24 Gb       2.24 Gb             3  \n",
      "                           aten::topk        15.83%     174.861ms        15.83%     174.861ms      58.287ms      13.73 Mb      13.73 Mb             3  \n",
      "                         aten::conv1d         0.00%      14.000us        13.42%     148.213ms      49.404ms      42.72 Mb           0 b             3  \n",
      "                    aten::convolution         0.01%      94.000us        13.42%     148.199ms      49.400ms      42.72 Mb           0 b             3  \n",
      "                   aten::_convolution         0.15%       1.696ms        13.41%     148.105ms      49.368ms      42.72 Mb    -109.86 Mb             3  \n",
      "    aten::_nnpack_spatial_convolution        11.37%     125.610ms        11.38%     125.694ms      41.898ms      42.72 Mb           0 b             3  \n",
      "             aten::linalg_vector_norm         3.59%      39.699ms         3.59%      39.699ms      13.233ms     937.50 Kb     937.50 Kb             3  \n",
      "                          aten::index         1.65%      18.212ms         3.32%      36.711ms       6.119ms     219.73 Mb     109.86 Mb             6  \n",
      "                     aten::contiguous         0.00%       9.000us         1.87%      20.676ms       6.892ms     109.86 Mb           0 b             3  \n",
      "                          aten::clone         0.00%      19.000us         1.87%      20.667ms       6.889ms     109.86 Mb           0 b             3  \n",
      "                          aten::copy_         1.87%      20.634ms         1.87%      20.634ms       5.159ms           0 b           0 b             4  \n",
      "                         aten::linear         0.01%      62.000us         0.85%       9.349ms       9.349ms       1.25 Kb           0 b             1  \n",
      "                          aten::addmm         0.82%       9.081ms         0.82%       9.100ms       9.100ms       1.25 Kb       1.25 Kb             1  \n",
      "                  aten::pixel_shuffle         0.51%       5.664ms         0.51%       5.688ms       1.896ms      42.72 Mb      24.41 Mb             3  \n",
      "                aten::pixel_unshuffle         0.26%       2.861ms         0.26%       2.888ms     962.667us      21.97 Mb      18.31 Mb             3  \n",
      "                            aten::div         0.26%       2.817ms         0.26%       2.817ms     939.000us      21.97 Mb      21.97 Mb             3  \n",
      "                        aten::flatten         0.10%       1.092ms         0.16%       1.798ms     256.857us           0 b           0 b             7  \n",
      "                         aten::select         0.05%     580.000us         0.13%       1.458ms       5.062us           0 b           0 b           288  \n",
      "                     aten::as_strided         0.08%     900.000us         0.08%     900.000us       2.761us           0 b           0 b           326  \n",
      "                           aten::view         0.07%     730.000us         0.07%     730.000us      52.143us           0 b           0 b            14  \n",
      "                      aten::clamp_min         0.04%     483.000us         0.04%     483.000us     161.000us     937.50 Kb     937.50 Kb             3  \n",
      "                        aten::permute         0.02%     214.000us         0.02%     217.000us      36.167us           0 b           0 b             6  \n",
      "                              aten::t         0.01%      90.000us         0.02%     187.000us     187.000us           0 b           0 b             1  \n",
      "                          aten::empty         0.01%     128.000us         0.01%     128.000us       8.533us     152.59 Mb     152.59 Mb            15  \n",
      "                      aten::transpose         0.01%     117.000us         0.01%     122.000us      30.500us           0 b           0 b             4  \n",
      "                         aten::arange         0.00%      51.000us         0.01%     100.000us      16.667us       1.50 Kb         512 b             6  \n",
      "                          aten::slice         0.01%      65.000us         0.01%      68.000us      22.667us           0 b           0 b             3  \n",
      "                        aten::resize_         0.00%      45.000us         0.00%      45.000us       5.000us      21.97 Mb      21.97 Mb             9  \n",
      "                      aten::unsqueeze         0.00%      29.000us         0.00%      34.000us       2.833us           0 b           0 b            12  \n",
      "                      aten::unflatten         0.00%      12.000us         0.00%      33.000us      11.000us           0 b           0 b             3  \n",
      "                     aten::empty_like         0.00%       5.000us         0.00%      31.000us      10.333us     109.86 Mb           0 b             3  \n",
      "                         aten::expand         0.00%      22.000us         0.00%      24.000us       3.429us           0 b           0 b             7  \n",
      "                        aten::reshape         0.00%      20.000us         0.00%      23.000us       3.833us           0 b           0 b             6  \n",
      "                      aten::expand_as         0.00%      11.000us         0.00%      22.000us       7.333us           0 b           0 b             3  \n",
      "                        aten::squeeze         0.00%      17.000us         0.00%      21.000us       7.000us           0 b           0 b             3  \n",
      "                   aten::resolve_conj         0.00%       0.000us         0.00%       0.000us       0.000us           0 b           0 b           200  \n",
      "                 aten::_reshape_alias         0.00%       0.000us         0.00%       0.000us       0.000us           0 b           0 b             3  \n",
      "              aten::_nnpack_available         0.00%       0.000us         0.00%       0.000us       0.000us           0 b           0 b             3  \n",
      "-------------------------------------  ------------  ------------  ------------  ------------  ------------  ------------  ------------  ------------  \n",
      "Self CPU time total: 1.105s\n",
      "\n"
     ]
    },
    {
     "name": "stderr",
     "output_type": "stream",
     "text": [
      "STAGE:2025-02-03 11:29:32 52846:5848710 ActivityProfilerController.cpp:320] Completed Stage: Collection\n",
      "STAGE:2025-02-03 11:29:32 52846:5848710 ActivityProfilerController.cpp:324] Completed Stage: Post Processing\n"
     ]
    }
   ],
   "source": [
    "input = torch.randn(32, 3, 100, 100)\n",
    "\n",
    "conv2d_nn_all.to('cpu')\n",
    "\n",
    "with profile(activities=[ProfilerActivity.CPU], record_shapes=True, profile_memory=True) as prof1:\n",
    "    with record_function(\"model_inference\"):\n",
    "        conv2d_nn_all(input)\n",
    "\n",
    "print(prof1.key_averages().table(sort_by=\"cpu_time_total\"))"
   ]
  },
  {
   "cell_type": "code",
   "execution_count": null,
   "metadata": {},
   "outputs": [],
   "source": [
    "# Distance matrix calculation -> sub, mult, add, sqrt takes alot of time for bigger images \n",
    "# Similarity matrix calculation -> takes significantly less time because of no sub, mult, add, sqrt, "
   ]
  },
  {
   "cell_type": "markdown",
   "metadata": {},
   "source": [
    "###---"
   ]
  },
  {
   "cell_type": "code",
   "execution_count": 51,
   "metadata": {},
   "outputs": [
    {
     "name": "stdout",
     "output_type": "stream",
     "text": [
      "----------------------------------------------------------------\n",
      "        Layer (type)               Output Shape         Param #\n",
      "================================================================\n",
      "           Flatten-1             [-1, 12, 2500]               0\n",
      "            Conv1d-2             [-1, 20, 2500]           1,220\n",
      "         Conv1d_NN-3             [-1, 20, 2500]               0\n",
      "         Conv2d_NN-4          [-1, 5, 100, 100]               0\n",
      "           Flatten-5             [-1, 20, 2500]               0\n",
      "            Conv1d-6             [-1, 40, 2500]           4,040\n",
      "         Conv1d_NN-7             [-1, 40, 2500]               0\n",
      "         Conv2d_NN-8         [-1, 10, 100, 100]               0\n",
      "           Flatten-9             [-1, 40, 2500]               0\n",
      "           Conv1d-10             [-1, 80, 2500]          16,080\n",
      "        Conv1d_NN-11             [-1, 80, 2500]               0\n",
      "        Conv2d_NN-12         [-1, 20, 100, 100]               0\n",
      "          Flatten-13               [-1, 200000]               0\n",
      "           Linear-14                   [-1, 10]       2,000,010\n",
      "================================================================\n",
      "Total params: 2,021,350\n",
      "Trainable params: 2,021,350\n",
      "Non-trainable params: 0\n",
      "----------------------------------------------------------------\n",
      "Input size (MB): 0.11\n",
      "Forward/backward pass size (MB): 10.91\n",
      "Params size (MB): 7.71\n",
      "Estimated Total Size (MB): 18.74\n",
      "----------------------------------------------------------------\n"
     ]
    }
   ],
   "source": [
    "# n = 10 sample, K = 3\n",
    "conv2d_nn_10_5= nn.Sequential(\n",
    "   Conv2d_NN(\n",
    "      in_channels=3,\n",
    "      out_channels=5,\n",
    "      K=5,\n",
    "      stride=5,\n",
    "      padding=0,\n",
    "      shuffle_pattern=\"BA\", \n",
    "      shuffle_scale=2, \n",
    "      samples=10, \n",
    "   ), \n",
    "   Conv2d_NN(\n",
    "      in_channels=5,\n",
    "      out_channels=10,\n",
    "      K=5,\n",
    "      stride=5,\n",
    "      padding=0,\n",
    "      shuffle_pattern=\"BA\", \n",
    "      shuffle_scale=2, \n",
    "      samples=10, \n",
    "   ),\n",
    "   Conv2d_NN(\n",
    "      in_channels=10,\n",
    "      out_channels=20,\n",
    "      K=5,\n",
    "      stride=5,\n",
    "      padding=0,\n",
    "      shuffle_pattern=\"BA\", \n",
    "      shuffle_scale=2, \n",
    "      samples=10, \n",
    "   ),\n",
    "   nn.Flatten(), \n",
    "   nn.Linear(200000, 10)\n",
    "   \n",
    ").to('cpu')\n",
    "   \n",
    "\n",
    "from torchsummary import summary\n",
    "summary(conv2d_nn_10_5, (3, 100, 100))    \n",
    "    "
   ]
  },
  {
   "cell_type": "code",
   "execution_count": 52,
   "metadata": {},
   "outputs": [
    {
     "name": "stderr",
     "output_type": "stream",
     "text": [
      "STAGE:2025-02-03 11:24:22 52846:5848710 ActivityProfilerController.cpp:314] Completed Stage: Warm Up\n",
      "STAGE:2025-02-03 11:24:22 52846:5848710 ActivityProfilerController.cpp:320] Completed Stage: Collection\n",
      "STAGE:2025-02-03 11:24:22 52846:5848710 ActivityProfilerController.cpp:324] Completed Stage: Post Processing\n"
     ]
    },
    {
     "name": "stdout",
     "output_type": "stream",
     "text": [
      "-------------------------------------  ------------  ------------  ------------  ------------  ------------  ------------  ------------  ------------  \n",
      "                                 Name    Self CPU %      Self CPU   CPU total %     CPU total  CPU time avg       CPU Mem  Self CPU Mem    # of Calls  \n",
      "-------------------------------------  ------------  ------------  ------------  ------------  ------------  ------------  ------------  ------------  \n",
      "                      model_inference         2.95%       5.104ms       100.00%     172.777ms     172.777ms     154.49 Mb    -159.16 Mb             1  \n",
      "                         aten::conv1d         0.01%      14.000us        76.78%     132.652ms      44.217ms      42.72 Mb           0 b             3  \n",
      "                    aten::convolution         0.02%      39.000us        76.77%     132.638ms      44.213ms      42.72 Mb           0 b             3  \n",
      "                   aten::_convolution         0.89%       1.537ms        76.75%     132.599ms      44.200ms      42.72 Mb    -109.86 Mb             3  \n",
      "    aten::_nnpack_spatial_convolution        66.91%     115.607ms        66.93%     115.634ms      38.545ms      42.72 Mb           0 b             3  \n",
      "                     aten::contiguous         0.00%       7.000us         8.90%      15.381ms       5.127ms     109.86 Mb           0 b             3  \n",
      "                          aten::clone         0.01%      16.000us         8.90%      15.374ms       5.125ms     109.86 Mb           0 b             3  \n",
      "                          aten::copy_         8.89%      15.363ms         8.89%      15.363ms       1.536ms           0 b           0 b            10  \n",
      "                          aten::index         4.59%       7.922ms         8.76%      15.143ms       1.262ms     227.14 Mb     117.28 Mb            12  \n",
      "                           aten::topk         3.30%       5.706ms         3.30%       5.706ms       1.902ms      10.99 Mb      10.99 Mb             3  \n",
      "                  aten::pixel_shuffle         3.01%       5.200ms         3.02%       5.210ms       1.737ms      42.72 Mb       6.10 Mb             3  \n",
      "                            aten::bmm         1.84%       3.187ms         1.95%       3.368ms       1.123ms       9.16 Mb       9.16 Mb             3  \n",
      "                            aten::pow         1.55%       2.686ms         1.55%       2.686ms     447.667us      22.06 Mb      22.06 Mb             6  \n",
      "                aten::pixel_unshuffle         1.54%       2.654ms         1.55%       2.678ms     892.667us      21.97 Mb       6.10 Mb             3  \n",
      "                         aten::linear         0.00%       3.000us         1.20%       2.078ms       2.078ms       1.25 Kb           0 b             1  \n",
      "                          aten::addmm         1.19%       2.062ms         1.20%       2.068ms       2.068ms       1.25 Kb       1.25 Kb             1  \n",
      "                            aten::cat         0.54%     936.000us         1.11%       1.917ms     319.500us      18.31 Mb       9.16 Mb             6  \n",
      "                           aten::sqrt         0.60%       1.040ms         0.60%       1.040ms     346.667us       9.16 Mb       9.16 Mb             3  \n",
      "                            aten::sum         0.37%     635.000us         0.52%     892.000us     148.667us     941.25 Kb     941.25 Kb             6  \n",
      "                            aten::sub         0.46%     793.000us         0.46%     793.000us     264.333us       9.16 Mb       9.16 Mb             3  \n",
      "                            aten::mul         0.32%     555.000us         0.34%     586.000us     195.333us       9.16 Mb       9.16 Mb             3  \n",
      "                            aten::add         0.32%     550.000us         0.32%     550.000us     183.333us       9.16 Mb       9.16 Mb             3  \n",
      "                          aten::fill_         0.15%     257.000us         0.15%     257.000us      42.833us           0 b           0 b             6  \n",
      "                         aten::select         0.10%     174.000us         0.10%     181.000us       0.628us           0 b           0 b           288  \n",
      "                         aten::arange         0.03%      57.000us         0.07%     122.000us      10.167us     118.69 Kb      19.78 Kb            12  \n",
      "                             aten::to         0.02%      33.000us         0.05%      86.000us       4.526us         252 b          80 b            19  \n",
      "                          aten::slice         0.04%      74.000us         0.04%      76.000us       4.222us           0 b           0 b            18  \n",
      "                      aten::unsqueeze         0.03%      57.000us         0.04%      68.000us       3.400us           0 b           0 b            20  \n",
      "                        aten::flatten         0.02%      34.000us         0.04%      66.000us       9.429us           0 b           0 b             7  \n",
      "                       aten::_to_copy         0.02%      26.000us         0.04%      63.000us      10.500us         252 b           0 b             6  \n",
      "                        aten::permute         0.03%      60.000us         0.04%      63.000us       5.250us           0 b           0 b            12  \n",
      "                           aten::view         0.04%      62.000us         0.04%      62.000us       2.480us           0 b           0 b            25  \n",
      "                     aten::index_put_         0.01%      19.000us         0.04%      61.000us      20.333us           0 b           0 b             3  \n",
      "                          aten::empty         0.03%      59.000us         0.03%      59.000us       3.278us     152.59 Mb     152.59 Mb            18  \n",
      "                        aten::resize_         0.02%      43.000us         0.02%      43.000us       3.583us      52.53 Mb      52.53 Mb            12  \n",
      "               aten::_index_put_impl_         0.02%      36.000us         0.02%      42.000us      14.000us           0 b           0 b             3  \n",
      "                        aten::reshape         0.02%      30.000us         0.02%      36.000us       2.000us           0 b           0 b            18  \n",
      "                     aten::as_strided         0.02%      33.000us         0.02%      33.000us       0.091us           0 b           0 b           362  \n",
      "                      aten::unflatten         0.01%      12.000us         0.02%      29.000us       9.667us           0 b           0 b             3  \n",
      "                     aten::empty_like         0.00%       3.000us         0.01%      25.000us       8.333us     109.86 Mb           0 b             3  \n",
      "                      aten::transpose         0.01%      20.000us         0.01%      23.000us       3.286us           0 b           0 b             7  \n",
      "                         aten::narrow         0.01%      16.000us         0.01%      23.000us       3.833us           0 b           0 b             6  \n",
      "                        aten::squeeze         0.01%      17.000us         0.01%      20.000us       6.667us           0 b           0 b             3  \n",
      "                         aten::expand         0.01%      19.000us         0.01%      19.000us       2.714us           0 b           0 b             7  \n",
      "                  aten::empty_strided         0.01%      12.000us         0.01%      12.000us       2.000us         252 b         252 b             6  \n",
      "                              aten::t         0.00%       4.000us         0.00%       7.000us       7.000us           0 b           0 b             1  \n",
      "                        aten::detach_         0.00%       4.000us         0.00%       4.000us       1.333us           0 b           0 b             3  \n",
      "                     aten::lift_fresh         0.00%       0.000us         0.00%       0.000us       0.000us           0 b           0 b             9  \n",
      "                              detach_         0.00%       0.000us         0.00%       0.000us       0.000us           0 b           0 b             3  \n",
      "                    aten::result_type         0.00%       0.000us         0.00%       0.000us       0.000us           0 b           0 b             6  \n",
      "                   aten::resolve_conj         0.00%       0.000us         0.00%       0.000us       0.000us           0 b           0 b           200  \n",
      "                 aten::_reshape_alias         0.00%       0.000us         0.00%       0.000us       0.000us           0 b           0 b             3  \n",
      "              aten::_nnpack_available         0.00%       0.000us         0.00%       0.000us       0.000us           0 b           0 b             3  \n",
      "-------------------------------------  ------------  ------------  ------------  ------------  ------------  ------------  ------------  ------------  \n",
      "Self CPU time total: 172.777ms\n",
      "\n"
     ]
    }
   ],
   "source": [
    "input = torch.randn(32, 3, 100, 100)\n",
    "\n",
    "conv2d_nn_10_5.to('cpu')\n",
    "\n",
    "with profile(activities=[ProfilerActivity.CPU], record_shapes=True, profile_memory=True) as prof1:\n",
    "    with record_function(\"model_inference\"):\n",
    "        conv2d_nn_10_5(input)\n",
    "\n",
    "print(prof1.key_averages().table(sort_by=\"cpu_time_total\"))"
   ]
  },
  {
   "cell_type": "code",
   "execution_count": null,
   "metadata": {},
   "outputs": [],
   "source": []
  }
 ],
 "metadata": {
  "kernelspec": {
   "display_name": "ML",
   "language": "python",
   "name": "python3"
  },
  "language_info": {
   "codemirror_mode": {
    "name": "ipython",
    "version": 3
   },
   "file_extension": ".py",
   "mimetype": "text/x-python",
   "name": "python",
   "nbconvert_exporter": "python",
   "pygments_lexer": "ipython3",
   "version": "3.12.0"
  }
 },
 "nbformat": 4,
 "nbformat_minor": 2
}
