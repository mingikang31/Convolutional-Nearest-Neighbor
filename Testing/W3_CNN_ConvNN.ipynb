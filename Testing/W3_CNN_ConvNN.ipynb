{
 "cells": [
  {
   "cell_type": "markdown",
   "metadata": {},
   "source": [
    "# CNN vs. ConvNN Accuracy + Speed Test"
   ]
  },
  {
   "cell_type": "code",
   "execution_count": 1,
   "metadata": {},
   "outputs": [
    {
     "name": "stderr",
     "output_type": "stream",
     "text": [
      "/Users/mingikang/miniforge3/envs/ML/lib/python3.12/site-packages/tqdm/auto.py:21: TqdmWarning: IProgress not found. Please update jupyter and ipywidgets. See https://ipywidgets.readthedocs.io/en/stable/user_install.html\n",
      "  from .autonotebook import tqdm as notebook_tqdm\n"
     ]
    }
   ],
   "source": [
    "# Torch\n",
    "import torch \n",
    "import torch.nn as nn\n",
    "import torch.nn.functional as F\n",
    "from torch import optim \n",
    "\n",
    "\n",
    "# Train + Data \n",
    "import sys \n",
    "sys.path.append('../Layers')\n",
    "from Conv1d_NN import *\n",
    "from Conv2d_NN import *\n",
    "\n",
    "from Conv1d_NN_spatial import * \n",
    "from Conv2d_NN_spatial import * \n",
    "\n",
    "sys.path.append('../Data')\n",
    "from CIFAR10 import * \n",
    "\n",
    "\n",
    "sys.path.append('../Train')\n",
    "from train2d import * \n"
   ]
  },
  {
   "cell_type": "markdown",
   "metadata": {},
   "source": [
    "## I. Models"
   ]
  },
  {
   "cell_type": "code",
   "execution_count": 2,
   "metadata": {},
   "outputs": [
    {
     "name": "stdout",
     "output_type": "stream",
     "text": [
      "----------------------------------------------------------------\n",
      "        Layer (type)               Output Shape         Param #\n",
      "================================================================\n",
      "            Conv2d-1           [-1, 16, 32, 32]             448\n",
      "              ReLU-2           [-1, 16, 32, 32]               0\n",
      "            Conv2d-3           [-1, 32, 32, 32]           4,640\n",
      "              ReLU-4           [-1, 32, 32, 32]               0\n",
      "           Flatten-5                [-1, 32768]               0\n",
      "            Linear-6                 [-1, 1024]      33,555,456\n",
      "              ReLU-7                 [-1, 1024]               0\n",
      "            Linear-8                   [-1, 10]          10,250\n",
      "================================================================\n",
      "Total params: 33,570,794\n",
      "Trainable params: 33,570,794\n",
      "Non-trainable params: 0\n",
      "----------------------------------------------------------------\n",
      "Input size (MB): 0.01\n",
      "Forward/backward pass size (MB): 1.02\n",
      "Params size (MB): 128.06\n",
      "Estimated Total Size (MB): 129.09\n",
      "----------------------------------------------------------------\n"
     ]
    }
   ],
   "source": [
    "# Classic CNN 2D Model - Control Model \n",
    "\n",
    "CNN_2D = nn.Sequential(\n",
    "    nn.Conv2d(3, 16, kernel_size=3, stride=1, padding=1),\n",
    "    nn.ReLU(),\n",
    "\n",
    "    nn.Conv2d(16, 32, kernel_size=3, stride=1, padding=1),\n",
    "    nn.ReLU(),\n",
    "\n",
    "    nn.Flatten(),\n",
    "    nn.Linear(32768, 1024),\n",
    "    nn.ReLU(),\n",
    "    nn.Linear(1024, 10)\n",
    ").to('cpu')\n",
    "\n",
    "from torchsummary import summary \n",
    "summary(CNN_2D, (3, 32, 32))\n"
   ]
  },
  {
   "cell_type": "code",
   "execution_count": 3,
   "metadata": {},
   "outputs": [
    {
     "name": "stdout",
     "output_type": "stream",
     "text": [
      "----------------------------------------------------------------\n",
      "        Layer (type)               Output Shape         Param #\n",
      "================================================================\n",
      "           Flatten-1              [-1, 12, 256]               0\n",
      "            Conv1d-2              [-1, 64, 256]           6,976\n",
      "         Conv1d_NN-3              [-1, 64, 256]               0\n",
      "         Conv2d_NN-4           [-1, 16, 32, 32]               0\n",
      "              ReLU-5           [-1, 16, 32, 32]               0\n",
      "           Flatten-6              [-1, 64, 256]               0\n",
      "            Conv1d-7             [-1, 128, 256]          73,856\n",
      "         Conv1d_NN-8             [-1, 128, 256]               0\n",
      "         Conv2d_NN-9           [-1, 32, 32, 32]               0\n",
      "             ReLU-10           [-1, 32, 32, 32]               0\n",
      "          Flatten-11                [-1, 32768]               0\n",
      "           Linear-12                 [-1, 1024]      33,555,456\n",
      "             ReLU-13                 [-1, 1024]               0\n",
      "           Linear-14                   [-1, 10]          10,250\n",
      "================================================================\n",
      "Total params: 33,646,538\n",
      "Trainable params: 33,646,538\n",
      "Non-trainable params: 0\n",
      "----------------------------------------------------------------\n",
      "Input size (MB): 0.01\n",
      "Forward/backward pass size (MB): 1.91\n",
      "Params size (MB): 128.35\n",
      "Estimated Total Size (MB): 130.28\n",
      "----------------------------------------------------------------\n"
     ]
    }
   ],
   "source": [
    "# ConNN 2D All Sample Model with K = 9\n",
    "Conv2dNN_9_all = nn.Sequential(\n",
    "   Conv2d_NN(\n",
    "      in_channels=3,\n",
    "      out_channels=16,\n",
    "      K=9,\n",
    "      stride=9,\n",
    "      padding=0,\n",
    "      shuffle_pattern=\"BA\", \n",
    "      shuffle_scale=2, \n",
    "      samples=\"all\", \n",
    "   ), \n",
    "   nn.ReLU(),\n",
    "\n",
    "   Conv2d_NN(\n",
    "      in_channels=16,\n",
    "      out_channels=32,\n",
    "      K=9,\n",
    "      stride=9,\n",
    "      padding=0,\n",
    "      shuffle_pattern=\"BA\", \n",
    "      shuffle_scale=2, \n",
    "      samples=\"all\", \n",
    "   ),\n",
    "   nn.ReLU(),\n",
    "   \n",
    "   nn.Flatten(),\n",
    "   nn.Linear(32768, 1024),\n",
    "   nn.ReLU(),\n",
    "   nn.Linear(1024, 10)\n",
    ").to('cpu')\n",
    "\n",
    "from torchsummary import summary\n",
    "summary(Conv2dNN_9_all, (3, 32, 32))\n"
   ]
  },
  {
   "cell_type": "code",
   "execution_count": 4,
   "metadata": {},
   "outputs": [
    {
     "name": "stdout",
     "output_type": "stream",
     "text": [
      "----------------------------------------------------------------\n",
      "        Layer (type)               Output Shape         Param #\n",
      "================================================================\n",
      "           Flatten-1              [-1, 12, 256]               0\n",
      "            Conv1d-2              [-1, 64, 256]           6,976\n",
      "         Conv1d_NN-3              [-1, 64, 256]               0\n",
      "         Conv2d_NN-4           [-1, 16, 32, 32]               0\n",
      "              ReLU-5           [-1, 16, 32, 32]               0\n",
      "           Flatten-6              [-1, 64, 256]               0\n",
      "            Conv1d-7             [-1, 128, 256]          73,856\n",
      "         Conv1d_NN-8             [-1, 128, 256]               0\n",
      "         Conv2d_NN-9           [-1, 32, 32, 32]               0\n",
      "             ReLU-10           [-1, 32, 32, 32]               0\n",
      "          Flatten-11                [-1, 32768]               0\n",
      "           Linear-12                 [-1, 1024]      33,555,456\n",
      "             ReLU-13                 [-1, 1024]               0\n",
      "           Linear-14                   [-1, 10]          10,250\n",
      "================================================================\n",
      "Total params: 33,646,538\n",
      "Trainable params: 33,646,538\n",
      "Non-trainable params: 0\n",
      "----------------------------------------------------------------\n",
      "Input size (MB): 0.01\n",
      "Forward/backward pass size (MB): 1.91\n",
      "Params size (MB): 128.35\n",
      "Estimated Total Size (MB): 130.28\n",
      "----------------------------------------------------------------\n"
     ]
    }
   ],
   "source": [
    "# ConNN 2D Random Sample n = 64 Model with K = 9\n",
    "Conv2dNN_9_64 = nn.Sequential(\n",
    "   Conv2d_NN(\n",
    "      in_channels=3,\n",
    "      out_channels=16,\n",
    "      K=9,\n",
    "      stride=9,\n",
    "      padding=0,\n",
    "      shuffle_pattern=\"BA\", \n",
    "      shuffle_scale=2, \n",
    "      samples=64, \n",
    "   ), \n",
    "   nn.ReLU(),\n",
    "\n",
    "   Conv2d_NN(\n",
    "      in_channels=16,\n",
    "      out_channels=32,\n",
    "      K=9,\n",
    "      stride=9,\n",
    "      padding=0,\n",
    "      shuffle_pattern=\"BA\", \n",
    "      shuffle_scale=2, \n",
    "      samples=64, \n",
    "   ),\n",
    "   nn.ReLU(),\n",
    "   \n",
    "   nn.Flatten(),\n",
    "   nn.Linear(32768, 1024),\n",
    "   nn.ReLU(),\n",
    "   nn.Linear(1024, 10)\n",
    ").to('cpu')\n",
    "\n",
    "from torchsummary import summary\n",
    "summary(Conv2dNN_9_64, (3, 32, 32))\n"
   ]
  },
  {
   "cell_type": "code",
   "execution_count": null,
   "metadata": {},
   "outputs": [
    {
     "name": "stdout",
     "output_type": "stream",
     "text": [
      "----------------------------------------------------------------\n",
      "        Layer (type)               Output Shape         Param #\n",
      "================================================================\n",
      "           Flatten-1              [-1, 12, 256]               0\n",
      "            Conv1d-2              [-1, 64, 256]           6,976\n",
      " Conv1d_NN_spatial-3              [-1, 64, 256]               0\n",
      " Conv2d_NN_spatial-4           [-1, 16, 32, 32]               0\n",
      "              ReLU-5           [-1, 16, 32, 32]               0\n",
      "           Flatten-6              [-1, 64, 256]               0\n",
      "            Conv1d-7             [-1, 128, 256]          73,856\n",
      " Conv1d_NN_spatial-8             [-1, 128, 256]               0\n",
      " Conv2d_NN_spatial-9           [-1, 32, 32, 32]               0\n",
      "             ReLU-10           [-1, 32, 32, 32]               0\n",
      "          Flatten-11                [-1, 32768]               0\n",
      "           Linear-12                 [-1, 1024]      33,555,456\n",
      "             ReLU-13                 [-1, 1024]               0\n",
      "           Linear-14                   [-1, 10]          10,250\n",
      "================================================================\n",
      "Total params: 33,646,538\n",
      "Trainable params: 33,646,538\n",
      "Non-trainable params: 0\n",
      "----------------------------------------------------------------\n",
      "Input size (MB): 0.01\n",
      "Forward/backward pass size (MB): 1.91\n",
      "Params size (MB): 128.35\n",
      "Estimated Total Size (MB): 130.28\n",
      "----------------------------------------------------------------\n"
     ]
    }
   ],
   "source": [
    "# ConNN 2D Spatial Sample n = 8 Model with K = 9\n",
    "Conv2dNN_spatial_9_8 = nn.Sequential(\n",
    "   Conv2d_NN_spatial(\n",
    "      in_channels=3,\n",
    "      out_channels=16,\n",
    "      K=9,\n",
    "      stride=9,\n",
    "      padding=0,\n",
    "      shuffle_pattern=\"BA\", \n",
    "      shuffle_scale=2, \n",
    "      samples=8, \n",
    "   ), \n",
    "   nn.ReLU(),\n",
    "\n",
    "   Conv2d_NN_spatial(\n",
    "      in_channels=16,\n",
    "      out_channels=32,\n",
    "      K=9,\n",
    "      stride=9,\n",
    "      padding=0,\n",
    "      shuffle_pattern=\"BA\", \n",
    "      shuffle_scale=2, \n",
    "      samples=8, \n",
    "   ),\n",
    "   nn.ReLU(),\n",
    "   \n",
    "   nn.Flatten(),\n",
    "   nn.Linear(32768, 1024),\n",
    "   nn.ReLU(),\n",
    "   nn.Linear(1024, 10)\n",
    ").to('cpu')\n",
    "\n",
    "from torchsummary import summary\n",
    "summary(Conv2dNN_spatial_9_8, (3, 32, 32))\n"
   ]
  },
  {
   "cell_type": "markdown",
   "metadata": {},
   "source": [
    "## II. Training"
   ]
  },
  {
   "cell_type": "code",
   "execution_count": 6,
   "metadata": {},
   "outputs": [
    {
     "name": "stdout",
     "output_type": "stream",
     "text": [
      "Files already downloaded and verified\n",
      "Files already downloaded and verified\n"
     ]
    }
   ],
   "source": [
    "# CIFAR10\n",
    "cifar10 = CIFAR10()"
   ]
  },
  {
   "cell_type": "code",
   "execution_count": 7,
   "metadata": {},
   "outputs": [
    {
     "name": "stdout",
     "output_type": "stream",
     "text": [
      "Epoch 1, Time: 20.63441514968872, Loss: 1.3328353104079167\n",
      "Epoch 2, Time: 19.891146183013916, Loss: 0.8103743817495264\n",
      "Epoch 3, Time: 20.122487783432007, Loss: 0.3875270238351029\n",
      "Epoch 4, Time: 19.354948043823242, Loss: 0.10053868661575077\n",
      "Epoch 5, Time: 19.924609899520874, Loss: 0.04648164253326995\n",
      "Epoch 6, Time: 19.82369112968445, Loss: 0.04612669482549695\n",
      "Epoch 7, Time: 20.649778127670288, Loss: 0.04764314255554496\n",
      "Epoch 8, Time: 27.733933687210083, Loss: 0.039048493386346306\n",
      "Epoch 9, Time: 26.97421383857727, Loss: 0.036656858245766234\n",
      "Epoch 10, Time: 27.779059171676636, Loss: 0.03301171698866015\n",
      "\n",
      " Average epoch time: 22.28882830142975\n",
      "Accuracy on test set: 63.9%\n"
     ]
    },
    {
     "data": {
      "text/plain": [
       "63.9"
      ]
     },
     "execution_count": 7,
     "metadata": {},
     "output_type": "execute_result"
    }
   ],
   "source": [
    "# Classic CNN 2D Model - Control Model \n",
    "CNN_2D.to('mps')\n",
    "\n",
    "criterion = nn.CrossEntropyLoss()\n",
    "optimizer = optim.Adam(CNN_2D.parameters(), lr=0.001)\n",
    "num_epochs = 10 \n",
    "train_model(CNN_2D, cifar10.train_loader, criterion, optimizer, num_epochs)\n",
    "evaluate_accuracy(CNN_2D, cifar10.test_loader)"
   ]
  },
  {
   "cell_type": "code",
   "execution_count": 8,
   "metadata": {},
   "outputs": [
    {
     "name": "stdout",
     "output_type": "stream",
     "text": [
      "Epoch 1, Time: 54.43570828437805, Loss: 1.5297678016945528\n",
      "Epoch 2, Time: 53.488089084625244, Loss: 1.2170656530753425\n",
      "Epoch 3, Time: 53.57889914512634, Loss: 1.0258321784951192\n",
      "Epoch 4, Time: 53.387901067733765, Loss: 0.847299023776713\n",
      "Epoch 5, Time: 53.47727370262146, Loss: 0.6752073759846675\n",
      "Epoch 6, Time: 53.24594593048096, Loss: 0.5071247269201766\n",
      "Epoch 7, Time: 53.25418019294739, Loss: 0.3788476411701011\n",
      "Epoch 8, Time: 53.26373815536499, Loss: 0.2850677131977685\n",
      "Epoch 9, Time: 53.9757776260376, Loss: 0.229500235465672\n",
      "Epoch 10, Time: 54.60997819900513, Loss: 0.1925016682323478\n",
      "\n",
      " Average epoch time: 53.67174913883209\n",
      "Accuracy on test set: 55.56%\n"
     ]
    },
    {
     "data": {
      "text/plain": [
       "55.56"
      ]
     },
     "execution_count": 8,
     "metadata": {},
     "output_type": "execute_result"
    }
   ],
   "source": [
    "# ConNN 2D All Sample Model with K = 9\n",
    "Conv2dNN_9_all.to('mps')\n",
    "\n",
    "criterion = nn.CrossEntropyLoss()\n",
    "optimizer = optim.Adam(Conv2dNN_9_all.parameters(), lr=0.001)\n",
    "num_epochs = 10 \n",
    "train_model(Conv2dNN_9_all, cifar10.train_loader, criterion, optimizer, num_epochs)\n",
    "evaluate_accuracy(Conv2dNN_9_all, cifar10.test_loader)"
   ]
  },
  {
   "cell_type": "code",
   "execution_count": 9,
   "metadata": {},
   "outputs": [
    {
     "name": "stdout",
     "output_type": "stream",
     "text": [
      "Epoch 1, Time: 56.41913104057312, Loss: 1.7396242005745772\n",
      "Epoch 2, Time: 56.24984622001648, Loss: 1.4704544500011922\n",
      "Epoch 3, Time: 55.750081062316895, Loss: 1.3199407862275458\n",
      "Epoch 4, Time: 56.551066160202026, Loss: 1.1914822378426866\n",
      "Epoch 5, Time: 56.4017858505249, Loss: 1.066565897611096\n",
      "Epoch 6, Time: 55.57328486442566, Loss: 0.939744327912855\n",
      "Epoch 7, Time: 56.356592893600464, Loss: 0.8021007850956734\n",
      "Epoch 8, Time: 55.75939083099365, Loss: 0.6693659886298582\n",
      "Epoch 9, Time: 55.924837827682495, Loss: 0.5569349572710369\n",
      "Epoch 10, Time: 55.804667949676514, Loss: 0.45397122676872537\n",
      "\n",
      " Average epoch time: 56.07906847000122\n",
      "Accuracy on test set: 50.9%\n"
     ]
    },
    {
     "data": {
      "text/plain": [
       "50.9"
      ]
     },
     "execution_count": 9,
     "metadata": {},
     "output_type": "execute_result"
    }
   ],
   "source": [
    "# ConNN 2D Random Sample n = 64 Model with K = 9\n",
    "Conv2dNN_9_64.to('mps')\n",
    "\n",
    "criterion = nn.CrossEntropyLoss()\n",
    "optimizer = optim.Adam(Conv2dNN_9_64.parameters(), lr=0.001)\n",
    "num_epochs = 10 \n",
    "train_model(Conv2dNN_9_64, cifar10.train_loader, criterion, optimizer, num_epochs)\n",
    "evaluate_accuracy(Conv2dNN_9_64, cifar10.test_loader)"
   ]
  },
  {
   "cell_type": "code",
   "execution_count": null,
   "metadata": {},
   "outputs": [
    {
     "name": "stdout",
     "output_type": "stream",
     "text": [
      "Epoch 1, Time: 54.94050168991089, Loss: 1.668118699737217\n",
      "Epoch 2, Time: 54.90955638885498, Loss: 1.3825828345382916\n",
      "Epoch 3, Time: 54.9446861743927, Loss: 1.185230791263873\n",
      "Epoch 4, Time: 55.1057391166687, Loss: 1.0000572988139393\n",
      "Epoch 5, Time: 55.541505098342896, Loss: 0.8231015157745317\n",
      "Epoch 6, Time: 55.06200289726257, Loss: 0.6379292775374239\n",
      "Epoch 7, Time: 54.96682071685791, Loss: 0.4676877082042072\n",
      "Epoch 8, Time: 54.89725708961487, Loss: 0.3312930303156528\n",
      "Epoch 9, Time: 54.962892055511475, Loss: 0.24664777887465855\n",
      "Epoch 10, Time: 55.04610300064087, Loss: 0.1836017539148288\n",
      "\n",
      " Average epoch time: 55.03770642280578\n",
      "Accuracy on test set: 54.95%\n"
     ]
    },
    {
     "data": {
      "text/plain": [
       "54.95"
      ]
     },
     "execution_count": 12,
     "metadata": {},
     "output_type": "execute_result"
    }
   ],
   "source": [
    "# ConNN 2D Spatial Sample n = 8 => n^2 = 64 Model with K = 9\n",
    "Conv2dNN_spatial_9_8.to('mps')\n",
    "\n",
    "criterion = nn.CrossEntropyLoss()\n",
    "optimizer = optim.Adam(Conv2dNN_spatial_9_8.parameters(), lr=0.001)\n",
    "num_epochs = 10 \n",
    "train_model(Conv2dNN_spatial_9_8, cifar10.train_loader, criterion, optimizer, num_epochs)\n",
    "evaluate_accuracy(Conv2dNN_spatial_9_8, cifar10.test_loader)"
   ]
  },
  {
   "cell_type": "code",
   "execution_count": null,
   "metadata": {},
   "outputs": [],
   "source": []
  }
 ],
 "metadata": {
  "kernelspec": {
   "display_name": "ML",
   "language": "python",
   "name": "python3"
  },
  "language_info": {
   "codemirror_mode": {
    "name": "ipython",
    "version": 3
   },
   "file_extension": ".py",
   "mimetype": "text/x-python",
   "name": "python",
   "nbconvert_exporter": "python",
   "pygments_lexer": "ipython3",
   "version": "3.12.0"
  }
 },
 "nbformat": 4,
 "nbformat_minor": 2
}
