{
 "cells": [
  {
   "cell_type": "markdown",
   "metadata": {},
   "source": [
    "## CIFAR10 Performance Test"
   ]
  },
  {
   "cell_type": "code",
   "execution_count": 1,
   "metadata": {},
   "outputs": [
    {
     "name": "stderr",
     "output_type": "stream",
     "text": [
      "/Users/mingikang/miniforge3/envs/ML/lib/python3.12/site-packages/tqdm/auto.py:21: TqdmWarning: IProgress not found. Please update jupyter and ipywidgets. See https://ipywidgets.readthedocs.io/en/stable/user_install.html\n",
      "  from .autonotebook import tqdm as notebook_tqdm\n"
     ]
    }
   ],
   "source": [
    "# Torch\n",
    "import torch \n",
    "import torch.nn as nn\n",
    "import torch.nn.functional as F\n",
    "from torch import optim \n",
    "\n",
    "\n",
    "# Train + Data \n",
    "import sys \n",
    "sys.path.append('../Layers')\n",
    "from Conv1d_NN import *\n",
    "from Conv2d_NN import *\n",
    "\n",
    "from Conv1d_NN_spatial import * \n",
    "from Conv2d_NN_spatial import * \n",
    "\n",
    "sys.path.append('../Data')\n",
    "from CIFAR10 import * \n",
    "\n",
    "\n",
    "sys.path.append('../Train')\n",
    "from train2d import * \n"
   ]
  },
  {
   "cell_type": "markdown",
   "metadata": {},
   "source": [
    "### 1. Models"
   ]
  },
  {
   "cell_type": "code",
   "execution_count": 2,
   "metadata": {},
   "outputs": [
    {
     "name": "stdout",
     "output_type": "stream",
     "text": [
      "----------------------------------------------------------------\n",
      "        Layer (type)               Output Shape         Param #\n",
      "================================================================\n",
      "            Conv2d-1           [-1, 16, 32, 32]             448\n",
      "              ReLU-2           [-1, 16, 32, 32]               0\n",
      "            Conv2d-3           [-1, 32, 32, 32]           4,640\n",
      "              ReLU-4           [-1, 32, 32, 32]               0\n",
      "           Flatten-5                [-1, 32768]               0\n",
      "            Linear-6                 [-1, 1024]      33,555,456\n",
      "              ReLU-7                 [-1, 1024]               0\n",
      "            Linear-8                   [-1, 10]          10,250\n",
      "================================================================\n",
      "Total params: 33,570,794\n",
      "Trainable params: 33,570,794\n",
      "Non-trainable params: 0\n",
      "----------------------------------------------------------------\n",
      "Input size (MB): 0.01\n",
      "Forward/backward pass size (MB): 1.02\n",
      "Params size (MB): 128.06\n",
      "Estimated Total Size (MB): 129.09\n",
      "----------------------------------------------------------------\n"
     ]
    }
   ],
   "source": [
    "# Classic CNN 2D Model - Control Model \n",
    "\n",
    "CNN_2D = nn.Sequential(\n",
    "    nn.Conv2d(3, 16, kernel_size=3, stride=1, padding=1),\n",
    "    nn.ReLU(),\n",
    "\n",
    "    nn.Conv2d(16, 32, kernel_size=3, stride=1, padding=1),\n",
    "    nn.ReLU(),\n",
    "\n",
    "    nn.Flatten(),\n",
    "    nn.Linear(32768, 1024), \n",
    "    nn.ReLU(),\n",
    "    nn.Linear(1024, 10)\n",
    ").to('cpu')\n",
    "\n",
    "from torchsummary import summary \n",
    "summary(CNN_2D, (3, 32, 32))"
   ]
  },
  {
   "cell_type": "markdown",
   "metadata": {},
   "source": [
    "#### Original"
   ]
  },
  {
   "cell_type": "code",
   "execution_count": 3,
   "metadata": {},
   "outputs": [
    {
     "name": "stdout",
     "output_type": "stream",
     "text": [
      "----------------------------------------------------------------\n",
      "        Layer (type)               Output Shape         Param #\n",
      "================================================================\n",
      "           Flatten-1              [-1, 12, 256]               0\n",
      "            Conv1d-2              [-1, 64, 256]           6,976\n",
      "         Conv1d_NN-3              [-1, 64, 256]               0\n",
      "         Conv2d_NN-4           [-1, 16, 32, 32]               0\n",
      "              ReLU-5           [-1, 16, 32, 32]               0\n",
      "           Flatten-6              [-1, 64, 256]               0\n",
      "            Conv1d-7             [-1, 128, 256]          73,856\n",
      "         Conv1d_NN-8             [-1, 128, 256]               0\n",
      "         Conv2d_NN-9           [-1, 32, 32, 32]               0\n",
      "             ReLU-10           [-1, 32, 32, 32]               0\n",
      "          Flatten-11                [-1, 32768]               0\n",
      "           Linear-12                 [-1, 1024]      33,555,456\n",
      "             ReLU-13                 [-1, 1024]               0\n",
      "           Linear-14                   [-1, 10]          10,250\n",
      "================================================================\n",
      "Total params: 33,646,538\n",
      "Trainable params: 33,646,538\n",
      "Non-trainable params: 0\n",
      "----------------------------------------------------------------\n",
      "Input size (MB): 0.01\n",
      "Forward/backward pass size (MB): 1.91\n",
      "Params size (MB): 128.35\n",
      "Estimated Total Size (MB): 130.28\n",
      "----------------------------------------------------------------\n"
     ]
    }
   ],
   "source": [
    "# ConNN 2D All Sample Model with K = 9\n",
    "Conv2dNN_9_all = nn.Sequential(\n",
    "   Conv2d_NN(\n",
    "      in_channels=3,\n",
    "      out_channels=16,\n",
    "      K=9,\n",
    "      stride=9,\n",
    "      padding=0,\n",
    "      shuffle_pattern=\"BA\", \n",
    "      shuffle_scale=2, \n",
    "      samples=\"all\", \n",
    "   ), \n",
    "   nn.ReLU(),\n",
    "\n",
    "   Conv2d_NN(\n",
    "      in_channels=16,\n",
    "      out_channels=32,\n",
    "      K=9,\n",
    "      stride=9,\n",
    "      padding=0,\n",
    "      shuffle_pattern=\"BA\", \n",
    "      shuffle_scale=2, \n",
    "      samples=\"all\", \n",
    "   ),\n",
    "   nn.ReLU(),\n",
    "   \n",
    "   nn.Flatten(),\n",
    "   nn.Linear(32768, 1024),\n",
    "   nn.ReLU(),\n",
    "   nn.Linear(1024, 10)\n",
    ").to('cpu')\n",
    "\n",
    "from torchsummary import summary\n",
    "summary(Conv2dNN_9_all, (3, 32, 32))\n"
   ]
  },
  {
   "cell_type": "code",
   "execution_count": 4,
   "metadata": {},
   "outputs": [
    {
     "name": "stdout",
     "output_type": "stream",
     "text": [
      "----------------------------------------------------------------\n",
      "        Layer (type)               Output Shape         Param #\n",
      "================================================================\n",
      "           Flatten-1              [-1, 12, 256]               0\n",
      "            Conv1d-2              [-1, 64, 256]           6,976\n",
      "         Conv1d_NN-3              [-1, 64, 256]               0\n",
      "         Conv2d_NN-4           [-1, 16, 32, 32]               0\n",
      "              ReLU-5           [-1, 16, 32, 32]               0\n",
      "           Flatten-6              [-1, 64, 256]               0\n",
      "            Conv1d-7             [-1, 128, 256]          73,856\n",
      "         Conv1d_NN-8             [-1, 128, 256]               0\n",
      "         Conv2d_NN-9           [-1, 32, 32, 32]               0\n",
      "             ReLU-10           [-1, 32, 32, 32]               0\n",
      "          Flatten-11                [-1, 32768]               0\n",
      "           Linear-12                 [-1, 1024]      33,555,456\n",
      "             ReLU-13                 [-1, 1024]               0\n",
      "           Linear-14                   [-1, 10]          10,250\n",
      "================================================================\n",
      "Total params: 33,646,538\n",
      "Trainable params: 33,646,538\n",
      "Non-trainable params: 0\n",
      "----------------------------------------------------------------\n",
      "Input size (MB): 0.01\n",
      "Forward/backward pass size (MB): 1.91\n",
      "Params size (MB): 128.35\n",
      "Estimated Total Size (MB): 130.28\n",
      "----------------------------------------------------------------\n"
     ]
    }
   ],
   "source": [
    "# ConNN 2D Random Sample n = 64 Model with K = 9\n",
    "Conv2dNN_9_64 = nn.Sequential(\n",
    "   Conv2d_NN(\n",
    "      in_channels=3,\n",
    "      out_channels=16,\n",
    "      K=9,\n",
    "      stride=9,\n",
    "      padding=0,\n",
    "      shuffle_pattern=\"BA\", \n",
    "      shuffle_scale=2, \n",
    "      samples=64, \n",
    "   ), \n",
    "   nn.ReLU(),\n",
    "\n",
    "   Conv2d_NN(\n",
    "      in_channels=16,\n",
    "      out_channels=32,\n",
    "      K=9,\n",
    "      stride=9,\n",
    "      padding=0,\n",
    "      shuffle_pattern=\"BA\", \n",
    "      shuffle_scale=2, \n",
    "      samples=64, \n",
    "   ),\n",
    "   nn.ReLU(),\n",
    "   \n",
    "   nn.Flatten(),\n",
    "   nn.Linear(32768, 1024),\n",
    "   nn.ReLU(),\n",
    "   nn.Linear(1024, 10)\n",
    ").to('cpu')\n",
    "\n",
    "from torchsummary import summary\n",
    "summary(Conv2dNN_9_64, (3, 32, 32))\n"
   ]
  },
  {
   "cell_type": "markdown",
   "metadata": {},
   "source": [
    "#### Optimized"
   ]
  },
  {
   "cell_type": "code",
   "execution_count": 5,
   "metadata": {},
   "outputs": [
    {
     "name": "stdout",
     "output_type": "stream",
     "text": [
      "----------------------------------------------------------------\n",
      "        Layer (type)               Output Shape         Param #\n",
      "================================================================\n",
      "           Flatten-1              [-1, 12, 256]               0\n",
      "            Conv1d-2              [-1, 64, 256]           6,976\n",
      "         Conv1d_NN-3              [-1, 64, 256]               0\n",
      "         Conv2d_NN-4           [-1, 16, 32, 32]               0\n",
      "              ReLU-5           [-1, 16, 32, 32]               0\n",
      "           Flatten-6              [-1, 64, 256]               0\n",
      "            Conv1d-7             [-1, 128, 256]          73,856\n",
      "         Conv1d_NN-8             [-1, 128, 256]               0\n",
      "         Conv2d_NN-9           [-1, 32, 32, 32]               0\n",
      "             ReLU-10           [-1, 32, 32, 32]               0\n",
      "          Flatten-11                [-1, 32768]               0\n",
      "           Linear-12                 [-1, 1024]      33,555,456\n",
      "             ReLU-13                 [-1, 1024]               0\n",
      "           Linear-14                   [-1, 10]          10,250\n",
      "================================================================\n",
      "Total params: 33,646,538\n",
      "Trainable params: 33,646,538\n",
      "Non-trainable params: 0\n",
      "----------------------------------------------------------------\n",
      "Input size (MB): 0.01\n",
      "Forward/backward pass size (MB): 1.91\n",
      "Params size (MB): 128.35\n",
      "Estimated Total Size (MB): 130.28\n",
      "----------------------------------------------------------------\n"
     ]
    }
   ],
   "source": [
    "# ConNN 2D All Sample Model with K = 9\n",
    "Conv2dNN_9_all_optimized = nn.Sequential(\n",
    "   Conv2d_NN_optimized(\n",
    "      in_channels=3,\n",
    "      out_channels=16,\n",
    "      K=9,\n",
    "      stride=9,\n",
    "      padding=0,\n",
    "      shuffle_pattern=\"BA\", \n",
    "      shuffle_scale=2, \n",
    "      samples=\"all\", \n",
    "   ), \n",
    "   nn.ReLU(),\n",
    "\n",
    "   Conv2d_NN_optimized(\n",
    "      in_channels=16,\n",
    "      out_channels=32,\n",
    "      K=9,\n",
    "      stride=9,\n",
    "      padding=0,\n",
    "      shuffle_pattern=\"BA\", \n",
    "      shuffle_scale=2, \n",
    "      samples=\"all\", \n",
    "   ),\n",
    "   nn.ReLU(),\n",
    "   \n",
    "   nn.Flatten(),\n",
    "   nn.Linear(32768, 1024),\n",
    "   nn.ReLU(),\n",
    "   nn.Linear(1024, 10)\n",
    ").to('cpu')\n",
    "\n",
    "from torchsummary import summary\n",
    "summary(Conv2dNN_9_all, (3, 32, 32))\n"
   ]
  },
  {
   "cell_type": "code",
   "execution_count": 6,
   "metadata": {},
   "outputs": [
    {
     "name": "stdout",
     "output_type": "stream",
     "text": [
      "----------------------------------------------------------------\n",
      "        Layer (type)               Output Shape         Param #\n",
      "================================================================\n",
      "           Flatten-1              [-1, 12, 256]               0\n",
      "            Conv1d-2              [-1, 64, 256]           6,976\n",
      "         Conv1d_NN-3              [-1, 64, 256]               0\n",
      "         Conv2d_NN-4           [-1, 16, 32, 32]               0\n",
      "              ReLU-5           [-1, 16, 32, 32]               0\n",
      "           Flatten-6              [-1, 64, 256]               0\n",
      "            Conv1d-7             [-1, 128, 256]          73,856\n",
      "         Conv1d_NN-8             [-1, 128, 256]               0\n",
      "         Conv2d_NN-9           [-1, 32, 32, 32]               0\n",
      "             ReLU-10           [-1, 32, 32, 32]               0\n",
      "          Flatten-11                [-1, 32768]               0\n",
      "           Linear-12                 [-1, 1024]      33,555,456\n",
      "             ReLU-13                 [-1, 1024]               0\n",
      "           Linear-14                   [-1, 10]          10,250\n",
      "================================================================\n",
      "Total params: 33,646,538\n",
      "Trainable params: 33,646,538\n",
      "Non-trainable params: 0\n",
      "----------------------------------------------------------------\n",
      "Input size (MB): 0.01\n",
      "Forward/backward pass size (MB): 1.91\n",
      "Params size (MB): 128.35\n",
      "Estimated Total Size (MB): 130.28\n",
      "----------------------------------------------------------------\n"
     ]
    }
   ],
   "source": [
    "# ConNN 2D Random Sample n = 64 Model with K = 9\n",
    "Conv2dNN_9_64_optimized = nn.Sequential(\n",
    "   Conv2d_NN_optimized(\n",
    "      in_channels=3,\n",
    "      out_channels=16,\n",
    "      K=9,\n",
    "      stride=9,\n",
    "      padding=0,\n",
    "      shuffle_pattern=\"BA\", \n",
    "      shuffle_scale=2, \n",
    "      samples=64, \n",
    "   ), \n",
    "   nn.ReLU(),\n",
    "\n",
    "   Conv2d_NN_optimized(\n",
    "      in_channels=16,\n",
    "      out_channels=32,\n",
    "      K=9,\n",
    "      stride=9,\n",
    "      padding=0,\n",
    "      shuffle_pattern=\"BA\", \n",
    "      shuffle_scale=2, \n",
    "      samples=64, \n",
    "   ),\n",
    "   nn.ReLU(),\n",
    "   \n",
    "   nn.Flatten(),\n",
    "   nn.Linear(32768, 1024),\n",
    "   nn.ReLU(),\n",
    "   nn.Linear(1024, 10)\n",
    ").to('cpu')\n",
    "\n",
    "from torchsummary import summary\n",
    "summary(Conv2dNN_9_64, (3, 32, 32))\n"
   ]
  },
  {
   "cell_type": "markdown",
   "metadata": {},
   "source": [
    "### 2. Training"
   ]
  },
  {
   "cell_type": "code",
   "execution_count": 7,
   "metadata": {},
   "outputs": [
    {
     "name": "stdout",
     "output_type": "stream",
     "text": [
      "Files already downloaded and verified\n",
      "Files already downloaded and verified\n"
     ]
    }
   ],
   "source": [
    "# CIFAR10\n",
    "cifar10 = CIFAR10()"
   ]
  },
  {
   "cell_type": "code",
   "execution_count": 8,
   "metadata": {},
   "outputs": [
    {
     "name": "stdout",
     "output_type": "stream",
     "text": [
      "Epoch 1, Time: 20.060369968414307, Loss: 1.3660212851241422\n",
      "Epoch 2, Time: 19.888731241226196, Loss: 0.8281724258228336\n",
      "\n",
      " Average epoch time: 19.97455060482025\n",
      "Accuracy on test set: 65.71%\n"
     ]
    },
    {
     "data": {
      "text/plain": [
       "65.71"
      ]
     },
     "execution_count": 8,
     "metadata": {},
     "output_type": "execute_result"
    }
   ],
   "source": [
    "# Classic CNN 2D Model - Control Model \n",
    "CNN_2D.to('mps')\n",
    "\n",
    "criterion = nn.CrossEntropyLoss()\n",
    "optimizer = optim.Adam(CNN_2D.parameters(), lr=0.001)\n",
    "num_epochs = 2\n",
    "train_model(CNN_2D, cifar10.train_loader, criterion, optimizer, num_epochs)\n",
    "evaluate_accuracy(CNN_2D, cifar10.test_loader)"
   ]
  },
  {
   "cell_type": "markdown",
   "metadata": {},
   "source": [
    "#### All Samples"
   ]
  },
  {
   "cell_type": "code",
   "execution_count": 9,
   "metadata": {},
   "outputs": [
    {
     "name": "stdout",
     "output_type": "stream",
     "text": [
      "Epoch 1, Time: 54.91022205352783, Loss: 1.6180734754828237\n",
      "Epoch 2, Time: 54.43134903907776, Loss: 1.2933059513111553\n",
      "\n",
      " Average epoch time: 54.670785546302795\n",
      "Accuracy on test set: 52.67%\n"
     ]
    },
    {
     "data": {
      "text/plain": [
       "52.67"
      ]
     },
     "execution_count": 9,
     "metadata": {},
     "output_type": "execute_result"
    }
   ],
   "source": [
    "# Original\n",
    "Conv2dNN_9_all.to('mps')\n",
    "\n",
    "criterion = nn.CrossEntropyLoss()\n",
    "optimizer = optim.Adam(Conv2dNN_9_all.parameters(), lr=0.001)\n",
    "num_epochs = 2\n",
    "train_model(Conv2dNN_9_all, cifar10.train_loader, criterion, optimizer, num_epochs)\n",
    "evaluate_accuracy(Conv2dNN_9_all, cifar10.test_loader)"
   ]
  },
  {
   "cell_type": "code",
   "execution_count": 13,
   "metadata": {},
   "outputs": [
    {
     "name": "stdout",
     "output_type": "stream",
     "text": [
      "Epoch 1, Time: 117.15188002586365, Loss: 0.93886028104426\n",
      "Epoch 2, Time: 133.8014268875122, Loss: 0.709866513224209\n",
      "Epoch 3, Time: 133.1089551448822, Loss: 0.47900541029546573\n",
      "Epoch 4, Time: 130.42445611953735, Loss: 0.3163632525564612\n",
      "Epoch 5, Time: 122.80665302276611, Loss: 0.23354341748082424\n",
      "Epoch 6, Time: 127.06309008598328, Loss: 0.1686711843504244\n",
      "Epoch 7, Time: 129.65726494789124, Loss: 0.15646147743925032\n",
      "Epoch 8, Time: 126.23992824554443, Loss: 0.13481480319915182\n",
      "Epoch 9, Time: 131.7521688938141, Loss: 0.12596496819730496\n",
      "Epoch 10, Time: 122.97920107841492, Loss: 0.11563027875266893\n",
      "\n",
      " Average epoch time: 127.49850244522095\n",
      "Accuracy on test set: 54.83%\n"
     ]
    },
    {
     "data": {
      "text/plain": [
       "54.83"
      ]
     },
     "execution_count": 13,
     "metadata": {},
     "output_type": "execute_result"
    }
   ],
   "source": [
    "# Optimized\n",
    "Conv2dNN_9_all_optimized.to('mps')\n",
    "\n",
    "criterion = nn.CrossEntropyLoss()\n",
    "optimizer = optim.Adam(Conv2dNN_9_all_optimized.parameters(), lr=0.001)\n",
    "num_epochs = 10\n",
    "train_model(Conv2dNN_9_all_optimized, cifar10.train_loader, criterion, optimizer, num_epochs)\n",
    "evaluate_accuracy(Conv2dNN_9_all_optimized, cifar10.test_loader)"
   ]
  },
  {
   "cell_type": "markdown",
   "metadata": {},
   "source": [
    "#### N Random Samples\n"
   ]
  },
  {
   "cell_type": "code",
   "execution_count": 11,
   "metadata": {},
   "outputs": [
    {
     "name": "stdout",
     "output_type": "stream",
     "text": [
      "Epoch 1, Time: 59.907439947128296, Loss: 1.7384636894516323\n",
      "Epoch 2, Time: 58.717626094818115, Loss: 1.4707601257907155\n",
      "\n",
      " Average epoch time: 59.312533020973206\n",
      "Accuracy on test set: 47.6%\n"
     ]
    },
    {
     "data": {
      "text/plain": [
       "47.6"
      ]
     },
     "execution_count": 11,
     "metadata": {},
     "output_type": "execute_result"
    }
   ],
   "source": [
    "# Original\n",
    "Conv2dNN_9_64.to('mps')\n",
    "\n",
    "criterion = nn.CrossEntropyLoss()\n",
    "optimizer = optim.Adam(Conv2dNN_9_64.parameters(), lr=0.001)\n",
    "num_epochs = 2\n",
    "train_model(Conv2dNN_9_64, cifar10.train_loader, criterion, optimizer, num_epochs)\n",
    "evaluate_accuracy(Conv2dNN_9_64, cifar10.test_loader)"
   ]
  },
  {
   "cell_type": "code",
   "execution_count": 14,
   "metadata": {},
   "outputs": [
    {
     "name": "stdout",
     "output_type": "stream",
     "text": [
      "Epoch 1, Time: 102.40424609184265, Loss: 1.176160012440913\n",
      "Epoch 2, Time: 101.678631067276, Loss: 1.0443694508441574\n",
      "Epoch 3, Time: 92.82319712638855, Loss: 0.9180408567571274\n",
      "Epoch 4, Time: 58.14507436752319, Loss: 0.7763948482092079\n",
      "Epoch 5, Time: 59.652820110321045, Loss: 0.6351556695635666\n",
      "Epoch 6, Time: 57.94316291809082, Loss: 0.4943758460414379\n",
      "Epoch 7, Time: 59.167937994003296, Loss: 0.3720183279698767\n",
      "Epoch 8, Time: 58.554649114608765, Loss: 0.2914434125756516\n",
      "Epoch 9, Time: 57.6046359539032, Loss: 0.2545947561569302\n",
      "Epoch 10, Time: 57.9154372215271, Loss: 0.2033600853732251\n",
      "\n",
      " Average epoch time: 70.58897919654846\n",
      "Accuracy on test set: 57.76%\n"
     ]
    },
    {
     "data": {
      "text/plain": [
       "57.76"
      ]
     },
     "execution_count": 14,
     "metadata": {},
     "output_type": "execute_result"
    }
   ],
   "source": [
    "# Optimized\n",
    "Conv2dNN_9_64_optimized.to('mps')\n",
    "\n",
    "criterion = nn.CrossEntropyLoss()\n",
    "optimizer = optim.Adam(Conv2dNN_9_64_optimized.parameters(), lr=0.001)\n",
    "num_epochs = 10\n",
    "train_model(Conv2dNN_9_64_optimized, cifar10.train_loader, criterion, optimizer, num_epochs)\n",
    "evaluate_accuracy(Conv2dNN_9_64_optimized, cifar10.test_loader)"
   ]
  },
  {
   "cell_type": "code",
   "execution_count": 16,
   "metadata": {},
   "outputs": [
    {
     "name": "stdout",
     "output_type": "stream",
     "text": [
      "--------------------------  ------------  ------------  ------------  ------------  ------------  ------------  \n",
      "                      Name    Self CPU %      Self CPU   CPU total %     CPU total  CPU time avg    # of Calls  \n",
      "--------------------------  ------------  ------------  ------------  ------------  ------------  ------------  \n",
      "               aten::copy_        26.98%      33.401ms        32.96%      40.800ms       4.080ms            10  \n",
      "              aten::linear        32.37%      40.080ms        32.38%      40.085ms      20.043ms             2  \n",
      "               aten::index        -0.83%   -1030.000us        27.41%      33.934ms      16.967ms             2  \n",
      "                  aten::to         1.17%       1.453ms        27.01%      33.441ms       8.360ms             4  \n",
      "            aten::_to_copy         0.02%      22.000us        27.00%      33.432ms       8.358ms             4  \n",
      "                aten::relu         6.69%       8.282ms         6.72%       8.316ms       2.772ms             3  \n",
      "               aten::clone         0.01%      16.000us         6.01%       7.443ms       1.240ms             6  \n",
      "                 aten::bmm         5.44%       6.732ms         5.44%       6.738ms       3.369ms             2  \n",
      "     aten::pixel_unshuffle         4.78%       5.913ms         4.78%       5.922ms       2.961ms             2  \n",
      "              aten::conv1d         0.00%       6.000us         4.78%       5.922ms       2.961ms             2  \n",
      "         aten::convolution         0.02%      19.000us         4.78%       5.916ms       2.958ms             2  \n",
      "                aten::norm         4.76%       5.898ms         4.76%       5.898ms       2.949ms             2  \n",
      "        aten::_convolution         0.02%      25.000us         4.76%       5.897ms       2.949ms             2  \n",
      "    aten::_mps_convolution         4.73%       5.859ms         4.73%       5.861ms       2.930ms             2  \n",
      "       aten::pixel_shuffle         3.89%       4.816ms         3.89%       4.818ms       2.409ms             2  \n",
      "                 aten::div         3.60%       4.457ms         3.60%       4.462ms       2.231ms             2  \n",
      "           aten::clamp_min         3.50%       4.335ms         3.50%       4.335ms       2.167ms             2  \n",
      "                aten::topk         2.64%       3.266ms         2.64%       3.266ms       1.633ms             2  \n",
      "          aten::empty_like         0.01%      11.000us         0.05%      56.000us       6.222us             9  \n",
      "          aten::contiguous         0.00%       2.000us         0.05%      56.000us      28.000us             2  \n",
      "       aten::empty_strided         0.04%      55.000us         0.04%      55.000us       5.000us            11  \n",
      "              aten::arange         0.02%      24.000us         0.04%      45.000us       6.429us             7  \n",
      "               aten::empty         0.03%      37.000us         0.03%      37.000us       2.056us            18  \n",
      "                aten::view         0.02%      29.000us         0.02%      29.000us       1.706us            17  \n",
      "              aten::expand         0.02%      22.000us         0.02%      29.000us       2.417us            12  \n",
      "           aten::expand_as         0.01%       7.000us         0.02%      26.000us       4.333us             6  \n",
      "          aten::as_strided         0.02%      22.000us         0.02%      22.000us       0.917us            24  \n",
      "             aten::flatten         0.00%       5.000us         0.01%      16.000us       5.333us             3  \n",
      "             aten::reshape         0.01%      13.000us         0.01%      16.000us       2.667us             6  \n",
      "           aten::unsqueeze         0.01%      11.000us         0.01%      14.000us       2.333us             6  \n",
      "           aten::unflatten         0.00%       4.000us         0.01%      10.000us       5.000us             2  \n",
      "           aten::transpose         0.00%       6.000us         0.01%       9.000us       4.500us             2  \n",
      "             aten::squeeze         0.00%       4.000us         0.00%       6.000us       3.000us             2  \n",
      "             aten::resize_         0.00%       2.000us         0.00%       2.000us       0.500us             4  \n",
      "      aten::_reshape_alias         0.00%       1.000us         0.00%       1.000us       0.500us             2  \n",
      "--------------------------  ------------  ------------  ------------  ------------  ------------  ------------  \n",
      "Self CPU time total: 123.805ms\n",
      "\n"
     ]
    },
    {
     "name": "stderr",
     "output_type": "stream",
     "text": [
      "STAGE:2025-03-24 10:55:56 19797:36658667 ActivityProfilerController.cpp:314] Completed Stage: Warm Up\n",
      "STAGE:2025-03-24 10:55:57 19797:36658667 ActivityProfilerController.cpp:320] Completed Stage: Collection\n",
      "STAGE:2025-03-24 10:55:57 19797:36658667 ActivityProfilerController.cpp:324] Completed Stage: Post Processing\n"
     ]
    }
   ],
   "source": [
    "\n",
    "# Optionally, move model and input to CUDA if available.\n",
    "device = torch.device('mps' if torch.backends.mps.is_available() else 'cpu')\n",
    "\n",
    "Conv2dNN_9_all_optimized.to(device)\n",
    "input_tensor = torch.randn(32, 3, 32, 32)\n",
    "input_tensor = input_tensor.to(device)\n",
    "\n",
    "# Profile the forward pass\n",
    "with torch.autograd.profiler.profile(enabled=True) as prof:\n",
    "    output = Conv2dNN_9_all_optimized(input_tensor)\n",
    "\n",
    "# Print the profiling results sorted by total CPU time.\n",
    "print(prof.key_averages().table(sort_by=\"cpu_time_total\"))"
   ]
  },
  {
   "cell_type": "code",
   "execution_count": null,
   "metadata": {},
   "outputs": [],
   "source": []
  }
 ],
 "metadata": {
  "kernelspec": {
   "display_name": "ML",
   "language": "python",
   "name": "python3"
  },
  "language_info": {
   "codemirror_mode": {
    "name": "ipython",
    "version": 3
   },
   "file_extension": ".py",
   "mimetype": "text/x-python",
   "name": "python",
   "nbconvert_exporter": "python",
   "pygments_lexer": "ipython3",
   "version": "3.12.0"
  }
 },
 "nbformat": 4,
 "nbformat_minor": 2
}
