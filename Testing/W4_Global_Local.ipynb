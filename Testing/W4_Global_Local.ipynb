{
 "cells": [
  {
   "cell_type": "markdown",
   "metadata": {},
   "source": [
    "# Global, Local, Control ConvNN Model Testing\n",
    "## Classification Tests"
   ]
  },
  {
   "cell_type": "code",
   "execution_count": 1,
   "metadata": {},
   "outputs": [
    {
     "name": "stderr",
     "output_type": "stream",
     "text": [
      "/Users/mingikang/miniforge3/envs/ML/lib/python3.12/site-packages/tqdm/auto.py:21: TqdmWarning: IProgress not found. Please update jupyter and ipywidgets. See https://ipywidgets.readthedocs.io/en/stable/user_install.html\n",
      "  from .autonotebook import tqdm as notebook_tqdm\n"
     ]
    }
   ],
   "source": [
    "# Torch\n",
    "import torch \n",
    "import torch.nn as nn\n",
    "import torch.nn.functional as F\n",
    "from torch import optim \n",
    "\n",
    "\n",
    "# Train + Data \n",
    "import sys \n",
    "sys.path.append('../Layers')\n",
    "from Conv1d_NN_spatial import * \n",
    "from Conv2d_NN_spatial import * \n",
    "\n",
    "sys.path.append('../Data')\n",
    "from CIFAR10 import * \n",
    "\n",
    "\n",
    "sys.path.append('../Models')\n",
    "from models_2d import *\n",
    "\n",
    "sys.path.append('../Train')\n",
    "from train2d import * \n"
   ]
  },
  {
   "cell_type": "code",
   "execution_count": 2,
   "metadata": {},
   "outputs": [
    {
     "name": "stdout",
     "output_type": "stream",
     "text": [
      "Files already downloaded and verified\n",
      "Files already downloaded and verified\n"
     ]
    }
   ],
   "source": [
    "cifar10 = CIFAR10()"
   ]
  },
  {
   "cell_type": "markdown",
   "metadata": {},
   "source": [
    "### 1. CNN "
   ]
  },
  {
   "cell_type": "code",
   "execution_count": 3,
   "metadata": {},
   "outputs": [
    {
     "name": "stdout",
     "output_type": "stream",
     "text": [
      "Epoch 1, Time: 20.553863286972046, Loss: 1.3292561015662026\n",
      "Epoch 2, Time: 18.65548300743103, Loss: 0.774481922502408\n",
      "Epoch 3, Time: 18.88553285598755, Loss: 0.36341875446650684\n",
      "Epoch 4, Time: 19.121826887130737, Loss: 0.09699814698761305\n",
      "Epoch 5, Time: 21.954610109329224, Loss: 0.04872458478521623\n",
      "Epoch 6, Time: 25.47069501876831, Loss: 0.05158310020497293\n",
      "Epoch 7, Time: 23.35781502723694, Loss: 0.04101769996764105\n",
      "Epoch 8, Time: 20.705952882766724, Loss: 0.038970378940985144\n",
      "Epoch 9, Time: 25.22803497314453, Loss: 0.030081167469619027\n",
      "Epoch 10, Time: 22.032872915267944, Loss: 0.029677547675588993\n",
      "\n",
      " Average epoch time: 21.596668696403505\n",
      "Accuracy on test set: 64.85%\n"
     ]
    },
    {
     "data": {
      "text/plain": [
       "64.85"
      ]
     },
     "execution_count": 3,
     "metadata": {},
     "output_type": "execute_result"
    }
   ],
   "source": [
    "CNN_1 = CNN()\n",
    "\n",
    "# Test + Eval\n",
    "criterion = nn.CrossEntropyLoss()\n",
    "optimizer = optim.Adam(CNN_1.parameters(), lr=0.001)\n",
    "num_epochs = 10 \n",
    "train_model(CNN_1, cifar10.train_loader, criterion, optimizer, num_epochs)\n",
    "evaluate_accuracy(CNN_1, cifar10.test_loader)\n"
   ]
  },
  {
   "cell_type": "markdown",
   "metadata": {},
   "source": [
    "### 2. ConvNN 2D, K, N = All"
   ]
  },
  {
   "cell_type": "code",
   "execution_count": 4,
   "metadata": {},
   "outputs": [
    {
     "name": "stdout",
     "output_type": "stream",
     "text": [
      "Epoch 1, Time: 54.98434782028198, Loss: 1.6221385543303721\n",
      "Epoch 2, Time: 53.09374499320984, Loss: 1.3079478714777075\n",
      "Epoch 3, Time: 52.179492235183716, Loss: 1.125501368204346\n",
      "Epoch 4, Time: 53.27958607673645, Loss: 0.9589765045953833\n",
      "Epoch 5, Time: 53.54943799972534, Loss: 0.7779395472820457\n",
      "Epoch 6, Time: 54.844765186309814, Loss: 0.5897952378977596\n",
      "Epoch 7, Time: 54.91599416732788, Loss: 0.4261136612357081\n",
      "Epoch 8, Time: 53.06979298591614, Loss: 0.31640060300298056\n",
      "Epoch 9, Time: 53.284871101379395, Loss: 0.24182864435760262\n",
      "Epoch 10, Time: 55.076087951660156, Loss: 0.20061681347677623\n",
      "\n",
      " Average epoch time: 53.82781205177307\n",
      "Accuracy on test set: 53.95%\n"
     ]
    },
    {
     "data": {
      "text/plain": [
       "53.95"
      ]
     },
     "execution_count": 4,
     "metadata": {},
     "output_type": "execute_result"
    }
   ],
   "source": [
    "convNN_2d_k_all = ConvNN_2D_K_All()\n",
    "\n",
    "# Test + Eval\n",
    "criterion = nn.CrossEntropyLoss()\n",
    "optimizer = optim.Adam(convNN_2d_k_all.parameters(), lr=0.001)\n",
    "num_epochs = 10 \n",
    "train_model(convNN_2d_k_all, cifar10.train_loader, criterion, optimizer, num_epochs)\n",
    "evaluate_accuracy(convNN_2d_k_all, cifar10.test_loader)\n"
   ]
  },
  {
   "cell_type": "markdown",
   "metadata": {},
   "source": [
    "### 3. ConvNN 2D, K, N = All, Location Channels\n"
   ]
  },
  {
   "cell_type": "code",
   "execution_count": 5,
   "metadata": {},
   "outputs": [
    {
     "name": "stdout",
     "output_type": "stream",
     "text": [
      "Epoch 1, Time: 77.00739884376526, Loss: 1.485483940147683\n",
      "Epoch 2, Time: 77.44689106941223, Loss: 1.1400862294237326\n",
      "Epoch 3, Time: 85.72340607643127, Loss: 0.9271777212010015\n",
      "Epoch 4, Time: 78.92020916938782, Loss: 0.7095663840203639\n",
      "Epoch 5, Time: 81.63541793823242, Loss: 0.5043557335424911\n",
      "Epoch 6, Time: 86.31703186035156, Loss: 0.3326979620510812\n",
      "Epoch 7, Time: 88.92221021652222, Loss: 0.247375030880389\n",
      "Epoch 8, Time: 82.6064932346344, Loss: 0.1765243539686703\n",
      "Epoch 9, Time: 79.47238779067993, Loss: 0.15665796094947992\n",
      "Epoch 10, Time: 84.50203895568848, Loss: 0.14160079326804564\n",
      "\n",
      " Average epoch time: 82.25534851551056\n",
      "Accuracy on test set: 57.36%\n"
     ]
    },
    {
     "data": {
      "text/plain": [
       "57.36"
      ]
     },
     "execution_count": 5,
     "metadata": {},
     "output_type": "execute_result"
    }
   ],
   "source": [
    "convNN_2d_k_all_location = ConvNN_2D_K_All_Location()\n",
    "\n",
    "# Test + Eval\n",
    "criterion = nn.CrossEntropyLoss()\n",
    "optimizer = optim.Adam(convNN_2d_k_all_location.parameters(), lr=0.001)\n",
    "num_epochs = 10 \n",
    "train_model(convNN_2d_k_all_location, cifar10.train_loader, criterion, optimizer, num_epochs)\n",
    "evaluate_accuracy(convNN_2d_k_all_location, cifar10.test_loader)"
   ]
  },
  {
   "cell_type": "markdown",
   "metadata": {},
   "source": [
    "### 4. Local - Global ConvNN 2D, K, N = All"
   ]
  },
  {
   "cell_type": "code",
   "execution_count": 6,
   "metadata": {},
   "outputs": [
    {
     "name": "stdout",
     "output_type": "stream",
     "text": [
      "Epoch 1, Time: 53.82068586349487, Loss: 1.5198639971978218\n",
      "Epoch 2, Time: 54.27666711807251, Loss: 1.170544907641228\n",
      "Epoch 3, Time: 50.517213106155396, Loss: 0.9770864601940146\n",
      "Epoch 4, Time: 52.67799377441406, Loss: 0.7754845537645433\n",
      "Epoch 5, Time: 46.922930002212524, Loss: 0.5552977918816344\n",
      "Epoch 6, Time: 44.382128953933716, Loss: 0.36085775723237823\n",
      "Epoch 7, Time: 44.37309408187866, Loss: 0.24202964577795294\n",
      "Epoch 8, Time: 45.259531021118164, Loss: 0.18445224338747046\n",
      "Epoch 9, Time: 43.77030086517334, Loss: 0.15409116365987321\n",
      "Epoch 10, Time: 45.715641021728516, Loss: 0.11985996144983317\n",
      "\n",
      " Average epoch time: 48.171618580818176\n",
      "Accuracy on test set: 57.92%\n"
     ]
    },
    {
     "data": {
      "text/plain": [
       "57.92"
      ]
     },
     "execution_count": 6,
     "metadata": {},
     "output_type": "execute_result"
    }
   ],
   "source": [
    "local_global_convNN = Local_Global_ConvNN_2D()\n",
    "\n",
    "# Test + Eval\n",
    "criterion = nn.CrossEntropyLoss()\n",
    "optimizer = optim.Adam(local_global_convNN.parameters(), lr=0.001)\n",
    "num_epochs = 10 \n",
    "train_model(local_global_convNN, cifar10.train_loader, criterion, optimizer, num_epochs)\n",
    "evaluate_accuracy(local_global_convNN, cifar10.test_loader)"
   ]
  },
  {
   "cell_type": "markdown",
   "metadata": {},
   "source": [
    "### 5. Global - Local ConvNN 2D, K, N = All"
   ]
  },
  {
   "cell_type": "code",
   "execution_count": 7,
   "metadata": {},
   "outputs": [
    {
     "name": "stdout",
     "output_type": "stream",
     "text": [
      "Epoch 1, Time: 30.217594861984253, Loss: 1.433439295538856\n",
      "Epoch 2, Time: 28.558447122573853, Loss: 0.9112988069767842\n",
      "Epoch 3, Time: 29.72597885131836, Loss: 0.4370129746968484\n",
      "Epoch 4, Time: 29.919486045837402, Loss: 0.1184021838609596\n",
      "Epoch 5, Time: 29.136576890945435, Loss: 0.07144592957430616\n",
      "Epoch 6, Time: 29.33583688735962, Loss: 0.060301157111740285\n",
      "Epoch 7, Time: 29.08857011795044, Loss: 0.06516794949624678\n",
      "Epoch 8, Time: 28.922893047332764, Loss: 0.055068752442425845\n",
      "Epoch 9, Time: 28.83643627166748, Loss: 0.049006970378744734\n",
      "Epoch 10, Time: 28.74742603302002, Loss: 0.042409197870626164\n",
      "\n",
      " Average epoch time: 29.248924612998962\n",
      "Accuracy on test set: 57.49%\n"
     ]
    },
    {
     "data": {
      "text/plain": [
       "57.49"
      ]
     },
     "execution_count": 7,
     "metadata": {},
     "output_type": "execute_result"
    }
   ],
   "source": [
    "global_local_convNN = Global_Local_ConvNN_2D()\n",
    "\n",
    "# Test + Eval\n",
    "criterion = nn.CrossEntropyLoss()\n",
    "optimizer = optim.Adam(global_local_convNN.parameters(), lr=0.001)\n",
    "num_epochs = 10 \n",
    "train_model(global_local_convNN, cifar10.train_loader, criterion, optimizer, num_epochs)\n",
    "evaluate_accuracy(global_local_convNN, cifar10.test_loader)"
   ]
  },
  {
   "cell_type": "markdown",
   "metadata": {},
   "source": [
    "### 6. Branching (CNN + ConvNN), K, N = All"
   ]
  },
  {
   "cell_type": "code",
   "execution_count": 8,
   "metadata": {},
   "outputs": [
    {
     "name": "stdout",
     "output_type": "stream",
     "text": [
      "Epoch 1, Time: 58.813385009765625, Loss: 1.4126473252120835\n",
      "Epoch 2, Time: 57.01035213470459, Loss: 0.9770130498330002\n",
      "Epoch 3, Time: 56.37556481361389, Loss: 0.6795939581702127\n",
      "Epoch 4, Time: 56.37361693382263, Loss: 0.36797373804747296\n",
      "Epoch 5, Time: 56.191197872161865, Loss: 0.18131180922917622\n",
      "Epoch 6, Time: 56.2384889125824, Loss: 0.14253450209117682\n",
      "Epoch 7, Time: 56.10917401313782, Loss: 0.11090529055925338\n",
      "Epoch 8, Time: 56.14130163192749, Loss: 0.09303316479052186\n",
      "Epoch 9, Time: 56.18609094619751, Loss: 0.09063736626835507\n",
      "Epoch 10, Time: 56.868093967437744, Loss: 0.08290739724976177\n",
      "\n",
      " Average epoch time: 56.63072662353515\n",
      "Accuracy on test set: 66.03%\n"
     ]
    },
    {
     "data": {
      "text/plain": [
       "66.03"
      ]
     },
     "execution_count": 8,
     "metadata": {},
     "output_type": "execute_result"
    }
   ],
   "source": [
    "branching_convNN = Branching_ConvNN_2D_K_All()\n",
    "\n",
    "# Test + Eval\n",
    "criterion = nn.CrossEntropyLoss()\n",
    "optimizer = optim.Adam(branching_convNN.parameters(), lr=0.001)\n",
    "num_epochs = 10 \n",
    "train_model(branching_convNN, cifar10.train_loader, criterion, optimizer, num_epochs)\n",
    "evaluate_accuracy(branching_convNN, cifar10.test_loader)\n"
   ]
  }
 ],
 "metadata": {
  "kernelspec": {
   "display_name": "ML",
   "language": "python",
   "name": "python3"
  },
  "language_info": {
   "codemirror_mode": {
    "name": "ipython",
    "version": 3
   },
   "file_extension": ".py",
   "mimetype": "text/x-python",
   "name": "python",
   "nbconvert_exporter": "python",
   "pygments_lexer": "ipython3",
   "version": "3.12.0"
  }
 },
 "nbformat": 4,
 "nbformat_minor": 2
}
