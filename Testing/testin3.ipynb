{
 "cells": [
  {
   "cell_type": "code",
   "execution_count": 40,
   "metadata": {},
   "outputs": [],
   "source": [
    "import torch \n",
    "import torch.nn as nn\n",
    "import torch.optim as optim\n",
    "import torch.nn.functional as F\n",
    "import random \n",
    "\n"
   ]
  },
  {
   "cell_type": "code",
   "execution_count": 59,
   "metadata": {},
   "outputs": [
    {
     "name": "stdout",
     "output_type": "stream",
     "text": [
      "torch.Size([32, 1, 5])\n"
     ]
    }
   ],
   "source": [
    "matrix = torch.randn(32, 1, 40) \n",
    "\n",
    "num_neighbors = 5 \n",
    "rand_idx = random.sample(range(0, 40), num_neighbors)\n",
    "rand_idx = [5, 12, 29, 30, 37]\n",
    "\n",
    "matrix_prime = matrix[:, :, rand_idx]\n",
    "print(matrix_prime.shape)\n"
   ]
  },
  {
   "cell_type": "code",
   "execution_count": 61,
   "metadata": {},
   "outputs": [
    {
     "name": "stdout",
     "output_type": "stream",
     "text": [
      "True\n",
      "True\n",
      "True\n",
      "True\n",
      "True\n"
     ]
    }
   ],
   "source": [
    "print(torch.equal(matrix[:, :, 5],  matrix_prime[:, :, 0]))\n",
    "print(torch.equal(matrix[:, :, 12], matrix_prime[:, :, 1]))\n",
    "print(torch.equal(matrix[:, :, 29], matrix_prime[:, :, 2]))\n",
    "print(torch.equal(matrix[:, :, 30], matrix_prime[:, :, 3]))\n",
    "print(torch.equal(matrix[:, :, 37], matrix_prime[:, :, 4]))\n"
   ]
  },
  {
   "cell_type": "code",
   "execution_count": 68,
   "metadata": {},
   "outputs": [
    {
     "name": "stdout",
     "output_type": "stream",
     "text": [
      "torch.Size([32, 40, 5])\n"
     ]
    }
   ],
   "source": [
    "matrix = matrix\n",
    "matrix_prime = matrix_prime\n",
    "\n",
    "distance_matrix = torch.zeros(32, 40, 5)\n",
    "\n",
    "for i in range(32): \n",
    "   for j in range(40): \n",
    "         for k in range(5): \n",
    "            distance_matrix[i, j, k] = torch.norm(matrix[i, :, j] -  matrix_prime[i, :, k])\n",
    "\n",
    "print(distance_matrix.shape)\n"
   ]
  },
  {
   "cell_type": "code",
   "execution_count": null,
   "metadata": {},
   "outputs": [],
   "source": []
  },
  {
   "cell_type": "code",
   "execution_count": null,
   "metadata": {},
   "outputs": [],
   "source": []
  },
  {
   "cell_type": "code",
   "execution_count": null,
   "metadata": {},
   "outputs": [],
   "source": []
  },
  {
   "cell_type": "code",
   "execution_count": 24,
   "metadata": {},
   "outputs": [
    {
     "name": "stdout",
     "output_type": "stream",
     "text": [
      "torch.Size([32, 1, 40])\n",
      "torch.Size([32, 40, 10])\n"
     ]
    },
    {
     "ename": "RuntimeError",
     "evalue": "The size of tensor a (40) must match the size of tensor b (10) at non-singleton dimension 2",
     "output_type": "error",
     "traceback": [
      "\u001b[0;31m---------------------------------------------------------------------------\u001b[0m",
      "\u001b[0;31mRuntimeError\u001b[0m                              Traceback (most recent call last)",
      "Cell \u001b[0;32mIn[24], line 6\u001b[0m\n\u001b[1;32m      3\u001b[0m dot_product \u001b[38;5;241m=\u001b[39m torch\u001b[38;5;241m.\u001b[39mbmm(matrix\u001b[38;5;241m.\u001b[39mtranspose(\u001b[38;5;241m2\u001b[39m, \u001b[38;5;241m1\u001b[39m), matrix_prime)\n\u001b[1;32m      4\u001b[0m \u001b[38;5;28mprint\u001b[39m(dot_product\u001b[38;5;241m.\u001b[39mshape)\n\u001b[0;32m----> 6\u001b[0m dist_matrix \u001b[38;5;241m=\u001b[39m \u001b[43mnorm_squared\u001b[49m\u001b[43m \u001b[49m\u001b[38;5;241;43m+\u001b[39;49m\u001b[43m \u001b[49m\u001b[43mnorm_squared\u001b[49m\u001b[38;5;241;43m.\u001b[39;49m\u001b[43mtranspose\u001b[49m\u001b[43m(\u001b[49m\u001b[38;5;241;43m2\u001b[39;49m\u001b[43m,\u001b[49m\u001b[43m \u001b[49m\u001b[38;5;241;43m1\u001b[39;49m\u001b[43m)\u001b[49m\u001b[43m \u001b[49m\u001b[38;5;241;43m-\u001b[39;49m\u001b[43m \u001b[49m\u001b[38;5;241;43m2\u001b[39;49m\u001b[43m \u001b[49m\u001b[38;5;241;43m*\u001b[39;49m\u001b[43m \u001b[49m\u001b[43mdot_product\u001b[49m\n\u001b[1;32m      7\u001b[0m \u001b[38;5;28mprint\u001b[39m(dist_matrix\u001b[38;5;241m.\u001b[39mshape)\n",
      "\u001b[0;31mRuntimeError\u001b[0m: The size of tensor a (40) must match the size of tensor b (10) at non-singleton dimension 2"
     ]
    }
   ],
   "source": [
    "# norm_squared = torch.sum(matrix ** 2, dim=1, keepdim=True)\n",
    "# print(norm_squared.shape)\n",
    "# dot_product = torch.bmm(matrix.transpose(2, 1), matrix_prime)\n",
    "# print(dot_product.shape)\n",
    "\n",
    "# dist_matrix = norm_squared + norm_squared.transpose(2, 1) - 2 * dot_product\n",
    "# print(dist_matrix.shape)"
   ]
  },
  {
   "cell_type": "code",
   "execution_count": null,
   "metadata": {},
   "outputs": [],
   "source": []
  }
 ],
 "metadata": {
  "kernelspec": {
   "display_name": "MK",
   "language": "python",
   "name": "python3"
  },
  "language_info": {
   "codemirror_mode": {
    "name": "ipython",
    "version": 3
   },
   "file_extension": ".py",
   "mimetype": "text/x-python",
   "name": "python",
   "nbconvert_exporter": "python",
   "pygments_lexer": "ipython3",
   "version": "3.12.0"
  }
 },
 "nbformat": 4,
 "nbformat_minor": 2
}
