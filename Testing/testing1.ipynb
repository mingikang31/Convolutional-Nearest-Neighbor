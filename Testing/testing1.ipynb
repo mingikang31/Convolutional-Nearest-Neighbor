{
 "cells": [
  {
   "cell_type": "code",
   "execution_count": 2,
   "metadata": {},
   "outputs": [],
   "source": [
    "import torch \n",
    "from NN import *\n",
    "import torch.nn as nn\n",
    "\n",
    "\n"
   ]
  },
  {
   "cell_type": "code",
   "execution_count": 62,
   "metadata": {},
   "outputs": [
    {
     "name": "stdout",
     "output_type": "stream",
     "text": [
      "torch.Size([6, 3])\n",
      "torch.Size([1, 6, 3])\n"
     ]
    }
   ],
   "source": [
    "ex_matrix = torch.tensor([[1, 2, 9], [1, 6, 3], [7, 0, 9], \n",
    "                          [1, 5, 0], [2, 4, 3], [1, 1, 1], \n",
    "                          ], dtype=torch.float32)\n",
    "\n",
    "print(ex_matrix.shape)\n",
    "print(ex_matrix.unsqueeze(0).shape)\n",
    "\n"
   ]
  },
  {
   "cell_type": "code",
   "execution_count": 63,
   "metadata": {},
   "outputs": [
    {
     "name": "stdout",
     "output_type": "stream",
     "text": [
      "torch.Size([1, 30, 3])\n",
      "tensor([[[1., 2., 9.],\n",
      "         [7., 0., 9.],\n",
      "         [2., 4., 3.],\n",
      "         [1., 6., 3.],\n",
      "         [1., 1., 1.],\n",
      "         [1., 6., 3.],\n",
      "         [2., 4., 3.],\n",
      "         [1., 5., 0.],\n",
      "         [1., 1., 1.],\n",
      "         [1., 2., 9.],\n",
      "         [7., 0., 9.],\n",
      "         [1., 2., 9.],\n",
      "         [2., 4., 3.],\n",
      "         [1., 1., 1.],\n",
      "         [1., 6., 3.],\n",
      "         [1., 5., 0.],\n",
      "         [1., 6., 3.],\n",
      "         [2., 4., 3.],\n",
      "         [1., 1., 1.],\n",
      "         [1., 2., 9.],\n",
      "         [2., 4., 3.],\n",
      "         [1., 6., 3.],\n",
      "         [1., 5., 0.],\n",
      "         [1., 1., 1.],\n",
      "         [1., 2., 9.],\n",
      "         [1., 1., 1.],\n",
      "         [2., 4., 3.],\n",
      "         [1., 5., 0.],\n",
      "         [1., 6., 3.],\n",
      "         [1., 2., 9.]]])\n"
     ]
    }
   ],
   "source": [
    "a = NNT(ex_matrix, (5, 3))\n",
    "print(a.prime.shape)\n",
    "print(a.prime)\n"
   ]
  },
  {
   "cell_type": "code",
   "execution_count": 64,
   "metadata": {},
   "outputs": [],
   "source": [
    "conv2d_layer = nn.Conv2d(in_channels = 1, out_channels = 1, kernel_size = a.kernel_shape, stride = a.num_closest)"
   ]
  },
  {
   "cell_type": "code",
   "execution_count": 65,
   "metadata": {},
   "outputs": [
    {
     "name": "stdout",
     "output_type": "stream",
     "text": [
      "torch.Size([1, 6, 1])\n",
      "tensor([[[5.4218],\n",
      "         [5.1074],\n",
      "         [5.9157],\n",
      "         [4.3280],\n",
      "         [5.1100],\n",
      "         [4.1780]]], grad_fn=<SqueezeBackward1>)\n"
     ]
    }
   ],
   "source": [
    "output = conv2d_layer(a.prime)\n",
    "print(output.shape)\n",
    "print(output)"
   ]
  },
  {
   "cell_type": "code",
   "execution_count": 66,
   "metadata": {},
   "outputs": [
    {
     "name": "stdout",
     "output_type": "stream",
     "text": [
      "torch.Size([1, 3, 30])\n"
     ]
    }
   ],
   "source": [
    "a_prime = a.prime.squeeze(1).permute((0, 2, 1))\n",
    "print(a_prime.shape)"
   ]
  },
  {
   "cell_type": "code",
   "execution_count": 67,
   "metadata": {},
   "outputs": [
    {
     "name": "stdout",
     "output_type": "stream",
     "text": [
      "torch.Size([1, 1, 10])\n",
      "tensor([[[ 1.9127, -2.2228,  0.0816,  0.6080, -1.5441, -1.9980, -0.5699,\n",
      "          -0.5971,  0.7561, -3.3027]]], grad_fn=<ConvolutionBackward0>)\n"
     ]
    }
   ],
   "source": [
    "conv1d_layer = nn.Conv1d(in_channels = 3, out_channels = 1, kernel_size = 3, stride = 3)\n",
    "output = conv1d_layer(a_prime)\n",
    "print(output.shape)\n",
    "print(output)"
   ]
  },
  {
   "cell_type": "code",
   "execution_count": 4,
   "metadata": {},
   "outputs": [
    {
     "name": "stdout",
     "output_type": "stream",
     "text": [
      "torch.Size([20, 33, 48])\n",
      "torch.Size([33, 16, 3])\n"
     ]
    }
   ],
   "source": [
    "m = nn.Conv1d(16, 33, 3)\n",
    "input = torch.randn(20, 16, 50)\n",
    "output = m(input)\n",
    "print(output.shape)\n",
    "print(m.weight.shape)"
   ]
  },
  {
   "cell_type": "code",
   "execution_count": 69,
   "metadata": {},
   "outputs": [
    {
     "data": {
      "text/plain": [
       "torch.Size([20, 16, 50])"
      ]
     },
     "execution_count": 69,
     "metadata": {},
     "output_type": "execute_result"
    }
   ],
   "source": [
    "input.shape"
   ]
  },
  {
   "cell_type": "code",
   "execution_count": 70,
   "metadata": {},
   "outputs": [
    {
     "name": "stdout",
     "output_type": "stream",
     "text": [
      "torch.Size([3, 6, 3])\n"
     ]
    }
   ],
   "source": [
    "ex_matrix = torch.tensor([[1, 2, 9], [1, 6, 3], [7, 0, 9], \n",
    "                          [1, 5, 0], [2, 4, 3], [1, 1, 1], \n",
    "                          ], dtype=torch.float32)\n",
    "\n",
    "list_matrix = [ex_matrix, ex_matrix, ex_matrix]\n",
    "\n",
    "stack = torch.stack(list_matrix, dim = 0)\n",
    "print(stack.shape)"
   ]
  },
  {
   "cell_type": "markdown",
   "metadata": {},
   "source": [
    "# Example"
   ]
  },
  {
   "cell_type": "code",
   "execution_count": 71,
   "metadata": {},
   "outputs": [
    {
     "name": "stdout",
     "output_type": "stream",
     "text": [
      "torch.Size([3, 6, 6])\n"
     ]
    }
   ],
   "source": [
    "b = torch.zeros(stack.shape[0], stack.shape[1], stack.shape[1])\n",
    "print(b.shape)"
   ]
  },
  {
   "cell_type": "code",
   "execution_count": 72,
   "metadata": {},
   "outputs": [
    {
     "name": "stdout",
     "output_type": "stream",
     "text": [
      "tensor([[[5., 4., 8.],\n",
      "         [1., 0., 9.],\n",
      "         [5., 6., 0.],\n",
      "         [4., 1., 9.],\n",
      "         [7., 0., 6.],\n",
      "         [7., 8., 4.]],\n",
      "\n",
      "        [[0., 8., 8.],\n",
      "         [3., 7., 1.],\n",
      "         [1., 2., 7.],\n",
      "         [4., 6., 4.],\n",
      "         [7., 3., 9.],\n",
      "         [6., 7., 2.]],\n",
      "\n",
      "        [[1., 6., 2.],\n",
      "         [1., 8., 5.],\n",
      "         [7., 8., 1.],\n",
      "         [0., 5., 2.],\n",
      "         [7., 1., 0.],\n",
      "         [6., 4., 1.]]])\n",
      "torch.Size([3, 6, 3])\n"
     ]
    }
   ],
   "source": [
    "import torch\n",
    "\n",
    "matrix = torch.randint(0, 10, (3, 6, 3), dtype=torch.float32)\n",
    "print(matrix)\n",
    "print(matrix.shape)"
   ]
  },
  {
   "cell_type": "code",
   "execution_count": 73,
   "metadata": {},
   "outputs": [
    {
     "data": {
      "text/plain": [
       "tensor([[5., 4., 8.],\n",
       "        [1., 0., 9.],\n",
       "        [5., 6., 0.],\n",
       "        [4., 1., 9.],\n",
       "        [7., 0., 6.],\n",
       "        [7., 8., 4.]])"
      ]
     },
     "execution_count": 73,
     "metadata": {},
     "output_type": "execute_result"
    }
   ],
   "source": [
    "matrix[0,]\n"
   ]
  },
  {
   "cell_type": "code",
   "execution_count": 74,
   "metadata": {},
   "outputs": [],
   "source": [
    "a = torch.zeros(3, 6, 6)\n",
    "\n",
    "for i in range(matrix.shape[0]): \n",
    "    for j in range(matrix.shape[1]): \n",
    "        for k in range(matrix.shape[1]): \n",
    "            a[i, j, k] = torch.norm(matrix[i, j] - matrix[i, k])\n",
    "            \n"
   ]
  },
  {
   "cell_type": "code",
   "execution_count": 75,
   "metadata": {},
   "outputs": [
    {
     "name": "stdout",
     "output_type": "stream",
     "text": [
      "torch.Size([3, 6, 6])\n",
      "tensor([[[ 0.0000,  5.7446,  8.2462,  3.3166,  4.8990,  6.0000],\n",
      "         [ 5.7446,  0.0000, 11.5326,  3.1623,  6.7082, 11.1803],\n",
      "         [ 8.2462, 11.5326,  0.0000, 10.3441,  8.7178,  4.8990],\n",
      "         [ 3.3166,  3.1623, 10.3441,  0.0000,  4.3589,  9.1104],\n",
      "         [ 4.8990,  6.7082,  8.7178,  4.3589,  0.0000,  8.2462],\n",
      "         [ 6.0000, 11.1803,  4.8990,  9.1104,  8.2462,  0.0000]],\n",
      "\n",
      "        [[ 0.0000,  7.6811,  6.1644,  6.0000,  8.6603,  8.5440],\n",
      "         [ 7.6811,  0.0000,  8.0623,  3.3166,  9.7980,  3.1623],\n",
      "         [ 6.1644,  8.0623,  0.0000,  5.8310,  6.4031,  8.6603],\n",
      "         [ 6.0000,  3.3166,  5.8310,  0.0000,  6.5574,  3.0000],\n",
      "         [ 8.6603,  9.7980,  6.4031,  6.5574,  0.0000,  8.1240],\n",
      "         [ 8.5440,  3.1623,  8.6603,  3.0000,  8.1240,  0.0000]],\n",
      "\n",
      "        [[ 0.0000,  3.6056,  6.4031,  1.4142,  8.0623,  5.4772],\n",
      "         [ 3.6056,  0.0000,  7.2111,  4.3589, 10.4881,  7.5498],\n",
      "         [ 6.4031,  7.2111,  0.0000,  7.6811,  7.0711,  4.1231],\n",
      "         [ 1.4142,  4.3589,  7.6811,  0.0000,  8.3066,  6.1644],\n",
      "         [ 8.0623, 10.4881,  7.0711,  8.3066,  0.0000,  3.3166],\n",
      "         [ 5.4772,  7.5498,  4.1231,  6.1644,  3.3166,  0.0000]]])\n"
     ]
    }
   ],
   "source": [
    "print(a.size())\n",
    "print(a)"
   ]
  }
 ],
 "metadata": {
  "kernelspec": {
   "display_name": "MK",
   "language": "python",
   "name": "python3"
  },
  "language_info": {
   "codemirror_mode": {
    "name": "ipython",
    "version": 3
   },
   "file_extension": ".py",
   "mimetype": "text/x-python",
   "name": "python",
   "nbconvert_exporter": "python",
   "pygments_lexer": "ipython3",
   "version": "3.12.0"
  }
 },
 "nbformat": 4,
 "nbformat_minor": 2
}
