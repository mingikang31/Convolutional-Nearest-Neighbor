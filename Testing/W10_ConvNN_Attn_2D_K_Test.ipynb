{
 "cells": [
  {
   "cell_type": "markdown",
   "metadata": {},
   "source": [
    "# ConvNN Attention K-Test\n",
    "## I. 2D Training for testing with CIFAR10 Dataset"
   ]
  },
  {
   "cell_type": "code",
   "execution_count": 4,
   "metadata": {},
   "outputs": [],
   "source": [
    "# Torch\n",
    "import torch \n",
    "import torch.nn as nn\n",
    "import torch.nn.functional as F\n",
    "from torch import optim \n",
    "\n",
    "\n",
    "# Train + Data \n",
    "import sys \n",
    "sys.path.append('../Layers')\n",
    "from Conv1d_NN_spatial import * \n",
    "from Conv2d_NN_spatial import * \n",
    "\n",
    "sys.path.append('../Data')\n",
    "from CIFAR10 import * \n",
    "\n",
    "\n",
    "sys.path.append('../Models')\n",
    "from classification_models import *\n",
    "\n",
    "sys.path.append('../Train')\n",
    "from train2d import * \n"
   ]
  },
  {
   "cell_type": "code",
   "execution_count": 5,
   "metadata": {},
   "outputs": [
    {
     "name": "stdout",
     "output_type": "stream",
     "text": [
      "Files already downloaded and verified\n",
      "Files already downloaded and verified\n"
     ]
    }
   ],
   "source": [
    "cifar10 = CIFAR10()"
   ]
  },
  {
   "cell_type": "markdown",
   "metadata": {},
   "source": [
    "### CNN Control"
   ]
  },
  {
   "cell_type": "code",
   "execution_count": 6,
   "metadata": {},
   "outputs": [
    {
     "name": "stdout",
     "output_type": "stream",
     "text": [
      "Model: CNN\n",
      "Epoch 1, Time: 11.100273847579956, Loss: 1.3309583094571253\n",
      "Epoch 1, Accuracy: 62.99%\n",
      "Epoch 2, Time: 10.869886875152588, Loss: 0.8087188296991846\n",
      "Epoch 2, Accuracy: 66.01%\n",
      "Epoch 3, Time: 10.890262365341187, Loss: 0.4064230043869799\n",
      "Epoch 3, Accuracy: 65.7%\n",
      "Epoch 4, Time: 10.926769495010376, Loss: 0.11332223019407839\n",
      "Epoch 4, Accuracy: 65.9%\n",
      "Epoch 5, Time: 11.049302577972412, Loss: 0.04751162811050244\n",
      "Epoch 5, Accuracy: 65.4%\n",
      "Epoch 6, Time: 11.002506256103516, Loss: 0.055724642222539984\n",
      "Epoch 6, Accuracy: 65.1%\n",
      "Epoch 7, Time: 10.82924747467041, Loss: 0.05336856729942886\n",
      "Epoch 7, Accuracy: 64.1%\n",
      "Epoch 8, Time: 10.865055799484253, Loss: 0.031721423120301004\n",
      "Epoch 8, Accuracy: 63.73%\n",
      "Epoch 9, Time: 10.912623167037964, Loss: 0.036138963070874865\n",
      "Epoch 9, Accuracy: 64.46%\n",
      "Epoch 10, Time: 10.872295618057251, Loss: 0.03308793959473415\n",
      "Epoch 10, Accuracy: 63.88%\n",
      "\n",
      " Average epoch time: 10.931822347640992\n",
      "Accuracy on test set: 63.88%\n"
     ]
    },
    {
     "data": {
      "text/plain": [
       "63.88"
      ]
     },
     "execution_count": 6,
     "metadata": {},
     "output_type": "execute_result"
    }
   ],
   "source": [
    "# CNN\n",
    "CNN_1 = CNN(device='cuda')\n",
    "\n",
    "print(\"Model: \" + CNN_1.name)\n",
    "\n",
    "# Test + Eval\n",
    "criterion = nn.CrossEntropyLoss()\n",
    "optimizer = optim.Adam(CNN_1.parameters(), lr=0.001)\n",
    "num_epochs = 10 \n",
    "train_eval(CNN_1, cifar10.train_loader, cifar10.test_loader, criterion, optimizer, num_epochs, device='cuda')\n",
    "evaluate_accuracy(CNN_1, cifar10.test_loader, device='cuda')\n"
   ]
  },
  {
   "cell_type": "markdown",
   "metadata": {},
   "source": [
    "### K = 1"
   ]
  },
  {
   "cell_type": "code",
   "execution_count": 7,
   "metadata": {},
   "outputs": [
    {
     "name": "stdout",
     "output_type": "stream",
     "text": [
      "Model: ConvNN_2D_Attn_K_All\n",
      "Epoch 1, Time: 12.132857322692871, Loss: 1.8455956367885364\n",
      "Epoch 1, Accuracy: 37.24%\n",
      "Epoch 2, Time: 11.94872760772705, Loss: 1.5691391883603751\n",
      "Epoch 2, Accuracy: 41.11%\n",
      "Epoch 3, Time: 11.896406888961792, Loss: 1.4333210380181023\n",
      "Epoch 3, Accuracy: 43.93%\n",
      "Epoch 4, Time: 11.962614297866821, Loss: 1.3080208290111073\n",
      "Epoch 4, Accuracy: 44.28%\n",
      "Epoch 5, Time: 11.972404956817627, Loss: 1.2136713357075402\n",
      "Epoch 5, Accuracy: 45.73%\n",
      "Epoch 6, Time: 12.014066219329834, Loss: 1.1184423682482347\n",
      "Epoch 6, Accuracy: 44.46%\n",
      "Epoch 7, Time: 11.990088939666748, Loss: 1.0374242300572603\n",
      "Epoch 7, Accuracy: 44.18%\n",
      "Epoch 8, Time: 12.004150629043579, Loss: 0.9593020934430535\n",
      "Epoch 8, Accuracy: 42.91%\n",
      "Epoch 9, Time: 12.027897834777832, Loss: 0.8908516605339392\n",
      "Epoch 9, Accuracy: 43.29%\n",
      "Epoch 10, Time: 11.97542667388916, Loss: 0.8278524000245286\n",
      "Epoch 10, Accuracy: 43.29%\n",
      "\n",
      " Average epoch time: 11.99246413707733\n",
      "Accuracy on test set: 43.29%\n"
     ]
    },
    {
     "data": {
      "text/plain": [
       "43.29"
      ]
     },
     "execution_count": 7,
     "metadata": {},
     "output_type": "execute_result"
    }
   ],
   "source": [
    "convNN_2d_attn_1_all = ConvNN_2D_Attn_K_All(K=1, device='cuda')\n",
    "\n",
    "print(\"Model: \" + convNN_2d_attn_1_all.name)\n",
    "# Test + Eval\n",
    "criterion = nn.CrossEntropyLoss()\n",
    "optimizer = optim.Adam(convNN_2d_attn_1_all.parameters(), lr=0.001)\n",
    "num_epochs = 10 \n",
    "train_eval(convNN_2d_attn_1_all, cifar10.train_loader, cifar10.test_loader, criterion, optimizer, num_epochs, device='cuda')\n",
    "evaluate_accuracy(convNN_2d_attn_1_all, cifar10.test_loader, device='cuda')\n",
    "\n"
   ]
  },
  {
   "cell_type": "code",
   "execution_count": 8,
   "metadata": {},
   "outputs": [
    {
     "name": "stdout",
     "output_type": "stream",
     "text": [
      "Model: ConvNN_2D_Attn_K_N\n",
      "Epoch 1, Time: 12.290752649307251, Loss: 1.4375757716043527\n",
      "Epoch 1, Accuracy: 56.58%\n",
      "Epoch 2, Time: 12.288549423217773, Loss: 1.0835393923322867\n",
      "Epoch 2, Accuracy: 61.4%\n",
      "Epoch 3, Time: 12.255120515823364, Loss: 0.8685624370032259\n",
      "Epoch 3, Accuracy: 62.24%\n",
      "Epoch 4, Time: 12.25339651107788, Loss: 0.6561928211956682\n",
      "Epoch 4, Accuracy: 62.8%\n",
      "Epoch 5, Time: 12.28240418434143, Loss: 0.4439707242733682\n",
      "Epoch 5, Accuracy: 61.53%\n",
      "Epoch 6, Time: 12.305017709732056, Loss: 0.28192392821945345\n",
      "Epoch 6, Accuracy: 61.33%\n",
      "Epoch 7, Time: 12.295335054397583, Loss: 0.19731243029522622\n",
      "Epoch 7, Accuracy: 61.45%\n",
      "Epoch 8, Time: 12.36388897895813, Loss: 0.15042239615021993\n",
      "Epoch 8, Accuracy: 61.21%\n",
      "Epoch 9, Time: 12.280212879180908, Loss: 0.12821624623945035\n",
      "Epoch 9, Accuracy: 61.16%\n",
      "Epoch 10, Time: 12.39930772781372, Loss: 0.13248730071074785\n",
      "Epoch 10, Accuracy: 61.13%\n",
      "\n",
      " Average epoch time: 12.30139856338501\n",
      "Accuracy on test set: 61.13%\n"
     ]
    },
    {
     "data": {
      "text/plain": [
       "61.13"
      ]
     },
     "execution_count": 8,
     "metadata": {},
     "output_type": "execute_result"
    }
   ],
   "source": [
    "convNN_2d_attn_1_n = ConvNN_2D_Attn_K_N(K=1, device='cuda')\n",
    "\n",
    "print(\"Model: \" + convNN_2d_attn_1_n.name)\n",
    "# Test + Eval\n",
    "criterion = nn.CrossEntropyLoss()\n",
    "optimizer = optim.Adam(convNN_2d_attn_1_n.parameters(), lr=0.001)\n",
    "num_epochs = 10 \n",
    "train_eval(convNN_2d_attn_1_n, cifar10.train_loader, cifar10.test_loader, criterion, optimizer, num_epochs, device='cuda')\n",
    "evaluate_accuracy(convNN_2d_attn_1_n, cifar10.test_loader, device='cuda')\n",
    "\n"
   ]
  },
  {
   "cell_type": "markdown",
   "metadata": {},
   "source": [
    "### K = 3"
   ]
  },
  {
   "cell_type": "code",
   "execution_count": 9,
   "metadata": {},
   "outputs": [
    {
     "name": "stdout",
     "output_type": "stream",
     "text": [
      "Model: ConvNN_2D_Attn_K_All\n",
      "Epoch 1, Time: 12.40039610862732, Loss: 1.8222620755510257\n",
      "Epoch 1, Accuracy: 37.83%\n",
      "Epoch 2, Time: 12.320252656936646, Loss: 1.5385362594328877\n",
      "Epoch 2, Accuracy: 43.48%\n",
      "Epoch 3, Time: 12.20703125, Loss: 1.3963587116402434\n",
      "Epoch 3, Accuracy: 45.58%\n",
      "Epoch 4, Time: 12.340532064437866, Loss: 1.2905278943688667\n",
      "Epoch 4, Accuracy: 44.98%\n",
      "Epoch 5, Time: 12.226778030395508, Loss: 1.1874018507387938\n",
      "Epoch 5, Accuracy: 45.53%\n",
      "Epoch 6, Time: 12.240888357162476, Loss: 1.0981615495956158\n",
      "Epoch 6, Accuracy: 44.51%\n",
      "Epoch 7, Time: 12.177609920501709, Loss: 1.0175772715560005\n",
      "Epoch 7, Accuracy: 45.28%\n",
      "Epoch 8, Time: 12.178261518478394, Loss: 0.9468089887858047\n",
      "Epoch 8, Accuracy: 45.23%\n",
      "Epoch 9, Time: 12.194945335388184, Loss: 0.883261019654591\n",
      "Epoch 9, Accuracy: 44.14%\n",
      "Epoch 10, Time: 12.191883325576782, Loss: 0.8302950152122152\n",
      "Epoch 10, Accuracy: 44.29%\n",
      "\n",
      " Average epoch time: 12.247857856750489\n",
      "Accuracy on test set: 44.29%\n"
     ]
    },
    {
     "data": {
      "text/plain": [
       "44.29"
      ]
     },
     "execution_count": 9,
     "metadata": {},
     "output_type": "execute_result"
    }
   ],
   "source": [
    "convNN_2d_attn_3_all = ConvNN_2D_Attn_K_All(K=3, device='cuda')\n",
    "\n",
    "print(\"Model: \" + convNN_2d_attn_3_all.name)\n",
    "# Test + Eval\n",
    "criterion = nn.CrossEntropyLoss()\n",
    "optimizer = optim.Adam(convNN_2d_attn_3_all.parameters(), lr=0.001)\n",
    "num_epochs = 10 \n",
    "train_eval(convNN_2d_attn_3_all, cifar10.train_loader, cifar10.test_loader, criterion, optimizer, num_epochs, device='cuda')\n",
    "evaluate_accuracy(convNN_2d_attn_3_all, cifar10.test_loader, device='cuda')\n",
    "\n"
   ]
  },
  {
   "cell_type": "code",
   "execution_count": 10,
   "metadata": {},
   "outputs": [
    {
     "name": "stdout",
     "output_type": "stream",
     "text": [
      "Model: ConvNN_2D_Attn_K_N\n",
      "Epoch 1, Time: 12.487543106079102, Loss: 1.538038866141873\n",
      "Epoch 1, Accuracy: 51.6%\n",
      "Epoch 2, Time: 12.510629177093506, Loss: 1.2320361788315541\n",
      "Epoch 2, Accuracy: 57.61%\n",
      "Epoch 3, Time: 12.47672152519226, Loss: 1.0818287442864665\n",
      "Epoch 3, Accuracy: 59.52%\n",
      "Epoch 4, Time: 12.481773614883423, Loss: 0.9452887243779419\n",
      "Epoch 4, Accuracy: 60.29%\n",
      "Epoch 5, Time: 12.489184141159058, Loss: 0.8012645620366802\n",
      "Epoch 5, Accuracy: 60.96%\n",
      "Epoch 6, Time: 12.465727090835571, Loss: 0.6422027415784118\n",
      "Epoch 6, Accuracy: 61.33%\n",
      "Epoch 7, Time: 12.463643789291382, Loss: 0.4761121296669211\n",
      "Epoch 7, Accuracy: 60.99%\n",
      "Epoch 8, Time: 12.565569400787354, Loss: 0.343226857483387\n",
      "Epoch 8, Accuracy: 59.93%\n",
      "Epoch 9, Time: 12.609290599822998, Loss: 0.2536936973023902\n",
      "Epoch 9, Accuracy: 60.29%\n",
      "Epoch 10, Time: 12.532005548477173, Loss: 0.20158484741769103\n",
      "Epoch 10, Accuracy: 59.11%\n",
      "\n",
      " Average epoch time: 12.508208799362183\n",
      "Accuracy on test set: 59.38%\n"
     ]
    },
    {
     "data": {
      "text/plain": [
       "59.38"
      ]
     },
     "execution_count": 10,
     "metadata": {},
     "output_type": "execute_result"
    }
   ],
   "source": [
    "convNN_2d_attn_3_n = ConvNN_2D_Attn_K_N(K=3, device='cuda')\n",
    "\n",
    "print(\"Model: \" + convNN_2d_attn_3_n.name)\n",
    "# Test + Eval\n",
    "criterion = nn.CrossEntropyLoss()\n",
    "optimizer = optim.Adam(convNN_2d_attn_3_n.parameters(), lr=0.001)\n",
    "num_epochs = 10 \n",
    "train_eval(convNN_2d_attn_3_n, cifar10.train_loader, cifar10.test_loader, criterion, optimizer, num_epochs, device='cuda')\n",
    "evaluate_accuracy(convNN_2d_attn_3_n, cifar10.test_loader, device='cuda')\n",
    "\n"
   ]
  },
  {
   "cell_type": "markdown",
   "metadata": {},
   "source": [
    "### K = 5"
   ]
  },
  {
   "cell_type": "code",
   "execution_count": 11,
   "metadata": {},
   "outputs": [
    {
     "name": "stdout",
     "output_type": "stream",
     "text": [
      "Model: ConvNN_2D_Attn_K_All\n",
      "Epoch 1, Time: 12.474693536758423, Loss: 1.9441212280022213\n",
      "Epoch 1, Accuracy: 36.31%\n",
      "Epoch 2, Time: 12.414519786834717, Loss: 1.6052606872585424\n",
      "Epoch 2, Accuracy: 40.22%\n",
      "Epoch 3, Time: 12.35646390914917, Loss: 1.4650657866007226\n",
      "Epoch 3, Accuracy: 43.32%\n",
      "Epoch 4, Time: 12.498228549957275, Loss: 1.362449726256568\n",
      "Epoch 4, Accuracy: 44.41%\n",
      "Epoch 5, Time: 12.534284114837646, Loss: 1.2718412366974385\n",
      "Epoch 5, Accuracy: 43.84%\n",
      "Epoch 6, Time: 12.421364307403564, Loss: 1.184935343997253\n",
      "Epoch 6, Accuracy: 44.88%\n",
      "Epoch 7, Time: 12.477282047271729, Loss: 1.111354000656806\n",
      "Epoch 7, Accuracy: 43.46%\n",
      "Epoch 8, Time: 12.566532611846924, Loss: 1.0464259917321412\n",
      "Epoch 8, Accuracy: 43.05%\n",
      "Epoch 9, Time: 12.446902990341187, Loss: 0.9791911850347543\n",
      "Epoch 9, Accuracy: 42.27%\n",
      "Epoch 10, Time: 12.464214563369751, Loss: 0.9254253781055246\n",
      "Epoch 10, Accuracy: 42.89%\n",
      "\n",
      " Average epoch time: 12.465448641777039\n",
      "Accuracy on test set: 42.89%\n"
     ]
    },
    {
     "data": {
      "text/plain": [
       "42.89"
      ]
     },
     "execution_count": 11,
     "metadata": {},
     "output_type": "execute_result"
    }
   ],
   "source": [
    "convNN_2d_attn_5_all = ConvNN_2D_Attn_K_All(K=5, device='cuda')\n",
    "\n",
    "print(\"Model: \" + convNN_2d_attn_5_all.name)\n",
    "# Test + Eval\n",
    "criterion = nn.CrossEntropyLoss()\n",
    "optimizer = optim.Adam(convNN_2d_attn_5_all.parameters(), lr=0.001)\n",
    "num_epochs = 10 \n",
    "train_eval(convNN_2d_attn_5_all, cifar10.train_loader, cifar10.test_loader, criterion, optimizer, num_epochs, device='cuda')\n",
    "evaluate_accuracy(convNN_2d_attn_5_all, cifar10.test_loader, device='cuda')\n",
    "\n"
   ]
  },
  {
   "cell_type": "code",
   "execution_count": 12,
   "metadata": {},
   "outputs": [
    {
     "name": "stdout",
     "output_type": "stream",
     "text": [
      "Model: ConvNN_2D_Attn_K_N\n",
      "Epoch 1, Time: 12.728858232498169, Loss: 1.609905256029895\n",
      "Epoch 1, Accuracy: 50.56%\n",
      "Epoch 2, Time: 12.654220342636108, Loss: 1.284827446541213\n",
      "Epoch 2, Accuracy: 54.75%\n",
      "Epoch 3, Time: 12.768434524536133, Loss: 1.1485622548843588\n",
      "Epoch 3, Accuracy: 58.61%\n",
      "Epoch 4, Time: 12.725536346435547, Loss: 1.0386460332004614\n",
      "Epoch 4, Accuracy: 59.29%\n",
      "Epoch 5, Time: 12.653388261795044, Loss: 0.9326456883907928\n",
      "Epoch 5, Accuracy: 58.69%\n",
      "Epoch 6, Time: 12.744085788726807, Loss: 0.8209345010311707\n",
      "Epoch 6, Accuracy: 60.57%\n",
      "Epoch 7, Time: 12.292030096054077, Loss: 0.697031092079704\n",
      "Epoch 7, Accuracy: 61.19%\n",
      "Epoch 8, Time: 12.598193168640137, Loss: 0.5763652168423928\n",
      "Epoch 8, Accuracy: 60.93%\n",
      "Epoch 9, Time: 12.720399856567383, Loss: 0.4570850500517794\n",
      "Epoch 9, Accuracy: 60.24%\n",
      "Epoch 10, Time: 12.753004550933838, Loss: 0.3598332582589458\n",
      "Epoch 10, Accuracy: 59.48%\n",
      "\n",
      " Average epoch time: 12.663815116882324\n",
      "Accuracy on test set: 59.64%\n"
     ]
    },
    {
     "data": {
      "text/plain": [
       "59.64"
      ]
     },
     "execution_count": 12,
     "metadata": {},
     "output_type": "execute_result"
    }
   ],
   "source": [
    "convNN_2d_attn_5_n = ConvNN_2D_Attn_K_N(K=5, device='cuda')\n",
    "\n",
    "print(\"Model: \" + convNN_2d_attn_5_n.name)\n",
    "# Test + Eval\n",
    "criterion = nn.CrossEntropyLoss()\n",
    "optimizer = optim.Adam(convNN_2d_attn_5_n.parameters(), lr=0.001)\n",
    "num_epochs = 10 \n",
    "train_eval(convNN_2d_attn_5_n, cifar10.train_loader, cifar10.test_loader, criterion, optimizer, num_epochs, device='cuda')\n",
    "evaluate_accuracy(convNN_2d_attn_5_n, cifar10.test_loader, device='cuda')\n",
    "\n"
   ]
  },
  {
   "cell_type": "markdown",
   "metadata": {},
   "source": [
    "### K = 7"
   ]
  },
  {
   "cell_type": "code",
   "execution_count": 13,
   "metadata": {},
   "outputs": [
    {
     "name": "stdout",
     "output_type": "stream",
     "text": [
      "Model: ConvNN_2D_Attn_K_All\n",
      "Epoch 1, Time: 12.528464078903198, Loss: 1.919025728312295\n",
      "Epoch 1, Accuracy: 31.7%\n",
      "Epoch 2, Time: 12.63234567642212, Loss: 1.6582312390322576\n",
      "Epoch 2, Accuracy: 39.47%\n",
      "Epoch 3, Time: 12.62899374961853, Loss: 1.5135291337662036\n",
      "Epoch 3, Accuracy: 40.9%\n",
      "Epoch 4, Time: 12.644810676574707, Loss: 1.406278675169591\n",
      "Epoch 4, Accuracy: 43.47%\n",
      "Epoch 5, Time: 12.625056028366089, Loss: 1.3155152628488858\n",
      "Epoch 5, Accuracy: 44.82%\n",
      "Epoch 6, Time: 12.659799814224243, Loss: 1.2351131281431984\n",
      "Epoch 6, Accuracy: 44.63%\n",
      "Epoch 7, Time: 12.53204894065857, Loss: 1.1599223617550052\n",
      "Epoch 7, Accuracy: 42.37%\n",
      "Epoch 8, Time: 12.625895023345947, Loss: 1.0913359281199668\n",
      "Epoch 8, Accuracy: 43.14%\n",
      "Epoch 9, Time: 12.615567445755005, Loss: 1.0385039476177576\n",
      "Epoch 9, Accuracy: 43.77%\n",
      "Epoch 10, Time: 12.529240369796753, Loss: 0.9866302852587931\n",
      "Epoch 10, Accuracy: 42.82%\n",
      "\n",
      " Average epoch time: 12.602222180366516\n",
      "Accuracy on test set: 42.82%\n"
     ]
    },
    {
     "data": {
      "text/plain": [
       "42.82"
      ]
     },
     "execution_count": 13,
     "metadata": {},
     "output_type": "execute_result"
    }
   ],
   "source": [
    "convNN_2d_attn_7_all = ConvNN_2D_Attn_K_All(K=7, device='cuda')\n",
    "\n",
    "print(\"Model: \" + convNN_2d_attn_7_all.name)\n",
    "# Test + Eval\n",
    "criterion = nn.CrossEntropyLoss()\n",
    "optimizer = optim.Adam(convNN_2d_attn_7_all.parameters(), lr=0.001)\n",
    "num_epochs = 10 \n",
    "train_eval(convNN_2d_attn_7_all, cifar10.train_loader, cifar10.test_loader, criterion, optimizer, num_epochs, device='cuda')\n",
    "evaluate_accuracy(convNN_2d_attn_7_all, cifar10.test_loader, device='cuda')\n",
    "\n"
   ]
  },
  {
   "cell_type": "code",
   "execution_count": 14,
   "metadata": {},
   "outputs": [
    {
     "name": "stdout",
     "output_type": "stream",
     "text": [
      "Model: ConvNN_2D_Attn_K_N\n",
      "Epoch 1, Time: 12.781728982925415, Loss: 1.8652064698126616\n",
      "Epoch 1, Accuracy: 45.05%\n",
      "Epoch 2, Time: 12.84300422668457, Loss: 1.4064436269080853\n",
      "Epoch 2, Accuracy: 53.27%\n",
      "Epoch 3, Time: 12.95533275604248, Loss: 1.2361067008331914\n",
      "Epoch 3, Accuracy: 55.53%\n",
      "Epoch 4, Time: 12.868447542190552, Loss: 1.124094971000691\n",
      "Epoch 4, Accuracy: 57.77%\n",
      "Epoch 5, Time: 12.856366872787476, Loss: 1.024693605463828\n",
      "Epoch 5, Accuracy: 58.75%\n",
      "Epoch 6, Time: 12.791628122329712, Loss: 0.9309669613380871\n",
      "Epoch 6, Accuracy: 59.96%\n",
      "Epoch 7, Time: 12.997293949127197, Loss: 0.8372417065646033\n",
      "Epoch 7, Accuracy: 60.25%\n",
      "Epoch 8, Time: 12.867372989654541, Loss: 0.7360221650213232\n",
      "Epoch 8, Accuracy: 60.51%\n",
      "Epoch 9, Time: 12.8066987991333, Loss: 0.6406758932582558\n",
      "Epoch 9, Accuracy: 59.92%\n",
      "Epoch 10, Time: 12.728707313537598, Loss: 0.5483298200894805\n",
      "Epoch 10, Accuracy: 59.96%\n",
      "\n",
      " Average epoch time: 12.849658155441285\n",
      "Accuracy on test set: 59.71%\n"
     ]
    },
    {
     "data": {
      "text/plain": [
       "59.71"
      ]
     },
     "execution_count": 14,
     "metadata": {},
     "output_type": "execute_result"
    }
   ],
   "source": [
    "convNN_2d_attn_7_n = ConvNN_2D_Attn_K_N(K=7, device='cuda')\n",
    "\n",
    "print(\"Model: \" + convNN_2d_attn_7_n.name)\n",
    "# Test + Eval\n",
    "criterion = nn.CrossEntropyLoss()\n",
    "optimizer = optim.Adam(convNN_2d_attn_7_n.parameters(), lr=0.001)\n",
    "num_epochs = 10 \n",
    "train_eval(convNN_2d_attn_7_n, cifar10.train_loader, cifar10.test_loader, criterion, optimizer, num_epochs, device='cuda')\n",
    "evaluate_accuracy(convNN_2d_attn_7_n, cifar10.test_loader, device='cuda')\n",
    "\n"
   ]
  },
  {
   "cell_type": "markdown",
   "metadata": {},
   "source": [
    "### K = 9"
   ]
  },
  {
   "cell_type": "code",
   "execution_count": 15,
   "metadata": {},
   "outputs": [
    {
     "name": "stdout",
     "output_type": "stream",
     "text": [
      "Model: ConvNN_2D_Attn_K_All\n",
      "Epoch 1, Time: 12.701275110244751, Loss: 2.3049934718310072\n",
      "Epoch 1, Accuracy: 10.0%\n",
      "Epoch 2, Time: 12.76384949684143, Loss: 2.3027295627252524\n",
      "Epoch 2, Accuracy: 10.0%\n",
      "Epoch 3, Time: 12.740293025970459, Loss: 2.3027258995548845\n",
      "Epoch 3, Accuracy: 10.01%\n",
      "Epoch 4, Time: 12.682518005371094, Loss: 2.3050497630063225\n",
      "Epoch 4, Accuracy: 10.0%\n",
      "Epoch 5, Time: 12.733062744140625, Loss: 2.3027837526462878\n",
      "Epoch 5, Accuracy: 10.0%\n",
      "Epoch 6, Time: 12.708921670913696, Loss: 2.302760322380554\n",
      "Epoch 6, Accuracy: 10.0%\n",
      "Epoch 7, Time: 12.72840666770935, Loss: 2.302738359822032\n",
      "Epoch 7, Accuracy: 10.0%\n",
      "Epoch 8, Time: 12.710752725601196, Loss: 2.3027205116608562\n",
      "Epoch 8, Accuracy: 10.0%\n",
      "Epoch 9, Time: 12.720463275909424, Loss: 2.302739693990449\n",
      "Epoch 9, Accuracy: 10.0%\n",
      "Epoch 10, Time: 12.730243921279907, Loss: 2.3027101056959927\n",
      "Epoch 10, Accuracy: 10.0%\n",
      "\n",
      " Average epoch time: 12.721978664398193\n",
      "Accuracy on test set: 10.0%\n"
     ]
    },
    {
     "data": {
      "text/plain": [
       "10.0"
      ]
     },
     "execution_count": 15,
     "metadata": {},
     "output_type": "execute_result"
    }
   ],
   "source": [
    "convNN_2d_attn_9_all = ConvNN_2D_Attn_K_All(K=9, device='cuda')\n",
    "\n",
    "print(\"Model: \" + convNN_2d_attn_9_all.name)\n",
    "# Test + Eval\n",
    "criterion = nn.CrossEntropyLoss()\n",
    "optimizer = optim.Adam(convNN_2d_attn_9_all.parameters(), lr=0.001)\n",
    "num_epochs = 10 \n",
    "train_eval(convNN_2d_attn_9_all, cifar10.train_loader, cifar10.test_loader, criterion, optimizer, num_epochs, device='cuda')\n",
    "evaluate_accuracy(convNN_2d_attn_9_all, cifar10.test_loader, device='cuda')\n",
    "\n"
   ]
  },
  {
   "cell_type": "code",
   "execution_count": 16,
   "metadata": {},
   "outputs": [
    {
     "name": "stdout",
     "output_type": "stream",
     "text": [
      "Model: ConvNN_2D_Attn_K_N\n",
      "Epoch 1, Time: 12.929750442504883, Loss: 1.9175447367341316\n",
      "Epoch 1, Accuracy: 39.55%\n",
      "Epoch 2, Time: 12.876125812530518, Loss: 1.5527686572745634\n",
      "Epoch 2, Accuracy: 50.52%\n",
      "Epoch 3, Time: 12.912395000457764, Loss: 1.3336887249099019\n",
      "Epoch 3, Accuracy: 53.23%\n",
      "Epoch 4, Time: 12.826070547103882, Loss: 1.2101668361050393\n",
      "Epoch 4, Accuracy: 56.47%\n",
      "Epoch 5, Time: 12.806289672851562, Loss: 1.111651454816389\n",
      "Epoch 5, Accuracy: 57.42%\n",
      "Epoch 6, Time: 12.886701107025146, Loss: 1.0197459287045862\n",
      "Epoch 6, Accuracy: 57.41%\n",
      "Epoch 7, Time: 12.879290580749512, Loss: 0.9361948611028968\n",
      "Epoch 7, Accuracy: 58.17%\n",
      "Epoch 8, Time: 13.008480072021484, Loss: 0.8525176116877504\n",
      "Epoch 8, Accuracy: 58.27%\n",
      "Epoch 9, Time: 13.02081823348999, Loss: 0.7670212471881486\n",
      "Epoch 9, Accuracy: 57.71%\n",
      "Epoch 10, Time: 12.869393587112427, Loss: 0.6787251386496113\n",
      "Epoch 10, Accuracy: 58.49%\n",
      "\n",
      " Average epoch time: 12.901531505584718\n",
      "Accuracy on test set: 58.28%\n"
     ]
    },
    {
     "data": {
      "text/plain": [
       "58.28"
      ]
     },
     "execution_count": 16,
     "metadata": {},
     "output_type": "execute_result"
    }
   ],
   "source": [
    "convNN_2d_attn_9_n = ConvNN_2D_Attn_K_N(K=9, device='cuda')\n",
    "\n",
    "print(\"Model: \" + convNN_2d_attn_9_n.name)\n",
    "# Test + Eval\n",
    "criterion = nn.CrossEntropyLoss()\n",
    "optimizer = optim.Adam(convNN_2d_attn_9_n.parameters(), lr=0.001)\n",
    "num_epochs = 10 \n",
    "train_eval(convNN_2d_attn_9_n, cifar10.train_loader, cifar10.test_loader, criterion, optimizer, num_epochs, device='cuda')\n",
    "evaluate_accuracy(convNN_2d_attn_9_n, cifar10.test_loader, device='cuda')\n",
    "\n"
   ]
  },
  {
   "cell_type": "markdown",
   "metadata": {},
   "source": [
    "### K = 11"
   ]
  },
  {
   "cell_type": "code",
   "execution_count": 17,
   "metadata": {},
   "outputs": [
    {
     "name": "stdout",
     "output_type": "stream",
     "text": [
      "Model: ConvNN_2D_Attn_K_All\n",
      "Epoch 1, Time: 12.913450479507446, Loss: 2.167784077889474\n",
      "Epoch 1, Accuracy: 20.96%\n",
      "Epoch 2, Time: 13.05745244026184, Loss: 1.8585045031269494\n",
      "Epoch 2, Accuracy: 32.43%\n",
      "Epoch 3, Time: 12.991123676300049, Loss: 1.6897896203543523\n",
      "Epoch 3, Accuracy: 33.48%\n",
      "Epoch 4, Time: 12.92163872718811, Loss: 1.6109935177866455\n",
      "Epoch 4, Accuracy: 35.47%\n",
      "Epoch 5, Time: 12.91389536857605, Loss: 1.533406698033023\n",
      "Epoch 5, Accuracy: 37.66%\n",
      "Epoch 6, Time: 12.912333488464355, Loss: 1.4681318842846414\n",
      "Epoch 6, Accuracy: 36.19%\n",
      "Epoch 7, Time: 12.914875030517578, Loss: 1.4255236304934373\n",
      "Epoch 7, Accuracy: 36.95%\n",
      "Epoch 8, Time: 12.87619686126709, Loss: 1.418297858189439\n",
      "Epoch 8, Accuracy: 36.07%\n",
      "Epoch 9, Time: 12.897701025009155, Loss: 1.322568838629881\n",
      "Epoch 9, Accuracy: 37.18%\n",
      "Epoch 10, Time: 12.916318416595459, Loss: 1.2646451222774622\n",
      "Epoch 10, Accuracy: 36.75%\n",
      "\n",
      " Average epoch time: 12.931498551368714\n",
      "Accuracy on test set: 36.75%\n"
     ]
    },
    {
     "data": {
      "text/plain": [
       "36.75"
      ]
     },
     "execution_count": 17,
     "metadata": {},
     "output_type": "execute_result"
    }
   ],
   "source": [
    "convNN_2d_attn_11_all = ConvNN_2D_Attn_K_All(K=11, device='cuda')\n",
    "\n",
    "print(\"Model: \" + convNN_2d_attn_11_all.name)\n",
    "# Test + Eval\n",
    "criterion = nn.CrossEntropyLoss()\n",
    "optimizer = optim.Adam(convNN_2d_attn_11_all.parameters(), lr=0.001)\n",
    "num_epochs = 10 \n",
    "train_eval(convNN_2d_attn_11_all, cifar10.train_loader, cifar10.test_loader, criterion, optimizer, num_epochs, device='cuda')\n",
    "evaluate_accuracy(convNN_2d_attn_11_all, cifar10.test_loader, device='cuda')\n",
    "\n"
   ]
  },
  {
   "cell_type": "code",
   "execution_count": 18,
   "metadata": {},
   "outputs": [
    {
     "name": "stdout",
     "output_type": "stream",
     "text": [
      "Model: ConvNN_2D_Attn_K_N\n",
      "Epoch 1, Time: 13.029255628585815, Loss: 1.8751054845197732\n",
      "Epoch 1, Accuracy: 44.19%\n",
      "Epoch 2, Time: 13.05449628829956, Loss: 1.4566610641491688\n",
      "Epoch 2, Accuracy: 51.73%\n",
      "Epoch 3, Time: 13.048407077789307, Loss: 1.2840447742920702\n",
      "Epoch 3, Accuracy: 55.17%\n",
      "Epoch 4, Time: 13.042795419692993, Loss: 1.177673976210987\n",
      "Epoch 4, Accuracy: 57.57%\n",
      "Epoch 5, Time: 13.017982482910156, Loss: 1.1000383708940442\n",
      "Epoch 5, Accuracy: 58.13%\n",
      "Epoch 6, Time: 13.08169937133789, Loss: 1.0240585225469925\n",
      "Epoch 6, Accuracy: 59.12%\n",
      "Epoch 7, Time: 13.104812860488892, Loss: 0.9634839791013762\n",
      "Epoch 7, Accuracy: 59.9%\n",
      "Epoch 8, Time: 13.201765775680542, Loss: 0.8923940481737141\n",
      "Epoch 8, Accuracy: 59.03%\n",
      "Epoch 9, Time: 13.142829179763794, Loss: 0.826972970572274\n",
      "Epoch 9, Accuracy: 59.58%\n",
      "Epoch 10, Time: 13.035861730575562, Loss: 0.761664540490226\n",
      "Epoch 10, Accuracy: 60.32%\n",
      "\n",
      " Average epoch time: 13.075990581512452\n",
      "Accuracy on test set: 60.0%\n"
     ]
    },
    {
     "data": {
      "text/plain": [
       "60.0"
      ]
     },
     "execution_count": 18,
     "metadata": {},
     "output_type": "execute_result"
    }
   ],
   "source": [
    "convNN_2d_attn_11_n = ConvNN_2D_Attn_K_N(K=11, device='cuda')\n",
    "\n",
    "print(\"Model: \" + convNN_2d_attn_11_n.name)\n",
    "# Test + Eval\n",
    "criterion = nn.CrossEntropyLoss()\n",
    "optimizer = optim.Adam(convNN_2d_attn_11_n.parameters(), lr=0.001)\n",
    "num_epochs = 10 \n",
    "train_eval(convNN_2d_attn_11_n, cifar10.train_loader, cifar10.test_loader, criterion, optimizer, num_epochs, device='cuda')\n",
    "evaluate_accuracy(convNN_2d_attn_11_n, cifar10.test_loader, device='cuda')\n",
    "\n"
   ]
  }
 ],
 "metadata": {
  "kernelspec": {
   "display_name": "Python 3.12",
   "language": "python",
   "name": "python3.12"
  },
  "language_info": {
   "codemirror_mode": {
    "name": "ipython",
    "version": 3
   },
   "file_extension": ".py",
   "mimetype": "text/x-python",
   "name": "python",
   "nbconvert_exporter": "python",
   "pygments_lexer": "ipython3",
   "version": "3.12.3"
  }
 },
 "nbformat": 4,
 "nbformat_minor": 4
}
