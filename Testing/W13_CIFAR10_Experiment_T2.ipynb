{
 "cells": [
  {
   "cell_type": "markdown",
   "metadata": {},
   "source": [
    "# ConvNN Attention Test *** TABLE 2 IN LATEX PAPER\n",
    "## I. 2D Training for testing with CIFAR10 Dataset"
   ]
  },
  {
   "cell_type": "code",
   "execution_count": 1,
   "metadata": {},
   "outputs": [
    {
     "name": "stderr",
     "output_type": "stream",
     "text": [
      "/Users/mingikang/miniconda3/envs/ML/lib/python3.9/site-packages/timm/models/registry.py:4: FutureWarning: Importing from timm.models.registry is deprecated, please import via timm.models\n",
      "  warnings.warn(f\"Importing from {__name__} is deprecated, please import via timm.models\", FutureWarning)\n"
     ]
    }
   ],
   "source": [
    "# Torch\n",
    "import torch \n",
    "import torch.nn as nn\n",
    "import torch.nn.functional as F\n",
    "from torch import optim \n",
    "\n",
    "\n",
    "# Train + Data \n",
    "import sys \n",
    "sys.path.append('../Layers')\n",
    "from Conv1d_NN_spatial import * \n",
    "from Conv2d_NN_spatial import * \n",
    "\n",
    "sys.path.append('../Data')\n",
    "from CIFAR10 import * \n",
    "\n",
    "\n",
    "sys.path.append('../Models')\n",
    "from CIFAR_experiment_models.Attention import Attention\n",
    "from CIFAR_experiment_models.BranchingConvNN import B_Conv2d_ConvNN_K_All, B_Conv2d_ConvNN_K_N, B_Conv2d_ConvNN_Spatial_K_N, B_Conv2d_ConvNN_Attn_K_N, B_Attention_ConvNN_K_All, B_Attention_ConvNN_K_N, B_Attention_ConvNN_Spatial_K_N, B_Attention_ConvNN_Attn_K_N, B_Attention_Conv2d\n",
    "\n",
    "from CIFAR_experiment_models.ConvNN import ConvNN_K_All,ConvNN_K_N, ConvNN_Spatial_K_N, ConvNN_Attn_K_N\n",
    "from CIFAR_experiment_models.CNN_Control import CNN\n",
    "\n",
    "\n",
    "sys.path.append('../Train')\n",
    "from train2d import train_eval, evaluate_accuracy\n"
   ]
  },
  {
   "cell_type": "code",
   "execution_count": null,
   "metadata": {},
   "outputs": [],
   "source": [
    "cifar10 = CIFAR10()"
   ]
  },
  {
   "cell_type": "code",
   "execution_count": null,
   "metadata": {},
   "outputs": [],
   "source": [
    "def count_parameters(model):\n",
    "    return sum(p.numel() for p in model.parameters() if p.requires_grad)\n"
   ]
  },
  {
   "cell_type": "markdown",
   "metadata": {},
   "source": [
    "### 2 Layer Models"
   ]
  },
  {
   "cell_type": "code",
   "execution_count": null,
   "metadata": {},
   "outputs": [],
   "source": [
    "\n",
    "# CNN\n",
    "CNN_2 = CNN(num_layers=2, num_classes=10, device='cuda')\n",
    "\n",
    "print(\"Model: \" + CNN_2.name)\n",
    "print(\"Num params: \" + str(count_parameters(CNN_2)))\n",
    "print()\n",
    "# Test + Eval\n",
    "criterion = nn.CrossEntropyLoss()\n",
    "optimizer = optim.Adam(CNN_2.parameters(), lr=0.0001)\n",
    "num_epochs = 100 \n",
    "train_eval(CNN_2, cifar10.train_loader, cifar10.test_loader, criterion, optimizer, num_epochs, device='cuda')\n",
    "evaluate_accuracy(CNN_2, cifar10.test_loader, device='cuda')\n"
   ]
  },
  {
   "cell_type": "code",
   "execution_count": null,
   "metadata": {},
   "outputs": [],
   "source": [
    "# Attention\n",
    "Attention_2 = Attention(num_layers=2, num_classes=10, device='cuda')\n",
    "\n",
    "print(\"Model: \" + Attention_2.name)\n",
    "print(\"Num params: \" + str(count_parameters(Attention_2)))\n",
    "print()\n",
    "\n",
    "# Test + Eval\n",
    "criterion = nn.CrossEntropyLoss()\n",
    "optimizer = optim.Adam(Attention_2.parameters(), lr=0.0001)\n",
    "num_epochs = 100 \n",
    "train_eval(Attention_2, cifar10.train_loader, cifar10.test_loader, criterion, optimizer, num_epochs, device='cuda')\n",
    "evaluate_accuracy(Attention_2, cifar10.test_loader, device='cuda')\n"
   ]
  },
  {
   "cell_type": "code",
   "execution_count": null,
   "metadata": {},
   "outputs": [],
   "source": [
    "# ConvNN All \n",
    "ConvNN_All_2 = ConvNN_K_All(num_layers=2, num_classes=10, device='cuda')\n",
    "\n",
    "print(\"Model: \" + ConvNN_All_2.name)\n",
    "print(\"Num params: \" + str(count_parameters(ConvNN_All_2)))\n",
    "print()\n",
    "\n",
    "# Test + Eval\n",
    "criterion = nn.CrossEntropyLoss()\n",
    "optimizer = optim.Adam(ConvNN_All_2.parameters(), lr=0.0001)\n",
    "num_epochs = 100 \n",
    "train_eval(ConvNN_All_2, cifar10.train_loader, cifar10.test_loader, criterion, optimizer, num_epochs, device='cuda')\n",
    "evaluate_accuracy(ConvNN_All_2, cifar10.test_loader, device='cuda')\n"
   ]
  },
  {
   "cell_type": "code",
   "execution_count": null,
   "metadata": {},
   "outputs": [],
   "source": [
    "# ConvNN N \n",
    "ConvNN_N_2 = ConvNN_K_N(num_layers=2, num_classes=10, device='cuda')\n",
    "\n",
    "print(\"Model: \" + ConvNN_N_2.name)\n",
    "print(\"Num params: \" + str(count_parameters(ConvNN_N_2)))\n",
    "print()\n",
    "\n",
    "# Test + Eval\n",
    "criterion = nn.CrossEntropyLoss()\n",
    "optimizer = optim.Adam(ConvNN_N_2.parameters(), lr=0.0001)\n",
    "num_epochs = 100 \n",
    "train_eval(ConvNN_N_2, cifar10.train_loader, cifar10.test_loader, criterion, optimizer, num_epochs, device='cuda')\n",
    "evaluate_accuracy(ConvNN_N_2, cifar10.test_loader, device='cuda')\n"
   ]
  },
  {
   "cell_type": "code",
   "execution_count": null,
   "metadata": {},
   "outputs": [],
   "source": [
    "# ConvNN Spatial N\n",
    "ConvNN_Spatial_N_2 = ConvNN_Spatial_K_N(num_layers=2, num_classes=10, device='cuda')\n",
    "\n",
    "print(\"Model: \" + ConvNN_Spatial_N_2.name)\n",
    "print(\"Num params: \" + str(count_parameters(ConvNN_Spatial_N_2)))\n",
    "print()\n",
    "\n",
    "# Test + Eval\n",
    "criterion = nn.CrossEntropyLoss()\n",
    "optimizer = optim.Adam(ConvNN_Spatial_N_2.parameters(), lr=0.0001)\n",
    "num_epochs = 100 \n",
    "train_eval(ConvNN_Spatial_N_2, cifar10.train_loader, cifar10.test_loader, criterion, optimizer, num_epochs, device='cuda')\n",
    "evaluate_accuracy(ConvNN_Spatial_N_2, cifar10.test_loader, device='cuda')\n"
   ]
  },
  {
   "cell_type": "code",
   "execution_count": null,
   "metadata": {},
   "outputs": [],
   "source": [
    "# ConvNN Attention N\n",
    "ConvNN_Attn_N_2 = ConvNN_Attn_K_N(num_layers=2, num_classes=10, device='cuda')\n",
    "\n",
    "print(\"Model: \" + ConvNN_Attn_N_2.name)\n",
    "print(\"Num params: \" + str(count_parameters(ConvNN_Attn_N_2)))\n",
    "print()\n",
    "\n",
    "\n",
    "# Test + Eval\n",
    "criterion = nn.CrossEntropyLoss()\n",
    "optimizer = optim.Adam(ConvNN_Attn_N_2.parameters(), lr=0.0001)\n",
    "num_epochs = 100 \n",
    "train_eval(ConvNN_Attn_N_2, cifar10.train_loader, cifar10.test_loader, criterion, optimizer, num_epochs, device='cuda')\n",
    "evaluate_accuracy(ConvNN_Attn_N_2, cifar10.test_loader, device='cuda')\n"
   ]
  },
  {
   "cell_type": "markdown",
   "metadata": {},
   "source": [
    "#### ii. Branching"
   ]
  },
  {
   "cell_type": "code",
   "execution_count": null,
   "metadata": {},
   "outputs": [],
   "source": [
    "\n",
    "# Branching Conv2d + ConvNN All\n",
    "B_Conv2d_ConvNN_All_2 = B_Conv2d_ConvNN_K_All(num_layers=2, num_classes=10, device='cuda')\n",
    "\n",
    "print(\"Model: \" + B_Conv2d_ConvNN_All_2.name)\n",
    "print(\"Num params: \" + str(count_parameters(B_Conv2d_ConvNN_All_2)))\n",
    "print()\n",
    "\n",
    "# Test + Eval\n",
    "criterion = nn.CrossEntropyLoss()\n",
    "optimizer = optim.Adam(B_Conv2d_ConvNN_All_2.parameters(), lr=0.0001)\n",
    "num_epochs = 100 \n",
    "train_eval(B_Conv2d_ConvNN_All_2, cifar10.train_loader, cifar10.test_loader, criterion, optimizer, num_epochs, device='cuda')\n",
    "evaluate_accuracy(B_Conv2d_ConvNN_All_2, cifar10.test_loader, device='cuda')\n"
   ]
  },
  {
   "cell_type": "code",
   "execution_count": null,
   "metadata": {},
   "outputs": [],
   "source": [
    "\n",
    "# Branching Conv2d + ConvNN N\n",
    "B_Conv2d_ConvNN_N_2 = B_Conv2d_ConvNN_K_N(num_layers=2, num_classes=10, device='cuda')\n",
    "\n",
    "print(\"Model: \" + B_Conv2d_ConvNN_N_2.name)\n",
    "print(\"Num params: \" + str(count_parameters(B_Conv2d_ConvNN_N_2)))\n",
    "print()\n",
    "\n",
    "# Test + Eval\n",
    "criterion = nn.CrossEntropyLoss()\n",
    "optimizer = optim.Adam(B_Conv2d_ConvNN_N_2.parameters(), lr=0.0001)\n",
    "num_epochs = 100 \n",
    "train_eval(B_Conv2d_ConvNN_N_2, cifar10.train_loader, cifar10.test_loader, criterion, optimizer, num_epochs, device='cuda')\n",
    "evaluate_accuracy(B_Conv2d_ConvNN_N_2, cifar10.test_loader, device='cuda')\n"
   ]
  },
  {
   "cell_type": "code",
   "execution_count": null,
   "metadata": {},
   "outputs": [],
   "source": [
    "\n",
    "# Branching Conv2d + ConvNN Spatial N\n",
    "B_Conv2d_ConvNN_Spatial_N_2 = B_Conv2d_ConvNN_Spatial_K_N(num_layers=2, num_classes=10, device='cuda')\n",
    "\n",
    "print(\"Model: \" + B_Conv2d_ConvNN_Spatial_N_2.name)\n",
    "print(\"Num params: \" + str(count_parameters(B_Conv2d_ConvNN_Spatial_N_2)))\n",
    "print()\n",
    "\n",
    "# Test + Eval\n",
    "criterion = nn.CrossEntropyLoss()\n",
    "optimizer = optim.Adam(B_Conv2d_ConvNN_Spatial_N_2.parameters(), lr=0.0001)\n",
    "num_epochs = 100 \n",
    "train_eval(B_Conv2d_ConvNN_Spatial_N_2, cifar10.train_loader, cifar10.test_loader, criterion, optimizer, num_epochs, device='cuda')\n",
    "evaluate_accuracy(B_Conv2d_ConvNN_Spatial_N_2, cifar10.test_loader, device='cuda')\n"
   ]
  },
  {
   "cell_type": "code",
   "execution_count": null,
   "metadata": {},
   "outputs": [],
   "source": [
    "\n",
    "# Branching Conv2d + ConvNN Attention N \n",
    "B_Conv2d_ConvNN_Attn_N_2 = B_Conv2d_ConvNN_Attn_K_N(num_layers=2, num_classes=10, device='cuda')\n",
    "\n",
    "print(\"Model: \" + B_Conv2d_ConvNN_Attn_N_2.name)\n",
    "print(\"Num params: \" + str(count_parameters(B_Conv2d_ConvNN_Attn_N_2)))\n",
    "print()\n",
    "\n",
    "# Test + Eval\n",
    "criterion = nn.CrossEntropyLoss()\n",
    "optimizer = optim.Adam(B_Conv2d_ConvNN_Attn_N_2.parameters(), lr=0.0001)\n",
    "num_epochs = 100 \n",
    "train_eval(B_Conv2d_ConvNN_Attn_N_2, cifar10.train_loader, cifar10.test_loader, criterion, optimizer, num_epochs, device='cuda')\n",
    "evaluate_accuracy(B_Conv2d_ConvNN_Attn_N_2, cifar10.test_loader, device='cuda')\n"
   ]
  },
  {
   "cell_type": "code",
   "execution_count": null,
   "metadata": {},
   "outputs": [],
   "source": [
    "\n",
    "# Branching Attention + ConvNN All Samples\n",
    "B_Attention_ConvNN_All_2 = B_Attention_ConvNN_K_All(num_layers=2, num_classes=10, device='cuda')\n",
    "\n",
    "print(\"Model: \" + B_Attention_ConvNN_All_2.name)\n",
    "print(\"Num params: \" + str(count_parameters(B_Attention_ConvNN_All_2)))\n",
    "print()\n",
    "\n",
    "# Test + Eval\n",
    "criterion = nn.CrossEntropyLoss()\n",
    "optimizer = optim.Adam(B_Attention_ConvNN_All_2.parameters(), lr=0.0001)\n",
    "num_epochs = 100 \n",
    "train_eval(B_Attention_ConvNN_All_2, cifar10.train_loader, cifar10.test_loader, criterion, optimizer, num_epochs, device='cuda')\n",
    "evaluate_accuracy(B_Attention_ConvNN_All_2, cifar10.test_loader, device='cuda')\n"
   ]
  },
  {
   "cell_type": "code",
   "execution_count": null,
   "metadata": {},
   "outputs": [],
   "source": [
    "\n",
    "# Branching Attention + ConvNN N Samples\n",
    "B_Attention_ConvNN_N_2 = B_Attention_ConvNN_K_N(num_layers=2, num_classes=10, device='cuda')\n",
    "\n",
    "print(\"Model: \" + B_Attention_ConvNN_N_2.name)\n",
    "print(\"Num params: \" + str(count_parameters(B_Attention_ConvNN_N_2)))\n",
    "print()\n",
    "\n",
    "# Test + Eval\n",
    "criterion = nn.CrossEntropyLoss()\n",
    "optimizer = optim.Adam(B_Attention_ConvNN_N_2.parameters(), lr=0.0001)\n",
    "num_epochs = 100 \n",
    "train_eval(B_Attention_ConvNN_N_2, cifar10.train_loader, cifar10.test_loader, criterion, optimizer, num_epochs, device='cuda')\n",
    "evaluate_accuracy(B_Attention_ConvNN_N_2, cifar10.test_loader, device='cuda')\n"
   ]
  },
  {
   "cell_type": "code",
   "execution_count": null,
   "metadata": {},
   "outputs": [],
   "source": [
    "\n",
    "# Branching Attention + ConvNN Spatial Samples\n",
    "B_Attention_ConvNN_Spatial_N_2 = B_Attention_ConvNN_Spatial_K_N(num_layers=2, num_classes=10, device='cuda')\n",
    "\n",
    "print(\"Model: \" + B_Attention_ConvNN_Spatial_N_2.name)\n",
    "print(\"Num params: \" + str(count_parameters(B_Attention_ConvNN_Spatial_N_2)))\n",
    "print()\n",
    "\n",
    "# Test + Eval\n",
    "criterion = nn.CrossEntropyLoss()\n",
    "optimizer = optim.Adam(B_Attention_ConvNN_Spatial_N_2.parameters(), lr=0.0001)\n",
    "num_epochs = 100 \n",
    "train_eval(B_Attention_ConvNN_Spatial_N_2, cifar10.train_loader, cifar10.test_loader, criterion, optimizer, num_epochs, device='cuda')\n",
    "evaluate_accuracy(B_Attention_ConvNN_Spatial_N_2, cifar10.test_loader, device='cuda')\n"
   ]
  },
  {
   "cell_type": "code",
   "execution_count": null,
   "metadata": {},
   "outputs": [],
   "source": [
    "\n",
    "# Branching Attention ConvNN Attn N Samples\n",
    "B_Attention_ConvNN_Attn_N_2 = B_Attention_ConvNN_Attn_K_N(num_layers=2, num_classes=10, device='cuda')\n",
    "\n",
    "print(\"Model: \" + B_Attention_ConvNN_Attn_N_2.name)\n",
    "print(\"Num params: \" + str(count_parameters(B_Attention_ConvNN_Attn_N_2)))\n",
    "print()\n",
    "\n",
    "# Test + Eval\n",
    "criterion = nn.CrossEntropyLoss()\n",
    "optimizer = optim.Adam(B_Attention_ConvNN_Attn_N_2.parameters(), lr=0.0001)\n",
    "num_epochs = 100 \n",
    "train_eval(B_Attention_ConvNN_Attn_N_2, cifar10.train_loader, cifar10.test_loader, criterion, optimizer, num_epochs, device='cuda')\n",
    "evaluate_accuracy(B_Attention_ConvNN_Attn_N_2, cifar10.test_loader, device='cuda')\n"
   ]
  },
  {
   "cell_type": "code",
   "execution_count": null,
   "metadata": {},
   "outputs": [],
   "source": [
    "\n",
    "# Branching Attention Conv2d\n",
    "B_Attention_Conv2d_2 = B_Attention_Conv2d(num_layers=2, num_classes=10, device='cuda')\n",
    "\n",
    "print(\"Model: \" + B_Attention_Conv2d_2.name)\n",
    "print(\"Num params: \" + str(count_parameters(B_Attention_Conv2d_2)))\n",
    "print()\n",
    "\n",
    "# Test + Eval\n",
    "criterion = nn.CrossEntropyLoss()\n",
    "optimizer = optim.Adam(B_Attention_Conv2d_2.parameters(), lr=0.0001)\n",
    "num_epochs = 100 \n",
    "train_eval(B_Attention_Conv2d_2, cifar10.train_loader, cifar10.test_loader, criterion, optimizer, num_epochs, device='cuda')\n",
    "evaluate_accuracy(B_Attention_Conv2d_2, cifar10.test_loader, device='cuda')\n",
    "\n"
   ]
  },
  {
   "cell_type": "markdown",
   "metadata": {},
   "source": [
    "### 4 Layer Models"
   ]
  },
  {
   "cell_type": "code",
   "execution_count": null,
   "metadata": {},
   "outputs": [],
   "source": [
    "\n",
    "# CNN\n",
    "CNN_4 = CNN(num_layers=4, num_classes=10, device='cuda')\n",
    "\n",
    "print(\"Model: \" + CNN_4.name)\n",
    "print(\"Num params: \" + str(count_parameters(CNN_4)))\n",
    "print()\n",
    "\n",
    "# Test + Eval\n",
    "criterion = nn.CrossEntropyLoss()\n",
    "optimizer = optim.Adam(CNN_4.parameters(), lr=0.0001)\n",
    "num_epochs = 100 \n",
    "train_eval(CNN_4, cifar10.train_loader, cifar10.test_loader, criterion, optimizer, num_epochs, device='cuda')\n",
    "evaluate_accuracy(CNN_4, cifar10.test_loader, device='cuda')\n"
   ]
  },
  {
   "cell_type": "code",
   "execution_count": null,
   "metadata": {},
   "outputs": [],
   "source": [
    "\n",
    "# Attention\n",
    "Attention_4 = Attention(num_layers=4, num_classes=10, device='cuda')\n",
    "\n",
    "print(\"Model: \" + Attention_4.name)\n",
    "print(\"Num params: \" + str(count_parameters(Attention_4)))\n",
    "print()\n",
    "\n",
    "# Test + Eval\n",
    "criterion = nn.CrossEntropyLoss()\n",
    "optimizer = optim.Adam(Attention_4.parameters(), lr=0.0001)\n",
    "num_epochs = 100 \n",
    "train_eval(Attention_4, cifar10.train_loader, cifar10.test_loader, criterion, optimizer, num_epochs, device='cuda')\n",
    "evaluate_accuracy(Attention_4, cifar10.test_loader, device='cuda')\n"
   ]
  },
  {
   "cell_type": "code",
   "execution_count": null,
   "metadata": {},
   "outputs": [],
   "source": [
    "# ConvNN All \n",
    "ConvNN_All_4 = ConvNN_K_All(num_layers=4, num_classes=10, device='cuda')\n",
    "\n",
    "print(\"Model: \" + ConvNN_All_4.name)\n",
    "print(\"Num params: \" + str(count_parameters(ConvNN_All_4)))\n",
    "print()\n",
    "\n",
    "\n",
    "# Test + Eval\n",
    "criterion = nn.CrossEntropyLoss()\n",
    "optimizer = optim.Adam(ConvNN_All_4.parameters(), lr=0.0001)\n",
    "num_epochs = 100  \n",
    "train_eval(ConvNN_All_4, cifar10.train_loader, cifar10.test_loader, criterion, optimizer, num_epochs, device='cuda')\n",
    "evaluate_accuracy(ConvNN_All_4, cifar10.test_loader, device='cuda')\n"
   ]
  },
  {
   "cell_type": "code",
   "execution_count": null,
   "metadata": {},
   "outputs": [],
   "source": [
    "# ConvNN N \n",
    "ConvNN_N_4 = ConvNN_K_N(num_layers=4, num_classes=10, device='cuda')\n",
    "\n",
    "print(\"Model: \" + ConvNN_N_4.name)\n",
    "print(\"Num params: \" + str(count_parameters(ConvNN_N_4)))\n",
    "print()\n",
    "\n",
    "# Test + Eval\n",
    "criterion = nn.CrossEntropyLoss()\n",
    "optimizer = optim.Adam(ConvNN_N_4.parameters(), lr=0.0001)\n",
    "num_epochs = 100 \n",
    "train_eval(ConvNN_N_4, cifar10.train_loader, cifar10.test_loader, criterion, optimizer, num_epochs, device='cuda')\n",
    "evaluate_accuracy(ConvNN_N_4, cifar10.test_loader, device='cuda')\n"
   ]
  },
  {
   "cell_type": "code",
   "execution_count": null,
   "metadata": {},
   "outputs": [],
   "source": [
    "# ConvNN Spatial N\n",
    "ConvNN_Spatial_N_4 = ConvNN_Spatial_K_N(num_layers=4, num_classes=10, device='cuda')\n",
    "\n",
    "print(\"Model: \" + ConvNN_Spatial_N_4.name)\n",
    "print(\"Num params: \" + str(count_parameters(ConvNN_Spatial_N_4)))\n",
    "print()\n",
    "\n",
    "# Test + Eval\n",
    "criterion = nn.CrossEntropyLoss()\n",
    "optimizer = optim.Adam(ConvNN_Spatial_N_4.parameters(), lr=0.0001)\n",
    "num_epochs = 100 \n",
    "train_eval(ConvNN_Spatial_N_4, cifar10.train_loader, cifar10.test_loader, criterion, optimizer, num_epochs, device='cuda')\n",
    "evaluate_accuracy(ConvNN_Spatial_N_4, cifar10.test_loader, device='cuda')\n"
   ]
  },
  {
   "cell_type": "code",
   "execution_count": null,
   "metadata": {},
   "outputs": [],
   "source": [
    "# ConvNN Attention N\n",
    "ConvNN_Attn_N_4 = ConvNN_Attn_K_N(num_layers=4, num_classes=10, device='cuda')\n",
    "\n",
    "print(\"Model: \" + ConvNN_Attn_N_4.name)\n",
    "print(\"Num params: \" + str(count_parameters(ConvNN_Attn_N_4)))\n",
    "print()\n",
    "\n",
    "# Test + Eval\n",
    "criterion = nn.CrossEntropyLoss()\n",
    "optimizer = optim.Adam(ConvNN_Attn_N_4.parameters(), lr=0.0001)\n",
    "num_epochs = 100 \n",
    "train_eval(ConvNN_Attn_N_4, cifar10.train_loader, cifar10.test_loader, criterion, optimizer, num_epochs, device='cuda')\n",
    "evaluate_accuracy(ConvNN_Attn_N_4, cifar10.test_loader, device='cuda')\n"
   ]
  },
  {
   "cell_type": "markdown",
   "metadata": {},
   "source": [
    "#### ii. Branching"
   ]
  },
  {
   "cell_type": "code",
   "execution_count": null,
   "metadata": {},
   "outputs": [],
   "source": [
    "# Branching Conv2d + ConvNN All\n",
    "B_Conv2d_ConvNN_All_4 = B_Conv2d_ConvNN_K_All(num_layers=4, num_classes=10, device='cuda')\n",
    "\n",
    "print(\"Model: \" + B_Conv2d_ConvNN_All_4.name)\n",
    "print(\"Num params: \" + str(count_parameters(B_Conv2d_ConvNN_All_4)))\n",
    "print()\n",
    "\n",
    "# Test + Eval\n",
    "criterion = nn.CrossEntropyLoss()\n",
    "optimizer = optim.Adam(B_Conv2d_ConvNN_All_4.parameters(), lr=0.0001)\n",
    "num_epochs = 100 \n",
    "train_eval(B_Conv2d_ConvNN_All_4, cifar10.train_loader, cifar10.test_loader, criterion, optimizer, num_epochs, device='cuda')\n",
    "evaluate_accuracy(B_Conv2d_ConvNN_All_4, cifar10.test_loader, device='cuda')\n"
   ]
  },
  {
   "cell_type": "code",
   "execution_count": null,
   "metadata": {},
   "outputs": [],
   "source": [
    "# Branching Conv2d + ConvNN N\n",
    "B_Conv2d_ConvNN_N_4 = B_Conv2d_ConvNN_K_N(num_layers=4, num_classes=10, device='cuda')\n",
    "\n",
    "print(\"Model: \" + B_Conv2d_ConvNN_N_4.name)\n",
    "print(\"Num params: \" + str(count_parameters(B_Conv2d_ConvNN_N_4)))\n",
    "print()\n",
    "\n",
    "# Test + Eval\n",
    "criterion = nn.CrossEntropyLoss()\n",
    "optimizer = optim.Adam(B_Conv2d_ConvNN_N_4.parameters(), lr=0.0001)\n",
    "num_epochs = 100 \n",
    "train_eval(B_Conv2d_ConvNN_N_4, cifar10.train_loader, cifar10.test_loader, criterion, optimizer, num_epochs, device='cuda')\n",
    "evaluate_accuracy(B_Conv2d_ConvNN_N_4, cifar10.test_loader, device='cuda')\n"
   ]
  },
  {
   "cell_type": "code",
   "execution_count": null,
   "metadata": {},
   "outputs": [],
   "source": [
    "# Branching Conv2d + ConvNN Spatial N\n",
    "B_Conv2d_ConvNN_Spatial_N_4 = B_Conv2d_ConvNN_Spatial_K_N(num_layers=4, num_classes=10, device='cuda')\n",
    "\n",
    "print(\"Model: \" + B_Conv2d_ConvNN_Spatial_N_4.name)\n",
    "print(\"Num params: \" + str(count_parameters(B_Conv2d_ConvNN_Spatial_N_4)))\n",
    "print()\n",
    "\n",
    "# Test + Eval\n",
    "criterion = nn.CrossEntropyLoss()\n",
    "optimizer = optim.Adam(B_Conv2d_ConvNN_Spatial_N_4.parameters(), lr=0.0001)\n",
    "num_epochs = 100 \n",
    "train_eval(B_Conv2d_ConvNN_Spatial_N_4, cifar10.train_loader, cifar10.test_loader, criterion, optimizer, num_epochs, device='cuda')\n",
    "evaluate_accuracy(B_Conv2d_ConvNN_Spatial_N_4, cifar10.test_loader, device='cuda')\n"
   ]
  },
  {
   "cell_type": "code",
   "execution_count": null,
   "metadata": {},
   "outputs": [],
   "source": [
    "# Branching Conv2d + ConvNN Attn N \n",
    "B_Conv2d_ConvNN_Attn_N_4 = B_Conv2d_ConvNN_Attn_K_N(num_layers=4, num_classes=10, device='cuda')\n",
    "\n",
    "print(\"Model: \" + B_Conv2d_ConvNN_Attn_N_4.name)\n",
    "print(\"Num params: \" + str(count_parameters(B_Conv2d_ConvNN_Attn_N_4)))\n",
    "print()\n",
    "\n",
    "# Test + Eval\n",
    "criterion = nn.CrossEntropyLoss()\n",
    "optimizer = optim.Adam(B_Conv2d_ConvNN_Attn_N_4.parameters(), lr=0.0001)\n",
    "num_epochs = 100 \n",
    "train_eval(B_Conv2d_ConvNN_Attn_N_4, cifar10.train_loader, cifar10.test_loader, criterion, optimizer, num_epochs, device='cuda')\n",
    "evaluate_accuracy(B_Conv2d_ConvNN_Attn_N_4, cifar10.test_loader, device='cuda')\n"
   ]
  },
  {
   "cell_type": "code",
   "execution_count": null,
   "metadata": {},
   "outputs": [],
   "source": [
    "\n",
    "# Branching Attention ConvNN All Samples\n",
    "B_Attention_ConvNN_All_4 = B_Attention_ConvNN_K_All(num_layers=4, num_classes=10, device='cuda')\n",
    "\n",
    "print(\"Model: \" + B_Attention_ConvNN_All_4.name)\n",
    "print(\"Num params: \" + str(count_parameters(B_Attention_ConvNN_All_4)))\n",
    "print()\n",
    "\n",
    "# Test + Eval\n",
    "criterion = nn.CrossEntropyLoss()\n",
    "optimizer = optim.Adam(B_Attention_ConvNN_All_4.parameters(), lr=0.0001)\n",
    "num_epochs = 100 \n",
    "train_eval(B_Attention_ConvNN_All_4, cifar10.train_loader, cifar10.test_loader, criterion, optimizer, num_epochs, device='cuda')\n",
    "evaluate_accuracy(B_Attention_ConvNN_All_4, cifar10.test_loader, device='cuda')\n"
   ]
  },
  {
   "cell_type": "code",
   "execution_count": null,
   "metadata": {},
   "outputs": [],
   "source": [
    "\n",
    "# Branching Attention ConvNN N Samples\n",
    "B_Attention_ConvNN_N_4 = B_Attention_ConvNN_K_N(num_layers=4, num_classes=10, device='cuda')\n",
    "\n",
    "print(\"Model: \" + B_Attention_ConvNN_N_4.name)\n",
    "print(\"Num params: \" + str(count_parameters(B_Attention_ConvNN_N_4)))\n",
    "print()\n",
    "\n",
    "# Test + Eval\n",
    "criterion = nn.CrossEntropyLoss()\n",
    "optimizer = optim.Adam(B_Attention_ConvNN_N_4.parameters(), lr=0.0001)\n",
    "num_epochs = 100 \n",
    "train_eval(B_Attention_ConvNN_N_4, cifar10.train_loader, cifar10.test_loader, criterion, optimizer, num_epochs, device='cuda')\n",
    "evaluate_accuracy(B_Attention_ConvNN_N_4, cifar10.test_loader, device='cuda')\n"
   ]
  },
  {
   "cell_type": "code",
   "execution_count": null,
   "metadata": {},
   "outputs": [],
   "source": [
    "\n",
    "# Branching Attention + ConvNN Spatial Samples\n",
    "B_Attention_ConvNN_Spatial_N_4 = B_Attention_ConvNN_Spatial_K_N(num_layers=2,  num_classes=10, device='cuda')\n",
    "\n",
    "print(\"Model: \" + B_Attention_ConvNN_Spatial_N_4.name)\n",
    "print(\"Num params: \" + str(count_parameters(B_Attention_ConvNN_Spatial_N_4)))\n",
    "print()\n",
    "\n",
    "# Test + Eval\n",
    "criterion = nn.CrossEntropyLoss()\n",
    "optimizer = optim.Adam(B_Attention_ConvNN_Spatial_N_4.parameters(), lr=0.0001)\n",
    "num_epochs = 100 \n",
    "train_eval(B_Attention_ConvNN_Spatial_N_4, cifar10.train_loader, cifar10.test_loader, criterion, optimizer, num_epochs, device='cuda')\n",
    "evaluate_accuracy(B_Attention_ConvNN_Spatial_N_4, cifar10.test_loader, device='cuda')\n"
   ]
  },
  {
   "cell_type": "code",
   "execution_count": null,
   "metadata": {},
   "outputs": [],
   "source": [
    "\n",
    "# Branching Attention ConvNN Attn N Samples\n",
    "B_Attention_ConvNN_Attn_N_4 = B_Attention_ConvNN_Attn_K_N(num_layers=4, num_classes=10, device='cuda')\n",
    "\n",
    "print(\"Model: \" + B_Attention_ConvNN_Attn_N_4.name)\n",
    "print(\"Num params: \" + str(count_parameters(B_Attention_ConvNN_Attn_N_4)))\n",
    "print()\n",
    "\n",
    "# Test + Eval\n",
    "criterion = nn.CrossEntropyLoss()\n",
    "optimizer = optim.Adam(B_Attention_ConvNN_Attn_N_4.parameters(), lr=0.0001)\n",
    "num_epochs = 100 \n",
    "train_eval(B_Attention_ConvNN_Attn_N_4, cifar10.train_loader, cifar10.test_loader, criterion, optimizer, num_epochs, device='cuda')\n",
    "evaluate_accuracy(B_Attention_ConvNN_Attn_N_4, cifar10.test_loader, device='cuda')\n"
   ]
  },
  {
   "cell_type": "code",
   "execution_count": null,
   "metadata": {},
   "outputs": [],
   "source": [
    "\n",
    "# Branching Attention Conv2d\n",
    "B_Attention_Conv2d_4 = B_Attention_Conv2d(num_layers=4, num_classes=10, device='cuda')\n",
    "\n",
    "print(\"Model: \" + B_Attention_Conv2d_4.name)\n",
    "print(\"Num params: \" + str(count_parameters(B_Attention_Conv2d_4)))\n",
    "print()\n",
    "\n",
    "# Test + Eval\n",
    "criterion = nn.CrossEntropyLoss()\n",
    "optimizer = optim.Adam(B_Attention_Conv2d_4.parameters(), lr=0.0001)\n",
    "num_epochs = 100 \n",
    "train_eval(B_Attention_Conv2d_4, cifar10.train_loader, cifar10.test_loader, criterion, optimizer, num_epochs, device='cuda')\n",
    "evaluate_accuracy(B_Attention_Conv2d_4, cifar10.test_loader, device='cuda')\n",
    "\n"
   ]
  },
  {
   "cell_type": "markdown",
   "metadata": {},
   "source": [
    "### 8 Layer Models"
   ]
  },
  {
   "cell_type": "code",
   "execution_count": null,
   "metadata": {},
   "outputs": [],
   "source": [
    "\n",
    "# CNN\n",
    "CNN_8 = CNN(num_layers=8, num_classes=10, device='cuda')\n",
    "\n",
    "print(\"Model: \" + CNN_8.name)\n",
    "print(\"Num params: \" + str(count_parameters(CNN_8)))\n",
    "print()\n",
    "\n",
    "# Test + Eval\n",
    "criterion = nn.CrossEntropyLoss()\n",
    "optimizer = optim.Adam(CNN_8.parameters(), lr=0.0001)\n",
    "num_epochs = 100 \n",
    "train_eval(CNN_8, cifar10.train_loader, cifar10.test_loader, criterion, optimizer, num_epochs, device='cuda')\n",
    "evaluate_accuracy(CNN_8, cifar10.test_loader, device='cuda')\n"
   ]
  },
  {
   "cell_type": "code",
   "execution_count": null,
   "metadata": {},
   "outputs": [],
   "source": [
    "\n",
    "# Attention\n",
    "Attention_8 = Attention(num_layers=8, num_classes=10, device='cuda')\n",
    "\n",
    "print(\"Model: \" + Attention_8.name)\n",
    "print(\"Num params: \" + str(count_parameters(Attention_8)))\n",
    "print()\n",
    "\n",
    "# Test + Eval\n",
    "criterion = nn.CrossEntropyLoss()\n",
    "optimizer = optim.Adam(Attention_8.parameters(), lr=0.0001)\n",
    "num_epochs = 100 \n",
    "train_eval(Attention_8, cifar10.train_loader, cifar10.test_loader, criterion, optimizer, num_epochs, device='cuda')\n",
    "evaluate_accuracy(Attention_8, cifar10.test_loader, device='cuda')\n"
   ]
  },
  {
   "cell_type": "code",
   "execution_count": null,
   "metadata": {},
   "outputs": [],
   "source": [
    "# ConvNN All \n",
    "ConvNN_All_8 = ConvNN_K_All(num_layers=8, num_classes=10, device='cuda')\n",
    "\n",
    "print(\"Model: \" + ConvNN_All_8.name)\n",
    "print(\"Num params: \" + str(count_parameters(ConvNN_All_8)))\n",
    "print()\n",
    "\n",
    "# Test + Eval\n",
    "criterion = nn.CrossEntropyLoss()\n",
    "optimizer = optim.Adam(ConvNN_All_8.parameters(), lr=0.0001)\n",
    "num_epochs = 100 \n",
    "train_eval(ConvNN_All_8, cifar10.train_loader, cifar10.test_loader, criterion, optimizer, num_epochs, device='cuda')\n",
    "evaluate_accuracy(ConvNN_All_8, cifar10.test_loader, device='cuda')\n"
   ]
  },
  {
   "cell_type": "code",
   "execution_count": null,
   "metadata": {},
   "outputs": [],
   "source": [
    "# ConvNN N \n",
    "ConvNN_N_8 = ConvNN_K_N(num_layers=8, num_classes=10, device='cuda')\n",
    "\n",
    "print(\"Model: \" + ConvNN_N_8.name)\n",
    "print(\"Num params: \" + str(count_parameters(ConvNN_N_8)))\n",
    "print()\n",
    "\n",
    "# Test + Eval\n",
    "criterion = nn.CrossEntropyLoss()\n",
    "optimizer = optim.Adam(ConvNN_N_8.parameters(), lr=0.0001)\n",
    "num_epochs = 100 \n",
    "train_eval(ConvNN_N_8, cifar10.train_loader, cifar10.test_loader, criterion, optimizer, num_epochs, device='cuda')\n",
    "evaluate_accuracy(ConvNN_N_8, cifar10.test_loader, device='cuda')\n"
   ]
  },
  {
   "cell_type": "code",
   "execution_count": null,
   "metadata": {},
   "outputs": [],
   "source": [
    "# ConvNN Spatial N\n",
    "ConvNN_Spatial_N_8 = ConvNN_Spatial_K_N(num_layers=8, num_classes=10, device='cuda')\n",
    "\n",
    "print(\"Model: \" + ConvNN_Spatial_N_8.name)\n",
    "print(\"Num params: \" + str(count_parameters(ConvNN_Spatial_N_8)))\n",
    "print()\n",
    "\n",
    "# Test + Eval\n",
    "criterion = nn.CrossEntropyLoss()\n",
    "optimizer = optim.Adam(ConvNN_Spatial_N_8.parameters(), lr=0.0001)\n",
    "num_epochs = 100 \n",
    "train_eval(ConvNN_Spatial_N_8, cifar10.train_loader, cifar10.test_loader, criterion, optimizer, num_epochs, device='cuda')\n",
    "evaluate_accuracy(ConvNN_Spatial_N_8, cifar10.test_loader, device='cuda')\n"
   ]
  },
  {
   "cell_type": "code",
   "execution_count": null,
   "metadata": {},
   "outputs": [],
   "source": [
    "# ConvNN Attention N\n",
    "ConvNN_Attn_N_8 = ConvNN_Attn_K_N(num_layers=8, num_classes=10, device='cuda')\n",
    "\n",
    "print(\"Model: \" + ConvNN_Attn_N_8.name)\n",
    "print(\"Num params: \" + str(count_parameters(ConvNN_Attn_N_8)))  \n",
    "print()\n",
    "\n",
    "# Test + Eval\n",
    "criterion = nn.CrossEntropyLoss()\n",
    "optimizer = optim.Adam(ConvNN_Attn_N_8.parameters(), lr=0.0001)\n",
    "num_epochs = 100 \n",
    "train_eval(ConvNN_Attn_N_8, cifar10.train_loader, cifar10.test_loader, criterion, optimizer, num_epochs, device='cuda')\n",
    "evaluate_accuracy(ConvNN_Attn_N_8, cifar10.test_loader, device='cuda')\n"
   ]
  },
  {
   "cell_type": "markdown",
   "metadata": {},
   "source": [
    "#### ii. Branching"
   ]
  },
  {
   "cell_type": "code",
   "execution_count": null,
   "metadata": {},
   "outputs": [],
   "source": [
    "\n",
    "# Branching Conv2d + ConvNN All\n",
    "B_Conv2d_ConvNN_All_8 = B_Conv2d_ConvNN_K_All(num_layers=8, num_classes=10, device='cuda')\n",
    "\n",
    "print(\"Model: \" + B_Conv2d_ConvNN_All_8.name)\n",
    "print(\"Num params: \" + str(count_parameters(B_Conv2d_ConvNN_All_8)))\n",
    "print()\n",
    "\n",
    "# Test + Eval\n",
    "criterion = nn.CrossEntropyLoss()\n",
    "optimizer = optim.Adam(B_Conv2d_ConvNN_All_8.parameters(), lr=0.0001)\n",
    "num_epochs = 100 \n",
    "train_eval(B_Conv2d_ConvNN_All_8, cifar10.train_loader, cifar10.test_loader, criterion, optimizer, num_epochs, device='cuda')\n",
    "evaluate_accuracy(B_Conv2d_ConvNN_All_8, cifar10.test_loader, device='cuda')\n"
   ]
  },
  {
   "cell_type": "code",
   "execution_count": null,
   "metadata": {},
   "outputs": [],
   "source": [
    "\n",
    "# Branching Conv2d + ConvNN N\n",
    "B_Conv2d_ConvNN_N_8=B_Conv2d_ConvNN_K_N(num_layers=8, num_classes=10, device='cuda')\n",
    "\n",
    "print(\"Model: \" + B_Conv2d_ConvNN_N_8.name)\n",
    "print(\"Num params: \" + str(count_parameters(B_Conv2d_ConvNN_N_8)))\n",
    "print()\n",
    "\n",
    "# Test + Eval\n",
    "criterion = nn.CrossEntropyLoss()\n",
    "optimizer = optim.Adam(B_Conv2d_ConvNN_N_8.parameters(), lr=0.0001)\n",
    "num_epochs = 100 \n",
    "train_eval(B_Conv2d_ConvNN_N_8, cifar10.train_loader, cifar10.test_loader, criterion, optimizer, num_epochs, device='cuda')\n",
    "evaluate_accuracy(B_Conv2d_ConvNN_N_8, cifar10.test_loader, device='cuda')\n"
   ]
  },
  {
   "cell_type": "code",
   "execution_count": null,
   "metadata": {},
   "outputs": [],
   "source": [
    "\n",
    "# Branching Conv2d + ConvNN Spatial N\n",
    "B_Conv2d_ConvNN_Spatial_N_8 = B_Conv2d_ConvNN_Spatial_K_N(num_layers=8, num_classes=10, device='cuda')\n",
    "\n",
    "print(\"Model: \" + B_Conv2d_ConvNN_Spatial_N_8.name)\n",
    "print(\"Num params: \" + str(count_parameters(B_Conv2d_ConvNN_Spatial_N_8)))\n",
    "print()\n",
    "\n",
    "# Test + Eval\n",
    "criterion = nn.CrossEntropyLoss()\n",
    "optimizer = optim.Adam(B_Conv2d_ConvNN_Spatial_N_8.parameters(), lr=0.0001)\n",
    "num_epochs = 100 \n",
    "train_eval(B_Conv2d_ConvNN_Spatial_N_8, cifar10.train_loader, cifar10.test_loader, criterion, optimizer, num_epochs, device='cuda')\n",
    "evaluate_accuracy(B_Conv2d_ConvNN_Spatial_N_8, cifar10.test_loader, device='cuda')\n"
   ]
  },
  {
   "cell_type": "code",
   "execution_count": null,
   "metadata": {},
   "outputs": [],
   "source": [
    "\n",
    "# Branching Conv2d + ConvNN Attention N \n",
    "B_Conv2d_ConvNN_Attn_N_8 = B_Conv2d_ConvNN_Attn_K_N(num_layers=8, num_classes=10, device='cuda')\n",
    "\n",
    "print(\"Model: \" + B_Conv2d_ConvNN_Attn_N_8.name)\n",
    "print(\"Num params: \" + str(count_parameters(B_Conv2d_ConvNN_Attn_N_8)))\n",
    "print()\n",
    "\n",
    "# Test + Eval\n",
    "criterion = nn.CrossEntropyLoss()\n",
    "optimizer = optim.Adam(B_Conv2d_ConvNN_Attn_N_8.parameters(), lr=0.0001)\n",
    "num_epochs = 100 \n",
    "train_eval(B_Conv2d_ConvNN_Attn_N_8, cifar10.train_loader, cifar10.test_loader, criterion, optimizer, num_epochs, device='cuda')\n",
    "evaluate_accuracy(B_Conv2d_ConvNN_Attn_N_8, cifar10.test_loader, device='cuda')\n"
   ]
  },
  {
   "cell_type": "code",
   "execution_count": null,
   "metadata": {},
   "outputs": [],
   "source": [
    "\n",
    "# Branching Attention + ConvNN All Samples\n",
    "B_Attention_ConvNN_All_8 = B_Attention_ConvNN_K_All(num_layers=8, num_classes=10, device='cuda')\n",
    "\n",
    "print(\"Model: \" + B_Attention_ConvNN_All_8.name)\n",
    "print(\"Num params: \" + str(count_parameters(B_Attention_ConvNN_All_8)))\n",
    "print()\n",
    "\n",
    "# Test + Eval\n",
    "criterion = nn.CrossEntropyLoss()\n",
    "optimizer = optim.Adam(B_Attention_ConvNN_All_8.parameters(), lr=0.0001)\n",
    "num_epochs = 100 \n",
    "train_eval(B_Attention_ConvNN_All_8, cifar10.train_loader, cifar10.test_loader, criterion, optimizer, num_epochs, device='cuda')\n",
    "evaluate_accuracy(B_Attention_ConvNN_All_8, cifar10.test_loader, device='cuda')\n"
   ]
  },
  {
   "cell_type": "code",
   "execution_count": null,
   "metadata": {},
   "outputs": [],
   "source": [
    "\n",
    "# Branching Attention + ConvNN N Samples\n",
    "B_Attention_ConvNN_N_8 = B_Attention_ConvNN_K_N(num_layers=8, num_classes=10, device='cuda')\n",
    "\n",
    "print(\"Model: \" + B_Attention_ConvNN_N_8.name)\n",
    "print(\"Num params: \" + str(count_parameters(B_Attention_ConvNN_N_8)))\n",
    "print()\n",
    "\n",
    "# Test + Eval\n",
    "criterion = nn.CrossEntropyLoss()\n",
    "optimizer = optim.Adam(B_Attention_ConvNN_N_8.parameters(), lr=0.0001)\n",
    "num_epochs = 100 \n",
    "train_eval(B_Attention_ConvNN_N_8, cifar10.train_loader, cifar10.test_loader, criterion, optimizer, num_epochs, device='cuda')\n",
    "evaluate_accuracy(B_Attention_ConvNN_N_8, cifar10.test_loader, device='cuda')\n"
   ]
  },
  {
   "cell_type": "code",
   "execution_count": null,
   "metadata": {},
   "outputs": [],
   "source": [
    "\n",
    "# Branching Attention + ConvNN Spatial Samples\n",
    "B_Attention_ConvNN_Spatial_N_8 = B_Attention_ConvNN_Spatial_K_N(num_layers=8, num_classes=10, device='cuda')\n",
    "\n",
    "print(\"Model: \" + B_Attention_ConvNN_Spatial_N_8.name)\n",
    "print(\"Num params: \" + str(count_parameters(B_Attention_ConvNN_Spatial_N_8)))\n",
    "print()\n",
    "\n",
    "# Test + Eval\n",
    "criterion = nn.CrossEntropyLoss()\n",
    "optimizer = optim.Adam(B_Attention_ConvNN_Spatial_N_8.parameters(), lr=0.0001)\n",
    "num_epochs = 100 \n",
    "train_eval(B_Attention_ConvNN_Spatial_N_8, cifar10.train_loader, cifar10.test_loader, criterion, optimizer, num_epochs, device='cuda')\n",
    "evaluate_accuracy(B_Attention_ConvNN_Spatial_N_8, cifar10.test_loader, device='cuda')\n"
   ]
  },
  {
   "cell_type": "code",
   "execution_count": null,
   "metadata": {},
   "outputs": [],
   "source": [
    "\n",
    "# Branching Attention ConvNN Attn N Samples\n",
    "B_Attention_ConvNN_Attn_N_8 = B_Attention_ConvNN_Attn_K_N(num_layers=8, num_classes=10, device='cuda')\n",
    "\n",
    "print(\"Model: \" + B_Attention_ConvNN_Attn_N_8.name)\n",
    "print(\"Num params: \" + str(count_parameters(B_Attention_ConvNN_Attn_N_8)))\n",
    "print()\n",
    "\n",
    "# Test + Eval\n",
    "criterion = nn.CrossEntropyLoss()\n",
    "optimizer = optim.Adam(B_Attention_ConvNN_Attn_N_8.parameters(), lr=0.0001)\n",
    "num_epochs = 100 \n",
    "train_eval(B_Attention_ConvNN_Attn_N_8, cifar10.train_loader, cifar10.test_loader, criterion, optimizer, num_epochs, device='cuda')\n",
    "evaluate_accuracy(B_Attention_ConvNN_Attn_N_8, cifar10.test_loader, device='cuda')\n"
   ]
  },
  {
   "cell_type": "code",
   "execution_count": null,
   "metadata": {},
   "outputs": [],
   "source": [
    "\n",
    "# Branching Attention Conv2d\n",
    "B_Attention_Conv2d_8 = B_Attention_Conv2d(num_layers=8, num_classes=10, device='cuda')\n",
    "\n",
    "print(\"Model: \" + B_Attention_Conv2d_8.name)\n",
    "print(\"Num params: \" + str(count_parameters(B_Attention_Conv2d_8)))\n",
    "print()\n",
    "\n",
    "# Test + Eval\n",
    "criterion = nn.CrossEntropyLoss()\n",
    "optimizer = optim.Adam(B_Attention_Conv2d_8.parameters(), lr=0.0001)\n",
    "num_epochs = 100 \n",
    "train_eval(B_Attention_Conv2d_8, cifar10.train_loader, cifar10.test_loader, criterion, optimizer, num_epochs, device='cuda')\n",
    "evaluate_accuracy(B_Attention_Conv2d_8, cifar10.test_loader, device='cuda')\n",
    "\n"
   ]
  },
  {
   "cell_type": "code",
   "execution_count": null,
   "metadata": {},
   "outputs": [],
   "source": []
  }
 ],
 "metadata": {
  "kernelspec": {
   "display_name": "ML",
   "language": "python",
   "name": "python3"
  },
  "language_info": {
   "codemirror_mode": {
    "name": "ipython",
    "version": 3
   },
   "file_extension": ".py",
   "mimetype": "text/x-python",
   "name": "python",
   "nbconvert_exporter": "python",
   "pygments_lexer": "ipython3",
   "version": "3.9.21"
  }
 },
 "nbformat": 4,
 "nbformat_minor": 4
}
