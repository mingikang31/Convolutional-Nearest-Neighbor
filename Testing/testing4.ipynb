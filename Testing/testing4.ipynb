{
 "cells": [
  {
   "cell_type": "code",
   "execution_count": 1,
   "metadata": {},
   "outputs": [
    {
     "name": "stdout",
     "output_type": "stream",
     "text": [
      "torch.Size([1000, 120])\n",
      "Time taken to run the function: 0.0005297660827636719 seconds\n",
      "torch.Size([1000, 5])\n"
     ]
    }
   ],
   "source": [
    "\n",
    "\n",
    "import torch\n",
    "import time\n",
    "\n",
    "dist_matrix = torch.rand(1000, 120)\n",
    "print(dist_matrix.shape)\n",
    "num_nearest_neighbors = 5\n",
    "\n",
    "start = time.time() \n",
    "ind = torch.topk(dist_matrix, num_nearest_neighbors, largest=False).indices\n",
    "end = time.time() \n",
    "\n",
    "print(f\"Time taken to run the function: {end - start} seconds\")\n",
    "print(ind.shape)\n"
   ]
  },
  {
   "cell_type": "code",
   "execution_count": null,
   "metadata": {},
   "outputs": [],
   "source": []
  }
 ],
 "metadata": {
  "kernelspec": {
   "display_name": "MK",
   "language": "python",
   "name": "python3"
  },
  "language_info": {
   "codemirror_mode": {
    "name": "ipython",
    "version": 3
   },
   "file_extension": ".py",
   "mimetype": "text/x-python",
   "name": "python",
   "nbconvert_exporter": "python",
   "pygments_lexer": "ipython3",
   "version": "3.12.0"
  }
 },
 "nbformat": 4,
 "nbformat_minor": 2
}
