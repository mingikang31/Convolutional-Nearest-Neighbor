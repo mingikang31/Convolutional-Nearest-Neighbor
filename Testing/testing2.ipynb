{
 "cells": [
  {
   "cell_type": "markdown",
   "metadata": {},
   "source": [
    "# batches of 1d convolution "
   ]
  },
  {
   "cell_type": "code",
   "execution_count": 1,
   "metadata": {},
   "outputs": [
    {
     "name": "stdout",
     "output_type": "stream",
     "text": [
      "torch.Size([20, 1, 120])\n"
     ]
    }
   ],
   "source": [
    "import torch \n",
    "import torch.nn as nn\n",
    "from NNT import *"
   ]
  },
  {
   "cell_type": "code",
   "execution_count": 2,
   "metadata": {},
   "outputs": [
    {
     "name": "stdout",
     "output_type": "stream",
     "text": [
      "torch.Size([3, 6, 3])\n"
     ]
    }
   ],
   "source": [
    "ex_matrix = torch.tensor([[1, 2, 9], [1, 6, 3], [7, 0, 9], \n",
    "                          [1, 5, 0], [2, 4, 3], [1, 1, 1], \n",
    "                          ], dtype=torch.float32)\n",
    "\n",
    "list_matrix = [ex_matrix, ex_matrix, ex_matrix]\n",
    "\n",
    "stack = torch.stack(list_matrix, dim = 0)\n",
    "print(stack.shape)\n"
   ]
  },
  {
   "cell_type": "code",
   "execution_count": 23,
   "metadata": {},
   "outputs": [
    {
     "name": "stdout",
     "output_type": "stream",
     "text": [
      "torch.Size([20, 1, 40])\n"
     ]
    }
   ],
   "source": [
    "stack = torch.rand(20, 1, 40)\n",
    "print(stack.shape)"
   ]
  },
  {
   "cell_type": "code",
   "execution_count": 24,
   "metadata": {},
   "outputs": [
    {
     "name": "stdout",
     "output_type": "stream",
     "text": [
      "torch.Size([20, 1, 120])\n"
     ]
    }
   ],
   "source": [
    "a = NNT(stack, 3)\n",
    "print(a.prime.shape)"
   ]
  },
  {
   "cell_type": "code",
   "execution_count": 25,
   "metadata": {},
   "outputs": [
    {
     "name": "stdout",
     "output_type": "stream",
     "text": [
      "torch.Size([20, 40, 40])\n"
     ]
    }
   ],
   "source": [
    "print(a.dist_matrix.shape)"
   ]
  },
  {
   "cell_type": "code",
   "execution_count": 36,
   "metadata": {},
   "outputs": [
    {
     "name": "stdout",
     "output_type": "stream",
     "text": [
      "1\n"
     ]
    }
   ],
   "source": [
    "# Using nn.Conv1d \n",
    "conv1d_layer = nn.Conv1d(in_channels = a.prime.shape[1], out_channels = 6, kernel_size = a.prime.shape[1], stride = a.num_nearest_neighbors)\n",
    "\n",
    "print(a.prime.shape[1])\n",
    "\n",
    "\n"
   ]
  },
  {
   "cell_type": "code",
   "execution_count": 37,
   "metadata": {},
   "outputs": [
    {
     "name": "stdout",
     "output_type": "stream",
     "text": [
      "tensor([[[-6.1389e-01, -2.9604e-01, -4.6089e-01,  ..., -2.7021e-01, -8.3797e-01, -6.9050e-01],\n",
      "         [1.1643e+00, 9.5644e-01, 1.0642e+00,  ..., 9.3956e-01, 1.3108e+00, 1.2144e+00],\n",
      "         [-3.2791e-01, -7.4657e-01, -5.2943e-01,  ..., -7.8059e-01, -3.2759e-02, -2.2700e-01],\n",
      "         [-9.8553e-01, -8.9724e-01, -9.4303e-01,  ..., -8.9007e-01, -1.0478e+00, -1.0068e+00],\n",
      "         [-1.0127e+00, -8.7052e-01, -9.4425e-01,  ..., -8.5898e-01, -1.1129e+00, -1.0469e+00],\n",
      "         [-4.0145e-01, -8.4920e-01, -6.1698e-01,  ..., -8.8558e-01, -8.5795e-02, -2.9353e-01]],\n",
      "\n",
      "        [[-4.5619e-01, -4.6491e-01, -5.3946e-01,  ..., -7.1961e-01, -5.9631e-01, -6.0458e-01],\n",
      "         [1.0612e+00, 1.0669e+00, 1.1156e+00,  ..., 1.2334e+00, 1.1528e+00, 1.1582e+00],\n",
      "         [-5.3563e-01, -5.2414e-01, -4.2594e-01,  ..., -1.8866e-01, -3.5106e-01, -3.4017e-01],\n",
      "         [-9.4173e-01, -9.4415e-01, -9.6486e-01,  ..., -1.0149e+00, -9.8065e-01, -9.8295e-01],\n",
      "         [-9.4215e-01, -9.4605e-01, -9.7939e-01,  ..., -1.0600e+00, -1.0048e+00, -1.0085e+00],\n",
      "         [-6.2360e-01, -6.1132e-01, -5.0630e-01,  ..., -2.5252e-01, -4.2622e-01, -4.1457e-01]],\n",
      "\n",
      "        [[-6.5711e-01, -6.0158e-01, -4.6413e-01,  ..., -3.9556e-01, -4.2770e-01, -4.1377e-01],\n",
      "         [1.1925e+00, 1.1562e+00, 1.0664e+00,  ..., 1.0215e+00, 1.0425e+00, 1.0334e+00],\n",
      "         [-2.7098e-01, -3.4411e-01, -5.2516e-01,  ..., -6.1548e-01, -5.7315e-01, -5.9149e-01],\n",
      "         [-9.9754e-01, -9.8212e-01, -9.4393e-01,  ..., -9.2488e-01, -9.3381e-01, -9.2994e-01],\n",
      "         [-1.0320e+00, -1.0072e+00, -9.4570e-01,  ..., -9.1503e-01, -9.2941e-01, -9.2318e-01],\n",
      "         [-3.4057e-01, -4.1878e-01, -6.1241e-01,  ..., -7.0901e-01, -6.6373e-01, -6.8335e-01]],\n",
      "\n",
      "        ...,\n",
      "\n",
      "        [[-3.8914e-01, -3.4599e-01, -8.3696e-01,  ..., -5.7884e-01, -5.8313e-01, -2.4739e-01],\n",
      "         [1.0173e+00, 9.8911e-01, 1.3101e+00,  ..., 1.1414e+00, 1.1442e+00, 9.2463e-01],\n",
      "         [-6.2394e-01, -6.8077e-01, -3.4087e-02,  ..., -3.7407e-01, -3.6842e-01, -8.1064e-01],\n",
      "         [-9.2310e-01, -9.1112e-01, -1.0475e+00,  ..., -9.7580e-01, -9.7699e-01, -8.8373e-01],\n",
      "         [-9.1216e-01, -8.9286e-01, -1.1124e+00,  ..., -9.9700e-01, -9.9892e-01, -8.4877e-01],\n",
      "         [-7.1806e-01, -7.7884e-01, -8.7215e-02,  ..., -4.5082e-01, -4.4478e-01, -9.1773e-01]],\n",
      "\n",
      "        [[-6.9028e-01, -4.2466e-01, -6.3239e-01,  ..., -5.1501e-01, -4.9662e-01, -2.8251e-01],\n",
      "         [1.2142e+00, 1.0405e+00, 1.1764e+00,  ..., 1.0996e+00, 1.0876e+00, 9.4760e-01],\n",
      "         [-2.2729e-01, -5.7716e-01, -3.0354e-01,  ..., -4.5814e-01, -4.8237e-01, -7.6439e-01],\n",
      "         [-1.0068e+00, -9.3297e-01, -9.9067e-01,  ..., -9.5807e-01, -9.5296e-01, -8.9348e-01],\n",
      "         [-1.0468e+00, -9.2804e-01, -1.0209e+00,  ..., -9.6845e-01, -9.6023e-01, -8.6447e-01],\n",
      "         [-2.9385e-01, -6.6802e-01, -3.7539e-01,  ..., -5.4073e-01, -5.6665e-01, -8.6826e-01]],\n",
      "\n",
      "        [[-7.3179e-01, -2.8674e-01, -8.3054e-01,  ..., -6.7438e-01, -6.6439e-01, -4.8736e-01],\n",
      "         [1.2414e+00, 9.5036e-01, 1.3059e+00,  ..., 1.2038e+00, 1.1973e+00, 1.0816e+00],\n",
      "         [-1.7261e-01, -7.5881e-01, -4.2547e-02,  ..., -2.4823e-01, -2.6139e-01, -4.9456e-01],\n",
      "         [-1.0183e+00, -8.9466e-01, -1.0457e+00,  ..., -1.0023e+00, -9.9956e-01, -9.5039e-01],\n",
      "         [-1.0654e+00, -8.6637e-01, -1.1096e+00,  ..., -1.0397e+00, -1.0353e+00, -9.5609e-01],\n",
      "         [-2.3537e-01, -8.6230e-01, -9.6263e-02,  ..., -3.1624e-01, -3.3032e-01, -5.7968e-01]]],\n",
      "       grad_fn=<ConvolutionBackward0>)\n",
      "torch.Size([20, 6, 40])\n"
     ]
    }
   ],
   "source": [
    "# Convolution using the NNT object\n",
    "output = conv1d_layer(a.prime)\n",
    "print(output)\n",
    "print(output.shape)\n"
   ]
  },
  {
   "cell_type": "code",
   "execution_count": 38,
   "metadata": {},
   "outputs": [],
   "source": [
    "d = nn.ReLU()\n",
    "e = nn.MaxPool1d(kernel_size=2, stride=2)\n"
   ]
  },
  {
   "cell_type": "code",
   "execution_count": 40,
   "metadata": {},
   "outputs": [
    {
     "name": "stdout",
     "output_type": "stream",
     "text": [
      "torch.Size([20, 6, 40])\n"
     ]
    }
   ],
   "source": [
    "output1 = d(output)\n",
    "print(output1.shape)"
   ]
  },
  {
   "cell_type": "code",
   "execution_count": 41,
   "metadata": {},
   "outputs": [
    {
     "name": "stdout",
     "output_type": "stream",
     "text": [
      "torch.Size([20, 6, 20])\n"
     ]
    }
   ],
   "source": [
    "output2 = e(output1)\n",
    "print(output2.shape)"
   ]
  },
  {
   "cell_type": "markdown",
   "metadata": {},
   "source": [
    "## Example from randome torch tensor "
   ]
  },
  {
   "cell_type": "code",
   "execution_count": 21,
   "metadata": {},
   "outputs": [
    {
     "name": "stdout",
     "output_type": "stream",
     "text": [
      "torch.Size([3, 10, 2])\n",
      "tensor([[[0.2302, 0.3962],\n",
      "         [0.4237, 0.4326],\n",
      "         [0.9296, 0.9393],\n",
      "         [0.4199, 0.9294],\n",
      "         [0.8891, 0.2145],\n",
      "         [0.1546, 0.6693],\n",
      "         [0.7586, 0.5612],\n",
      "         [0.8741, 0.2387],\n",
      "         [0.9508, 0.8758],\n",
      "         [0.3102, 0.7895]],\n",
      "\n",
      "        [[0.1307, 0.0708],\n",
      "         [0.4926, 0.0860],\n",
      "         [0.2356, 0.8878],\n",
      "         [0.3067, 0.8707],\n",
      "         [0.0064, 0.2498],\n",
      "         [0.3812, 0.5866],\n",
      "         [0.8687, 0.0340],\n",
      "         [0.7717, 0.4208],\n",
      "         [0.4959, 0.1094],\n",
      "         [0.4015, 0.4375]],\n",
      "\n",
      "        [[0.5874, 0.7880],\n",
      "         [0.0654, 0.1076],\n",
      "         [0.0930, 0.0503],\n",
      "         [0.9299, 0.2449],\n",
      "         [0.0663, 0.6356],\n",
      "         [0.5743, 0.3697],\n",
      "         [0.0639, 0.3117],\n",
      "         [0.1110, 0.4181],\n",
      "         [0.3641, 0.0788],\n",
      "         [0.6693, 0.5080]]])\n"
     ]
    }
   ],
   "source": [
    "b = torch.rand(3, 10, 2)\n",
    "print(b.shape)\n",
    "print(b)"
   ]
  },
  {
   "cell_type": "code",
   "execution_count": 39,
   "metadata": {},
   "outputs": [
    {
     "name": "stdout",
     "output_type": "stream",
     "text": [
      "torch.Size([3, 10, 10])\n",
      "torch.Size([3, 2, 70])\n",
      "torch.Size([3, 1, 10])\n"
     ]
    }
   ],
   "source": [
    "b_prime = NNT(b, (7, 2))\n",
    "\n",
    "print(b_prime.dist_matrix.shape)\n",
    "print(b_prime.prime.shape)\n",
    "print(b_prime.conv1d_layer(b_prime.prime).shape)"
   ]
  }
 ],
 "metadata": {
  "kernelspec": {
   "display_name": "MK",
   "language": "python",
   "name": "python3"
  },
  "language_info": {
   "codemirror_mode": {
    "name": "ipython",
    "version": 3
   },
   "file_extension": ".py",
   "mimetype": "text/x-python",
   "name": "python",
   "nbconvert_exporter": "python",
   "pygments_lexer": "ipython3",
   "version": "3.12.0"
  }
 },
 "nbformat": 4,
 "nbformat_minor": 2
}
