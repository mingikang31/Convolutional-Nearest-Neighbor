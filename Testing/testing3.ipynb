{
 "cells": [
  {
   "cell_type": "code",
   "execution_count": 1,
   "metadata": {},
   "outputs": [],
   "source": [
    "import torch \n",
    "import torch.nn as nn\n",
    "import torch.optim as optim\n",
    "import torch.nn.functional as F\n",
    "import random \n",
    "import time\n",
    "\n"
   ]
  },
  {
   "cell_type": "code",
   "execution_count": 2,
   "metadata": {},
   "outputs": [
    {
     "name": "stdout",
     "output_type": "stream",
     "text": [
      "[9, 11, 12, 14, 32]\n",
      "torch.Size([32, 1, 5])\n"
     ]
    }
   ],
   "source": [
    "matrix = torch.randn(32, 1, 40) \n",
    "\n",
    "num_neighbors = 5 \n",
    "rand_idx = random.sample(range(0, 40), num_neighbors)\n",
    "print(sorted(rand_idx))\n",
    "rand_idx = [5, 12, 29, 30, 37]\n",
    "\n",
    "matrix_prime = matrix[:, :, rand_idx]\n",
    "print(matrix_prime.shape)\n"
   ]
  },
  {
   "cell_type": "code",
   "execution_count": 3,
   "metadata": {},
   "outputs": [
    {
     "name": "stdout",
     "output_type": "stream",
     "text": [
      "True\n",
      "True\n",
      "True\n",
      "True\n",
      "True\n"
     ]
    }
   ],
   "source": [
    "print(torch.equal(matrix[:, :, 5],  matrix_prime[:, :, 0]))\n",
    "print(torch.equal(matrix[:, :, 12], matrix_prime[:, :, 1]))\n",
    "print(torch.equal(matrix[:, :, 29], matrix_prime[:, :, 2]))\n",
    "print(torch.equal(matrix[:, :, 30], matrix_prime[:, :, 3]))\n",
    "print(torch.equal(matrix[:, :, 37], matrix_prime[:, :, 4]))\n"
   ]
  },
  {
   "cell_type": "code",
   "execution_count": 4,
   "metadata": {},
   "outputs": [
    {
     "name": "stdout",
     "output_type": "stream",
     "text": [
      "torch.Size([32, 40, 5])\n"
     ]
    }
   ],
   "source": [
    "matrix = matrix\n",
    "matrix_prime = matrix_prime\n",
    "\n",
    "distance_matrix = torch.zeros(32, 40, 5)\n",
    "\n",
    "for i in range(32): \n",
    "   for j in range(40): \n",
    "         for k in range(5): \n",
    "            distance_matrix[i, j, k] = torch.norm(matrix[i, :, j] -  matrix_prime[i, :, k])\n",
    "\n",
    "print(distance_matrix.shape)\n"
   ]
  },
  {
   "cell_type": "markdown",
   "metadata": {},
   "source": [
    "### Vectorization "
   ]
  },
  {
   "cell_type": "code",
   "execution_count": 5,
   "metadata": {},
   "outputs": [],
   "source": [
    "import torch \n",
    "import torch.nn as nn\n",
    "import torch.optim as optim\n",
    "import torch.nn.functional as F\n",
    "import random \n"
   ]
  },
  {
   "cell_type": "code",
   "execution_count": 6,
   "metadata": {},
   "outputs": [
    {
     "name": "stdout",
     "output_type": "stream",
     "text": [
      "torch.Size([32, 1, 5])\n"
     ]
    }
   ],
   "source": [
    "matrix = torch.randn(32, 1, 40) \n",
    "\n",
    "num_neighbors = 5 \n",
    "rand_idx = random.sample(range(0, 40), num_neighbors)\n",
    "rand_idx = [5, 12, 29, 30, 37]\n",
    "\n",
    "matrix_prime = matrix[:, :, rand_idx]\n",
    "print(matrix_prime.shape)\n"
   ]
  },
  {
   "cell_type": "code",
   "execution_count": 7,
   "metadata": {},
   "outputs": [
    {
     "ename": "NameError",
     "evalue": "name 'calculate_distance_matrix' is not defined",
     "output_type": "error",
     "traceback": [
      "\u001b[0;31m---------------------------------------------------------------------------\u001b[0m",
      "\u001b[0;31mNameError\u001b[0m                                 Traceback (most recent call last)",
      "Cell \u001b[0;32mIn[7], line 20\u001b[0m\n\u001b[1;32m     17\u001b[0m     \u001b[38;5;28;01mreturn\u001b[39;00m dist_matrix\n\u001b[1;32m     19\u001b[0m start1 \u001b[38;5;241m=\u001b[39m time\u001b[38;5;241m.\u001b[39mtime() \n\u001b[0;32m---> 20\u001b[0m a \u001b[38;5;241m=\u001b[39m \u001b[43mcalculate_distance_matrix\u001b[49m(matrix, matrix_prime)\n\u001b[1;32m     21\u001b[0m \u001b[38;5;28mprint\u001b[39m(a\u001b[38;5;241m.\u001b[39mshape)\n\u001b[1;32m     22\u001b[0m end1 \u001b[38;5;241m=\u001b[39m time\u001b[38;5;241m.\u001b[39mtime()\n",
      "\u001b[0;31mNameError\u001b[0m: name 'calculate_distance_matrix' is not defined"
     ]
    }
   ],
   "source": [
    "import torch\n",
    "\n",
    "def calculate_dot_product(matrix, matrix_prime):\n",
    "   return torch.bmm(matrix.transpose(2, 1), matrix_prime)\n",
    "\n",
    "\n",
    "def calculate_distance_matrix_N(m1, mp):\n",
    "    '''Calculate the distance matrix between two input matrices'''\n",
    "    norm_squared_1 = torch.sum(m1 ** 2, dim=1, keepdim=True)\n",
    "    norm_squared_2 = torch.sum(mp ** 2, dim=1, keepdim=True).transpose(2, 1)\n",
    "    dot_product = calculate_dot_product(m1, mp)\n",
    "\n",
    "    norm_squared_1 = norm_squared_1.permute(0, 2, 1)  \n",
    "    norm_squared_2 = norm_squared_2.permute(0, 2, 1)  \n",
    "\n",
    "    dist_matrix = norm_squared_1 + norm_squared_2 - 2 * dot_product\n",
    "    return dist_matrix\n",
    "\n",
    "start1 = time.time() \n",
    "a = calculate_distance_matrix(matrix, matrix_prime)\n",
    "print(a.shape)\n",
    "end1 = time.time()\n",
    "print(\"Vectorized\", end1 - start1)\n",
    "\n",
    "start2 = time.time()\n",
    "b = torch.zeros(32, 40, 5)\n",
    "\n",
    "for i in range(32): \n",
    "   for j in range(40): \n",
    "         for k in range(5): \n",
    "            b[i, j, k] = torch.norm(matrix[i, :, j] -  matrix_prime[i, :, k])\n",
    "end2 = time.time()\n",
    "print(\"Brute Force\", end2 - start2)\n",
    "\n"
   ]
  },
  {
   "cell_type": "code",
   "execution_count": 8,
   "metadata": {},
   "outputs": [],
   "source": [
    "def prime_N(matrix, distance_matrix, num_nearest_neighbors, rand_idx):         \n",
    "   stack_list = [] \n",
    "\n",
    "   for i in range(matrix.shape[0]): \n",
    "      concat_list = []\n",
    "      for j in range(matrix.shape[2]): \n",
    "            if j in rand_idx: \n",
    "               indices = torch.topk(distance_matrix[i, j, :], num_nearest_neighbors, largest=False).indices\n",
    "               indices_list = [rand_idx[i] for i in indices]\n",
    "               nearest_neighbors = matrix[i, :, indices_list]\n",
    "            else: \n",
    "               indices = torch.topk(distance_matrix[i, j, :], num_nearest_neighbors - 1, largest=False).indices\n",
    "               indices_list = [j] + [rand_idx[i] for i in indices]\n",
    "               nearest_neighbors = matrix[i, :, indices_list]\n",
    "               \n",
    "            concat_list.append(nearest_neighbors)\n",
    "      \n",
    "      stacked_neighbors = torch.cat(concat_list, dim=1)\n",
    "      stack_list.append(stacked_neighbors)\n",
    "   \n",
    "\n",
    "   prime = torch.stack(stack_list, dim= 0)\n",
    "   return prime"
   ]
  },
  {
   "cell_type": "code",
   "execution_count": 9,
   "metadata": {},
   "outputs": [
    {
     "ename": "NameError",
     "evalue": "name 'a' is not defined",
     "output_type": "error",
     "traceback": [
      "\u001b[0;31m---------------------------------------------------------------------------\u001b[0m",
      "\u001b[0;31mNameError\u001b[0m                                 Traceback (most recent call last)",
      "Cell \u001b[0;32mIn[9], line 1\u001b[0m\n\u001b[0;32m----> 1\u001b[0m a1 \u001b[38;5;241m=\u001b[39m prime_N(matrix, \u001b[43ma\u001b[49m, \u001b[38;5;241m3\u001b[39m, rand_idx)\n\u001b[1;32m      2\u001b[0m b1 \u001b[38;5;241m=\u001b[39m prime_N(matrix, b, \u001b[38;5;241m3\u001b[39m, rand_idx)\n",
      "\u001b[0;31mNameError\u001b[0m: name 'a' is not defined"
     ]
    }
   ],
   "source": [
    "a1 = prime_N(matrix, a, 3, rand_idx)\n",
    "b1 = prime_N(matrix, b, 3, rand_idx)"
   ]
  },
  {
   "cell_type": "code",
   "execution_count": 10,
   "metadata": {},
   "outputs": [
    {
     "ename": "NameError",
     "evalue": "name 'a1' is not defined",
     "output_type": "error",
     "traceback": [
      "\u001b[0;31m---------------------------------------------------------------------------\u001b[0m",
      "\u001b[0;31mNameError\u001b[0m                                 Traceback (most recent call last)",
      "Cell \u001b[0;32mIn[10], line 1\u001b[0m\n\u001b[0;32m----> 1\u001b[0m \u001b[38;5;28mprint\u001b[39m(\u001b[43ma1\u001b[49m\u001b[38;5;241m.\u001b[39mshape)\n\u001b[1;32m      2\u001b[0m \u001b[38;5;28mprint\u001b[39m(b1\u001b[38;5;241m.\u001b[39mshape)\n",
      "\u001b[0;31mNameError\u001b[0m: name 'a1' is not defined"
     ]
    }
   ],
   "source": [
    "print(a1.shape)\n",
    "print(b1.shape)"
   ]
  },
  {
   "cell_type": "code",
   "execution_count": 11,
   "metadata": {},
   "outputs": [
    {
     "ename": "NameError",
     "evalue": "name 'a1' is not defined",
     "output_type": "error",
     "traceback": [
      "\u001b[0;31m---------------------------------------------------------------------------\u001b[0m",
      "\u001b[0;31mNameError\u001b[0m                                 Traceback (most recent call last)",
      "Cell \u001b[0;32mIn[11], line 1\u001b[0m\n\u001b[0;32m----> 1\u001b[0m \u001b[38;5;28mprint\u001b[39m(\u001b[43ma1\u001b[49m[\u001b[38;5;241m1\u001b[39m, \u001b[38;5;241m0\u001b[39m, :][\u001b[38;5;241m0\u001b[39m:\u001b[38;5;241m3\u001b[39m])\n\u001b[1;32m      2\u001b[0m \u001b[38;5;28mprint\u001b[39m(b1[\u001b[38;5;241m1\u001b[39m, \u001b[38;5;241m0\u001b[39m, :][\u001b[38;5;241m0\u001b[39m:\u001b[38;5;241m3\u001b[39m])\n",
      "\u001b[0;31mNameError\u001b[0m: name 'a1' is not defined"
     ]
    }
   ],
   "source": [
    "print(a1[1, 0, :][0:3])\n",
    "print(b1[1, 0, :][0:3])"
   ]
  },
  {
   "cell_type": "code",
   "execution_count": 12,
   "metadata": {},
   "outputs": [
    {
     "ename": "NameError",
     "evalue": "name 'a1' is not defined",
     "output_type": "error",
     "traceback": [
      "\u001b[0;31m---------------------------------------------------------------------------\u001b[0m",
      "\u001b[0;31mNameError\u001b[0m                                 Traceback (most recent call last)",
      "Cell \u001b[0;32mIn[12], line 1\u001b[0m\n\u001b[0;32m----> 1\u001b[0m differences \u001b[38;5;241m=\u001b[39m \u001b[43ma1\u001b[49m \u001b[38;5;241m!=\u001b[39m b1\n\u001b[1;32m      3\u001b[0m \u001b[38;5;66;03m# Step 2: Find indices where they differ\u001b[39;00m\n\u001b[1;32m      4\u001b[0m diff_indices \u001b[38;5;241m=\u001b[39m differences\u001b[38;5;241m.\u001b[39mnonzero()\n",
      "\u001b[0;31mNameError\u001b[0m: name 'a1' is not defined"
     ]
    }
   ],
   "source": [
    "differences = a1 != b1\n",
    "\n",
    "# Step 2: Find indices where they differ\n",
    "diff_indices = differences.nonzero()\n",
    "print(diff_indices)\n",
    "print(diff_indices.shape)"
   ]
  },
  {
   "cell_type": "markdown",
   "metadata": {},
   "source": [
    "## Faiss Similarity search"
   ]
  },
  {
   "cell_type": "code",
   "execution_count": 2,
   "metadata": {},
   "outputs": [
    {
     "name": "stdout",
     "output_type": "stream",
     "text": [
      "(1000, 120)\n"
     ]
    }
   ],
   "source": [
    "import faiss\n",
    "import numpy as np\n",
    "import time\n",
    "\n",
    "# Generate a dataset with more than 1 vector, e.g., 1000 vectors\n",
    "data = np.random.rand(1000, 120).astype('float32')\n",
    "print(data.shape)\n",
    "\n",
    "index = faiss.IndexFlatL2(120)\n",
    "\n",
    "# Add the dataset to the index\n",
    "index.add(data)\n",
    "\n",
    "# Generate a random query vector\n",
    "query = np.random.rand(1000, 120).astype('float32')\n",
    "k = 5  # Number of nearest neighbors to search for\n",
    "\n",
    "start = time.time()\n",
    "distances, indices = index.search(query, k)\n",
    "end = time.time()\n",
    "\n",
    "print(f\"Time taken to run the function: {end - start} seconds\")\n",
    "\n",
    "# Print the indices of the k nearest neighbors\n",
    "print(indices.shape)"
   ]
  },
  {
   "cell_type": "code",
   "execution_count": 1,
   "metadata": {},
   "outputs": [
    {
     "name": "stdout",
     "output_type": "stream",
     "text": [
      "(1000, 120)\n",
      "Time taken to run the function: 0.0037970542907714844 seconds\n",
      "(1000, 5)\n"
     ]
    }
   ],
   "source": [
    "import faiss\n",
    "import numpy as np\n",
    "import time\n",
    "\n",
    "# Generate a dataset with more than 1 vector, e.g., 1000 vectors\n",
    "data = np.random.rand(1000, 120).astype('float32')\n",
    "print(data.shape)\n",
    "\n",
    "index = faiss.IndexFlatL2(120)\n",
    "\n",
    "# Add the dataset to the index\n",
    "index.add(data)\n",
    "\n",
    "# Generate a random query vector\n",
    "query = np.random.rand(1000, 120).astype('float32')\n",
    "k = 5  # Number of nearest neighbors to search for\n",
    "\n",
    "start = time.time()\n",
    "distances, indices = index.search(query, k)\n",
    "end = time.time()\n",
    "\n",
    "print(f\"Time taken to run the function: {end - start} seconds\")\n",
    "\n",
    "# Print the indices of the k nearest neighbors\n",
    "print(indices.shape)\n",
    "\n"
   ]
  },
  {
   "cell_type": "code",
   "execution_count": null,
   "metadata": {},
   "outputs": [],
   "source": []
  },
  {
   "cell_type": "code",
   "execution_count": null,
   "metadata": {},
   "outputs": [],
   "source": []
  },
  {
   "cell_type": "code",
   "execution_count": null,
   "metadata": {},
   "outputs": [],
   "source": []
  }
 ],
 "metadata": {
  "kernelspec": {
   "display_name": "MK",
   "language": "python",
   "name": "python3"
  },
  "language_info": {
   "codemirror_mode": {
    "name": "ipython",
    "version": 3
   },
   "file_extension": ".py",
   "mimetype": "text/x-python",
   "name": "python",
   "nbconvert_exporter": "python",
   "pygments_lexer": "ipython3",
   "version": "3.12.0"
  }
 },
 "nbformat": 4,
 "nbformat_minor": 2
}
