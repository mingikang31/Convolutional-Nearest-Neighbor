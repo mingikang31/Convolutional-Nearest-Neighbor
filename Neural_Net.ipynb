{
 "cells": [
  {
   "cell_type": "markdown",
   "metadata": {},
   "source": [
    "# Neural Network using Conv1d_NN (June 11, 2024)"
   ]
  },
  {
   "cell_type": "markdown",
   "metadata": {},
   "source": [
    "## I. Setup"
   ]
  },
  {
   "cell_type": "code",
   "execution_count": 35,
   "metadata": {},
   "outputs": [],
   "source": [
    "# Torch\n",
    "import torch \n",
    "import torch.nn as nn\n",
    "\n",
    "# MNIST1D\n",
    "import matplotlib.pyplot as plt\n",
    "import numpy as np\n",
    "from scipy.ndimage import gaussian_filter\n",
    "from scipy.interpolate import interp1d\n",
    "\n",
    "# Custom Modules\n",
    "from NNT import NNT\n",
    "from Conv1d_NN import Conv1d_NN"
   ]
  },
  {
   "cell_type": "code",
   "execution_count": 3,
   "metadata": {},
   "outputs": [],
   "source": [
    "device = 'cuda' if torch.cuda.is_available() else 'mps' if torch.backends.mps.is_available() else 'cpu'\n",
    "device = 'cpu' # get summary of model"
   ]
  },
  {
   "cell_type": "markdown",
   "metadata": {},
   "source": [
    "## II. Example Neural Net"
   ]
  },
  {
   "cell_type": "code",
   "execution_count": 4,
   "metadata": {},
   "outputs": [
    {
     "name": "stdout",
     "output_type": "stream",
     "text": [
      "----------------------------------------------------------------\n",
      "        Layer (type)               Output Shape         Param #\n",
      "================================================================\n",
      "            Conv1d-1               [-1, 64, 38]             256\n",
      "         MaxPool1d-2               [-1, 64, 19]               0\n",
      "            Conv1d-3              [-1, 128, 17]          24,704\n",
      "              ReLU-4              [-1, 128, 17]               0\n",
      "         MaxPool1d-5               [-1, 128, 8]               0\n",
      "           Flatten-6                 [-1, 1024]               0\n",
      "            Linear-7                  [-1, 200]         205,000\n",
      "              ReLU-8                  [-1, 200]               0\n",
      "            Linear-9                   [-1, 10]           2,010\n",
      "================================================================\n",
      "Total params: 231,970\n",
      "Trainable params: 231,970\n",
      "Non-trainable params: 0\n",
      "----------------------------------------------------------------\n",
      "Input size (MB): 0.00\n",
      "Forward/backward pass size (MB): 0.08\n",
      "Params size (MB): 0.88\n",
      "Estimated Total Size (MB): 0.96\n",
      "----------------------------------------------------------------\n"
     ]
    }
   ],
   "source": [
    "# Example Neural Network with Conv1d\n",
    "model = nn.Sequential(\n",
    "    nn.Conv1d(1, 64, kernel_size=3, stride=1), \n",
    "    nn.MaxPool1d(kernel_size=2, stride=2),\n",
    "    nn.Conv1d(64, 128, kernel_size=3, stride=1),\n",
    "    nn.ReLU(),\n",
    "    nn.MaxPool1d(kernel_size=2, stride=2),\n",
    "    nn.Flatten(), \n",
    "    nn.Linear(128*8, 200), \n",
    "    nn.ReLU(), \n",
    "    nn.Linear(200, 10) \n",
    ").to(device)\n",
    "\n",
    "# Get summary \n",
    "from torchsummary import summary\n",
    "summary(model, (1, 40))"
   ]
  },
  {
   "cell_type": "markdown",
   "metadata": {},
   "source": [
    "## III. Conv1d_NN Neural Net"
   ]
  },
  {
   "cell_type": "code",
   "execution_count": 32,
   "metadata": {},
   "outputs": [
    {
     "name": "stdout",
     "output_type": "stream",
     "text": [
      "----------------------------------------------------------------\n",
      "        Layer (type)               Output Shape         Param #\n",
      "================================================================\n",
      "            Conv1d-1               [-1, 32, 27]           1,312\n",
      "         Conv1d_NN-2               [-1, 32, 27]               0\n",
      "              ReLU-3               [-1, 32, 27]               0\n",
      "         MaxPool1d-4               [-1, 32, 13]               0\n",
      "            Conv1d-5                [-1, 64, 5]          55,360\n",
      "         Conv1d_NN-6                [-1, 64, 5]               0\n",
      "              ReLU-7                [-1, 64, 5]               0\n",
      "         MaxPool1d-8                [-1, 64, 2]               0\n",
      "           Flatten-9                  [-1, 128]               0\n",
      "           Linear-10                   [-1, 64]           8,256\n",
      "             ReLU-11                   [-1, 64]               0\n",
      "           Linear-12                   [-1, 10]             650\n",
      "================================================================\n",
      "Total params: 65,578\n",
      "Trainable params: 65,578\n",
      "Non-trainable params: 0\n",
      "----------------------------------------------------------------\n",
      "Input size (MB): 0.00\n",
      "Forward/backward pass size (MB): 0.03\n",
      "Params size (MB): 0.25\n",
      "Estimated Total Size (MB): 0.28\n",
      "----------------------------------------------------------------\n"
     ]
    }
   ],
   "source": [
    "from NNT import NNT\n",
    "# Modified Neural Network with Conv1d\n",
    "model = nn.Sequential(\n",
    "    Conv1d_NN(in_channels=1, out_channels =32,kernel_size=40, K = 3),  # Change the number of input channels to 1\n",
    "    nn.ReLU(), \n",
    "    nn.MaxPool1d(kernel_size=2, stride=2),\n",
    "    Conv1d_NN(in_channels=32, out_channels=64, kernel_size=27, K = 3),\n",
    "    nn.ReLU(),\n",
    "    nn.MaxPool1d(kernel_size=2, stride=2),\n",
    "    nn.Flatten(), \n",
    "    nn.Linear(128, 64),  # Change the number of input features to match the output of the last convolutional layer\n",
    "    nn.ReLU(), \n",
    "    nn.Linear(64, 10) \n",
    ").to(device)\n",
    "\n",
    "# Get summary \n",
    "from torchsummary import summary\n",
    "summary(model, (1, 40))\n"
   ]
  },
  {
   "cell_type": "markdown",
   "metadata": {},
   "source": [
    "## IV. Load Data from MNIST1D"
   ]
  },
  {
   "cell_type": "code",
   "execution_count": null,
   "metadata": {},
   "outputs": [],
   "source": [
    "''' Visualization of data '''\n",
    "\n",
    "class ObjectView(object):\n",
    "    def __init__(self, d): self.__dict__ = d\n",
    "    \n",
    "def get_dataset_args(as_dict=False):\n",
    "    arg_dict = {'num_samples': 5000,\n",
    "            'train_split': 0.8,\n",
    "            'template_len': 12,\n",
    "            'padding': [36,60],\n",
    "            'scale_coeff': .4, \n",
    "            'max_translation': 48,\n",
    "            'corr_noise_scale': 0.25,\n",
    "            'iid_noise_scale': 2e-2,\n",
    "            'shear_scale': 0.75,\n",
    "            'shuffle_seq': False,\n",
    "            'final_seq_length': 40,\n",
    "            'seed': 42}\n",
    "    return arg_dict if as_dict else ObjectView(arg_dict)\n",
    "\n",
    "# transformations of the templates which will make them harder to fit\n",
    "def pad(x, padding):\n",
    "    low, high = padding\n",
    "    p = low + int(np.random.rand()*(high-low+1))\n",
    "    return np.concatenate([x, np.zeros((p))])\n",
    "\n",
    "def shear(x, scale=10):\n",
    "    coeff = scale*(np.random.rand() - 0.5)\n",
    "    return x - coeff*np.linspace(-0.5,.5,len(x))\n",
    "\n",
    "def translate(x, max_translation):\n",
    "    k = np.random.choice(max_translation)\n",
    "    return np.concatenate([x[-k:], x[:-k]])\n",
    "\n",
    "def corr_noise_like(x, scale):\n",
    "    noise = scale * np.random.randn(*x.shape)\n",
    "    return gaussian_filter(noise, 2)\n",
    "\n",
    "def iid_noise_like(x, scale):\n",
    "    noise = scale * np.random.randn(*x.shape)\n",
    "    return noise\n",
    "\n",
    "def interpolate(x, N):\n",
    "    scale = np.linspace(0,1,len(x))\n",
    "    new_scale = np.linspace(0,1,N)\n",
    "    new_x = interp1d(scale, x, axis=0, kind='linear')(new_scale)\n",
    "    return new_x\n",
    "\n",
    "def transform(x, y, args, eps=1e-8):\n",
    "    new_x = pad(x+eps, args.padding) # pad\n",
    "    new_x = interpolate(new_x, args.template_len + args.padding[-1])  # dilate\n",
    "    new_y = interpolate(y, args.template_len + args.padding[-1])\n",
    "    new_x *= (1 + args.scale_coeff*(np.random.rand() - 0.5))  # scale\n",
    "    new_x = translate(new_x, args.max_translation)  #translate\n",
    "    \n",
    "    # add noise\n",
    "    mask = new_x != 0\n",
    "    new_x = mask*new_x + (1-mask)*corr_noise_like(new_x, args.corr_noise_scale)\n",
    "    new_x = new_x + iid_noise_like(new_x, args.iid_noise_scale)\n",
    "    \n",
    "    # shear and interpolate\n",
    "    new_x = shear(new_x, args.shear_scale)\n",
    "    new_x = interpolate(new_x, args.final_seq_length) # subsample\n",
    "    new_y = interpolate(new_y, args.final_seq_length)\n",
    "    return new_x, new_y\n",
    "\n",
    "# Plotting\n",
    "def get_templates():\n",
    "    d0 = np.asarray([5,6,6.5,6.75,7,7,7,7,6.75,6.5,6,5])\n",
    "    d1 = np.asarray([5,3,3,3.4,3.8,4.2,4.6,5,5.4,5.8,5,5])\n",
    "    d2 = np.asarray([5,6,6.5,6.5,6,5.25,4.75,4,3.5,3.5,4,5])\n",
    "    d3 = np.asarray([5,6,6.5,6.5,6,5,5,6,6.5,6.5,6,5])\n",
    "    d4 = np.asarray([5,4.4,3.8,3.2,2.6,2.6,5,5,5,5,5,5])\n",
    "    d5 = np.asarray([5,3,3,3,3,5,6,6.5,6.5,6,4.5,5])\n",
    "    d6 = np.asarray([5,4,3.5,3.25,3,3,3,3,3.25,3.5,4,5])\n",
    "    d7 = np.asarray([5,7,7,6.6,6.2,5.8,5.4,5,4.6,4.2,5,5])\n",
    "    d8 = np.asarray([5,4,3.5,3.5,4,5,5,4,3.5,3.5,4,5])\n",
    "    d9 = np.asarray([5,4,3.5,3.5,4,5,5,5,5,4.7,4.3,5])\n",
    "    \n",
    "    x = np.stack([d0,d1,d2,d3,d4,d5,d6,d7,d8,d9])\n",
    "    x -= x.mean(1,keepdims=True) # whiten\n",
    "    x /= x.std(1,keepdims=True)\n",
    "    x -= x[:,:1]  # signal starts and ends at 0\n",
    "    \n",
    "    templates = {'x': x/6., 't': np.linspace(-5, 5, len(d0))/6.,\n",
    "                 'y': np.asarray([0,1,2,3,4,5,6,7,8,9])}\n",
    "    return templates\n",
    "\n",
    "def plot_signals(xs, t, labels=None, args=None, ratio=2.6, do_transform=False, dark_mode=False, zoom=1):\n",
    "    rows, cols = 1, 10\n",
    "    fig = plt.figure(figsize=[cols*1.5,rows*1.5*ratio], dpi=60)\n",
    "    for r in range(rows):\n",
    "        for c in range(cols):\n",
    "            ix = r*cols + c\n",
    "            x, t = xs[ix], t\n",
    "            ax = plt.subplot(rows,cols,ix+1)\n",
    "\n",
    "            # plot the data\n",
    "            if do_transform:\n",
    "                assert args is not None, \"Need an args object in order to do transforms\"\n",
    "                x, t = transform(x, t, args)  # optionally, transform the signal in some manner\n",
    "            if dark_mode:\n",
    "                plt.plot(x, t, 'wo', linewidth=6)\n",
    "                ax.set_facecolor('k')\n",
    "            else:\n",
    "                plt.plot(x, t, 'k-', linewidth=2)\n",
    "            if labels is not None:\n",
    "                plt.title(\"label=\" + str(labels[ix]), fontsize=22)\n",
    "\n",
    "            plt.xlim(-zoom,zoom) ; plt.ylim(-zoom,zoom)\n",
    "            plt.gca().invert_yaxis() ; plt.xticks([], []), plt.yticks([], [])\n",
    "    plt.subplots_adjust(wspace=0, hspace=0)\n",
    "    plt.tight_layout() ; plt.show()\n",
    "    return fig\n",
    "\n",
    "def apply_ablations(arg_dict, n=7):\n",
    "    ablations = [('shear_scale', 0),\n",
    "                ('iid_noise_scale', 0),\n",
    "                ('corr_noise_scale', 0),\n",
    "                 ('max_translation', 1),\n",
    "                 ('scale_coeff', 0),\n",
    "                 ('padding', [arg_dict['padding'][-1], arg_dict['padding'][-1]]),\n",
    "                 ('padding', [0, 0]),]\n",
    "    num_ablations = min(n, len(ablations))\n",
    "    for i in range(num_ablations):\n",
    "        k, v = ablations[i]\n",
    "        arg_dict[k] = v\n",
    "    return arg_dict\n",
    "\n",
    "templates = get_templates()\n",
    "for i, n in enumerate(reversed(range(8))):\n",
    "    np.random.seed(0)\n",
    "    arg_dict = get_dataset_args(as_dict=True)\n",
    "    arg_dict = apply_ablations(arg_dict, n=n)\n",
    "    args = ObjectView(arg_dict)\n",
    "    do_transform = args.padding[0] != 0\n",
    "    fig = plot_signals(templates['x'], templates['t'], labels=None if do_transform else templates['y'],\n",
    "                 args=args, ratio=2.2 if do_transform else 0.8,\n",
    "                 do_transform=do_transform)\n",
    "#     fig.savefig(PROJECT_DIR + 'static/transform_{}.png'.format(i))"
   ]
  },
  {
   "cell_type": "code",
   "execution_count": 25,
   "metadata": {},
   "outputs": [],
   "source": [
    "from mnist1d.data import make_dataset, get_dataset_args\n",
    "\n",
    "\n",
    "# Customize dataset \n",
    "class ObjectView(object):\n",
    "    def __init__(self, d): self.__dict__ = d\n",
    "    \n",
    "def get_dataset_args(as_dict=False):\n",
    "    arg_dict = {'num_samples': 5000,\n",
    "            'train_split': 0.8,\n",
    "            'template_len': 12,\n",
    "            'padding': [36,60],\n",
    "            'scale_coeff': .4, \n",
    "            'max_translation': 48,\n",
    "            'corr_noise_scale': 0.25,\n",
    "            'iid_noise_scale': 2e-2,\n",
    "            'shear_scale': 0.75,\n",
    "            'shuffle_seq': False,\n",
    "            'final_seq_length': 40,\n",
    "            'seed': 42}\n",
    "    return arg_dict if as_dict else ObjectView(arg_dict)\n",
    "\n",
    "\n",
    "# Creating Dataset \n",
    "defaults = get_dataset_args()\n",
    "\n",
    "data = make_dataset(defaults) \n",
    "x, y, t = torch.tensor(data['x'], dtype=torch.long).unsqueeze(1), torch.tensor(data['y'], dtype=torch.long), torch.tensor(data['t'], dtype=torch.long)\n",
    "x_test, y_test = torch.tensor(data['x_test'], dtype=torch.long).unsqueeze(1), torch.tensor(data['y_test'], dtype=torch.long)\n"
   ]
  },
  {
   "cell_type": "code",
   "execution_count": 27,
   "metadata": {},
   "outputs": [
    {
     "name": "stdout",
     "output_type": "stream",
     "text": [
      "torch.Size([4000, 1, 40]) torch.Size([4000]) torch.Size([40])\n",
      "torch.Size([1000, 1, 40]) torch.Size([1000])\n",
      "torch.int64 torch.int64 torch.int64\n"
     ]
    }
   ],
   "source": [
    "print(x.shape, y.shape, t.shape)\n",
    "print(x_test.shape, y_test.shape)\n",
    "print(x.dtype, y.dtype, t.dtype)"
   ]
  },
  {
   "cell_type": "code",
   "execution_count": 28,
   "metadata": {},
   "outputs": [],
   "source": [
    "# Configure data\n",
    "\n",
    "from torch.utils.data import Dataset, DataLoader \n",
    "\n",
    "class MNIST1DDataset(Dataset):\n",
    "    def __init__(self, x, y):\n",
    "        self.x = x\n",
    "        self.y = y\n",
    "\n",
    "    def __len__(self):\n",
    "        return len(self.x)\n",
    "\n",
    "    def __getitem__(self, idx):\n",
    "        return self.x[idx], self.y[idx]\n",
    "\n",
    "train_dataset = MNIST1DDataset(x, y) \n",
    "train_dl = DataLoader(train_dataset, batch_size=32, shuffle=True)\n",
    "\n",
    "test_dataset = MNIST1DDataset(x_test, y_test)\n",
    "test_dl = DataLoader(test_dataset, batch_size=32, shuffle=False)"
   ]
  },
  {
   "cell_type": "markdown",
   "metadata": {},
   "source": [
    "## V. Train model \n"
   ]
  },
  {
   "cell_type": "code",
   "execution_count": 29,
   "metadata": {},
   "outputs": [],
   "source": [
    "# Configure Training\n",
    "from torch.optim import Adam \n",
    "loss_fn = nn.CrossEntropyLoss()\n",
    "opt = Adam(model.parameters(), lr=1e-3)\n",
    "\n",
    "def train_batch(x, y, model, opt, loss_fn): \n",
    "    model.train() \n",
    "    \n",
    "    opt.zero_grad()\n",
    "    batch_loss = loss_fn(model(x), y)\n",
    "    batch_loss.backward()\n",
    "    opt.step()\n",
    "    \n",
    "    return batch_loss.detach().cpu().numpy()\n",
    "\n",
    "@torch.no_grad()\n",
    "def accuracy(x, y, model): \n",
    "    model.eval() \n",
    "    \n",
    "    prediction = model(x)\n",
    "    argmaxes = prediction.argmax(dim=1)\n",
    "    s = torch.sum(((argmaxes == y).float())/len(y))\n",
    "    return s.cpu().numpy()\n",
    "\n"
   ]
  },
  {
   "cell_type": "code",
   "execution_count": 31,
   "metadata": {},
   "outputs": [
    {
     "name": "stdout",
     "output_type": "stream",
     "text": [
      "Running epoch 1 of 5\n",
      "Running epoch 2 of 5\n",
      "Running epoch 3 of 5\n",
      "Running epoch 4 of 5\n",
      "Running epoch 5 of 5\n"
     ]
    }
   ],
   "source": [
    "# Training Network \n",
    "import numpy as np\n",
    "\n",
    "losses, accuracies = [], [] \n",
    "n_epochs = 5\n",
    "\n",
    "for epoch in range(n_epochs):\n",
    "    print(f\"Running epoch {epoch+1} of {n_epochs}\")\n",
    "    \n",
    "    epoch_losses, epoch_accuracies = [], []\n",
    "    \n",
    "    for batch in train_dl: \n",
    "        x, y = batch \n",
    "        batch_loss = train_batch(x, y, model, opt, loss_fn)\n",
    "        epoch_losses.append(batch_loss)\n",
    "    epoch_loss = np.mean(epoch_losses) \n",
    "    \n",
    "    for batch in train_dl: \n",
    "        x, y = batch \n",
    "        batch_acc = accuracy(x, y, model)\n",
    "        epoch_accuracies.append(batch_acc)\n",
    "    epoch_accuracy = np.mean(epoch_accuracies)\n",
    "    \n",
    "    losses.append(epoch_loss)\n",
    "    accuracies.append(epoch_accuracy)\n",
    "        "
   ]
  },
  {
   "cell_type": "code",
   "execution_count": 40,
   "metadata": {},
   "outputs": [
    {
     "data": {
      "text/plain": [
       "[<matplotlib.lines.Line2D at 0x34537e780>]"
      ]
     },
     "execution_count": 40,
     "metadata": {},
     "output_type": "execute_result"
    },
    {
     "data": {
      "image/png": "[encoded data removed]",
      "text/plain": [
       "<Figure size 1300x300 with 2 Axes>"
      ]
     },
     "metadata": {},
     "output_type": "display_data"
    }
   ],
   "source": [
    "# Visualize how it did during training \n",
    "import matplotlib.pyplot as plt\n",
    "plt.figure(figsize=(13, 3))\n",
    "plt.subplot(121)\n",
    "plt.title(\"Training Loss value over epochs\")\n",
    "plt.plot(np.arange(n_epochs) + 1, losses)\n",
    "plt.subplot(122)\n",
    "plt.title(\"Testing Accuracy value over epochs\") \n",
    "plt.plot(np.arange(n_epochs) + 1, accuracies)"
   ]
  },
  {
   "cell_type": "code",
   "execution_count": 39,
   "metadata": {},
   "outputs": [
    {
     "name": "stdout",
     "output_type": "stream",
     "text": [
      "Test accuracy: 0.089844\n"
     ]
    }
   ],
   "source": [
    "# Testing the learned classifier \n",
    "epoch_accuracies = [] \n",
    "for ix, batch in enumerate(iter(test_dl)): \n",
    "    x, y = batch \n",
    "    batch_acc = accuracy(x, y, model)\n",
    "    epoch_accuracies.append(batch_acc)\n",
    "\n",
    "print(f\"Test accuracy: {np.mean(epoch_accuracies):.6f}\")\n",
    "    "
   ]
  },
  {
   "cell_type": "code",
   "execution_count": null,
   "metadata": {},
   "outputs": [],
   "source": []
  }
 ],
 "metadata": {
  "kernelspec": {
   "display_name": "MK",
   "language": "python",
   "name": "python3"
  },
  "language_info": {
   "codemirror_mode": {
    "name": "ipython",
    "version": 3
   },
   "file_extension": ".py",
   "mimetype": "text/x-python",
   "name": "python",
   "nbconvert_exporter": "python",
   "pygments_lexer": "ipython3",
   "version": "3.1.undefined"
  }
 },
 "nbformat": 4,
 "nbformat_minor": 2
}
