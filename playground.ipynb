{
 "cells": [
  {
   "cell_type": "markdown",
   "metadata": {},
   "source": [
    "## 1D Convolution "
   ]
  },
  {
   "cell_type": "code",
   "execution_count": 2,
   "metadata": {},
   "outputs": [],
   "source": [
    "import torch\n",
    "import torch.nn as nn"
   ]
  },
  {
   "cell_type": "code",
   "execution_count": 8,
   "metadata": {},
   "outputs": [],
   "source": [
    "# Create a sample torch matrix \n",
    "\n",
    "matrix = torch.tensor([[2, 1], [5, 2], [1, 0], [4, 6], [3, 8]], dtype=torch.float32)\n",
    "\n",
    "kernel = torch.tensor([[1, 0], [0, 1], [2, 5]], dtype=torch.float32)"
   ]
  },
  {
   "cell_type": "code",
   "execution_count": 9,
   "metadata": {},
   "outputs": [
    {
     "name": "stdout",
     "output_type": "stream",
     "text": [
      "torch.Size([5, 2])\n",
      "torch.Size([3, 2])\n"
     ]
    }
   ],
   "source": [
    "print(matrix.shape)\n",
    "print(kernel.shape)"
   ]
  },
  {
   "cell_type": "code",
   "execution_count": 16,
   "metadata": {},
   "outputs": [
    {
     "name": "stdout",
     "output_type": "stream",
     "text": [
      "tensor([[2., 1.],\n",
      "        [5., 2.],\n",
      "        [1., 0.],\n",
      "        [4., 6.],\n",
      "        [3., 8.]])\n",
      "tensor([[1., 0.],\n",
      "        [0., 1.],\n",
      "        [2., 5.]])\n"
     ]
    }
   ],
   "source": [
    "print(matrix)\n",
    "print(kernel)"
   ]
  },
  {
   "cell_type": "code",
   "execution_count": 22,
   "metadata": {},
   "outputs": [
    {
     "name": "stdout",
     "output_type": "stream",
     "text": [
      "tensor([2., 1.])\n",
      "tensor([5., 2.])\n",
      "tensor([1., 0.])\n",
      "tensor([4., 6.])\n",
      "tensor([3., 8.])\n",
      "tensor(2.2361)\n"
     ]
    }
   ],
   "source": [
    "# iterating through matrix, through axis 0 (rows) \n",
    "for i in range(matrix.shape[0]): \n",
    "    print(matrix[i, :])\n",
    "\n",
    "print(torch.norm(matrix[0, :]))"
   ]
  },
  {
   "cell_type": "code",
   "execution_count": 19,
   "metadata": {},
   "outputs": [
    {
     "name": "stdout",
     "output_type": "stream",
     "text": [
      "tensor([ 3., -1.,  3.])\n"
     ]
    }
   ],
   "source": [
    "# example calculations \n",
    "a = torch.tensor([1, 2, 3], dtype=torch.float32)\n",
    "b = torch.tensor([4, 1, 6], dtype=torch.float32)\n",
    "\n",
    "print(b - a)\n",
    "\n",
    "result = torch.norm(b)\n",
    "print(result)"
   ]
  },
  {
   "cell_type": "code",
   "execution_count": 56,
   "metadata": {},
   "outputs": [
    {
     "name": "stdout",
     "output_type": "stream",
     "text": [
      "tensor([[2., 1.],\n",
      "        [5., 2.],\n",
      "        [1., 0.],\n",
      "        [4., 6.],\n",
      "        [3., 8.]])\n",
      "tensor([1., 2., 3.])\n",
      "tensor([2, 0, 4])\n",
      "tensor([2., 1.])\n"
     ]
    }
   ],
   "source": [
    "# getting the minimum value of a tensor\n",
    "matrix = torch.tensor([[2, 1], [5, 2], [1, 0], [4, 6], [3, 8]], dtype=torch.float32)\n",
    "print(matrix)\n",
    "\n",
    "min_value_row = torch.topk(matrix[:,0], 3, largest=False).values\n",
    "print(min_value_row)\n",
    "\n",
    "min_indicies_row = torch.topk(matrix[:,0], 3, largest=False).indices\n",
    "print(min_indicies_row)\n",
    "\n",
    "print(matrix[0, :])"
   ]
  },
  {
   "cell_type": "code",
   "execution_count": 59,
   "metadata": {},
   "outputs": [
    {
     "name": "stdout",
     "output_type": "stream",
     "text": [
      "torch.Size([3, 2])\n",
      "torch.Size([6, 2])\n",
      "tensor([[1., 0.],\n",
      "        [2., 1.],\n",
      "        [3., 8.],\n",
      "        [1., 0.],\n",
      "        [2., 1.],\n",
      "        [3., 8.]])\n"
     ]
    }
   ],
   "source": [
    "min_rows = matrix[min_indicies_row]\n",
    "print(min_rows.shape)\n",
    "\n",
    "tensor_list = [min_rows, min_rows]\n",
    "cat = torch.cat(tensor_list, dim=0)\n",
    "print(cat.shape)\n",
    "print(cat)\n"
   ]
  },
  {
   "cell_type": "code",
   "execution_count": 46,
   "metadata": {},
   "outputs": [
    {
     "name": "stdout",
     "output_type": "stream",
     "text": [
      "tensor([[1, 2, 3],\n",
      "        [4, 5, 6],\n",
      "        [7, 8, 9]])\n"
     ]
    }
   ],
   "source": [
    "\n",
    "# Create a list of tensors\n",
    "tensor_list = [torch.tensor([1, 2, 3]), torch.tensor([4, 5, 6]), torch.tensor([7, 8, 9])]\n",
    "\n",
    "# Stack the tensors along a new dimension\n",
    "stacked_tensors = torch.stack(tensor_list)\n",
    "\n",
    "# Sum the stacked tensors along the appropriate dimension\n",
    "summed_tensors = torch.sum(stacked_tensors, dim=0)\n",
    "\n",
    "print(stacked_tensors)"
   ]
  },
  {
   "cell_type": "markdown",
   "metadata": {},
   "source": [
    "## Example object + convolution 2d & 1d"
   ]
  },
  {
   "cell_type": "code",
   "execution_count": 2,
   "metadata": {},
   "outputs": [],
   "source": [
    "''' Nearest neighbor search with Pytorch Tensors '''\n",
    "import torch\n",
    "\n",
    "\n",
    "    \n",
    "class NNT: # Nearest Neighbor Tensor\n",
    "    def __init__(self, matrix, kernel): \n",
    "        self._matrix = matrix \n",
    "        self._kernel = kernel\n",
    "\n",
    "        # Calculate the distance matrix\n",
    "        self._dist_matrix = torch.zeros(matrix.shape[0], matrix.shape[0])\n",
    "        for i in range(matrix.shape[0]):\n",
    "            for j in range(matrix.shape[0]):\n",
    "                self._dist_matrix[i, j] = torch.norm(matrix[i] - matrix[j])\n",
    "\n",
    "        self._num_closest = int(kernel.shape[0])\n",
    "        self._convolution_matrix = self.calc_convolution_matrix()\n",
    "\n",
    "    @property \n",
    "    def matrix(self): \n",
    "        '''Returns the matrix of the NNT object'''\n",
    "        return self._matrix\n",
    "    \n",
    "    @property \n",
    "    def kernel(self): \n",
    "        '''Returns the kernel of the NNT object'''\n",
    "        return self._kernel\n",
    "    \n",
    "    @property \n",
    "    def dist_matrix(self): \n",
    "        '''Returns the distance matrix of the NNT object'''\n",
    "        return self._dist_matrix\n",
    "    \n",
    "\n",
    "    @property \n",
    "    def num_closest(self): \n",
    "        '''Returns the number of closest neighbors to be used in the convolution matrix'''\n",
    "        return self._num_closest\n",
    "        \n",
    "    \n",
    "    @property \n",
    "    def convolution_matrix(self): \n",
    "        '''Returns the convolution matrix of the NNT object'''\n",
    "        return self._convolution_matrix\n",
    "    \n",
    "    @matrix.setter \n",
    "    def matrix(self, value): \n",
    "        # Check if the matrix is a torch.Tensor\n",
    "        if not isinstance(value, torch.Tensor): \n",
    "            raise ValueError(\"Matrix must be a torch.Tensor\")\n",
    "        self._matrix = value\n",
    "        \n",
    "\n",
    "                \n",
    "                \n",
    "    @kernel.setter\n",
    "    def kernel(self, value): \n",
    "        # Check if the kernel is a torch.Tensor\n",
    "        if not isinstance(value, torch.Tensor): \n",
    "            raise ValueError(\"Kernel must be a torch.Tensor\")\n",
    "        \n",
    "        # No Errors \n",
    "        self._kernel = value\n",
    "        \n",
    "    @num_closest.setter\n",
    "    def num_closest(self, value): \n",
    "        # Check if the number of closest neighbors is less than the number of rows in the matrix\n",
    "        if value > self._matrix.shape[0]:\n",
    "            raise ValueError(\"Number of closest neighbors cannot exceed the number of rows in the matrix\")\n",
    "        self._num_closest = value\n",
    "        \n",
    "    def calc_convolution_matrix(self): \n",
    "        tensor_list = [] \n",
    "        for i in range(self._matrix.shape[0]): \n",
    "            # Get the indices of the closest neighbors from the distance matrix\n",
    "            min_indicies = torch.topk(self._dist_matrix[:, i], self.num_closest, largest=False).indices\n",
    "            \n",
    "            # Get the rows of the matrix that correspond to the closest neighbors\n",
    "            min_rows = self._matrix[min_indicies]\n",
    "            \n",
    "            # Append the rows to the tensor list for later concatenation \n",
    "            tensor_list.append(min_rows)\n",
    "            \n",
    "        # Concatenate the tensor list to create the convolution matrix\n",
    "        return torch.cat(tensor_list, dim=0)\n",
    "            \n",
    "            \n",
    "        \n",
    "\n",
    "        \n"
   ]
  },
  {
   "cell_type": "code",
   "execution_count": 3,
   "metadata": {},
   "outputs": [],
   "source": [
    "ex_matrix = torch.tensor([[2, 1], [5, 2], [1, 0], [4, 6], [3, 8]], dtype=torch.float32)\n",
    "ex_kernel = torch.tensor([[1, 0], [0, 1], [2, 5]], dtype=torch.float32)\n",
    "\n",
    "example = NNT(ex_matrix, ex_kernel)\n"
   ]
  },
  {
   "cell_type": "code",
   "execution_count": 4,
   "metadata": {},
   "outputs": [
    {
     "data": {
      "text/plain": [
       "torch.Size([15, 2])"
      ]
     },
     "execution_count": 4,
     "metadata": {},
     "output_type": "execute_result"
    }
   ],
   "source": [
    "example.convolution_matrix.shape\n"
   ]
  },
  {
   "cell_type": "code",
   "execution_count": 6,
   "metadata": {},
   "outputs": [
    {
     "name": "stdout",
     "output_type": "stream",
     "text": [
      "torch.Size([1, 1, 15, 2])\n",
      "tensor([[[[2., 1.],\n",
      "          [1., 0.],\n",
      "          [5., 2.],\n",
      "          [5., 2.],\n",
      "          [2., 1.],\n",
      "          [4., 6.],\n",
      "          [1., 0.],\n",
      "          [2., 1.],\n",
      "          [5., 2.],\n",
      "          [4., 6.],\n",
      "          [3., 8.],\n",
      "          [5., 2.],\n",
      "          [3., 8.],\n",
      "          [4., 6.],\n",
      "          [5., 2.]]]])\n"
     ]
    }
   ],
   "source": [
    "a = example.convolution_matrix.unsqueeze(0).unsqueeze(1)\n",
    "\n",
    "print(a.shape)\n",
    "print(a)\n"
   ]
  },
  {
   "cell_type": "code",
   "execution_count": 12,
   "metadata": {},
   "outputs": [
    {
     "name": "stdout",
     "output_type": "stream",
     "text": [
      "torch.Size([1, 1, 5, 1])\n",
      "tensor([[[[-1.7648],\n",
      "          [-3.9012],\n",
      "          [-1.6820],\n",
      "          [-3.1558],\n",
      "          [-2.5407]]]], grad_fn=<ConvolutionBackward0>)\n",
      "Parameter containing:\n",
      "tensor([[[[-0.2990,  0.0542],\n",
      "          [-0.0388, -0.1233],\n",
      "          [-0.0707, -0.3005]]]], requires_grad=True)\n"
     ]
    }
   ],
   "source": [
    "# using the Conv2d layer in Pytorch\n",
    "import torch \n",
    "from torch import nn \n",
    "\n",
    "# create filter \n",
    "\n",
    "a = example.convolution_matrix.unsqueeze(0).unsqueeze(1)\n",
    "\n",
    "filter = torch.rand(1, 3, 2) \n",
    "\n",
    "conv2d_layer = nn.Conv2d(in_channels=1, out_channels=1, kernel_size=(3, 2), stride = 3)\n",
    "\n",
    "a2 = conv2d_layer(a)\n",
    "\n",
    "print(a2.shape)\n",
    "print(a2)\n",
    "\n",
    "print(conv2d_layer.weight)"
   ]
  },
  {
   "cell_type": "code",
   "execution_count": 10,
   "metadata": {},
   "outputs": [
    {
     "ename": "RuntimeError",
     "evalue": "Calculated padded input size per channel: (2). Kernel size: (3). Kernel size can't be greater than actual input size",
     "output_type": "error",
     "traceback": [
      "\u001b[0;31m---------------------------------------------------------------------------\u001b[0m",
      "\u001b[0;31mRuntimeError\u001b[0m                              Traceback (most recent call last)",
      "Cell \u001b[0;32mIn[10], line 10\u001b[0m\n\u001b[1;32m      6\u001b[0m \u001b[38;5;28mfilter\u001b[39m \u001b[38;5;241m=\u001b[39m torch\u001b[38;5;241m.\u001b[39mrandn(\u001b[38;5;241m1\u001b[39m, \u001b[38;5;241m3\u001b[39m, \u001b[38;5;241m2\u001b[39m) \u001b[38;5;66;03m# 1 output channel, 3x2 filter size\u001b[39;00m\n\u001b[1;32m      8\u001b[0m conv1d_layer \u001b[38;5;241m=\u001b[39m nn\u001b[38;5;241m.\u001b[39mConv1d(in_channels\u001b[38;5;241m=\u001b[39m\u001b[38;5;241m1\u001b[39m, out_channels\u001b[38;5;241m=\u001b[39m\u001b[38;5;241m1\u001b[39m, kernel_size\u001b[38;5;241m=\u001b[39m\u001b[38;5;241m3\u001b[39m, stride \u001b[38;5;241m=\u001b[39m \u001b[38;5;241m3\u001b[39m)\n\u001b[0;32m---> 10\u001b[0m b2 \u001b[38;5;241m=\u001b[39m \u001b[43mconv1d_layer\u001b[49m\u001b[43m(\u001b[49m\u001b[43mb\u001b[49m\u001b[43m)\u001b[49m\n\u001b[1;32m     12\u001b[0m \u001b[38;5;28mprint\u001b[39m(b2\u001b[38;5;241m.\u001b[39mshape)\n",
      "File \u001b[0;32m~/miniforge3/envs/MK/lib/python3.12/site-packages/torch/nn/modules/module.py:1511\u001b[0m, in \u001b[0;36mModule._wrapped_call_impl\u001b[0;34m(self, *args, **kwargs)\u001b[0m\n\u001b[1;32m   1509\u001b[0m     \u001b[38;5;28;01mreturn\u001b[39;00m \u001b[38;5;28mself\u001b[39m\u001b[38;5;241m.\u001b[39m_compiled_call_impl(\u001b[38;5;241m*\u001b[39margs, \u001b[38;5;241m*\u001b[39m\u001b[38;5;241m*\u001b[39mkwargs)  \u001b[38;5;66;03m# type: ignore[misc]\u001b[39;00m\n\u001b[1;32m   1510\u001b[0m \u001b[38;5;28;01melse\u001b[39;00m:\n\u001b[0;32m-> 1511\u001b[0m     \u001b[38;5;28;01mreturn\u001b[39;00m \u001b[38;5;28;43mself\u001b[39;49m\u001b[38;5;241;43m.\u001b[39;49m\u001b[43m_call_impl\u001b[49m\u001b[43m(\u001b[49m\u001b[38;5;241;43m*\u001b[39;49m\u001b[43margs\u001b[49m\u001b[43m,\u001b[49m\u001b[43m \u001b[49m\u001b[38;5;241;43m*\u001b[39;49m\u001b[38;5;241;43m*\u001b[39;49m\u001b[43mkwargs\u001b[49m\u001b[43m)\u001b[49m\n",
      "File \u001b[0;32m~/miniforge3/envs/MK/lib/python3.12/site-packages/torch/nn/modules/module.py:1520\u001b[0m, in \u001b[0;36mModule._call_impl\u001b[0;34m(self, *args, **kwargs)\u001b[0m\n\u001b[1;32m   1515\u001b[0m \u001b[38;5;66;03m# If we don't have any hooks, we want to skip the rest of the logic in\u001b[39;00m\n\u001b[1;32m   1516\u001b[0m \u001b[38;5;66;03m# this function, and just call forward.\u001b[39;00m\n\u001b[1;32m   1517\u001b[0m \u001b[38;5;28;01mif\u001b[39;00m \u001b[38;5;129;01mnot\u001b[39;00m (\u001b[38;5;28mself\u001b[39m\u001b[38;5;241m.\u001b[39m_backward_hooks \u001b[38;5;129;01mor\u001b[39;00m \u001b[38;5;28mself\u001b[39m\u001b[38;5;241m.\u001b[39m_backward_pre_hooks \u001b[38;5;129;01mor\u001b[39;00m \u001b[38;5;28mself\u001b[39m\u001b[38;5;241m.\u001b[39m_forward_hooks \u001b[38;5;129;01mor\u001b[39;00m \u001b[38;5;28mself\u001b[39m\u001b[38;5;241m.\u001b[39m_forward_pre_hooks\n\u001b[1;32m   1518\u001b[0m         \u001b[38;5;129;01mor\u001b[39;00m _global_backward_pre_hooks \u001b[38;5;129;01mor\u001b[39;00m _global_backward_hooks\n\u001b[1;32m   1519\u001b[0m         \u001b[38;5;129;01mor\u001b[39;00m _global_forward_hooks \u001b[38;5;129;01mor\u001b[39;00m _global_forward_pre_hooks):\n\u001b[0;32m-> 1520\u001b[0m     \u001b[38;5;28;01mreturn\u001b[39;00m \u001b[43mforward_call\u001b[49m\u001b[43m(\u001b[49m\u001b[38;5;241;43m*\u001b[39;49m\u001b[43margs\u001b[49m\u001b[43m,\u001b[49m\u001b[43m \u001b[49m\u001b[38;5;241;43m*\u001b[39;49m\u001b[38;5;241;43m*\u001b[39;49m\u001b[43mkwargs\u001b[49m\u001b[43m)\u001b[49m\n\u001b[1;32m   1522\u001b[0m \u001b[38;5;28;01mtry\u001b[39;00m:\n\u001b[1;32m   1523\u001b[0m     result \u001b[38;5;241m=\u001b[39m \u001b[38;5;28;01mNone\u001b[39;00m\n",
      "File \u001b[0;32m~/miniforge3/envs/MK/lib/python3.12/site-packages/torch/nn/modules/conv.py:310\u001b[0m, in \u001b[0;36mConv1d.forward\u001b[0;34m(self, input)\u001b[0m\n\u001b[1;32m    309\u001b[0m \u001b[38;5;28;01mdef\u001b[39;00m \u001b[38;5;21mforward\u001b[39m(\u001b[38;5;28mself\u001b[39m, \u001b[38;5;28minput\u001b[39m: Tensor) \u001b[38;5;241m-\u001b[39m\u001b[38;5;241m>\u001b[39m Tensor:\n\u001b[0;32m--> 310\u001b[0m     \u001b[38;5;28;01mreturn\u001b[39;00m \u001b[38;5;28;43mself\u001b[39;49m\u001b[38;5;241;43m.\u001b[39;49m\u001b[43m_conv_forward\u001b[49m\u001b[43m(\u001b[49m\u001b[38;5;28;43minput\u001b[39;49m\u001b[43m,\u001b[49m\u001b[43m \u001b[49m\u001b[38;5;28;43mself\u001b[39;49m\u001b[38;5;241;43m.\u001b[39;49m\u001b[43mweight\u001b[49m\u001b[43m,\u001b[49m\u001b[43m \u001b[49m\u001b[38;5;28;43mself\u001b[39;49m\u001b[38;5;241;43m.\u001b[39;49m\u001b[43mbias\u001b[49m\u001b[43m)\u001b[49m\n",
      "File \u001b[0;32m~/miniforge3/envs/MK/lib/python3.12/site-packages/torch/nn/modules/conv.py:306\u001b[0m, in \u001b[0;36mConv1d._conv_forward\u001b[0;34m(self, input, weight, bias)\u001b[0m\n\u001b[1;32m    302\u001b[0m \u001b[38;5;28;01mif\u001b[39;00m \u001b[38;5;28mself\u001b[39m\u001b[38;5;241m.\u001b[39mpadding_mode \u001b[38;5;241m!=\u001b[39m \u001b[38;5;124m'\u001b[39m\u001b[38;5;124mzeros\u001b[39m\u001b[38;5;124m'\u001b[39m:\n\u001b[1;32m    303\u001b[0m     \u001b[38;5;28;01mreturn\u001b[39;00m F\u001b[38;5;241m.\u001b[39mconv1d(F\u001b[38;5;241m.\u001b[39mpad(\u001b[38;5;28minput\u001b[39m, \u001b[38;5;28mself\u001b[39m\u001b[38;5;241m.\u001b[39m_reversed_padding_repeated_twice, mode\u001b[38;5;241m=\u001b[39m\u001b[38;5;28mself\u001b[39m\u001b[38;5;241m.\u001b[39mpadding_mode),\n\u001b[1;32m    304\u001b[0m                     weight, bias, \u001b[38;5;28mself\u001b[39m\u001b[38;5;241m.\u001b[39mstride,\n\u001b[1;32m    305\u001b[0m                     _single(\u001b[38;5;241m0\u001b[39m), \u001b[38;5;28mself\u001b[39m\u001b[38;5;241m.\u001b[39mdilation, \u001b[38;5;28mself\u001b[39m\u001b[38;5;241m.\u001b[39mgroups)\n\u001b[0;32m--> 306\u001b[0m \u001b[38;5;28;01mreturn\u001b[39;00m \u001b[43mF\u001b[49m\u001b[38;5;241;43m.\u001b[39;49m\u001b[43mconv1d\u001b[49m\u001b[43m(\u001b[49m\u001b[38;5;28;43minput\u001b[39;49m\u001b[43m,\u001b[49m\u001b[43m \u001b[49m\u001b[43mweight\u001b[49m\u001b[43m,\u001b[49m\u001b[43m \u001b[49m\u001b[43mbias\u001b[49m\u001b[43m,\u001b[49m\u001b[43m \u001b[49m\u001b[38;5;28;43mself\u001b[39;49m\u001b[38;5;241;43m.\u001b[39;49m\u001b[43mstride\u001b[49m\u001b[43m,\u001b[49m\n\u001b[1;32m    307\u001b[0m \u001b[43m                \u001b[49m\u001b[38;5;28;43mself\u001b[39;49m\u001b[38;5;241;43m.\u001b[39;49m\u001b[43mpadding\u001b[49m\u001b[43m,\u001b[49m\u001b[43m \u001b[49m\u001b[38;5;28;43mself\u001b[39;49m\u001b[38;5;241;43m.\u001b[39;49m\u001b[43mdilation\u001b[49m\u001b[43m,\u001b[49m\u001b[43m \u001b[49m\u001b[38;5;28;43mself\u001b[39;49m\u001b[38;5;241;43m.\u001b[39;49m\u001b[43mgroups\u001b[49m\u001b[43m)\u001b[49m\n",
      "\u001b[0;31mRuntimeError\u001b[0m: Calculated padded input size per channel: (2). Kernel size: (3). Kernel size can't be greater than actual input size"
     ]
    }
   ],
   "source": [
    "# using Conv1d layer in Pytorch \n",
    "import torch \n",
    "from torch import nn \n",
    "b = example.convolution_matrix.unsqueeze(1)\n",
    "\n",
    "filter = torch.randn(1, 3, 2) # 1 output channel, 3x2 filter size\n",
    "\n",
    "conv1d_layer = nn.Conv1d(in_channels=1, out_channels=1, kernel_size=3, stride = 3)\n",
    "\n",
    "b2 = conv1d_layer(b)\n",
    "\n",
    "print(b2.shape)"
   ]
  },
  {
   "cell_type": "code",
   "execution_count": null,
   "metadata": {},
   "outputs": [],
   "source": []
  }
 ],
 "metadata": {
  "kernelspec": {
   "display_name": "MK",
   "language": "python",
   "name": "python3"
  },
  "language_info": {
   "codemirror_mode": {
    "name": "ipython",
    "version": 3
   },
   "file_extension": ".py",
   "mimetype": "text/x-python",
   "name": "python",
   "nbconvert_exporter": "python",
   "pygments_lexer": "ipython3",
   "version": "3.1.-1"
  }
 },
 "nbformat": 4,
 "nbformat_minor": 2
}
